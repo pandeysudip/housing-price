{
 "cells": [
  {
   "cell_type": "code",
   "execution_count": 1,
   "id": "266c2fbb",
   "metadata": {},
   "outputs": [],
   "source": [
    "# Dependencies and Setup\n",
    "import pandas as pd\n",
    "import matplotlib.pyplot as plt\n",
    "import seaborn as sns\n",
    "import numpy as np\n",
    "from matplotlib import rcParams\n",
    "import scipy.stats as sts\n",
    "import os\n",
    "from collections import Counter\n",
    "import requests\n",
    "import json\n",
    "\n",
    "# Google API Key\n",
    "from api_keys import gkey"
   ]
  },
  {
   "cell_type": "code",
   "execution_count": 2,
   "id": "cc022df3",
   "metadata": {},
   "outputs": [],
   "source": [
    "#setting background of figure black\n",
    "plt.style.use('ggplot')"
   ]
  },
  {
   "cell_type": "code",
   "execution_count": 3,
   "id": "7555c9b9",
   "metadata": {},
   "outputs": [],
   "source": [
    "#Set Fonts/Plot Style\n",
    "rcParams['figure.figsize'] = [15.0, 10.0]\n",
    "rcParams['figure.dpi'] = 80\n",
    "rcParams['savefig.dpi'] = 100\n",
    "rcParams['font.size'] = 20\n",
    "rcParams['legend.fontsize'] = 'large'\n",
    "rcParams['figure.titlesize'] = 'medium'\n",
    "rcParams['font.family'] = 'sans-serif'\n",
    "rcParams['font.sans-serif'] = ['Arial']\n",
    "rcParams['xtick.direction'] = 'in'\n",
    "rcParams['ytick.direction'] = 'in'\n",
    "rcParams['xtick.top'] = True\n",
    "rcParams['ytick.right'] = True\n",
    "rcParams['xtick.major.size'] = 10\n",
    "rcParams['ytick.major.size'] = 10\n",
    "rcParams['xtick.minor.size'] = 5\n",
    "rcParams['ytick.minor.size'] = 5\n",
    "rcParams['xtick.minor.visible'] = True\n",
    "rcParams['ytick.minor.visible'] = True"
   ]
  },
  {
   "cell_type": "code",
   "execution_count": null,
   "id": "1bcd80f7",
   "metadata": {},
   "outputs": [],
   "source": []
  }
 ],
 "metadata": {
  "kernelspec": {
   "display_name": "Python 3",
   "language": "python",
   "name": "python3"
  },
  "language_info": {
   "codemirror_mode": {
    "name": "ipython",
    "version": 3
   },
   "file_extension": ".py",
   "mimetype": "text/x-python",
   "name": "python",
   "nbconvert_exporter": "python",
   "pygments_lexer": "ipython3",
   "version": "3.6.13"
  }
 },
 "nbformat": 4,
 "nbformat_minor": 5
}
