{
 "cells": [
  {
   "cell_type": "code",
   "execution_count": 4,
   "id": "3f663624",
   "metadata": {},
   "outputs": [],
   "source": [
    "# Dependencies and Setup\n",
    "import pandas as pd\n",
    "import matplotlib.pyplot as plt\n",
    "import seaborn as sns\n",
    "import numpy as np\n",
    "from matplotlib import rcParams\n",
    "import scipy.stats as sts\n",
    "import os\n",
    "from collections import Counter\n",
    "import requests\n",
    "import json\n",
    "\n",
    "# Google API Key\n",
    "from api_keys import gkey"
   ]
  },
  {
   "cell_type": "code",
   "execution_count": 5,
   "id": "be4f8c9e",
   "metadata": {},
   "outputs": [],
   "source": [
    "#setting background of figure black\n",
    "plt.style.use('ggplot')"
   ]
  },
  {
   "cell_type": "code",
   "execution_count": 7,
   "id": "c55814d5",
   "metadata": {},
   "outputs": [],
   "source": [
    "#Set Fonts/Plot Style\n",
    "rcParams['figure.figsize'] = [15.0, 10.0]\n",
    "rcParams['figure.dpi'] = 80\n",
    "rcParams['savefig.dpi'] = 100\n",
    "rcParams['font.size'] = 20\n",
    "rcParams['legend.fontsize'] = 'large'\n",
    "rcParams['figure.titlesize'] = 'medium'\n",
    "rcParams['font.family'] = 'sans-serif'\n",
    "rcParams['font.sans-serif'] = ['Arial']\n",
    "rcParams['xtick.direction'] = 'in'\n",
    "rcParams['ytick.direction'] = 'in'\n",
    "rcParams['xtick.top'] = True\n",
    "rcParams['ytick.right'] = True\n",
    "rcParams['xtick.major.size'] = 10\n",
    "rcParams['ytick.major.size'] = 10\n",
    "rcParams['xtick.minor.size'] = 5\n",
    "rcParams['ytick.minor.size'] = 5\n",
    "rcParams['xtick.minor.visible'] = True\n",
    "rcParams['ytick.minor.visible'] = True"
   ]
  },
  {
   "cell_type": "markdown",
   "id": "1861bd49",
   "metadata": {},
   "source": [
    "## Reading clean California census data for plotting"
   ]
  },
  {
   "cell_type": "code",
   "execution_count": 8,
   "id": "7a630611",
   "metadata": {},
   "outputs": [],
   "source": [
    "#reading 2012 clean california census data\n",
    "path_ca_2012=os.path.join('output_census', 'ca_2012_fg.csv')\n",
    "ca_2012=pd.read_csv(path_ca_2012)\n",
    "\n",
    "#reading 2014 clean california census data\n",
    "path_ca_2014=os.path.join('output_census', 'ca_2014_fg.csv')\n",
    "ca_2014=pd.read_csv(path_ca_2014)\n",
    "\n",
    "#reading 2015 clean california census data\n",
    "path_ca_2015=os.path.join('output_census', 'ca_2015_fg.csv')\n",
    "ca_2015=pd.read_csv(path_ca_2015)\n",
    "\n",
    "#reading 2017 clean california census data\n",
    "path_ca_2017=os.path.join('output_census', 'ca_2017_fg.csv')\n",
    "ca_2017=pd.read_csv(path_ca_2017)\n",
    "\n",
    "#reading 2019 clean california census data\n",
    "path_ca_2019=os.path.join('output_census', 'ca_2019_fg.csv')\n",
    "ca_2019=pd.read_csv(path_ca_2019)"
   ]
  },
  {
   "cell_type": "markdown",
   "id": "244f627e",
   "metadata": {},
   "source": [
    "## California Census 2012 Figures"
   ]
  },
  {
   "cell_type": "code",
   "execution_count": null,
   "id": "bf2db200",
   "metadata": {},
   "outputs": [],
   "source": [
    "ca_2012.head()"
   ]
  },
  {
   "cell_type": "code",
   "execution_count": null,
   "id": "0b80da61",
   "metadata": {},
   "outputs": [],
   "source": [
    "ca_2012.columns"
   ]
  },
  {
   "cell_type": "code",
   "execution_count": null,
   "id": "7ebf8809",
   "metadata": {},
   "outputs": [],
   "source": [
    "#plotting scatter plot of lat and lng\n",
    "fig, ax=plt.subplots(figsize=(15,15))\n",
    "ca_2012.plot(kind='scatter', x='Lng', y='Lat', alpha=0.4, \n",
    "                s=ca_2012['Population']/100,label='Population',\n",
    "                 c='House Value', cmap=plt.get_cmap('rainbow'),\n",
    "                colorbar=True, ax=ax)\n",
    "\n",
    "plt.show()"
   ]
  },
  {
   "cell_type": "code",
   "execution_count": null,
   "id": "f37ca289",
   "metadata": {},
   "outputs": [],
   "source": [
    "#plotting scatter plot of lat and lng\n",
    "fig, ax=plt.subplots(figsize=(15,15))\n",
    "ca_2012.plot(kind='scatter', x='Lng', y='Lat', alpha=0.3, \n",
    "                s=ca_2012['Population']/100,label='Population',\n",
    "                 c='Household Income', cmap=plt.get_cmap('hsv'),\n",
    "                colorbar=True, ax=ax)\n",
    "\n",
    "plt.show()"
   ]
  },
  {
   "cell_type": "code",
   "execution_count": null,
   "id": "88182e79",
   "metadata": {},
   "outputs": [],
   "source": []
  },
  {
   "cell_type": "code",
   "execution_count": null,
   "id": "3867ec28",
   "metadata": {},
   "outputs": [],
   "source": []
  },
  {
   "cell_type": "code",
   "execution_count": null,
   "id": "e087e24a",
   "metadata": {},
   "outputs": [],
   "source": [
    "#selecting only important columns\n",
    "ca_12=ca_2012[['City','Population', 'House Value','Household Income',\n",
    "       'Poverty Rate', 'Unemployment Rate','Monthly Owner Cost', 'Monthly Rent',\n",
    "       'Public Transport Rate', 'Uneducated Rate' ]]"
   ]
  },
  {
   "cell_type": "code",
   "execution_count": null,
   "id": "fe14c27c",
   "metadata": {},
   "outputs": [],
   "source": [
    "#using groupby method to groupby the data according to city\n",
    "ca_12=ca_2012.groupby('City').agg({'Population':'sum',\n",
    "                              'House Value':'mean',\n",
    "                               'Household Income':'mean',\n",
    "                               'Poverty Rate':'mean',\n",
    "                               'Unemployment Rate':'mean',\n",
    "                               'Monthly Owner Cost':'mean',\n",
    "                               'Monthly Rent':'mean',\n",
    "                               'Public Transport Rate':'mean',\n",
    "                               'Uneducated Rate':'mean'}).reset_index()"
   ]
  },
  {
   "cell_type": "code",
   "execution_count": null,
   "id": "3b86bbac",
   "metadata": {},
   "outputs": [],
   "source": [
    "#sorting data according to the population\n",
    "ca_12=ca_12.sort_values(by=['House Value',\n",
    "                                'Monthly Owner Cost','Household Income',\n",
    "                                'Poverty Rate','Unemployment Rate',\n",
    "                                'Public Transport Rate','Monthly Rent', \n",
    "                                'Uneducated Rate' ], ascending=False)"
   ]
  },
  {
   "cell_type": "code",
   "execution_count": null,
   "id": "21d28e96",
   "metadata": {},
   "outputs": [],
   "source": [
    "#plotting all correlation using seaborn heatmap\n",
    "corr_12=ca_12.corr()\n",
    "import seaborn as sns\n",
    "fig, ax=plt.subplots(figsize=(15,15))\n",
    "sns.heatmap(corr_12,vmin=-1, vmax=1, ax=ax, cmap='BrBG')#annot=True,\n",
    "plt.show()"
   ]
  },
  {
   "cell_type": "code",
   "execution_count": null,
   "id": "b14d66dd",
   "metadata": {},
   "outputs": [],
   "source": [
    "#city with higher house value\n",
    "ca_12.nlargest(10, 'House Value')"
   ]
  },
  {
   "cell_type": "code",
   "execution_count": null,
   "id": "927fac6a",
   "metadata": {},
   "outputs": [],
   "source": []
  },
  {
   "cell_type": "code",
   "execution_count": null,
   "id": "479ec11e",
   "metadata": {},
   "outputs": [],
   "source": []
  },
  {
   "cell_type": "code",
   "execution_count": null,
   "id": "2224d7fe",
   "metadata": {},
   "outputs": [],
   "source": []
  },
  {
   "cell_type": "code",
   "execution_count": null,
   "id": "9b0437af",
   "metadata": {},
   "outputs": [],
   "source": []
  },
  {
   "cell_type": "markdown",
   "id": "15dfdb1f",
   "metadata": {},
   "source": [
    "## California Census 2019 Figures"
   ]
  },
  {
   "cell_type": "code",
   "execution_count": null,
   "id": "c3df6c87",
   "metadata": {},
   "outputs": [],
   "source": []
  },
  {
   "cell_type": "code",
   "execution_count": null,
   "id": "741ea76f",
   "metadata": {},
   "outputs": [],
   "source": []
  },
  {
   "cell_type": "code",
   "execution_count": null,
   "id": "fdac46da",
   "metadata": {},
   "outputs": [],
   "source": []
  },
  {
   "cell_type": "code",
   "execution_count": null,
   "id": "55cc4251",
   "metadata": {},
   "outputs": [],
   "source": []
  },
  {
   "cell_type": "code",
   "execution_count": null,
   "id": "2addacb0",
   "metadata": {},
   "outputs": [],
   "source": [
    "#selecting only important columns\n",
    "ca_19=ca_2019[['City','Population', 'House Value','Household Income',\n",
    "       'Poverty Rate', 'Unemployment Rate','Monthly Owner Cost', 'Monthly Rent',\n",
    "       'Public Transport Rate', 'Personal Transport Rate','College Rate','White Population Rate',\n",
    "       'Uneducated Rate' ]]"
   ]
  },
  {
   "cell_type": "code",
   "execution_count": null,
   "id": "c40a62c3",
   "metadata": {},
   "outputs": [],
   "source": [
    "#using groupby method to groupby the data accordint to city\n",
    "ca_19_city=ca_19.groupby('City').agg({'Population':'sum',\n",
    "                              'House Value':'mean',\n",
    "                               'Household Income':'mean',\n",
    "                               'Poverty Rate':'mean',\n",
    "                               'Unemployment Rate':'mean',\n",
    "                               'Monthly Owner Cost':'mean',\n",
    "                               'Monthly Rent':'mean',\n",
    "                               'Public Transport Rate':'mean',\n",
    "                               'Personal Transport Rate':'mean',\n",
    "                                'College Rate':'mean',\n",
    "                                'White Population Rate':'mean',      \n",
    "                               'Uneducated Rate':'mean'}).reset_index()"
   ]
  },
  {
   "cell_type": "code",
   "execution_count": null,
   "id": "b72380e2",
   "metadata": {},
   "outputs": [],
   "source": [
    "#sorting data according to the population\n",
    "ca_19_city=ca_19_city.sort_values(by=['House Value',\n",
    "                                'Monthly Owner Cost','Household Income',\n",
    "                                'Poverty Rate','Unemployment Rate',\n",
    "                                'Public Transport Rate','Monthly Rent', \n",
    "                                'Uneducated Rate' ], ascending=False)"
   ]
  },
  {
   "cell_type": "code",
   "execution_count": null,
   "id": "a50762d7",
   "metadata": {},
   "outputs": [],
   "source": [
    "#city with higher house value\n",
    "ca_19_city.nlargest(10, 'House Value')"
   ]
  },
  {
   "cell_type": "code",
   "execution_count": null,
   "id": "4ed2ea89",
   "metadata": {},
   "outputs": [],
   "source": []
  },
  {
   "cell_type": "code",
   "execution_count": null,
   "id": "5866a396",
   "metadata": {},
   "outputs": [],
   "source": [
    "#plotting all correlation using seaborn heatmap\n",
    "corr_19=ca_19.corr()\n",
    "import seaborn as sns\n",
    "fig, ax=plt.subplots(figsize=(15,15))\n",
    "sns.heatmap(corr_19,vmin=-1, vmax=1, ax=ax, cmap='BrBG')#annot=True,\n",
    "plt.show()"
   ]
  },
  {
   "cell_type": "code",
   "execution_count": null,
   "id": "a4065380",
   "metadata": {},
   "outputs": [],
   "source": [
    "corr_19=ca_19.corr()\n",
    "corr_19.style.background_gradient(cmap='coolwarm')"
   ]
  },
  {
   "cell_type": "code",
   "execution_count": null,
   "id": "4b7cdf64",
   "metadata": {},
   "outputs": [],
   "source": [
    "c1 = corr_19.abs().unstack()\n",
    "c1.sort_values(ascending = False)[12:40]"
   ]
  },
  {
   "cell_type": "code",
   "execution_count": null,
   "id": "606f3d7f",
   "metadata": {},
   "outputs": [],
   "source": [
    "#plotting\n",
    "fig, ax=plt.subplots(figsize=(15,15))\n",
    "ca_2019.plot(kind='scatter', x='Lng', y='Lat', alpha=0.2, \n",
    "                s=ca_2019['Population']/100,label='Population',\n",
    "                 c='House Value', cmap=plt.get_cmap('jet'),\n",
    "                colorbar=True, ax=ax)\n",
    "\n",
    "plt.show()"
   ]
  }
 ],
 "metadata": {
  "kernelspec": {
   "display_name": "Python 3 (ipykernel)",
   "language": "python",
   "name": "python3"
  },
  "language_info": {
   "codemirror_mode": {
    "name": "ipython",
    "version": 3
   },
   "file_extension": ".py",
   "mimetype": "text/x-python",
   "name": "python",
   "nbconvert_exporter": "python",
   "pygments_lexer": "ipython3",
   "version": "3.8.10"
  }
 },
 "nbformat": 4,
 "nbformat_minor": 5
}
