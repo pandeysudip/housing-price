{
 "cells": [
  {
   "cell_type": "code",
   "execution_count": 1,
   "id": "18cb9858",
   "metadata": {},
   "outputs": [],
   "source": [
    "# Dependencies and Setup\n",
    "import pandas as pd\n",
    "import matplotlib.pyplot as plt\n",
    "import seaborn as sns\n",
    "import numpy as np\n",
    "from matplotlib import rcParams\n",
    "import scipy.stats as sts\n",
    "import os\n",
    "from collections import Counter\n",
    "import requests\n",
    "import json\n",
    "\n",
    "# Google API Key\n",
    "from api_keys import gkey"
   ]
  },
  {
   "cell_type": "code",
   "execution_count": 2,
   "id": "ba91c9d1",
   "metadata": {},
   "outputs": [],
   "source": [
    "#setting background of figure black\n",
    "plt.style.use('ggplot')"
   ]
  },
  {
   "cell_type": "code",
   "execution_count": 3,
   "id": "9c2a9a26",
   "metadata": {},
   "outputs": [],
   "source": [
    "#Set Fonts/Plot Style\n",
    "rcParams['figure.figsize'] = [15.0, 10.0]\n",
    "rcParams['figure.dpi'] = 80\n",
    "rcParams['savefig.dpi'] = 100\n",
    "rcParams['font.size'] = 20\n",
    "rcParams['legend.fontsize'] = 'large'\n",
    "rcParams['figure.titlesize'] = 'medium'\n",
    "rcParams['font.family'] = 'sans-serif'\n",
    "rcParams['font.sans-serif'] = ['Arial']\n",
    "rcParams['xtick.direction'] = 'in'\n",
    "rcParams['ytick.direction'] = 'in'\n",
    "rcParams['xtick.top'] = True\n",
    "rcParams['ytick.right'] = True\n",
    "rcParams['xtick.major.size'] = 10\n",
    "rcParams['ytick.major.size'] = 10\n",
    "rcParams['xtick.minor.size'] = 5\n",
    "rcParams['ytick.minor.size'] = 5\n",
    "rcParams['xtick.minor.visible'] = True\n",
    "rcParams['ytick.minor.visible'] = True"
   ]
  },
  {
   "cell_type": "markdown",
   "id": "87e0ebfa",
   "metadata": {},
   "source": [
    "## Reading clean California census data for plotting"
   ]
  },
  {
   "cell_type": "code",
   "execution_count": null,
   "id": "f7933db5",
   "metadata": {},
   "outputs": [],
   "source": [
    "#reading 2012 clean california census data\n",
    "path_ca_2012=os.path.join('output_census', 'census_ca_2012_fg.csv')\n",
    "ca_2012=pd.read_csv(path_ca_2012)\n",
    "\n",
    "#reading 2014 clean california census data\n",
    "path_ca_2014=os.path.join('output_census', 'census_ca_2014_fg.csv')\n",
    "ca_2014=pd.read_csv(path_ca_2014)\n",
    "\n",
    "#reading 2015 clean california census data\n",
    "path_ca_2015=os.path.join('output_census', 'census_ca_2015_fg.csv')\n",
    "ca_2015=pd.read_csv(path_ca_2015)\n",
    "\n",
    "#reading 2017 clean california census data\n",
    "path_ca_2017=os.path.join('output_census', 'census_ca_2017_fg.csv')\n",
    "ca_2017=pd.read_csv(path_ca_2017)\n",
    "\n",
    "#reading 2019 clean california census data\n",
    "path_ca_2019=os.path.join('output_census', 'census_ca_2019_fg.csv')\n",
    "ca_2019=pd.read_csv(path_ca_2019)"
   ]
  },
  {
   "cell_type": "markdown",
   "id": "53eb90a4",
   "metadata": {},
   "source": [
    "## California Census 2012 Figures"
   ]
  },
  {
   "cell_type": "code",
   "execution_count": null,
   "id": "e2620021",
   "metadata": {},
   "outputs": [],
   "source": []
  },
  {
   "cell_type": "code",
   "execution_count": null,
   "id": "43c3ab05",
   "metadata": {},
   "outputs": [],
   "source": []
  },
  {
   "cell_type": "code",
   "execution_count": null,
   "id": "83e7716c",
   "metadata": {},
   "outputs": [],
   "source": [
    "#plotting all correlation using seaborn heatmap\n",
    "corr_12=ca_12.corr()\n",
    "import seaborn as sns\n",
    "fig, ax=plt.subplots(figsize=(15,15))\n",
    "sns.heatmap(corr_12,vmin=-1, vmax=1, ax=ax, cmap='BrBG')#annot=True,\n",
    "plt.show()"
   ]
  },
  {
   "cell_type": "code",
   "execution_count": null,
   "id": "dad175b4",
   "metadata": {},
   "outputs": [],
   "source": [
    "#plotting scatter plot of lat and lng\n",
    "fig, ax=plt.subplots(figsize=(15,15))\n",
    "ca_2012.plot(kind='scatter', x='Lng', y='Lat', alpha=0.4, \n",
    "                s=ca_2012['Population']/100,label='Population',\n",
    "                 c='House Value', cmap=plt.get_cmap('rainbow'),\n",
    "                colorbar=True, ax=ax)\n",
    "\n",
    "plt.show()"
   ]
  },
  {
   "cell_type": "code",
   "execution_count": null,
   "id": "84aff1d9",
   "metadata": {},
   "outputs": [],
   "source": [
    "#plotting scatter plot of lat and lng\n",
    "fig, ax=plt.subplots(figsize=(15,15))\n",
    "ca_2012.plot(kind='scatter', x='Lng', y='Lat', alpha=0.3, \n",
    "                s=ca_2012['Population']/100,label='Population',\n",
    "                 c='Household Income', cmap=plt.get_cmap('hsv'),\n",
    "                colorbar=True, ax=ax)\n",
    "\n",
    "plt.show()"
   ]
  },
  {
   "cell_type": "code",
   "execution_count": null,
   "id": "2879c591",
   "metadata": {},
   "outputs": [],
   "source": []
  },
  {
   "cell_type": "code",
   "execution_count": null,
   "id": "6f4b8f58",
   "metadata": {},
   "outputs": [],
   "source": []
  },
  {
   "cell_type": "code",
   "execution_count": null,
   "id": "10955e53",
   "metadata": {},
   "outputs": [],
   "source": []
  },
  {
   "cell_type": "code",
   "execution_count": null,
   "id": "a56064e6",
   "metadata": {},
   "outputs": [],
   "source": []
  },
  {
   "cell_type": "code",
   "execution_count": null,
   "id": "eccab5ea",
   "metadata": {},
   "outputs": [],
   "source": []
  },
  {
   "cell_type": "markdown",
   "id": "36614919",
   "metadata": {},
   "source": [
    "## California Census 2019 Figures"
   ]
  },
  {
   "cell_type": "code",
   "execution_count": null,
   "id": "02aadf1b",
   "metadata": {},
   "outputs": [],
   "source": []
  },
  {
   "cell_type": "code",
   "execution_count": null,
   "id": "e7959d31",
   "metadata": {},
   "outputs": [],
   "source": []
  },
  {
   "cell_type": "code",
   "execution_count": null,
   "id": "de78842f",
   "metadata": {},
   "outputs": [],
   "source": []
  },
  {
   "cell_type": "code",
   "execution_count": null,
   "id": "948574aa",
   "metadata": {},
   "outputs": [],
   "source": []
  },
  {
   "cell_type": "code",
   "execution_count": null,
   "id": "8c67d68c",
   "metadata": {},
   "outputs": [],
   "source": []
  },
  {
   "cell_type": "code",
   "execution_count": null,
   "id": "1d86f2bf",
   "metadata": {},
   "outputs": [],
   "source": []
  },
  {
   "cell_type": "code",
   "execution_count": null,
   "id": "db341f63",
   "metadata": {},
   "outputs": [],
   "source": []
  }
 ],
 "metadata": {
  "kernelspec": {
   "display_name": "Python 3 (ipykernel)",
   "language": "python",
   "name": "python3"
  },
  "language_info": {
   "codemirror_mode": {
    "name": "ipython",
    "version": 3
   },
   "file_extension": ".py",
   "mimetype": "text/x-python",
   "name": "python",
   "nbconvert_exporter": "python",
   "pygments_lexer": "ipython3",
   "version": "3.8.10"
  }
 },
 "nbformat": 4,
 "nbformat_minor": 5
}
