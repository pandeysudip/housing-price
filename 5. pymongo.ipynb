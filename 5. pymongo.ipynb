{
 "cells": [
  {
   "cell_type": "code",
   "execution_count": null,
   "id": "d207a7c3",
   "metadata": {},
   "outputs": [],
   "source": []
  },
  {
   "cell_type": "code",
   "execution_count": 37,
   "id": "df474e20",
   "metadata": {},
   "outputs": [],
   "source": [
    "import pymongo\n",
    "from pymongo import MongoClient\n",
    "import os\n",
    "import pandas as pd\n",
    "import json\n",
    "import city"
   ]
  },
  {
   "cell_type": "code",
   "execution_count": 38,
   "id": "494f7350",
   "metadata": {},
   "outputs": [],
   "source": [
    "cluster=MongoClient('mongodb://localhost:27017')\n",
    "#create database\n",
    "db = cluster['us-housing-prediction']\n",
    "# creating collection\n",
    "census_2019 = db['census_2019']\n",
    "census_2017 = db['census_2017']\n",
    "predictions=db['predictions']"
   ]
  },
  {
   "cell_type": "code",
   "execution_count": 39,
   "id": "b8c3d2f6",
   "metadata": {},
   "outputs": [
    {
     "data": {
      "text/plain": [
       "['ClassDB',\n",
       " 'MissionMars',\n",
       " 'admin',\n",
       " 'config',\n",
       " 'etl-project',\n",
       " 'etl_project',\n",
       " 'fruits_db',\n",
       " 'local',\n",
       " 'us-agriculture',\n",
       " 'us-housing-prediction']"
      ]
     },
     "execution_count": 39,
     "metadata": {},
     "output_type": "execute_result"
    }
   ],
   "source": [
    "#to find all the databases\n",
    "cluster.list_database_names()\n",
    "#(unless you enter data for collection, database will not showup here)"
   ]
  },
  {
   "cell_type": "code",
   "execution_count": 45,
   "id": "28aac0c7",
   "metadata": {},
   "outputs": [
    {
     "data": {
      "text/plain": [
       "['census_2017', 'predictions', 'census_2019']"
      ]
     },
     "execution_count": 45,
     "metadata": {},
     "output_type": "execute_result"
    }
   ],
   "source": [
    "#to find all collections for particular database\n",
    "#(unless you enter data for collection, collections will not showup here)\n",
    "db.list_collection_names()"
   ]
  },
  {
   "cell_type": "code",
   "execution_count": 41,
   "id": "fee94a49",
   "metadata": {},
   "outputs": [],
   "source": [
    "predictions.drop()\n"
   ]
  },
  {
   "cell_type": "code",
   "execution_count": 42,
   "id": "f6f8129a",
   "metadata": {},
   "outputs": [],
   "source": [
    "# path of cleaned csv files\n",
    "path_2019=os.path.join('output_census', 'usa_2019_ml.csv')\n",
    "path_2017=os.path.join('output_census', 'usa_2017_ml.csv')\n",
    "path_predict=os.path.join('output_census', 'predict.csv')"
   ]
  },
  {
   "cell_type": "code",
   "execution_count": 43,
   "id": "3c0e506f",
   "metadata": {},
   "outputs": [],
   "source": [
    "#creating a function to insert csv files in MongoDB collections\n",
    "def csv_to_json(filename, header=0):\n",
    "    data = pd.read_csv(filename, header=header)\n",
    "    return data.to_dict('records')#records is list like\n",
    "\n",
    "#print(csv_to_json(path_weather))\n"
   ]
  },
  {
   "cell_type": "code",
   "execution_count": 44,
   "id": "8fc46ed8",
   "metadata": {},
   "outputs": [
    {
     "data": {
      "text/plain": [
       "<pymongo.results.InsertManyResult at 0x7fa74ab4f1c0>"
      ]
     },
     "execution_count": 44,
     "metadata": {},
     "output_type": "execute_result"
    }
   ],
   "source": [
    "#Insert a record in collections:\n",
    "census_2019.insert_many(csv_to_json(path_2019))\n",
    "census_2017.insert_many(csv_to_json(path_2017))\n",
    "predictions.insert_many(csv_to_json(path_predict))"
   ]
  },
  {
   "cell_type": "code",
   "execution_count": null,
   "id": "a49f636d",
   "metadata": {},
   "outputs": [],
   "source": []
  }
 ],
 "metadata": {
  "kernelspec": {
   "display_name": "Python 3 (ipykernel)",
   "language": "python",
   "name": "python3"
  },
  "language_info": {
   "codemirror_mode": {
    "name": "ipython",
    "version": 3
   },
   "file_extension": ".py",
   "mimetype": "text/x-python",
   "name": "python",
   "nbconvert_exporter": "python",
   "pygments_lexer": "ipython3",
   "version": "3.8.10"
  }
 },
 "nbformat": 4,
 "nbformat_minor": 5
}
