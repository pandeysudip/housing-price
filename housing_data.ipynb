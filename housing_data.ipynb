{
 "cells": [
  {
   "cell_type": "code",
   "execution_count": 3,
   "id": "6543a8d4",
   "metadata": {},
   "outputs": [],
   "source": [
    "# Dependencies and Setup\n",
    "import pandas as pd\n",
    "import matplotlib.pyplot as plt\n",
    "import seaborn as sns\n",
    "import numpy as np\n",
    "from matplotlib import rcParams\n",
    "import scipy.stats as sts\n",
    "import os\n",
    "from collections import Counter\n",
    "import requests\n",
    "import json\n",
    "\n",
    "# API Keys\n",
    "#from api_keys import gkey"
   ]
  },
  {
   "cell_type": "markdown",
   "id": "f7a29dbe",
   "metadata": {},
   "source": [
    "## Looking for the house price data in us cities"
   ]
  },
  {
   "cell_type": "code",
   "execution_count": 4,
   "id": "5a0c5368",
   "metadata": {},
   "outputs": [],
   "source": [
    "#importing housing sale data (downloaded from kaggle)\n",
    "price_path=os.path.join('Resources', 'Sale_Prices_City.csv')\n",
    "housing_price=pd.read_csv(price_path)"
   ]
  },
  {
   "cell_type": "code",
   "execution_count": 5,
   "id": "a45d08ae",
   "metadata": {},
   "outputs": [
    {
     "data": {
      "text/html": [
       "<div>\n",
       "<style scoped>\n",
       "    .dataframe tbody tr th:only-of-type {\n",
       "        vertical-align: middle;\n",
       "    }\n",
       "\n",
       "    .dataframe tbody tr th {\n",
       "        vertical-align: top;\n",
       "    }\n",
       "\n",
       "    .dataframe thead th {\n",
       "        text-align: right;\n",
       "    }\n",
       "</style>\n",
       "<table border=\"1\" class=\"dataframe\">\n",
       "  <thead>\n",
       "    <tr style=\"text-align: right;\">\n",
       "      <th></th>\n",
       "      <th>Unnamed: 0</th>\n",
       "      <th>RegionID</th>\n",
       "      <th>RegionName</th>\n",
       "      <th>StateName</th>\n",
       "      <th>SizeRank</th>\n",
       "      <th>2008-03</th>\n",
       "      <th>2008-04</th>\n",
       "      <th>2008-05</th>\n",
       "      <th>2008-06</th>\n",
       "      <th>2008-07</th>\n",
       "      <th>...</th>\n",
       "      <th>2019-06</th>\n",
       "      <th>2019-07</th>\n",
       "      <th>2019-08</th>\n",
       "      <th>2019-09</th>\n",
       "      <th>2019-10</th>\n",
       "      <th>2019-11</th>\n",
       "      <th>2019-12</th>\n",
       "      <th>2020-01</th>\n",
       "      <th>2020-02</th>\n",
       "      <th>2020-03</th>\n",
       "    </tr>\n",
       "  </thead>\n",
       "  <tbody>\n",
       "    <tr>\n",
       "      <th>0</th>\n",
       "      <td>0</td>\n",
       "      <td>6181</td>\n",
       "      <td>New York</td>\n",
       "      <td>New York</td>\n",
       "      <td>1</td>\n",
       "      <td>NaN</td>\n",
       "      <td>NaN</td>\n",
       "      <td>NaN</td>\n",
       "      <td>NaN</td>\n",
       "      <td>NaN</td>\n",
       "      <td>...</td>\n",
       "      <td>563200.0</td>\n",
       "      <td>570500.0</td>\n",
       "      <td>572800.0</td>\n",
       "      <td>569900.0</td>\n",
       "      <td>560800.0</td>\n",
       "      <td>571500.0</td>\n",
       "      <td>575100.0</td>\n",
       "      <td>571700.0</td>\n",
       "      <td>568300.0</td>\n",
       "      <td>573600.0</td>\n",
       "    </tr>\n",
       "    <tr>\n",
       "      <th>1</th>\n",
       "      <td>1</td>\n",
       "      <td>12447</td>\n",
       "      <td>Los Angeles</td>\n",
       "      <td>California</td>\n",
       "      <td>2</td>\n",
       "      <td>507600.0</td>\n",
       "      <td>489600.0</td>\n",
       "      <td>463000.0</td>\n",
       "      <td>453100.0</td>\n",
       "      <td>438100.0</td>\n",
       "      <td>...</td>\n",
       "      <td>706800.0</td>\n",
       "      <td>711800.0</td>\n",
       "      <td>717300.0</td>\n",
       "      <td>714100.0</td>\n",
       "      <td>711900.0</td>\n",
       "      <td>718400.0</td>\n",
       "      <td>727100.0</td>\n",
       "      <td>738200.0</td>\n",
       "      <td>760200.0</td>\n",
       "      <td>NaN</td>\n",
       "    </tr>\n",
       "    <tr>\n",
       "      <th>2</th>\n",
       "      <td>2</td>\n",
       "      <td>39051</td>\n",
       "      <td>Houston</td>\n",
       "      <td>Texas</td>\n",
       "      <td>3</td>\n",
       "      <td>138400.0</td>\n",
       "      <td>135500.0</td>\n",
       "      <td>132200.0</td>\n",
       "      <td>131000.0</td>\n",
       "      <td>133400.0</td>\n",
       "      <td>...</td>\n",
       "      <td>209700.0</td>\n",
       "      <td>207400.0</td>\n",
       "      <td>207600.0</td>\n",
       "      <td>207000.0</td>\n",
       "      <td>211400.0</td>\n",
       "      <td>211500.0</td>\n",
       "      <td>217700.0</td>\n",
       "      <td>219200.0</td>\n",
       "      <td>223800.0</td>\n",
       "      <td>NaN</td>\n",
       "    </tr>\n",
       "    <tr>\n",
       "      <th>3</th>\n",
       "      <td>3</td>\n",
       "      <td>17426</td>\n",
       "      <td>Chicago</td>\n",
       "      <td>Illinois</td>\n",
       "      <td>4</td>\n",
       "      <td>325100.0</td>\n",
       "      <td>314800.0</td>\n",
       "      <td>286900.0</td>\n",
       "      <td>274600.0</td>\n",
       "      <td>268500.0</td>\n",
       "      <td>...</td>\n",
       "      <td>271500.0</td>\n",
       "      <td>266500.0</td>\n",
       "      <td>264900.0</td>\n",
       "      <td>265000.0</td>\n",
       "      <td>264100.0</td>\n",
       "      <td>264300.0</td>\n",
       "      <td>270000.0</td>\n",
       "      <td>281400.0</td>\n",
       "      <td>302900.0</td>\n",
       "      <td>309200.0</td>\n",
       "    </tr>\n",
       "    <tr>\n",
       "      <th>4</th>\n",
       "      <td>4</td>\n",
       "      <td>6915</td>\n",
       "      <td>San Antonio</td>\n",
       "      <td>Texas</td>\n",
       "      <td>5</td>\n",
       "      <td>130900.0</td>\n",
       "      <td>131300.0</td>\n",
       "      <td>131200.0</td>\n",
       "      <td>131500.0</td>\n",
       "      <td>131600.0</td>\n",
       "      <td>...</td>\n",
       "      <td>197100.0</td>\n",
       "      <td>198700.0</td>\n",
       "      <td>200200.0</td>\n",
       "      <td>200800.0</td>\n",
       "      <td>203400.0</td>\n",
       "      <td>203800.0</td>\n",
       "      <td>205400.0</td>\n",
       "      <td>205400.0</td>\n",
       "      <td>208300.0</td>\n",
       "      <td>NaN</td>\n",
       "    </tr>\n",
       "  </tbody>\n",
       "</table>\n",
       "<p>5 rows × 150 columns</p>\n",
       "</div>"
      ],
      "text/plain": [
       "   Unnamed: 0  RegionID   RegionName   StateName  SizeRank   2008-03  \\\n",
       "0           0      6181     New York    New York         1       NaN   \n",
       "1           1     12447  Los Angeles  California         2  507600.0   \n",
       "2           2     39051      Houston       Texas         3  138400.0   \n",
       "3           3     17426      Chicago    Illinois         4  325100.0   \n",
       "4           4      6915  San Antonio       Texas         5  130900.0   \n",
       "\n",
       "    2008-04   2008-05   2008-06   2008-07  ...   2019-06   2019-07   2019-08  \\\n",
       "0       NaN       NaN       NaN       NaN  ...  563200.0  570500.0  572800.0   \n",
       "1  489600.0  463000.0  453100.0  438100.0  ...  706800.0  711800.0  717300.0   \n",
       "2  135500.0  132200.0  131000.0  133400.0  ...  209700.0  207400.0  207600.0   \n",
       "3  314800.0  286900.0  274600.0  268500.0  ...  271500.0  266500.0  264900.0   \n",
       "4  131300.0  131200.0  131500.0  131600.0  ...  197100.0  198700.0  200200.0   \n",
       "\n",
       "    2019-09   2019-10   2019-11   2019-12   2020-01   2020-02   2020-03  \n",
       "0  569900.0  560800.0  571500.0  575100.0  571700.0  568300.0  573600.0  \n",
       "1  714100.0  711900.0  718400.0  727100.0  738200.0  760200.0       NaN  \n",
       "2  207000.0  211400.0  211500.0  217700.0  219200.0  223800.0       NaN  \n",
       "3  265000.0  264100.0  264300.0  270000.0  281400.0  302900.0  309200.0  \n",
       "4  200800.0  203400.0  203800.0  205400.0  205400.0  208300.0       NaN  \n",
       "\n",
       "[5 rows x 150 columns]"
      ]
     },
     "execution_count": 5,
     "metadata": {},
     "output_type": "execute_result"
    }
   ],
   "source": [
    "#looking for housing_price data\n",
    "housing_price.head()"
   ]
  },
  {
   "cell_type": "code",
   "execution_count": 6,
   "id": "d8e3ba71",
   "metadata": {},
   "outputs": [
    {
     "data": {
      "text/plain": [
       "Index(['Unnamed: 0', 'RegionID', 'RegionName', 'StateName', 'SizeRank',\n",
       "       '2008-03', '2008-04', '2008-05', '2008-06', '2008-07',\n",
       "       ...\n",
       "       '2019-06', '2019-07', '2019-08', '2019-09', '2019-10', '2019-11',\n",
       "       '2019-12', '2020-01', '2020-02', '2020-03'],\n",
       "      dtype='object', length=150)"
      ]
     },
     "execution_count": 6,
     "metadata": {},
     "output_type": "execute_result"
    }
   ],
   "source": [
    "#columns of housing price dataframe\n",
    "housing_price.columns\n"
   ]
  },
  {
   "cell_type": "code",
   "execution_count": null,
   "id": "4a7403f3",
   "metadata": {},
   "outputs": [],
   "source": []
  },
  {
   "cell_type": "code",
   "execution_count": 7,
   "id": "eb569fcf",
   "metadata": {},
   "outputs": [],
   "source": [
    "#housing price is for each month, we need to sum and average to ger price per year\n",
    "#to get the average housing data \n",
    "for i in range(2009, 2020):\n",
    "    housing_price[f'{i}']=((housing_price[[f'{i}-01',f'{i}-02',f'{i}-03',f'{i}-01',\n",
    "                                      f'{i}-05',f'{i}-06',f'{i}-07',f'{i}-08',\n",
    "                                     f'{i}-09',f'{i}-10',f'{i}-11',f'{i}-12']].sum(axis=1))/12)"
   ]
  },
  {
   "cell_type": "code",
   "execution_count": 8,
   "id": "b1451461",
   "metadata": {},
   "outputs": [],
   "source": [
    "#only selecting the columns that are needed for our project\n",
    "housing=(housing_price[['RegionName', 'StateName', 'SizeRank','2015',\n",
    "                       '2016','2017','2018','2019']])"
   ]
  },
  {
   "cell_type": "code",
   "execution_count": 9,
   "id": "6ebd430d",
   "metadata": {},
   "outputs": [
    {
     "data": {
      "text/html": [
       "<div>\n",
       "<style scoped>\n",
       "    .dataframe tbody tr th:only-of-type {\n",
       "        vertical-align: middle;\n",
       "    }\n",
       "\n",
       "    .dataframe tbody tr th {\n",
       "        vertical-align: top;\n",
       "    }\n",
       "\n",
       "    .dataframe thead th {\n",
       "        text-align: right;\n",
       "    }\n",
       "</style>\n",
       "<table border=\"1\" class=\"dataframe\">\n",
       "  <thead>\n",
       "    <tr style=\"text-align: right;\">\n",
       "      <th></th>\n",
       "      <th>RegionName</th>\n",
       "      <th>StateName</th>\n",
       "      <th>SizeRank</th>\n",
       "      <th>2015</th>\n",
       "      <th>2016</th>\n",
       "      <th>2017</th>\n",
       "      <th>2018</th>\n",
       "      <th>2019</th>\n",
       "    </tr>\n",
       "  </thead>\n",
       "  <tbody>\n",
       "    <tr>\n",
       "      <th>0</th>\n",
       "      <td>New York</td>\n",
       "      <td>New York</td>\n",
       "      <td>1</td>\n",
       "      <td>517833.333333</td>\n",
       "      <td>534275.000000</td>\n",
       "      <td>542425.000000</td>\n",
       "      <td>555416.666667</td>\n",
       "      <td>565016.666667</td>\n",
       "    </tr>\n",
       "    <tr>\n",
       "      <th>1</th>\n",
       "      <td>Los Angeles</td>\n",
       "      <td>California</td>\n",
       "      <td>2</td>\n",
       "      <td>491658.333333</td>\n",
       "      <td>530025.000000</td>\n",
       "      <td>567958.333333</td>\n",
       "      <td>637291.666667</td>\n",
       "      <td>704691.666667</td>\n",
       "    </tr>\n",
       "    <tr>\n",
       "      <th>2</th>\n",
       "      <td>Houston</td>\n",
       "      <td>Texas</td>\n",
       "      <td>3</td>\n",
       "      <td>171058.333333</td>\n",
       "      <td>181208.333333</td>\n",
       "      <td>190675.000000</td>\n",
       "      <td>196850.000000</td>\n",
       "      <td>208958.333333</td>\n",
       "    </tr>\n",
       "    <tr>\n",
       "      <th>3</th>\n",
       "      <td>Chicago</td>\n",
       "      <td>Illinois</td>\n",
       "      <td>4</td>\n",
       "      <td>236341.666667</td>\n",
       "      <td>218975.000000</td>\n",
       "      <td>228258.333333</td>\n",
       "      <td>245083.333333</td>\n",
       "      <td>265641.666667</td>\n",
       "    </tr>\n",
       "    <tr>\n",
       "      <th>4</th>\n",
       "      <td>San Antonio</td>\n",
       "      <td>Texas</td>\n",
       "      <td>5</td>\n",
       "      <td>164600.000000</td>\n",
       "      <td>171308.333333</td>\n",
       "      <td>177666.666667</td>\n",
       "      <td>188108.333333</td>\n",
       "      <td>197250.000000</td>\n",
       "    </tr>\n",
       "  </tbody>\n",
       "</table>\n",
       "</div>"
      ],
      "text/plain": [
       "    RegionName   StateName  SizeRank           2015           2016  \\\n",
       "0     New York    New York         1  517833.333333  534275.000000   \n",
       "1  Los Angeles  California         2  491658.333333  530025.000000   \n",
       "2      Houston       Texas         3  171058.333333  181208.333333   \n",
       "3      Chicago    Illinois         4  236341.666667  218975.000000   \n",
       "4  San Antonio       Texas         5  164600.000000  171308.333333   \n",
       "\n",
       "            2017           2018           2019  \n",
       "0  542425.000000  555416.666667  565016.666667  \n",
       "1  567958.333333  637291.666667  704691.666667  \n",
       "2  190675.000000  196850.000000  208958.333333  \n",
       "3  228258.333333  245083.333333  265641.666667  \n",
       "4  177666.666667  188108.333333  197250.000000  "
      ]
     },
     "execution_count": 9,
     "metadata": {},
     "output_type": "execute_result"
    }
   ],
   "source": [
    "housing.head()"
   ]
  },
  {
   "cell_type": "code",
   "execution_count": 10,
   "id": "fe6e8287",
   "metadata": {},
   "outputs": [
    {
     "name": "stdout",
     "output_type": "stream",
     "text": [
      "No of rows are 3728 and number of columns are 8\n"
     ]
    }
   ],
   "source": [
    "#shape of housing dataset\n",
    "print(f'No of rows are {housing.shape[0]} and number of columns are {housing.shape[1]}')"
   ]
  },
  {
   "cell_type": "code",
   "execution_count": 11,
   "id": "f181b811",
   "metadata": {},
   "outputs": [
    {
     "name": "stdout",
     "output_type": "stream",
     "text": [
      "<class 'pandas.core.frame.DataFrame'>\n",
      "RangeIndex: 3728 entries, 0 to 3727\n",
      "Data columns (total 8 columns):\n",
      " #   Column      Non-Null Count  Dtype  \n",
      "---  ------      --------------  -----  \n",
      " 0   RegionName  3728 non-null   object \n",
      " 1   StateName   3728 non-null   object \n",
      " 2   SizeRank    3728 non-null   int64  \n",
      " 3   2015        3728 non-null   float64\n",
      " 4   2016        3728 non-null   float64\n",
      " 5   2017        3728 non-null   float64\n",
      " 6   2018        3728 non-null   float64\n",
      " 7   2019        3728 non-null   float64\n",
      "dtypes: float64(5), int64(1), object(2)\n",
      "memory usage: 233.1+ KB\n"
     ]
    }
   ],
   "source": [
    "#info of the dataframe\n",
    "housing.info()"
   ]
  },
  {
   "cell_type": "code",
   "execution_count": 12,
   "id": "6e9090e8",
   "metadata": {},
   "outputs": [
    {
     "data": {
      "text/plain": [
       "RegionName\n",
       "Springfield    9\n",
       "Monroe         7\n",
       "Franklin       7\n",
       "Washington     6\n",
       "Auburn         6\n",
       "              ..\n",
       "Ortonville     1\n",
       "Orting         1\n",
       "Orrville       1\n",
       "Oroville       1\n",
       "Aberdeen       1\n",
       "Length: 3158, dtype: int64"
      ]
     },
     "execution_count": 12,
     "metadata": {},
     "output_type": "execute_result"
    }
   ],
   "source": [
    "#total number of unique city\n",
    "housing.value_counts('RegionName')"
   ]
  },
  {
   "cell_type": "code",
   "execution_count": 13,
   "id": "9f51ed3d",
   "metadata": {},
   "outputs": [
    {
     "data": {
      "text/plain": [
       "3158"
      ]
     },
     "execution_count": 13,
     "metadata": {},
     "output_type": "execute_result"
    }
   ],
   "source": [
    "#totoal unique city\n",
    "housing['RegionName'].nunique()"
   ]
  },
  {
   "cell_type": "code",
   "execution_count": 30,
   "id": "563e0b2a",
   "metadata": {},
   "outputs": [
    {
     "data": {
      "text/plain": [
       "(3158, 8)"
      ]
     },
     "execution_count": 30,
     "metadata": {},
     "output_type": "execute_result"
    }
   ],
   "source": [
    "#there are around 600 city with duplicate value\n",
    "housing=housing.drop_duplicates(subset=['RegionName'])\n",
    "#housing dataframe shape\n",
    "housing.shape"
   ]
  },
  {
   "cell_type": "code",
   "execution_count": 15,
   "id": "c0969acd",
   "metadata": {},
   "outputs": [
    {
     "data": {
      "text/plain": [
       "3158"
      ]
     },
     "execution_count": 15,
     "metadata": {},
     "output_type": "execute_result"
    }
   ],
   "source": [
    "#total unique city after droping duplicates\n",
    "housing['RegionName'].nunique()"
   ]
  },
  {
   "cell_type": "code",
   "execution_count": 16,
   "id": "2d759ec4",
   "metadata": {},
   "outputs": [
    {
     "name": "stdout",
     "output_type": "stream",
     "text": [
      "<class 'pandas.core.frame.DataFrame'>\n",
      "Int64Index: 3158 entries, 0 to 3727\n",
      "Data columns (total 8 columns):\n",
      " #   Column      Non-Null Count  Dtype  \n",
      "---  ------      --------------  -----  \n",
      " 0   RegionName  3158 non-null   object \n",
      " 1   StateName   3158 non-null   object \n",
      " 2   SizeRank    3158 non-null   int64  \n",
      " 3   2015        3158 non-null   float64\n",
      " 4   2016        3158 non-null   float64\n",
      " 5   2017        3158 non-null   float64\n",
      " 6   2018        3158 non-null   float64\n",
      " 7   2019        3158 non-null   float64\n",
      "dtypes: float64(5), int64(1), object(2)\n",
      "memory usage: 222.0+ KB\n"
     ]
    }
   ],
   "source": [
    "housing.info()"
   ]
  },
  {
   "cell_type": "code",
   "execution_count": 31,
   "id": "e0257bb5",
   "metadata": {},
   "outputs": [],
   "source": [
    "#saving the clean housing data to output folder\n",
    "housing.to_csv('output_data/housing_price.csv', index=False)"
   ]
  },
  {
   "cell_type": "markdown",
   "id": "ad00ccf5",
   "metadata": {},
   "source": [
    "## Looking for the crime data in us cities"
   ]
  },
  {
   "cell_type": "code",
   "execution_count": null,
   "id": "593cc9e3",
   "metadata": {},
   "outputs": [],
   "source": [
    "#importing crime data (downloaded from kaggle)\n",
    "crime_path=os.path.join('Resources', 'crime_data_w_population_and_crime_rate.csv')\n",
    "crime_rate=pd.read_csv(crime_path)"
   ]
  },
  {
   "cell_type": "code",
   "execution_count": null,
   "id": "fc49086c",
   "metadata": {},
   "outputs": [],
   "source": [
    "#looking for crime data\n",
    "crime_rate.head()"
   ]
  },
  {
   "cell_type": "code",
   "execution_count": null,
   "id": "336a28f3",
   "metadata": {},
   "outputs": [],
   "source": [
    "crime_rate.columns"
   ]
  },
  {
   "cell_type": "code",
   "execution_count": null,
   "id": "ce6e272c",
   "metadata": {},
   "outputs": [],
   "source": [
    "#shape of crime dataset\n",
    "print(f'No of rowsare {crime_rate.shape[0]} and number of columns are {crime_rate.shape[1]}')"
   ]
  },
  {
   "cell_type": "code",
   "execution_count": null,
   "id": "8c162150",
   "metadata": {},
   "outputs": [],
   "source": [
    "#looking for unique county and city name\n",
    "crime_rate['county_name'].nunique()"
   ]
  },
  {
   "cell_type": "code",
   "execution_count": null,
   "id": "d79c3bb4",
   "metadata": {},
   "outputs": [],
   "source": [
    "#looking for only certains columns\n",
    "crime=(crime_rate[['county_name','population', 'crime_rate_per_100000',\n",
    "                   'MURDER', 'RAPE', 'ROBBERY', 'AGASSLT', 'BURGLRY', 'LARCENY',\n",
    "                   'MVTHEFT', 'ARSON']])"
   ]
  },
  {
   "cell_type": "code",
   "execution_count": null,
   "id": "437429ad",
   "metadata": {},
   "outputs": [],
   "source": [
    "crime.head()"
   ]
  },
  {
   "cell_type": "code",
   "execution_count": null,
   "id": "8d27e3c0",
   "metadata": {},
   "outputs": [],
   "source": [
    "#saving the crime_rate data to output folder\n",
    "crime.to_csv('output_data/crime_rate.csv', index=False)"
   ]
  },
  {
   "cell_type": "code",
   "execution_count": null,
   "id": "ab6de410",
   "metadata": {},
   "outputs": [],
   "source": []
  },
  {
   "cell_type": "markdown",
   "id": "14ee0856",
   "metadata": {},
   "source": [
    "## Looking for school datasets in US cities"
   ]
  },
  {
   "cell_type": "code",
   "execution_count": null,
   "id": "f97416a1",
   "metadata": {},
   "outputs": [],
   "source": [
    "#importing private school data (downloaded from kaggle)\n",
    "school_path=os.path.join('Resources', 'Private_Schools.csv')\n",
    "private_school=pd.read_csv(school_path)"
   ]
  },
  {
   "cell_type": "code",
   "execution_count": null,
   "id": "28db69f1",
   "metadata": {},
   "outputs": [],
   "source": [
    "#looking for private school datasets\n",
    "private_school.head()"
   ]
  },
  {
   "cell_type": "code",
   "execution_count": null,
   "id": "39b007b0",
   "metadata": {},
   "outputs": [],
   "source": [
    "private_school.columns"
   ]
  },
  {
   "cell_type": "code",
   "execution_count": null,
   "id": "d0698f07",
   "metadata": {},
   "outputs": [],
   "source": [
    "private_school['COUNTRY'].value_counts()"
   ]
  },
  {
   "cell_type": "code",
   "execution_count": null,
   "id": "5bfb5301",
   "metadata": {},
   "outputs": [],
   "source": [
    "#cleaning datasets \n",
    "school=private_school[['NAME', 'ADDRESS', 'CITY',\n",
    "                    'STATE', 'ZIP',  'TYPE',  'POPULATION',\n",
    "                    'COUNTY',  'COUNTRY', 'LATITUDE', 'LONGITUDE', 'LEVEL_']]"
   ]
  },
  {
   "cell_type": "code",
   "execution_count": null,
   "id": "008b00c8",
   "metadata": {},
   "outputs": [],
   "source": [
    "#shape of school dataset\n",
    "print(f'No of rowsare {school.shape[0]} and number of columns are {school.shape[1]}')"
   ]
  },
  {
   "cell_type": "code",
   "execution_count": null,
   "id": "6e7d743c",
   "metadata": {},
   "outputs": [],
   "source": [
    "school.head()"
   ]
  },
  {
   "cell_type": "code",
   "execution_count": null,
   "id": "28fe24f8",
   "metadata": {},
   "outputs": [],
   "source": [
    "school.columns"
   ]
  },
  {
   "cell_type": "code",
   "execution_count": null,
   "id": "36b5d6f9",
   "metadata": {},
   "outputs": [],
   "source": [
    "school_clean=school.groupby('CITY').agg({'NAME':'count',\n",
    "                           'STATE': lambda x : x.unique(),                    \n",
    "                           'COUNTY': lambda x : x.unique(),\n",
    "                           'ZIP': lambda x : x.unique()}).reset_index()"
   ]
  },
  {
   "cell_type": "code",
   "execution_count": null,
   "id": "86c24681",
   "metadata": {},
   "outputs": [],
   "source": [
    "#number of unique city\n",
    "school_clean['CITY'].nunique()"
   ]
  },
  {
   "cell_type": "code",
   "execution_count": null,
   "id": "293062fb",
   "metadata": {},
   "outputs": [],
   "source": [
    "#saving the crime_rate data to output folder\n",
    "school_clean.to_csv('output_data/school.csv', index=False)"
   ]
  },
  {
   "cell_type": "code",
   "execution_count": null,
   "id": "7694868c",
   "metadata": {},
   "outputs": [],
   "source": []
  },
  {
   "cell_type": "markdown",
   "id": "fd1094a8",
   "metadata": {},
   "source": [
    "## Looking with airports datasets in US cities"
   ]
  },
  {
   "cell_type": "code",
   "execution_count": null,
   "id": "126b62b0",
   "metadata": {},
   "outputs": [],
   "source": [
    "#importing airports data (downloaded from kaggle)\n",
    "airport_path=os.path.join('Resources', 'airports.csv')\n",
    "airport=pd.read_csv(airport_path)"
   ]
  },
  {
   "cell_type": "code",
   "execution_count": null,
   "id": "80bfd73c",
   "metadata": {},
   "outputs": [],
   "source": [
    "airport.columns"
   ]
  },
  {
   "cell_type": "code",
   "execution_count": null,
   "id": "adab0744",
   "metadata": {},
   "outputs": [],
   "source": [
    "airport['CITY'].value_counts()"
   ]
  },
  {
   "cell_type": "code",
   "execution_count": null,
   "id": "5f32ecf6",
   "metadata": {},
   "outputs": [],
   "source": [
    "airport_clean=airport.groupby(['CITY', 'STATE']).agg({'AIRPORT':'count'}).reset_index()\n",
    "\n",
    "airport_clean"
   ]
  },
  {
   "cell_type": "code",
   "execution_count": null,
   "id": "1e5632c2",
   "metadata": {},
   "outputs": [],
   "source": [
    "#saving the airport data to output folder\n",
    "airport_clean.to_csv('output_data/airports.csv', index=False)"
   ]
  },
  {
   "cell_type": "markdown",
   "id": "00e500b0",
   "metadata": {},
   "source": [
    "## Airports data from whole world"
   ]
  },
  {
   "cell_type": "code",
   "execution_count": null,
   "id": "ff8cf405",
   "metadata": {},
   "outputs": [],
   "source": [
    "#importing airports and other data for world(downloaded from kaggle)\n",
    "airport_path_exd=os.path.join('Resources', 'airports-extended.csv')\n",
    "airports_exd=pd.read_csv(airport_path_exd)"
   ]
  },
  {
   "cell_type": "code",
   "execution_count": null,
   "id": "08aca477",
   "metadata": {},
   "outputs": [],
   "source": [
    "airports_exd.head()"
   ]
  },
  {
   "cell_type": "code",
   "execution_count": null,
   "id": "0eda05a6",
   "metadata": {},
   "outputs": [],
   "source": [
    "#only geeting the data for usa\n",
    "airports_usa=airports_exd[airports_exd['Papua New Guinea']=='United States']\n",
    "\n",
    "#only selecting certain columns\n",
    "airports_usa=airports_usa[['Goroka Airport', 'Goroka', 'Papua New Guinea', \n",
    "       '-6.081689834590001', '145.391998291', \n",
    "       'Pacific/Port_Moresby', 'airport',]]"
   ]
  },
  {
   "cell_type": "code",
   "execution_count": null,
   "id": "d8d2f90f",
   "metadata": {},
   "outputs": [],
   "source": [
    "#changing the name of the columns as header is missing\n",
    "airports_usa.rename(columns={'Goroka Airport': \"Name\", \n",
    "                             'Goroka': 'City',\n",
    "                             'Papua New Guinea' :'Country',\n",
    "                            '-6.081689834590001' : 'Lat',\n",
    "                             '145.391998291' : 'Lng',\n",
    "                               'Pacific/Port_Moresby': \"Others\",\n",
    "                             'airport':\"type\"}, inplace=True)"
   ]
  },
  {
   "cell_type": "code",
   "execution_count": null,
   "id": "54dde818",
   "metadata": {},
   "outputs": [],
   "source": [
    "#only airport types\n",
    "airports=airports_usa[airports_usa['type']=='airport']\n",
    "airports.shape"
   ]
  },
  {
   "cell_type": "code",
   "execution_count": null,
   "id": "ab5c5d06",
   "metadata": {},
   "outputs": [],
   "source": [
    "airports['City'].value_counts()"
   ]
  },
  {
   "cell_type": "code",
   "execution_count": null,
   "id": "e5d96269",
   "metadata": {},
   "outputs": [],
   "source": [
    "airports_clean=airports.groupby('City').agg({'Name':'count'}).reset_index()\n",
    "airports_clean.columns=['City', 'Count']\n",
    "airports_clean"
   ]
  },
  {
   "cell_type": "code",
   "execution_count": null,
   "id": "d1f9f317",
   "metadata": {},
   "outputs": [],
   "source": []
  },
  {
   "cell_type": "markdown",
   "id": "60fb436b",
   "metadata": {},
   "source": [
    "## Looking for the hospital data in US Cities"
   ]
  },
  {
   "cell_type": "code",
   "execution_count": null,
   "id": "4c77ad59",
   "metadata": {},
   "outputs": [],
   "source": [
    "#importing hospitals data (downloaded from kaggle)\n",
    "hospital_path=os.path.join('Resources', 'Hospitals.csv')\n",
    "hospitals_data=pd.read_csv(hospital_path)"
   ]
  },
  {
   "cell_type": "code",
   "execution_count": null,
   "id": "4f129f3f",
   "metadata": {},
   "outputs": [],
   "source": [
    "hospitals_data.shape"
   ]
  },
  {
   "cell_type": "code",
   "execution_count": null,
   "id": "d332a034",
   "metadata": {},
   "outputs": [],
   "source": [
    "hospitals_data.columns"
   ]
  },
  {
   "cell_type": "code",
   "execution_count": null,
   "id": "a457f5a1",
   "metadata": {},
   "outputs": [],
   "source": [
    "#selecting only important columns\n",
    "hospitals=hospitals_data[['NAME', 'ADDRESS', 'CITY', 'STATE', 'ZIP',\n",
    "       'ZIP4', 'TELEPHONE', 'TYPE', 'STATUS', 'POPULATION', 'COUNTY',\n",
    "       'COUNTYFIPS', 'COUNTRY', 'LATITUDE', 'LONGITUDE']]"
   ]
  },
  {
   "cell_type": "code",
   "execution_count": null,
   "id": "23ffe7f7",
   "metadata": {},
   "outputs": [],
   "source": [
    "hospitals_clean=hospitals.groupby(['CITY','STATE']).agg({'NAME':'count',                  \n",
    "                                               'COUNTY': lambda x : x.unique()}).reset_index()\n",
    "\n",
    "hospitals_clean"
   ]
  },
  {
   "cell_type": "code",
   "execution_count": null,
   "id": "a90452ef",
   "metadata": {},
   "outputs": [],
   "source": []
  },
  {
   "cell_type": "code",
   "execution_count": null,
   "id": "d051e205",
   "metadata": {},
   "outputs": [],
   "source": []
  }
 ],
 "metadata": {
  "kernelspec": {
   "display_name": "Python 3",
   "language": "python",
   "name": "python3"
  },
  "language_info": {
   "codemirror_mode": {
    "name": "ipython",
    "version": 3
   },
   "file_extension": ".py",
   "mimetype": "text/x-python",
   "name": "python",
   "nbconvert_exporter": "python",
   "pygments_lexer": "ipython3",
   "version": "3.6.13"
  }
 },
 "nbformat": 4,
 "nbformat_minor": 5
}
