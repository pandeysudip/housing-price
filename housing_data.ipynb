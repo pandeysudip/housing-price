{
 "cells": [
  {
   "cell_type": "code",
   "execution_count": 1,
   "id": "4d7580ca",
   "metadata": {},
   "outputs": [],
   "source": [
    "# Dependencies and Setup\n",
    "import pandas as pd\n",
    "import matplotlib.pyplot as plt\n",
    "import seaborn as sns\n",
    "import numpy as np\n",
    "from matplotlib import rcParams\n",
    "import scipy.stats as sts\n",
    "import os\n",
    "from collections import Counter\n",
    "import requests\n",
    "import json\n",
    "\n",
    "# API Keys\n",
    "from api_keys import gkey"
   ]
  },
  {
   "cell_type": "markdown",
   "id": "f7af9ca0",
   "metadata": {},
   "source": [
    "## Looking for the house price data in us cities"
   ]
  },
  {
   "cell_type": "code",
   "execution_count": 2,
   "id": "bca7ba17",
   "metadata": {},
   "outputs": [],
   "source": [
    "#importing housing sale data (downloaded from kaggle)\n",
    "price_path=os.path.join('Resources', 'Sale_Prices_City.csv')\n",
    "housing_price=pd.read_csv(price_path)"
   ]
  },
  {
   "cell_type": "code",
   "execution_count": 3,
   "id": "d6a60a03",
   "metadata": {},
   "outputs": [
    {
     "data": {
      "text/html": [
       "<div>\n",
       "<style scoped>\n",
       "    .dataframe tbody tr th:only-of-type {\n",
       "        vertical-align: middle;\n",
       "    }\n",
       "\n",
       "    .dataframe tbody tr th {\n",
       "        vertical-align: top;\n",
       "    }\n",
       "\n",
       "    .dataframe thead th {\n",
       "        text-align: right;\n",
       "    }\n",
       "</style>\n",
       "<table border=\"1\" class=\"dataframe\">\n",
       "  <thead>\n",
       "    <tr style=\"text-align: right;\">\n",
       "      <th></th>\n",
       "      <th>Unnamed: 0</th>\n",
       "      <th>RegionID</th>\n",
       "      <th>RegionName</th>\n",
       "      <th>StateName</th>\n",
       "      <th>SizeRank</th>\n",
       "      <th>2008-03</th>\n",
       "      <th>2008-04</th>\n",
       "      <th>2008-05</th>\n",
       "      <th>2008-06</th>\n",
       "      <th>2008-07</th>\n",
       "      <th>...</th>\n",
       "      <th>2019-06</th>\n",
       "      <th>2019-07</th>\n",
       "      <th>2019-08</th>\n",
       "      <th>2019-09</th>\n",
       "      <th>2019-10</th>\n",
       "      <th>2019-11</th>\n",
       "      <th>2019-12</th>\n",
       "      <th>2020-01</th>\n",
       "      <th>2020-02</th>\n",
       "      <th>2020-03</th>\n",
       "    </tr>\n",
       "  </thead>\n",
       "  <tbody>\n",
       "    <tr>\n",
       "      <th>0</th>\n",
       "      <td>0</td>\n",
       "      <td>6181</td>\n",
       "      <td>New York</td>\n",
       "      <td>New York</td>\n",
       "      <td>1</td>\n",
       "      <td>NaN</td>\n",
       "      <td>NaN</td>\n",
       "      <td>NaN</td>\n",
       "      <td>NaN</td>\n",
       "      <td>NaN</td>\n",
       "      <td>...</td>\n",
       "      <td>563200.0</td>\n",
       "      <td>570500.0</td>\n",
       "      <td>572800.0</td>\n",
       "      <td>569900.0</td>\n",
       "      <td>560800.0</td>\n",
       "      <td>571500.0</td>\n",
       "      <td>575100.0</td>\n",
       "      <td>571700.0</td>\n",
       "      <td>568300.0</td>\n",
       "      <td>573600.0</td>\n",
       "    </tr>\n",
       "    <tr>\n",
       "      <th>1</th>\n",
       "      <td>1</td>\n",
       "      <td>12447</td>\n",
       "      <td>Los Angeles</td>\n",
       "      <td>California</td>\n",
       "      <td>2</td>\n",
       "      <td>507600.0</td>\n",
       "      <td>489600.0</td>\n",
       "      <td>463000.0</td>\n",
       "      <td>453100.0</td>\n",
       "      <td>438100.0</td>\n",
       "      <td>...</td>\n",
       "      <td>706800.0</td>\n",
       "      <td>711800.0</td>\n",
       "      <td>717300.0</td>\n",
       "      <td>714100.0</td>\n",
       "      <td>711900.0</td>\n",
       "      <td>718400.0</td>\n",
       "      <td>727100.0</td>\n",
       "      <td>738200.0</td>\n",
       "      <td>760200.0</td>\n",
       "      <td>NaN</td>\n",
       "    </tr>\n",
       "    <tr>\n",
       "      <th>2</th>\n",
       "      <td>2</td>\n",
       "      <td>39051</td>\n",
       "      <td>Houston</td>\n",
       "      <td>Texas</td>\n",
       "      <td>3</td>\n",
       "      <td>138400.0</td>\n",
       "      <td>135500.0</td>\n",
       "      <td>132200.0</td>\n",
       "      <td>131000.0</td>\n",
       "      <td>133400.0</td>\n",
       "      <td>...</td>\n",
       "      <td>209700.0</td>\n",
       "      <td>207400.0</td>\n",
       "      <td>207600.0</td>\n",
       "      <td>207000.0</td>\n",
       "      <td>211400.0</td>\n",
       "      <td>211500.0</td>\n",
       "      <td>217700.0</td>\n",
       "      <td>219200.0</td>\n",
       "      <td>223800.0</td>\n",
       "      <td>NaN</td>\n",
       "    </tr>\n",
       "    <tr>\n",
       "      <th>3</th>\n",
       "      <td>3</td>\n",
       "      <td>17426</td>\n",
       "      <td>Chicago</td>\n",
       "      <td>Illinois</td>\n",
       "      <td>4</td>\n",
       "      <td>325100.0</td>\n",
       "      <td>314800.0</td>\n",
       "      <td>286900.0</td>\n",
       "      <td>274600.0</td>\n",
       "      <td>268500.0</td>\n",
       "      <td>...</td>\n",
       "      <td>271500.0</td>\n",
       "      <td>266500.0</td>\n",
       "      <td>264900.0</td>\n",
       "      <td>265000.0</td>\n",
       "      <td>264100.0</td>\n",
       "      <td>264300.0</td>\n",
       "      <td>270000.0</td>\n",
       "      <td>281400.0</td>\n",
       "      <td>302900.0</td>\n",
       "      <td>309200.0</td>\n",
       "    </tr>\n",
       "    <tr>\n",
       "      <th>4</th>\n",
       "      <td>4</td>\n",
       "      <td>6915</td>\n",
       "      <td>San Antonio</td>\n",
       "      <td>Texas</td>\n",
       "      <td>5</td>\n",
       "      <td>130900.0</td>\n",
       "      <td>131300.0</td>\n",
       "      <td>131200.0</td>\n",
       "      <td>131500.0</td>\n",
       "      <td>131600.0</td>\n",
       "      <td>...</td>\n",
       "      <td>197100.0</td>\n",
       "      <td>198700.0</td>\n",
       "      <td>200200.0</td>\n",
       "      <td>200800.0</td>\n",
       "      <td>203400.0</td>\n",
       "      <td>203800.0</td>\n",
       "      <td>205400.0</td>\n",
       "      <td>205400.0</td>\n",
       "      <td>208300.0</td>\n",
       "      <td>NaN</td>\n",
       "    </tr>\n",
       "  </tbody>\n",
       "</table>\n",
       "<p>5 rows × 150 columns</p>\n",
       "</div>"
      ],
      "text/plain": [
       "   Unnamed: 0  RegionID   RegionName   StateName  SizeRank   2008-03  \\\n",
       "0           0      6181     New York    New York         1       NaN   \n",
       "1           1     12447  Los Angeles  California         2  507600.0   \n",
       "2           2     39051      Houston       Texas         3  138400.0   \n",
       "3           3     17426      Chicago    Illinois         4  325100.0   \n",
       "4           4      6915  San Antonio       Texas         5  130900.0   \n",
       "\n",
       "    2008-04   2008-05   2008-06   2008-07  ...   2019-06   2019-07   2019-08  \\\n",
       "0       NaN       NaN       NaN       NaN  ...  563200.0  570500.0  572800.0   \n",
       "1  489600.0  463000.0  453100.0  438100.0  ...  706800.0  711800.0  717300.0   \n",
       "2  135500.0  132200.0  131000.0  133400.0  ...  209700.0  207400.0  207600.0   \n",
       "3  314800.0  286900.0  274600.0  268500.0  ...  271500.0  266500.0  264900.0   \n",
       "4  131300.0  131200.0  131500.0  131600.0  ...  197100.0  198700.0  200200.0   \n",
       "\n",
       "    2019-09   2019-10   2019-11   2019-12   2020-01   2020-02   2020-03  \n",
       "0  569900.0  560800.0  571500.0  575100.0  571700.0  568300.0  573600.0  \n",
       "1  714100.0  711900.0  718400.0  727100.0  738200.0  760200.0       NaN  \n",
       "2  207000.0  211400.0  211500.0  217700.0  219200.0  223800.0       NaN  \n",
       "3  265000.0  264100.0  264300.0  270000.0  281400.0  302900.0  309200.0  \n",
       "4  200800.0  203400.0  203800.0  205400.0  205400.0  208300.0       NaN  \n",
       "\n",
       "[5 rows x 150 columns]"
      ]
     },
     "execution_count": 3,
     "metadata": {},
     "output_type": "execute_result"
    }
   ],
   "source": [
    "#looking for housing_price data\n",
    "housing_price.head()"
   ]
  },
  {
   "cell_type": "code",
   "execution_count": 4,
   "id": "3d5c3e01",
   "metadata": {},
   "outputs": [
    {
     "data": {
      "text/plain": [
       "Index(['Unnamed: 0', 'RegionID', 'RegionName', 'StateName', 'SizeRank',\n",
       "       '2008-03', '2008-04', '2008-05', '2008-06', '2008-07',\n",
       "       ...\n",
       "       '2019-06', '2019-07', '2019-08', '2019-09', '2019-10', '2019-11',\n",
       "       '2019-12', '2020-01', '2020-02', '2020-03'],\n",
       "      dtype='object', length=150)"
      ]
     },
     "execution_count": 4,
     "metadata": {},
     "output_type": "execute_result"
    }
   ],
   "source": [
    "#columns of housing price dataframe\n",
    "housing_price.columns\n"
   ]
  },
  {
   "cell_type": "code",
   "execution_count": null,
   "id": "024d8326",
   "metadata": {},
   "outputs": [],
   "source": []
  },
  {
   "cell_type": "code",
   "execution_count": 5,
   "id": "965038f5",
   "metadata": {},
   "outputs": [],
   "source": [
    "#housing price is for each month, we need to sum and average to ger price per year\n",
    "#to get the average housing data \n",
    "for i in range(2009, 2020):\n",
    "    housing_price[f'{i}']=((housing_price[[f'{i}-01',f'{i}-02',f'{i}-03',f'{i}-01',\n",
    "                                      f'{i}-05',f'{i}-06',f'{i}-07',f'{i}-08',\n",
    "                                     f'{i}-09',f'{i}-10',f'{i}-11',f'{i}-12']].sum(axis=1))/12)"
   ]
  },
  {
   "cell_type": "code",
   "execution_count": 7,
   "id": "dada19f1",
   "metadata": {},
   "outputs": [],
   "source": [
    "#only selecting the columns that are needed for our project\n",
    "housing=(housing_price[['RegionName', 'StateName', 'SizeRank','2015',\n",
    "                       '2016','2017','2018','2019']])"
   ]
  },
  {
   "cell_type": "code",
   "execution_count": 8,
   "id": "cf9defef",
   "metadata": {},
   "outputs": [
    {
     "data": {
      "text/html": [
       "<div>\n",
       "<style scoped>\n",
       "    .dataframe tbody tr th:only-of-type {\n",
       "        vertical-align: middle;\n",
       "    }\n",
       "\n",
       "    .dataframe tbody tr th {\n",
       "        vertical-align: top;\n",
       "    }\n",
       "\n",
       "    .dataframe thead th {\n",
       "        text-align: right;\n",
       "    }\n",
       "</style>\n",
       "<table border=\"1\" class=\"dataframe\">\n",
       "  <thead>\n",
       "    <tr style=\"text-align: right;\">\n",
       "      <th></th>\n",
       "      <th>RegionName</th>\n",
       "      <th>StateName</th>\n",
       "      <th>SizeRank</th>\n",
       "      <th>2015</th>\n",
       "      <th>2016</th>\n",
       "      <th>2017</th>\n",
       "      <th>2018</th>\n",
       "      <th>2019</th>\n",
       "    </tr>\n",
       "  </thead>\n",
       "  <tbody>\n",
       "    <tr>\n",
       "      <th>0</th>\n",
       "      <td>New York</td>\n",
       "      <td>New York</td>\n",
       "      <td>1</td>\n",
       "      <td>517833.333333</td>\n",
       "      <td>534275.000000</td>\n",
       "      <td>542425.000000</td>\n",
       "      <td>555416.666667</td>\n",
       "      <td>565016.666667</td>\n",
       "    </tr>\n",
       "    <tr>\n",
       "      <th>1</th>\n",
       "      <td>Los Angeles</td>\n",
       "      <td>California</td>\n",
       "      <td>2</td>\n",
       "      <td>491658.333333</td>\n",
       "      <td>530025.000000</td>\n",
       "      <td>567958.333333</td>\n",
       "      <td>637291.666667</td>\n",
       "      <td>704691.666667</td>\n",
       "    </tr>\n",
       "    <tr>\n",
       "      <th>2</th>\n",
       "      <td>Houston</td>\n",
       "      <td>Texas</td>\n",
       "      <td>3</td>\n",
       "      <td>171058.333333</td>\n",
       "      <td>181208.333333</td>\n",
       "      <td>190675.000000</td>\n",
       "      <td>196850.000000</td>\n",
       "      <td>208958.333333</td>\n",
       "    </tr>\n",
       "    <tr>\n",
       "      <th>3</th>\n",
       "      <td>Chicago</td>\n",
       "      <td>Illinois</td>\n",
       "      <td>4</td>\n",
       "      <td>236341.666667</td>\n",
       "      <td>218975.000000</td>\n",
       "      <td>228258.333333</td>\n",
       "      <td>245083.333333</td>\n",
       "      <td>265641.666667</td>\n",
       "    </tr>\n",
       "    <tr>\n",
       "      <th>4</th>\n",
       "      <td>San Antonio</td>\n",
       "      <td>Texas</td>\n",
       "      <td>5</td>\n",
       "      <td>164600.000000</td>\n",
       "      <td>171308.333333</td>\n",
       "      <td>177666.666667</td>\n",
       "      <td>188108.333333</td>\n",
       "      <td>197250.000000</td>\n",
       "    </tr>\n",
       "  </tbody>\n",
       "</table>\n",
       "</div>"
      ],
      "text/plain": [
       "    RegionName   StateName  SizeRank           2015           2016  \\\n",
       "0     New York    New York         1  517833.333333  534275.000000   \n",
       "1  Los Angeles  California         2  491658.333333  530025.000000   \n",
       "2      Houston       Texas         3  171058.333333  181208.333333   \n",
       "3      Chicago    Illinois         4  236341.666667  218975.000000   \n",
       "4  San Antonio       Texas         5  164600.000000  171308.333333   \n",
       "\n",
       "            2017           2018           2019  \n",
       "0  542425.000000  555416.666667  565016.666667  \n",
       "1  567958.333333  637291.666667  704691.666667  \n",
       "2  190675.000000  196850.000000  208958.333333  \n",
       "3  228258.333333  245083.333333  265641.666667  \n",
       "4  177666.666667  188108.333333  197250.000000  "
      ]
     },
     "execution_count": 8,
     "metadata": {},
     "output_type": "execute_result"
    }
   ],
   "source": [
    "housing.head()"
   ]
  },
  {
   "cell_type": "code",
   "execution_count": 9,
   "id": "7f4d5bea",
   "metadata": {},
   "outputs": [
    {
     "name": "stdout",
     "output_type": "stream",
     "text": [
      "No of rowsare 3728 and number of columns are 8\n"
     ]
    }
   ],
   "source": [
    "#shape of housing dataset\n",
    "print(f'No of rowsare {housing.shape[0]} and number of columns are {housing.shape[1]}')"
   ]
  },
  {
   "cell_type": "code",
   "execution_count": 10,
   "id": "bdca7ca9",
   "metadata": {},
   "outputs": [
    {
     "name": "stdout",
     "output_type": "stream",
     "text": [
      "<class 'pandas.core.frame.DataFrame'>\n",
      "RangeIndex: 3728 entries, 0 to 3727\n",
      "Data columns (total 8 columns):\n",
      " #   Column      Non-Null Count  Dtype  \n",
      "---  ------      --------------  -----  \n",
      " 0   RegionName  3728 non-null   object \n",
      " 1   StateName   3728 non-null   object \n",
      " 2   SizeRank    3728 non-null   int64  \n",
      " 3   2015        3728 non-null   float64\n",
      " 4   2016        3728 non-null   float64\n",
      " 5   2017        3728 non-null   float64\n",
      " 6   2018        3728 non-null   float64\n",
      " 7   2019        3728 non-null   float64\n",
      "dtypes: float64(5), int64(1), object(2)\n",
      "memory usage: 233.1+ KB\n"
     ]
    }
   ],
   "source": [
    "#info of the dataframe\n",
    "housing.info()"
   ]
  },
  {
   "cell_type": "code",
   "execution_count": 11,
   "id": "4707d20f",
   "metadata": {},
   "outputs": [
    {
     "data": {
      "text/plain": [
       "RegionName\n",
       "Springfield       9\n",
       "Franklin          7\n",
       "Monroe            7\n",
       "Farmington        6\n",
       "Salem             6\n",
       "                 ..\n",
       "Hanford           1\n",
       "Hannibal          1\n",
       "Happy Valley      1\n",
       "Harbor Springs    1\n",
       "Zionsville        1\n",
       "Length: 3158, dtype: int64"
      ]
     },
     "execution_count": 11,
     "metadata": {},
     "output_type": "execute_result"
    }
   ],
   "source": [
    "#total number of unique city\n",
    "housing.value_counts('RegionName')"
   ]
  },
  {
   "cell_type": "code",
   "execution_count": 12,
   "id": "b9c1abc7",
   "metadata": {},
   "outputs": [
    {
     "data": {
      "text/plain": [
       "3158"
      ]
     },
     "execution_count": 12,
     "metadata": {},
     "output_type": "execute_result"
    }
   ],
   "source": [
    "#totoal unique city\n",
    "housing['RegionName'].nunique()"
   ]
  },
  {
   "cell_type": "code",
   "execution_count": 13,
   "id": "bc2ef73d",
   "metadata": {},
   "outputs": [
    {
     "data": {
      "text/plain": [
       "(3158, 8)"
      ]
     },
     "execution_count": 13,
     "metadata": {},
     "output_type": "execute_result"
    }
   ],
   "source": [
    "#there are around 600 city with duplicate value\n",
    "housing=housing.drop_duplicates(subset=['RegionName'])\n",
    "#housing dataframe shape\n",
    "housing.shape"
   ]
  },
  {
   "cell_type": "code",
   "execution_count": 14,
   "id": "3506acf1",
   "metadata": {},
   "outputs": [
    {
     "data": {
      "text/plain": [
       "3158"
      ]
     },
     "execution_count": 14,
     "metadata": {},
     "output_type": "execute_result"
    }
   ],
   "source": [
    "#total unique city after droping duplicates\n",
    "housing['RegionName'].nunique()"
   ]
  },
  {
   "cell_type": "code",
   "execution_count": 15,
   "id": "6c5251fd",
   "metadata": {},
   "outputs": [
    {
     "name": "stdout",
     "output_type": "stream",
     "text": [
      "<class 'pandas.core.frame.DataFrame'>\n",
      "Int64Index: 3158 entries, 0 to 3727\n",
      "Data columns (total 8 columns):\n",
      " #   Column      Non-Null Count  Dtype  \n",
      "---  ------      --------------  -----  \n",
      " 0   RegionName  3158 non-null   object \n",
      " 1   StateName   3158 non-null   object \n",
      " 2   SizeRank    3158 non-null   int64  \n",
      " 3   2015        3158 non-null   float64\n",
      " 4   2016        3158 non-null   float64\n",
      " 5   2017        3158 non-null   float64\n",
      " 6   2018        3158 non-null   float64\n",
      " 7   2019        3158 non-null   float64\n",
      "dtypes: float64(5), int64(1), object(2)\n",
      "memory usage: 222.0+ KB\n"
     ]
    }
   ],
   "source": [
    "housing.info()"
   ]
  },
  {
   "cell_type": "code",
   "execution_count": 16,
   "id": "1e7616ad",
   "metadata": {},
   "outputs": [],
   "source": [
    "#saving the clean housing data to output folder\n",
    "housing.to_csv('output_data/housing_price.csv', index=False)"
   ]
  },
  {
   "cell_type": "code",
   "execution_count": null,
   "id": "5c96a2d3",
   "metadata": {},
   "outputs": [],
   "source": []
  },
  {
   "cell_type": "code",
   "execution_count": null,
   "id": "8e5885c8",
   "metadata": {},
   "outputs": [],
   "source": []
  },
  {
   "cell_type": "code",
   "execution_count": null,
   "id": "32668614",
   "metadata": {},
   "outputs": [],
   "source": []
  },
  {
   "cell_type": "markdown",
   "id": "0b993ff3",
   "metadata": {},
   "source": [
    "## Looking for the crime data in us cities"
   ]
  },
  {
   "cell_type": "code",
   "execution_count": 17,
   "id": "47bff0dc",
   "metadata": {},
   "outputs": [],
   "source": [
    "#importing crime data (downloaded from kaggle)\n",
    "crime_path=os.path.join('Resources', 'crime_data_w_population_and_crime_rate.csv')\n",
    "crime_rate=pd.read_csv(crime_path)"
   ]
  },
  {
   "cell_type": "code",
   "execution_count": 18,
   "id": "55eb2b81",
   "metadata": {},
   "outputs": [
    {
     "data": {
      "text/html": [
       "<div>\n",
       "<style scoped>\n",
       "    .dataframe tbody tr th:only-of-type {\n",
       "        vertical-align: middle;\n",
       "    }\n",
       "\n",
       "    .dataframe tbody tr th {\n",
       "        vertical-align: top;\n",
       "    }\n",
       "\n",
       "    .dataframe thead th {\n",
       "        text-align: right;\n",
       "    }\n",
       "</style>\n",
       "<table border=\"1\" class=\"dataframe\">\n",
       "  <thead>\n",
       "    <tr style=\"text-align: right;\">\n",
       "      <th></th>\n",
       "      <th>county_name</th>\n",
       "      <th>crime_rate_per_100000</th>\n",
       "      <th>index</th>\n",
       "      <th>EDITION</th>\n",
       "      <th>PART</th>\n",
       "      <th>IDNO</th>\n",
       "      <th>CPOPARST</th>\n",
       "      <th>CPOPCRIM</th>\n",
       "      <th>AG_ARRST</th>\n",
       "      <th>AG_OFF</th>\n",
       "      <th>...</th>\n",
       "      <th>RAPE</th>\n",
       "      <th>ROBBERY</th>\n",
       "      <th>AGASSLT</th>\n",
       "      <th>BURGLRY</th>\n",
       "      <th>LARCENY</th>\n",
       "      <th>MVTHEFT</th>\n",
       "      <th>ARSON</th>\n",
       "      <th>population</th>\n",
       "      <th>FIPS_ST</th>\n",
       "      <th>FIPS_CTY</th>\n",
       "    </tr>\n",
       "  </thead>\n",
       "  <tbody>\n",
       "    <tr>\n",
       "      <th>0</th>\n",
       "      <td>St. Louis city, MO</td>\n",
       "      <td>1791.995377</td>\n",
       "      <td>1</td>\n",
       "      <td>1</td>\n",
       "      <td>4</td>\n",
       "      <td>1612</td>\n",
       "      <td>318667</td>\n",
       "      <td>318667</td>\n",
       "      <td>15</td>\n",
       "      <td>15</td>\n",
       "      <td>...</td>\n",
       "      <td>200</td>\n",
       "      <td>1778</td>\n",
       "      <td>3609</td>\n",
       "      <td>4995</td>\n",
       "      <td>13791</td>\n",
       "      <td>3543</td>\n",
       "      <td>464</td>\n",
       "      <td>318416</td>\n",
       "      <td>29</td>\n",
       "      <td>510</td>\n",
       "    </tr>\n",
       "    <tr>\n",
       "      <th>1</th>\n",
       "      <td>Crittenden County, AR</td>\n",
       "      <td>1754.914968</td>\n",
       "      <td>2</td>\n",
       "      <td>1</td>\n",
       "      <td>4</td>\n",
       "      <td>130</td>\n",
       "      <td>50717</td>\n",
       "      <td>50717</td>\n",
       "      <td>4</td>\n",
       "      <td>4</td>\n",
       "      <td>...</td>\n",
       "      <td>38</td>\n",
       "      <td>165</td>\n",
       "      <td>662</td>\n",
       "      <td>1482</td>\n",
       "      <td>1753</td>\n",
       "      <td>189</td>\n",
       "      <td>28</td>\n",
       "      <td>49746</td>\n",
       "      <td>5</td>\n",
       "      <td>35</td>\n",
       "    </tr>\n",
       "    <tr>\n",
       "      <th>2</th>\n",
       "      <td>Alexander County, IL</td>\n",
       "      <td>1664.700485</td>\n",
       "      <td>3</td>\n",
       "      <td>1</td>\n",
       "      <td>4</td>\n",
       "      <td>604</td>\n",
       "      <td>8040</td>\n",
       "      <td>8040</td>\n",
       "      <td>2</td>\n",
       "      <td>2</td>\n",
       "      <td>...</td>\n",
       "      <td>2</td>\n",
       "      <td>5</td>\n",
       "      <td>119</td>\n",
       "      <td>82</td>\n",
       "      <td>184</td>\n",
       "      <td>12</td>\n",
       "      <td>2</td>\n",
       "      <td>7629</td>\n",
       "      <td>17</td>\n",
       "      <td>3</td>\n",
       "    </tr>\n",
       "    <tr>\n",
       "      <th>3</th>\n",
       "      <td>Kenedy County, TX</td>\n",
       "      <td>1456.310680</td>\n",
       "      <td>4</td>\n",
       "      <td>1</td>\n",
       "      <td>4</td>\n",
       "      <td>2681</td>\n",
       "      <td>444</td>\n",
       "      <td>444</td>\n",
       "      <td>1</td>\n",
       "      <td>1</td>\n",
       "      <td>...</td>\n",
       "      <td>3</td>\n",
       "      <td>1</td>\n",
       "      <td>2</td>\n",
       "      <td>5</td>\n",
       "      <td>4</td>\n",
       "      <td>4</td>\n",
       "      <td>0</td>\n",
       "      <td>412</td>\n",
       "      <td>48</td>\n",
       "      <td>261</td>\n",
       "    </tr>\n",
       "    <tr>\n",
       "      <th>4</th>\n",
       "      <td>De Soto Parish, LA</td>\n",
       "      <td>1447.402430</td>\n",
       "      <td>5</td>\n",
       "      <td>1</td>\n",
       "      <td>4</td>\n",
       "      <td>1137</td>\n",
       "      <td>26971</td>\n",
       "      <td>26971</td>\n",
       "      <td>3</td>\n",
       "      <td>3</td>\n",
       "      <td>...</td>\n",
       "      <td>4</td>\n",
       "      <td>17</td>\n",
       "      <td>368</td>\n",
       "      <td>149</td>\n",
       "      <td>494</td>\n",
       "      <td>60</td>\n",
       "      <td>0</td>\n",
       "      <td>27083</td>\n",
       "      <td>22</td>\n",
       "      <td>31</td>\n",
       "    </tr>\n",
       "  </tbody>\n",
       "</table>\n",
       "<p>5 rows × 24 columns</p>\n",
       "</div>"
      ],
      "text/plain": [
       "             county_name  crime_rate_per_100000  index  EDITION  PART  IDNO  \\\n",
       "0     St. Louis city, MO            1791.995377      1        1     4  1612   \n",
       "1  Crittenden County, AR            1754.914968      2        1     4   130   \n",
       "2   Alexander County, IL            1664.700485      3        1     4   604   \n",
       "3      Kenedy County, TX            1456.310680      4        1     4  2681   \n",
       "4     De Soto Parish, LA            1447.402430      5        1     4  1137   \n",
       "\n",
       "   CPOPARST  CPOPCRIM  AG_ARRST  AG_OFF  ...  RAPE  ROBBERY  AGASSLT  BURGLRY  \\\n",
       "0    318667    318667        15      15  ...   200     1778     3609     4995   \n",
       "1     50717     50717         4       4  ...    38      165      662     1482   \n",
       "2      8040      8040         2       2  ...     2        5      119       82   \n",
       "3       444       444         1       1  ...     3        1        2        5   \n",
       "4     26971     26971         3       3  ...     4       17      368      149   \n",
       "\n",
       "   LARCENY  MVTHEFT  ARSON  population  FIPS_ST  FIPS_CTY  \n",
       "0    13791     3543    464      318416       29       510  \n",
       "1     1753      189     28       49746        5        35  \n",
       "2      184       12      2        7629       17         3  \n",
       "3        4        4      0         412       48       261  \n",
       "4      494       60      0       27083       22        31  \n",
       "\n",
       "[5 rows x 24 columns]"
      ]
     },
     "execution_count": 18,
     "metadata": {},
     "output_type": "execute_result"
    }
   ],
   "source": [
    "#looking for crime data\n",
    "crime_rate.head()"
   ]
  },
  {
   "cell_type": "code",
   "execution_count": 19,
   "id": "e80ceff0",
   "metadata": {},
   "outputs": [
    {
     "data": {
      "text/plain": [
       "Index(['county_name', 'crime_rate_per_100000', 'index', 'EDITION', 'PART',\n",
       "       'IDNO', 'CPOPARST', 'CPOPCRIM', 'AG_ARRST', 'AG_OFF', 'COVIND', 'INDEX',\n",
       "       'MODINDX', 'MURDER', 'RAPE', 'ROBBERY', 'AGASSLT', 'BURGLRY', 'LARCENY',\n",
       "       'MVTHEFT', 'ARSON', 'population', 'FIPS_ST', 'FIPS_CTY'],\n",
       "      dtype='object')"
      ]
     },
     "execution_count": 19,
     "metadata": {},
     "output_type": "execute_result"
    }
   ],
   "source": [
    "crime_rate.columns"
   ]
  },
  {
   "cell_type": "code",
   "execution_count": 20,
   "id": "bd74f463",
   "metadata": {},
   "outputs": [
    {
     "name": "stdout",
     "output_type": "stream",
     "text": [
      "No of rowsare 3136 and number of columns are 24\n"
     ]
    }
   ],
   "source": [
    "#shape of crime dataset\n",
    "print(f'No of rowsare {crime_rate.shape[0]} and number of columns are {crime_rate.shape[1]}')"
   ]
  },
  {
   "cell_type": "code",
   "execution_count": 21,
   "id": "19655e33",
   "metadata": {},
   "outputs": [
    {
     "data": {
      "text/plain": [
       "3136"
      ]
     },
     "execution_count": 21,
     "metadata": {},
     "output_type": "execute_result"
    }
   ],
   "source": [
    "#looking for unique county and city name\n",
    "crime_rate['county_name'].nunique()"
   ]
  },
  {
   "cell_type": "code",
   "execution_count": 22,
   "id": "edc7ac32",
   "metadata": {},
   "outputs": [],
   "source": [
    "#looking for only certains columns\n",
    "crime=(crime_rate[['county_name','population', 'crime_rate_per_100000',\n",
    "                   'MURDER', 'RAPE', 'ROBBERY', 'AGASSLT', 'BURGLRY', 'LARCENY',\n",
    "                   'MVTHEFT', 'ARSON']])"
   ]
  },
  {
   "cell_type": "code",
   "execution_count": 23,
   "id": "2163165c",
   "metadata": {},
   "outputs": [
    {
     "data": {
      "text/html": [
       "<div>\n",
       "<style scoped>\n",
       "    .dataframe tbody tr th:only-of-type {\n",
       "        vertical-align: middle;\n",
       "    }\n",
       "\n",
       "    .dataframe tbody tr th {\n",
       "        vertical-align: top;\n",
       "    }\n",
       "\n",
       "    .dataframe thead th {\n",
       "        text-align: right;\n",
       "    }\n",
       "</style>\n",
       "<table border=\"1\" class=\"dataframe\">\n",
       "  <thead>\n",
       "    <tr style=\"text-align: right;\">\n",
       "      <th></th>\n",
       "      <th>county_name</th>\n",
       "      <th>population</th>\n",
       "      <th>crime_rate_per_100000</th>\n",
       "      <th>MURDER</th>\n",
       "      <th>RAPE</th>\n",
       "      <th>ROBBERY</th>\n",
       "      <th>AGASSLT</th>\n",
       "      <th>BURGLRY</th>\n",
       "      <th>LARCENY</th>\n",
       "      <th>MVTHEFT</th>\n",
       "      <th>ARSON</th>\n",
       "    </tr>\n",
       "  </thead>\n",
       "  <tbody>\n",
       "    <tr>\n",
       "      <th>0</th>\n",
       "      <td>St. Louis city, MO</td>\n",
       "      <td>318416</td>\n",
       "      <td>1791.995377</td>\n",
       "      <td>119</td>\n",
       "      <td>200</td>\n",
       "      <td>1778</td>\n",
       "      <td>3609</td>\n",
       "      <td>4995</td>\n",
       "      <td>13791</td>\n",
       "      <td>3543</td>\n",
       "      <td>464</td>\n",
       "    </tr>\n",
       "    <tr>\n",
       "      <th>1</th>\n",
       "      <td>Crittenden County, AR</td>\n",
       "      <td>49746</td>\n",
       "      <td>1754.914968</td>\n",
       "      <td>8</td>\n",
       "      <td>38</td>\n",
       "      <td>165</td>\n",
       "      <td>662</td>\n",
       "      <td>1482</td>\n",
       "      <td>1753</td>\n",
       "      <td>189</td>\n",
       "      <td>28</td>\n",
       "    </tr>\n",
       "    <tr>\n",
       "      <th>2</th>\n",
       "      <td>Alexander County, IL</td>\n",
       "      <td>7629</td>\n",
       "      <td>1664.700485</td>\n",
       "      <td>1</td>\n",
       "      <td>2</td>\n",
       "      <td>5</td>\n",
       "      <td>119</td>\n",
       "      <td>82</td>\n",
       "      <td>184</td>\n",
       "      <td>12</td>\n",
       "      <td>2</td>\n",
       "    </tr>\n",
       "    <tr>\n",
       "      <th>3</th>\n",
       "      <td>Kenedy County, TX</td>\n",
       "      <td>412</td>\n",
       "      <td>1456.310680</td>\n",
       "      <td>0</td>\n",
       "      <td>3</td>\n",
       "      <td>1</td>\n",
       "      <td>2</td>\n",
       "      <td>5</td>\n",
       "      <td>4</td>\n",
       "      <td>4</td>\n",
       "      <td>0</td>\n",
       "    </tr>\n",
       "    <tr>\n",
       "      <th>4</th>\n",
       "      <td>De Soto Parish, LA</td>\n",
       "      <td>27083</td>\n",
       "      <td>1447.402430</td>\n",
       "      <td>3</td>\n",
       "      <td>4</td>\n",
       "      <td>17</td>\n",
       "      <td>368</td>\n",
       "      <td>149</td>\n",
       "      <td>494</td>\n",
       "      <td>60</td>\n",
       "      <td>0</td>\n",
       "    </tr>\n",
       "  </tbody>\n",
       "</table>\n",
       "</div>"
      ],
      "text/plain": [
       "             county_name  population  crime_rate_per_100000  MURDER  RAPE  \\\n",
       "0     St. Louis city, MO      318416            1791.995377     119   200   \n",
       "1  Crittenden County, AR       49746            1754.914968       8    38   \n",
       "2   Alexander County, IL        7629            1664.700485       1     2   \n",
       "3      Kenedy County, TX         412            1456.310680       0     3   \n",
       "4     De Soto Parish, LA       27083            1447.402430       3     4   \n",
       "\n",
       "   ROBBERY  AGASSLT  BURGLRY  LARCENY  MVTHEFT  ARSON  \n",
       "0     1778     3609     4995    13791     3543    464  \n",
       "1      165      662     1482     1753      189     28  \n",
       "2        5      119       82      184       12      2  \n",
       "3        1        2        5        4        4      0  \n",
       "4       17      368      149      494       60      0  "
      ]
     },
     "execution_count": 23,
     "metadata": {},
     "output_type": "execute_result"
    }
   ],
   "source": [
    "crime.head()"
   ]
  },
  {
   "cell_type": "code",
   "execution_count": 24,
   "id": "cc6149fb",
   "metadata": {},
   "outputs": [],
   "source": [
    "#saving the crime_rate data to output folder\n",
    "crime.to_csv('output_data/crime_rate.csv', index=False)"
   ]
  },
  {
   "cell_type": "code",
   "execution_count": null,
   "id": "23a883f2",
   "metadata": {},
   "outputs": [],
   "source": []
  },
  {
   "cell_type": "markdown",
   "id": "2e54fe6c",
   "metadata": {},
   "source": [
    "## Looking for school datasets in US cities"
   ]
  },
  {
   "cell_type": "code",
   "execution_count": 25,
   "id": "3feecbd8",
   "metadata": {},
   "outputs": [],
   "source": [
    "#importing private school data (downloaded from kaggle)\n",
    "school_path=os.path.join('Resources', 'Private_Schools.csv')\n",
    "private_school=pd.read_csv(school_path)"
   ]
  },
  {
   "cell_type": "code",
   "execution_count": 26,
   "id": "2a113db6",
   "metadata": {},
   "outputs": [
    {
     "data": {
      "text/html": [
       "<div>\n",
       "<style scoped>\n",
       "    .dataframe tbody tr th:only-of-type {\n",
       "        vertical-align: middle;\n",
       "    }\n",
       "\n",
       "    .dataframe tbody tr th {\n",
       "        vertical-align: top;\n",
       "    }\n",
       "\n",
       "    .dataframe thead th {\n",
       "        text-align: right;\n",
       "    }\n",
       "</style>\n",
       "<table border=\"1\" class=\"dataframe\">\n",
       "  <thead>\n",
       "    <tr style=\"text-align: right;\">\n",
       "      <th></th>\n",
       "      <th>X</th>\n",
       "      <th>Y</th>\n",
       "      <th>FID</th>\n",
       "      <th>OBJECTID</th>\n",
       "      <th>NCESID</th>\n",
       "      <th>NAME</th>\n",
       "      <th>ADDRESS</th>\n",
       "      <th>CITY</th>\n",
       "      <th>STATE</th>\n",
       "      <th>ZIP</th>\n",
       "      <th>...</th>\n",
       "      <th>SOURCEDATE</th>\n",
       "      <th>VAL_METHOD</th>\n",
       "      <th>VAL_DATE</th>\n",
       "      <th>WEBSITE</th>\n",
       "      <th>LEVEL_</th>\n",
       "      <th>ENROLLMENT</th>\n",
       "      <th>START_GRAD</th>\n",
       "      <th>END_GRADE</th>\n",
       "      <th>FT_TEACHER</th>\n",
       "      <th>SHELTER_ID</th>\n",
       "    </tr>\n",
       "  </thead>\n",
       "  <tbody>\n",
       "    <tr>\n",
       "      <th>0</th>\n",
       "      <td>-8.136078e+06</td>\n",
       "      <td>5.055506e+06</td>\n",
       "      <td>1</td>\n",
       "      <td>1201</td>\n",
       "      <td>A0507274</td>\n",
       "      <td>A CHILD'S GARDEN</td>\n",
       "      <td>20 IVY BROOK RD</td>\n",
       "      <td>SHELTON</td>\n",
       "      <td>CT</td>\n",
       "      <td>6484</td>\n",
       "      <td>...</td>\n",
       "      <td>2010/01/29 00:00:00</td>\n",
       "      <td>IMAGERY</td>\n",
       "      <td>2010/02/25 00:00:00</td>\n",
       "      <td>http://nces.ed.gov/GLOBALLOCATOR/sch_info_popu...</td>\n",
       "      <td>1</td>\n",
       "      <td>6</td>\n",
       "      <td>2</td>\n",
       "      <td>3</td>\n",
       "      <td>2</td>\n",
       "      <td>NOT AVAILABLE</td>\n",
       "    </tr>\n",
       "    <tr>\n",
       "      <th>1</th>\n",
       "      <td>-8.147300e+06</td>\n",
       "      <td>5.037067e+06</td>\n",
       "      <td>2</td>\n",
       "      <td>1202</td>\n",
       "      <td>A0500844</td>\n",
       "      <td>BRIDGEPORT INTERNATIONAL ACADEMY</td>\n",
       "      <td>285 LAFAYETTE ST STE 200</td>\n",
       "      <td>BRIDGEPORT</td>\n",
       "      <td>CT</td>\n",
       "      <td>6604</td>\n",
       "      <td>...</td>\n",
       "      <td>2010/01/29 00:00:00</td>\n",
       "      <td>IMAGERY/OTHER</td>\n",
       "      <td>2010/02/23 00:00:00</td>\n",
       "      <td>http://nces.ed.gov/GLOBALLOCATOR/sch_info_popu...</td>\n",
       "      <td>2</td>\n",
       "      <td>60</td>\n",
       "      <td>14</td>\n",
       "      <td>17</td>\n",
       "      <td>8</td>\n",
       "      <td>NOT AVAILABLE</td>\n",
       "    </tr>\n",
       "    <tr>\n",
       "      <th>2</th>\n",
       "      <td>-8.197042e+06</td>\n",
       "      <td>5.018050e+06</td>\n",
       "      <td>3</td>\n",
       "      <td>1203</td>\n",
       "      <td>A0108054</td>\n",
       "      <td>CARMEL ACADMEY</td>\n",
       "      <td>270 LAKE AVE</td>\n",
       "      <td>GREENWICH</td>\n",
       "      <td>CT</td>\n",
       "      <td>6830</td>\n",
       "      <td>...</td>\n",
       "      <td>2010/01/29 00:00:00</td>\n",
       "      <td>IMAGERY</td>\n",
       "      <td>2010/03/05 00:00:00</td>\n",
       "      <td>http://nces.ed.gov/GLOBALLOCATOR/sch_info_popu...</td>\n",
       "      <td>1</td>\n",
       "      <td>225</td>\n",
       "      <td>3</td>\n",
       "      <td>13</td>\n",
       "      <td>53</td>\n",
       "      <td>NOT AVAILABLE</td>\n",
       "    </tr>\n",
       "    <tr>\n",
       "      <th>3</th>\n",
       "      <td>-8.171504e+06</td>\n",
       "      <td>5.077291e+06</td>\n",
       "      <td>4</td>\n",
       "      <td>1204</td>\n",
       "      <td>A0507283</td>\n",
       "      <td>COUNTRY KIDS CLUB</td>\n",
       "      <td>94 OLD STATE RD</td>\n",
       "      <td>BROOKFIELD</td>\n",
       "      <td>CT</td>\n",
       "      <td>6804</td>\n",
       "      <td>...</td>\n",
       "      <td>2010/01/29 00:00:00</td>\n",
       "      <td>GEOCODE</td>\n",
       "      <td>2010/02/25 00:00:00</td>\n",
       "      <td>http://nces.ed.gov/GLOBALLOCATOR/sch_info_popu...</td>\n",
       "      <td>1</td>\n",
       "      <td>10</td>\n",
       "      <td>2</td>\n",
       "      <td>3</td>\n",
       "      <td>1</td>\n",
       "      <td>NOT AVAILABLE</td>\n",
       "    </tr>\n",
       "    <tr>\n",
       "      <th>4</th>\n",
       "      <td>-8.197596e+06</td>\n",
       "      <td>5.017131e+06</td>\n",
       "      <td>5</td>\n",
       "      <td>1205</td>\n",
       "      <td>01612613</td>\n",
       "      <td>EAGLE HILL SCHOOL</td>\n",
       "      <td>45 GLENVILLE RD</td>\n",
       "      <td>GREENWICH</td>\n",
       "      <td>CT</td>\n",
       "      <td>6831</td>\n",
       "      <td>...</td>\n",
       "      <td>2010/01/29 00:00:00</td>\n",
       "      <td>IMAGERY/OTHER</td>\n",
       "      <td>2010/02/26 00:00:00</td>\n",
       "      <td>http://nces.ed.gov/GLOBALLOCATOR/sch_info_popu...</td>\n",
       "      <td>3</td>\n",
       "      <td>253</td>\n",
       "      <td>4</td>\n",
       "      <td>15</td>\n",
       "      <td>65</td>\n",
       "      <td>NOT AVAILABLE</td>\n",
       "    </tr>\n",
       "  </tbody>\n",
       "</table>\n",
       "<p>5 rows × 33 columns</p>\n",
       "</div>"
      ],
      "text/plain": [
       "              X             Y  FID  OBJECTID    NCESID  \\\n",
       "0 -8.136078e+06  5.055506e+06    1      1201  A0507274   \n",
       "1 -8.147300e+06  5.037067e+06    2      1202  A0500844   \n",
       "2 -8.197042e+06  5.018050e+06    3      1203  A0108054   \n",
       "3 -8.171504e+06  5.077291e+06    4      1204  A0507283   \n",
       "4 -8.197596e+06  5.017131e+06    5      1205  01612613   \n",
       "\n",
       "                               NAME                   ADDRESS        CITY  \\\n",
       "0                  A CHILD'S GARDEN           20 IVY BROOK RD     SHELTON   \n",
       "1  BRIDGEPORT INTERNATIONAL ACADEMY  285 LAFAYETTE ST STE 200  BRIDGEPORT   \n",
       "2                    CARMEL ACADMEY              270 LAKE AVE   GREENWICH   \n",
       "3                 COUNTRY KIDS CLUB           94 OLD STATE RD  BROOKFIELD   \n",
       "4                 EAGLE HILL SCHOOL           45 GLENVILLE RD   GREENWICH   \n",
       "\n",
       "  STATE   ZIP  ...           SOURCEDATE     VAL_METHOD             VAL_DATE  \\\n",
       "0    CT  6484  ...  2010/01/29 00:00:00        IMAGERY  2010/02/25 00:00:00   \n",
       "1    CT  6604  ...  2010/01/29 00:00:00  IMAGERY/OTHER  2010/02/23 00:00:00   \n",
       "2    CT  6830  ...  2010/01/29 00:00:00        IMAGERY  2010/03/05 00:00:00   \n",
       "3    CT  6804  ...  2010/01/29 00:00:00        GEOCODE  2010/02/25 00:00:00   \n",
       "4    CT  6831  ...  2010/01/29 00:00:00  IMAGERY/OTHER  2010/02/26 00:00:00   \n",
       "\n",
       "                                             WEBSITE  LEVEL_ ENROLLMENT  \\\n",
       "0  http://nces.ed.gov/GLOBALLOCATOR/sch_info_popu...       1          6   \n",
       "1  http://nces.ed.gov/GLOBALLOCATOR/sch_info_popu...       2         60   \n",
       "2  http://nces.ed.gov/GLOBALLOCATOR/sch_info_popu...       1        225   \n",
       "3  http://nces.ed.gov/GLOBALLOCATOR/sch_info_popu...       1         10   \n",
       "4  http://nces.ed.gov/GLOBALLOCATOR/sch_info_popu...       3        253   \n",
       "\n",
       "   START_GRAD END_GRADE  FT_TEACHER     SHELTER_ID  \n",
       "0           2         3           2  NOT AVAILABLE  \n",
       "1          14        17           8  NOT AVAILABLE  \n",
       "2           3        13          53  NOT AVAILABLE  \n",
       "3           2         3           1  NOT AVAILABLE  \n",
       "4           4        15          65  NOT AVAILABLE  \n",
       "\n",
       "[5 rows x 33 columns]"
      ]
     },
     "execution_count": 26,
     "metadata": {},
     "output_type": "execute_result"
    }
   ],
   "source": [
    "#looking for private school datasets\n",
    "private_school.head()"
   ]
  },
  {
   "cell_type": "code",
   "execution_count": 27,
   "id": "8289fb27",
   "metadata": {},
   "outputs": [
    {
     "data": {
      "text/plain": [
       "Index(['X', 'Y', 'FID', 'OBJECTID', 'NCESID', 'NAME', 'ADDRESS', 'CITY',\n",
       "       'STATE', 'ZIP', 'ZIP4', 'TELEPHONE', 'TYPE', 'STATUS', 'POPULATION',\n",
       "       'COUNTY', 'COUNTYFIPS', 'COUNTRY', 'LATITUDE', 'LONGITUDE',\n",
       "       'NAICS_CODE', 'NAICS_DESC', 'SOURCE', 'SOURCEDATE', 'VAL_METHOD',\n",
       "       'VAL_DATE', 'WEBSITE', 'LEVEL_', 'ENROLLMENT', 'START_GRAD',\n",
       "       'END_GRADE', 'FT_TEACHER', 'SHELTER_ID'],\n",
       "      dtype='object')"
      ]
     },
     "execution_count": 27,
     "metadata": {},
     "output_type": "execute_result"
    }
   ],
   "source": [
    "private_school.columns"
   ]
  },
  {
   "cell_type": "code",
   "execution_count": 28,
   "id": "78ce5939",
   "metadata": {},
   "outputs": [
    {
     "data": {
      "text/plain": [
       "USA    31064\n",
       "Name: COUNTRY, dtype: int64"
      ]
     },
     "execution_count": 28,
     "metadata": {},
     "output_type": "execute_result"
    }
   ],
   "source": [
    "private_school['COUNTRY'].value_counts()"
   ]
  },
  {
   "cell_type": "code",
   "execution_count": 29,
   "id": "ea431b97",
   "metadata": {},
   "outputs": [],
   "source": [
    "#cleaning datasets \n",
    "school=private_school[['NAME', 'ADDRESS', 'CITY',\n",
    "                    'STATE', 'ZIP',  'TYPE',  'POPULATION',\n",
    "                    'COUNTY',  'COUNTRY', 'LATITUDE', 'LONGITUDE', 'LEVEL_']]"
   ]
  },
  {
   "cell_type": "code",
   "execution_count": 30,
   "id": "ab3672c2",
   "metadata": {},
   "outputs": [
    {
     "name": "stdout",
     "output_type": "stream",
     "text": [
      "No of rowsare 31064 and number of columns are 12\n"
     ]
    }
   ],
   "source": [
    "#shape of school dataset\n",
    "print(f'No of rowsare {school.shape[0]} and number of columns are {school.shape[1]}')"
   ]
  },
  {
   "cell_type": "code",
   "execution_count": 31,
   "id": "beeabfa1",
   "metadata": {},
   "outputs": [
    {
     "data": {
      "text/html": [
       "<div>\n",
       "<style scoped>\n",
       "    .dataframe tbody tr th:only-of-type {\n",
       "        vertical-align: middle;\n",
       "    }\n",
       "\n",
       "    .dataframe tbody tr th {\n",
       "        vertical-align: top;\n",
       "    }\n",
       "\n",
       "    .dataframe thead th {\n",
       "        text-align: right;\n",
       "    }\n",
       "</style>\n",
       "<table border=\"1\" class=\"dataframe\">\n",
       "  <thead>\n",
       "    <tr style=\"text-align: right;\">\n",
       "      <th></th>\n",
       "      <th>NAME</th>\n",
       "      <th>ADDRESS</th>\n",
       "      <th>CITY</th>\n",
       "      <th>STATE</th>\n",
       "      <th>ZIP</th>\n",
       "      <th>TYPE</th>\n",
       "      <th>POPULATION</th>\n",
       "      <th>COUNTY</th>\n",
       "      <th>COUNTRY</th>\n",
       "      <th>LATITUDE</th>\n",
       "      <th>LONGITUDE</th>\n",
       "      <th>LEVEL_</th>\n",
       "    </tr>\n",
       "  </thead>\n",
       "  <tbody>\n",
       "    <tr>\n",
       "      <th>0</th>\n",
       "      <td>A CHILD'S GARDEN</td>\n",
       "      <td>20 IVY BROOK RD</td>\n",
       "      <td>SHELTON</td>\n",
       "      <td>CT</td>\n",
       "      <td>6484</td>\n",
       "      <td>7</td>\n",
       "      <td>8</td>\n",
       "      <td>FAIRFIELD</td>\n",
       "      <td>USA</td>\n",
       "      <td>41.291990</td>\n",
       "      <td>-73.087632</td>\n",
       "      <td>1</td>\n",
       "    </tr>\n",
       "    <tr>\n",
       "      <th>1</th>\n",
       "      <td>BRIDGEPORT INTERNATIONAL ACADEMY</td>\n",
       "      <td>285 LAFAYETTE ST STE 200</td>\n",
       "      <td>BRIDGEPORT</td>\n",
       "      <td>CT</td>\n",
       "      <td>6604</td>\n",
       "      <td>3</td>\n",
       "      <td>68</td>\n",
       "      <td>FAIRFIELD</td>\n",
       "      <td>USA</td>\n",
       "      <td>41.167416</td>\n",
       "      <td>-73.188438</td>\n",
       "      <td>2</td>\n",
       "    </tr>\n",
       "    <tr>\n",
       "      <th>2</th>\n",
       "      <td>CARMEL ACADMEY</td>\n",
       "      <td>270 LAKE AVE</td>\n",
       "      <td>GREENWICH</td>\n",
       "      <td>CT</td>\n",
       "      <td>6830</td>\n",
       "      <td>3</td>\n",
       "      <td>278</td>\n",
       "      <td>FAIRFIELD</td>\n",
       "      <td>USA</td>\n",
       "      <td>41.038690</td>\n",
       "      <td>-73.635283</td>\n",
       "      <td>1</td>\n",
       "    </tr>\n",
       "    <tr>\n",
       "      <th>3</th>\n",
       "      <td>COUNTRY KIDS CLUB</td>\n",
       "      <td>94 OLD STATE RD</td>\n",
       "      <td>BROOKFIELD</td>\n",
       "      <td>CT</td>\n",
       "      <td>6804</td>\n",
       "      <td>7</td>\n",
       "      <td>11</td>\n",
       "      <td>FAIRFIELD</td>\n",
       "      <td>USA</td>\n",
       "      <td>41.438861</td>\n",
       "      <td>-73.405868</td>\n",
       "      <td>1</td>\n",
       "    </tr>\n",
       "    <tr>\n",
       "      <th>4</th>\n",
       "      <td>EAGLE HILL SCHOOL</td>\n",
       "      <td>45 GLENVILLE RD</td>\n",
       "      <td>GREENWICH</td>\n",
       "      <td>CT</td>\n",
       "      <td>6831</td>\n",
       "      <td>4</td>\n",
       "      <td>318</td>\n",
       "      <td>FAIRFIELD</td>\n",
       "      <td>USA</td>\n",
       "      <td>41.032465</td>\n",
       "      <td>-73.640254</td>\n",
       "      <td>3</td>\n",
       "    </tr>\n",
       "  </tbody>\n",
       "</table>\n",
       "</div>"
      ],
      "text/plain": [
       "                               NAME                   ADDRESS        CITY  \\\n",
       "0                  A CHILD'S GARDEN           20 IVY BROOK RD     SHELTON   \n",
       "1  BRIDGEPORT INTERNATIONAL ACADEMY  285 LAFAYETTE ST STE 200  BRIDGEPORT   \n",
       "2                    CARMEL ACADMEY              270 LAKE AVE   GREENWICH   \n",
       "3                 COUNTRY KIDS CLUB           94 OLD STATE RD  BROOKFIELD   \n",
       "4                 EAGLE HILL SCHOOL           45 GLENVILLE RD   GREENWICH   \n",
       "\n",
       "  STATE   ZIP  TYPE  POPULATION     COUNTY COUNTRY   LATITUDE  LONGITUDE  \\\n",
       "0    CT  6484     7           8  FAIRFIELD     USA  41.291990 -73.087632   \n",
       "1    CT  6604     3          68  FAIRFIELD     USA  41.167416 -73.188438   \n",
       "2    CT  6830     3         278  FAIRFIELD     USA  41.038690 -73.635283   \n",
       "3    CT  6804     7          11  FAIRFIELD     USA  41.438861 -73.405868   \n",
       "4    CT  6831     4         318  FAIRFIELD     USA  41.032465 -73.640254   \n",
       "\n",
       "   LEVEL_  \n",
       "0       1  \n",
       "1       2  \n",
       "2       1  \n",
       "3       1  \n",
       "4       3  "
      ]
     },
     "execution_count": 31,
     "metadata": {},
     "output_type": "execute_result"
    }
   ],
   "source": [
    "school.head()"
   ]
  },
  {
   "cell_type": "code",
   "execution_count": 32,
   "id": "88991ed3",
   "metadata": {},
   "outputs": [
    {
     "data": {
      "text/plain": [
       "Index(['NAME', 'ADDRESS', 'CITY', 'STATE', 'ZIP', 'TYPE', 'POPULATION',\n",
       "       'COUNTY', 'COUNTRY', 'LATITUDE', 'LONGITUDE', 'LEVEL_'],\n",
       "      dtype='object')"
      ]
     },
     "execution_count": 32,
     "metadata": {},
     "output_type": "execute_result"
    }
   ],
   "source": [
    "school.columns"
   ]
  },
  {
   "cell_type": "code",
   "execution_count": 33,
   "id": "1f5fb390",
   "metadata": {},
   "outputs": [],
   "source": [
    "school_clean=school.groupby('CITY').agg({'NAME':'count',\n",
    "                           'STATE': lambda x : x.unique(),                    \n",
    "                           'COUNTY': lambda x : x.unique(),\n",
    "                           'ZIP': lambda x : x.unique()}).reset_index()"
   ]
  },
  {
   "cell_type": "code",
   "execution_count": 34,
   "id": "5c199754",
   "metadata": {},
   "outputs": [
    {
     "data": {
      "text/plain": [
       "6163"
      ]
     },
     "execution_count": 34,
     "metadata": {},
     "output_type": "execute_result"
    }
   ],
   "source": [
    "#number of unique city\n",
    "school_clean['CITY'].nunique()"
   ]
  },
  {
   "cell_type": "code",
   "execution_count": null,
   "id": "90f44251",
   "metadata": {},
   "outputs": [],
   "source": []
  },
  {
   "cell_type": "code",
   "execution_count": null,
   "id": "f558e69e",
   "metadata": {},
   "outputs": [],
   "source": []
  },
  {
   "cell_type": "code",
   "execution_count": null,
   "id": "e263fa20",
   "metadata": {},
   "outputs": [],
   "source": []
  }
 ],
 "metadata": {
  "kernelspec": {
   "display_name": "Python 3 (ipykernel)",
   "language": "python",
   "name": "python3"
  },
  "language_info": {
   "codemirror_mode": {
    "name": "ipython",
    "version": 3
   },
   "file_extension": ".py",
   "mimetype": "text/x-python",
   "name": "python",
   "nbconvert_exporter": "python",
   "pygments_lexer": "ipython3",
   "version": "3.8.10"
  }
 },
 "nbformat": 4,
 "nbformat_minor": 5
}
