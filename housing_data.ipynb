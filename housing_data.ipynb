{
 "cells": [
  {
   "cell_type": "code",
   "execution_count": 1,
   "id": "08fd29dd",
   "metadata": {},
   "outputs": [],
   "source": [
    "# Dependencies and Setup\n",
    "import pandas as pd\n",
    "import matplotlib.pyplot as plt\n",
    "import seaborn as sns\n",
    "import numpy as np\n",
    "from matplotlib import rcParams\n",
    "import scipy.stats as sts\n",
    "import os\n",
    "from collections import Counter\n",
    "import requests\n",
    "import json\n",
    "\n",
    "# API Keys\n",
    "from api_keys import gkey"
   ]
  },
  {
   "cell_type": "markdown",
   "id": "ce615645",
   "metadata": {},
   "source": [
    "## Looking for the house price data in us cities"
   ]
  },
  {
   "cell_type": "code",
   "execution_count": 2,
   "id": "8cf19f36",
   "metadata": {},
   "outputs": [],
   "source": [
    "#importing housing sale data (downloaded from kaggle)\n",
    "price_path=os.path.join('Resources', 'Sale_Prices_City.csv')\n",
    "housing_price=pd.read_csv(price_path)"
   ]
  },
  {
   "cell_type": "code",
   "execution_count": 3,
   "id": "ce55c7b0",
   "metadata": {},
   "outputs": [
    {
     "data": {
      "text/html": [
       "<div>\n",
       "<style scoped>\n",
       "    .dataframe tbody tr th:only-of-type {\n",
       "        vertical-align: middle;\n",
       "    }\n",
       "\n",
       "    .dataframe tbody tr th {\n",
       "        vertical-align: top;\n",
       "    }\n",
       "\n",
       "    .dataframe thead th {\n",
       "        text-align: right;\n",
       "    }\n",
       "</style>\n",
       "<table border=\"1\" class=\"dataframe\">\n",
       "  <thead>\n",
       "    <tr style=\"text-align: right;\">\n",
       "      <th></th>\n",
       "      <th>Unnamed: 0</th>\n",
       "      <th>RegionID</th>\n",
       "      <th>RegionName</th>\n",
       "      <th>StateName</th>\n",
       "      <th>SizeRank</th>\n",
       "      <th>2008-03</th>\n",
       "      <th>2008-04</th>\n",
       "      <th>2008-05</th>\n",
       "      <th>2008-06</th>\n",
       "      <th>2008-07</th>\n",
       "      <th>...</th>\n",
       "      <th>2019-06</th>\n",
       "      <th>2019-07</th>\n",
       "      <th>2019-08</th>\n",
       "      <th>2019-09</th>\n",
       "      <th>2019-10</th>\n",
       "      <th>2019-11</th>\n",
       "      <th>2019-12</th>\n",
       "      <th>2020-01</th>\n",
       "      <th>2020-02</th>\n",
       "      <th>2020-03</th>\n",
       "    </tr>\n",
       "  </thead>\n",
       "  <tbody>\n",
       "    <tr>\n",
       "      <th>0</th>\n",
       "      <td>0</td>\n",
       "      <td>6181</td>\n",
       "      <td>New York</td>\n",
       "      <td>New York</td>\n",
       "      <td>1</td>\n",
       "      <td>NaN</td>\n",
       "      <td>NaN</td>\n",
       "      <td>NaN</td>\n",
       "      <td>NaN</td>\n",
       "      <td>NaN</td>\n",
       "      <td>...</td>\n",
       "      <td>563200.0</td>\n",
       "      <td>570500.0</td>\n",
       "      <td>572800.0</td>\n",
       "      <td>569900.0</td>\n",
       "      <td>560800.0</td>\n",
       "      <td>571500.0</td>\n",
       "      <td>575100.0</td>\n",
       "      <td>571700.0</td>\n",
       "      <td>568300.0</td>\n",
       "      <td>573600.0</td>\n",
       "    </tr>\n",
       "    <tr>\n",
       "      <th>1</th>\n",
       "      <td>1</td>\n",
       "      <td>12447</td>\n",
       "      <td>Los Angeles</td>\n",
       "      <td>California</td>\n",
       "      <td>2</td>\n",
       "      <td>507600.0</td>\n",
       "      <td>489600.0</td>\n",
       "      <td>463000.0</td>\n",
       "      <td>453100.0</td>\n",
       "      <td>438100.0</td>\n",
       "      <td>...</td>\n",
       "      <td>706800.0</td>\n",
       "      <td>711800.0</td>\n",
       "      <td>717300.0</td>\n",
       "      <td>714100.0</td>\n",
       "      <td>711900.0</td>\n",
       "      <td>718400.0</td>\n",
       "      <td>727100.0</td>\n",
       "      <td>738200.0</td>\n",
       "      <td>760200.0</td>\n",
       "      <td>NaN</td>\n",
       "    </tr>\n",
       "    <tr>\n",
       "      <th>2</th>\n",
       "      <td>2</td>\n",
       "      <td>39051</td>\n",
       "      <td>Houston</td>\n",
       "      <td>Texas</td>\n",
       "      <td>3</td>\n",
       "      <td>138400.0</td>\n",
       "      <td>135500.0</td>\n",
       "      <td>132200.0</td>\n",
       "      <td>131000.0</td>\n",
       "      <td>133400.0</td>\n",
       "      <td>...</td>\n",
       "      <td>209700.0</td>\n",
       "      <td>207400.0</td>\n",
       "      <td>207600.0</td>\n",
       "      <td>207000.0</td>\n",
       "      <td>211400.0</td>\n",
       "      <td>211500.0</td>\n",
       "      <td>217700.0</td>\n",
       "      <td>219200.0</td>\n",
       "      <td>223800.0</td>\n",
       "      <td>NaN</td>\n",
       "    </tr>\n",
       "    <tr>\n",
       "      <th>3</th>\n",
       "      <td>3</td>\n",
       "      <td>17426</td>\n",
       "      <td>Chicago</td>\n",
       "      <td>Illinois</td>\n",
       "      <td>4</td>\n",
       "      <td>325100.0</td>\n",
       "      <td>314800.0</td>\n",
       "      <td>286900.0</td>\n",
       "      <td>274600.0</td>\n",
       "      <td>268500.0</td>\n",
       "      <td>...</td>\n",
       "      <td>271500.0</td>\n",
       "      <td>266500.0</td>\n",
       "      <td>264900.0</td>\n",
       "      <td>265000.0</td>\n",
       "      <td>264100.0</td>\n",
       "      <td>264300.0</td>\n",
       "      <td>270000.0</td>\n",
       "      <td>281400.0</td>\n",
       "      <td>302900.0</td>\n",
       "      <td>309200.0</td>\n",
       "    </tr>\n",
       "    <tr>\n",
       "      <th>4</th>\n",
       "      <td>4</td>\n",
       "      <td>6915</td>\n",
       "      <td>San Antonio</td>\n",
       "      <td>Texas</td>\n",
       "      <td>5</td>\n",
       "      <td>130900.0</td>\n",
       "      <td>131300.0</td>\n",
       "      <td>131200.0</td>\n",
       "      <td>131500.0</td>\n",
       "      <td>131600.0</td>\n",
       "      <td>...</td>\n",
       "      <td>197100.0</td>\n",
       "      <td>198700.0</td>\n",
       "      <td>200200.0</td>\n",
       "      <td>200800.0</td>\n",
       "      <td>203400.0</td>\n",
       "      <td>203800.0</td>\n",
       "      <td>205400.0</td>\n",
       "      <td>205400.0</td>\n",
       "      <td>208300.0</td>\n",
       "      <td>NaN</td>\n",
       "    </tr>\n",
       "  </tbody>\n",
       "</table>\n",
       "<p>5 rows × 150 columns</p>\n",
       "</div>"
      ],
      "text/plain": [
       "   Unnamed: 0  RegionID   RegionName   StateName  SizeRank   2008-03  \\\n",
       "0           0      6181     New York    New York         1       NaN   \n",
       "1           1     12447  Los Angeles  California         2  507600.0   \n",
       "2           2     39051      Houston       Texas         3  138400.0   \n",
       "3           3     17426      Chicago    Illinois         4  325100.0   \n",
       "4           4      6915  San Antonio       Texas         5  130900.0   \n",
       "\n",
       "    2008-04   2008-05   2008-06   2008-07  ...   2019-06   2019-07   2019-08  \\\n",
       "0       NaN       NaN       NaN       NaN  ...  563200.0  570500.0  572800.0   \n",
       "1  489600.0  463000.0  453100.0  438100.0  ...  706800.0  711800.0  717300.0   \n",
       "2  135500.0  132200.0  131000.0  133400.0  ...  209700.0  207400.0  207600.0   \n",
       "3  314800.0  286900.0  274600.0  268500.0  ...  271500.0  266500.0  264900.0   \n",
       "4  131300.0  131200.0  131500.0  131600.0  ...  197100.0  198700.0  200200.0   \n",
       "\n",
       "    2019-09   2019-10   2019-11   2019-12   2020-01   2020-02   2020-03  \n",
       "0  569900.0  560800.0  571500.0  575100.0  571700.0  568300.0  573600.0  \n",
       "1  714100.0  711900.0  718400.0  727100.0  738200.0  760200.0       NaN  \n",
       "2  207000.0  211400.0  211500.0  217700.0  219200.0  223800.0       NaN  \n",
       "3  265000.0  264100.0  264300.0  270000.0  281400.0  302900.0  309200.0  \n",
       "4  200800.0  203400.0  203800.0  205400.0  205400.0  208300.0       NaN  \n",
       "\n",
       "[5 rows x 150 columns]"
      ]
     },
     "execution_count": 3,
     "metadata": {},
     "output_type": "execute_result"
    }
   ],
   "source": [
    "#looking for housing_price data\n",
    "housing_price.head()"
   ]
  },
  {
   "cell_type": "code",
   "execution_count": 4,
   "id": "bc795404",
   "metadata": {},
   "outputs": [
    {
     "data": {
      "text/plain": [
       "Index(['Unnamed: 0', 'RegionID', 'RegionName', 'StateName', 'SizeRank',\n",
       "       '2008-03', '2008-04', '2008-05', '2008-06', '2008-07',\n",
       "       ...\n",
       "       '2019-06', '2019-07', '2019-08', '2019-09', '2019-10', '2019-11',\n",
       "       '2019-12', '2020-01', '2020-02', '2020-03'],\n",
       "      dtype='object', length=150)"
      ]
     },
     "execution_count": 4,
     "metadata": {},
     "output_type": "execute_result"
    }
   ],
   "source": [
    "#columns of housing price dataframe\n",
    "housing_price.columns\n"
   ]
  },
  {
   "cell_type": "code",
   "execution_count": null,
   "id": "385b5d2e",
   "metadata": {},
   "outputs": [],
   "source": []
  },
  {
   "cell_type": "code",
   "execution_count": 5,
   "id": "9687a423",
   "metadata": {},
   "outputs": [],
   "source": [
    "#housing price is for each month, we need to sum and average to ger price per year\n",
    "#to get the average housing data \n",
    "for i in range(2009, 2020):\n",
    "    housing_price[f'{i}']=((housing_price[[f'{i}-01',f'{i}-02',f'{i}-03',f'{i}-01',\n",
    "                                      f'{i}-05',f'{i}-06',f'{i}-07',f'{i}-08',\n",
    "                                     f'{i}-09',f'{i}-10',f'{i}-11',f'{i}-12']].sum(axis=1))/12)"
   ]
  },
  {
   "cell_type": "code",
   "execution_count": 7,
   "id": "1c93eeb5",
   "metadata": {},
   "outputs": [],
   "source": [
    "#only selecting the columns that are needed for our project\n",
    "housing=(housing_price[['RegionName', 'StateName', 'SizeRank','2015',\n",
    "                       '2016','2017','2018','2019']])"
   ]
  },
  {
   "cell_type": "code",
   "execution_count": 8,
   "id": "99283793",
   "metadata": {},
   "outputs": [
    {
     "data": {
      "text/html": [
       "<div>\n",
       "<style scoped>\n",
       "    .dataframe tbody tr th:only-of-type {\n",
       "        vertical-align: middle;\n",
       "    }\n",
       "\n",
       "    .dataframe tbody tr th {\n",
       "        vertical-align: top;\n",
       "    }\n",
       "\n",
       "    .dataframe thead th {\n",
       "        text-align: right;\n",
       "    }\n",
       "</style>\n",
       "<table border=\"1\" class=\"dataframe\">\n",
       "  <thead>\n",
       "    <tr style=\"text-align: right;\">\n",
       "      <th></th>\n",
       "      <th>RegionName</th>\n",
       "      <th>StateName</th>\n",
       "      <th>SizeRank</th>\n",
       "      <th>2015</th>\n",
       "      <th>2016</th>\n",
       "      <th>2017</th>\n",
       "      <th>2018</th>\n",
       "      <th>2019</th>\n",
       "    </tr>\n",
       "  </thead>\n",
       "  <tbody>\n",
       "    <tr>\n",
       "      <th>0</th>\n",
       "      <td>New York</td>\n",
       "      <td>New York</td>\n",
       "      <td>1</td>\n",
       "      <td>517833.333333</td>\n",
       "      <td>534275.000000</td>\n",
       "      <td>542425.000000</td>\n",
       "      <td>555416.666667</td>\n",
       "      <td>565016.666667</td>\n",
       "    </tr>\n",
       "    <tr>\n",
       "      <th>1</th>\n",
       "      <td>Los Angeles</td>\n",
       "      <td>California</td>\n",
       "      <td>2</td>\n",
       "      <td>491658.333333</td>\n",
       "      <td>530025.000000</td>\n",
       "      <td>567958.333333</td>\n",
       "      <td>637291.666667</td>\n",
       "      <td>704691.666667</td>\n",
       "    </tr>\n",
       "    <tr>\n",
       "      <th>2</th>\n",
       "      <td>Houston</td>\n",
       "      <td>Texas</td>\n",
       "      <td>3</td>\n",
       "      <td>171058.333333</td>\n",
       "      <td>181208.333333</td>\n",
       "      <td>190675.000000</td>\n",
       "      <td>196850.000000</td>\n",
       "      <td>208958.333333</td>\n",
       "    </tr>\n",
       "    <tr>\n",
       "      <th>3</th>\n",
       "      <td>Chicago</td>\n",
       "      <td>Illinois</td>\n",
       "      <td>4</td>\n",
       "      <td>236341.666667</td>\n",
       "      <td>218975.000000</td>\n",
       "      <td>228258.333333</td>\n",
       "      <td>245083.333333</td>\n",
       "      <td>265641.666667</td>\n",
       "    </tr>\n",
       "    <tr>\n",
       "      <th>4</th>\n",
       "      <td>San Antonio</td>\n",
       "      <td>Texas</td>\n",
       "      <td>5</td>\n",
       "      <td>164600.000000</td>\n",
       "      <td>171308.333333</td>\n",
       "      <td>177666.666667</td>\n",
       "      <td>188108.333333</td>\n",
       "      <td>197250.000000</td>\n",
       "    </tr>\n",
       "  </tbody>\n",
       "</table>\n",
       "</div>"
      ],
      "text/plain": [
       "    RegionName   StateName  SizeRank           2015           2016  \\\n",
       "0     New York    New York         1  517833.333333  534275.000000   \n",
       "1  Los Angeles  California         2  491658.333333  530025.000000   \n",
       "2      Houston       Texas         3  171058.333333  181208.333333   \n",
       "3      Chicago    Illinois         4  236341.666667  218975.000000   \n",
       "4  San Antonio       Texas         5  164600.000000  171308.333333   \n",
       "\n",
       "            2017           2018           2019  \n",
       "0  542425.000000  555416.666667  565016.666667  \n",
       "1  567958.333333  637291.666667  704691.666667  \n",
       "2  190675.000000  196850.000000  208958.333333  \n",
       "3  228258.333333  245083.333333  265641.666667  \n",
       "4  177666.666667  188108.333333  197250.000000  "
      ]
     },
     "execution_count": 8,
     "metadata": {},
     "output_type": "execute_result"
    }
   ],
   "source": [
    "housing.head()"
   ]
  },
  {
   "cell_type": "code",
   "execution_count": 9,
   "id": "86649962",
   "metadata": {},
   "outputs": [
    {
     "name": "stdout",
     "output_type": "stream",
     "text": [
      "No of rowsare 3728 and number of columns are 8\n"
     ]
    }
   ],
   "source": [
    "#shape of housing dataset\n",
    "print(f'No of rowsare {housing.shape[0]} and number of columns are {housing.shape[1]}')"
   ]
  },
  {
   "cell_type": "code",
   "execution_count": 10,
   "id": "c617009e",
   "metadata": {},
   "outputs": [
    {
     "name": "stdout",
     "output_type": "stream",
     "text": [
      "<class 'pandas.core.frame.DataFrame'>\n",
      "RangeIndex: 3728 entries, 0 to 3727\n",
      "Data columns (total 8 columns):\n",
      " #   Column      Non-Null Count  Dtype  \n",
      "---  ------      --------------  -----  \n",
      " 0   RegionName  3728 non-null   object \n",
      " 1   StateName   3728 non-null   object \n",
      " 2   SizeRank    3728 non-null   int64  \n",
      " 3   2015        3728 non-null   float64\n",
      " 4   2016        3728 non-null   float64\n",
      " 5   2017        3728 non-null   float64\n",
      " 6   2018        3728 non-null   float64\n",
      " 7   2019        3728 non-null   float64\n",
      "dtypes: float64(5), int64(1), object(2)\n",
      "memory usage: 233.1+ KB\n"
     ]
    }
   ],
   "source": [
    "#info of the dataframe\n",
    "housing.info()"
   ]
  },
  {
   "cell_type": "code",
   "execution_count": 11,
   "id": "2c3c1880",
   "metadata": {},
   "outputs": [
    {
     "data": {
      "text/plain": [
       "RegionName\n",
       "Springfield       9\n",
       "Franklin          7\n",
       "Monroe            7\n",
       "Farmington        6\n",
       "Salem             6\n",
       "                 ..\n",
       "Hanford           1\n",
       "Hannibal          1\n",
       "Happy Valley      1\n",
       "Harbor Springs    1\n",
       "Zionsville        1\n",
       "Length: 3158, dtype: int64"
      ]
     },
     "execution_count": 11,
     "metadata": {},
     "output_type": "execute_result"
    }
   ],
   "source": [
    "#total number of unique city\n",
    "housing.value_counts('RegionName')"
   ]
  },
  {
   "cell_type": "code",
   "execution_count": 12,
   "id": "7e322a25",
   "metadata": {},
   "outputs": [
    {
     "data": {
      "text/plain": [
       "3158"
      ]
     },
     "execution_count": 12,
     "metadata": {},
     "output_type": "execute_result"
    }
   ],
   "source": [
    "#totoal unique city\n",
    "housing['RegionName'].nunique()"
   ]
  },
  {
   "cell_type": "code",
   "execution_count": 13,
   "id": "c555a1b6",
   "metadata": {},
   "outputs": [
    {
     "data": {
      "text/plain": [
       "(3158, 8)"
      ]
     },
     "execution_count": 13,
     "metadata": {},
     "output_type": "execute_result"
    }
   ],
   "source": [
    "#there are around 600 city with duplicate value\n",
    "housing=housing.drop_duplicates(subset=['RegionName'])\n",
    "#housing dataframe shape\n",
    "housing.shape"
   ]
  },
  {
   "cell_type": "code",
   "execution_count": 14,
   "id": "2cb9476e",
   "metadata": {},
   "outputs": [
    {
     "data": {
      "text/plain": [
       "3158"
      ]
     },
     "execution_count": 14,
     "metadata": {},
     "output_type": "execute_result"
    }
   ],
   "source": [
    "#total unique city after droping duplicates\n",
    "housing['RegionName'].nunique()"
   ]
  },
  {
   "cell_type": "code",
   "execution_count": 15,
   "id": "6618e422",
   "metadata": {},
   "outputs": [
    {
     "name": "stdout",
     "output_type": "stream",
     "text": [
      "<class 'pandas.core.frame.DataFrame'>\n",
      "Int64Index: 3158 entries, 0 to 3727\n",
      "Data columns (total 8 columns):\n",
      " #   Column      Non-Null Count  Dtype  \n",
      "---  ------      --------------  -----  \n",
      " 0   RegionName  3158 non-null   object \n",
      " 1   StateName   3158 non-null   object \n",
      " 2   SizeRank    3158 non-null   int64  \n",
      " 3   2015        3158 non-null   float64\n",
      " 4   2016        3158 non-null   float64\n",
      " 5   2017        3158 non-null   float64\n",
      " 6   2018        3158 non-null   float64\n",
      " 7   2019        3158 non-null   float64\n",
      "dtypes: float64(5), int64(1), object(2)\n",
      "memory usage: 222.0+ KB\n"
     ]
    }
   ],
   "source": [
    "housing.info()"
   ]
  },
  {
   "cell_type": "code",
   "execution_count": 16,
   "id": "380f6425",
   "metadata": {},
   "outputs": [],
   "source": [
    "#saving the clean housing data to output folder\n",
    "housing.to_csv('output_data/housing_price.csv', index=False)"
   ]
  },
  {
   "cell_type": "code",
   "execution_count": null,
   "id": "a4c299ae",
   "metadata": {},
   "outputs": [],
   "source": []
  }
 ],
 "metadata": {
  "kernelspec": {
   "display_name": "Python 3 (ipykernel)",
   "language": "python",
   "name": "python3"
  },
  "language_info": {
   "codemirror_mode": {
    "name": "ipython",
    "version": 3
   },
   "file_extension": ".py",
   "mimetype": "text/x-python",
   "name": "python",
   "nbconvert_exporter": "python",
   "pygments_lexer": "ipython3",
   "version": "3.8.10"
  }
 },
 "nbformat": 4,
 "nbformat_minor": 5
}
