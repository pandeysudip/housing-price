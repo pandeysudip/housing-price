{
 "cells": [
  {
   "cell_type": "code",
   "execution_count": 1,
   "id": "bf19a1a8",
   "metadata": {},
   "outputs": [],
   "source": [
    "# Dependencies and Setup\n",
    "import pandas as pd\n",
    "import matplotlib.pyplot as plt\n",
    "import seaborn as sns\n",
    "import numpy as np\n",
    "from matplotlib import rcParams\n",
    "import scipy.stats as sts\n",
    "import os\n",
    "from collections import Counter\n",
    "import requests\n",
    "import json\n",
    "\n",
    "# Google API Key\n",
    "from api_keys import gkey"
   ]
  },
  {
   "cell_type": "code",
   "execution_count": 2,
   "id": "91dbad82",
   "metadata": {},
   "outputs": [],
   "source": [
    "#setting background of figure black\n",
    "plt.style.use('ggplot')"
   ]
  },
  {
   "cell_type": "code",
   "execution_count": 3,
   "id": "1f86d5c4",
   "metadata": {},
   "outputs": [],
   "source": [
    "#Set Fonts/Plot Style\n",
    "rcParams['figure.figsize'] = [15.0, 10.0]\n",
    "rcParams['figure.dpi'] = 80\n",
    "rcParams['savefig.dpi'] = 100\n",
    "rcParams['font.size'] = 20\n",
    "rcParams['legend.fontsize'] = 'large'\n",
    "rcParams['figure.titlesize'] = 'medium'\n",
    "rcParams['font.family'] = 'sans-serif'\n",
    "rcParams['font.sans-serif'] = ['Arial']\n",
    "rcParams['xtick.direction'] = 'in'\n",
    "rcParams['ytick.direction'] = 'in'\n",
    "rcParams['xtick.top'] = True\n",
    "rcParams['ytick.right'] = True\n",
    "rcParams['xtick.major.size'] = 10\n",
    "rcParams['ytick.major.size'] = 10\n",
    "rcParams['xtick.minor.size'] = 5\n",
    "rcParams['ytick.minor.size'] = 5\n",
    "rcParams['xtick.minor.visible'] = True\n",
    "rcParams['ytick.minor.visible'] = True"
   ]
  },
  {
   "cell_type": "markdown",
   "id": "348eb5a9",
   "metadata": {},
   "source": [
    "## Looking for 2012 US census data"
   ]
  },
  {
   "cell_type": "code",
   "execution_count": null,
   "id": "685e3c4d",
   "metadata": {},
   "outputs": [],
   "source": [
    "# 2012 census data for all US zipcodes\n",
    "#reading 2012 combined census data\n",
    "path_comb_2012=os.path.join('output_census', 'census_comb_2012.csv')\n",
    "usa_2012=pd.read_csv(path_comb_2012)"
   ]
  },
  {
   "cell_type": "code",
   "execution_count": null,
   "id": "1eda958d",
   "metadata": {},
   "outputs": [],
   "source": [
    "#looking for usa_2012 dataframe\n",
    "usa_2012.head()"
   ]
  },
  {
   "cell_type": "code",
   "execution_count": null,
   "id": "355d582f",
   "metadata": {},
   "outputs": [],
   "source": [
    "#columns of 2012  dataframe\n",
    "usa_2012.columns"
   ]
  },
  {
   "cell_type": "code",
   "execution_count": null,
   "id": "42fbf153",
   "metadata": {},
   "outputs": [],
   "source": [
    "#shape of the dataframe\n",
    "usa_2012.shape"
   ]
  },
  {
   "cell_type": "code",
   "execution_count": null,
   "id": "83d73a52",
   "metadata": {},
   "outputs": [],
   "source": [
    "#removing the rows with house value less than 1\n",
    "usa_2012=(usa_2012[(usa_2012['House Value']>0)&\n",
    "                (usa_2012['Household Income']>0)&\n",
    "                (usa_2012['Monthly Owner Cost']>0)])"
   ]
  },
  {
   "cell_type": "code",
   "execution_count": null,
   "id": "e792d725",
   "metadata": {},
   "outputs": [],
   "source": [
    "#looking for null value\n",
    "usa_2012.isna().sum()"
   ]
  },
  {
   "cell_type": "code",
   "execution_count": null,
   "id": "54263b80",
   "metadata": {},
   "outputs": [],
   "source": [
    "#removing the rows with lat and lng missing value\n",
    "usa_2012.dropna(subset=['Lat', 'Lng', \n",
    "                        'Public Transport Rate',\n",
    "                        'Personal Transport Rate','Per Capita Income'], \n",
    "                         inplace=True)"
   ]
  },
  {
   "cell_type": "code",
   "execution_count": null,
   "id": "34eb48fc",
   "metadata": {},
   "outputs": [],
   "source": [
    "#shape of the clean dataframe\n",
    "usa_2012.shape"
   ]
  },
  {
   "cell_type": "code",
   "execution_count": null,
   "id": "6037344c",
   "metadata": {},
   "outputs": [],
   "source": [
    "#info of the dataframe\n",
    "usa_2012.info()"
   ]
  },
  {
   "cell_type": "code",
   "execution_count": null,
   "id": "34fb185c",
   "metadata": {},
   "outputs": [],
   "source": [
    "#describing the dataframe\n",
    "usa_2012.describe()"
   ]
  },
  {
   "cell_type": "code",
   "execution_count": null,
   "id": "1fffbee7",
   "metadata": {},
   "outputs": [],
   "source": []
  },
  {
   "cell_type": "code",
   "execution_count": null,
   "id": "7526821d",
   "metadata": {},
   "outputs": [],
   "source": []
  },
  {
   "cell_type": "markdown",
   "id": "54a45087",
   "metadata": {},
   "source": [
    "## Looking for 2012 California census data"
   ]
  },
  {
   "cell_type": "code",
   "execution_count": null,
   "id": "922ff6a1",
   "metadata": {},
   "outputs": [],
   "source": [
    "#reading 2012 combined california census data\n",
    "path_ca_2012=os.path.join('output_census', 'census_ca_2012.csv')\n",
    "ca_2012=pd.read_csv(path_ca_2012)"
   ]
  },
  {
   "cell_type": "code",
   "execution_count": null,
   "id": "5b29db22",
   "metadata": {},
   "outputs": [],
   "source": [
    "#looking for ca_2012 dataframe\n",
    "ca_2012.head()"
   ]
  },
  {
   "cell_type": "code",
   "execution_count": null,
   "id": "8ae9527c",
   "metadata": {},
   "outputs": [],
   "source": [
    "#columns of 2012  dataframe\n",
    "ca_2012.columns"
   ]
  },
  {
   "cell_type": "code",
   "execution_count": null,
   "id": "08f8c26a",
   "metadata": {},
   "outputs": [],
   "source": [
    "#shape of the dataframe\n",
    "ca_2012.shape"
   ]
  },
  {
   "cell_type": "code",
   "execution_count": null,
   "id": "f2164829",
   "metadata": {},
   "outputs": [],
   "source": [
    "#removing the rows with house value less than 1\n",
    "#removing the rows with house value less than 1\n",
    "ca_2012=(ca_2012[(ca_2012['House Value']>0)&\n",
    "                (ca_2012['Household Income']>0)&\n",
    "                (ca_2012['Monthly Owner Cost']>0)])"
   ]
  },
  {
   "cell_type": "code",
   "execution_count": null,
   "id": "86c89640",
   "metadata": {},
   "outputs": [],
   "source": [
    "#looking for null value\n",
    "ca_2012.isna().sum()"
   ]
  },
  {
   "cell_type": "code",
   "execution_count": null,
   "id": "dd852582",
   "metadata": {},
   "outputs": [],
   "source": [
    "#removing the rows with lat and lng missing value\n",
    "ca_2012.dropna(subset=['Public Transport Rate',\n",
    "                        'Personal Transport Rate'], inplace=True)"
   ]
  },
  {
   "cell_type": "code",
   "execution_count": null,
   "id": "b66ef280",
   "metadata": {},
   "outputs": [],
   "source": [
    "#shape of the clean dataframe\n",
    "ca_2012.shape"
   ]
  },
  {
   "cell_type": "code",
   "execution_count": null,
   "id": "88b5eae7",
   "metadata": {},
   "outputs": [],
   "source": [
    "#converting minutes to hour\n",
    "\n",
    "ca_2012['Commute Time Public']=ca_2012['Commute Time Public']/60\n",
    "ca_2012['Commute Time Car']=ca_2012['Commute Time Car']/60"
   ]
  },
  {
   "cell_type": "code",
   "execution_count": null,
   "id": "669a9a7f",
   "metadata": {},
   "outputs": [],
   "source": [
    "#converting to int\n",
    "ca_2012['Population']=ca_2012['Population'].astype(int)"
   ]
  },
  {
   "cell_type": "code",
   "execution_count": null,
   "id": "91874fa9",
   "metadata": {},
   "outputs": [],
   "source": [
    "#info of the dataframe\n",
    "ca_2012.info()"
   ]
  },
  {
   "cell_type": "code",
   "execution_count": null,
   "id": "de78063e",
   "metadata": {},
   "outputs": [],
   "source": [
    "#describing the dataframe\n",
    "ca_2012.describe()"
   ]
  },
  {
   "cell_type": "code",
   "execution_count": null,
   "id": "97fa3f31",
   "metadata": {},
   "outputs": [],
   "source": []
  },
  {
   "cell_type": "code",
   "execution_count": null,
   "id": "0fef0450",
   "metadata": {},
   "outputs": [],
   "source": [
    "#selecting only important columns\n",
    "ca_12=ca_2012[['City','Population', 'House Value','Household Income',\n",
    "       'Poverty Rate', 'Unemployment Rate','Monthly Owner Cost', 'Monthly Rent',\n",
    "       'Public Transport Rate', 'Uneducated Rate' ]]"
   ]
  },
  {
   "cell_type": "code",
   "execution_count": null,
   "id": "eb02bf7f",
   "metadata": {},
   "outputs": [],
   "source": [
    "#only selecting rows with +ve owner cost and rent\n",
    "ca_12=(ca_12[(ca_12['Monthly Owner Cost']>0)&\n",
    "             (ca_12['Monthly Rent']>0)])"
   ]
  },
  {
   "cell_type": "code",
   "execution_count": null,
   "id": "392a54f0",
   "metadata": {},
   "outputs": [],
   "source": [
    "ca_12.shape"
   ]
  },
  {
   "cell_type": "code",
   "execution_count": null,
   "id": "2dd41b2b",
   "metadata": {},
   "outputs": [],
   "source": [
    "#formating columns with 2 decimal place\n",
    "ca_12[['House Value','Household Income',\n",
    "       'Poverty Rate', 'Unemployment Rate','Monthly Owner Cost', 'Monthly Rent',\n",
    "       'Public Transport Rate', 'Commute Time Public', 'Commute Time Car', \n",
    "       'Uneducated Rate' ]]=(ca_12[[ 'House Value','Household Income',\n",
    "                                   'Poverty Rate', 'Unemployment Rate',\n",
    "                                     'Monthly Owner Cost', 'Monthly Rent',\n",
    "                                    'Public Transport Rate', 'Commute Time Public',\n",
    "                                     'Commute Time Car', 'Uneducated Rate']]\n",
    "                                                   .applymap('{:.2f}'.format))"
   ]
  },
  {
   "cell_type": "code",
   "execution_count": null,
   "id": "09be7ee6",
   "metadata": {},
   "outputs": [],
   "source": [
    "#using groupby method to groupby the data accordint to city\n",
    "ca_12_city=ca_12.groupby('City').agg({'Population':'sum',\n",
    "                              'House Value':'mean',\n",
    "                               'Household Income':'mean',\n",
    "                               'Poverty Rate':'mean',\n",
    "                               'Unemployment Rate':'mean',\n",
    "                               'Monthly Owner Cost':'mean',\n",
    "                               'Monthly Rent':'mean',\n",
    "                               'Public Transport Rate':'mean',\n",
    "                               'Uneducated Rate':'mean'}).reset_index()"
   ]
  },
  {
   "cell_type": "code",
   "execution_count": null,
   "id": "111c9e39",
   "metadata": {},
   "outputs": [],
   "source": []
  },
  {
   "cell_type": "code",
   "execution_count": null,
   "id": "d645c248",
   "metadata": {},
   "outputs": [],
   "source": [
    "#sorting data according to the population\n",
    "ca_12_city=ca_12_city.sort_values(by=['House Value',\n",
    "                                'Monthly Owner Cost','Household Income',\n",
    "                                'Poverty Rate','Unemployment Rate',\n",
    "                                'Public Transport Rate','Monthly Rent', \n",
    "                                'Uneducated Rate' ], ascending=False)"
   ]
  },
  {
   "cell_type": "code",
   "execution_count": null,
   "id": "d870cccf",
   "metadata": {},
   "outputs": [],
   "source": [
    "#printing the new sorted datasets\n",
    "ca_12_city.head()"
   ]
  },
  {
   "cell_type": "code",
   "execution_count": null,
   "id": "306321a3",
   "metadata": {},
   "outputs": [],
   "source": [
    "#city with higher house value\n",
    "ca_12_city.nlargest(10, 'House Value')"
   ]
  },
  {
   "cell_type": "code",
   "execution_count": null,
   "id": "7bd95d49",
   "metadata": {},
   "outputs": [],
   "source": [
    "#City with smallest poverty rate\n",
    "ca_12_city.nsmallest(10, 'Poverty Rate')"
   ]
  },
  {
   "cell_type": "code",
   "execution_count": null,
   "id": "70a08432",
   "metadata": {},
   "outputs": [],
   "source": [
    "#city with smallest unemployment rate\n",
    "ca_12_city.nsmallest(10, 'Unemployment Rate')"
   ]
  },
  {
   "cell_type": "code",
   "execution_count": null,
   "id": "a4eb0d0b",
   "metadata": {},
   "outputs": [],
   "source": [
    "#city with larger commute time\n",
    "#ca_12_city.nsmallest(10, 'Commute Time Car')"
   ]
  },
  {
   "cell_type": "code",
   "execution_count": null,
   "id": "61afd4af",
   "metadata": {},
   "outputs": [],
   "source": [
    "#city with smallest monthly owner cost\n",
    "ca_12_city.nsmallest(10, 'Monthly Owner Cost')"
   ]
  },
  {
   "cell_type": "code",
   "execution_count": null,
   "id": "2236fc5a",
   "metadata": {},
   "outputs": [],
   "source": [
    "#city with largest household income\n",
    "ca_12_city.nlargest(10, 'Household Income')"
   ]
  },
  {
   "cell_type": "code",
   "execution_count": null,
   "id": "859bc85e",
   "metadata": {},
   "outputs": [],
   "source": []
  },
  {
   "cell_type": "code",
   "execution_count": null,
   "id": "2fd028d9",
   "metadata": {},
   "outputs": [],
   "source": []
  },
  {
   "cell_type": "markdown",
   "id": "565873cd",
   "metadata": {},
   "source": [
    "## Plotting 2012 california data"
   ]
  },
  {
   "cell_type": "code",
   "execution_count": null,
   "id": "8971d028",
   "metadata": {},
   "outputs": [],
   "source": [
    "#plotting all correlation using seaborn heatmap\n",
    "corr_12=ca_12.corr()\n",
    "import seaborn as sns\n",
    "fig, ax=plt.subplots(figsize=(15,15))\n",
    "sns.heatmap(corr_12,vmin=-1, vmax=1, ax=ax, cmap='BrBG')#annot=True,\n",
    "plt.show()"
   ]
  },
  {
   "cell_type": "code",
   "execution_count": null,
   "id": "19fac084",
   "metadata": {},
   "outputs": [],
   "source": [
    "#plotting scatter plot of lat and lng\n",
    "fig, ax=plt.subplots(figsize=(15,15))\n",
    "ca_2012.plot(kind='scatter', x='Lng', y='Lat', alpha=0.4, \n",
    "                s=ca_2012['Population']/100,label='Population',\n",
    "                 c='House Value', cmap=plt.get_cmap('rainbow'),\n",
    "                colorbar=True, ax=ax)\n",
    "\n",
    "plt.show()"
   ]
  },
  {
   "cell_type": "code",
   "execution_count": null,
   "id": "1dfc3321",
   "metadata": {},
   "outputs": [],
   "source": [
    "#plotting scatter plot of lat and lng\n",
    "fig, ax=plt.subplots(figsize=(15,15))\n",
    "ca_2012.plot(kind='scatter', x='Lng', y='Lat', alpha=0.3, \n",
    "                s=ca_2012['Population']/100,label='Population',\n",
    "                 c='Household Income', cmap=plt.get_cmap('hsv'),\n",
    "                colorbar=True, ax=ax)\n",
    "\n",
    "plt.show()"
   ]
  },
  {
   "cell_type": "code",
   "execution_count": null,
   "id": "cf016adb",
   "metadata": {},
   "outputs": [],
   "source": []
  },
  {
   "cell_type": "markdown",
   "id": "91f9f234",
   "metadata": {},
   "source": [
    "## Looking for 2014 US census data"
   ]
  },
  {
   "cell_type": "code",
   "execution_count": null,
   "id": "f041955c",
   "metadata": {},
   "outputs": [],
   "source": [
    "# 2014 census data for all US zipcodes\n",
    "#reading 2014 combined census data\n",
    "path_comb_2014=os.path.join('output_census', 'census_comb_2014.csv')\n",
    "usa_2014=pd.read_csv(path_comb_2014)"
   ]
  },
  {
   "cell_type": "code",
   "execution_count": null,
   "id": "f34b95d6",
   "metadata": {},
   "outputs": [],
   "source": [
    "#looking for usa_2014 dataframe\n",
    "usa_2014.head()"
   ]
  },
  {
   "cell_type": "code",
   "execution_count": null,
   "id": "9843225b",
   "metadata": {},
   "outputs": [],
   "source": [
    "#columns of 2014  dataframe\n",
    "usa_2014.columns"
   ]
  },
  {
   "cell_type": "code",
   "execution_count": null,
   "id": "68868aff",
   "metadata": {},
   "outputs": [],
   "source": [
    "#shape of the dataframe\n",
    "usa_2014.shape"
   ]
  },
  {
   "cell_type": "code",
   "execution_count": null,
   "id": "13aad205",
   "metadata": {},
   "outputs": [],
   "source": [
    "#removing the rows with house value less than 1\n",
    "usa_2014=usa_2014[usa_2014['House Value']>0]"
   ]
  },
  {
   "cell_type": "code",
   "execution_count": null,
   "id": "b4c21a7d",
   "metadata": {},
   "outputs": [],
   "source": [
    "#looking for null value\n",
    "usa_2014.isna().sum()"
   ]
  },
  {
   "cell_type": "code",
   "execution_count": null,
   "id": "9b709774",
   "metadata": {},
   "outputs": [],
   "source": [
    "#removing the rows with lat and lng missing value\n",
    "usa_2014.dropna(subset=['Lat', 'Lng', \n",
    "                        'Public Transport Rate',\n",
    "                        'Personal Transport Rate',\n",
    "                        'Housing_units','County'], inplace=True)"
   ]
  },
  {
   "cell_type": "code",
   "execution_count": null,
   "id": "72119d72",
   "metadata": {},
   "outputs": [],
   "source": [
    "#shape of the clean dataframe\n",
    "usa_2014.shape"
   ]
  },
  {
   "cell_type": "code",
   "execution_count": null,
   "id": "b5529e58",
   "metadata": {},
   "outputs": [],
   "source": [
    "#info of the dataframe\n",
    "usa_2014.info()"
   ]
  },
  {
   "cell_type": "code",
   "execution_count": null,
   "id": "76c18a36",
   "metadata": {},
   "outputs": [],
   "source": [
    "#describing the dataframe\n",
    "usa_2014.describe()"
   ]
  },
  {
   "cell_type": "code",
   "execution_count": null,
   "id": "e92bdfb8",
   "metadata": {},
   "outputs": [],
   "source": []
  },
  {
   "cell_type": "code",
   "execution_count": null,
   "id": "8b68fc5e",
   "metadata": {},
   "outputs": [],
   "source": []
  },
  {
   "cell_type": "markdown",
   "id": "1995d636",
   "metadata": {},
   "source": [
    "## Looking for 2014 California census data"
   ]
  },
  {
   "cell_type": "code",
   "execution_count": null,
   "id": "0ae9545d",
   "metadata": {},
   "outputs": [],
   "source": [
    "#reading 2014 combined california census data\n",
    "path_ca_2014=os.path.join('output_census', 'census_ca_2014.csv')\n",
    "ca_2014=pd.read_csv(path_ca_2014)"
   ]
  },
  {
   "cell_type": "code",
   "execution_count": null,
   "id": "fa03f3a0",
   "metadata": {},
   "outputs": [],
   "source": [
    "#looking for ca_2014 dataframe\n",
    "ca_2014.head()"
   ]
  },
  {
   "cell_type": "code",
   "execution_count": null,
   "id": "c7473a6a",
   "metadata": {},
   "outputs": [],
   "source": [
    "#columns of 2014  dataframe\n",
    "ca_2014.columns"
   ]
  },
  {
   "cell_type": "code",
   "execution_count": null,
   "id": "2287ae41",
   "metadata": {},
   "outputs": [],
   "source": [
    "#shape of the dataframe\n",
    "ca_2014.shape"
   ]
  },
  {
   "cell_type": "code",
   "execution_count": null,
   "id": "ce601959",
   "metadata": {},
   "outputs": [],
   "source": [
    "#removing the rows with house value less than 1\n",
    "ca_2014=ca_2014[ca_2014['House Value']>0]"
   ]
  },
  {
   "cell_type": "code",
   "execution_count": null,
   "id": "f2c01090",
   "metadata": {},
   "outputs": [],
   "source": [
    "#looking for null value\n",
    "ca_2014.isna().sum()"
   ]
  },
  {
   "cell_type": "code",
   "execution_count": null,
   "id": "7f7942a0",
   "metadata": {},
   "outputs": [],
   "source": [
    "#shape of the clean dataframe\n",
    "ca_2014.shape"
   ]
  },
  {
   "cell_type": "code",
   "execution_count": null,
   "id": "bf030c95",
   "metadata": {},
   "outputs": [],
   "source": [
    "#info of the dataframe\n",
    "ca_2014.info()"
   ]
  },
  {
   "cell_type": "code",
   "execution_count": null,
   "id": "12b1f4f4",
   "metadata": {},
   "outputs": [],
   "source": [
    "#describing the dataframe\n",
    "ca_2014.describe()"
   ]
  },
  {
   "cell_type": "code",
   "execution_count": null,
   "id": "063a8e70",
   "metadata": {},
   "outputs": [],
   "source": []
  },
  {
   "cell_type": "markdown",
   "id": "163da53a",
   "metadata": {},
   "source": [
    "## Looking for 2015 US census data"
   ]
  },
  {
   "cell_type": "code",
   "execution_count": null,
   "id": "f18a9e6d",
   "metadata": {},
   "outputs": [],
   "source": [
    "# 2015 census data for all US zipcodes\n",
    "#reading 2015 combined census data\n",
    "path_comb_2015=os.path.join('output_census', 'census_comb_2015.csv')\n",
    "usa_2015=pd.read_csv(path_comb_2015)"
   ]
  },
  {
   "cell_type": "code",
   "execution_count": null,
   "id": "8686ec28",
   "metadata": {},
   "outputs": [],
   "source": [
    "#looking for usa_2015 dataframe\n",
    "usa_2015.head()"
   ]
  },
  {
   "cell_type": "code",
   "execution_count": null,
   "id": "4162686a",
   "metadata": {},
   "outputs": [],
   "source": [
    "#columns of 2015  dataframe\n",
    "usa_2015.columns"
   ]
  },
  {
   "cell_type": "code",
   "execution_count": null,
   "id": "7f1fc139",
   "metadata": {},
   "outputs": [],
   "source": [
    "#shape of the dataframe\n",
    "usa_2015.shape"
   ]
  },
  {
   "cell_type": "code",
   "execution_count": null,
   "id": "b9217d6d",
   "metadata": {},
   "outputs": [],
   "source": [
    "#removing the rows with house value less than 1\n",
    "usa_2015=usa_2015[usa_2015['House Value']>0]"
   ]
  },
  {
   "cell_type": "code",
   "execution_count": null,
   "id": "b949ad2b",
   "metadata": {},
   "outputs": [],
   "source": [
    "#looking for null value\n",
    "usa_2015.isna().sum()"
   ]
  },
  {
   "cell_type": "code",
   "execution_count": null,
   "id": "b79ebd04",
   "metadata": {},
   "outputs": [],
   "source": [
    "#removing the rows with lat and lng missing value\n",
    "usa_2015.dropna(subset=['Lat', 'Lng', 'Per Capita Income','County',\n",
    "                        'Monthly Owner Cost','Monthly Rent',\n",
    "                        'Public Transport Rate','Household Income',\n",
    "                        'Personal Transport Rate'], \n",
    "                         inplace=True)"
   ]
  },
  {
   "cell_type": "code",
   "execution_count": null,
   "id": "a3b4ae5a",
   "metadata": {},
   "outputs": [],
   "source": [
    "#shape of the clean dataframe\n",
    "usa_2015.shape"
   ]
  },
  {
   "cell_type": "code",
   "execution_count": null,
   "id": "793af0fd",
   "metadata": {},
   "outputs": [],
   "source": [
    "#info of the dataframe\n",
    "usa_2015.info()"
   ]
  },
  {
   "cell_type": "code",
   "execution_count": null,
   "id": "f56ec544",
   "metadata": {},
   "outputs": [],
   "source": [
    "#describing the dataframe\n",
    "usa_2015.describe()"
   ]
  },
  {
   "cell_type": "code",
   "execution_count": null,
   "id": "7e5951c8",
   "metadata": {},
   "outputs": [],
   "source": []
  },
  {
   "cell_type": "markdown",
   "id": "b3b904d2",
   "metadata": {},
   "source": [
    "## Looking for 2015 California census data"
   ]
  },
  {
   "cell_type": "code",
   "execution_count": null,
   "id": "93c12f74",
   "metadata": {},
   "outputs": [],
   "source": [
    "#reading 2015 combined california census data\n",
    "path_ca_2015=os.path.join('output_census', 'census_ca_2015.csv')\n",
    "ca_2015=pd.read_csv(path_ca_2015)"
   ]
  },
  {
   "cell_type": "code",
   "execution_count": null,
   "id": "e1e98004",
   "metadata": {},
   "outputs": [],
   "source": [
    "#looking for ca_2015 dataframe\n",
    "ca_2015.head()"
   ]
  },
  {
   "cell_type": "code",
   "execution_count": null,
   "id": "44579d5c",
   "metadata": {},
   "outputs": [],
   "source": [
    "#columns of 2015  dataframe\n",
    "ca_2015.columns"
   ]
  },
  {
   "cell_type": "code",
   "execution_count": null,
   "id": "16cabd64",
   "metadata": {},
   "outputs": [],
   "source": [
    "#shape of the dataframe\n",
    "ca_2015.shape"
   ]
  },
  {
   "cell_type": "code",
   "execution_count": null,
   "id": "2d22febc",
   "metadata": {},
   "outputs": [],
   "source": [
    "#removing the rows with house value less than 1\n",
    "ca_2015=ca_2015[ca_2015['House Value']>0]"
   ]
  },
  {
   "cell_type": "code",
   "execution_count": null,
   "id": "99011ea6",
   "metadata": {},
   "outputs": [],
   "source": [
    "#looking for null value\n",
    "ca_2015.isna().sum()"
   ]
  },
  {
   "cell_type": "code",
   "execution_count": null,
   "id": "89a666b4",
   "metadata": {},
   "outputs": [],
   "source": [
    "#removing the rows with lat and lng missing value\n",
    "ca_2015.dropna(subset=['Household Income', 'Monthly Rent', \n",
    "                        'Monthly Owner Cost','Personal Transport Rate',\n",
    "                      'Public Transport Rate'],inplace=True)"
   ]
  },
  {
   "cell_type": "code",
   "execution_count": null,
   "id": "a81f7e8f",
   "metadata": {},
   "outputs": [],
   "source": [
    "#shape of the clean dataframe\n",
    "ca_2015.shape"
   ]
  },
  {
   "cell_type": "code",
   "execution_count": null,
   "id": "0bd8730d",
   "metadata": {},
   "outputs": [],
   "source": [
    "#info of the dataframe\n",
    "ca_2015.info()"
   ]
  },
  {
   "cell_type": "code",
   "execution_count": null,
   "id": "4116ae89",
   "metadata": {},
   "outputs": [],
   "source": [
    "#describing the dataframe\n",
    "ca_2015.describe()"
   ]
  },
  {
   "cell_type": "code",
   "execution_count": null,
   "id": "6420e5dd",
   "metadata": {},
   "outputs": [],
   "source": []
  },
  {
   "cell_type": "markdown",
   "id": "505c01c5",
   "metadata": {},
   "source": [
    "## Looking for 2017 US census data"
   ]
  },
  {
   "cell_type": "code",
   "execution_count": 21,
   "id": "205385c0",
   "metadata": {},
   "outputs": [],
   "source": [
    "# 2017 census data for all US zipcodes\n",
    "#reading 2017 combined census data\n",
    "path_comb_2017=os.path.join('output_census', 'census_comb_2017.csv')\n",
    "usa_2017=pd.read_csv(path_comb_2017)"
   ]
  },
  {
   "cell_type": "code",
   "execution_count": 22,
   "id": "18a70f3d",
   "metadata": {},
   "outputs": [
    {
     "data": {
      "text/html": [
       "<div>\n",
       "<style scoped>\n",
       "    .dataframe tbody tr th:only-of-type {\n",
       "        vertical-align: middle;\n",
       "    }\n",
       "\n",
       "    .dataframe tbody tr th {\n",
       "        vertical-align: top;\n",
       "    }\n",
       "\n",
       "    .dataframe thead th {\n",
       "        text-align: right;\n",
       "    }\n",
       "</style>\n",
       "<table border=\"1\" class=\"dataframe\">\n",
       "  <thead>\n",
       "    <tr style=\"text-align: right;\">\n",
       "      <th></th>\n",
       "      <th>Zipcode</th>\n",
       "      <th>Population</th>\n",
       "      <th>Median Age</th>\n",
       "      <th>Household Income</th>\n",
       "      <th>Per Capita Income</th>\n",
       "      <th>Poverty Rate</th>\n",
       "      <th>Unemployment Rate</th>\n",
       "      <th>House Value</th>\n",
       "      <th>House Construction Year</th>\n",
       "      <th>Monthly Owner Cost</th>\n",
       "      <th>...</th>\n",
       "      <th>White Population Rate</th>\n",
       "      <th>Black Population Rate</th>\n",
       "      <th>Hispanic Population Rate</th>\n",
       "      <th>Asian Population Rate</th>\n",
       "      <th>City</th>\n",
       "      <th>County</th>\n",
       "      <th>Lat</th>\n",
       "      <th>Lng</th>\n",
       "      <th>Housing_units</th>\n",
       "      <th>State</th>\n",
       "    </tr>\n",
       "  </thead>\n",
       "  <tbody>\n",
       "    <tr>\n",
       "      <th>0</th>\n",
       "      <td>601</td>\n",
       "      <td>17599.0</td>\n",
       "      <td>38.9</td>\n",
       "      <td>11757.0</td>\n",
       "      <td>7041.0</td>\n",
       "      <td>64.105915</td>\n",
       "      <td>13.943974</td>\n",
       "      <td>82500.0</td>\n",
       "      <td>1981.0</td>\n",
       "      <td>748.0</td>\n",
       "      <td>...</td>\n",
       "      <td>77.765782</td>\n",
       "      <td>0.681857</td>\n",
       "      <td>99.624979</td>\n",
       "      <td>0.000</td>\n",
       "      <td>Adjuntas</td>\n",
       "      <td>Adjuntas Municipio</td>\n",
       "      <td>NaN</td>\n",
       "      <td>NaN</td>\n",
       "      <td>NaN</td>\n",
       "      <td>PR</td>\n",
       "    </tr>\n",
       "    <tr>\n",
       "      <th>1</th>\n",
       "      <td>602</td>\n",
       "      <td>39209.0</td>\n",
       "      <td>40.9</td>\n",
       "      <td>16190.0</td>\n",
       "      <td>8978.0</td>\n",
       "      <td>52.100283</td>\n",
       "      <td>6.473004</td>\n",
       "      <td>87300.0</td>\n",
       "      <td>1979.0</td>\n",
       "      <td>846.0</td>\n",
       "      <td>...</td>\n",
       "      <td>66.854549</td>\n",
       "      <td>2.785075</td>\n",
       "      <td>93.692775</td>\n",
       "      <td>0.000</td>\n",
       "      <td>Aguada</td>\n",
       "      <td>Aguada Municipio</td>\n",
       "      <td>18.36</td>\n",
       "      <td>-67.18</td>\n",
       "      <td>18073.0</td>\n",
       "      <td>PR</td>\n",
       "    </tr>\n",
       "    <tr>\n",
       "      <th>2</th>\n",
       "      <td>603</td>\n",
       "      <td>50135.0</td>\n",
       "      <td>40.4</td>\n",
       "      <td>16645.0</td>\n",
       "      <td>10897.0</td>\n",
       "      <td>50.216416</td>\n",
       "      <td>7.156677</td>\n",
       "      <td>122300.0</td>\n",
       "      <td>1977.0</td>\n",
       "      <td>867.0</td>\n",
       "      <td>...</td>\n",
       "      <td>71.225691</td>\n",
       "      <td>3.959310</td>\n",
       "      <td>97.466840</td>\n",
       "      <td>1.111</td>\n",
       "      <td>Aguadilla</td>\n",
       "      <td>Aguadilla Municipio</td>\n",
       "      <td>18.45</td>\n",
       "      <td>-67.11</td>\n",
       "      <td>25653.0</td>\n",
       "      <td>PR</td>\n",
       "    </tr>\n",
       "    <tr>\n",
       "      <th>3</th>\n",
       "      <td>606</td>\n",
       "      <td>6304.0</td>\n",
       "      <td>42.8</td>\n",
       "      <td>13387.0</td>\n",
       "      <td>5960.0</td>\n",
       "      <td>64.911168</td>\n",
       "      <td>3.236041</td>\n",
       "      <td>92700.0</td>\n",
       "      <td>1979.0</td>\n",
       "      <td>538.0</td>\n",
       "      <td>...</td>\n",
       "      <td>48.302665</td>\n",
       "      <td>2.538071</td>\n",
       "      <td>99.809645</td>\n",
       "      <td>0.000</td>\n",
       "      <td>Maricao</td>\n",
       "      <td>Maricao Municipio</td>\n",
       "      <td>18.20</td>\n",
       "      <td>-66.90</td>\n",
       "      <td>2877.0</td>\n",
       "      <td>PR</td>\n",
       "    </tr>\n",
       "    <tr>\n",
       "      <th>4</th>\n",
       "      <td>610</td>\n",
       "      <td>27590.0</td>\n",
       "      <td>41.4</td>\n",
       "      <td>18741.0</td>\n",
       "      <td>9266.0</td>\n",
       "      <td>45.498369</td>\n",
       "      <td>5.342515</td>\n",
       "      <td>90300.0</td>\n",
       "      <td>1979.0</td>\n",
       "      <td>733.0</td>\n",
       "      <td>...</td>\n",
       "      <td>61.754259</td>\n",
       "      <td>3.062704</td>\n",
       "      <td>97.317869</td>\n",
       "      <td>0.000</td>\n",
       "      <td>Anasco</td>\n",
       "      <td>Aasco Municipio</td>\n",
       "      <td>18.28</td>\n",
       "      <td>-67.13</td>\n",
       "      <td>12618.0</td>\n",
       "      <td>PR</td>\n",
       "    </tr>\n",
       "  </tbody>\n",
       "</table>\n",
       "<p>5 rows × 30 columns</p>\n",
       "</div>"
      ],
      "text/plain": [
       "   Zipcode  Population  Median Age  Household Income  Per Capita Income  \\\n",
       "0      601     17599.0        38.9           11757.0             7041.0   \n",
       "1      602     39209.0        40.9           16190.0             8978.0   \n",
       "2      603     50135.0        40.4           16645.0            10897.0   \n",
       "3      606      6304.0        42.8           13387.0             5960.0   \n",
       "4      610     27590.0        41.4           18741.0             9266.0   \n",
       "\n",
       "   Poverty Rate  Unemployment Rate  House Value  House Construction Year  \\\n",
       "0     64.105915          13.943974      82500.0                   1981.0   \n",
       "1     52.100283           6.473004      87300.0                   1979.0   \n",
       "2     50.216416           7.156677     122300.0                   1977.0   \n",
       "3     64.911168           3.236041      92700.0                   1979.0   \n",
       "4     45.498369           5.342515      90300.0                   1979.0   \n",
       "\n",
       "   Monthly Owner Cost  ...  White Population Rate  Black Population Rate  \\\n",
       "0               748.0  ...              77.765782               0.681857   \n",
       "1               846.0  ...              66.854549               2.785075   \n",
       "2               867.0  ...              71.225691               3.959310   \n",
       "3               538.0  ...              48.302665               2.538071   \n",
       "4               733.0  ...              61.754259               3.062704   \n",
       "\n",
       "   Hispanic Population Rate  Asian Population Rate       City  \\\n",
       "0                 99.624979                  0.000   Adjuntas   \n",
       "1                 93.692775                  0.000     Aguada   \n",
       "2                 97.466840                  1.111  Aguadilla   \n",
       "3                 99.809645                  0.000    Maricao   \n",
       "4                 97.317869                  0.000     Anasco   \n",
       "\n",
       "                County    Lat    Lng  Housing_units  State  \n",
       "0   Adjuntas Municipio    NaN    NaN            NaN     PR  \n",
       "1     Aguada Municipio  18.36 -67.18        18073.0     PR  \n",
       "2  Aguadilla Municipio  18.45 -67.11        25653.0     PR  \n",
       "3    Maricao Municipio  18.20 -66.90         2877.0     PR  \n",
       "4      Aasco Municipio  18.28 -67.13        12618.0     PR  \n",
       "\n",
       "[5 rows x 30 columns]"
      ]
     },
     "execution_count": 22,
     "metadata": {},
     "output_type": "execute_result"
    }
   ],
   "source": [
    "#looking for usa_2017 dataframe\n",
    "usa_2017.head()"
   ]
  },
  {
   "cell_type": "code",
   "execution_count": 23,
   "id": "f9e3ba0e",
   "metadata": {},
   "outputs": [
    {
     "data": {
      "text/plain": [
       "Index(['Zipcode', 'Population', 'Median Age', 'Household Income',\n",
       "       'Per Capita Income', 'Poverty Rate', 'Unemployment Rate', 'House Value',\n",
       "       'House Construction Year', 'Monthly Owner Cost', 'Monthly Rent',\n",
       "       'Public Transport Rate', 'Personal Transport Rate',\n",
       "       'Commute Time Public', 'Commute Time Car', 'High School Rate',\n",
       "       'College Rate', 'Uneducated Rate', 'English Language',\n",
       "       'Spanish Language', 'White Population Rate', 'Black Population Rate',\n",
       "       'Hispanic Population Rate', 'Asian Population Rate', 'City', 'County',\n",
       "       'Lat', 'Lng', 'Housing_units', 'State'],\n",
       "      dtype='object')"
      ]
     },
     "execution_count": 23,
     "metadata": {},
     "output_type": "execute_result"
    }
   ],
   "source": [
    "#columns of 2017  dataframe\n",
    "usa_2017.columns"
   ]
  },
  {
   "cell_type": "code",
   "execution_count": 24,
   "id": "4d6f7eb3",
   "metadata": {},
   "outputs": [
    {
     "data": {
      "text/plain": [
       "(33120, 30)"
      ]
     },
     "execution_count": 24,
     "metadata": {},
     "output_type": "execute_result"
    }
   ],
   "source": [
    "#shape of the dataframe\n",
    "usa_2017.shape"
   ]
  },
  {
   "cell_type": "code",
   "execution_count": 25,
   "id": "23efaeff",
   "metadata": {},
   "outputs": [],
   "source": [
    "#removing the rows with house value less than 1\n",
    "usa_2017=(usa_2017[(usa_2017['House Value']>0)&\n",
    "                (usa_2017['Household Income']>0)&\n",
    "                (usa_2017['Monthly Owner Cost']>0)])"
   ]
  },
  {
   "cell_type": "code",
   "execution_count": 27,
   "id": "62aff85e",
   "metadata": {},
   "outputs": [
    {
     "data": {
      "text/plain": [
       "Zipcode                         0\n",
       "Population                      0\n",
       "Median Age                      0\n",
       "Household Income                0\n",
       "Per Capita Income               0\n",
       "Poverty Rate                    0\n",
       "Unemployment Rate               0\n",
       "House Value                     0\n",
       "House Construction Year         0\n",
       "Monthly Owner Cost              0\n",
       "Monthly Rent                    0\n",
       "Public Transport Rate           0\n",
       "Personal Transport Rate         0\n",
       "Commute Time Public         20602\n",
       "Commute Time Car            20602\n",
       "High School Rate                0\n",
       "College Rate                    0\n",
       "Uneducated Rate                 0\n",
       "English Language            29110\n",
       "Spanish Language            29110\n",
       "White Population Rate           0\n",
       "Black Population Rate           0\n",
       "Hispanic Population Rate        0\n",
       "Asian Population Rate           0\n",
       "City                            0\n",
       "County                          1\n",
       "Lat                            16\n",
       "Lng                            16\n",
       "Housing_units                  16\n",
       "State                           0\n",
       "dtype: int64"
      ]
     },
     "execution_count": 27,
     "metadata": {},
     "output_type": "execute_result"
    }
   ],
   "source": [
    "#looking for null value\n",
    "usa_2017.isna().sum()"
   ]
  },
  {
   "cell_type": "code",
   "execution_count": 28,
   "id": "d33ebea0",
   "metadata": {},
   "outputs": [],
   "source": [
    "#removing the rows with lat and lng missing value\n",
    "usa_2017.dropna(subset=['Lat', 'Lng','Housing_units','County'], inplace=True)"
   ]
  },
  {
   "cell_type": "code",
   "execution_count": 29,
   "id": "344fbcf0",
   "metadata": {},
   "outputs": [
    {
     "data": {
      "text/plain": [
       "(29093, 30)"
      ]
     },
     "execution_count": 29,
     "metadata": {},
     "output_type": "execute_result"
    }
   ],
   "source": [
    "#shape of the clean dataframe\n",
    "usa_2017.shape"
   ]
  },
  {
   "cell_type": "code",
   "execution_count": 30,
   "id": "16d9624b",
   "metadata": {},
   "outputs": [
    {
     "name": "stdout",
     "output_type": "stream",
     "text": [
      "<class 'pandas.core.frame.DataFrame'>\n",
      "Int64Index: 29093 entries, 1 to 33119\n",
      "Data columns (total 30 columns):\n",
      " #   Column                    Non-Null Count  Dtype  \n",
      "---  ------                    --------------  -----  \n",
      " 0   Zipcode                   29093 non-null  int64  \n",
      " 1   Population                29093 non-null  float64\n",
      " 2   Median Age                29093 non-null  float64\n",
      " 3   Household Income          29093 non-null  float64\n",
      " 4   Per Capita Income         29093 non-null  float64\n",
      " 5   Poverty Rate              29093 non-null  float64\n",
      " 6   Unemployment Rate         29093 non-null  float64\n",
      " 7   House Value               29093 non-null  float64\n",
      " 8   House Construction Year   29093 non-null  float64\n",
      " 9   Monthly Owner Cost        29093 non-null  float64\n",
      " 10  Monthly Rent              29093 non-null  float64\n",
      " 11  Public Transport Rate     29093 non-null  float64\n",
      " 12  Personal Transport Rate   29093 non-null  float64\n",
      " 13  Commute Time Public       8502 non-null   float64\n",
      " 14  Commute Time Car          8502 non-null   float64\n",
      " 15  High School Rate          29093 non-null  float64\n",
      " 16  College Rate              29093 non-null  float64\n",
      " 17  Uneducated Rate           29093 non-null  float64\n",
      " 18  English Language          0 non-null      float64\n",
      " 19  Spanish Language          0 non-null      float64\n",
      " 20  White Population Rate     29093 non-null  float64\n",
      " 21  Black Population Rate     29093 non-null  float64\n",
      " 22  Hispanic Population Rate  29093 non-null  float64\n",
      " 23  Asian Population Rate     29093 non-null  float64\n",
      " 24  City                      29093 non-null  object \n",
      " 25  County                    29093 non-null  object \n",
      " 26  Lat                       29093 non-null  float64\n",
      " 27  Lng                       29093 non-null  float64\n",
      " 28  Housing_units             29093 non-null  float64\n",
      " 29  State                     29093 non-null  object \n",
      "dtypes: float64(26), int64(1), object(3)\n",
      "memory usage: 6.9+ MB\n"
     ]
    }
   ],
   "source": [
    "#info of the dataframe\n",
    "usa_2017.info()"
   ]
  },
  {
   "cell_type": "code",
   "execution_count": 31,
   "id": "cd2223c3",
   "metadata": {},
   "outputs": [
    {
     "data": {
      "text/html": [
       "<div>\n",
       "<style scoped>\n",
       "    .dataframe tbody tr th:only-of-type {\n",
       "        vertical-align: middle;\n",
       "    }\n",
       "\n",
       "    .dataframe tbody tr th {\n",
       "        vertical-align: top;\n",
       "    }\n",
       "\n",
       "    .dataframe thead th {\n",
       "        text-align: right;\n",
       "    }\n",
       "</style>\n",
       "<table border=\"1\" class=\"dataframe\">\n",
       "  <thead>\n",
       "    <tr style=\"text-align: right;\">\n",
       "      <th></th>\n",
       "      <th>Zipcode</th>\n",
       "      <th>Population</th>\n",
       "      <th>Median Age</th>\n",
       "      <th>Household Income</th>\n",
       "      <th>Per Capita Income</th>\n",
       "      <th>Poverty Rate</th>\n",
       "      <th>Unemployment Rate</th>\n",
       "      <th>House Value</th>\n",
       "      <th>House Construction Year</th>\n",
       "      <th>Monthly Owner Cost</th>\n",
       "      <th>...</th>\n",
       "      <th>Uneducated Rate</th>\n",
       "      <th>English Language</th>\n",
       "      <th>Spanish Language</th>\n",
       "      <th>White Population Rate</th>\n",
       "      <th>Black Population Rate</th>\n",
       "      <th>Hispanic Population Rate</th>\n",
       "      <th>Asian Population Rate</th>\n",
       "      <th>Lat</th>\n",
       "      <th>Lng</th>\n",
       "      <th>Housing_units</th>\n",
       "    </tr>\n",
       "  </thead>\n",
       "  <tbody>\n",
       "    <tr>\n",
       "      <th>count</th>\n",
       "      <td>29093.000000</td>\n",
       "      <td>29093.000000</td>\n",
       "      <td>29093.000000</td>\n",
       "      <td>29093.000000</td>\n",
       "      <td>29093.000000</td>\n",
       "      <td>29093.000000</td>\n",
       "      <td>29093.000000</td>\n",
       "      <td>2.909300e+04</td>\n",
       "      <td>2.909300e+04</td>\n",
       "      <td>29093.000000</td>\n",
       "      <td>...</td>\n",
       "      <td>29093.000000</td>\n",
       "      <td>0.0</td>\n",
       "      <td>0.0</td>\n",
       "      <td>29093.000000</td>\n",
       "      <td>29093.000000</td>\n",
       "      <td>29093.000000</td>\n",
       "      <td>29093.000000</td>\n",
       "      <td>29093.000000</td>\n",
       "      <td>29093.000000</td>\n",
       "      <td>29093.000000</td>\n",
       "    </tr>\n",
       "    <tr>\n",
       "      <th>mean</th>\n",
       "      <td>49133.227340</td>\n",
       "      <td>11063.889870</td>\n",
       "      <td>42.144512</td>\n",
       "      <td>57222.865878</td>\n",
       "      <td>29194.840099</td>\n",
       "      <td>13.905609</td>\n",
       "      <td>3.000631</td>\n",
       "      <td>1.879363e+05</td>\n",
       "      <td>-3.188384e+05</td>\n",
       "      <td>1364.261437</td>\n",
       "      <td>...</td>\n",
       "      <td>0.719213</td>\n",
       "      <td>NaN</td>\n",
       "      <td>NaN</td>\n",
       "      <td>83.446066</td>\n",
       "      <td>7.798114</td>\n",
       "      <td>9.510061</td>\n",
       "      <td>2.253109</td>\n",
       "      <td>38.856601</td>\n",
       "      <td>-90.622085</td>\n",
       "      <td>4549.981301</td>\n",
       "    </tr>\n",
       "    <tr>\n",
       "      <th>std</th>\n",
       "      <td>27367.633916</td>\n",
       "      <td>15010.032395</td>\n",
       "      <td>7.662110</td>\n",
       "      <td>23747.660188</td>\n",
       "      <td>12563.431705</td>\n",
       "      <td>9.327151</td>\n",
       "      <td>2.045864</td>\n",
       "      <td>1.678489e+05</td>\n",
       "      <td>1.462119e+07</td>\n",
       "      <td>577.959805</td>\n",
       "      <td>...</td>\n",
       "      <td>0.924010</td>\n",
       "      <td>NaN</td>\n",
       "      <td>NaN</td>\n",
       "      <td>20.344314</td>\n",
       "      <td>15.635153</td>\n",
       "      <td>16.335293</td>\n",
       "      <td>5.524311</td>\n",
       "      <td>5.257513</td>\n",
       "      <td>14.798852</td>\n",
       "      <td>5755.615274</td>\n",
       "    </tr>\n",
       "    <tr>\n",
       "      <th>min</th>\n",
       "      <td>602.000000</td>\n",
       "      <td>20.000000</td>\n",
       "      <td>15.400000</td>\n",
       "      <td>5902.000000</td>\n",
       "      <td>3534.000000</td>\n",
       "      <td>0.000000</td>\n",
       "      <td>0.000000</td>\n",
       "      <td>1.390000e+04</td>\n",
       "      <td>-6.666667e+08</td>\n",
       "      <td>331.000000</td>\n",
       "      <td>...</td>\n",
       "      <td>0.000000</td>\n",
       "      <td>NaN</td>\n",
       "      <td>NaN</td>\n",
       "      <td>0.000000</td>\n",
       "      <td>0.000000</td>\n",
       "      <td>0.000000</td>\n",
       "      <td>0.000000</td>\n",
       "      <td>17.960000</td>\n",
       "      <td>-171.690000</td>\n",
       "      <td>16.000000</td>\n",
       "    </tr>\n",
       "    <tr>\n",
       "      <th>25%</th>\n",
       "      <td>27013.000000</td>\n",
       "      <td>1149.000000</td>\n",
       "      <td>37.100000</td>\n",
       "      <td>41932.000000</td>\n",
       "      <td>21830.000000</td>\n",
       "      <td>7.172161</td>\n",
       "      <td>1.764706</td>\n",
       "      <td>9.330000e+04</td>\n",
       "      <td>1.963000e+03</td>\n",
       "      <td>987.000000</td>\n",
       "      <td>...</td>\n",
       "      <td>0.096012</td>\n",
       "      <td>NaN</td>\n",
       "      <td>NaN</td>\n",
       "      <td>77.478580</td>\n",
       "      <td>0.000000</td>\n",
       "      <td>1.025783</td>\n",
       "      <td>0.000000</td>\n",
       "      <td>35.400000</td>\n",
       "      <td>-96.710000</td>\n",
       "      <td>585.000000</td>\n",
       "    </tr>\n",
       "    <tr>\n",
       "      <th>50%</th>\n",
       "      <td>49412.000000</td>\n",
       "      <td>3871.000000</td>\n",
       "      <td>41.800000</td>\n",
       "      <td>52188.000000</td>\n",
       "      <td>26535.000000</td>\n",
       "      <td>11.917423</td>\n",
       "      <td>2.713026</td>\n",
       "      <td>1.390000e+05</td>\n",
       "      <td>1.975000e+03</td>\n",
       "      <td>1188.000000</td>\n",
       "      <td>...</td>\n",
       "      <td>0.472888</td>\n",
       "      <td>NaN</td>\n",
       "      <td>NaN</td>\n",
       "      <td>91.905444</td>\n",
       "      <td>1.198963</td>\n",
       "      <td>3.387892</td>\n",
       "      <td>0.440690</td>\n",
       "      <td>39.670000</td>\n",
       "      <td>-88.000000</td>\n",
       "      <td>1797.000000</td>\n",
       "    </tr>\n",
       "    <tr>\n",
       "      <th>75%</th>\n",
       "      <td>71044.000000</td>\n",
       "      <td>16038.000000</td>\n",
       "      <td>46.500000</td>\n",
       "      <td>66181.000000</td>\n",
       "      <td>32940.000000</td>\n",
       "      <td>18.479779</td>\n",
       "      <td>3.837719</td>\n",
       "      <td>2.164000e+05</td>\n",
       "      <td>1.984000e+03</td>\n",
       "      <td>1543.000000</td>\n",
       "      <td>...</td>\n",
       "      <td>0.971160</td>\n",
       "      <td>NaN</td>\n",
       "      <td>NaN</td>\n",
       "      <td>97.059294</td>\n",
       "      <td>6.948303</td>\n",
       "      <td>9.551657</td>\n",
       "      <td>1.916236</td>\n",
       "      <td>42.200000</td>\n",
       "      <td>-80.140000</td>\n",
       "      <td>6748.000000</td>\n",
       "    </tr>\n",
       "    <tr>\n",
       "      <th>max</th>\n",
       "      <td>99929.000000</td>\n",
       "      <td>119204.000000</td>\n",
       "      <td>83.100000</td>\n",
       "      <td>250001.000000</td>\n",
       "      <td>298129.000000</td>\n",
       "      <td>81.612713</td>\n",
       "      <td>43.396226</td>\n",
       "      <td>2.000001e+06</td>\n",
       "      <td>2.012000e+03</td>\n",
       "      <td>4001.000000</td>\n",
       "      <td>...</td>\n",
       "      <td>25.467290</td>\n",
       "      <td>NaN</td>\n",
       "      <td>NaN</td>\n",
       "      <td>100.000000</td>\n",
       "      <td>100.000000</td>\n",
       "      <td>100.000000</td>\n",
       "      <td>74.248386</td>\n",
       "      <td>71.000000</td>\n",
       "      <td>-65.280000</td>\n",
       "      <td>47617.000000</td>\n",
       "    </tr>\n",
       "  </tbody>\n",
       "</table>\n",
       "<p>8 rows × 27 columns</p>\n",
       "</div>"
      ],
      "text/plain": [
       "            Zipcode     Population    Median Age  Household Income  \\\n",
       "count  29093.000000   29093.000000  29093.000000      29093.000000   \n",
       "mean   49133.227340   11063.889870     42.144512      57222.865878   \n",
       "std    27367.633916   15010.032395      7.662110      23747.660188   \n",
       "min      602.000000      20.000000     15.400000       5902.000000   \n",
       "25%    27013.000000    1149.000000     37.100000      41932.000000   \n",
       "50%    49412.000000    3871.000000     41.800000      52188.000000   \n",
       "75%    71044.000000   16038.000000     46.500000      66181.000000   \n",
       "max    99929.000000  119204.000000     83.100000     250001.000000   \n",
       "\n",
       "       Per Capita Income  Poverty Rate  Unemployment Rate   House Value  \\\n",
       "count       29093.000000  29093.000000       29093.000000  2.909300e+04   \n",
       "mean        29194.840099     13.905609           3.000631  1.879363e+05   \n",
       "std         12563.431705      9.327151           2.045864  1.678489e+05   \n",
       "min          3534.000000      0.000000           0.000000  1.390000e+04   \n",
       "25%         21830.000000      7.172161           1.764706  9.330000e+04   \n",
       "50%         26535.000000     11.917423           2.713026  1.390000e+05   \n",
       "75%         32940.000000     18.479779           3.837719  2.164000e+05   \n",
       "max        298129.000000     81.612713          43.396226  2.000001e+06   \n",
       "\n",
       "       House Construction Year  Monthly Owner Cost  ...  Uneducated Rate  \\\n",
       "count             2.909300e+04        29093.000000  ...     29093.000000   \n",
       "mean             -3.188384e+05         1364.261437  ...         0.719213   \n",
       "std               1.462119e+07          577.959805  ...         0.924010   \n",
       "min              -6.666667e+08          331.000000  ...         0.000000   \n",
       "25%               1.963000e+03          987.000000  ...         0.096012   \n",
       "50%               1.975000e+03         1188.000000  ...         0.472888   \n",
       "75%               1.984000e+03         1543.000000  ...         0.971160   \n",
       "max               2.012000e+03         4001.000000  ...        25.467290   \n",
       "\n",
       "       English Language  Spanish Language  White Population Rate  \\\n",
       "count               0.0               0.0           29093.000000   \n",
       "mean                NaN               NaN              83.446066   \n",
       "std                 NaN               NaN              20.344314   \n",
       "min                 NaN               NaN               0.000000   \n",
       "25%                 NaN               NaN              77.478580   \n",
       "50%                 NaN               NaN              91.905444   \n",
       "75%                 NaN               NaN              97.059294   \n",
       "max                 NaN               NaN             100.000000   \n",
       "\n",
       "       Black Population Rate  Hispanic Population Rate  Asian Population Rate  \\\n",
       "count           29093.000000              29093.000000           29093.000000   \n",
       "mean                7.798114                  9.510061               2.253109   \n",
       "std                15.635153                 16.335293               5.524311   \n",
       "min                 0.000000                  0.000000               0.000000   \n",
       "25%                 0.000000                  1.025783               0.000000   \n",
       "50%                 1.198963                  3.387892               0.440690   \n",
       "75%                 6.948303                  9.551657               1.916236   \n",
       "max               100.000000                100.000000              74.248386   \n",
       "\n",
       "                Lat           Lng  Housing_units  \n",
       "count  29093.000000  29093.000000   29093.000000  \n",
       "mean      38.856601    -90.622085    4549.981301  \n",
       "std        5.257513     14.798852    5755.615274  \n",
       "min       17.960000   -171.690000      16.000000  \n",
       "25%       35.400000    -96.710000     585.000000  \n",
       "50%       39.670000    -88.000000    1797.000000  \n",
       "75%       42.200000    -80.140000    6748.000000  \n",
       "max       71.000000    -65.280000   47617.000000  \n",
       "\n",
       "[8 rows x 27 columns]"
      ]
     },
     "execution_count": 31,
     "metadata": {},
     "output_type": "execute_result"
    }
   ],
   "source": [
    "#describing the dataframe\n",
    "usa_2017.describe()"
   ]
  },
  {
   "cell_type": "code",
   "execution_count": 32,
   "id": "e7dfce4f",
   "metadata": {},
   "outputs": [
    {
     "data": {
      "text/plain": [
       "Index(['Zipcode', 'Population', 'Median Age', 'Household Income',\n",
       "       'Per Capita Income', 'Poverty Rate', 'Unemployment Rate', 'House Value',\n",
       "       'House Construction Year', 'Monthly Owner Cost', 'Monthly Rent',\n",
       "       'Public Transport Rate', 'Personal Transport Rate',\n",
       "       'Commute Time Public', 'Commute Time Car', 'High School Rate',\n",
       "       'College Rate', 'Uneducated Rate', 'English Language',\n",
       "       'Spanish Language', 'White Population Rate', 'Black Population Rate',\n",
       "       'Hispanic Population Rate', 'Asian Population Rate', 'City', 'County',\n",
       "       'Lat', 'Lng', 'Housing_units', 'State'],\n",
       "      dtype='object')"
      ]
     },
     "execution_count": 32,
     "metadata": {},
     "output_type": "execute_result"
    }
   ],
   "source": [
    "usa_2017.columns"
   ]
  },
  {
   "cell_type": "code",
   "execution_count": 33,
   "id": "8dd75ce1",
   "metadata": {},
   "outputs": [],
   "source": [
    "usa_2017.drop(['Commute Time Car','Commute Time Public',\n",
    "               'English Language','Spanish Language'], axis=1, inplace=True)"
   ]
  },
  {
   "cell_type": "code",
   "execution_count": null,
   "id": "5f21b34d",
   "metadata": {},
   "outputs": [],
   "source": []
  },
  {
   "cell_type": "code",
   "execution_count": 34,
   "id": "7c9fdb06",
   "metadata": {},
   "outputs": [
    {
     "data": {
      "text/plain": [
       "(29093, 26)"
      ]
     },
     "execution_count": 34,
     "metadata": {},
     "output_type": "execute_result"
    }
   ],
   "source": [
    "usa_2017.shape"
   ]
  },
  {
   "cell_type": "code",
   "execution_count": 35,
   "id": "65980fb3",
   "metadata": {},
   "outputs": [],
   "source": [
    "#selecting only required columns\n",
    "usa_2017_redu=usa_2017[['Population', 'Median Age', 'Household Income',\n",
    "       'Per Capita Income', 'Poverty Rate', 'Unemployment Rate', 'House Value',\n",
    "       'House Construction Year', 'Monthly Owner Cost', 'Monthly Rent',\n",
    "       'Public Transport Rate', 'Personal Transport Rate',\n",
    "        'High School Rate',\n",
    "       'College Rate', 'Uneducated Rate', 'White Population Rate', 'Black Population Rate',\n",
    "       'Hispanic Population Rate', 'Asian Population Rate', 'City', \n",
    "       'Lat', 'Lng', 'Housing_units']]"
   ]
  },
  {
   "cell_type": "code",
   "execution_count": 36,
   "id": "e81a7817",
   "metadata": {},
   "outputs": [],
   "source": [
    "#saving csv file for machine learning\n",
    "usa_2017_redu.to_csv('output_census/usa_2017_ml.csv', index=False)"
   ]
  },
  {
   "cell_type": "code",
   "execution_count": null,
   "id": "f73efae8",
   "metadata": {},
   "outputs": [],
   "source": []
  },
  {
   "cell_type": "code",
   "execution_count": null,
   "id": "3a2791c4",
   "metadata": {},
   "outputs": [],
   "source": []
  },
  {
   "cell_type": "markdown",
   "id": "957b378c",
   "metadata": {},
   "source": [
    "## Looking for 2017 California census data"
   ]
  },
  {
   "cell_type": "code",
   "execution_count": null,
   "id": "867f7c21",
   "metadata": {},
   "outputs": [],
   "source": [
    "#reading 2017 combined california census data\n",
    "path_ca_2017=os.path.join('output_census', 'census_ca_2017.csv')\n",
    "ca_2017=pd.read_csv(path_ca_2017)"
   ]
  },
  {
   "cell_type": "code",
   "execution_count": null,
   "id": "d222305a",
   "metadata": {},
   "outputs": [],
   "source": [
    "#looking for usa_2017 dataframe\n",
    "ca_2017.head()"
   ]
  },
  {
   "cell_type": "code",
   "execution_count": null,
   "id": "68e9e8d8",
   "metadata": {},
   "outputs": [],
   "source": [
    "#columns of 2017  dataframe\n",
    "ca_2017.columns"
   ]
  },
  {
   "cell_type": "code",
   "execution_count": null,
   "id": "f5beb961",
   "metadata": {},
   "outputs": [],
   "source": [
    "#shape of the dataframe\n",
    "ca_2017.shape"
   ]
  },
  {
   "cell_type": "code",
   "execution_count": null,
   "id": "82fb3c83",
   "metadata": {},
   "outputs": [],
   "source": [
    "#removing the rows with house value less than 1\n",
    "ca_2017=ca_2017[ca_2017['House Value']>0]"
   ]
  },
  {
   "cell_type": "code",
   "execution_count": null,
   "id": "ebb68a49",
   "metadata": {},
   "outputs": [],
   "source": [
    "#looking for null value\n",
    "ca_2017.isna().sum()"
   ]
  },
  {
   "cell_type": "code",
   "execution_count": null,
   "id": "1c71336d",
   "metadata": {},
   "outputs": [],
   "source": [
    "#removing the rows with lat and lng missing value\n"
   ]
  },
  {
   "cell_type": "code",
   "execution_count": null,
   "id": "252c1975",
   "metadata": {},
   "outputs": [],
   "source": [
    "#shape of the clean dataframe\n",
    "ca_2017.shape"
   ]
  },
  {
   "cell_type": "code",
   "execution_count": null,
   "id": "cb4fba28",
   "metadata": {},
   "outputs": [],
   "source": [
    "#info of the dataframe\n",
    "ca_2017.info()"
   ]
  },
  {
   "cell_type": "code",
   "execution_count": null,
   "id": "7d4e8b84",
   "metadata": {},
   "outputs": [],
   "source": [
    "#describing the dataframe\n",
    "ca_2017.describe()"
   ]
  },
  {
   "cell_type": "code",
   "execution_count": null,
   "id": "34a561b0",
   "metadata": {},
   "outputs": [],
   "source": []
  },
  {
   "cell_type": "markdown",
   "id": "ab4ab04d",
   "metadata": {},
   "source": [
    "## Looking for 2019 US census data"
   ]
  },
  {
   "cell_type": "code",
   "execution_count": 4,
   "id": "1467ed63",
   "metadata": {},
   "outputs": [],
   "source": [
    "# 2019 census data for all US zipcodes\n",
    "#reading 2019 combined census data\n",
    "path_comb_2019=os.path.join('output_census', 'census_comb_2019.csv')\n",
    "usa_2019=pd.read_csv(path_comb_2019)"
   ]
  },
  {
   "cell_type": "code",
   "execution_count": 5,
   "id": "e6b4cb06",
   "metadata": {},
   "outputs": [
    {
     "data": {
      "text/html": [
       "<div>\n",
       "<style scoped>\n",
       "    .dataframe tbody tr th:only-of-type {\n",
       "        vertical-align: middle;\n",
       "    }\n",
       "\n",
       "    .dataframe tbody tr th {\n",
       "        vertical-align: top;\n",
       "    }\n",
       "\n",
       "    .dataframe thead th {\n",
       "        text-align: right;\n",
       "    }\n",
       "</style>\n",
       "<table border=\"1\" class=\"dataframe\">\n",
       "  <thead>\n",
       "    <tr style=\"text-align: right;\">\n",
       "      <th></th>\n",
       "      <th>Zipcode</th>\n",
       "      <th>Population</th>\n",
       "      <th>Median Age</th>\n",
       "      <th>Household Income</th>\n",
       "      <th>Per Capita Income</th>\n",
       "      <th>Poverty Rate</th>\n",
       "      <th>Unemployment Rate</th>\n",
       "      <th>House Value</th>\n",
       "      <th>House Construction Year</th>\n",
       "      <th>Monthly Owner Cost</th>\n",
       "      <th>...</th>\n",
       "      <th>White Population Rate</th>\n",
       "      <th>Black Population Rate</th>\n",
       "      <th>Hispanic Population Rate</th>\n",
       "      <th>Asian Population Rate</th>\n",
       "      <th>City</th>\n",
       "      <th>County</th>\n",
       "      <th>Lat</th>\n",
       "      <th>Lng</th>\n",
       "      <th>Housing_units</th>\n",
       "      <th>State</th>\n",
       "    </tr>\n",
       "  </thead>\n",
       "  <tbody>\n",
       "    <tr>\n",
       "      <th>0</th>\n",
       "      <td>601</td>\n",
       "      <td>17113.0</td>\n",
       "      <td>41.9</td>\n",
       "      <td>14361.0</td>\n",
       "      <td>7493.0</td>\n",
       "      <td>61.660726</td>\n",
       "      <td>11.500029</td>\n",
       "      <td>83900.0</td>\n",
       "      <td>1981</td>\n",
       "      <td>771.0</td>\n",
       "      <td>...</td>\n",
       "      <td>73.721732</td>\n",
       "      <td>1.063519</td>\n",
       "      <td>99.643546</td>\n",
       "      <td>0.011687</td>\n",
       "      <td>Adjuntas</td>\n",
       "      <td>Adjuntas Municipio</td>\n",
       "      <td>NaN</td>\n",
       "      <td>NaN</td>\n",
       "      <td>NaN</td>\n",
       "      <td>PR</td>\n",
       "    </tr>\n",
       "    <tr>\n",
       "      <th>1</th>\n",
       "      <td>602</td>\n",
       "      <td>37751.0</td>\n",
       "      <td>42.9</td>\n",
       "      <td>16807.0</td>\n",
       "      <td>9694.0</td>\n",
       "      <td>49.410612</td>\n",
       "      <td>3.761490</td>\n",
       "      <td>85300.0</td>\n",
       "      <td>1978</td>\n",
       "      <td>877.0</td>\n",
       "      <td>...</td>\n",
       "      <td>85.240126</td>\n",
       "      <td>2.405234</td>\n",
       "      <td>92.469074</td>\n",
       "      <td>0.000000</td>\n",
       "      <td>Aguada</td>\n",
       "      <td>Aguada Municipio</td>\n",
       "      <td>18.36</td>\n",
       "      <td>-67.18</td>\n",
       "      <td>18073.0</td>\n",
       "      <td>PR</td>\n",
       "    </tr>\n",
       "    <tr>\n",
       "      <th>2</th>\n",
       "      <td>603</td>\n",
       "      <td>47081.0</td>\n",
       "      <td>42.1</td>\n",
       "      <td>16049.0</td>\n",
       "      <td>11259.0</td>\n",
       "      <td>50.319662</td>\n",
       "      <td>6.790425</td>\n",
       "      <td>118400.0</td>\n",
       "      <td>1980</td>\n",
       "      <td>832.0</td>\n",
       "      <td>...</td>\n",
       "      <td>79.350481</td>\n",
       "      <td>3.215735</td>\n",
       "      <td>97.368365</td>\n",
       "      <td>0.229392</td>\n",
       "      <td>Aguadilla</td>\n",
       "      <td>Aguadilla Municipio</td>\n",
       "      <td>18.45</td>\n",
       "      <td>-67.11</td>\n",
       "      <td>25653.0</td>\n",
       "      <td>PR</td>\n",
       "    </tr>\n",
       "    <tr>\n",
       "      <th>3</th>\n",
       "      <td>606</td>\n",
       "      <td>6392.0</td>\n",
       "      <td>44.3</td>\n",
       "      <td>12119.0</td>\n",
       "      <td>6093.0</td>\n",
       "      <td>65.472466</td>\n",
       "      <td>2.643930</td>\n",
       "      <td>80800.0</td>\n",
       "      <td>1978</td>\n",
       "      <td>526.0</td>\n",
       "      <td>...</td>\n",
       "      <td>45.525657</td>\n",
       "      <td>1.439299</td>\n",
       "      <td>99.155194</td>\n",
       "      <td>0.000000</td>\n",
       "      <td>Maricao</td>\n",
       "      <td>Maricao Municipio</td>\n",
       "      <td>18.20</td>\n",
       "      <td>-66.90</td>\n",
       "      <td>2877.0</td>\n",
       "      <td>PR</td>\n",
       "    </tr>\n",
       "    <tr>\n",
       "      <th>4</th>\n",
       "      <td>610</td>\n",
       "      <td>26686.0</td>\n",
       "      <td>42.7</td>\n",
       "      <td>19898.0</td>\n",
       "      <td>10572.0</td>\n",
       "      <td>45.731844</td>\n",
       "      <td>3.855954</td>\n",
       "      <td>87600.0</td>\n",
       "      <td>1978</td>\n",
       "      <td>751.0</td>\n",
       "      <td>...</td>\n",
       "      <td>82.597617</td>\n",
       "      <td>1.727498</td>\n",
       "      <td>95.061081</td>\n",
       "      <td>0.000000</td>\n",
       "      <td>Anasco</td>\n",
       "      <td>Aasco Municipio</td>\n",
       "      <td>18.28</td>\n",
       "      <td>-67.13</td>\n",
       "      <td>12618.0</td>\n",
       "      <td>PR</td>\n",
       "    </tr>\n",
       "  </tbody>\n",
       "</table>\n",
       "<p>5 rows × 30 columns</p>\n",
       "</div>"
      ],
      "text/plain": [
       "   Zipcode  Population  Median Age  Household Income  Per Capita Income  \\\n",
       "0      601     17113.0        41.9           14361.0             7493.0   \n",
       "1      602     37751.0        42.9           16807.0             9694.0   \n",
       "2      603     47081.0        42.1           16049.0            11259.0   \n",
       "3      606      6392.0        44.3           12119.0             6093.0   \n",
       "4      610     26686.0        42.7           19898.0            10572.0   \n",
       "\n",
       "   Poverty Rate  Unemployment Rate  House Value  House Construction Year  \\\n",
       "0     61.660726          11.500029      83900.0                     1981   \n",
       "1     49.410612           3.761490      85300.0                     1978   \n",
       "2     50.319662           6.790425     118400.0                     1980   \n",
       "3     65.472466           2.643930      80800.0                     1978   \n",
       "4     45.731844           3.855954      87600.0                     1978   \n",
       "\n",
       "   Monthly Owner Cost  ...  White Population Rate  Black Population Rate  \\\n",
       "0               771.0  ...              73.721732               1.063519   \n",
       "1               877.0  ...              85.240126               2.405234   \n",
       "2               832.0  ...              79.350481               3.215735   \n",
       "3               526.0  ...              45.525657               1.439299   \n",
       "4               751.0  ...              82.597617               1.727498   \n",
       "\n",
       "   Hispanic Population Rate  Asian Population Rate       City  \\\n",
       "0                 99.643546               0.011687   Adjuntas   \n",
       "1                 92.469074               0.000000     Aguada   \n",
       "2                 97.368365               0.229392  Aguadilla   \n",
       "3                 99.155194               0.000000    Maricao   \n",
       "4                 95.061081               0.000000     Anasco   \n",
       "\n",
       "                County    Lat    Lng  Housing_units  State  \n",
       "0   Adjuntas Municipio    NaN    NaN            NaN     PR  \n",
       "1     Aguada Municipio  18.36 -67.18        18073.0     PR  \n",
       "2  Aguadilla Municipio  18.45 -67.11        25653.0     PR  \n",
       "3    Maricao Municipio  18.20 -66.90         2877.0     PR  \n",
       "4      Aasco Municipio  18.28 -67.13        12618.0     PR  \n",
       "\n",
       "[5 rows x 30 columns]"
      ]
     },
     "execution_count": 5,
     "metadata": {},
     "output_type": "execute_result"
    }
   ],
   "source": [
    "#looking for usa_2014 dataframe\n",
    "usa_2019.head()"
   ]
  },
  {
   "cell_type": "code",
   "execution_count": 6,
   "id": "92e910bd",
   "metadata": {},
   "outputs": [
    {
     "data": {
      "text/plain": [
       "Index(['Zipcode', 'Population', 'Median Age', 'Household Income',\n",
       "       'Per Capita Income', 'Poverty Rate', 'Unemployment Rate', 'House Value',\n",
       "       'House Construction Year', 'Monthly Owner Cost', 'Monthly Rent',\n",
       "       'Public Transport Rate', 'Personal Transport Rate',\n",
       "       'Commute Time Public', 'Commute Time Car', 'High School Rate',\n",
       "       'College Rate', 'Uneducated Rate', 'English Language',\n",
       "       'Spanish Language', 'White Population Rate', 'Black Population Rate',\n",
       "       'Hispanic Population Rate', 'Asian Population Rate', 'City', 'County',\n",
       "       'Lat', 'Lng', 'Housing_units', 'State'],\n",
       "      dtype='object')"
      ]
     },
     "execution_count": 6,
     "metadata": {},
     "output_type": "execute_result"
    }
   ],
   "source": [
    "#columns of 2014  dataframe\n",
    "usa_2019.columns"
   ]
  },
  {
   "cell_type": "code",
   "execution_count": 7,
   "id": "b7c16bfb",
   "metadata": {},
   "outputs": [
    {
     "data": {
      "text/plain": [
       "(33120, 30)"
      ]
     },
     "execution_count": 7,
     "metadata": {},
     "output_type": "execute_result"
    }
   ],
   "source": [
    "#shape of the dataframe\n",
    "usa_2019.shape"
   ]
  },
  {
   "cell_type": "code",
   "execution_count": 8,
   "id": "b02c1824",
   "metadata": {},
   "outputs": [],
   "source": [
    "#removing the rows with house value less than 1\n",
    "usa_2019=(usa_2019[(usa_2019['House Value']>0)&\n",
    "                (usa_2019['Household Income']>0)&\n",
    "                (usa_2019['Monthly Owner Cost']>0)])"
   ]
  },
  {
   "cell_type": "code",
   "execution_count": 9,
   "id": "806b156c",
   "metadata": {},
   "outputs": [
    {
     "data": {
      "text/plain": [
       "Zipcode                         0\n",
       "Population                      0\n",
       "Median Age                      0\n",
       "Household Income                0\n",
       "Per Capita Income               0\n",
       "Poverty Rate                    0\n",
       "Unemployment Rate               0\n",
       "House Value                     0\n",
       "House Construction Year         0\n",
       "Monthly Owner Cost              0\n",
       "Monthly Rent                    0\n",
       "Public Transport Rate           1\n",
       "Personal Transport Rate         1\n",
       "Commute Time Public         20708\n",
       "Commute Time Car            20708\n",
       "High School Rate                0\n",
       "College Rate                    0\n",
       "Uneducated Rate                 0\n",
       "English Language            28941\n",
       "Spanish Language            28941\n",
       "White Population Rate           0\n",
       "Black Population Rate           0\n",
       "Hispanic Population Rate        0\n",
       "Asian Population Rate           0\n",
       "City                            0\n",
       "County                          1\n",
       "Lat                            16\n",
       "Lng                            16\n",
       "Housing_units                  16\n",
       "State                           0\n",
       "dtype: int64"
      ]
     },
     "execution_count": 9,
     "metadata": {},
     "output_type": "execute_result"
    }
   ],
   "source": [
    "#looking for null value\n",
    "usa_2019.isna().sum()"
   ]
  },
  {
   "cell_type": "code",
   "execution_count": 10,
   "id": "4e1df324",
   "metadata": {},
   "outputs": [],
   "source": [
    "#removing the rows with lat and lng missing value\n",
    "usa_2019.dropna(subset=['Lat', 'Lng','Housing_units','County', \n",
    "                        'Public Transport Rate','Personal Transport Rate'], \n",
    "                         inplace=True)"
   ]
  },
  {
   "cell_type": "code",
   "execution_count": 11,
   "id": "98db5a69",
   "metadata": {},
   "outputs": [
    {
     "data": {
      "text/plain": [
       "(28923, 30)"
      ]
     },
     "execution_count": 11,
     "metadata": {},
     "output_type": "execute_result"
    }
   ],
   "source": [
    "#shape of the clean dataframe\n",
    "usa_2019.shape"
   ]
  },
  {
   "cell_type": "code",
   "execution_count": 12,
   "id": "94e95e51",
   "metadata": {},
   "outputs": [
    {
     "name": "stdout",
     "output_type": "stream",
     "text": [
      "<class 'pandas.core.frame.DataFrame'>\n",
      "Int64Index: 28923 entries, 1 to 33119\n",
      "Data columns (total 30 columns):\n",
      " #   Column                    Non-Null Count  Dtype  \n",
      "---  ------                    --------------  -----  \n",
      " 0   Zipcode                   28923 non-null  int64  \n",
      " 1   Population                28923 non-null  float64\n",
      " 2   Median Age                28923 non-null  float64\n",
      " 3   Household Income          28923 non-null  float64\n",
      " 4   Per Capita Income         28923 non-null  float64\n",
      " 5   Poverty Rate              28923 non-null  float64\n",
      " 6   Unemployment Rate         28923 non-null  float64\n",
      " 7   House Value               28923 non-null  float64\n",
      " 8   House Construction Year   28923 non-null  int64  \n",
      " 9   Monthly Owner Cost        28923 non-null  float64\n",
      " 10  Monthly Rent              28923 non-null  float64\n",
      " 11  Public Transport Rate     28923 non-null  float64\n",
      " 12  Personal Transport Rate   28923 non-null  float64\n",
      " 13  Commute Time Public       8228 non-null   float64\n",
      " 14  Commute Time Car          8228 non-null   float64\n",
      " 15  High School Rate          28923 non-null  float64\n",
      " 16  College Rate              28923 non-null  float64\n",
      " 17  Uneducated Rate           28923 non-null  float64\n",
      " 18  English Language          0 non-null      float64\n",
      " 19  Spanish Language          0 non-null      float64\n",
      " 20  White Population Rate     28923 non-null  float64\n",
      " 21  Black Population Rate     28923 non-null  float64\n",
      " 22  Hispanic Population Rate  28923 non-null  float64\n",
      " 23  Asian Population Rate     28923 non-null  float64\n",
      " 24  City                      28923 non-null  object \n",
      " 25  County                    28923 non-null  object \n",
      " 26  Lat                       28923 non-null  float64\n",
      " 27  Lng                       28923 non-null  float64\n",
      " 28  Housing_units             28923 non-null  float64\n",
      " 29  State                     28923 non-null  object \n",
      "dtypes: float64(25), int64(2), object(3)\n",
      "memory usage: 6.8+ MB\n"
     ]
    }
   ],
   "source": [
    "#info of the dataframe\n",
    "usa_2019.info()"
   ]
  },
  {
   "cell_type": "code",
   "execution_count": 13,
   "id": "510a942f",
   "metadata": {},
   "outputs": [
    {
     "data": {
      "text/html": [
       "<div>\n",
       "<style scoped>\n",
       "    .dataframe tbody tr th:only-of-type {\n",
       "        vertical-align: middle;\n",
       "    }\n",
       "\n",
       "    .dataframe tbody tr th {\n",
       "        vertical-align: top;\n",
       "    }\n",
       "\n",
       "    .dataframe thead th {\n",
       "        text-align: right;\n",
       "    }\n",
       "</style>\n",
       "<table border=\"1\" class=\"dataframe\">\n",
       "  <thead>\n",
       "    <tr style=\"text-align: right;\">\n",
       "      <th></th>\n",
       "      <th>Zipcode</th>\n",
       "      <th>Population</th>\n",
       "      <th>Median Age</th>\n",
       "      <th>Household Income</th>\n",
       "      <th>Per Capita Income</th>\n",
       "      <th>Poverty Rate</th>\n",
       "      <th>Unemployment Rate</th>\n",
       "      <th>House Value</th>\n",
       "      <th>House Construction Year</th>\n",
       "      <th>Monthly Owner Cost</th>\n",
       "      <th>...</th>\n",
       "      <th>Uneducated Rate</th>\n",
       "      <th>English Language</th>\n",
       "      <th>Spanish Language</th>\n",
       "      <th>White Population Rate</th>\n",
       "      <th>Black Population Rate</th>\n",
       "      <th>Hispanic Population Rate</th>\n",
       "      <th>Asian Population Rate</th>\n",
       "      <th>Lat</th>\n",
       "      <th>Lng</th>\n",
       "      <th>Housing_units</th>\n",
       "    </tr>\n",
       "  </thead>\n",
       "  <tbody>\n",
       "    <tr>\n",
       "      <th>count</th>\n",
       "      <td>28923.000000</td>\n",
       "      <td>28923.000000</td>\n",
       "      <td>28923.000000</td>\n",
       "      <td>28923.000000</td>\n",
       "      <td>28923.000000</td>\n",
       "      <td>28923.000000</td>\n",
       "      <td>28923.000000</td>\n",
       "      <td>2.892300e+04</td>\n",
       "      <td>2.892300e+04</td>\n",
       "      <td>28923.000000</td>\n",
       "      <td>...</td>\n",
       "      <td>28923.000000</td>\n",
       "      <td>0.0</td>\n",
       "      <td>0.0</td>\n",
       "      <td>28923.000000</td>\n",
       "      <td>28923.000000</td>\n",
       "      <td>28923.000000</td>\n",
       "      <td>28923.000000</td>\n",
       "      <td>28923.000000</td>\n",
       "      <td>28923.000000</td>\n",
       "      <td>28923.000000</td>\n",
       "    </tr>\n",
       "    <tr>\n",
       "      <th>mean</th>\n",
       "      <td>49121.160184</td>\n",
       "      <td>11250.464336</td>\n",
       "      <td>42.459513</td>\n",
       "      <td>61886.646302</td>\n",
       "      <td>31680.641116</td>\n",
       "      <td>13.042679</td>\n",
       "      <td>2.457554</td>\n",
       "      <td>2.061185e+05</td>\n",
       "      <td>-1.594677e+05</td>\n",
       "      <td>1428.424022</td>\n",
       "      <td>...</td>\n",
       "      <td>0.721531</td>\n",
       "      <td>NaN</td>\n",
       "      <td>NaN</td>\n",
       "      <td>83.124381</td>\n",
       "      <td>7.852341</td>\n",
       "      <td>9.805983</td>\n",
       "      <td>2.343961</td>\n",
       "      <td>38.866237</td>\n",
       "      <td>-90.628141</td>\n",
       "      <td>4575.325554</td>\n",
       "    </tr>\n",
       "    <tr>\n",
       "      <th>std</th>\n",
       "      <td>27357.506521</td>\n",
       "      <td>15247.867882</td>\n",
       "      <td>7.784226</td>\n",
       "      <td>25958.786527</td>\n",
       "      <td>13621.932220</td>\n",
       "      <td>8.928869</td>\n",
       "      <td>1.830560</td>\n",
       "      <td>1.873462e+05</td>\n",
       "      <td>1.037032e+07</td>\n",
       "      <td>612.976365</td>\n",
       "      <td>...</td>\n",
       "      <td>0.943708</td>\n",
       "      <td>NaN</td>\n",
       "      <td>NaN</td>\n",
       "      <td>20.379255</td>\n",
       "      <td>15.557849</td>\n",
       "      <td>16.466417</td>\n",
       "      <td>5.679577</td>\n",
       "      <td>5.264032</td>\n",
       "      <td>14.817801</td>\n",
       "      <td>5762.985962</td>\n",
       "    </tr>\n",
       "    <tr>\n",
       "      <th>min</th>\n",
       "      <td>602.000000</td>\n",
       "      <td>24.000000</td>\n",
       "      <td>14.500000</td>\n",
       "      <td>6493.000000</td>\n",
       "      <td>3054.000000</td>\n",
       "      <td>0.000000</td>\n",
       "      <td>0.000000</td>\n",
       "      <td>9.999000e+03</td>\n",
       "      <td>-6.666667e+08</td>\n",
       "      <td>99.000000</td>\n",
       "      <td>...</td>\n",
       "      <td>0.000000</td>\n",
       "      <td>NaN</td>\n",
       "      <td>NaN</td>\n",
       "      <td>0.000000</td>\n",
       "      <td>0.000000</td>\n",
       "      <td>0.000000</td>\n",
       "      <td>0.000000</td>\n",
       "      <td>17.960000</td>\n",
       "      <td>-173.000000</td>\n",
       "      <td>0.000000</td>\n",
       "    </tr>\n",
       "    <tr>\n",
       "      <th>25%</th>\n",
       "      <td>27029.000000</td>\n",
       "      <td>1154.000000</td>\n",
       "      <td>37.300000</td>\n",
       "      <td>45470.500000</td>\n",
       "      <td>23686.500000</td>\n",
       "      <td>6.620662</td>\n",
       "      <td>1.354366</td>\n",
       "      <td>1.016000e+05</td>\n",
       "      <td>1.964000e+03</td>\n",
       "      <td>1030.000000</td>\n",
       "      <td>...</td>\n",
       "      <td>0.097671</td>\n",
       "      <td>NaN</td>\n",
       "      <td>NaN</td>\n",
       "      <td>76.915201</td>\n",
       "      <td>0.000000</td>\n",
       "      <td>1.114428</td>\n",
       "      <td>0.000000</td>\n",
       "      <td>35.400000</td>\n",
       "      <td>-96.740000</td>\n",
       "      <td>596.000000</td>\n",
       "    </tr>\n",
       "    <tr>\n",
       "      <th>50%</th>\n",
       "      <td>49339.000000</td>\n",
       "      <td>3961.000000</td>\n",
       "      <td>41.900000</td>\n",
       "      <td>56268.000000</td>\n",
       "      <td>28748.000000</td>\n",
       "      <td>11.154656</td>\n",
       "      <td>2.187713</td>\n",
       "      <td>1.517000e+05</td>\n",
       "      <td>1.976000e+03</td>\n",
       "      <td>1235.000000</td>\n",
       "      <td>...</td>\n",
       "      <td>0.463939</td>\n",
       "      <td>NaN</td>\n",
       "      <td>NaN</td>\n",
       "      <td>91.508983</td>\n",
       "      <td>1.288530</td>\n",
       "      <td>3.629829</td>\n",
       "      <td>0.465230</td>\n",
       "      <td>39.680000</td>\n",
       "      <td>-88.000000</td>\n",
       "      <td>1824.000000</td>\n",
       "    </tr>\n",
       "    <tr>\n",
       "      <th>75%</th>\n",
       "      <td>71017.000000</td>\n",
       "      <td>16251.000000</td>\n",
       "      <td>46.900000</td>\n",
       "      <td>71543.000000</td>\n",
       "      <td>35665.500000</td>\n",
       "      <td>17.339537</td>\n",
       "      <td>3.161629</td>\n",
       "      <td>2.380000e+05</td>\n",
       "      <td>1.984000e+03</td>\n",
       "      <td>1621.000000</td>\n",
       "      <td>...</td>\n",
       "      <td>0.976494</td>\n",
       "      <td>NaN</td>\n",
       "      <td>NaN</td>\n",
       "      <td>96.848344</td>\n",
       "      <td>7.140009</td>\n",
       "      <td>10.089356</td>\n",
       "      <td>2.027271</td>\n",
       "      <td>42.200000</td>\n",
       "      <td>-80.130000</td>\n",
       "      <td>6797.500000</td>\n",
       "    </tr>\n",
       "    <tr>\n",
       "      <th>max</th>\n",
       "      <td>99929.000000</td>\n",
       "      <td>128294.000000</td>\n",
       "      <td>91.500000</td>\n",
       "      <td>250001.000000</td>\n",
       "      <td>187336.000000</td>\n",
       "      <td>85.142857</td>\n",
       "      <td>30.115830</td>\n",
       "      <td>2.000001e+06</td>\n",
       "      <td>2.014000e+03</td>\n",
       "      <td>4001.000000</td>\n",
       "      <td>...</td>\n",
       "      <td>26.595745</td>\n",
       "      <td>NaN</td>\n",
       "      <td>NaN</td>\n",
       "      <td>100.000000</td>\n",
       "      <td>100.000000</td>\n",
       "      <td>100.000000</td>\n",
       "      <td>75.288276</td>\n",
       "      <td>71.000000</td>\n",
       "      <td>-65.280000</td>\n",
       "      <td>47617.000000</td>\n",
       "    </tr>\n",
       "  </tbody>\n",
       "</table>\n",
       "<p>8 rows × 27 columns</p>\n",
       "</div>"
      ],
      "text/plain": [
       "            Zipcode     Population    Median Age  Household Income  \\\n",
       "count  28923.000000   28923.000000  28923.000000      28923.000000   \n",
       "mean   49121.160184   11250.464336     42.459513      61886.646302   \n",
       "std    27357.506521   15247.867882      7.784226      25958.786527   \n",
       "min      602.000000      24.000000     14.500000       6493.000000   \n",
       "25%    27029.000000    1154.000000     37.300000      45470.500000   \n",
       "50%    49339.000000    3961.000000     41.900000      56268.000000   \n",
       "75%    71017.000000   16251.000000     46.900000      71543.000000   \n",
       "max    99929.000000  128294.000000     91.500000     250001.000000   \n",
       "\n",
       "       Per Capita Income  Poverty Rate  Unemployment Rate   House Value  \\\n",
       "count       28923.000000  28923.000000       28923.000000  2.892300e+04   \n",
       "mean        31680.641116     13.042679           2.457554  2.061185e+05   \n",
       "std         13621.932220      8.928869           1.830560  1.873462e+05   \n",
       "min          3054.000000      0.000000           0.000000  9.999000e+03   \n",
       "25%         23686.500000      6.620662           1.354366  1.016000e+05   \n",
       "50%         28748.000000     11.154656           2.187713  1.517000e+05   \n",
       "75%         35665.500000     17.339537           3.161629  2.380000e+05   \n",
       "max        187336.000000     85.142857          30.115830  2.000001e+06   \n",
       "\n",
       "       House Construction Year  Monthly Owner Cost  ...  Uneducated Rate  \\\n",
       "count             2.892300e+04        28923.000000  ...     28923.000000   \n",
       "mean             -1.594677e+05         1428.424022  ...         0.721531   \n",
       "std               1.037032e+07          612.976365  ...         0.943708   \n",
       "min              -6.666667e+08           99.000000  ...         0.000000   \n",
       "25%               1.964000e+03         1030.000000  ...         0.097671   \n",
       "50%               1.976000e+03         1235.000000  ...         0.463939   \n",
       "75%               1.984000e+03         1621.000000  ...         0.976494   \n",
       "max               2.014000e+03         4001.000000  ...        26.595745   \n",
       "\n",
       "       English Language  Spanish Language  White Population Rate  \\\n",
       "count               0.0               0.0           28923.000000   \n",
       "mean                NaN               NaN              83.124381   \n",
       "std                 NaN               NaN              20.379255   \n",
       "min                 NaN               NaN               0.000000   \n",
       "25%                 NaN               NaN              76.915201   \n",
       "50%                 NaN               NaN              91.508983   \n",
       "75%                 NaN               NaN              96.848344   \n",
       "max                 NaN               NaN             100.000000   \n",
       "\n",
       "       Black Population Rate  Hispanic Population Rate  Asian Population Rate  \\\n",
       "count           28923.000000              28923.000000           28923.000000   \n",
       "mean                7.852341                  9.805983               2.343961   \n",
       "std                15.557849                 16.466417               5.679577   \n",
       "min                 0.000000                  0.000000               0.000000   \n",
       "25%                 0.000000                  1.114428               0.000000   \n",
       "50%                 1.288530                  3.629829               0.465230   \n",
       "75%                 7.140009                 10.089356               2.027271   \n",
       "max               100.000000                100.000000              75.288276   \n",
       "\n",
       "                Lat           Lng  Housing_units  \n",
       "count  28923.000000  28923.000000   28923.000000  \n",
       "mean      38.866237    -90.628141    4575.325554  \n",
       "std        5.264032     14.817801    5762.985962  \n",
       "min       17.960000   -173.000000       0.000000  \n",
       "25%       35.400000    -96.740000     596.000000  \n",
       "50%       39.680000    -88.000000    1824.000000  \n",
       "75%       42.200000    -80.130000    6797.500000  \n",
       "max       71.000000    -65.280000   47617.000000  \n",
       "\n",
       "[8 rows x 27 columns]"
      ]
     },
     "execution_count": 13,
     "metadata": {},
     "output_type": "execute_result"
    }
   ],
   "source": [
    "#describing the dataframe\n",
    "usa_2019.describe()"
   ]
  },
  {
   "cell_type": "code",
   "execution_count": 14,
   "id": "fb3189e1",
   "metadata": {},
   "outputs": [
    {
     "data": {
      "text/plain": [
       "Index(['Zipcode', 'Population', 'Median Age', 'Household Income',\n",
       "       'Per Capita Income', 'Poverty Rate', 'Unemployment Rate', 'House Value',\n",
       "       'House Construction Year', 'Monthly Owner Cost', 'Monthly Rent',\n",
       "       'Public Transport Rate', 'Personal Transport Rate',\n",
       "       'Commute Time Public', 'Commute Time Car', 'High School Rate',\n",
       "       'College Rate', 'Uneducated Rate', 'English Language',\n",
       "       'Spanish Language', 'White Population Rate', 'Black Population Rate',\n",
       "       'Hispanic Population Rate', 'Asian Population Rate', 'City', 'County',\n",
       "       'Lat', 'Lng', 'Housing_units', 'State'],\n",
       "      dtype='object')"
      ]
     },
     "execution_count": 14,
     "metadata": {},
     "output_type": "execute_result"
    }
   ],
   "source": [
    "usa_2019.columns"
   ]
  },
  {
   "cell_type": "code",
   "execution_count": 16,
   "id": "1f114025",
   "metadata": {},
   "outputs": [],
   "source": [
    "usa_2019.drop(['Commute Time Car','Commute Time Public'], axis=1, inplace=True)"
   ]
  },
  {
   "cell_type": "code",
   "execution_count": null,
   "id": "c34aa983",
   "metadata": {},
   "outputs": [],
   "source": []
  },
  {
   "cell_type": "code",
   "execution_count": 17,
   "id": "b090cd5e",
   "metadata": {},
   "outputs": [
    {
     "data": {
      "text/plain": [
       "(28923, 28)"
      ]
     },
     "execution_count": 17,
     "metadata": {},
     "output_type": "execute_result"
    }
   ],
   "source": [
    "usa_2019.shape"
   ]
  },
  {
   "cell_type": "code",
   "execution_count": 18,
   "id": "c4c0934f",
   "metadata": {},
   "outputs": [],
   "source": [
    "#selecting only required columns\n",
    "usa_2019_redu=usa_2019[['Population', 'Median Age', 'Household Income',\n",
    "       'Per Capita Income', 'Poverty Rate', 'Unemployment Rate', 'House Value',\n",
    "       'House Construction Year', 'Monthly Owner Cost', 'Monthly Rent',\n",
    "       'Public Transport Rate', 'Personal Transport Rate',\n",
    "        'High School Rate',\n",
    "       'College Rate', 'Uneducated Rate', 'White Population Rate', 'Black Population Rate',\n",
    "       'Hispanic Population Rate', 'Asian Population Rate', 'City', \n",
    "       'Lat', 'Lng', 'Housing_units']]"
   ]
  },
  {
   "cell_type": "code",
   "execution_count": 19,
   "id": "60984c5a",
   "metadata": {},
   "outputs": [],
   "source": [
    "#saving csv file for machine learning\n",
    "usa_2019_redu.to_csv('output_census/usa_2019_ml.csv', index=False)"
   ]
  },
  {
   "cell_type": "markdown",
   "id": "40900771",
   "metadata": {},
   "source": [
    "## Looking for 2019 California census data"
   ]
  },
  {
   "cell_type": "code",
   "execution_count": null,
   "id": "70dcc1cf",
   "metadata": {},
   "outputs": [],
   "source": [
    "#reading 2019 combined california census data\n",
    "path_ca_2019=os.path.join('output_census', 'census_ca_2019.csv')\n",
    "ca_2019=pd.read_csv(path_ca_2019)"
   ]
  },
  {
   "cell_type": "code",
   "execution_count": null,
   "id": "f6081961",
   "metadata": {},
   "outputs": [],
   "source": [
    "#looking for usa_2019 dataframe\n",
    "ca_2019.head()"
   ]
  },
  {
   "cell_type": "code",
   "execution_count": null,
   "id": "ef112235",
   "metadata": {},
   "outputs": [],
   "source": [
    "#columns of 2019  dataframe\n",
    "ca_2019.columns"
   ]
  },
  {
   "cell_type": "code",
   "execution_count": null,
   "id": "a139590b",
   "metadata": {},
   "outputs": [],
   "source": [
    "#shape of the dataframe\n",
    "ca_2019.shape"
   ]
  },
  {
   "cell_type": "code",
   "execution_count": null,
   "id": "a4e4408e",
   "metadata": {},
   "outputs": [],
   "source": [
    "#removing the rows with house value less than 1\n",
    "ca_2019=(ca_2019[(ca_2019['House Value']>0)&\n",
    "                (ca_2019['Household Income']>0)&\n",
    "                (ca_2019['Monthly Owner Cost']>0)])"
   ]
  },
  {
   "cell_type": "code",
   "execution_count": null,
   "id": "e9bcc0ef",
   "metadata": {},
   "outputs": [],
   "source": [
    "#looking for null value\n",
    "ca_2019.isna().sum()"
   ]
  },
  {
   "cell_type": "code",
   "execution_count": null,
   "id": "db75e7ea",
   "metadata": {},
   "outputs": [],
   "source": [
    "#removing the rows with lat and lng missing value\n"
   ]
  },
  {
   "cell_type": "code",
   "execution_count": null,
   "id": "e9680d96",
   "metadata": {},
   "outputs": [],
   "source": [
    "#shape of the clean dataframe\n",
    "ca_2019.shape"
   ]
  },
  {
   "cell_type": "code",
   "execution_count": null,
   "id": "a5b8a6fe",
   "metadata": {},
   "outputs": [],
   "source": [
    "#info of the dataframe\n",
    "ca_2019.info()"
   ]
  },
  {
   "cell_type": "code",
   "execution_count": null,
   "id": "475ea76f",
   "metadata": {},
   "outputs": [],
   "source": [
    "#describing the dataframe\n",
    "ca_2019.describe()"
   ]
  },
  {
   "cell_type": "code",
   "execution_count": null,
   "id": "779a1580",
   "metadata": {},
   "outputs": [],
   "source": []
  },
  {
   "cell_type": "code",
   "execution_count": null,
   "id": "0ed0f8b1",
   "metadata": {},
   "outputs": [],
   "source": [
    "#selecting only important columns\n",
    "ca_19=ca_2019[['City','Population', 'House Value','Household Income',\n",
    "       'Poverty Rate', 'Unemployment Rate','Monthly Owner Cost', 'Monthly Rent',\n",
    "       'Public Transport Rate', 'Personal Transport Rate','College Rate','White Population Rate',\n",
    "       'Uneducated Rate' ]]"
   ]
  },
  {
   "cell_type": "code",
   "execution_count": null,
   "id": "66d20478",
   "metadata": {},
   "outputs": [],
   "source": [
    "#only selecting rows with +ve owner cost and rent\n",
    "ca_19=(ca_19[(ca_19['Monthly Owner Cost']>0)&\n",
    "             (ca_19['Monthly Rent']>0)])"
   ]
  },
  {
   "cell_type": "code",
   "execution_count": null,
   "id": "d393e75f",
   "metadata": {},
   "outputs": [],
   "source": [
    "#saving csv file for machine learning\n",
    "ca_19.to_csv('output_census/ca_2019_ml.csv', index=False)"
   ]
  },
  {
   "cell_type": "code",
   "execution_count": null,
   "id": "f70a70ec",
   "metadata": {},
   "outputs": [],
   "source": [
    "#formating columns with 2 decimal place\n",
    "ca_19[['House Value','Household Income',\n",
    "       'Poverty Rate', 'Unemployment Rate','Monthly Owner Cost', 'Monthly Rent',\n",
    "       'Public Transport Rate', 'Commute Time Public', 'Commute Time Car', \n",
    "       'Uneducated Rate' ]]=(ca_19[[ 'House Value','Household Income',\n",
    "                                   'Poverty Rate', 'Unemployment Rate',\n",
    "                                     'Monthly Owner Cost', 'Monthly Rent',\n",
    "                                    'Public Transport Rate', 'Commute Time Public',\n",
    "                                     'Commute Time Car', 'Uneducated Rate']]\n",
    "                                                   .applymap('{:.2f}'.format))"
   ]
  },
  {
   "cell_type": "code",
   "execution_count": null,
   "id": "5b03d0ac",
   "metadata": {},
   "outputs": [],
   "source": [
    "#using groupby method to groupby the data accordint to city\n",
    "ca_19_city=ca_19.groupby('City').agg({'Population':'sum',\n",
    "                              'House Value':'mean',\n",
    "                               'Household Income':'mean',\n",
    "                               'Poverty Rate':'mean',\n",
    "                               'Unemployment Rate':'mean',\n",
    "                               'Monthly Owner Cost':'mean',\n",
    "                               'Monthly Rent':'mean',\n",
    "                               'Public Transport Rate':'mean',\n",
    "                               'Personal Transport Rate':'mean',\n",
    "                                'College Rate':'mean',\n",
    "                                'White Population Rate':'mean',      \n",
    "                               'Uneducated Rate':'mean'}).reset_index()"
   ]
  },
  {
   "cell_type": "code",
   "execution_count": null,
   "id": "fdff4f06",
   "metadata": {},
   "outputs": [],
   "source": []
  },
  {
   "cell_type": "code",
   "execution_count": null,
   "id": "4717f3fb",
   "metadata": {},
   "outputs": [],
   "source": [
    "#sorting data according to the population\n",
    "ca_19_city=ca_19_city.sort_values(by=['House Value',\n",
    "                                'Monthly Owner Cost','Household Income',\n",
    "                                'Poverty Rate','Unemployment Rate',\n",
    "                                'Public Transport Rate','Monthly Rent', \n",
    "                                'Uneducated Rate' ], ascending=False)"
   ]
  },
  {
   "cell_type": "code",
   "execution_count": null,
   "id": "b8a71d8d",
   "metadata": {},
   "outputs": [],
   "source": [
    "ca_19_city.shape"
   ]
  },
  {
   "cell_type": "code",
   "execution_count": null,
   "id": "802f7aac",
   "metadata": {},
   "outputs": [],
   "source": [
    "#printing the new sorted datasets\n",
    "ca_19_city.head()"
   ]
  },
  {
   "cell_type": "code",
   "execution_count": null,
   "id": "02fb402e",
   "metadata": {},
   "outputs": [],
   "source": [
    "#city with higher house value\n",
    "ca_19_city.nlargest(10, 'House Value')"
   ]
  },
  {
   "cell_type": "code",
   "execution_count": null,
   "id": "88ecf8c2",
   "metadata": {},
   "outputs": [],
   "source": [
    "#City with smallest poverty rate\n",
    "ca_19_city.nsmallest(10, 'Poverty Rate')"
   ]
  },
  {
   "cell_type": "code",
   "execution_count": null,
   "id": "9913d568",
   "metadata": {},
   "outputs": [],
   "source": [
    "#city with smallest unemployment rate\n",
    "ca_19_city.nsmallest(10, 'Unemployment Rate')"
   ]
  },
  {
   "cell_type": "code",
   "execution_count": null,
   "id": "a633fc79",
   "metadata": {},
   "outputs": [],
   "source": [
    "#city with larger commute time\n",
    "ca_19_city.nsmallest(10, 'Commute Time Car')"
   ]
  },
  {
   "cell_type": "code",
   "execution_count": null,
   "id": "1aabaf83",
   "metadata": {},
   "outputs": [],
   "source": [
    "#city with smallest monthly owner cost\n",
    "ca_19_city.nsmallest(10, 'Monthly Owner Cost')"
   ]
  },
  {
   "cell_type": "code",
   "execution_count": null,
   "id": "f138cb83",
   "metadata": {},
   "outputs": [],
   "source": [
    "#city with largest household income\n",
    "ca_19_city.nlargest(10, 'Household Income')"
   ]
  },
  {
   "cell_type": "code",
   "execution_count": null,
   "id": "36cae696",
   "metadata": {},
   "outputs": [],
   "source": []
  },
  {
   "cell_type": "code",
   "execution_count": null,
   "id": "850f4bc2",
   "metadata": {},
   "outputs": [],
   "source": []
  },
  {
   "cell_type": "code",
   "execution_count": null,
   "id": "0a333f85",
   "metadata": {},
   "outputs": [],
   "source": []
  },
  {
   "cell_type": "code",
   "execution_count": null,
   "id": "d0db0f2b",
   "metadata": {},
   "outputs": [],
   "source": []
  },
  {
   "cell_type": "code",
   "execution_count": null,
   "id": "024c2254",
   "metadata": {},
   "outputs": [],
   "source": []
  },
  {
   "cell_type": "code",
   "execution_count": null,
   "id": "342267fa",
   "metadata": {},
   "outputs": [],
   "source": []
  },
  {
   "cell_type": "code",
   "execution_count": null,
   "id": "b6db31f7",
   "metadata": {},
   "outputs": [],
   "source": []
  },
  {
   "cell_type": "code",
   "execution_count": null,
   "id": "dfae43f5",
   "metadata": {},
   "outputs": [],
   "source": []
  },
  {
   "cell_type": "markdown",
   "id": "6f967e8b",
   "metadata": {},
   "source": [
    "## Ploting 2019 California Data"
   ]
  },
  {
   "cell_type": "code",
   "execution_count": null,
   "id": "b7e6736a",
   "metadata": {},
   "outputs": [],
   "source": [
    "#plotting all correlation using seaborn heatmap\n",
    "corr_19=ca_19.corr()\n",
    "import seaborn as sns\n",
    "fig, ax=plt.subplots(figsize=(15,15))\n",
    "sns.heatmap(corr_19,vmin=-1, vmax=1, ax=ax, cmap='BrBG')#annot=True,\n",
    "plt.show()"
   ]
  },
  {
   "cell_type": "code",
   "execution_count": null,
   "id": "8b8748a2",
   "metadata": {},
   "outputs": [],
   "source": [
    "corr_19=ca_19.corr()\n",
    "corr_19.style.background_gradient(cmap='coolwarm')"
   ]
  },
  {
   "cell_type": "code",
   "execution_count": null,
   "id": "9d539bee",
   "metadata": {},
   "outputs": [],
   "source": [
    "c1 = corr_19.abs().unstack()\n",
    "c1.sort_values(ascending = False)[12:40]"
   ]
  },
  {
   "cell_type": "code",
   "execution_count": null,
   "id": "de33bef2",
   "metadata": {},
   "outputs": [],
   "source": [
    "#plotting\n",
    "fig, ax=plt.subplots(figsize=(15,15))\n",
    "ca_2019.plot(kind='scatter', x='Lng', y='Lat', alpha=0.2, \n",
    "                s=ca_2019['Population']/100,label='Population',\n",
    "                 c='House Value', cmap=plt.get_cmap('jet'),\n",
    "                colorbar=True, ax=ax)\n",
    "\n",
    "plt.show()"
   ]
  },
  {
   "cell_type": "code",
   "execution_count": null,
   "id": "789e2942",
   "metadata": {},
   "outputs": [],
   "source": []
  }
 ],
 "metadata": {
  "kernelspec": {
   "display_name": "Python 3 (ipykernel)",
   "language": "python",
   "name": "python3"
  },
  "language_info": {
   "codemirror_mode": {
    "name": "ipython",
    "version": 3
   },
   "file_extension": ".py",
   "mimetype": "text/x-python",
   "name": "python",
   "nbconvert_exporter": "python",
   "pygments_lexer": "ipython3",
   "version": "3.8.10"
  }
 },
 "nbformat": 4,
 "nbformat_minor": 5
}
