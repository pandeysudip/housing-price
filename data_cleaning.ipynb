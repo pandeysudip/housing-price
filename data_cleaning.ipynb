{
 "cells": [
  {
   "cell_type": "code",
   "execution_count": null,
   "id": "63ca32e7",
   "metadata": {},
   "outputs": [],
   "source": []
  },
  {
   "cell_type": "code",
   "execution_count": null,
   "id": "c74d5fba",
   "metadata": {},
   "outputs": [],
   "source": []
  },
  {
   "cell_type": "code",
   "execution_count": null,
   "id": "032a48ed",
   "metadata": {},
   "outputs": [],
   "source": []
  },
  {
   "cell_type": "code",
   "execution_count": null,
   "id": "395d3450",
   "metadata": {},
   "outputs": [],
   "source": []
  },
  {
   "cell_type": "code",
   "execution_count": null,
   "id": "625d53b8",
   "metadata": {},
   "outputs": [],
   "source": []
  },
  {
   "cell_type": "code",
   "execution_count": null,
   "id": "d2ce0068",
   "metadata": {},
   "outputs": [],
   "source": [
    "#reading 2012 comb census data\n",
    "path_comb_2012=os.path.join('output_census', 'census_comb_2012.csv')\n",
    "census_2012=pd.read_csv(path_comb_2012)"
   ]
  },
  {
   "cell_type": "code",
   "execution_count": null,
   "id": "e406ea1a",
   "metadata": {},
   "outputs": [],
   "source": [
    "#plotting\n",
    "fig, ax=plt.subplots(figsize=(15,15))\n",
    "census_2012.plot(kind='scatter', x='Lng', y='Lat', alpha=0.2, \n",
    "                s=census_2012['Population']/100,label='Population',\n",
    "                 c='House Value', cmap=plt.get_cmap('jet'),\n",
    "                colorbar=True, ax=ax)\n",
    "#ax.set_xlimit([-175,-125])\n",
    "plt.show()"
   ]
  },
  {
   "cell_type": "code",
   "execution_count": null,
   "id": "2906eaf0",
   "metadata": {},
   "outputs": [],
   "source": [
    "#plotting\n",
    "fig, ax=plt.subplots(figsize=(15,15))\n",
    "census_ca.plot(kind='scatter', x='Lng', y='Lat', alpha=0.2, \n",
    "                s=census_ca['Population']/100,label='Population',\n",
    "                 c='House Value', cmap=plt.get_cmap('jet'),\n",
    "                colorbar=True, ax=ax)\n",
    "#ax.set_ylimit([-125,-175])\n",
    "plt.show()"
   ]
  },
  {
   "cell_type": "code",
   "execution_count": null,
   "id": "04cd0a13",
   "metadata": {},
   "outputs": [],
   "source": [
    "#plotting\n",
    "fig, ax=plt.subplots(figsize=(15,15))\n",
    "census_ca.plot(kind='scatter', x='Lng', y='Lat', alpha=0.2, \n",
    "                s=census_ca['Population']/100,label='Population',\n",
    "                 c='Household Income', cmap=plt.get_cmap('jet'),\n",
    "                colorbar=True, ax=ax)\n",
    "#ax.set_ylimit([-125,-175])\n",
    "plt.show()"
   ]
  },
  {
   "cell_type": "code",
   "execution_count": null,
   "id": "861cb1d7",
   "metadata": {},
   "outputs": [],
   "source": [
    "#plotting all correlation using seaborn heatmap\n",
    "corr=census_ca.corr()\n",
    "import seaborn as sns\n",
    "fig, ax=plt.subplots(figsize=(15,15))\n",
    "sns.heatmap(corr,vmin=-1, vmax=1, annot=True, ax=ax, cmap='BrBG')\n",
    "plt.show()"
   ]
  },
  {
   "cell_type": "code",
   "execution_count": null,
   "id": "e356cb73",
   "metadata": {},
   "outputs": [],
   "source": [
    "attrb=['Population', 'Median Age', 'Household Income',\n",
    "       'Per Capita Income', 'Poverty Rate', 'Unemployment Rate', 'House Value',\n",
    "       'House Construction Year', 'Monthly Owner Cost', 'Monthly Rent']\n",
    "sns.pairplot(census_ca[attrb], diag_kind=\"hist\")\n",
    "plt.show()"
   ]
  }
 ],
 "metadata": {
  "kernelspec": {
   "display_name": "Python 3 (ipykernel)",
   "language": "python",
   "name": "python3"
  },
  "language_info": {
   "codemirror_mode": {
    "name": "ipython",
    "version": 3
   },
   "file_extension": ".py",
   "mimetype": "text/x-python",
   "name": "python",
   "nbconvert_exporter": "python",
   "pygments_lexer": "ipython3",
   "version": "3.8.10"
  }
 },
 "nbformat": 4,
 "nbformat_minor": 5
}
