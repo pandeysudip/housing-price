{
 "cells": [
  {
   "cell_type": "code",
   "execution_count": 1,
   "id": "cbd24523",
   "metadata": {},
   "outputs": [],
   "source": [
    "# Dependencies and Setup\n",
    "import pandas as pd\n",
    "import matplotlib.pyplot as plt\n",
    "import seaborn as sns\n",
    "import numpy as np\n",
    "from matplotlib import rcParams\n",
    "import scipy.stats as sts\n",
    "import os\n",
    "from collections import Counter\n",
    "import requests\n",
    "import json\n",
    "\n",
    "# Google API Key\n",
    "from api_keys import gkey"
   ]
  },
  {
   "cell_type": "code",
   "execution_count": 2,
   "id": "09aaba21",
   "metadata": {},
   "outputs": [],
   "source": [
    "#setting background of figure black\n",
    "plt.style.use('ggplot')"
   ]
  },
  {
   "cell_type": "code",
   "execution_count": 3,
   "id": "5333f4c8",
   "metadata": {},
   "outputs": [],
   "source": [
    "#Set Fonts/Plot Style\n",
    "rcParams['figure.figsize'] = [15.0, 10.0]\n",
    "rcParams['figure.dpi'] = 80\n",
    "rcParams['savefig.dpi'] = 100\n",
    "rcParams['font.size'] = 20\n",
    "rcParams['legend.fontsize'] = 'large'\n",
    "rcParams['figure.titlesize'] = 'medium'\n",
    "rcParams['font.family'] = 'sans-serif'\n",
    "rcParams['font.sans-serif'] = ['Arial']\n",
    "rcParams['xtick.direction'] = 'in'\n",
    "rcParams['ytick.direction'] = 'in'\n",
    "rcParams['xtick.top'] = True\n",
    "rcParams['ytick.right'] = True\n",
    "rcParams['xtick.major.size'] = 10\n",
    "rcParams['ytick.major.size'] = 10\n",
    "rcParams['xtick.minor.size'] = 5\n",
    "rcParams['ytick.minor.size'] = 5\n",
    "rcParams['xtick.minor.visible'] = True\n",
    "rcParams['ytick.minor.visible'] = True"
   ]
  },
  {
   "cell_type": "markdown",
   "id": "a511873c",
   "metadata": {},
   "source": [
    "## Looking for 2012 US census data"
   ]
  },
  {
   "cell_type": "code",
   "execution_count": null,
   "id": "0c03035d",
   "metadata": {},
   "outputs": [],
   "source": [
    "# 2012 census data for all US zipcodes\n",
    "#reading 2012 combined census data\n",
    "path_comb_2012=os.path.join('output_census', 'census_comb_2012.csv')\n",
    "usa_2012=pd.read_csv(path_comb_2012)"
   ]
  },
  {
   "cell_type": "code",
   "execution_count": null,
   "id": "4a9a1d71",
   "metadata": {},
   "outputs": [],
   "source": [
    "#looking for usa_2012 dataframe\n",
    "usa_2012.head()"
   ]
  },
  {
   "cell_type": "code",
   "execution_count": null,
   "id": "c15ad6ad",
   "metadata": {},
   "outputs": [],
   "source": [
    "#columns of 2012  dataframe\n",
    "usa_2012.columns"
   ]
  },
  {
   "cell_type": "code",
   "execution_count": null,
   "id": "c6a47cad",
   "metadata": {},
   "outputs": [],
   "source": [
    "#shape of the dataframe\n",
    "usa_2012.shape"
   ]
  },
  {
   "cell_type": "code",
   "execution_count": null,
   "id": "e877193d",
   "metadata": {},
   "outputs": [],
   "source": [
    "#removing the rows with house value less than 1\n",
    "usa_2012=(usa_2012[(usa_2012['House Value']>0)&\n",
    "                (usa_2012['Household Income']>0)&\n",
    "                (usa_2012['Monthly Owner Cost']>0)])"
   ]
  },
  {
   "cell_type": "code",
   "execution_count": null,
   "id": "dc70f410",
   "metadata": {},
   "outputs": [],
   "source": [
    "#looking for null value\n",
    "usa_2012.isna().sum()"
   ]
  },
  {
   "cell_type": "code",
   "execution_count": null,
   "id": "9578129a",
   "metadata": {},
   "outputs": [],
   "source": [
    "#removing the rows with lat and lng missing value\n",
    "usa_2012.dropna(subset=['Lat', 'Lng', \n",
    "                        'Public Transport Rate',\n",
    "                        'Personal Transport Rate','Per Capita Income'], \n",
    "                         inplace=True)"
   ]
  },
  {
   "cell_type": "code",
   "execution_count": null,
   "id": "7a7f728c",
   "metadata": {},
   "outputs": [],
   "source": [
    "#shape of the clean dataframe\n",
    "usa_2012.shape"
   ]
  },
  {
   "cell_type": "code",
   "execution_count": null,
   "id": "6994fbe4",
   "metadata": {},
   "outputs": [],
   "source": [
    "#info of the dataframe\n",
    "usa_2012.info()"
   ]
  },
  {
   "cell_type": "code",
   "execution_count": null,
   "id": "1e2c4c44",
   "metadata": {},
   "outputs": [],
   "source": [
    "#describing the dataframe\n",
    "usa_2012.describe()"
   ]
  },
  {
   "cell_type": "code",
   "execution_count": null,
   "id": "a07a2009",
   "metadata": {},
   "outputs": [],
   "source": []
  },
  {
   "cell_type": "code",
   "execution_count": null,
   "id": "2a5cc15f",
   "metadata": {},
   "outputs": [],
   "source": []
  },
  {
   "cell_type": "markdown",
   "id": "9f1d1f37",
   "metadata": {},
   "source": [
    "## Looking for 2012 California census data"
   ]
  },
  {
   "cell_type": "code",
   "execution_count": null,
   "id": "cba0bf20",
   "metadata": {},
   "outputs": [],
   "source": [
    "#reading 2012 combined california census data\n",
    "path_ca_2012=os.path.join('output_census', 'census_ca_2012.csv')\n",
    "ca_2012=pd.read_csv(path_ca_2012)"
   ]
  },
  {
   "cell_type": "code",
   "execution_count": null,
   "id": "34cc2bca",
   "metadata": {},
   "outputs": [],
   "source": [
    "#looking for ca_2012 dataframe\n",
    "ca_2012.head()"
   ]
  },
  {
   "cell_type": "code",
   "execution_count": null,
   "id": "098c92d2",
   "metadata": {},
   "outputs": [],
   "source": [
    "#columns of 2012  dataframe\n",
    "ca_2012.columns"
   ]
  },
  {
   "cell_type": "code",
   "execution_count": null,
   "id": "353188bf",
   "metadata": {},
   "outputs": [],
   "source": [
    "#shape of the dataframe\n",
    "ca_2012.shape"
   ]
  },
  {
   "cell_type": "code",
   "execution_count": null,
   "id": "980ab720",
   "metadata": {},
   "outputs": [],
   "source": [
    "#removing the rows with house value less than 1\n",
    "#removing the rows with house value less than 1\n",
    "ca_2012=(ca_2012[(ca_2012['House Value']>0)&\n",
    "                (ca_2012['Household Income']>0)&\n",
    "                (ca_2012['Monthly Owner Cost']>0)])"
   ]
  },
  {
   "cell_type": "code",
   "execution_count": null,
   "id": "2263f88d",
   "metadata": {},
   "outputs": [],
   "source": [
    "#looking for null value\n",
    "ca_2012.isna().sum()"
   ]
  },
  {
   "cell_type": "code",
   "execution_count": null,
   "id": "15bee663",
   "metadata": {},
   "outputs": [],
   "source": [
    "#removing the rows with lat and lng missing value\n",
    "ca_2012.dropna(subset=['Public Transport Rate',\n",
    "                        'Personal Transport Rate'], inplace=True)"
   ]
  },
  {
   "cell_type": "code",
   "execution_count": null,
   "id": "fe146fc5",
   "metadata": {},
   "outputs": [],
   "source": [
    "#shape of the clean dataframe\n",
    "ca_2012.shape"
   ]
  },
  {
   "cell_type": "code",
   "execution_count": null,
   "id": "95388687",
   "metadata": {},
   "outputs": [],
   "source": [
    "#converting minutes to hour\n",
    "\n",
    "ca_2012['Commute Time Public']=ca_2012['Commute Time Public']/60\n",
    "ca_2012['Commute Time Car']=ca_2012['Commute Time Car']/60"
   ]
  },
  {
   "cell_type": "code",
   "execution_count": null,
   "id": "0fe48b39",
   "metadata": {},
   "outputs": [],
   "source": [
    "#converting to int\n",
    "ca_2012['Population']=ca_2012['Population'].astype(int)"
   ]
  },
  {
   "cell_type": "code",
   "execution_count": null,
   "id": "678f4719",
   "metadata": {},
   "outputs": [],
   "source": [
    "#info of the dataframe\n",
    "ca_2012.info()"
   ]
  },
  {
   "cell_type": "code",
   "execution_count": null,
   "id": "6955383f",
   "metadata": {},
   "outputs": [],
   "source": [
    "#describing the dataframe\n",
    "ca_2012.describe()"
   ]
  },
  {
   "cell_type": "code",
   "execution_count": null,
   "id": "d5a7b941",
   "metadata": {},
   "outputs": [],
   "source": []
  },
  {
   "cell_type": "code",
   "execution_count": null,
   "id": "737f1501",
   "metadata": {},
   "outputs": [],
   "source": [
    "#selecting only important columns\n",
    "ca_12=ca_2012[['City','Population', 'House Value','Household Income',\n",
    "       'Poverty Rate', 'Unemployment Rate','Monthly Owner Cost', 'Monthly Rent',\n",
    "       'Public Transport Rate', 'Uneducated Rate' ]]"
   ]
  },
  {
   "cell_type": "code",
   "execution_count": null,
   "id": "055cfb04",
   "metadata": {},
   "outputs": [],
   "source": [
    "#only selecting rows with +ve owner cost and rent\n",
    "ca_12=(ca_12[(ca_12['Monthly Owner Cost']>0)&\n",
    "             (ca_12['Monthly Rent']>0)])"
   ]
  },
  {
   "cell_type": "code",
   "execution_count": null,
   "id": "49202cce",
   "metadata": {},
   "outputs": [],
   "source": [
    "ca_12.shape"
   ]
  },
  {
   "cell_type": "code",
   "execution_count": null,
   "id": "e0bfff74",
   "metadata": {},
   "outputs": [],
   "source": [
    "#formating columns with 2 decimal place\n",
    "ca_12[['House Value','Household Income',\n",
    "       'Poverty Rate', 'Unemployment Rate','Monthly Owner Cost', 'Monthly Rent',\n",
    "       'Public Transport Rate', 'Commute Time Public', 'Commute Time Car', \n",
    "       'Uneducated Rate' ]]=(ca_12[[ 'House Value','Household Income',\n",
    "                                   'Poverty Rate', 'Unemployment Rate',\n",
    "                                     'Monthly Owner Cost', 'Monthly Rent',\n",
    "                                    'Public Transport Rate', 'Commute Time Public',\n",
    "                                     'Commute Time Car', 'Uneducated Rate']]\n",
    "                                                   .applymap('{:.2f}'.format))"
   ]
  },
  {
   "cell_type": "code",
   "execution_count": null,
   "id": "f73458b0",
   "metadata": {},
   "outputs": [],
   "source": [
    "#using groupby method to groupby the data accordint to city\n",
    "ca_12_city=ca_12.groupby('City').agg({'Population':'sum',\n",
    "                              'House Value':'mean',\n",
    "                               'Household Income':'mean',\n",
    "                               'Poverty Rate':'mean',\n",
    "                               'Unemployment Rate':'mean',\n",
    "                               'Monthly Owner Cost':'mean',\n",
    "                               'Monthly Rent':'mean',\n",
    "                               'Public Transport Rate':'mean',\n",
    "                               'Uneducated Rate':'mean'}).reset_index()"
   ]
  },
  {
   "cell_type": "code",
   "execution_count": null,
   "id": "34054c50",
   "metadata": {},
   "outputs": [],
   "source": []
  },
  {
   "cell_type": "code",
   "execution_count": null,
   "id": "8052e9ab",
   "metadata": {},
   "outputs": [],
   "source": [
    "#sorting data according to the population\n",
    "ca_12_city=ca_12_city.sort_values(by=['House Value',\n",
    "                                'Monthly Owner Cost','Household Income',\n",
    "                                'Poverty Rate','Unemployment Rate',\n",
    "                                'Public Transport Rate','Monthly Rent', \n",
    "                                'Uneducated Rate' ], ascending=False)"
   ]
  },
  {
   "cell_type": "code",
   "execution_count": null,
   "id": "44cbb07e",
   "metadata": {},
   "outputs": [],
   "source": [
    "#printing the new sorted datasets\n",
    "ca_12_city.head()"
   ]
  },
  {
   "cell_type": "code",
   "execution_count": null,
   "id": "716cd22a",
   "metadata": {},
   "outputs": [],
   "source": [
    "#city with higher house value\n",
    "ca_12_city.nlargest(10, 'House Value')"
   ]
  },
  {
   "cell_type": "code",
   "execution_count": null,
   "id": "40cab0f0",
   "metadata": {},
   "outputs": [],
   "source": [
    "#City with smallest poverty rate\n",
    "ca_12_city.nsmallest(10, 'Poverty Rate')"
   ]
  },
  {
   "cell_type": "code",
   "execution_count": null,
   "id": "de2cd6dd",
   "metadata": {},
   "outputs": [],
   "source": [
    "#city with smallest unemployment rate\n",
    "ca_12_city.nsmallest(10, 'Unemployment Rate')"
   ]
  },
  {
   "cell_type": "code",
   "execution_count": null,
   "id": "657f3a75",
   "metadata": {},
   "outputs": [],
   "source": [
    "#city with larger commute time\n",
    "#ca_12_city.nsmallest(10, 'Commute Time Car')"
   ]
  },
  {
   "cell_type": "code",
   "execution_count": null,
   "id": "96d51b36",
   "metadata": {},
   "outputs": [],
   "source": [
    "#city with smallest monthly owner cost\n",
    "ca_12_city.nsmallest(10, 'Monthly Owner Cost')"
   ]
  },
  {
   "cell_type": "code",
   "execution_count": null,
   "id": "66537f3c",
   "metadata": {},
   "outputs": [],
   "source": [
    "#city with largest household income\n",
    "ca_12_city.nlargest(10, 'Household Income')"
   ]
  },
  {
   "cell_type": "code",
   "execution_count": null,
   "id": "2940d65e",
   "metadata": {},
   "outputs": [],
   "source": []
  },
  {
   "cell_type": "code",
   "execution_count": null,
   "id": "ffa2504a",
   "metadata": {},
   "outputs": [],
   "source": []
  },
  {
   "cell_type": "markdown",
   "id": "5a2a55ca",
   "metadata": {},
   "source": [
    "## Plotting 2012 california data"
   ]
  },
  {
   "cell_type": "code",
   "execution_count": null,
   "id": "4a81d49a",
   "metadata": {},
   "outputs": [],
   "source": [
    "#plotting all correlation using seaborn heatmap\n",
    "corr_12=ca_12.corr()\n",
    "import seaborn as sns\n",
    "fig, ax=plt.subplots(figsize=(15,15))\n",
    "sns.heatmap(corr_12,vmin=-1, vmax=1, ax=ax, cmap='BrBG')#annot=True,\n",
    "plt.show()"
   ]
  },
  {
   "cell_type": "code",
   "execution_count": null,
   "id": "0d09d5fb",
   "metadata": {},
   "outputs": [],
   "source": [
    "#plotting scatter plot of lat and lng\n",
    "fig, ax=plt.subplots(figsize=(15,15))\n",
    "ca_2012.plot(kind='scatter', x='Lng', y='Lat', alpha=0.4, \n",
    "                s=ca_2012['Population']/100,label='Population',\n",
    "                 c='House Value', cmap=plt.get_cmap('rainbow'),\n",
    "                colorbar=True, ax=ax)\n",
    "\n",
    "plt.show()"
   ]
  },
  {
   "cell_type": "code",
   "execution_count": null,
   "id": "2fcd9640",
   "metadata": {},
   "outputs": [],
   "source": [
    "#plotting scatter plot of lat and lng\n",
    "fig, ax=plt.subplots(figsize=(15,15))\n",
    "ca_2012.plot(kind='scatter', x='Lng', y='Lat', alpha=0.3, \n",
    "                s=ca_2012['Population']/100,label='Population',\n",
    "                 c='Household Income', cmap=plt.get_cmap('hsv'),\n",
    "                colorbar=True, ax=ax)\n",
    "\n",
    "plt.show()"
   ]
  },
  {
   "cell_type": "code",
   "execution_count": null,
   "id": "88fecb50",
   "metadata": {},
   "outputs": [],
   "source": []
  },
  {
   "cell_type": "markdown",
   "id": "591cbb4a",
   "metadata": {},
   "source": [
    "## Looking for 2014 US census data"
   ]
  },
  {
   "cell_type": "code",
   "execution_count": null,
   "id": "fa1f7ac8",
   "metadata": {},
   "outputs": [],
   "source": [
    "# 2014 census data for all US zipcodes\n",
    "#reading 2014 combined census data\n",
    "path_comb_2014=os.path.join('output_census', 'census_comb_2014.csv')\n",
    "usa_2014=pd.read_csv(path_comb_2014)"
   ]
  },
  {
   "cell_type": "code",
   "execution_count": null,
   "id": "87d25f4c",
   "metadata": {},
   "outputs": [],
   "source": [
    "#looking for usa_2014 dataframe\n",
    "usa_2014.head()"
   ]
  },
  {
   "cell_type": "code",
   "execution_count": null,
   "id": "3b78dc93",
   "metadata": {},
   "outputs": [],
   "source": [
    "#columns of 2014  dataframe\n",
    "usa_2014.columns"
   ]
  },
  {
   "cell_type": "code",
   "execution_count": null,
   "id": "f33bb96d",
   "metadata": {},
   "outputs": [],
   "source": [
    "#shape of the dataframe\n",
    "usa_2014.shape"
   ]
  },
  {
   "cell_type": "code",
   "execution_count": null,
   "id": "1688ac98",
   "metadata": {},
   "outputs": [],
   "source": [
    "#removing the rows with house value less than 1\n",
    "usa_2014=usa_2014[usa_2014['House Value']>0]"
   ]
  },
  {
   "cell_type": "code",
   "execution_count": null,
   "id": "4eb67333",
   "metadata": {},
   "outputs": [],
   "source": [
    "#looking for null value\n",
    "usa_2014.isna().sum()"
   ]
  },
  {
   "cell_type": "code",
   "execution_count": null,
   "id": "e5b12e08",
   "metadata": {},
   "outputs": [],
   "source": [
    "#removing the rows with lat and lng missing value\n",
    "usa_2014.dropna(subset=['Lat', 'Lng', \n",
    "                        'Public Transport Rate',\n",
    "                        'Personal Transport Rate',\n",
    "                        'Housing_units','County'], inplace=True)"
   ]
  },
  {
   "cell_type": "code",
   "execution_count": null,
   "id": "62338478",
   "metadata": {},
   "outputs": [],
   "source": [
    "#shape of the clean dataframe\n",
    "usa_2014.shape"
   ]
  },
  {
   "cell_type": "code",
   "execution_count": null,
   "id": "b2e56585",
   "metadata": {},
   "outputs": [],
   "source": [
    "#info of the dataframe\n",
    "usa_2014.info()"
   ]
  },
  {
   "cell_type": "code",
   "execution_count": null,
   "id": "86d34320",
   "metadata": {},
   "outputs": [],
   "source": [
    "#describing the dataframe\n",
    "usa_2014.describe()"
   ]
  },
  {
   "cell_type": "code",
   "execution_count": null,
   "id": "22651f78",
   "metadata": {},
   "outputs": [],
   "source": []
  },
  {
   "cell_type": "code",
   "execution_count": null,
   "id": "97db5948",
   "metadata": {},
   "outputs": [],
   "source": []
  },
  {
   "cell_type": "markdown",
   "id": "c9f06d2c",
   "metadata": {},
   "source": [
    "## Looking for 2014 California census data"
   ]
  },
  {
   "cell_type": "code",
   "execution_count": null,
   "id": "e47b8aea",
   "metadata": {},
   "outputs": [],
   "source": [
    "#reading 2014 combined california census data\n",
    "path_ca_2014=os.path.join('output_census', 'census_ca_2014.csv')\n",
    "ca_2014=pd.read_csv(path_ca_2014)"
   ]
  },
  {
   "cell_type": "code",
   "execution_count": null,
   "id": "6491113c",
   "metadata": {},
   "outputs": [],
   "source": [
    "#looking for ca_2014 dataframe\n",
    "ca_2014.head()"
   ]
  },
  {
   "cell_type": "code",
   "execution_count": null,
   "id": "ca9f48aa",
   "metadata": {},
   "outputs": [],
   "source": [
    "#columns of 2014  dataframe\n",
    "ca_2014.columns"
   ]
  },
  {
   "cell_type": "code",
   "execution_count": null,
   "id": "a6ca0e88",
   "metadata": {},
   "outputs": [],
   "source": [
    "#shape of the dataframe\n",
    "ca_2014.shape"
   ]
  },
  {
   "cell_type": "code",
   "execution_count": null,
   "id": "f498f9ef",
   "metadata": {},
   "outputs": [],
   "source": [
    "#removing the rows with house value less than 1\n",
    "ca_2014=ca_2014[ca_2014['House Value']>0]"
   ]
  },
  {
   "cell_type": "code",
   "execution_count": null,
   "id": "5b6e55cb",
   "metadata": {},
   "outputs": [],
   "source": [
    "#looking for null value\n",
    "ca_2014.isna().sum()"
   ]
  },
  {
   "cell_type": "code",
   "execution_count": null,
   "id": "3e952091",
   "metadata": {},
   "outputs": [],
   "source": [
    "#shape of the clean dataframe\n",
    "ca_2014.shape"
   ]
  },
  {
   "cell_type": "code",
   "execution_count": null,
   "id": "6fe6273c",
   "metadata": {},
   "outputs": [],
   "source": [
    "#info of the dataframe\n",
    "ca_2014.info()"
   ]
  },
  {
   "cell_type": "code",
   "execution_count": null,
   "id": "120a313a",
   "metadata": {},
   "outputs": [],
   "source": [
    "#describing the dataframe\n",
    "ca_2014.describe()"
   ]
  },
  {
   "cell_type": "code",
   "execution_count": null,
   "id": "c5e0d32d",
   "metadata": {},
   "outputs": [],
   "source": []
  },
  {
   "cell_type": "markdown",
   "id": "032e1f11",
   "metadata": {},
   "source": [
    "## Looking for 2015 US census data"
   ]
  },
  {
   "cell_type": "code",
   "execution_count": null,
   "id": "10f0b20e",
   "metadata": {},
   "outputs": [],
   "source": [
    "# 2015 census data for all US zipcodes\n",
    "#reading 2015 combined census data\n",
    "path_comb_2015=os.path.join('output_census', 'census_comb_2015.csv')\n",
    "usa_2015=pd.read_csv(path_comb_2015)"
   ]
  },
  {
   "cell_type": "code",
   "execution_count": null,
   "id": "0eb09774",
   "metadata": {},
   "outputs": [],
   "source": [
    "#looking for usa_2015 dataframe\n",
    "usa_2015.head()"
   ]
  },
  {
   "cell_type": "code",
   "execution_count": null,
   "id": "49d929a2",
   "metadata": {},
   "outputs": [],
   "source": [
    "#columns of 2015  dataframe\n",
    "usa_2015.columns"
   ]
  },
  {
   "cell_type": "code",
   "execution_count": null,
   "id": "72f69ccd",
   "metadata": {},
   "outputs": [],
   "source": [
    "#shape of the dataframe\n",
    "usa_2015.shape"
   ]
  },
  {
   "cell_type": "code",
   "execution_count": null,
   "id": "91e256a3",
   "metadata": {},
   "outputs": [],
   "source": [
    "#removing the rows with house value less than 1\n",
    "usa_2015=usa_2015[usa_2015['House Value']>0]"
   ]
  },
  {
   "cell_type": "code",
   "execution_count": null,
   "id": "be96a798",
   "metadata": {},
   "outputs": [],
   "source": [
    "#looking for null value\n",
    "usa_2015.isna().sum()"
   ]
  },
  {
   "cell_type": "code",
   "execution_count": null,
   "id": "1f233ff1",
   "metadata": {},
   "outputs": [],
   "source": [
    "#removing the rows with lat and lng missing value\n",
    "usa_2015.dropna(subset=['Lat', 'Lng', 'Per Capita Income','County',\n",
    "                        'Monthly Owner Cost','Monthly Rent',\n",
    "                        'Public Transport Rate','Household Income',\n",
    "                        'Personal Transport Rate'], \n",
    "                         inplace=True)"
   ]
  },
  {
   "cell_type": "code",
   "execution_count": null,
   "id": "3926284f",
   "metadata": {},
   "outputs": [],
   "source": [
    "#shape of the clean dataframe\n",
    "usa_2015.shape"
   ]
  },
  {
   "cell_type": "code",
   "execution_count": null,
   "id": "c96fbe73",
   "metadata": {},
   "outputs": [],
   "source": [
    "#info of the dataframe\n",
    "usa_2015.info()"
   ]
  },
  {
   "cell_type": "code",
   "execution_count": null,
   "id": "88b39d39",
   "metadata": {},
   "outputs": [],
   "source": [
    "#describing the dataframe\n",
    "usa_2015.describe()"
   ]
  },
  {
   "cell_type": "code",
   "execution_count": null,
   "id": "cdfd6272",
   "metadata": {},
   "outputs": [],
   "source": []
  },
  {
   "cell_type": "markdown",
   "id": "ebb2aac0",
   "metadata": {},
   "source": [
    "## Looking for 2015 California census data"
   ]
  },
  {
   "cell_type": "code",
   "execution_count": null,
   "id": "72f44642",
   "metadata": {},
   "outputs": [],
   "source": [
    "#reading 2015 combined california census data\n",
    "path_ca_2015=os.path.join('output_census', 'census_ca_2015.csv')\n",
    "ca_2015=pd.read_csv(path_ca_2015)"
   ]
  },
  {
   "cell_type": "code",
   "execution_count": null,
   "id": "7f4ea72b",
   "metadata": {},
   "outputs": [],
   "source": [
    "#looking for ca_2015 dataframe\n",
    "ca_2015.head()"
   ]
  },
  {
   "cell_type": "code",
   "execution_count": null,
   "id": "c88f8b8a",
   "metadata": {},
   "outputs": [],
   "source": [
    "#columns of 2015  dataframe\n",
    "ca_2015.columns"
   ]
  },
  {
   "cell_type": "code",
   "execution_count": null,
   "id": "fce9baa0",
   "metadata": {},
   "outputs": [],
   "source": [
    "#shape of the dataframe\n",
    "ca_2015.shape"
   ]
  },
  {
   "cell_type": "code",
   "execution_count": null,
   "id": "cb7e8a48",
   "metadata": {},
   "outputs": [],
   "source": [
    "#removing the rows with house value less than 1\n",
    "ca_2015=ca_2015[ca_2015['House Value']>0]"
   ]
  },
  {
   "cell_type": "code",
   "execution_count": null,
   "id": "799ed313",
   "metadata": {},
   "outputs": [],
   "source": [
    "#looking for null value\n",
    "ca_2015.isna().sum()"
   ]
  },
  {
   "cell_type": "code",
   "execution_count": null,
   "id": "804f9bd5",
   "metadata": {},
   "outputs": [],
   "source": [
    "#removing the rows with lat and lng missing value\n",
    "ca_2015.dropna(subset=['Household Income', 'Monthly Rent', \n",
    "                        'Monthly Owner Cost','Personal Transport Rate',\n",
    "                      'Public Transport Rate'],inplace=True)"
   ]
  },
  {
   "cell_type": "code",
   "execution_count": null,
   "id": "038d96f3",
   "metadata": {},
   "outputs": [],
   "source": [
    "#shape of the clean dataframe\n",
    "ca_2015.shape"
   ]
  },
  {
   "cell_type": "code",
   "execution_count": null,
   "id": "16ae3ca4",
   "metadata": {},
   "outputs": [],
   "source": [
    "#info of the dataframe\n",
    "ca_2015.info()"
   ]
  },
  {
   "cell_type": "code",
   "execution_count": null,
   "id": "7c3a8959",
   "metadata": {},
   "outputs": [],
   "source": [
    "#describing the dataframe\n",
    "ca_2015.describe()"
   ]
  },
  {
   "cell_type": "code",
   "execution_count": null,
   "id": "4ea24cc6",
   "metadata": {},
   "outputs": [],
   "source": []
  },
  {
   "cell_type": "markdown",
   "id": "1aa833a4",
   "metadata": {},
   "source": [
    "## Looking for 2017 US census data"
   ]
  },
  {
   "cell_type": "code",
   "execution_count": null,
   "id": "6fc6da59",
   "metadata": {},
   "outputs": [],
   "source": [
    "# 2017 census data for all US zipcodes\n",
    "#reading 2017 combined census data\n",
    "path_comb_2017=os.path.join('output_census', 'census_comb_2017.csv')\n",
    "usa_2017=pd.read_csv(path_comb_2017)"
   ]
  },
  {
   "cell_type": "code",
   "execution_count": null,
   "id": "49d79242",
   "metadata": {},
   "outputs": [],
   "source": [
    "#looking for usa_2017 dataframe\n",
    "usa_2017.head()"
   ]
  },
  {
   "cell_type": "code",
   "execution_count": null,
   "id": "ed644f7b",
   "metadata": {},
   "outputs": [],
   "source": [
    "#columns of 20147  dataframe\n",
    "usa_2017.columns"
   ]
  },
  {
   "cell_type": "code",
   "execution_count": null,
   "id": "de07205e",
   "metadata": {},
   "outputs": [],
   "source": [
    "#shape of the dataframe\n",
    "usa_2017.shape"
   ]
  },
  {
   "cell_type": "code",
   "execution_count": null,
   "id": "406f7541",
   "metadata": {},
   "outputs": [],
   "source": [
    "#removing the rows with house value less than 1\n",
    "usa_2017=usa_2017[usa_2017['House Value']>0]"
   ]
  },
  {
   "cell_type": "code",
   "execution_count": null,
   "id": "e7616858",
   "metadata": {},
   "outputs": [],
   "source": [
    "#looking for null value\n",
    "usa_2017.isna().sum()"
   ]
  },
  {
   "cell_type": "code",
   "execution_count": null,
   "id": "9964a5b0",
   "metadata": {},
   "outputs": [],
   "source": [
    "#removing the rows with lat and lng missing value\n",
    "usa_2017.dropna(subset=['Lat', 'Lng', 'Housing_units','County',\n",
    "                        'Public Transport Rate','Personal Transport Rate'], \n",
    "                         inplace=True)"
   ]
  },
  {
   "cell_type": "code",
   "execution_count": null,
   "id": "a7ff192f",
   "metadata": {},
   "outputs": [],
   "source": [
    "#shape of the clean dataframe\n",
    "usa_2017.shape"
   ]
  },
  {
   "cell_type": "code",
   "execution_count": null,
   "id": "69dc9851",
   "metadata": {},
   "outputs": [],
   "source": [
    "#info of the dataframe\n",
    "usa_2017.info()"
   ]
  },
  {
   "cell_type": "code",
   "execution_count": null,
   "id": "4c940b74",
   "metadata": {},
   "outputs": [],
   "source": [
    "#describing the dataframe\n",
    "usa_2017.describe()"
   ]
  },
  {
   "cell_type": "code",
   "execution_count": null,
   "id": "84709816",
   "metadata": {},
   "outputs": [],
   "source": []
  },
  {
   "cell_type": "code",
   "execution_count": null,
   "id": "094018c9",
   "metadata": {},
   "outputs": [],
   "source": []
  },
  {
   "cell_type": "markdown",
   "id": "5b119740",
   "metadata": {},
   "source": [
    "## Looking for 2017 California census data"
   ]
  },
  {
   "cell_type": "code",
   "execution_count": null,
   "id": "67383097",
   "metadata": {},
   "outputs": [],
   "source": [
    "#reading 2017 combined california census data\n",
    "path_ca_2017=os.path.join('output_census', 'census_ca_2017.csv')\n",
    "ca_2017=pd.read_csv(path_ca_2017)"
   ]
  },
  {
   "cell_type": "code",
   "execution_count": null,
   "id": "77ff2bd5",
   "metadata": {},
   "outputs": [],
   "source": [
    "#looking for usa_2017 dataframe\n",
    "ca_2017.head()"
   ]
  },
  {
   "cell_type": "code",
   "execution_count": null,
   "id": "b683d50e",
   "metadata": {},
   "outputs": [],
   "source": [
    "#columns of 2017  dataframe\n",
    "ca_2017.columns"
   ]
  },
  {
   "cell_type": "code",
   "execution_count": null,
   "id": "84f9d14f",
   "metadata": {},
   "outputs": [],
   "source": [
    "#shape of the dataframe\n",
    "ca_2017.shape"
   ]
  },
  {
   "cell_type": "code",
   "execution_count": null,
   "id": "76ec0737",
   "metadata": {},
   "outputs": [],
   "source": [
    "#removing the rows with house value less than 1\n",
    "ca_2017=ca_2017[ca_2017['House Value']>0]"
   ]
  },
  {
   "cell_type": "code",
   "execution_count": null,
   "id": "5b821b4b",
   "metadata": {},
   "outputs": [],
   "source": [
    "#looking for null value\n",
    "ca_2017.isna().sum()"
   ]
  },
  {
   "cell_type": "code",
   "execution_count": null,
   "id": "d26cf68f",
   "metadata": {},
   "outputs": [],
   "source": [
    "#removing the rows with lat and lng missing value\n"
   ]
  },
  {
   "cell_type": "code",
   "execution_count": null,
   "id": "013c60d8",
   "metadata": {},
   "outputs": [],
   "source": [
    "#shape of the clean dataframe\n",
    "ca_2017.shape"
   ]
  },
  {
   "cell_type": "code",
   "execution_count": null,
   "id": "ac358513",
   "metadata": {},
   "outputs": [],
   "source": [
    "#info of the dataframe\n",
    "ca_2017.info()"
   ]
  },
  {
   "cell_type": "code",
   "execution_count": null,
   "id": "16a2f7f9",
   "metadata": {},
   "outputs": [],
   "source": [
    "#describing the dataframe\n",
    "ca_2017.describe()"
   ]
  },
  {
   "cell_type": "code",
   "execution_count": null,
   "id": "9e1aa73e",
   "metadata": {},
   "outputs": [],
   "source": []
  },
  {
   "cell_type": "markdown",
   "id": "499bd3b1",
   "metadata": {},
   "source": [
    "## Looking for 2019 US census data"
   ]
  },
  {
   "cell_type": "code",
   "execution_count": 4,
   "id": "21183943",
   "metadata": {},
   "outputs": [],
   "source": [
    "# 2019 census data for all US zipcodes\n",
    "#reading 2019 combined census data\n",
    "path_comb_2019=os.path.join('output_census', 'census_comb_2019.csv')\n",
    "usa_2019=pd.read_csv(path_comb_2019)"
   ]
  },
  {
   "cell_type": "code",
   "execution_count": 5,
   "id": "0ccd6c37",
   "metadata": {},
   "outputs": [
    {
     "data": {
      "text/html": [
       "<div>\n",
       "<style scoped>\n",
       "    .dataframe tbody tr th:only-of-type {\n",
       "        vertical-align: middle;\n",
       "    }\n",
       "\n",
       "    .dataframe tbody tr th {\n",
       "        vertical-align: top;\n",
       "    }\n",
       "\n",
       "    .dataframe thead th {\n",
       "        text-align: right;\n",
       "    }\n",
       "</style>\n",
       "<table border=\"1\" class=\"dataframe\">\n",
       "  <thead>\n",
       "    <tr style=\"text-align: right;\">\n",
       "      <th></th>\n",
       "      <th>Zipcode</th>\n",
       "      <th>Population</th>\n",
       "      <th>Median Age</th>\n",
       "      <th>Household Income</th>\n",
       "      <th>Per Capita Income</th>\n",
       "      <th>Poverty Rate</th>\n",
       "      <th>Unemployment Rate</th>\n",
       "      <th>House Value</th>\n",
       "      <th>House Construction Year</th>\n",
       "      <th>Monthly Owner Cost</th>\n",
       "      <th>...</th>\n",
       "      <th>White Population Rate</th>\n",
       "      <th>Black Population Rate</th>\n",
       "      <th>Hispanic Population Rate</th>\n",
       "      <th>Asian Population Rate</th>\n",
       "      <th>City</th>\n",
       "      <th>County</th>\n",
       "      <th>Lat</th>\n",
       "      <th>Lng</th>\n",
       "      <th>Housing_units</th>\n",
       "      <th>State</th>\n",
       "    </tr>\n",
       "  </thead>\n",
       "  <tbody>\n",
       "    <tr>\n",
       "      <th>0</th>\n",
       "      <td>601</td>\n",
       "      <td>17113.0</td>\n",
       "      <td>41.9</td>\n",
       "      <td>14361.0</td>\n",
       "      <td>7493.0</td>\n",
       "      <td>61.660726</td>\n",
       "      <td>11.500029</td>\n",
       "      <td>83900.0</td>\n",
       "      <td>1981</td>\n",
       "      <td>771.0</td>\n",
       "      <td>...</td>\n",
       "      <td>73.721732</td>\n",
       "      <td>1.063519</td>\n",
       "      <td>99.643546</td>\n",
       "      <td>0.011687</td>\n",
       "      <td>Adjuntas</td>\n",
       "      <td>Adjuntas Municipio</td>\n",
       "      <td>NaN</td>\n",
       "      <td>NaN</td>\n",
       "      <td>NaN</td>\n",
       "      <td>PR</td>\n",
       "    </tr>\n",
       "    <tr>\n",
       "      <th>1</th>\n",
       "      <td>602</td>\n",
       "      <td>37751.0</td>\n",
       "      <td>42.9</td>\n",
       "      <td>16807.0</td>\n",
       "      <td>9694.0</td>\n",
       "      <td>49.410612</td>\n",
       "      <td>3.761490</td>\n",
       "      <td>85300.0</td>\n",
       "      <td>1978</td>\n",
       "      <td>877.0</td>\n",
       "      <td>...</td>\n",
       "      <td>85.240126</td>\n",
       "      <td>2.405234</td>\n",
       "      <td>92.469074</td>\n",
       "      <td>0.000000</td>\n",
       "      <td>Aguada</td>\n",
       "      <td>Aguada Municipio</td>\n",
       "      <td>18.36</td>\n",
       "      <td>-67.18</td>\n",
       "      <td>18073.0</td>\n",
       "      <td>PR</td>\n",
       "    </tr>\n",
       "    <tr>\n",
       "      <th>2</th>\n",
       "      <td>603</td>\n",
       "      <td>47081.0</td>\n",
       "      <td>42.1</td>\n",
       "      <td>16049.0</td>\n",
       "      <td>11259.0</td>\n",
       "      <td>50.319662</td>\n",
       "      <td>6.790425</td>\n",
       "      <td>118400.0</td>\n",
       "      <td>1980</td>\n",
       "      <td>832.0</td>\n",
       "      <td>...</td>\n",
       "      <td>79.350481</td>\n",
       "      <td>3.215735</td>\n",
       "      <td>97.368365</td>\n",
       "      <td>0.229392</td>\n",
       "      <td>Aguadilla</td>\n",
       "      <td>Aguadilla Municipio</td>\n",
       "      <td>18.45</td>\n",
       "      <td>-67.11</td>\n",
       "      <td>25653.0</td>\n",
       "      <td>PR</td>\n",
       "    </tr>\n",
       "    <tr>\n",
       "      <th>3</th>\n",
       "      <td>606</td>\n",
       "      <td>6392.0</td>\n",
       "      <td>44.3</td>\n",
       "      <td>12119.0</td>\n",
       "      <td>6093.0</td>\n",
       "      <td>65.472466</td>\n",
       "      <td>2.643930</td>\n",
       "      <td>80800.0</td>\n",
       "      <td>1978</td>\n",
       "      <td>526.0</td>\n",
       "      <td>...</td>\n",
       "      <td>45.525657</td>\n",
       "      <td>1.439299</td>\n",
       "      <td>99.155194</td>\n",
       "      <td>0.000000</td>\n",
       "      <td>Maricao</td>\n",
       "      <td>Maricao Municipio</td>\n",
       "      <td>18.20</td>\n",
       "      <td>-66.90</td>\n",
       "      <td>2877.0</td>\n",
       "      <td>PR</td>\n",
       "    </tr>\n",
       "    <tr>\n",
       "      <th>4</th>\n",
       "      <td>610</td>\n",
       "      <td>26686.0</td>\n",
       "      <td>42.7</td>\n",
       "      <td>19898.0</td>\n",
       "      <td>10572.0</td>\n",
       "      <td>45.731844</td>\n",
       "      <td>3.855954</td>\n",
       "      <td>87600.0</td>\n",
       "      <td>1978</td>\n",
       "      <td>751.0</td>\n",
       "      <td>...</td>\n",
       "      <td>82.597617</td>\n",
       "      <td>1.727498</td>\n",
       "      <td>95.061081</td>\n",
       "      <td>0.000000</td>\n",
       "      <td>Anasco</td>\n",
       "      <td>Aasco Municipio</td>\n",
       "      <td>18.28</td>\n",
       "      <td>-67.13</td>\n",
       "      <td>12618.0</td>\n",
       "      <td>PR</td>\n",
       "    </tr>\n",
       "  </tbody>\n",
       "</table>\n",
       "<p>5 rows × 30 columns</p>\n",
       "</div>"
      ],
      "text/plain": [
       "   Zipcode  Population  Median Age  Household Income  Per Capita Income  \\\n",
       "0      601     17113.0        41.9           14361.0             7493.0   \n",
       "1      602     37751.0        42.9           16807.0             9694.0   \n",
       "2      603     47081.0        42.1           16049.0            11259.0   \n",
       "3      606      6392.0        44.3           12119.0             6093.0   \n",
       "4      610     26686.0        42.7           19898.0            10572.0   \n",
       "\n",
       "   Poverty Rate  Unemployment Rate  House Value  House Construction Year  \\\n",
       "0     61.660726          11.500029      83900.0                     1981   \n",
       "1     49.410612           3.761490      85300.0                     1978   \n",
       "2     50.319662           6.790425     118400.0                     1980   \n",
       "3     65.472466           2.643930      80800.0                     1978   \n",
       "4     45.731844           3.855954      87600.0                     1978   \n",
       "\n",
       "   Monthly Owner Cost  ...  White Population Rate  Black Population Rate  \\\n",
       "0               771.0  ...              73.721732               1.063519   \n",
       "1               877.0  ...              85.240126               2.405234   \n",
       "2               832.0  ...              79.350481               3.215735   \n",
       "3               526.0  ...              45.525657               1.439299   \n",
       "4               751.0  ...              82.597617               1.727498   \n",
       "\n",
       "   Hispanic Population Rate  Asian Population Rate       City  \\\n",
       "0                 99.643546               0.011687   Adjuntas   \n",
       "1                 92.469074               0.000000     Aguada   \n",
       "2                 97.368365               0.229392  Aguadilla   \n",
       "3                 99.155194               0.000000    Maricao   \n",
       "4                 95.061081               0.000000     Anasco   \n",
       "\n",
       "                County    Lat    Lng  Housing_units  State  \n",
       "0   Adjuntas Municipio    NaN    NaN            NaN     PR  \n",
       "1     Aguada Municipio  18.36 -67.18        18073.0     PR  \n",
       "2  Aguadilla Municipio  18.45 -67.11        25653.0     PR  \n",
       "3    Maricao Municipio  18.20 -66.90         2877.0     PR  \n",
       "4      Aasco Municipio  18.28 -67.13        12618.0     PR  \n",
       "\n",
       "[5 rows x 30 columns]"
      ]
     },
     "execution_count": 5,
     "metadata": {},
     "output_type": "execute_result"
    }
   ],
   "source": [
    "#looking for usa_2014 dataframe\n",
    "usa_2019.head()"
   ]
  },
  {
   "cell_type": "code",
   "execution_count": 6,
   "id": "a96a9f77",
   "metadata": {},
   "outputs": [
    {
     "data": {
      "text/plain": [
       "Index(['Zipcode', 'Population', 'Median Age', 'Household Income',\n",
       "       'Per Capita Income', 'Poverty Rate', 'Unemployment Rate', 'House Value',\n",
       "       'House Construction Year', 'Monthly Owner Cost', 'Monthly Rent',\n",
       "       'Public Transport Rate', 'Personal Transport Rate',\n",
       "       'Commute Time Public', 'Commute Time Car', 'High School Rate',\n",
       "       'College Rate', 'Uneducated Rate', 'English Language',\n",
       "       'Spanish Language', 'White Population Rate', 'Black Population Rate',\n",
       "       'Hispanic Population Rate', 'Asian Population Rate', 'City', 'County',\n",
       "       'Lat', 'Lng', 'Housing_units', 'State'],\n",
       "      dtype='object')"
      ]
     },
     "execution_count": 6,
     "metadata": {},
     "output_type": "execute_result"
    }
   ],
   "source": [
    "#columns of 2014  dataframe\n",
    "usa_2019.columns"
   ]
  },
  {
   "cell_type": "code",
   "execution_count": 7,
   "id": "f579a744",
   "metadata": {},
   "outputs": [
    {
     "data": {
      "text/plain": [
       "(33120, 30)"
      ]
     },
     "execution_count": 7,
     "metadata": {},
     "output_type": "execute_result"
    }
   ],
   "source": [
    "#shape of the dataframe\n",
    "usa_2019.shape"
   ]
  },
  {
   "cell_type": "code",
   "execution_count": 8,
   "id": "fa8fe5e1",
   "metadata": {},
   "outputs": [],
   "source": [
    "#removing the rows with house value less than 1\n",
    "usa_2019=(usa_2019[(usa_2019['House Value']>0)&\n",
    "                (usa_2019['Household Income']>0)&\n",
    "                (usa_2019['Monthly Owner Cost']>0)])"
   ]
  },
  {
   "cell_type": "code",
   "execution_count": 9,
   "id": "4955163e",
   "metadata": {},
   "outputs": [
    {
     "data": {
      "text/plain": [
       "Zipcode                         0\n",
       "Population                      0\n",
       "Median Age                      0\n",
       "Household Income                0\n",
       "Per Capita Income               0\n",
       "Poverty Rate                    0\n",
       "Unemployment Rate               0\n",
       "House Value                     0\n",
       "House Construction Year         0\n",
       "Monthly Owner Cost              0\n",
       "Monthly Rent                    0\n",
       "Public Transport Rate           1\n",
       "Personal Transport Rate         1\n",
       "Commute Time Public         20708\n",
       "Commute Time Car            20708\n",
       "High School Rate                0\n",
       "College Rate                    0\n",
       "Uneducated Rate                 0\n",
       "English Language            28941\n",
       "Spanish Language            28941\n",
       "White Population Rate           0\n",
       "Black Population Rate           0\n",
       "Hispanic Population Rate        0\n",
       "Asian Population Rate           0\n",
       "City                            0\n",
       "County                          1\n",
       "Lat                            16\n",
       "Lng                            16\n",
       "Housing_units                  16\n",
       "State                           0\n",
       "dtype: int64"
      ]
     },
     "execution_count": 9,
     "metadata": {},
     "output_type": "execute_result"
    }
   ],
   "source": [
    "#looking for null value\n",
    "usa_2019.isna().sum()"
   ]
  },
  {
   "cell_type": "code",
   "execution_count": 10,
   "id": "1466b2b3",
   "metadata": {},
   "outputs": [],
   "source": [
    "#removing the rows with lat and lng missing value\n",
    "usa_2019.dropna(subset=['Lat', 'Lng','Housing_units','County', \n",
    "                        'Public Transport Rate','Personal Transport Rate'], \n",
    "                         inplace=True)"
   ]
  },
  {
   "cell_type": "code",
   "execution_count": 11,
   "id": "0d9f95ee",
   "metadata": {},
   "outputs": [
    {
     "data": {
      "text/plain": [
       "(28923, 30)"
      ]
     },
     "execution_count": 11,
     "metadata": {},
     "output_type": "execute_result"
    }
   ],
   "source": [
    "#shape of the clean dataframe\n",
    "usa_2019.shape"
   ]
  },
  {
   "cell_type": "code",
   "execution_count": 12,
   "id": "49223b06",
   "metadata": {},
   "outputs": [
    {
     "name": "stdout",
     "output_type": "stream",
     "text": [
      "<class 'pandas.core.frame.DataFrame'>\n",
      "Int64Index: 28923 entries, 1 to 33119\n",
      "Data columns (total 30 columns):\n",
      " #   Column                    Non-Null Count  Dtype  \n",
      "---  ------                    --------------  -----  \n",
      " 0   Zipcode                   28923 non-null  int64  \n",
      " 1   Population                28923 non-null  float64\n",
      " 2   Median Age                28923 non-null  float64\n",
      " 3   Household Income          28923 non-null  float64\n",
      " 4   Per Capita Income         28923 non-null  float64\n",
      " 5   Poverty Rate              28923 non-null  float64\n",
      " 6   Unemployment Rate         28923 non-null  float64\n",
      " 7   House Value               28923 non-null  float64\n",
      " 8   House Construction Year   28923 non-null  int64  \n",
      " 9   Monthly Owner Cost        28923 non-null  float64\n",
      " 10  Monthly Rent              28923 non-null  float64\n",
      " 11  Public Transport Rate     28923 non-null  float64\n",
      " 12  Personal Transport Rate   28923 non-null  float64\n",
      " 13  Commute Time Public       8228 non-null   float64\n",
      " 14  Commute Time Car          8228 non-null   float64\n",
      " 15  High School Rate          28923 non-null  float64\n",
      " 16  College Rate              28923 non-null  float64\n",
      " 17  Uneducated Rate           28923 non-null  float64\n",
      " 18  English Language          0 non-null      float64\n",
      " 19  Spanish Language          0 non-null      float64\n",
      " 20  White Population Rate     28923 non-null  float64\n",
      " 21  Black Population Rate     28923 non-null  float64\n",
      " 22  Hispanic Population Rate  28923 non-null  float64\n",
      " 23  Asian Population Rate     28923 non-null  float64\n",
      " 24  City                      28923 non-null  object \n",
      " 25  County                    28923 non-null  object \n",
      " 26  Lat                       28923 non-null  float64\n",
      " 27  Lng                       28923 non-null  float64\n",
      " 28  Housing_units             28923 non-null  float64\n",
      " 29  State                     28923 non-null  object \n",
      "dtypes: float64(25), int64(2), object(3)\n",
      "memory usage: 6.8+ MB\n"
     ]
    }
   ],
   "source": [
    "#info of the dataframe\n",
    "usa_2019.info()"
   ]
  },
  {
   "cell_type": "code",
   "execution_count": 13,
   "id": "10d49808",
   "metadata": {},
   "outputs": [
    {
     "data": {
      "text/html": [
       "<div>\n",
       "<style scoped>\n",
       "    .dataframe tbody tr th:only-of-type {\n",
       "        vertical-align: middle;\n",
       "    }\n",
       "\n",
       "    .dataframe tbody tr th {\n",
       "        vertical-align: top;\n",
       "    }\n",
       "\n",
       "    .dataframe thead th {\n",
       "        text-align: right;\n",
       "    }\n",
       "</style>\n",
       "<table border=\"1\" class=\"dataframe\">\n",
       "  <thead>\n",
       "    <tr style=\"text-align: right;\">\n",
       "      <th></th>\n",
       "      <th>Zipcode</th>\n",
       "      <th>Population</th>\n",
       "      <th>Median Age</th>\n",
       "      <th>Household Income</th>\n",
       "      <th>Per Capita Income</th>\n",
       "      <th>Poverty Rate</th>\n",
       "      <th>Unemployment Rate</th>\n",
       "      <th>House Value</th>\n",
       "      <th>House Construction Year</th>\n",
       "      <th>Monthly Owner Cost</th>\n",
       "      <th>...</th>\n",
       "      <th>Uneducated Rate</th>\n",
       "      <th>English Language</th>\n",
       "      <th>Spanish Language</th>\n",
       "      <th>White Population Rate</th>\n",
       "      <th>Black Population Rate</th>\n",
       "      <th>Hispanic Population Rate</th>\n",
       "      <th>Asian Population Rate</th>\n",
       "      <th>Lat</th>\n",
       "      <th>Lng</th>\n",
       "      <th>Housing_units</th>\n",
       "    </tr>\n",
       "  </thead>\n",
       "  <tbody>\n",
       "    <tr>\n",
       "      <th>count</th>\n",
       "      <td>28923.000000</td>\n",
       "      <td>28923.000000</td>\n",
       "      <td>28923.000000</td>\n",
       "      <td>28923.000000</td>\n",
       "      <td>28923.000000</td>\n",
       "      <td>28923.000000</td>\n",
       "      <td>28923.000000</td>\n",
       "      <td>2.892300e+04</td>\n",
       "      <td>2.892300e+04</td>\n",
       "      <td>28923.000000</td>\n",
       "      <td>...</td>\n",
       "      <td>28923.000000</td>\n",
       "      <td>0.0</td>\n",
       "      <td>0.0</td>\n",
       "      <td>28923.000000</td>\n",
       "      <td>28923.000000</td>\n",
       "      <td>28923.000000</td>\n",
       "      <td>28923.000000</td>\n",
       "      <td>28923.000000</td>\n",
       "      <td>28923.000000</td>\n",
       "      <td>28923.000000</td>\n",
       "    </tr>\n",
       "    <tr>\n",
       "      <th>mean</th>\n",
       "      <td>49121.160184</td>\n",
       "      <td>11250.464336</td>\n",
       "      <td>42.459513</td>\n",
       "      <td>61886.646302</td>\n",
       "      <td>31680.641116</td>\n",
       "      <td>13.042679</td>\n",
       "      <td>2.457554</td>\n",
       "      <td>2.061185e+05</td>\n",
       "      <td>-1.594677e+05</td>\n",
       "      <td>1428.424022</td>\n",
       "      <td>...</td>\n",
       "      <td>0.721531</td>\n",
       "      <td>NaN</td>\n",
       "      <td>NaN</td>\n",
       "      <td>83.124381</td>\n",
       "      <td>7.852341</td>\n",
       "      <td>9.805983</td>\n",
       "      <td>2.343961</td>\n",
       "      <td>38.866237</td>\n",
       "      <td>-90.628141</td>\n",
       "      <td>4575.325554</td>\n",
       "    </tr>\n",
       "    <tr>\n",
       "      <th>std</th>\n",
       "      <td>27357.506521</td>\n",
       "      <td>15247.867882</td>\n",
       "      <td>7.784226</td>\n",
       "      <td>25958.786527</td>\n",
       "      <td>13621.932220</td>\n",
       "      <td>8.928869</td>\n",
       "      <td>1.830560</td>\n",
       "      <td>1.873462e+05</td>\n",
       "      <td>1.037032e+07</td>\n",
       "      <td>612.976365</td>\n",
       "      <td>...</td>\n",
       "      <td>0.943708</td>\n",
       "      <td>NaN</td>\n",
       "      <td>NaN</td>\n",
       "      <td>20.379255</td>\n",
       "      <td>15.557849</td>\n",
       "      <td>16.466417</td>\n",
       "      <td>5.679577</td>\n",
       "      <td>5.264032</td>\n",
       "      <td>14.817801</td>\n",
       "      <td>5762.985962</td>\n",
       "    </tr>\n",
       "    <tr>\n",
       "      <th>min</th>\n",
       "      <td>602.000000</td>\n",
       "      <td>24.000000</td>\n",
       "      <td>14.500000</td>\n",
       "      <td>6493.000000</td>\n",
       "      <td>3054.000000</td>\n",
       "      <td>0.000000</td>\n",
       "      <td>0.000000</td>\n",
       "      <td>9.999000e+03</td>\n",
       "      <td>-6.666667e+08</td>\n",
       "      <td>99.000000</td>\n",
       "      <td>...</td>\n",
       "      <td>0.000000</td>\n",
       "      <td>NaN</td>\n",
       "      <td>NaN</td>\n",
       "      <td>0.000000</td>\n",
       "      <td>0.000000</td>\n",
       "      <td>0.000000</td>\n",
       "      <td>0.000000</td>\n",
       "      <td>17.960000</td>\n",
       "      <td>-173.000000</td>\n",
       "      <td>0.000000</td>\n",
       "    </tr>\n",
       "    <tr>\n",
       "      <th>25%</th>\n",
       "      <td>27029.000000</td>\n",
       "      <td>1154.000000</td>\n",
       "      <td>37.300000</td>\n",
       "      <td>45470.500000</td>\n",
       "      <td>23686.500000</td>\n",
       "      <td>6.620662</td>\n",
       "      <td>1.354366</td>\n",
       "      <td>1.016000e+05</td>\n",
       "      <td>1.964000e+03</td>\n",
       "      <td>1030.000000</td>\n",
       "      <td>...</td>\n",
       "      <td>0.097671</td>\n",
       "      <td>NaN</td>\n",
       "      <td>NaN</td>\n",
       "      <td>76.915201</td>\n",
       "      <td>0.000000</td>\n",
       "      <td>1.114428</td>\n",
       "      <td>0.000000</td>\n",
       "      <td>35.400000</td>\n",
       "      <td>-96.740000</td>\n",
       "      <td>596.000000</td>\n",
       "    </tr>\n",
       "    <tr>\n",
       "      <th>50%</th>\n",
       "      <td>49339.000000</td>\n",
       "      <td>3961.000000</td>\n",
       "      <td>41.900000</td>\n",
       "      <td>56268.000000</td>\n",
       "      <td>28748.000000</td>\n",
       "      <td>11.154656</td>\n",
       "      <td>2.187713</td>\n",
       "      <td>1.517000e+05</td>\n",
       "      <td>1.976000e+03</td>\n",
       "      <td>1235.000000</td>\n",
       "      <td>...</td>\n",
       "      <td>0.463939</td>\n",
       "      <td>NaN</td>\n",
       "      <td>NaN</td>\n",
       "      <td>91.508983</td>\n",
       "      <td>1.288530</td>\n",
       "      <td>3.629829</td>\n",
       "      <td>0.465230</td>\n",
       "      <td>39.680000</td>\n",
       "      <td>-88.000000</td>\n",
       "      <td>1824.000000</td>\n",
       "    </tr>\n",
       "    <tr>\n",
       "      <th>75%</th>\n",
       "      <td>71017.000000</td>\n",
       "      <td>16251.000000</td>\n",
       "      <td>46.900000</td>\n",
       "      <td>71543.000000</td>\n",
       "      <td>35665.500000</td>\n",
       "      <td>17.339537</td>\n",
       "      <td>3.161629</td>\n",
       "      <td>2.380000e+05</td>\n",
       "      <td>1.984000e+03</td>\n",
       "      <td>1621.000000</td>\n",
       "      <td>...</td>\n",
       "      <td>0.976494</td>\n",
       "      <td>NaN</td>\n",
       "      <td>NaN</td>\n",
       "      <td>96.848344</td>\n",
       "      <td>7.140009</td>\n",
       "      <td>10.089356</td>\n",
       "      <td>2.027271</td>\n",
       "      <td>42.200000</td>\n",
       "      <td>-80.130000</td>\n",
       "      <td>6797.500000</td>\n",
       "    </tr>\n",
       "    <tr>\n",
       "      <th>max</th>\n",
       "      <td>99929.000000</td>\n",
       "      <td>128294.000000</td>\n",
       "      <td>91.500000</td>\n",
       "      <td>250001.000000</td>\n",
       "      <td>187336.000000</td>\n",
       "      <td>85.142857</td>\n",
       "      <td>30.115830</td>\n",
       "      <td>2.000001e+06</td>\n",
       "      <td>2.014000e+03</td>\n",
       "      <td>4001.000000</td>\n",
       "      <td>...</td>\n",
       "      <td>26.595745</td>\n",
       "      <td>NaN</td>\n",
       "      <td>NaN</td>\n",
       "      <td>100.000000</td>\n",
       "      <td>100.000000</td>\n",
       "      <td>100.000000</td>\n",
       "      <td>75.288276</td>\n",
       "      <td>71.000000</td>\n",
       "      <td>-65.280000</td>\n",
       "      <td>47617.000000</td>\n",
       "    </tr>\n",
       "  </tbody>\n",
       "</table>\n",
       "<p>8 rows × 27 columns</p>\n",
       "</div>"
      ],
      "text/plain": [
       "            Zipcode     Population    Median Age  Household Income  \\\n",
       "count  28923.000000   28923.000000  28923.000000      28923.000000   \n",
       "mean   49121.160184   11250.464336     42.459513      61886.646302   \n",
       "std    27357.506521   15247.867882      7.784226      25958.786527   \n",
       "min      602.000000      24.000000     14.500000       6493.000000   \n",
       "25%    27029.000000    1154.000000     37.300000      45470.500000   \n",
       "50%    49339.000000    3961.000000     41.900000      56268.000000   \n",
       "75%    71017.000000   16251.000000     46.900000      71543.000000   \n",
       "max    99929.000000  128294.000000     91.500000     250001.000000   \n",
       "\n",
       "       Per Capita Income  Poverty Rate  Unemployment Rate   House Value  \\\n",
       "count       28923.000000  28923.000000       28923.000000  2.892300e+04   \n",
       "mean        31680.641116     13.042679           2.457554  2.061185e+05   \n",
       "std         13621.932220      8.928869           1.830560  1.873462e+05   \n",
       "min          3054.000000      0.000000           0.000000  9.999000e+03   \n",
       "25%         23686.500000      6.620662           1.354366  1.016000e+05   \n",
       "50%         28748.000000     11.154656           2.187713  1.517000e+05   \n",
       "75%         35665.500000     17.339537           3.161629  2.380000e+05   \n",
       "max        187336.000000     85.142857          30.115830  2.000001e+06   \n",
       "\n",
       "       House Construction Year  Monthly Owner Cost  ...  Uneducated Rate  \\\n",
       "count             2.892300e+04        28923.000000  ...     28923.000000   \n",
       "mean             -1.594677e+05         1428.424022  ...         0.721531   \n",
       "std               1.037032e+07          612.976365  ...         0.943708   \n",
       "min              -6.666667e+08           99.000000  ...         0.000000   \n",
       "25%               1.964000e+03         1030.000000  ...         0.097671   \n",
       "50%               1.976000e+03         1235.000000  ...         0.463939   \n",
       "75%               1.984000e+03         1621.000000  ...         0.976494   \n",
       "max               2.014000e+03         4001.000000  ...        26.595745   \n",
       "\n",
       "       English Language  Spanish Language  White Population Rate  \\\n",
       "count               0.0               0.0           28923.000000   \n",
       "mean                NaN               NaN              83.124381   \n",
       "std                 NaN               NaN              20.379255   \n",
       "min                 NaN               NaN               0.000000   \n",
       "25%                 NaN               NaN              76.915201   \n",
       "50%                 NaN               NaN              91.508983   \n",
       "75%                 NaN               NaN              96.848344   \n",
       "max                 NaN               NaN             100.000000   \n",
       "\n",
       "       Black Population Rate  Hispanic Population Rate  Asian Population Rate  \\\n",
       "count           28923.000000              28923.000000           28923.000000   \n",
       "mean                7.852341                  9.805983               2.343961   \n",
       "std                15.557849                 16.466417               5.679577   \n",
       "min                 0.000000                  0.000000               0.000000   \n",
       "25%                 0.000000                  1.114428               0.000000   \n",
       "50%                 1.288530                  3.629829               0.465230   \n",
       "75%                 7.140009                 10.089356               2.027271   \n",
       "max               100.000000                100.000000              75.288276   \n",
       "\n",
       "                Lat           Lng  Housing_units  \n",
       "count  28923.000000  28923.000000   28923.000000  \n",
       "mean      38.866237    -90.628141    4575.325554  \n",
       "std        5.264032     14.817801    5762.985962  \n",
       "min       17.960000   -173.000000       0.000000  \n",
       "25%       35.400000    -96.740000     596.000000  \n",
       "50%       39.680000    -88.000000    1824.000000  \n",
       "75%       42.200000    -80.130000    6797.500000  \n",
       "max       71.000000    -65.280000   47617.000000  \n",
       "\n",
       "[8 rows x 27 columns]"
      ]
     },
     "execution_count": 13,
     "metadata": {},
     "output_type": "execute_result"
    }
   ],
   "source": [
    "#describing the dataframe\n",
    "usa_2019.describe()"
   ]
  },
  {
   "cell_type": "code",
   "execution_count": 14,
   "id": "2a8decab",
   "metadata": {},
   "outputs": [
    {
     "data": {
      "text/plain": [
       "Index(['Zipcode', 'Population', 'Median Age', 'Household Income',\n",
       "       'Per Capita Income', 'Poverty Rate', 'Unemployment Rate', 'House Value',\n",
       "       'House Construction Year', 'Monthly Owner Cost', 'Monthly Rent',\n",
       "       'Public Transport Rate', 'Personal Transport Rate',\n",
       "       'Commute Time Public', 'Commute Time Car', 'High School Rate',\n",
       "       'College Rate', 'Uneducated Rate', 'English Language',\n",
       "       'Spanish Language', 'White Population Rate', 'Black Population Rate',\n",
       "       'Hispanic Population Rate', 'Asian Population Rate', 'City', 'County',\n",
       "       'Lat', 'Lng', 'Housing_units', 'State'],\n",
       "      dtype='object')"
      ]
     },
     "execution_count": 14,
     "metadata": {},
     "output_type": "execute_result"
    }
   ],
   "source": [
    "usa_2019.columns"
   ]
  },
  {
   "cell_type": "code",
   "execution_count": 16,
   "id": "8599c7c8",
   "metadata": {},
   "outputs": [],
   "source": [
    "usa_2019.drop(['Commute Time Car','Commute Time Public'], axis=1, inplace=True)"
   ]
  },
  {
   "cell_type": "code",
   "execution_count": null,
   "id": "f0815885",
   "metadata": {},
   "outputs": [],
   "source": []
  },
  {
   "cell_type": "code",
   "execution_count": 17,
   "id": "f9644349",
   "metadata": {},
   "outputs": [
    {
     "data": {
      "text/plain": [
       "(28923, 28)"
      ]
     },
     "execution_count": 17,
     "metadata": {},
     "output_type": "execute_result"
    }
   ],
   "source": [
    "usa_2019.shape"
   ]
  },
  {
   "cell_type": "code",
   "execution_count": 18,
   "id": "16273cea",
   "metadata": {},
   "outputs": [],
   "source": [
    "#selecting only required columns\n",
    "usa_2019_redu=usa_2019[['Population', 'Median Age', 'Household Income',\n",
    "       'Per Capita Income', 'Poverty Rate', 'Unemployment Rate', 'House Value',\n",
    "       'House Construction Year', 'Monthly Owner Cost', 'Monthly Rent',\n",
    "       'Public Transport Rate', 'Personal Transport Rate',\n",
    "        'High School Rate',\n",
    "       'College Rate', 'Uneducated Rate', 'White Population Rate', 'Black Population Rate',\n",
    "       'Hispanic Population Rate', 'Asian Population Rate', 'City', \n",
    "       'Lat', 'Lng', 'Housing_units']]"
   ]
  },
  {
   "cell_type": "code",
   "execution_count": 19,
   "id": "9d595706",
   "metadata": {},
   "outputs": [],
   "source": [
    "#saving csv file for machine learning\n",
    "usa_2019_redu.to_csv('output_census/usa_2019_ml.csv', index=False)"
   ]
  },
  {
   "cell_type": "markdown",
   "id": "9c47aa69",
   "metadata": {},
   "source": [
    "## Looking for 2019 California census data"
   ]
  },
  {
   "cell_type": "code",
   "execution_count": null,
   "id": "c2a3f0a8",
   "metadata": {},
   "outputs": [],
   "source": [
    "#reading 2019 combined california census data\n",
    "path_ca_2019=os.path.join('output_census', 'census_ca_2019.csv')\n",
    "ca_2019=pd.read_csv(path_ca_2019)"
   ]
  },
  {
   "cell_type": "code",
   "execution_count": null,
   "id": "1d5f6613",
   "metadata": {},
   "outputs": [],
   "source": [
    "#looking for usa_2019 dataframe\n",
    "ca_2019.head()"
   ]
  },
  {
   "cell_type": "code",
   "execution_count": null,
   "id": "7a0de326",
   "metadata": {},
   "outputs": [],
   "source": [
    "#columns of 2019  dataframe\n",
    "ca_2019.columns"
   ]
  },
  {
   "cell_type": "code",
   "execution_count": null,
   "id": "f19eee95",
   "metadata": {},
   "outputs": [],
   "source": [
    "#shape of the dataframe\n",
    "ca_2019.shape"
   ]
  },
  {
   "cell_type": "code",
   "execution_count": null,
   "id": "775466d7",
   "metadata": {},
   "outputs": [],
   "source": [
    "#removing the rows with house value less than 1\n",
    "ca_2019=(ca_2019[(ca_2019['House Value']>0)&\n",
    "                (ca_2019['Household Income']>0)&\n",
    "                (ca_2019['Monthly Owner Cost']>0)])"
   ]
  },
  {
   "cell_type": "code",
   "execution_count": null,
   "id": "3bf0c2e0",
   "metadata": {},
   "outputs": [],
   "source": [
    "#looking for null value\n",
    "ca_2019.isna().sum()"
   ]
  },
  {
   "cell_type": "code",
   "execution_count": null,
   "id": "0c7b242a",
   "metadata": {},
   "outputs": [],
   "source": [
    "#removing the rows with lat and lng missing value\n"
   ]
  },
  {
   "cell_type": "code",
   "execution_count": null,
   "id": "637fe6ac",
   "metadata": {},
   "outputs": [],
   "source": [
    "#shape of the clean dataframe\n",
    "ca_2019.shape"
   ]
  },
  {
   "cell_type": "code",
   "execution_count": null,
   "id": "0feabd32",
   "metadata": {},
   "outputs": [],
   "source": [
    "#info of the dataframe\n",
    "ca_2019.info()"
   ]
  },
  {
   "cell_type": "code",
   "execution_count": null,
   "id": "2d06c04c",
   "metadata": {},
   "outputs": [],
   "source": [
    "#describing the dataframe\n",
    "ca_2019.describe()"
   ]
  },
  {
   "cell_type": "code",
   "execution_count": null,
   "id": "a8808dd2",
   "metadata": {},
   "outputs": [],
   "source": []
  },
  {
   "cell_type": "code",
   "execution_count": null,
   "id": "0dea2e2e",
   "metadata": {},
   "outputs": [],
   "source": [
    "#selecting only important columns\n",
    "ca_19=ca_2019[['City','Population', 'House Value','Household Income',\n",
    "       'Poverty Rate', 'Unemployment Rate','Monthly Owner Cost', 'Monthly Rent',\n",
    "       'Public Transport Rate', 'Personal Transport Rate','College Rate','White Population Rate',\n",
    "       'Uneducated Rate' ]]"
   ]
  },
  {
   "cell_type": "code",
   "execution_count": null,
   "id": "e11c535c",
   "metadata": {},
   "outputs": [],
   "source": [
    "#only selecting rows with +ve owner cost and rent\n",
    "ca_19=(ca_19[(ca_19['Monthly Owner Cost']>0)&\n",
    "             (ca_19['Monthly Rent']>0)])"
   ]
  },
  {
   "cell_type": "code",
   "execution_count": null,
   "id": "86b14d6f",
   "metadata": {},
   "outputs": [],
   "source": [
    "#saving csv file for machine learning\n",
    "ca_19.to_csv('output_census/ca_2019_ml.csv', index=False)"
   ]
  },
  {
   "cell_type": "code",
   "execution_count": null,
   "id": "0d8bdc7c",
   "metadata": {},
   "outputs": [],
   "source": [
    "#formating columns with 2 decimal place\n",
    "ca_19[['House Value','Household Income',\n",
    "       'Poverty Rate', 'Unemployment Rate','Monthly Owner Cost', 'Monthly Rent',\n",
    "       'Public Transport Rate', 'Commute Time Public', 'Commute Time Car', \n",
    "       'Uneducated Rate' ]]=(ca_19[[ 'House Value','Household Income',\n",
    "                                   'Poverty Rate', 'Unemployment Rate',\n",
    "                                     'Monthly Owner Cost', 'Monthly Rent',\n",
    "                                    'Public Transport Rate', 'Commute Time Public',\n",
    "                                     'Commute Time Car', 'Uneducated Rate']]\n",
    "                                                   .applymap('{:.2f}'.format))"
   ]
  },
  {
   "cell_type": "code",
   "execution_count": null,
   "id": "10e702cb",
   "metadata": {},
   "outputs": [],
   "source": [
    "#using groupby method to groupby the data accordint to city\n",
    "ca_19_city=ca_19.groupby('City').agg({'Population':'sum',\n",
    "                              'House Value':'mean',\n",
    "                               'Household Income':'mean',\n",
    "                               'Poverty Rate':'mean',\n",
    "                               'Unemployment Rate':'mean',\n",
    "                               'Monthly Owner Cost':'mean',\n",
    "                               'Monthly Rent':'mean',\n",
    "                               'Public Transport Rate':'mean',\n",
    "                               'Personal Transport Rate':'mean',\n",
    "                                'College Rate':'mean',\n",
    "                                'White Population Rate':'mean',      \n",
    "                               'Uneducated Rate':'mean'}).reset_index()"
   ]
  },
  {
   "cell_type": "code",
   "execution_count": null,
   "id": "5183b441",
   "metadata": {},
   "outputs": [],
   "source": []
  },
  {
   "cell_type": "code",
   "execution_count": null,
   "id": "e8d1f223",
   "metadata": {},
   "outputs": [],
   "source": [
    "#sorting data according to the population\n",
    "ca_19_city=ca_19_city.sort_values(by=['House Value',\n",
    "                                'Monthly Owner Cost','Household Income',\n",
    "                                'Poverty Rate','Unemployment Rate',\n",
    "                                'Public Transport Rate','Monthly Rent', \n",
    "                                'Uneducated Rate' ], ascending=False)"
   ]
  },
  {
   "cell_type": "code",
   "execution_count": null,
   "id": "6e755459",
   "metadata": {},
   "outputs": [],
   "source": [
    "ca_19_city.shape"
   ]
  },
  {
   "cell_type": "code",
   "execution_count": null,
   "id": "6595e0d7",
   "metadata": {},
   "outputs": [],
   "source": [
    "#printing the new sorted datasets\n",
    "ca_19_city.head()"
   ]
  },
  {
   "cell_type": "code",
   "execution_count": null,
   "id": "3d73a116",
   "metadata": {},
   "outputs": [],
   "source": [
    "#city with higher house value\n",
    "ca_19_city.nlargest(10, 'House Value')"
   ]
  },
  {
   "cell_type": "code",
   "execution_count": null,
   "id": "e8caf1c5",
   "metadata": {},
   "outputs": [],
   "source": [
    "#City with smallest poverty rate\n",
    "ca_19_city.nsmallest(10, 'Poverty Rate')"
   ]
  },
  {
   "cell_type": "code",
   "execution_count": null,
   "id": "46f5a007",
   "metadata": {},
   "outputs": [],
   "source": [
    "#city with smallest unemployment rate\n",
    "ca_19_city.nsmallest(10, 'Unemployment Rate')"
   ]
  },
  {
   "cell_type": "code",
   "execution_count": null,
   "id": "4cba574b",
   "metadata": {},
   "outputs": [],
   "source": [
    "#city with larger commute time\n",
    "ca_19_city.nsmallest(10, 'Commute Time Car')"
   ]
  },
  {
   "cell_type": "code",
   "execution_count": null,
   "id": "dc683524",
   "metadata": {},
   "outputs": [],
   "source": [
    "#city with smallest monthly owner cost\n",
    "ca_19_city.nsmallest(10, 'Monthly Owner Cost')"
   ]
  },
  {
   "cell_type": "code",
   "execution_count": null,
   "id": "8c1c8028",
   "metadata": {},
   "outputs": [],
   "source": [
    "#city with largest household income\n",
    "ca_19_city.nlargest(10, 'Household Income')"
   ]
  },
  {
   "cell_type": "code",
   "execution_count": null,
   "id": "61a2112d",
   "metadata": {},
   "outputs": [],
   "source": []
  },
  {
   "cell_type": "code",
   "execution_count": null,
   "id": "cdff28dc",
   "metadata": {},
   "outputs": [],
   "source": []
  },
  {
   "cell_type": "code",
   "execution_count": null,
   "id": "7bf64241",
   "metadata": {},
   "outputs": [],
   "source": []
  },
  {
   "cell_type": "code",
   "execution_count": null,
   "id": "ddc8a358",
   "metadata": {},
   "outputs": [],
   "source": []
  },
  {
   "cell_type": "code",
   "execution_count": null,
   "id": "4b46e2a1",
   "metadata": {},
   "outputs": [],
   "source": []
  },
  {
   "cell_type": "code",
   "execution_count": null,
   "id": "85a9e344",
   "metadata": {},
   "outputs": [],
   "source": []
  },
  {
   "cell_type": "code",
   "execution_count": null,
   "id": "7d870d82",
   "metadata": {},
   "outputs": [],
   "source": []
  },
  {
   "cell_type": "code",
   "execution_count": null,
   "id": "68217d8d",
   "metadata": {},
   "outputs": [],
   "source": []
  },
  {
   "cell_type": "markdown",
   "id": "b64d0e04",
   "metadata": {},
   "source": [
    "## Ploting 2019 California Data"
   ]
  },
  {
   "cell_type": "code",
   "execution_count": null,
   "id": "3c1cc5b6",
   "metadata": {},
   "outputs": [],
   "source": [
    "#plotting all correlation using seaborn heatmap\n",
    "corr_19=ca_19.corr()\n",
    "import seaborn as sns\n",
    "fig, ax=plt.subplots(figsize=(15,15))\n",
    "sns.heatmap(corr_19,vmin=-1, vmax=1, ax=ax, cmap='BrBG')#annot=True,\n",
    "plt.show()"
   ]
  },
  {
   "cell_type": "code",
   "execution_count": null,
   "id": "79674264",
   "metadata": {},
   "outputs": [],
   "source": [
    "corr_19=ca_19.corr()\n",
    "corr_19.style.background_gradient(cmap='coolwarm')"
   ]
  },
  {
   "cell_type": "code",
   "execution_count": null,
   "id": "2e1c5f61",
   "metadata": {},
   "outputs": [],
   "source": [
    "c1 = corr_19.abs().unstack()\n",
    "c1.sort_values(ascending = False)[12:40]"
   ]
  },
  {
   "cell_type": "code",
   "execution_count": null,
   "id": "9b23a35f",
   "metadata": {},
   "outputs": [],
   "source": [
    "#plotting\n",
    "fig, ax=plt.subplots(figsize=(15,15))\n",
    "ca_2019.plot(kind='scatter', x='Lng', y='Lat', alpha=0.2, \n",
    "                s=ca_2019['Population']/100,label='Population',\n",
    "                 c='House Value', cmap=plt.get_cmap('jet'),\n",
    "                colorbar=True, ax=ax)\n",
    "\n",
    "plt.show()"
   ]
  },
  {
   "cell_type": "code",
   "execution_count": null,
   "id": "ce52278c",
   "metadata": {},
   "outputs": [],
   "source": []
  }
 ],
 "metadata": {
  "kernelspec": {
   "display_name": "Python 3 (ipykernel)",
   "language": "python",
   "name": "python3"
  },
  "language_info": {
   "codemirror_mode": {
    "name": "ipython",
    "version": 3
   },
   "file_extension": ".py",
   "mimetype": "text/x-python",
   "name": "python",
   "nbconvert_exporter": "python",
   "pygments_lexer": "ipython3",
   "version": "3.8.10"
  }
 },
 "nbformat": 4,
 "nbformat_minor": 5
}
