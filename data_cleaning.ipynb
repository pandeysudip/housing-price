{
 "cells": [
  {
   "cell_type": "code",
   "execution_count": 1,
   "id": "7b0fe329",
   "metadata": {},
   "outputs": [],
   "source": [
    "# Dependencies and Setup\n",
    "import pandas as pd\n",
    "import matplotlib.pyplot as plt\n",
    "import seaborn as sns\n",
    "import numpy as np\n",
    "from matplotlib import rcParams\n",
    "import scipy.stats as sts\n",
    "import os\n",
    "from collections import Counter\n",
    "import requests\n",
    "import json\n"
   ]
  },
  {
   "cell_type": "markdown",
   "id": "c9d4f0cf",
   "metadata": {},
   "source": [
    "## 2012 US census data"
   ]
  },
  {
   "cell_type": "code",
   "execution_count": null,
   "id": "43a4bc4b",
   "metadata": {},
   "outputs": [],
   "source": [
    "# 2012 census data for all US zipcodes\n",
    "#reading 2012 combined census data\n",
    "path_comb_2012=os.path.join('output_census', 'census_comb_2012.csv')\n",
    "usa_2012=pd.read_csv(path_comb_2012)"
   ]
  },
  {
   "cell_type": "code",
   "execution_count": null,
   "id": "69ee9622",
   "metadata": {},
   "outputs": [],
   "source": [
    "#looking for usa_2012 dataframe\n",
    "usa_2012.head()"
   ]
  },
  {
   "cell_type": "code",
   "execution_count": null,
   "id": "6c356ae3",
   "metadata": {},
   "outputs": [],
   "source": [
    "#columns of 2012  dataframe\n",
    "usa_2012.columns"
   ]
  },
  {
   "cell_type": "code",
   "execution_count": null,
   "id": "a9fed8db",
   "metadata": {},
   "outputs": [],
   "source": [
    "#shape of the dataframe\n",
    "usa_2012.shape"
   ]
  },
  {
   "cell_type": "code",
   "execution_count": null,
   "id": "b465676c",
   "metadata": {},
   "outputs": [],
   "source": [
    "#removing the rows with house value less than 1\n",
    "usa_2012=(usa_2012[(usa_2012['House Value']>0)&\n",
    "                (usa_2012['Household Income']>0)&\n",
    "                (usa_2012['Monthly Owner Cost']>0)])"
   ]
  },
  {
   "cell_type": "code",
   "execution_count": null,
   "id": "eb709b35",
   "metadata": {},
   "outputs": [],
   "source": [
    "#looking for null value\n",
    "usa_2012.isna().sum()"
   ]
  },
  {
   "cell_type": "code",
   "execution_count": null,
   "id": "312608ea",
   "metadata": {},
   "outputs": [],
   "source": [
    "#removing the rows with lat and lng missing value\n",
    "usa_2012.dropna(subset=['Lat', 'Lng','Housing_units','County','Public Transport Rate','Personal Transport Rate'], inplace=True)"
   ]
  },
  {
   "cell_type": "code",
   "execution_count": null,
   "id": "b51ea963",
   "metadata": {},
   "outputs": [],
   "source": [
    "#shape of the clean dataframe\n",
    "usa_2012.shape"
   ]
  },
  {
   "cell_type": "code",
   "execution_count": null,
   "id": "6b3ede11",
   "metadata": {},
   "outputs": [],
   "source": [
    "#info of the dataframe\n",
    "usa_2012.info()"
   ]
  },
  {
   "cell_type": "code",
   "execution_count": null,
   "id": "a558eff0",
   "metadata": {},
   "outputs": [],
   "source": [
    "#describing the dataframe\n",
    "usa_2012.describe()"
   ]
  },
  {
   "cell_type": "code",
   "execution_count": null,
   "id": "d78483e9",
   "metadata": {},
   "outputs": [],
   "source": [
    "usa_2012.columns"
   ]
  },
  {
   "cell_type": "code",
   "execution_count": null,
   "id": "b26806dd",
   "metadata": {},
   "outputs": [],
   "source": [
    "usa_2012.drop(['Commute Time Car','Commute Time Public'], axis=1, inplace=True)"
   ]
  },
  {
   "cell_type": "code",
   "execution_count": null,
   "id": "b948bf62",
   "metadata": {},
   "outputs": [],
   "source": []
  },
  {
   "cell_type": "code",
   "execution_count": null,
   "id": "55bf1924",
   "metadata": {},
   "outputs": [],
   "source": [
    "usa_2012.shape"
   ]
  },
  {
   "cell_type": "code",
   "execution_count": null,
   "id": "0c061ba6",
   "metadata": {},
   "outputs": [],
   "source": [
    "#selecting only required columns\n",
    "usa_2012_redu=usa_2012[['Population', 'Median Age', 'Household Income',\n",
    "       'Per Capita Income', 'Poverty Rate', 'Unemployment Rate', 'House Value',\n",
    "       'House Construction Year', 'Monthly Owner Cost', 'Monthly Rent',\n",
    "       'Public Transport Rate', 'Personal Transport Rate',\n",
    "        'High School Rate','English Language Rate','Spanish Language Rate',\n",
    "       'College Rate', 'Uneducated Rate', 'White Population Rate', 'Black Population Rate',\n",
    "       'Hispanic Population Rate', 'Asian Population Rate', 'City', \n",
    "       'Lat', 'Lng', 'Housing_units']]"
   ]
  },
  {
   "cell_type": "code",
   "execution_count": null,
   "id": "85142d4c",
   "metadata": {},
   "outputs": [],
   "source": [
    "#saving csv file for machine learning\n",
    "#usa_2012_redu.to_csv('output_census/usa_2012_ml.csv', index=False)"
   ]
  },
  {
   "cell_type": "code",
   "execution_count": null,
   "id": "37362ae4",
   "metadata": {},
   "outputs": [],
   "source": []
  },
  {
   "cell_type": "code",
   "execution_count": null,
   "id": "7958fe63",
   "metadata": {},
   "outputs": [],
   "source": []
  },
  {
   "cell_type": "markdown",
   "id": "5a9561b6",
   "metadata": {},
   "source": [
    "## Looking for 2012 California census data"
   ]
  },
  {
   "cell_type": "code",
   "execution_count": null,
   "id": "55c49af7",
   "metadata": {},
   "outputs": [],
   "source": [
    "#reading 2012 combined california census data\n",
    "path_ca_2012=os.path.join('output_census', 'census_ca_2012.csv')\n",
    "ca_2012=pd.read_csv(path_ca_2012)"
   ]
  },
  {
   "cell_type": "code",
   "execution_count": null,
   "id": "2f301bd1",
   "metadata": {},
   "outputs": [],
   "source": [
    "#looking for ca_2012 dataframe\n",
    "ca_2012.head()"
   ]
  },
  {
   "cell_type": "code",
   "execution_count": null,
   "id": "f78959d5",
   "metadata": {},
   "outputs": [],
   "source": [
    "#columns of 2012  dataframe\n",
    "ca_2012.columns"
   ]
  },
  {
   "cell_type": "code",
   "execution_count": null,
   "id": "e412266b",
   "metadata": {},
   "outputs": [],
   "source": [
    "#shape of the dataframe\n",
    "ca_2012.shape"
   ]
  },
  {
   "cell_type": "code",
   "execution_count": null,
   "id": "1ad26bb1",
   "metadata": {},
   "outputs": [],
   "source": [
    "#removing the rows with house value less than 1\n",
    "#removing the rows with house value less than 1\n",
    "ca_2012=(ca_2012[(ca_2012['House Value']>0)&\n",
    "                (ca_2012['Household Income']>0)&\n",
    "                (ca_2012['Monthly Owner Cost']>0)])"
   ]
  },
  {
   "cell_type": "code",
   "execution_count": null,
   "id": "3ef3ab11",
   "metadata": {},
   "outputs": [],
   "source": [
    "#looking for null value\n",
    "ca_2012.isna().sum()"
   ]
  },
  {
   "cell_type": "code",
   "execution_count": null,
   "id": "9b28c1bc",
   "metadata": {},
   "outputs": [],
   "source": [
    "#removing the rows with missing value\n",
    "ca_2012.dropna(subset=['Public Transport Rate',\n",
    "                        'Personal Transport Rate'], inplace=True)"
   ]
  },
  {
   "cell_type": "code",
   "execution_count": null,
   "id": "865e480b",
   "metadata": {},
   "outputs": [],
   "source": [
    "#shape of the clean dataframe\n",
    "ca_2012.shape"
   ]
  },
  {
   "cell_type": "code",
   "execution_count": null,
   "id": "1517aa35",
   "metadata": {},
   "outputs": [],
   "source": [
    "#filling nan to zero for commute time public and commute time car columns\n",
    "ca_2012[['Commute Time Public', 'Commute Time Car' ]]=ca_2012[['Commute Time Public', 'Commute Time Car' ]].fillna(0)"
   ]
  },
  {
   "cell_type": "code",
   "execution_count": null,
   "id": "c359584c",
   "metadata": {},
   "outputs": [],
   "source": []
  },
  {
   "cell_type": "code",
   "execution_count": null,
   "id": "465d5159",
   "metadata": {},
   "outputs": [],
   "source": [
    "ca_2012['Commute Time Public']"
   ]
  },
  {
   "cell_type": "code",
   "execution_count": null,
   "id": "2cce9b37",
   "metadata": {},
   "outputs": [],
   "source": [
    "#converting to int\n",
    "ca_2012['Population']=ca_2012['Population'].astype(int)"
   ]
  },
  {
   "cell_type": "code",
   "execution_count": null,
   "id": "bc4274ff",
   "metadata": {},
   "outputs": [],
   "source": [
    "#info of the dataframe\n",
    "ca_2012.info()"
   ]
  },
  {
   "cell_type": "code",
   "execution_count": null,
   "id": "11266334",
   "metadata": {},
   "outputs": [],
   "source": [
    "#describing the dataframe\n",
    "ca_2012.describe()"
   ]
  },
  {
   "cell_type": "code",
   "execution_count": null,
   "id": "de213ce9",
   "metadata": {},
   "outputs": [],
   "source": [
    "#saving csv file for plotting\n",
    "#ca_2012.to_csv('output_census/ca_2012_fg.csv', index=False)"
   ]
  },
  {
   "cell_type": "code",
   "execution_count": null,
   "id": "d924a7f9",
   "metadata": {},
   "outputs": [],
   "source": []
  },
  {
   "cell_type": "code",
   "execution_count": null,
   "id": "3747c45d",
   "metadata": {},
   "outputs": [],
   "source": []
  },
  {
   "cell_type": "markdown",
   "id": "04383876",
   "metadata": {},
   "source": [
    "## 2014 US census data"
   ]
  },
  {
   "cell_type": "code",
   "execution_count": 2,
   "id": "812009f9",
   "metadata": {},
   "outputs": [],
   "source": [
    "# 2014 census data for all US zipcodes\n",
    "#reading 2014 combined census data\n",
    "path_comb_2014=os.path.join('output_census', 'census_comb_2014.csv')\n",
    "usa_2014=pd.read_csv(path_comb_2014)"
   ]
  },
  {
   "cell_type": "code",
   "execution_count": 3,
   "id": "238f7c63",
   "metadata": {},
   "outputs": [
    {
     "data": {
      "text/html": [
       "<div>\n",
       "<style scoped>\n",
       "    .dataframe tbody tr th:only-of-type {\n",
       "        vertical-align: middle;\n",
       "    }\n",
       "\n",
       "    .dataframe tbody tr th {\n",
       "        vertical-align: top;\n",
       "    }\n",
       "\n",
       "    .dataframe thead th {\n",
       "        text-align: right;\n",
       "    }\n",
       "</style>\n",
       "<table border=\"1\" class=\"dataframe\">\n",
       "  <thead>\n",
       "    <tr style=\"text-align: right;\">\n",
       "      <th></th>\n",
       "      <th>Zipcode</th>\n",
       "      <th>Population</th>\n",
       "      <th>Median Age</th>\n",
       "      <th>Household Income</th>\n",
       "      <th>Per Capita Income</th>\n",
       "      <th>Poverty Rate</th>\n",
       "      <th>Unemployment Rate</th>\n",
       "      <th>House Value</th>\n",
       "      <th>House Construction Year</th>\n",
       "      <th>Monthly Owner Cost</th>\n",
       "      <th>...</th>\n",
       "      <th>White Population Rate</th>\n",
       "      <th>Black Population Rate</th>\n",
       "      <th>Hispanic Population Rate</th>\n",
       "      <th>Asian Population Rate</th>\n",
       "      <th>City</th>\n",
       "      <th>County</th>\n",
       "      <th>Lat</th>\n",
       "      <th>Lng</th>\n",
       "      <th>Housing_units</th>\n",
       "      <th>State</th>\n",
       "    </tr>\n",
       "  </thead>\n",
       "  <tbody>\n",
       "    <tr>\n",
       "      <th>0</th>\n",
       "      <td>601</td>\n",
       "      <td>18088.0</td>\n",
       "      <td>37.1</td>\n",
       "      <td>10833.0</td>\n",
       "      <td>7229.0</td>\n",
       "      <td>60.321760</td>\n",
       "      <td>11.012826</td>\n",
       "      <td>105400.0</td>\n",
       "      <td>1982.0</td>\n",
       "      <td>722.0</td>\n",
       "      <td>...</td>\n",
       "      <td>96.240602</td>\n",
       "      <td>0.967492</td>\n",
       "      <td>99.806502</td>\n",
       "      <td>0.000000</td>\n",
       "      <td>Adjuntas</td>\n",
       "      <td>Adjuntas Municipio</td>\n",
       "      <td>NaN</td>\n",
       "      <td>NaN</td>\n",
       "      <td>NaN</td>\n",
       "      <td>PR</td>\n",
       "    </tr>\n",
       "    <tr>\n",
       "      <th>1</th>\n",
       "      <td>602</td>\n",
       "      <td>40859.0</td>\n",
       "      <td>39.0</td>\n",
       "      <td>16353.0</td>\n",
       "      <td>9048.0</td>\n",
       "      <td>53.168213</td>\n",
       "      <td>10.639027</td>\n",
       "      <td>91200.0</td>\n",
       "      <td>1980.0</td>\n",
       "      <td>843.0</td>\n",
       "      <td>...</td>\n",
       "      <td>58.540346</td>\n",
       "      <td>2.684843</td>\n",
       "      <td>93.203456</td>\n",
       "      <td>0.183558</td>\n",
       "      <td>Aguada</td>\n",
       "      <td>Aguada Municipio</td>\n",
       "      <td>18.36</td>\n",
       "      <td>-67.18</td>\n",
       "      <td>18073.0</td>\n",
       "      <td>PR</td>\n",
       "    </tr>\n",
       "    <tr>\n",
       "      <th>2</th>\n",
       "      <td>603</td>\n",
       "      <td>53162.0</td>\n",
       "      <td>39.2</td>\n",
       "      <td>16323.0</td>\n",
       "      <td>9888.0</td>\n",
       "      <td>48.957902</td>\n",
       "      <td>7.623867</td>\n",
       "      <td>128700.0</td>\n",
       "      <td>1977.0</td>\n",
       "      <td>841.0</td>\n",
       "      <td>...</td>\n",
       "      <td>73.001392</td>\n",
       "      <td>3.598435</td>\n",
       "      <td>96.275535</td>\n",
       "      <td>1.183176</td>\n",
       "      <td>Aguadilla</td>\n",
       "      <td>Aguadilla Municipio</td>\n",
       "      <td>18.45</td>\n",
       "      <td>-67.11</td>\n",
       "      <td>25653.0</td>\n",
       "      <td>PR</td>\n",
       "    </tr>\n",
       "    <tr>\n",
       "      <th>3</th>\n",
       "      <td>606</td>\n",
       "      <td>6415.0</td>\n",
       "      <td>39.2</td>\n",
       "      <td>14138.0</td>\n",
       "      <td>6385.0</td>\n",
       "      <td>58.893219</td>\n",
       "      <td>2.681216</td>\n",
       "      <td>105800.0</td>\n",
       "      <td>1977.0</td>\n",
       "      <td>569.0</td>\n",
       "      <td>...</td>\n",
       "      <td>87.622759</td>\n",
       "      <td>2.400624</td>\n",
       "      <td>99.890881</td>\n",
       "      <td>0.000000</td>\n",
       "      <td>Maricao</td>\n",
       "      <td>Maricao Municipio</td>\n",
       "      <td>18.20</td>\n",
       "      <td>-66.90</td>\n",
       "      <td>2877.0</td>\n",
       "      <td>PR</td>\n",
       "    </tr>\n",
       "    <tr>\n",
       "      <th>4</th>\n",
       "      <td>610</td>\n",
       "      <td>28805.0</td>\n",
       "      <td>39.7</td>\n",
       "      <td>17265.0</td>\n",
       "      <td>8197.0</td>\n",
       "      <td>49.119944</td>\n",
       "      <td>4.481861</td>\n",
       "      <td>113700.0</td>\n",
       "      <td>1979.0</td>\n",
       "      <td>752.0</td>\n",
       "      <td>...</td>\n",
       "      <td>67.127235</td>\n",
       "      <td>3.478563</td>\n",
       "      <td>99.121680</td>\n",
       "      <td>0.090262</td>\n",
       "      <td>Anasco</td>\n",
       "      <td>Aasco Municipio</td>\n",
       "      <td>18.28</td>\n",
       "      <td>-67.13</td>\n",
       "      <td>12618.0</td>\n",
       "      <td>PR</td>\n",
       "    </tr>\n",
       "  </tbody>\n",
       "</table>\n",
       "<p>5 rows × 30 columns</p>\n",
       "</div>"
      ],
      "text/plain": [
       "   Zipcode  Population  Median Age  Household Income  Per Capita Income  \\\n",
       "0      601     18088.0        37.1           10833.0             7229.0   \n",
       "1      602     40859.0        39.0           16353.0             9048.0   \n",
       "2      603     53162.0        39.2           16323.0             9888.0   \n",
       "3      606      6415.0        39.2           14138.0             6385.0   \n",
       "4      610     28805.0        39.7           17265.0             8197.0   \n",
       "\n",
       "   Poverty Rate  Unemployment Rate  House Value  House Construction Year  \\\n",
       "0     60.321760          11.012826     105400.0                   1982.0   \n",
       "1     53.168213          10.639027      91200.0                   1980.0   \n",
       "2     48.957902           7.623867     128700.0                   1977.0   \n",
       "3     58.893219           2.681216     105800.0                   1977.0   \n",
       "4     49.119944           4.481861     113700.0                   1979.0   \n",
       "\n",
       "   Monthly Owner Cost  ...  White Population Rate  Black Population Rate  \\\n",
       "0               722.0  ...              96.240602               0.967492   \n",
       "1               843.0  ...              58.540346               2.684843   \n",
       "2               841.0  ...              73.001392               3.598435   \n",
       "3               569.0  ...              87.622759               2.400624   \n",
       "4               752.0  ...              67.127235               3.478563   \n",
       "\n",
       "   Hispanic Population Rate  Asian Population Rate       City  \\\n",
       "0                 99.806502               0.000000   Adjuntas   \n",
       "1                 93.203456               0.183558     Aguada   \n",
       "2                 96.275535               1.183176  Aguadilla   \n",
       "3                 99.890881               0.000000    Maricao   \n",
       "4                 99.121680               0.090262     Anasco   \n",
       "\n",
       "                County    Lat    Lng  Housing_units  State  \n",
       "0   Adjuntas Municipio    NaN    NaN            NaN     PR  \n",
       "1     Aguada Municipio  18.36 -67.18        18073.0     PR  \n",
       "2  Aguadilla Municipio  18.45 -67.11        25653.0     PR  \n",
       "3    Maricao Municipio  18.20 -66.90         2877.0     PR  \n",
       "4      Aasco Municipio  18.28 -67.13        12618.0     PR  \n",
       "\n",
       "[5 rows x 30 columns]"
      ]
     },
     "execution_count": 3,
     "metadata": {},
     "output_type": "execute_result"
    }
   ],
   "source": [
    "#looking for usa_2014 dataframe\n",
    "usa_2014.head()"
   ]
  },
  {
   "cell_type": "code",
   "execution_count": 4,
   "id": "b0d1116b",
   "metadata": {},
   "outputs": [
    {
     "data": {
      "text/plain": [
       "Index(['Zipcode', 'Population', 'Median Age', 'Household Income',\n",
       "       'Per Capita Income', 'Poverty Rate', 'Unemployment Rate', 'House Value',\n",
       "       'House Construction Year', 'Monthly Owner Cost', 'Monthly Rent',\n",
       "       'Public Transport Rate', 'Personal Transport Rate',\n",
       "       'Commute Time Public', 'Commute Time Car', 'High School Rate',\n",
       "       'College Rate', 'Uneducated Rate', 'English Language Rate',\n",
       "       'Spanish Language Rate', 'White Population Rate',\n",
       "       'Black Population Rate', 'Hispanic Population Rate',\n",
       "       'Asian Population Rate', 'City', 'County', 'Lat', 'Lng',\n",
       "       'Housing_units', 'State'],\n",
       "      dtype='object')"
      ]
     },
     "execution_count": 4,
     "metadata": {},
     "output_type": "execute_result"
    }
   ],
   "source": [
    "#columns of 2017  dataframe\n",
    "usa_2014.columns"
   ]
  },
  {
   "cell_type": "code",
   "execution_count": 5,
   "id": "562cb13a",
   "metadata": {},
   "outputs": [
    {
     "data": {
      "text/plain": [
       "(33120, 30)"
      ]
     },
     "execution_count": 5,
     "metadata": {},
     "output_type": "execute_result"
    }
   ],
   "source": [
    "#shape of the dataframe\n",
    "usa_2014.shape"
   ]
  },
  {
   "cell_type": "code",
   "execution_count": 6,
   "id": "9c81a164",
   "metadata": {},
   "outputs": [],
   "source": [
    "#removing the rows with house value less than 1\n",
    "usa_2014=(usa_2014[(usa_2014['House Value']>0)&\n",
    "                (usa_2014['Household Income']>0)&\n",
    "                (usa_2014['Monthly Owner Cost']>0)])"
   ]
  },
  {
   "cell_type": "code",
   "execution_count": 7,
   "id": "d8fad298",
   "metadata": {},
   "outputs": [
    {
     "data": {
      "text/plain": [
       "Zipcode                         0\n",
       "Population                      0\n",
       "Median Age                      0\n",
       "Household Income                0\n",
       "Per Capita Income               0\n",
       "Poverty Rate                    0\n",
       "Unemployment Rate               0\n",
       "House Value                     0\n",
       "House Construction Year         0\n",
       "Monthly Owner Cost              0\n",
       "Monthly Rent                    0\n",
       "Public Transport Rate           0\n",
       "Personal Transport Rate         0\n",
       "Commute Time Public         21504\n",
       "Commute Time Car            21504\n",
       "High School Rate                0\n",
       "College Rate                    0\n",
       "Uneducated Rate                 0\n",
       "English Language Rate           0\n",
       "Spanish Language Rate           0\n",
       "White Population Rate           0\n",
       "Black Population Rate           0\n",
       "Hispanic Population Rate        0\n",
       "Asian Population Rate           0\n",
       "City                            0\n",
       "County                          1\n",
       "Lat                            16\n",
       "Lng                            16\n",
       "Housing_units                  16\n",
       "State                           0\n",
       "dtype: int64"
      ]
     },
     "execution_count": 7,
     "metadata": {},
     "output_type": "execute_result"
    }
   ],
   "source": [
    "#looking for null value\n",
    "usa_2014.isna().sum()"
   ]
  },
  {
   "cell_type": "code",
   "execution_count": 8,
   "id": "916008ba",
   "metadata": {},
   "outputs": [],
   "source": [
    "#removing the rows with lat and lng missing value\n",
    "usa_2014.dropna(subset=['Lat', 'Lng','Housing_units','County'], inplace=True)"
   ]
  },
  {
   "cell_type": "code",
   "execution_count": 9,
   "id": "c5d116e0",
   "metadata": {},
   "outputs": [
    {
     "data": {
      "text/plain": [
       "(30279, 30)"
      ]
     },
     "execution_count": 9,
     "metadata": {},
     "output_type": "execute_result"
    }
   ],
   "source": [
    "#shape of the clean dataframe\n",
    "usa_2014.shape"
   ]
  },
  {
   "cell_type": "code",
   "execution_count": null,
   "id": "65998394",
   "metadata": {},
   "outputs": [],
   "source": [
    "#info of the dataframe\n",
    "usa_2014.info()"
   ]
  },
  {
   "cell_type": "code",
   "execution_count": null,
   "id": "24aa9060",
   "metadata": {},
   "outputs": [],
   "source": [
    "#describing the dataframe\n",
    "usa_2014.describe()"
   ]
  },
  {
   "cell_type": "code",
   "execution_count": null,
   "id": "34e9801b",
   "metadata": {},
   "outputs": [],
   "source": [
    "usa_2014.columns"
   ]
  },
  {
   "cell_type": "code",
   "execution_count": null,
   "id": "79c55650",
   "metadata": {},
   "outputs": [],
   "source": [
    "usa_2014.drop(['Commute Time Car','Commute Time Public'], axis=1, inplace=True)"
   ]
  },
  {
   "cell_type": "code",
   "execution_count": null,
   "id": "e9bf3e03",
   "metadata": {},
   "outputs": [],
   "source": []
  },
  {
   "cell_type": "code",
   "execution_count": null,
   "id": "09dc5a4b",
   "metadata": {},
   "outputs": [],
   "source": [
    "usa_2014.shape"
   ]
  },
  {
   "cell_type": "code",
   "execution_count": null,
   "id": "528f928c",
   "metadata": {},
   "outputs": [],
   "source": [
    "#selecting only required columns\n",
    "usa_2014_redu=usa_2014[['Population', 'Median Age', 'Household Income',\n",
    "       'Per Capita Income', 'Poverty Rate', 'Unemployment Rate', 'House Value',\n",
    "       'House Construction Year', 'Monthly Owner Cost', 'Monthly Rent',\n",
    "       'Public Transport Rate', 'Personal Transport Rate',\n",
    "        'High School Rate','English Language Rate','Spanish Language Rate',\n",
    "       'College Rate', 'Uneducated Rate', 'White Population Rate', 'Black Population Rate',\n",
    "       'Hispanic Population Rate', 'Asian Population Rate', 'City', \n",
    "       'Lat', 'Lng', 'Housing_units']]"
   ]
  },
  {
   "cell_type": "code",
   "execution_count": null,
   "id": "f01dd632",
   "metadata": {},
   "outputs": [],
   "source": [
    "#saving csv file for machine learning\n",
    "#usa_2014_redu.to_csv('output_census/usa_2014_ml.csv', index=False)"
   ]
  },
  {
   "cell_type": "code",
   "execution_count": null,
   "id": "61d32127",
   "metadata": {},
   "outputs": [],
   "source": []
  },
  {
   "cell_type": "code",
   "execution_count": null,
   "id": "d9058610",
   "metadata": {},
   "outputs": [],
   "source": []
  },
  {
   "cell_type": "markdown",
   "id": "81470418",
   "metadata": {},
   "source": [
    "## 2014 California census data"
   ]
  },
  {
   "cell_type": "code",
   "execution_count": 10,
   "id": "c9c38a01",
   "metadata": {},
   "outputs": [],
   "source": [
    "#reading 2014 combined california census data\n",
    "path_ca_2014=os.path.join('output_census', 'census_ca_2014.csv')\n",
    "ca_2014=pd.read_csv(path_ca_2014)"
   ]
  },
  {
   "cell_type": "code",
   "execution_count": 11,
   "id": "cbcedd83",
   "metadata": {},
   "outputs": [
    {
     "data": {
      "text/html": [
       "<div>\n",
       "<style scoped>\n",
       "    .dataframe tbody tr th:only-of-type {\n",
       "        vertical-align: middle;\n",
       "    }\n",
       "\n",
       "    .dataframe tbody tr th {\n",
       "        vertical-align: top;\n",
       "    }\n",
       "\n",
       "    .dataframe thead th {\n",
       "        text-align: right;\n",
       "    }\n",
       "</style>\n",
       "<table border=\"1\" class=\"dataframe\">\n",
       "  <thead>\n",
       "    <tr style=\"text-align: right;\">\n",
       "      <th></th>\n",
       "      <th>Zipcode</th>\n",
       "      <th>Population</th>\n",
       "      <th>Median Age</th>\n",
       "      <th>Household Income</th>\n",
       "      <th>Per Capita Income</th>\n",
       "      <th>Poverty Rate</th>\n",
       "      <th>Unemployment Rate</th>\n",
       "      <th>House Value</th>\n",
       "      <th>House Construction Year</th>\n",
       "      <th>Monthly Owner Cost</th>\n",
       "      <th>...</th>\n",
       "      <th>White Population Rate</th>\n",
       "      <th>Black Population Rate</th>\n",
       "      <th>Hispanic Population Rate</th>\n",
       "      <th>Asian Population Rate</th>\n",
       "      <th>City</th>\n",
       "      <th>County</th>\n",
       "      <th>Lat</th>\n",
       "      <th>Lng</th>\n",
       "      <th>Housing_units</th>\n",
       "      <th>State</th>\n",
       "    </tr>\n",
       "  </thead>\n",
       "  <tbody>\n",
       "    <tr>\n",
       "      <th>0</th>\n",
       "      <td>90001</td>\n",
       "      <td>56314.0</td>\n",
       "      <td>27.3</td>\n",
       "      <td>34050.0</td>\n",
       "      <td>11224.0</td>\n",
       "      <td>33.551160</td>\n",
       "      <td>5.645133</td>\n",
       "      <td>241800.0</td>\n",
       "      <td>1951.0</td>\n",
       "      <td>1649.0</td>\n",
       "      <td>...</td>\n",
       "      <td>49.893455</td>\n",
       "      <td>9.464787</td>\n",
       "      <td>89.814256</td>\n",
       "      <td>0.147388</td>\n",
       "      <td>Los Angeles</td>\n",
       "      <td>Los Angeles County</td>\n",
       "      <td>33.97</td>\n",
       "      <td>-118.25</td>\n",
       "      <td>13788.0</td>\n",
       "      <td>CA</td>\n",
       "    </tr>\n",
       "    <tr>\n",
       "      <th>1</th>\n",
       "      <td>90002</td>\n",
       "      <td>50098.0</td>\n",
       "      <td>26.2</td>\n",
       "      <td>30214.0</td>\n",
       "      <td>10497.0</td>\n",
       "      <td>36.159128</td>\n",
       "      <td>5.561100</td>\n",
       "      <td>218800.0</td>\n",
       "      <td>1951.0</td>\n",
       "      <td>1633.0</td>\n",
       "      <td>...</td>\n",
       "      <td>48.375185</td>\n",
       "      <td>24.583816</td>\n",
       "      <td>74.184598</td>\n",
       "      <td>0.301409</td>\n",
       "      <td>Los Angeles</td>\n",
       "      <td>Los Angeles County</td>\n",
       "      <td>33.95</td>\n",
       "      <td>-118.25</td>\n",
       "      <td>12598.0</td>\n",
       "      <td>CA</td>\n",
       "    </tr>\n",
       "    <tr>\n",
       "      <th>2</th>\n",
       "      <td>90003</td>\n",
       "      <td>66913.0</td>\n",
       "      <td>26.8</td>\n",
       "      <td>30016.0</td>\n",
       "      <td>9915.0</td>\n",
       "      <td>38.381182</td>\n",
       "      <td>6.874598</td>\n",
       "      <td>228600.0</td>\n",
       "      <td>1949.0</td>\n",
       "      <td>1683.0</td>\n",
       "      <td>...</td>\n",
       "      <td>22.385785</td>\n",
       "      <td>24.637963</td>\n",
       "      <td>74.111159</td>\n",
       "      <td>0.361664</td>\n",
       "      <td>Los Angeles</td>\n",
       "      <td>Los Angeles County</td>\n",
       "      <td>33.96</td>\n",
       "      <td>-118.27</td>\n",
       "      <td>17127.0</td>\n",
       "      <td>CA</td>\n",
       "    </tr>\n",
       "    <tr>\n",
       "      <th>3</th>\n",
       "      <td>90004</td>\n",
       "      <td>63547.0</td>\n",
       "      <td>35.8</td>\n",
       "      <td>38493.0</td>\n",
       "      <td>26575.0</td>\n",
       "      <td>25.135726</td>\n",
       "      <td>7.929564</td>\n",
       "      <td>724900.0</td>\n",
       "      <td>1949.0</td>\n",
       "      <td>3578.0</td>\n",
       "      <td>...</td>\n",
       "      <td>34.542937</td>\n",
       "      <td>3.573733</td>\n",
       "      <td>50.831668</td>\n",
       "      <td>25.648732</td>\n",
       "      <td>Los Angeles</td>\n",
       "      <td>Los Angeles County</td>\n",
       "      <td>34.08</td>\n",
       "      <td>-118.31</td>\n",
       "      <td>24278.0</td>\n",
       "      <td>CA</td>\n",
       "    </tr>\n",
       "    <tr>\n",
       "      <th>4</th>\n",
       "      <td>90005</td>\n",
       "      <td>38638.0</td>\n",
       "      <td>34.0</td>\n",
       "      <td>31214.0</td>\n",
       "      <td>19305.0</td>\n",
       "      <td>28.316683</td>\n",
       "      <td>7.000880</td>\n",
       "      <td>635500.0</td>\n",
       "      <td>1953.0</td>\n",
       "      <td>3252.0</td>\n",
       "      <td>...</td>\n",
       "      <td>19.550701</td>\n",
       "      <td>4.280760</td>\n",
       "      <td>52.792588</td>\n",
       "      <td>33.324706</td>\n",
       "      <td>Los Angeles</td>\n",
       "      <td>Los Angeles County</td>\n",
       "      <td>34.06</td>\n",
       "      <td>-118.31</td>\n",
       "      <td>16345.0</td>\n",
       "      <td>CA</td>\n",
       "    </tr>\n",
       "  </tbody>\n",
       "</table>\n",
       "<p>5 rows × 30 columns</p>\n",
       "</div>"
      ],
      "text/plain": [
       "   Zipcode  Population  Median Age  Household Income  Per Capita Income  \\\n",
       "0    90001     56314.0        27.3           34050.0            11224.0   \n",
       "1    90002     50098.0        26.2           30214.0            10497.0   \n",
       "2    90003     66913.0        26.8           30016.0             9915.0   \n",
       "3    90004     63547.0        35.8           38493.0            26575.0   \n",
       "4    90005     38638.0        34.0           31214.0            19305.0   \n",
       "\n",
       "   Poverty Rate  Unemployment Rate  House Value  House Construction Year  \\\n",
       "0     33.551160           5.645133     241800.0                   1951.0   \n",
       "1     36.159128           5.561100     218800.0                   1951.0   \n",
       "2     38.381182           6.874598     228600.0                   1949.0   \n",
       "3     25.135726           7.929564     724900.0                   1949.0   \n",
       "4     28.316683           7.000880     635500.0                   1953.0   \n",
       "\n",
       "   Monthly Owner Cost  ...  White Population Rate  Black Population Rate  \\\n",
       "0              1649.0  ...              49.893455               9.464787   \n",
       "1              1633.0  ...              48.375185              24.583816   \n",
       "2              1683.0  ...              22.385785              24.637963   \n",
       "3              3578.0  ...              34.542937               3.573733   \n",
       "4              3252.0  ...              19.550701               4.280760   \n",
       "\n",
       "   Hispanic Population Rate  Asian Population Rate         City  \\\n",
       "0                 89.814256               0.147388  Los Angeles   \n",
       "1                 74.184598               0.301409  Los Angeles   \n",
       "2                 74.111159               0.361664  Los Angeles   \n",
       "3                 50.831668              25.648732  Los Angeles   \n",
       "4                 52.792588              33.324706  Los Angeles   \n",
       "\n",
       "               County    Lat     Lng  Housing_units  State  \n",
       "0  Los Angeles County  33.97 -118.25        13788.0     CA  \n",
       "1  Los Angeles County  33.95 -118.25        12598.0     CA  \n",
       "2  Los Angeles County  33.96 -118.27        17127.0     CA  \n",
       "3  Los Angeles County  34.08 -118.31        24278.0     CA  \n",
       "4  Los Angeles County  34.06 -118.31        16345.0     CA  \n",
       "\n",
       "[5 rows x 30 columns]"
      ]
     },
     "execution_count": 11,
     "metadata": {},
     "output_type": "execute_result"
    }
   ],
   "source": [
    "#looking for ca_2014 dataframe\n",
    "ca_2014.head()"
   ]
  },
  {
   "cell_type": "code",
   "execution_count": 12,
   "id": "63795672",
   "metadata": {},
   "outputs": [
    {
     "data": {
      "text/plain": [
       "Index(['Zipcode', 'Population', 'Median Age', 'Household Income',\n",
       "       'Per Capita Income', 'Poverty Rate', 'Unemployment Rate', 'House Value',\n",
       "       'House Construction Year', 'Monthly Owner Cost', 'Monthly Rent',\n",
       "       'Public Transport Rate', 'Personal Transport Rate',\n",
       "       'Commute Time Public', 'Commute Time Car', 'High School Rate',\n",
       "       'College Rate', 'Uneducated Rate', 'English Language Rate',\n",
       "       'Spanish Language Rate', 'White Population Rate',\n",
       "       'Black Population Rate', 'Hispanic Population Rate',\n",
       "       'Asian Population Rate', 'City', 'County', 'Lat', 'Lng',\n",
       "       'Housing_units', 'State'],\n",
       "      dtype='object')"
      ]
     },
     "execution_count": 12,
     "metadata": {},
     "output_type": "execute_result"
    }
   ],
   "source": [
    "#columns of 2014  dataframe\n",
    "ca_2014.columns"
   ]
  },
  {
   "cell_type": "code",
   "execution_count": 13,
   "id": "a38398e7",
   "metadata": {},
   "outputs": [
    {
     "data": {
      "text/plain": [
       "(1763, 30)"
      ]
     },
     "execution_count": 13,
     "metadata": {},
     "output_type": "execute_result"
    }
   ],
   "source": [
    "#shape of the dataframe\n",
    "ca_2014.shape"
   ]
  },
  {
   "cell_type": "code",
   "execution_count": 14,
   "id": "39bdd717",
   "metadata": {},
   "outputs": [],
   "source": [
    "#removing the rows with house value less than 1\n",
    "ca_2014=(ca_2014[(ca_2014['House Value']>0)&\n",
    "                (ca_2014['Household Income']>0)&\n",
    "                (ca_2014['Monthly Owner Cost']>0)])"
   ]
  },
  {
   "cell_type": "code",
   "execution_count": 15,
   "id": "0e6b1ab0",
   "metadata": {},
   "outputs": [
    {
     "data": {
      "text/plain": [
       "Zipcode                       0\n",
       "Population                    0\n",
       "Median Age                    0\n",
       "Household Income              0\n",
       "Per Capita Income             0\n",
       "Poverty Rate                  0\n",
       "Unemployment Rate             0\n",
       "House Value                   0\n",
       "House Construction Year       0\n",
       "Monthly Owner Cost            0\n",
       "Monthly Rent                  0\n",
       "Public Transport Rate         0\n",
       "Personal Transport Rate       0\n",
       "Commute Time Public         986\n",
       "Commute Time Car            986\n",
       "High School Rate              0\n",
       "College Rate                  0\n",
       "Uneducated Rate               0\n",
       "English Language Rate         0\n",
       "Spanish Language Rate         0\n",
       "White Population Rate         0\n",
       "Black Population Rate         0\n",
       "Hispanic Population Rate      0\n",
       "Asian Population Rate         0\n",
       "City                          0\n",
       "County                        0\n",
       "Lat                           0\n",
       "Lng                           0\n",
       "Housing_units                 0\n",
       "State                         0\n",
       "dtype: int64"
      ]
     },
     "execution_count": 15,
     "metadata": {},
     "output_type": "execute_result"
    }
   ],
   "source": [
    "#looking for null value\n",
    "ca_2014.isna().sum()"
   ]
  },
  {
   "cell_type": "code",
   "execution_count": 16,
   "id": "1b105d85",
   "metadata": {},
   "outputs": [],
   "source": [
    "#removing the rows with missing value\n"
   ]
  },
  {
   "cell_type": "code",
   "execution_count": 18,
   "id": "9fc5be92",
   "metadata": {},
   "outputs": [
    {
     "data": {
      "text/plain": [
       "(1591, 30)"
      ]
     },
     "execution_count": 18,
     "metadata": {},
     "output_type": "execute_result"
    }
   ],
   "source": [
    "#shape of the clean dataframe\n",
    "ca_2014.shape"
   ]
  },
  {
   "cell_type": "code",
   "execution_count": 19,
   "id": "f94ea683",
   "metadata": {},
   "outputs": [],
   "source": [
    "#filling nan to zero for commute time public and commute time car columns\n",
    "ca_2014[['Commute Time Public', 'Commute Time Car' ]]=ca_2014[['Commute Time Public', 'Commute Time Car' ]].fillna(0)"
   ]
  },
  {
   "cell_type": "code",
   "execution_count": null,
   "id": "d89f1ff0",
   "metadata": {},
   "outputs": [],
   "source": []
  },
  {
   "cell_type": "code",
   "execution_count": 20,
   "id": "8daa4d1c",
   "metadata": {},
   "outputs": [
    {
     "data": {
      "text/plain": [
       "0            0.0\n",
       "1            0.0\n",
       "2            0.0\n",
       "3            0.0\n",
       "4       324945.0\n",
       "          ...   \n",
       "1757         0.0\n",
       "1758         0.0\n",
       "1759         0.0\n",
       "1760         0.0\n",
       "1762      3510.0\n",
       "Name: Commute Time Public, Length: 1591, dtype: float64"
      ]
     },
     "execution_count": 20,
     "metadata": {},
     "output_type": "execute_result"
    }
   ],
   "source": [
    "ca_2014['Commute Time Public']"
   ]
  },
  {
   "cell_type": "code",
   "execution_count": 21,
   "id": "d2656a0f",
   "metadata": {},
   "outputs": [],
   "source": [
    "#converting to int\n",
    "ca_2014['Population']=ca_2014['Population'].astype(int)"
   ]
  },
  {
   "cell_type": "code",
   "execution_count": 22,
   "id": "c15097e8",
   "metadata": {},
   "outputs": [
    {
     "name": "stdout",
     "output_type": "stream",
     "text": [
      "<class 'pandas.core.frame.DataFrame'>\n",
      "Int64Index: 1591 entries, 0 to 1762\n",
      "Data columns (total 30 columns):\n",
      " #   Column                    Non-Null Count  Dtype  \n",
      "---  ------                    --------------  -----  \n",
      " 0   Zipcode                   1591 non-null   int64  \n",
      " 1   Population                1591 non-null   int64  \n",
      " 2   Median Age                1591 non-null   float64\n",
      " 3   Household Income          1591 non-null   float64\n",
      " 4   Per Capita Income         1591 non-null   float64\n",
      " 5   Poverty Rate              1591 non-null   float64\n",
      " 6   Unemployment Rate         1591 non-null   float64\n",
      " 7   House Value               1591 non-null   float64\n",
      " 8   House Construction Year   1591 non-null   float64\n",
      " 9   Monthly Owner Cost        1591 non-null   float64\n",
      " 10  Monthly Rent              1591 non-null   float64\n",
      " 11  Public Transport Rate     1591 non-null   float64\n",
      " 12  Personal Transport Rate   1591 non-null   float64\n",
      " 13  Commute Time Public       1591 non-null   float64\n",
      " 14  Commute Time Car          1591 non-null   float64\n",
      " 15  High School Rate          1591 non-null   float64\n",
      " 16  College Rate              1591 non-null   float64\n",
      " 17  Uneducated Rate           1591 non-null   float64\n",
      " 18  English Language Rate     1591 non-null   float64\n",
      " 19  Spanish Language Rate     1591 non-null   float64\n",
      " 20  White Population Rate     1591 non-null   float64\n",
      " 21  Black Population Rate     1591 non-null   float64\n",
      " 22  Hispanic Population Rate  1591 non-null   float64\n",
      " 23  Asian Population Rate     1591 non-null   float64\n",
      " 24  City                      1591 non-null   object \n",
      " 25  County                    1591 non-null   object \n",
      " 26  Lat                       1591 non-null   float64\n",
      " 27  Lng                       1591 non-null   float64\n",
      " 28  Housing_units             1591 non-null   float64\n",
      " 29  State                     1591 non-null   object \n",
      "dtypes: float64(25), int64(2), object(3)\n",
      "memory usage: 385.3+ KB\n"
     ]
    }
   ],
   "source": [
    "#info of the dataframe\n",
    "ca_2014.info()"
   ]
  },
  {
   "cell_type": "code",
   "execution_count": 23,
   "id": "8ed468ab",
   "metadata": {},
   "outputs": [
    {
     "data": {
      "text/html": [
       "<div>\n",
       "<style scoped>\n",
       "    .dataframe tbody tr th:only-of-type {\n",
       "        vertical-align: middle;\n",
       "    }\n",
       "\n",
       "    .dataframe tbody tr th {\n",
       "        vertical-align: top;\n",
       "    }\n",
       "\n",
       "    .dataframe thead th {\n",
       "        text-align: right;\n",
       "    }\n",
       "</style>\n",
       "<table border=\"1\" class=\"dataframe\">\n",
       "  <thead>\n",
       "    <tr style=\"text-align: right;\">\n",
       "      <th></th>\n",
       "      <th>Zipcode</th>\n",
       "      <th>Population</th>\n",
       "      <th>Median Age</th>\n",
       "      <th>Household Income</th>\n",
       "      <th>Per Capita Income</th>\n",
       "      <th>Poverty Rate</th>\n",
       "      <th>Unemployment Rate</th>\n",
       "      <th>House Value</th>\n",
       "      <th>House Construction Year</th>\n",
       "      <th>Monthly Owner Cost</th>\n",
       "      <th>...</th>\n",
       "      <th>Uneducated Rate</th>\n",
       "      <th>English Language Rate</th>\n",
       "      <th>Spanish Language Rate</th>\n",
       "      <th>White Population Rate</th>\n",
       "      <th>Black Population Rate</th>\n",
       "      <th>Hispanic Population Rate</th>\n",
       "      <th>Asian Population Rate</th>\n",
       "      <th>Lat</th>\n",
       "      <th>Lng</th>\n",
       "      <th>Housing_units</th>\n",
       "    </tr>\n",
       "  </thead>\n",
       "  <tbody>\n",
       "    <tr>\n",
       "      <th>count</th>\n",
       "      <td>1591.000000</td>\n",
       "      <td>1591.000000</td>\n",
       "      <td>1591.000000</td>\n",
       "      <td>1591.000000</td>\n",
       "      <td>1591.00000</td>\n",
       "      <td>1591.000000</td>\n",
       "      <td>1591.000000</td>\n",
       "      <td>1.591000e+03</td>\n",
       "      <td>1.591000e+03</td>\n",
       "      <td>1591.000000</td>\n",
       "      <td>...</td>\n",
       "      <td>1591.000000</td>\n",
       "      <td>1591.000000</td>\n",
       "      <td>1591.000000</td>\n",
       "      <td>1591.000000</td>\n",
       "      <td>1591.000000</td>\n",
       "      <td>1591.000000</td>\n",
       "      <td>1591.000000</td>\n",
       "      <td>1591.000000</td>\n",
       "      <td>1591.000000</td>\n",
       "      <td>1591.000000</td>\n",
       "    </tr>\n",
       "    <tr>\n",
       "      <th>mean</th>\n",
       "      <td>93608.197360</td>\n",
       "      <td>23859.588309</td>\n",
       "      <td>39.799623</td>\n",
       "      <td>63338.534884</td>\n",
       "      <td>31638.92269</td>\n",
       "      <td>15.799600</td>\n",
       "      <td>5.348850</td>\n",
       "      <td>3.907287e+05</td>\n",
       "      <td>-1.255102e+06</td>\n",
       "      <td>2150.230044</td>\n",
       "      <td>...</td>\n",
       "      <td>1.310003</td>\n",
       "      <td>62.382804</td>\n",
       "      <td>20.973316</td>\n",
       "      <td>70.809027</td>\n",
       "      <td>4.251090</td>\n",
       "      <td>30.239868</td>\n",
       "      <td>9.573416</td>\n",
       "      <td>36.339154</td>\n",
       "      <td>-119.898256</td>\n",
       "      <td>8578.024513</td>\n",
       "    </tr>\n",
       "    <tr>\n",
       "      <th>std</th>\n",
       "      <td>1815.620943</td>\n",
       "      <td>21839.263300</td>\n",
       "      <td>8.754959</td>\n",
       "      <td>28161.809543</td>\n",
       "      <td>17261.20338</td>\n",
       "      <td>10.052693</td>\n",
       "      <td>2.475556</td>\n",
       "      <td>2.418842e+05</td>\n",
       "      <td>2.893092e+07</td>\n",
       "      <td>773.058022</td>\n",
       "      <td>...</td>\n",
       "      <td>1.628642</td>\n",
       "      <td>22.576559</td>\n",
       "      <td>19.742622</td>\n",
       "      <td>19.451062</td>\n",
       "      <td>7.296059</td>\n",
       "      <td>24.185344</td>\n",
       "      <td>12.658020</td>\n",
       "      <td>2.410507</td>\n",
       "      <td>2.112705</td>\n",
       "      <td>7210.895207</td>\n",
       "    </tr>\n",
       "    <tr>\n",
       "      <th>min</th>\n",
       "      <td>90001.000000</td>\n",
       "      <td>50.000000</td>\n",
       "      <td>19.300000</td>\n",
       "      <td>11922.000000</td>\n",
       "      <td>5180.00000</td>\n",
       "      <td>0.000000</td>\n",
       "      <td>0.000000</td>\n",
       "      <td>2.290000e+04</td>\n",
       "      <td>-6.666667e+08</td>\n",
       "      <td>427.000000</td>\n",
       "      <td>...</td>\n",
       "      <td>0.000000</td>\n",
       "      <td>2.068966</td>\n",
       "      <td>0.000000</td>\n",
       "      <td>9.683246</td>\n",
       "      <td>0.000000</td>\n",
       "      <td>0.000000</td>\n",
       "      <td>0.000000</td>\n",
       "      <td>32.550000</td>\n",
       "      <td>-124.300000</td>\n",
       "      <td>21.000000</td>\n",
       "    </tr>\n",
       "    <tr>\n",
       "      <th>25%</th>\n",
       "      <td>92233.500000</td>\n",
       "      <td>3171.500000</td>\n",
       "      <td>33.400000</td>\n",
       "      <td>42817.500000</td>\n",
       "      <td>20276.50000</td>\n",
       "      <td>8.318399</td>\n",
       "      <td>3.853681</td>\n",
       "      <td>2.058500e+05</td>\n",
       "      <td>1.964500e+03</td>\n",
       "      <td>1561.500000</td>\n",
       "      <td>...</td>\n",
       "      <td>0.278107</td>\n",
       "      <td>46.525173</td>\n",
       "      <td>6.043723</td>\n",
       "      <td>58.657711</td>\n",
       "      <td>0.500798</td>\n",
       "      <td>10.671194</td>\n",
       "      <td>1.157410</td>\n",
       "      <td>34.050000</td>\n",
       "      <td>-121.845000</td>\n",
       "      <td>1558.000000</td>\n",
       "    </tr>\n",
       "    <tr>\n",
       "      <th>50%</th>\n",
       "      <td>93636.000000</td>\n",
       "      <td>20173.000000</td>\n",
       "      <td>38.500000</td>\n",
       "      <td>57287.000000</td>\n",
       "      <td>27463.00000</td>\n",
       "      <td>13.675235</td>\n",
       "      <td>5.174385</td>\n",
       "      <td>3.313000e+05</td>\n",
       "      <td>1.974000e+03</td>\n",
       "      <td>2029.000000</td>\n",
       "      <td>...</td>\n",
       "      <td>0.891620</td>\n",
       "      <td>65.609986</td>\n",
       "      <td>14.003956</td>\n",
       "      <td>74.697646</td>\n",
       "      <td>1.885617</td>\n",
       "      <td>22.791519</td>\n",
       "      <td>4.850746</td>\n",
       "      <td>36.600000</td>\n",
       "      <td>-120.000000</td>\n",
       "      <td>7538.000000</td>\n",
       "    </tr>\n",
       "    <tr>\n",
       "      <th>75%</th>\n",
       "      <td>95349.000000</td>\n",
       "      <td>38008.000000</td>\n",
       "      <td>45.000000</td>\n",
       "      <td>77818.000000</td>\n",
       "      <td>38396.50000</td>\n",
       "      <td>20.980855</td>\n",
       "      <td>6.655864</td>\n",
       "      <td>5.239500e+05</td>\n",
       "      <td>1.981000e+03</td>\n",
       "      <td>2605.000000</td>\n",
       "      <td>...</td>\n",
       "      <td>1.893405</td>\n",
       "      <td>81.001156</td>\n",
       "      <td>30.952544</td>\n",
       "      <td>86.095517</td>\n",
       "      <td>4.912660</td>\n",
       "      <td>44.050939</td>\n",
       "      <td>11.991283</td>\n",
       "      <td>38.200000</td>\n",
       "      <td>-118.069350</td>\n",
       "      <td>13845.500000</td>\n",
       "    </tr>\n",
       "    <tr>\n",
       "      <th>max</th>\n",
       "      <td>96161.000000</td>\n",
       "      <td>106521.000000</td>\n",
       "      <td>74.500000</td>\n",
       "      <td>236912.000000</td>\n",
       "      <td>142620.00000</td>\n",
       "      <td>67.642753</td>\n",
       "      <td>24.843750</td>\n",
       "      <td>1.000001e+06</td>\n",
       "      <td>2.011000e+03</td>\n",
       "      <td>4001.000000</td>\n",
       "      <td>...</td>\n",
       "      <td>33.108108</td>\n",
       "      <td>100.000000</td>\n",
       "      <td>89.793103</td>\n",
       "      <td>100.000000</td>\n",
       "      <td>81.710857</td>\n",
       "      <td>100.000000</td>\n",
       "      <td>73.655063</td>\n",
       "      <td>41.940000</td>\n",
       "      <td>-114.300000</td>\n",
       "      <td>37182.000000</td>\n",
       "    </tr>\n",
       "  </tbody>\n",
       "</table>\n",
       "<p>8 rows × 27 columns</p>\n",
       "</div>"
      ],
      "text/plain": [
       "            Zipcode     Population   Median Age  Household Income  \\\n",
       "count   1591.000000    1591.000000  1591.000000       1591.000000   \n",
       "mean   93608.197360   23859.588309    39.799623      63338.534884   \n",
       "std     1815.620943   21839.263300     8.754959      28161.809543   \n",
       "min    90001.000000      50.000000    19.300000      11922.000000   \n",
       "25%    92233.500000    3171.500000    33.400000      42817.500000   \n",
       "50%    93636.000000   20173.000000    38.500000      57287.000000   \n",
       "75%    95349.000000   38008.000000    45.000000      77818.000000   \n",
       "max    96161.000000  106521.000000    74.500000     236912.000000   \n",
       "\n",
       "       Per Capita Income  Poverty Rate  Unemployment Rate   House Value  \\\n",
       "count         1591.00000   1591.000000        1591.000000  1.591000e+03   \n",
       "mean         31638.92269     15.799600           5.348850  3.907287e+05   \n",
       "std          17261.20338     10.052693           2.475556  2.418842e+05   \n",
       "min           5180.00000      0.000000           0.000000  2.290000e+04   \n",
       "25%          20276.50000      8.318399           3.853681  2.058500e+05   \n",
       "50%          27463.00000     13.675235           5.174385  3.313000e+05   \n",
       "75%          38396.50000     20.980855           6.655864  5.239500e+05   \n",
       "max         142620.00000     67.642753          24.843750  1.000001e+06   \n",
       "\n",
       "       House Construction Year  Monthly Owner Cost  ...  Uneducated Rate  \\\n",
       "count             1.591000e+03         1591.000000  ...      1591.000000   \n",
       "mean             -1.255102e+06         2150.230044  ...         1.310003   \n",
       "std               2.893092e+07          773.058022  ...         1.628642   \n",
       "min              -6.666667e+08          427.000000  ...         0.000000   \n",
       "25%               1.964500e+03         1561.500000  ...         0.278107   \n",
       "50%               1.974000e+03         2029.000000  ...         0.891620   \n",
       "75%               1.981000e+03         2605.000000  ...         1.893405   \n",
       "max               2.011000e+03         4001.000000  ...        33.108108   \n",
       "\n",
       "       English Language Rate  Spanish Language Rate  White Population Rate  \\\n",
       "count            1591.000000            1591.000000            1591.000000   \n",
       "mean               62.382804              20.973316              70.809027   \n",
       "std                22.576559              19.742622              19.451062   \n",
       "min                 2.068966               0.000000               9.683246   \n",
       "25%                46.525173               6.043723              58.657711   \n",
       "50%                65.609986              14.003956              74.697646   \n",
       "75%                81.001156              30.952544              86.095517   \n",
       "max               100.000000              89.793103             100.000000   \n",
       "\n",
       "       Black Population Rate  Hispanic Population Rate  Asian Population Rate  \\\n",
       "count            1591.000000               1591.000000            1591.000000   \n",
       "mean                4.251090                 30.239868               9.573416   \n",
       "std                 7.296059                 24.185344              12.658020   \n",
       "min                 0.000000                  0.000000               0.000000   \n",
       "25%                 0.500798                 10.671194               1.157410   \n",
       "50%                 1.885617                 22.791519               4.850746   \n",
       "75%                 4.912660                 44.050939              11.991283   \n",
       "max                81.710857                100.000000              73.655063   \n",
       "\n",
       "               Lat          Lng  Housing_units  \n",
       "count  1591.000000  1591.000000    1591.000000  \n",
       "mean     36.339154  -119.898256    8578.024513  \n",
       "std       2.410507     2.112705    7210.895207  \n",
       "min      32.550000  -124.300000      21.000000  \n",
       "25%      34.050000  -121.845000    1558.000000  \n",
       "50%      36.600000  -120.000000    7538.000000  \n",
       "75%      38.200000  -118.069350   13845.500000  \n",
       "max      41.940000  -114.300000   37182.000000  \n",
       "\n",
       "[8 rows x 27 columns]"
      ]
     },
     "execution_count": 23,
     "metadata": {},
     "output_type": "execute_result"
    }
   ],
   "source": [
    "#describing the dataframe\n",
    "ca_2014.describe()"
   ]
  },
  {
   "cell_type": "code",
   "execution_count": 24,
   "id": "4614905c",
   "metadata": {},
   "outputs": [],
   "source": [
    "#saving csv file for plotting\n",
    "#ca_2014.to_csv('output_census/ca_2014_fg.csv', index=False)"
   ]
  },
  {
   "cell_type": "code",
   "execution_count": null,
   "id": "2749d089",
   "metadata": {},
   "outputs": [],
   "source": []
  },
  {
   "cell_type": "code",
   "execution_count": null,
   "id": "b6006913",
   "metadata": {},
   "outputs": [],
   "source": []
  },
  {
   "cell_type": "markdown",
   "id": "08f4e415",
   "metadata": {},
   "source": [
    "## 2015 US census data"
   ]
  },
  {
   "cell_type": "code",
   "execution_count": null,
   "id": "796cfc78",
   "metadata": {},
   "outputs": [],
   "source": [
    "# 2015 census data for all US zipcodes\n",
    "#reading 2015 combined census data\n",
    "path_comb_2015=os.path.join('output_census', 'census_comb_2015.csv')\n",
    "usa_2015=pd.read_csv(path_comb_2015)"
   ]
  },
  {
   "cell_type": "code",
   "execution_count": null,
   "id": "4d7953e4",
   "metadata": {},
   "outputs": [],
   "source": [
    "#looking for usa_2015 dataframe\n",
    "usa_2015.head()"
   ]
  },
  {
   "cell_type": "code",
   "execution_count": null,
   "id": "016ad58e",
   "metadata": {},
   "outputs": [],
   "source": [
    "#columns of 2017  dataframe\n",
    "usa_2015.columns"
   ]
  },
  {
   "cell_type": "code",
   "execution_count": null,
   "id": "a747fd71",
   "metadata": {},
   "outputs": [],
   "source": [
    "#shape of the dataframe\n",
    "usa_2015.shape"
   ]
  },
  {
   "cell_type": "code",
   "execution_count": null,
   "id": "6435621b",
   "metadata": {},
   "outputs": [],
   "source": [
    "#removing the rows with house value less than 1\n",
    "usa_2015=(usa_2015[(usa_2015['House Value']>0)&\n",
    "                (usa_2015['Household Income']>0)&\n",
    "                (usa_2015['Monthly Owner Cost']>0)])"
   ]
  },
  {
   "cell_type": "code",
   "execution_count": null,
   "id": "c6f5e95e",
   "metadata": {},
   "outputs": [],
   "source": [
    "#looking for null value\n",
    "usa_2015.isna().sum()"
   ]
  },
  {
   "cell_type": "code",
   "execution_count": null,
   "id": "338b070f",
   "metadata": {},
   "outputs": [],
   "source": [
    "#removing the rows with lat and lng missing value\n",
    "usa_2015.dropna(subset=['Lat', 'Lng','Housing_units','County','Monthly Rent'], inplace=True)"
   ]
  },
  {
   "cell_type": "code",
   "execution_count": null,
   "id": "bd94805b",
   "metadata": {},
   "outputs": [],
   "source": [
    "#shape of the clean dataframe\n",
    "usa_2015.shape"
   ]
  },
  {
   "cell_type": "code",
   "execution_count": null,
   "id": "7fe802ec",
   "metadata": {},
   "outputs": [],
   "source": [
    "#info of the dataframe\n",
    "usa_2015.info()"
   ]
  },
  {
   "cell_type": "code",
   "execution_count": null,
   "id": "5970556a",
   "metadata": {},
   "outputs": [],
   "source": [
    "#describing the dataframe\n",
    "usa_2015.describe()"
   ]
  },
  {
   "cell_type": "code",
   "execution_count": null,
   "id": "7a0a2a57",
   "metadata": {},
   "outputs": [],
   "source": [
    "usa_2015.columns"
   ]
  },
  {
   "cell_type": "code",
   "execution_count": null,
   "id": "24928148",
   "metadata": {},
   "outputs": [],
   "source": [
    "usa_2015.drop(['Commute Time Car','Commute Time Public'], axis=1, inplace=True)"
   ]
  },
  {
   "cell_type": "code",
   "execution_count": null,
   "id": "e8708756",
   "metadata": {},
   "outputs": [],
   "source": []
  },
  {
   "cell_type": "code",
   "execution_count": null,
   "id": "1075f5f3",
   "metadata": {},
   "outputs": [],
   "source": [
    "usa_2015.shape"
   ]
  },
  {
   "cell_type": "code",
   "execution_count": null,
   "id": "c6e09206",
   "metadata": {},
   "outputs": [],
   "source": [
    "#selecting only required columns\n",
    "usa_2015_redu=usa_2015[['Population', 'Median Age', 'Household Income',\n",
    "       'Per Capita Income', 'Poverty Rate', 'Unemployment Rate', 'House Value',\n",
    "       'House Construction Year', 'Monthly Owner Cost', 'Monthly Rent',\n",
    "       'Public Transport Rate', 'Personal Transport Rate',\n",
    "        'High School Rate','English Language Rate','Spanish Language Rate',\n",
    "       'College Rate', 'Uneducated Rate', 'White Population Rate', 'Black Population Rate',\n",
    "       'Hispanic Population Rate', 'Asian Population Rate', 'City', \n",
    "       'Lat', 'Lng', 'Housing_units']]"
   ]
  },
  {
   "cell_type": "code",
   "execution_count": null,
   "id": "951e6f7d",
   "metadata": {},
   "outputs": [],
   "source": [
    "#saving csv file for machine learning\n",
    "#usa_2015_redu.to_csv('output_census/usa_2015_ml.csv', index=False)"
   ]
  },
  {
   "cell_type": "code",
   "execution_count": null,
   "id": "c38e76d8",
   "metadata": {},
   "outputs": [],
   "source": []
  },
  {
   "cell_type": "markdown",
   "id": "35ce0565",
   "metadata": {},
   "source": [
    "## 2015 California census data"
   ]
  },
  {
   "cell_type": "code",
   "execution_count": 25,
   "id": "53da82c6",
   "metadata": {},
   "outputs": [],
   "source": [
    "#reading 2015 combined california census data\n",
    "path_ca_2015=os.path.join('output_census', 'census_ca_2015.csv')\n",
    "ca_2015=pd.read_csv(path_ca_2015)"
   ]
  },
  {
   "cell_type": "code",
   "execution_count": 26,
   "id": "ead238f3",
   "metadata": {},
   "outputs": [
    {
     "data": {
      "text/html": [
       "<div>\n",
       "<style scoped>\n",
       "    .dataframe tbody tr th:only-of-type {\n",
       "        vertical-align: middle;\n",
       "    }\n",
       "\n",
       "    .dataframe tbody tr th {\n",
       "        vertical-align: top;\n",
       "    }\n",
       "\n",
       "    .dataframe thead th {\n",
       "        text-align: right;\n",
       "    }\n",
       "</style>\n",
       "<table border=\"1\" class=\"dataframe\">\n",
       "  <thead>\n",
       "    <tr style=\"text-align: right;\">\n",
       "      <th></th>\n",
       "      <th>Zipcode</th>\n",
       "      <th>Population</th>\n",
       "      <th>Median Age</th>\n",
       "      <th>Household Income</th>\n",
       "      <th>Per Capita Income</th>\n",
       "      <th>Poverty Rate</th>\n",
       "      <th>Unemployment Rate</th>\n",
       "      <th>House Value</th>\n",
       "      <th>House Construction Year</th>\n",
       "      <th>Monthly Owner Cost</th>\n",
       "      <th>...</th>\n",
       "      <th>White Population Rate</th>\n",
       "      <th>Black Population Rate</th>\n",
       "      <th>Hispanic Population Rate</th>\n",
       "      <th>Asian Population Rate</th>\n",
       "      <th>City</th>\n",
       "      <th>County</th>\n",
       "      <th>Lat</th>\n",
       "      <th>Lng</th>\n",
       "      <th>Housing_units</th>\n",
       "      <th>State</th>\n",
       "    </tr>\n",
       "  </thead>\n",
       "  <tbody>\n",
       "    <tr>\n",
       "      <th>0</th>\n",
       "      <td>95422</td>\n",
       "      <td>15476.0</td>\n",
       "      <td>42.3</td>\n",
       "      <td>25578.0</td>\n",
       "      <td>16355.0</td>\n",
       "      <td>36.792453</td>\n",
       "      <td>8.419488</td>\n",
       "      <td>86800.0</td>\n",
       "      <td>1976.0</td>\n",
       "      <td>1123.0</td>\n",
       "      <td>...</td>\n",
       "      <td>72.221504</td>\n",
       "      <td>6.216077</td>\n",
       "      <td>23.901525</td>\n",
       "      <td>0.394159</td>\n",
       "      <td>Clearlake</td>\n",
       "      <td>Lake County</td>\n",
       "      <td>38.97</td>\n",
       "      <td>-122.64</td>\n",
       "      <td>8546.0</td>\n",
       "      <td>CA</td>\n",
       "    </tr>\n",
       "    <tr>\n",
       "      <th>1</th>\n",
       "      <td>95423</td>\n",
       "      <td>3260.0</td>\n",
       "      <td>55.8</td>\n",
       "      <td>27889.0</td>\n",
       "      <td>18760.0</td>\n",
       "      <td>33.067485</td>\n",
       "      <td>7.239264</td>\n",
       "      <td>160100.0</td>\n",
       "      <td>1975.0</td>\n",
       "      <td>1307.0</td>\n",
       "      <td>...</td>\n",
       "      <td>89.969325</td>\n",
       "      <td>1.717791</td>\n",
       "      <td>6.349693</td>\n",
       "      <td>0.490798</td>\n",
       "      <td>Clearlake Oaks</td>\n",
       "      <td>Lake County</td>\n",
       "      <td>39.10</td>\n",
       "      <td>-122.60</td>\n",
       "      <td>2680.0</td>\n",
       "      <td>CA</td>\n",
       "    </tr>\n",
       "    <tr>\n",
       "      <th>2</th>\n",
       "      <td>95425</td>\n",
       "      <td>10597.0</td>\n",
       "      <td>42.3</td>\n",
       "      <td>60517.0</td>\n",
       "      <td>29688.0</td>\n",
       "      <td>8.106068</td>\n",
       "      <td>3.189582</td>\n",
       "      <td>353400.0</td>\n",
       "      <td>1982.0</td>\n",
       "      <td>2026.0</td>\n",
       "      <td>...</td>\n",
       "      <td>77.691800</td>\n",
       "      <td>0.990846</td>\n",
       "      <td>31.112579</td>\n",
       "      <td>4.916486</td>\n",
       "      <td>Cloverdale</td>\n",
       "      <td>Sonoma County</td>\n",
       "      <td>38.80</td>\n",
       "      <td>-123.00</td>\n",
       "      <td>4544.0</td>\n",
       "      <td>CA</td>\n",
       "    </tr>\n",
       "    <tr>\n",
       "      <th>3</th>\n",
       "      <td>95426</td>\n",
       "      <td>1544.0</td>\n",
       "      <td>50.9</td>\n",
       "      <td>62833.0</td>\n",
       "      <td>27425.0</td>\n",
       "      <td>24.740933</td>\n",
       "      <td>4.274611</td>\n",
       "      <td>195100.0</td>\n",
       "      <td>1979.0</td>\n",
       "      <td>1295.0</td>\n",
       "      <td>...</td>\n",
       "      <td>91.904145</td>\n",
       "      <td>0.000000</td>\n",
       "      <td>7.707254</td>\n",
       "      <td>6.282383</td>\n",
       "      <td>Cobb</td>\n",
       "      <td>Lake County</td>\n",
       "      <td>38.81</td>\n",
       "      <td>-122.73</td>\n",
       "      <td>1315.0</td>\n",
       "      <td>CA</td>\n",
       "    </tr>\n",
       "    <tr>\n",
       "      <th>4</th>\n",
       "      <td>95428</td>\n",
       "      <td>2365.0</td>\n",
       "      <td>40.1</td>\n",
       "      <td>30975.0</td>\n",
       "      <td>16874.0</td>\n",
       "      <td>31.585624</td>\n",
       "      <td>7.906977</td>\n",
       "      <td>235800.0</td>\n",
       "      <td>1973.0</td>\n",
       "      <td>1250.0</td>\n",
       "      <td>...</td>\n",
       "      <td>57.589852</td>\n",
       "      <td>0.507400</td>\n",
       "      <td>16.490486</td>\n",
       "      <td>0.126850</td>\n",
       "      <td>Covelo</td>\n",
       "      <td>Mendocino County</td>\n",
       "      <td>39.70</td>\n",
       "      <td>-123.10</td>\n",
       "      <td>1160.0</td>\n",
       "      <td>CA</td>\n",
       "    </tr>\n",
       "  </tbody>\n",
       "</table>\n",
       "<p>5 rows × 30 columns</p>\n",
       "</div>"
      ],
      "text/plain": [
       "   Zipcode  Population  Median Age  Household Income  Per Capita Income  \\\n",
       "0    95422     15476.0        42.3           25578.0            16355.0   \n",
       "1    95423      3260.0        55.8           27889.0            18760.0   \n",
       "2    95425     10597.0        42.3           60517.0            29688.0   \n",
       "3    95426      1544.0        50.9           62833.0            27425.0   \n",
       "4    95428      2365.0        40.1           30975.0            16874.0   \n",
       "\n",
       "   Poverty Rate  Unemployment Rate  House Value  House Construction Year  \\\n",
       "0     36.792453           8.419488      86800.0                   1976.0   \n",
       "1     33.067485           7.239264     160100.0                   1975.0   \n",
       "2      8.106068           3.189582     353400.0                   1982.0   \n",
       "3     24.740933           4.274611     195100.0                   1979.0   \n",
       "4     31.585624           7.906977     235800.0                   1973.0   \n",
       "\n",
       "   Monthly Owner Cost  ...  White Population Rate  Black Population Rate  \\\n",
       "0              1123.0  ...              72.221504               6.216077   \n",
       "1              1307.0  ...              89.969325               1.717791   \n",
       "2              2026.0  ...              77.691800               0.990846   \n",
       "3              1295.0  ...              91.904145               0.000000   \n",
       "4              1250.0  ...              57.589852               0.507400   \n",
       "\n",
       "   Hispanic Population Rate  Asian Population Rate            City  \\\n",
       "0                 23.901525               0.394159       Clearlake   \n",
       "1                  6.349693               0.490798  Clearlake Oaks   \n",
       "2                 31.112579               4.916486      Cloverdale   \n",
       "3                  7.707254               6.282383            Cobb   \n",
       "4                 16.490486               0.126850          Covelo   \n",
       "\n",
       "             County    Lat     Lng  Housing_units  State  \n",
       "0       Lake County  38.97 -122.64         8546.0     CA  \n",
       "1       Lake County  39.10 -122.60         2680.0     CA  \n",
       "2     Sonoma County  38.80 -123.00         4544.0     CA  \n",
       "3       Lake County  38.81 -122.73         1315.0     CA  \n",
       "4  Mendocino County  39.70 -123.10         1160.0     CA  \n",
       "\n",
       "[5 rows x 30 columns]"
      ]
     },
     "execution_count": 26,
     "metadata": {},
     "output_type": "execute_result"
    }
   ],
   "source": [
    "#looking for ca_2015 dataframe\n",
    "ca_2015.head()"
   ]
  },
  {
   "cell_type": "code",
   "execution_count": 27,
   "id": "d441e9b6",
   "metadata": {},
   "outputs": [
    {
     "data": {
      "text/plain": [
       "Index(['Zipcode', 'Population', 'Median Age', 'Household Income',\n",
       "       'Per Capita Income', 'Poverty Rate', 'Unemployment Rate', 'House Value',\n",
       "       'House Construction Year', 'Monthly Owner Cost', 'Monthly Rent',\n",
       "       'Public Transport Rate', 'Personal Transport Rate',\n",
       "       'Commute Time Public', 'Commute Time Car', 'High School Rate',\n",
       "       'College Rate', 'Uneducated Rate', 'English Language Rate',\n",
       "       'Spanish Language Rate', 'White Population Rate',\n",
       "       'Black Population Rate', 'Hispanic Population Rate',\n",
       "       'Asian Population Rate', 'City', 'County', 'Lat', 'Lng',\n",
       "       'Housing_units', 'State'],\n",
       "      dtype='object')"
      ]
     },
     "execution_count": 27,
     "metadata": {},
     "output_type": "execute_result"
    }
   ],
   "source": [
    "#columns of 2015  dataframe\n",
    "ca_2015.columns"
   ]
  },
  {
   "cell_type": "code",
   "execution_count": 28,
   "id": "cc54d8f9",
   "metadata": {},
   "outputs": [
    {
     "data": {
      "text/plain": [
       "(1763, 30)"
      ]
     },
     "execution_count": 28,
     "metadata": {},
     "output_type": "execute_result"
    }
   ],
   "source": [
    "#shape of the dataframe\n",
    "ca_2015.shape"
   ]
  },
  {
   "cell_type": "code",
   "execution_count": 29,
   "id": "eadbe404",
   "metadata": {},
   "outputs": [],
   "source": [
    "#removing the rows with house value less than 1\n",
    "ca_2015=(ca_2015[(ca_2015['House Value']>0)&\n",
    "                (ca_2015['Household Income']>0)&\n",
    "                (ca_2015['Monthly Owner Cost']>0)])"
   ]
  },
  {
   "cell_type": "code",
   "execution_count": 30,
   "id": "1d22ba79",
   "metadata": {},
   "outputs": [
    {
     "data": {
      "text/plain": [
       "Zipcode                       0\n",
       "Population                    0\n",
       "Median Age                    0\n",
       "Household Income              0\n",
       "Per Capita Income             0\n",
       "Poverty Rate                  0\n",
       "Unemployment Rate             0\n",
       "House Value                   0\n",
       "House Construction Year       0\n",
       "Monthly Owner Cost            0\n",
       "Monthly Rent                 18\n",
       "Public Transport Rate         0\n",
       "Personal Transport Rate       0\n",
       "Commute Time Public         908\n",
       "Commute Time Car            908\n",
       "High School Rate              0\n",
       "College Rate                  0\n",
       "Uneducated Rate               0\n",
       "English Language Rate         0\n",
       "Spanish Language Rate         0\n",
       "White Population Rate         0\n",
       "Black Population Rate         0\n",
       "Hispanic Population Rate      0\n",
       "Asian Population Rate         0\n",
       "City                          0\n",
       "County                        0\n",
       "Lat                           0\n",
       "Lng                           0\n",
       "Housing_units                 0\n",
       "State                         0\n",
       "dtype: int64"
      ]
     },
     "execution_count": 30,
     "metadata": {},
     "output_type": "execute_result"
    }
   ],
   "source": [
    "#looking for null value\n",
    "ca_2015.isna().sum()"
   ]
  },
  {
   "cell_type": "code",
   "execution_count": 31,
   "id": "d839956f",
   "metadata": {},
   "outputs": [],
   "source": [
    "#removing the rows with lat and lng missing value\n",
    "ca_2015.dropna(subset=[ 'Monthly Rent'],inplace=True)"
   ]
  },
  {
   "cell_type": "code",
   "execution_count": 32,
   "id": "ef3ddce8",
   "metadata": {},
   "outputs": [],
   "source": [
    "#filling nan to zero for commute time public and commute time car columns\n",
    "ca_2015[['Commute Time Public', 'Commute Time Car' ]]=ca_2015[['Commute Time Public', 'Commute Time Car' ]].fillna(0)"
   ]
  },
  {
   "cell_type": "code",
   "execution_count": 33,
   "id": "a7728553",
   "metadata": {},
   "outputs": [
    {
     "data": {
      "text/plain": [
       "(1497, 30)"
      ]
     },
     "execution_count": 33,
     "metadata": {},
     "output_type": "execute_result"
    }
   ],
   "source": [
    "#shape of the clean dataframe\n",
    "ca_2015.shape"
   ]
  },
  {
   "cell_type": "code",
   "execution_count": 34,
   "id": "7168c75a",
   "metadata": {},
   "outputs": [],
   "source": [
    "#saving csv file for plotting\n",
    "#ca_2015.to_csv('output_census/ca_2015_fg.csv', index=False)"
   ]
  },
  {
   "cell_type": "code",
   "execution_count": null,
   "id": "f4fe5f0d",
   "metadata": {},
   "outputs": [],
   "source": []
  },
  {
   "cell_type": "markdown",
   "id": "4358a73f",
   "metadata": {},
   "source": [
    "## 2017 US census data"
   ]
  },
  {
   "cell_type": "code",
   "execution_count": null,
   "id": "1dbecf78",
   "metadata": {},
   "outputs": [],
   "source": [
    "# 2017 census data for all US zipcodes\n",
    "#reading 2017 combined census data\n",
    "path_comb_2017=os.path.join('output_census', 'census_comb_2017.csv')\n",
    "usa_2017=pd.read_csv(path_comb_2017)"
   ]
  },
  {
   "cell_type": "code",
   "execution_count": null,
   "id": "5d18afef",
   "metadata": {},
   "outputs": [],
   "source": [
    "#looking for usa_2017 dataframe\n",
    "usa_2017.head()"
   ]
  },
  {
   "cell_type": "code",
   "execution_count": null,
   "id": "8fc08498",
   "metadata": {},
   "outputs": [],
   "source": [
    "#columns of 2017  dataframe\n",
    "usa_2017.columns"
   ]
  },
  {
   "cell_type": "code",
   "execution_count": null,
   "id": "ce2c7498",
   "metadata": {},
   "outputs": [],
   "source": [
    "#shape of the dataframe\n",
    "usa_2017.shape"
   ]
  },
  {
   "cell_type": "code",
   "execution_count": null,
   "id": "4d99d2c0",
   "metadata": {},
   "outputs": [],
   "source": [
    "#removing the rows with house value less than 1\n",
    "usa_2017=(usa_2017[(usa_2017['House Value']>0)&\n",
    "                (usa_2017['Household Income']>0)&\n",
    "                (usa_2017['Monthly Owner Cost']>0)])"
   ]
  },
  {
   "cell_type": "code",
   "execution_count": null,
   "id": "c931c693",
   "metadata": {},
   "outputs": [],
   "source": [
    "#looking for null value\n",
    "usa_2017.isna().sum()"
   ]
  },
  {
   "cell_type": "code",
   "execution_count": null,
   "id": "0e4c74df",
   "metadata": {},
   "outputs": [],
   "source": [
    "#removing the rows with lat and lng missing value\n",
    "usa_2017.dropna(subset=['Lat', 'Lng','Housing_units','County'], inplace=True)"
   ]
  },
  {
   "cell_type": "code",
   "execution_count": null,
   "id": "2e40f7ca",
   "metadata": {},
   "outputs": [],
   "source": [
    "#shape of the clean dataframe\n",
    "usa_2017.shape"
   ]
  },
  {
   "cell_type": "code",
   "execution_count": null,
   "id": "af13b4b3",
   "metadata": {},
   "outputs": [],
   "source": [
    "#info of the dataframe\n",
    "usa_2017.info()"
   ]
  },
  {
   "cell_type": "code",
   "execution_count": null,
   "id": "8e022845",
   "metadata": {},
   "outputs": [],
   "source": [
    "#describing the dataframe\n",
    "usa_2017.describe()"
   ]
  },
  {
   "cell_type": "code",
   "execution_count": null,
   "id": "c10c477f",
   "metadata": {},
   "outputs": [],
   "source": [
    "usa_2017.columns"
   ]
  },
  {
   "cell_type": "code",
   "execution_count": null,
   "id": "de812fad",
   "metadata": {},
   "outputs": [],
   "source": [
    "usa_2017.drop(['Commute Time Car','Commute Time Public',\n",
    "               'English Language','Spanish Language'], axis=1, inplace=True)"
   ]
  },
  {
   "cell_type": "code",
   "execution_count": null,
   "id": "b0525e3b",
   "metadata": {},
   "outputs": [],
   "source": []
  },
  {
   "cell_type": "code",
   "execution_count": null,
   "id": "06b1cb8f",
   "metadata": {},
   "outputs": [],
   "source": [
    "usa_2017.shape"
   ]
  },
  {
   "cell_type": "code",
   "execution_count": null,
   "id": "879b5c33",
   "metadata": {},
   "outputs": [],
   "source": [
    "#selecting only required columns\n",
    "usa_2017_redu=usa_2017[['Population', 'Median Age', 'Household Income',\n",
    "       'Per Capita Income', 'Poverty Rate', 'Unemployment Rate', 'House Value',\n",
    "       'House Construction Year', 'Monthly Owner Cost', 'Monthly Rent',\n",
    "       'Public Transport Rate', 'Personal Transport Rate',\n",
    "        'High School Rate',\n",
    "       'College Rate', 'Uneducated Rate', 'White Population Rate', 'Black Population Rate',\n",
    "       'Hispanic Population Rate', 'Asian Population Rate', 'City', \n",
    "       'Lat', 'Lng', 'Housing_units']]"
   ]
  },
  {
   "cell_type": "code",
   "execution_count": null,
   "id": "e1814e36",
   "metadata": {},
   "outputs": [],
   "source": [
    "#saving csv file for machine learning\n",
    "#usa_2017_redu.to_csv('output_census/usa_2017_ml.csv', index=False)"
   ]
  },
  {
   "cell_type": "code",
   "execution_count": null,
   "id": "491ff937",
   "metadata": {},
   "outputs": [],
   "source": []
  },
  {
   "cell_type": "code",
   "execution_count": null,
   "id": "d56eda88",
   "metadata": {},
   "outputs": [],
   "source": []
  },
  {
   "cell_type": "markdown",
   "id": "4f8a2dcf",
   "metadata": {},
   "source": [
    "## 2017 California census data"
   ]
  },
  {
   "cell_type": "code",
   "execution_count": 35,
   "id": "38a4af50",
   "metadata": {},
   "outputs": [],
   "source": [
    "#reading 2017 combined california census data\n",
    "path_ca_2017=os.path.join('output_census', 'census_ca_2017.csv')\n",
    "ca_2017=pd.read_csv(path_ca_2017)"
   ]
  },
  {
   "cell_type": "code",
   "execution_count": 36,
   "id": "aad182d0",
   "metadata": {},
   "outputs": [
    {
     "data": {
      "text/html": [
       "<div>\n",
       "<style scoped>\n",
       "    .dataframe tbody tr th:only-of-type {\n",
       "        vertical-align: middle;\n",
       "    }\n",
       "\n",
       "    .dataframe tbody tr th {\n",
       "        vertical-align: top;\n",
       "    }\n",
       "\n",
       "    .dataframe thead th {\n",
       "        text-align: right;\n",
       "    }\n",
       "</style>\n",
       "<table border=\"1\" class=\"dataframe\">\n",
       "  <thead>\n",
       "    <tr style=\"text-align: right;\">\n",
       "      <th></th>\n",
       "      <th>Zipcode</th>\n",
       "      <th>Population</th>\n",
       "      <th>Median Age</th>\n",
       "      <th>Household Income</th>\n",
       "      <th>Per Capita Income</th>\n",
       "      <th>Poverty Rate</th>\n",
       "      <th>Unemployment Rate</th>\n",
       "      <th>House Value</th>\n",
       "      <th>House Construction Year</th>\n",
       "      <th>Monthly Owner Cost</th>\n",
       "      <th>...</th>\n",
       "      <th>White Population Rate</th>\n",
       "      <th>Black Population Rate</th>\n",
       "      <th>Hispanic Population Rate</th>\n",
       "      <th>Asian Population Rate</th>\n",
       "      <th>City</th>\n",
       "      <th>County</th>\n",
       "      <th>Lat</th>\n",
       "      <th>Lng</th>\n",
       "      <th>Housing_units</th>\n",
       "      <th>State</th>\n",
       "    </tr>\n",
       "  </thead>\n",
       "  <tbody>\n",
       "    <tr>\n",
       "      <th>0</th>\n",
       "      <td>90001</td>\n",
       "      <td>58738.0</td>\n",
       "      <td>28.7</td>\n",
       "      <td>35660.0</td>\n",
       "      <td>11882.0</td>\n",
       "      <td>31.757976</td>\n",
       "      <td>4.974633</td>\n",
       "      <td>305500.0</td>\n",
       "      <td>1949.0</td>\n",
       "      <td>1695.0</td>\n",
       "      <td>...</td>\n",
       "      <td>32.367462</td>\n",
       "      <td>9.164425</td>\n",
       "      <td>89.841329</td>\n",
       "      <td>0.224727</td>\n",
       "      <td>Los Angeles</td>\n",
       "      <td>Los Angeles County</td>\n",
       "      <td>33.97</td>\n",
       "      <td>-118.25</td>\n",
       "      <td>13788.0</td>\n",
       "      <td>CA</td>\n",
       "    </tr>\n",
       "    <tr>\n",
       "      <th>1</th>\n",
       "      <td>90002</td>\n",
       "      <td>52856.0</td>\n",
       "      <td>27.7</td>\n",
       "      <td>34000.0</td>\n",
       "      <td>11807.0</td>\n",
       "      <td>33.666944</td>\n",
       "      <td>5.032541</td>\n",
       "      <td>272400.0</td>\n",
       "      <td>1951.0</td>\n",
       "      <td>1678.0</td>\n",
       "      <td>...</td>\n",
       "      <td>37.683517</td>\n",
       "      <td>21.569926</td>\n",
       "      <td>76.420842</td>\n",
       "      <td>0.565688</td>\n",
       "      <td>Los Angeles</td>\n",
       "      <td>Los Angeles County</td>\n",
       "      <td>33.95</td>\n",
       "      <td>-118.25</td>\n",
       "      <td>12598.0</td>\n",
       "      <td>CA</td>\n",
       "    </tr>\n",
       "    <tr>\n",
       "      <th>2</th>\n",
       "      <td>90003</td>\n",
       "      <td>70490.0</td>\n",
       "      <td>28.2</td>\n",
       "      <td>34397.0</td>\n",
       "      <td>11305.0</td>\n",
       "      <td>32.929494</td>\n",
       "      <td>5.440488</td>\n",
       "      <td>300700.0</td>\n",
       "      <td>1951.0</td>\n",
       "      <td>1688.0</td>\n",
       "      <td>...</td>\n",
       "      <td>29.767343</td>\n",
       "      <td>22.383317</td>\n",
       "      <td>76.766917</td>\n",
       "      <td>0.285147</td>\n",
       "      <td>Los Angeles</td>\n",
       "      <td>Los Angeles County</td>\n",
       "      <td>33.96</td>\n",
       "      <td>-118.27</td>\n",
       "      <td>17127.0</td>\n",
       "      <td>CA</td>\n",
       "    </tr>\n",
       "    <tr>\n",
       "      <th>3</th>\n",
       "      <td>90004</td>\n",
       "      <td>62733.0</td>\n",
       "      <td>35.1</td>\n",
       "      <td>46581.0</td>\n",
       "      <td>30590.0</td>\n",
       "      <td>19.104777</td>\n",
       "      <td>4.182806</td>\n",
       "      <td>918500.0</td>\n",
       "      <td>1943.0</td>\n",
       "      <td>3467.0</td>\n",
       "      <td>...</td>\n",
       "      <td>37.758437</td>\n",
       "      <td>4.055282</td>\n",
       "      <td>51.350964</td>\n",
       "      <td>25.074522</td>\n",
       "      <td>Los Angeles</td>\n",
       "      <td>Los Angeles County</td>\n",
       "      <td>34.08</td>\n",
       "      <td>-118.31</td>\n",
       "      <td>24278.0</td>\n",
       "      <td>CA</td>\n",
       "    </tr>\n",
       "    <tr>\n",
       "      <th>4</th>\n",
       "      <td>90005</td>\n",
       "      <td>39562.0</td>\n",
       "      <td>35.4</td>\n",
       "      <td>32461.0</td>\n",
       "      <td>21566.0</td>\n",
       "      <td>28.562762</td>\n",
       "      <td>5.156463</td>\n",
       "      <td>713400.0</td>\n",
       "      <td>1949.0</td>\n",
       "      <td>3067.0</td>\n",
       "      <td>...</td>\n",
       "      <td>20.335170</td>\n",
       "      <td>6.228199</td>\n",
       "      <td>49.519741</td>\n",
       "      <td>34.823821</td>\n",
       "      <td>Los Angeles</td>\n",
       "      <td>Los Angeles County</td>\n",
       "      <td>34.06</td>\n",
       "      <td>-118.31</td>\n",
       "      <td>16345.0</td>\n",
       "      <td>CA</td>\n",
       "    </tr>\n",
       "  </tbody>\n",
       "</table>\n",
       "<p>5 rows × 30 columns</p>\n",
       "</div>"
      ],
      "text/plain": [
       "   Zipcode  Population  Median Age  Household Income  Per Capita Income  \\\n",
       "0    90001     58738.0        28.7           35660.0            11882.0   \n",
       "1    90002     52856.0        27.7           34000.0            11807.0   \n",
       "2    90003     70490.0        28.2           34397.0            11305.0   \n",
       "3    90004     62733.0        35.1           46581.0            30590.0   \n",
       "4    90005     39562.0        35.4           32461.0            21566.0   \n",
       "\n",
       "   Poverty Rate  Unemployment Rate  House Value  House Construction Year  \\\n",
       "0     31.757976           4.974633     305500.0                   1949.0   \n",
       "1     33.666944           5.032541     272400.0                   1951.0   \n",
       "2     32.929494           5.440488     300700.0                   1951.0   \n",
       "3     19.104777           4.182806     918500.0                   1943.0   \n",
       "4     28.562762           5.156463     713400.0                   1949.0   \n",
       "\n",
       "   Monthly Owner Cost  ...  White Population Rate  Black Population Rate  \\\n",
       "0              1695.0  ...              32.367462               9.164425   \n",
       "1              1678.0  ...              37.683517              21.569926   \n",
       "2              1688.0  ...              29.767343              22.383317   \n",
       "3              3467.0  ...              37.758437               4.055282   \n",
       "4              3067.0  ...              20.335170               6.228199   \n",
       "\n",
       "   Hispanic Population Rate  Asian Population Rate         City  \\\n",
       "0                 89.841329               0.224727  Los Angeles   \n",
       "1                 76.420842               0.565688  Los Angeles   \n",
       "2                 76.766917               0.285147  Los Angeles   \n",
       "3                 51.350964              25.074522  Los Angeles   \n",
       "4                 49.519741              34.823821  Los Angeles   \n",
       "\n",
       "               County    Lat     Lng  Housing_units  State  \n",
       "0  Los Angeles County  33.97 -118.25        13788.0     CA  \n",
       "1  Los Angeles County  33.95 -118.25        12598.0     CA  \n",
       "2  Los Angeles County  33.96 -118.27        17127.0     CA  \n",
       "3  Los Angeles County  34.08 -118.31        24278.0     CA  \n",
       "4  Los Angeles County  34.06 -118.31        16345.0     CA  \n",
       "\n",
       "[5 rows x 30 columns]"
      ]
     },
     "execution_count": 36,
     "metadata": {},
     "output_type": "execute_result"
    }
   ],
   "source": [
    "#looking for usa_2017 dataframe\n",
    "ca_2017.head()"
   ]
  },
  {
   "cell_type": "code",
   "execution_count": 37,
   "id": "3a0a65d7",
   "metadata": {},
   "outputs": [
    {
     "data": {
      "text/plain": [
       "Index(['Zipcode', 'Population', 'Median Age', 'Household Income',\n",
       "       'Per Capita Income', 'Poverty Rate', 'Unemployment Rate', 'House Value',\n",
       "       'House Construction Year', 'Monthly Owner Cost', 'Monthly Rent',\n",
       "       'Public Transport Rate', 'Personal Transport Rate',\n",
       "       'Commute Time Public', 'Commute Time Car', 'High School Rate',\n",
       "       'College Rate', 'Uneducated Rate', 'English Language',\n",
       "       'Spanish Language', 'White Population Rate', 'Black Population Rate',\n",
       "       'Hispanic Population Rate', 'Asian Population Rate', 'City', 'County',\n",
       "       'Lat', 'Lng', 'Housing_units', 'State'],\n",
       "      dtype='object')"
      ]
     },
     "execution_count": 37,
     "metadata": {},
     "output_type": "execute_result"
    }
   ],
   "source": [
    "#columns of 2017  dataframe\n",
    "ca_2017.columns"
   ]
  },
  {
   "cell_type": "code",
   "execution_count": 38,
   "id": "64dc621b",
   "metadata": {},
   "outputs": [
    {
     "data": {
      "text/plain": [
       "(1763, 30)"
      ]
     },
     "execution_count": 38,
     "metadata": {},
     "output_type": "execute_result"
    }
   ],
   "source": [
    "#shape of the dataframe\n",
    "ca_2017.shape"
   ]
  },
  {
   "cell_type": "code",
   "execution_count": 39,
   "id": "2c5c5086",
   "metadata": {},
   "outputs": [],
   "source": [
    "#removing the rows with house value less than 1\n",
    "ca_2017=(ca_2017[(ca_2017['House Value']>0)&\n",
    "                (ca_2017['Household Income']>0)&\n",
    "                (ca_2017['Monthly Owner Cost']>0)])"
   ]
  },
  {
   "cell_type": "code",
   "execution_count": 40,
   "id": "22596002",
   "metadata": {},
   "outputs": [
    {
     "data": {
      "text/plain": [
       "Zipcode                        0\n",
       "Population                     0\n",
       "Median Age                     0\n",
       "Household Income               0\n",
       "Per Capita Income              0\n",
       "Poverty Rate                   0\n",
       "Unemployment Rate              0\n",
       "House Value                    0\n",
       "House Construction Year        0\n",
       "Monthly Owner Cost             0\n",
       "Monthly Rent                   0\n",
       "Public Transport Rate          0\n",
       "Personal Transport Rate        0\n",
       "Commute Time Public          901\n",
       "Commute Time Car             901\n",
       "High School Rate               0\n",
       "College Rate                   0\n",
       "Uneducated Rate                0\n",
       "English Language            1534\n",
       "Spanish Language            1534\n",
       "White Population Rate          0\n",
       "Black Population Rate          0\n",
       "Hispanic Population Rate       0\n",
       "Asian Population Rate          0\n",
       "City                           0\n",
       "County                         0\n",
       "Lat                            0\n",
       "Lng                            0\n",
       "Housing_units                  0\n",
       "State                          0\n",
       "dtype: int64"
      ]
     },
     "execution_count": 40,
     "metadata": {},
     "output_type": "execute_result"
    }
   ],
   "source": [
    "#looking for null value\n",
    "ca_2017.isna().sum()"
   ]
  },
  {
   "cell_type": "code",
   "execution_count": null,
   "id": "0c44b57f",
   "metadata": {},
   "outputs": [],
   "source": [
    "#removing the rows with lat and lng missing value\n"
   ]
  },
  {
   "cell_type": "code",
   "execution_count": 41,
   "id": "586b9f29",
   "metadata": {},
   "outputs": [],
   "source": [
    "#filling nan to zero for commute time public and commute time car columns\n",
    "ca_2017[['Commute Time Public', 'Commute Time Car' ]]=ca_2017[['Commute Time Public', 'Commute Time Car' ]].fillna(0)"
   ]
  },
  {
   "cell_type": "code",
   "execution_count": 42,
   "id": "07b4260d",
   "metadata": {},
   "outputs": [
    {
     "data": {
      "text/plain": [
       "(1534, 30)"
      ]
     },
     "execution_count": 42,
     "metadata": {},
     "output_type": "execute_result"
    }
   ],
   "source": [
    "#shape of the clean dataframe\n",
    "ca_2017.shape"
   ]
  },
  {
   "cell_type": "code",
   "execution_count": 43,
   "id": "9f68ad86",
   "metadata": {},
   "outputs": [],
   "source": [
    "#saving csv file for plotting\n",
    "#ca_2017.to_csv('output_census/ca_2017_fg.csv', index=False)"
   ]
  },
  {
   "cell_type": "markdown",
   "id": "b4ce4491",
   "metadata": {},
   "source": [
    "## 2019 US census data"
   ]
  },
  {
   "cell_type": "code",
   "execution_count": null,
   "id": "c96b7bf1",
   "metadata": {},
   "outputs": [],
   "source": [
    "# 2019 census data for all US zipcodes\n",
    "#reading 2019 combined census data\n",
    "path_comb_2019=os.path.join('output_census', 'census_comb_2019.csv')\n",
    "usa_2019=pd.read_csv(path_comb_2019)"
   ]
  },
  {
   "cell_type": "code",
   "execution_count": null,
   "id": "9894b852",
   "metadata": {},
   "outputs": [],
   "source": [
    "#looking for usa_2014 dataframe\n",
    "usa_2019.head()"
   ]
  },
  {
   "cell_type": "code",
   "execution_count": null,
   "id": "90f84782",
   "metadata": {},
   "outputs": [],
   "source": [
    "#columns of 2014  dataframe\n",
    "usa_2019.columns"
   ]
  },
  {
   "cell_type": "code",
   "execution_count": null,
   "id": "45f03aa5",
   "metadata": {},
   "outputs": [],
   "source": [
    "#shape of the dataframe\n",
    "usa_2019.shape"
   ]
  },
  {
   "cell_type": "code",
   "execution_count": null,
   "id": "cfcbfa7e",
   "metadata": {},
   "outputs": [],
   "source": [
    "#removing the rows with house value less than 1\n",
    "usa_2019=(usa_2019[(usa_2019['House Value']>0)&\n",
    "                (usa_2019['Household Income']>0)&\n",
    "                (usa_2019['Monthly Owner Cost']>0)])"
   ]
  },
  {
   "cell_type": "code",
   "execution_count": null,
   "id": "3db23ae9",
   "metadata": {},
   "outputs": [],
   "source": [
    "#looking for null value\n",
    "usa_2019.isna().sum()"
   ]
  },
  {
   "cell_type": "code",
   "execution_count": null,
   "id": "98cce496",
   "metadata": {},
   "outputs": [],
   "source": [
    "#removing the rows with lat and lng missing value\n",
    "usa_2019.dropna(subset=['Lat', 'Lng','Housing_units','County', \n",
    "                        'Public Transport Rate','Personal Transport Rate'], \n",
    "                         inplace=True)"
   ]
  },
  {
   "cell_type": "code",
   "execution_count": null,
   "id": "8efdc5c5",
   "metadata": {},
   "outputs": [],
   "source": [
    "#shape of the clean dataframe\n",
    "usa_2019.shape"
   ]
  },
  {
   "cell_type": "code",
   "execution_count": null,
   "id": "558a0442",
   "metadata": {},
   "outputs": [],
   "source": [
    "usa_2019.info()"
   ]
  },
  {
   "cell_type": "code",
   "execution_count": null,
   "id": "ed9d333d",
   "metadata": {},
   "outputs": [],
   "source": [
    "usa_2019.drop(['Commute Time Car','Commute Time Public'], axis=1, inplace=True)"
   ]
  },
  {
   "cell_type": "code",
   "execution_count": null,
   "id": "bec2ea48",
   "metadata": {},
   "outputs": [],
   "source": []
  },
  {
   "cell_type": "code",
   "execution_count": null,
   "id": "6601bc36",
   "metadata": {},
   "outputs": [],
   "source": [
    "usa_2019.shape"
   ]
  },
  {
   "cell_type": "code",
   "execution_count": null,
   "id": "9bfb02a6",
   "metadata": {},
   "outputs": [],
   "source": [
    "#selecting only required columns\n",
    "usa_2019_redu=usa_2019[['Population', 'Median Age', 'Household Income',\n",
    "       'Per Capita Income', 'Poverty Rate', 'Unemployment Rate', 'House Value',\n",
    "       'House Construction Year', 'Monthly Owner Cost', 'Monthly Rent',\n",
    "       'Public Transport Rate', 'Personal Transport Rate',\n",
    "        'High School Rate',\n",
    "       'College Rate', 'Uneducated Rate', 'White Population Rate', 'Black Population Rate',\n",
    "       'Hispanic Population Rate', 'Asian Population Rate', 'City', \n",
    "       'Lat', 'Lng', 'Housing_units']]"
   ]
  },
  {
   "cell_type": "code",
   "execution_count": null,
   "id": "91ec9c70",
   "metadata": {},
   "outputs": [],
   "source": [
    "#saving csv file for machine learning\n",
    "#usa_2019_redu.to_csv('output_census/usa_2019_ml.csv', index=False)"
   ]
  },
  {
   "cell_type": "markdown",
   "id": "d52f73dc",
   "metadata": {},
   "source": [
    "## 2019 California census data"
   ]
  },
  {
   "cell_type": "code",
   "execution_count": 44,
   "id": "7a98a549",
   "metadata": {},
   "outputs": [],
   "source": [
    "#reading 2019 combined california census data\n",
    "path_ca_2019=os.path.join('output_census', 'census_ca_2019.csv')\n",
    "ca_2019=pd.read_csv(path_ca_2019)"
   ]
  },
  {
   "cell_type": "code",
   "execution_count": 45,
   "id": "5d62d832",
   "metadata": {},
   "outputs": [
    {
     "data": {
      "text/html": [
       "<div>\n",
       "<style scoped>\n",
       "    .dataframe tbody tr th:only-of-type {\n",
       "        vertical-align: middle;\n",
       "    }\n",
       "\n",
       "    .dataframe tbody tr th {\n",
       "        vertical-align: top;\n",
       "    }\n",
       "\n",
       "    .dataframe thead th {\n",
       "        text-align: right;\n",
       "    }\n",
       "</style>\n",
       "<table border=\"1\" class=\"dataframe\">\n",
       "  <thead>\n",
       "    <tr style=\"text-align: right;\">\n",
       "      <th></th>\n",
       "      <th>Zipcode</th>\n",
       "      <th>Population</th>\n",
       "      <th>Median Age</th>\n",
       "      <th>Household Income</th>\n",
       "      <th>Per Capita Income</th>\n",
       "      <th>Poverty Rate</th>\n",
       "      <th>Unemployment Rate</th>\n",
       "      <th>House Value</th>\n",
       "      <th>House Construction Year</th>\n",
       "      <th>Monthly Owner Cost</th>\n",
       "      <th>...</th>\n",
       "      <th>White Population Rate</th>\n",
       "      <th>Black Population Rate</th>\n",
       "      <th>Hispanic Population Rate</th>\n",
       "      <th>Asian Population Rate</th>\n",
       "      <th>City</th>\n",
       "      <th>County</th>\n",
       "      <th>Lat</th>\n",
       "      <th>Lng</th>\n",
       "      <th>Housing_units</th>\n",
       "      <th>State</th>\n",
       "    </tr>\n",
       "  </thead>\n",
       "  <tbody>\n",
       "    <tr>\n",
       "      <th>0</th>\n",
       "      <td>90001</td>\n",
       "      <td>59832.0</td>\n",
       "      <td>29.1</td>\n",
       "      <td>43360.0</td>\n",
       "      <td>13727.0</td>\n",
       "      <td>25.496390</td>\n",
       "      <td>3.929335</td>\n",
       "      <td>359000.0</td>\n",
       "      <td>1949</td>\n",
       "      <td>1853.0</td>\n",
       "      <td>...</td>\n",
       "      <td>41.882270</td>\n",
       "      <td>8.921647</td>\n",
       "      <td>90.134042</td>\n",
       "      <td>0.315884</td>\n",
       "      <td>Los Angeles</td>\n",
       "      <td>Los Angeles County</td>\n",
       "      <td>33.97</td>\n",
       "      <td>-118.25</td>\n",
       "      <td>13788.0</td>\n",
       "      <td>CA</td>\n",
       "    </tr>\n",
       "    <tr>\n",
       "      <th>1</th>\n",
       "      <td>90002</td>\n",
       "      <td>53302.0</td>\n",
       "      <td>28.0</td>\n",
       "      <td>37285.0</td>\n",
       "      <td>13284.0</td>\n",
       "      <td>31.188323</td>\n",
       "      <td>4.110540</td>\n",
       "      <td>345900.0</td>\n",
       "      <td>1954</td>\n",
       "      <td>1813.0</td>\n",
       "      <td>...</td>\n",
       "      <td>42.973997</td>\n",
       "      <td>18.912986</td>\n",
       "      <td>78.886346</td>\n",
       "      <td>1.029980</td>\n",
       "      <td>Los Angeles</td>\n",
       "      <td>Los Angeles County</td>\n",
       "      <td>33.95</td>\n",
       "      <td>-118.25</td>\n",
       "      <td>12598.0</td>\n",
       "      <td>CA</td>\n",
       "    </tr>\n",
       "    <tr>\n",
       "      <th>2</th>\n",
       "      <td>90003</td>\n",
       "      <td>73730.0</td>\n",
       "      <td>28.3</td>\n",
       "      <td>40598.0</td>\n",
       "      <td>13441.0</td>\n",
       "      <td>29.959311</td>\n",
       "      <td>4.002441</td>\n",
       "      <td>362800.0</td>\n",
       "      <td>1954</td>\n",
       "      <td>1892.0</td>\n",
       "      <td>...</td>\n",
       "      <td>33.116777</td>\n",
       "      <td>20.676794</td>\n",
       "      <td>78.348027</td>\n",
       "      <td>0.297030</td>\n",
       "      <td>Los Angeles</td>\n",
       "      <td>Los Angeles County</td>\n",
       "      <td>33.96</td>\n",
       "      <td>-118.27</td>\n",
       "      <td>17127.0</td>\n",
       "      <td>CA</td>\n",
       "    </tr>\n",
       "    <tr>\n",
       "      <th>3</th>\n",
       "      <td>90004</td>\n",
       "      <td>60541.0</td>\n",
       "      <td>35.2</td>\n",
       "      <td>49675.0</td>\n",
       "      <td>32090.0</td>\n",
       "      <td>17.784642</td>\n",
       "      <td>2.685783</td>\n",
       "      <td>1063200.0</td>\n",
       "      <td>1946</td>\n",
       "      <td>3489.0</td>\n",
       "      <td>...</td>\n",
       "      <td>35.676649</td>\n",
       "      <td>3.614080</td>\n",
       "      <td>50.289886</td>\n",
       "      <td>25.465387</td>\n",
       "      <td>Los Angeles</td>\n",
       "      <td>Los Angeles County</td>\n",
       "      <td>34.08</td>\n",
       "      <td>-118.31</td>\n",
       "      <td>24278.0</td>\n",
       "      <td>CA</td>\n",
       "    </tr>\n",
       "    <tr>\n",
       "      <th>4</th>\n",
       "      <td>90005</td>\n",
       "      <td>39732.0</td>\n",
       "      <td>35.6</td>\n",
       "      <td>38491.0</td>\n",
       "      <td>24267.0</td>\n",
       "      <td>25.999195</td>\n",
       "      <td>3.289540</td>\n",
       "      <td>777100.0</td>\n",
       "      <td>1950</td>\n",
       "      <td>3149.0</td>\n",
       "      <td>...</td>\n",
       "      <td>23.336354</td>\n",
       "      <td>5.763616</td>\n",
       "      <td>49.481526</td>\n",
       "      <td>34.221786</td>\n",
       "      <td>Los Angeles</td>\n",
       "      <td>Los Angeles County</td>\n",
       "      <td>34.06</td>\n",
       "      <td>-118.31</td>\n",
       "      <td>16345.0</td>\n",
       "      <td>CA</td>\n",
       "    </tr>\n",
       "  </tbody>\n",
       "</table>\n",
       "<p>5 rows × 30 columns</p>\n",
       "</div>"
      ],
      "text/plain": [
       "   Zipcode  Population  Median Age  Household Income  Per Capita Income  \\\n",
       "0    90001     59832.0        29.1           43360.0            13727.0   \n",
       "1    90002     53302.0        28.0           37285.0            13284.0   \n",
       "2    90003     73730.0        28.3           40598.0            13441.0   \n",
       "3    90004     60541.0        35.2           49675.0            32090.0   \n",
       "4    90005     39732.0        35.6           38491.0            24267.0   \n",
       "\n",
       "   Poverty Rate  Unemployment Rate  House Value  House Construction Year  \\\n",
       "0     25.496390           3.929335     359000.0                     1949   \n",
       "1     31.188323           4.110540     345900.0                     1954   \n",
       "2     29.959311           4.002441     362800.0                     1954   \n",
       "3     17.784642           2.685783    1063200.0                     1946   \n",
       "4     25.999195           3.289540     777100.0                     1950   \n",
       "\n",
       "   Monthly Owner Cost  ...  White Population Rate  Black Population Rate  \\\n",
       "0              1853.0  ...              41.882270               8.921647   \n",
       "1              1813.0  ...              42.973997              18.912986   \n",
       "2              1892.0  ...              33.116777              20.676794   \n",
       "3              3489.0  ...              35.676649               3.614080   \n",
       "4              3149.0  ...              23.336354               5.763616   \n",
       "\n",
       "   Hispanic Population Rate  Asian Population Rate         City  \\\n",
       "0                 90.134042               0.315884  Los Angeles   \n",
       "1                 78.886346               1.029980  Los Angeles   \n",
       "2                 78.348027               0.297030  Los Angeles   \n",
       "3                 50.289886              25.465387  Los Angeles   \n",
       "4                 49.481526              34.221786  Los Angeles   \n",
       "\n",
       "               County    Lat     Lng  Housing_units  State  \n",
       "0  Los Angeles County  33.97 -118.25        13788.0     CA  \n",
       "1  Los Angeles County  33.95 -118.25        12598.0     CA  \n",
       "2  Los Angeles County  33.96 -118.27        17127.0     CA  \n",
       "3  Los Angeles County  34.08 -118.31        24278.0     CA  \n",
       "4  Los Angeles County  34.06 -118.31        16345.0     CA  \n",
       "\n",
       "[5 rows x 30 columns]"
      ]
     },
     "execution_count": 45,
     "metadata": {},
     "output_type": "execute_result"
    }
   ],
   "source": [
    "#looking for usa_2019 dataframe\n",
    "ca_2019.head()"
   ]
  },
  {
   "cell_type": "code",
   "execution_count": 46,
   "id": "b01fa482",
   "metadata": {},
   "outputs": [
    {
     "data": {
      "text/plain": [
       "Index(['Zipcode', 'Population', 'Median Age', 'Household Income',\n",
       "       'Per Capita Income', 'Poverty Rate', 'Unemployment Rate', 'House Value',\n",
       "       'House Construction Year', 'Monthly Owner Cost', 'Monthly Rent',\n",
       "       'Public Transport Rate', 'Personal Transport Rate',\n",
       "       'Commute Time Public', 'Commute Time Car', 'High School Rate',\n",
       "       'College Rate', 'Uneducated Rate', 'English Language',\n",
       "       'Spanish Language', 'White Population Rate', 'Black Population Rate',\n",
       "       'Hispanic Population Rate', 'Asian Population Rate', 'City', 'County',\n",
       "       'Lat', 'Lng', 'Housing_units', 'State'],\n",
       "      dtype='object')"
      ]
     },
     "execution_count": 46,
     "metadata": {},
     "output_type": "execute_result"
    }
   ],
   "source": [
    "#columns of 2019  dataframe\n",
    "ca_2019.columns"
   ]
  },
  {
   "cell_type": "code",
   "execution_count": 47,
   "id": "05f5ad93",
   "metadata": {},
   "outputs": [
    {
     "data": {
      "text/plain": [
       "(1763, 30)"
      ]
     },
     "execution_count": 47,
     "metadata": {},
     "output_type": "execute_result"
    }
   ],
   "source": [
    "#shape of the dataframe\n",
    "ca_2019.shape"
   ]
  },
  {
   "cell_type": "code",
   "execution_count": 48,
   "id": "3f471aa4",
   "metadata": {},
   "outputs": [],
   "source": [
    "#removing the rows with house value less than 1\n",
    "ca_2019=(ca_2019[(ca_2019['House Value']>0)&\n",
    "                (ca_2019['Household Income']>0)&\n",
    "                (ca_2019['Monthly Owner Cost']>0)])"
   ]
  },
  {
   "cell_type": "code",
   "execution_count": 49,
   "id": "b5385366",
   "metadata": {},
   "outputs": [
    {
     "data": {
      "text/plain": [
       "Zipcode                        0\n",
       "Population                     0\n",
       "Median Age                     0\n",
       "Household Income               0\n",
       "Per Capita Income              0\n",
       "Poverty Rate                   0\n",
       "Unemployment Rate              0\n",
       "House Value                    0\n",
       "House Construction Year        0\n",
       "Monthly Owner Cost             0\n",
       "Monthly Rent                   0\n",
       "Public Transport Rate          0\n",
       "Personal Transport Rate        0\n",
       "Commute Time Public          879\n",
       "Commute Time Car             879\n",
       "High School Rate               0\n",
       "College Rate                   0\n",
       "Uneducated Rate                0\n",
       "English Language            1524\n",
       "Spanish Language            1524\n",
       "White Population Rate          0\n",
       "Black Population Rate          0\n",
       "Hispanic Population Rate       0\n",
       "Asian Population Rate          0\n",
       "City                           0\n",
       "County                         0\n",
       "Lat                            0\n",
       "Lng                            0\n",
       "Housing_units                  0\n",
       "State                          0\n",
       "dtype: int64"
      ]
     },
     "execution_count": 49,
     "metadata": {},
     "output_type": "execute_result"
    }
   ],
   "source": [
    "#looking for null value\n",
    "ca_2019.isna().sum()"
   ]
  },
  {
   "cell_type": "code",
   "execution_count": null,
   "id": "f0b2f8ba",
   "metadata": {},
   "outputs": [],
   "source": [
    "#removing the rows with lat and lng missing value\n"
   ]
  },
  {
   "cell_type": "code",
   "execution_count": 50,
   "id": "f44939f0",
   "metadata": {},
   "outputs": [],
   "source": [
    "#filling nan to zero for commute time public and commute time car columns\n",
    "ca_2019[['Commute Time Public', 'Commute Time Car' ]]=ca_2019[['Commute Time Public', 'Commute Time Car' ]].fillna(0)"
   ]
  },
  {
   "cell_type": "code",
   "execution_count": 51,
   "id": "ef39221a",
   "metadata": {},
   "outputs": [
    {
     "data": {
      "text/plain": [
       "(1524, 30)"
      ]
     },
     "execution_count": 51,
     "metadata": {},
     "output_type": "execute_result"
    }
   ],
   "source": [
    "#shape of the clean dataframe\n",
    "ca_2019.shape"
   ]
  },
  {
   "cell_type": "code",
   "execution_count": 52,
   "id": "7c49b5e4",
   "metadata": {},
   "outputs": [],
   "source": [
    "#saving csv file for plotting\n",
    "#ca_2019.to_csv('output_census/ca_2019_fg.csv', index=False)"
   ]
  },
  {
   "cell_type": "code",
   "execution_count": null,
   "id": "80f8f60a",
   "metadata": {},
   "outputs": [],
   "source": [
    "#saving csv file for machine learning\n",
    "#ca_19.to_csv('output_census/ca_2019_ml.csv', index=False)"
   ]
  }
 ],
 "metadata": {
  "kernelspec": {
   "display_name": "Python 3 (ipykernel)",
   "language": "python",
   "name": "python3"
  },
  "language_info": {
   "codemirror_mode": {
    "name": "ipython",
    "version": 3
   },
   "file_extension": ".py",
   "mimetype": "text/x-python",
   "name": "python",
   "nbconvert_exporter": "python",
   "pygments_lexer": "ipython3",
   "version": "3.8.10"
  }
 },
 "nbformat": 4,
 "nbformat_minor": 5
}
