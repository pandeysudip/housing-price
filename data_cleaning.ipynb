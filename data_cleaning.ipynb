{
 "cells": [
  {
   "cell_type": "code",
   "execution_count": null,
   "id": "016388f5",
   "metadata": {},
   "outputs": [],
   "source": [
    "# Dependencies and Setup\n",
    "import pandas as pd\n",
    "import matplotlib.pyplot as plt\n",
    "import seaborn as sns\n",
    "import numpy as np\n",
    "from matplotlib import rcParams\n",
    "import scipy.stats as sts\n",
    "import os\n",
    "from collections import Counter\n",
    "import requests\n",
    "import json\n",
    "\n",
    "# Google API Key\n",
    "from api_keys import gkey"
   ]
  },
  {
   "cell_type": "code",
   "execution_count": null,
   "id": "837260bd",
   "metadata": {},
   "outputs": [],
   "source": [
    "#setting background of figure black\n",
    "plt.style.use('ggplot')"
   ]
  },
  {
   "cell_type": "code",
   "execution_count": null,
   "id": "90a822ca",
   "metadata": {},
   "outputs": [],
   "source": [
    "#Set Fonts/Plot Style\n",
    "rcParams['figure.figsize'] = [15.0, 10.0]\n",
    "rcParams['figure.dpi'] = 80\n",
    "rcParams['savefig.dpi'] = 100\n",
    "rcParams['font.size'] = 20\n",
    "rcParams['legend.fontsize'] = 'large'\n",
    "rcParams['figure.titlesize'] = 'medium'\n",
    "rcParams['font.family'] = 'sans-serif'\n",
    "rcParams['font.sans-serif'] = ['Arial']\n",
    "rcParams['xtick.direction'] = 'in'\n",
    "rcParams['ytick.direction'] = 'in'\n",
    "rcParams['xtick.top'] = True\n",
    "rcParams['ytick.right'] = True\n",
    "rcParams['xtick.major.size'] = 10\n",
    "rcParams['ytick.major.size'] = 10\n",
    "rcParams['xtick.minor.size'] = 5\n",
    "rcParams['ytick.minor.size'] = 5\n",
    "rcParams['xtick.minor.visible'] = True\n",
    "rcParams['ytick.minor.visible'] = True"
   ]
  },
  {
   "cell_type": "markdown",
   "id": "1a65acb3",
   "metadata": {},
   "source": [
    "## Looking for 2012 US census data"
   ]
  },
  {
   "cell_type": "code",
   "execution_count": null,
   "id": "960a1833",
   "metadata": {},
   "outputs": [],
   "source": [
    "# 2012 census data for all US zipcodes\n",
    "#reading 2012 combined census data\n",
    "path_comb_2012=os.path.join('output_census', 'census_comb_2012.csv')\n",
    "usa_2012=pd.read_csv(path_comb_2012)"
   ]
  },
  {
   "cell_type": "code",
   "execution_count": null,
   "id": "29b44746",
   "metadata": {},
   "outputs": [],
   "source": [
    "#looking for usa_2012 dataframe\n",
    "usa_2012.head()"
   ]
  },
  {
   "cell_type": "code",
   "execution_count": null,
   "id": "c60149c5",
   "metadata": {},
   "outputs": [],
   "source": [
    "#columns of 2012  dataframe\n",
    "usa_2012.columns"
   ]
  },
  {
   "cell_type": "code",
   "execution_count": null,
   "id": "6ba0d90e",
   "metadata": {},
   "outputs": [],
   "source": [
    "#shape of the dataframe\n",
    "usa_2012.shape"
   ]
  },
  {
   "cell_type": "code",
   "execution_count": null,
   "id": "762b7ae8",
   "metadata": {},
   "outputs": [],
   "source": [
    "#removing the rows with house value less than 1\n",
    "usa_2012=usa_2012[usa_2012['House Value']>0]"
   ]
  },
  {
   "cell_type": "code",
   "execution_count": null,
   "id": "b4aee259",
   "metadata": {},
   "outputs": [],
   "source": [
    "#looking for null value\n",
    "usa_2012.isna().sum()"
   ]
  },
  {
   "cell_type": "code",
   "execution_count": null,
   "id": "c57e12cd",
   "metadata": {},
   "outputs": [],
   "source": [
    "#removing the rows with lat and lng missing value\n",
    "usa_2012.dropna(subset=['Lat', 'Lng', \n",
    "                        'Public Transport Rate','Personal Transport Rate'], \n",
    "                         inplace=True)"
   ]
  },
  {
   "cell_type": "code",
   "execution_count": null,
   "id": "e0459953",
   "metadata": {},
   "outputs": [],
   "source": [
    "#shape of the clean dataframe\n",
    "usa_2012.shape"
   ]
  },
  {
   "cell_type": "code",
   "execution_count": null,
   "id": "022902c5",
   "metadata": {},
   "outputs": [],
   "source": [
    "#info of the dataframe\n",
    "usa_2012.info()"
   ]
  },
  {
   "cell_type": "code",
   "execution_count": null,
   "id": "2936cfe7",
   "metadata": {},
   "outputs": [],
   "source": [
    "#describing the dataframe\n",
    "usa_2012.describe()"
   ]
  },
  {
   "cell_type": "code",
   "execution_count": null,
   "id": "f2d861c1",
   "metadata": {},
   "outputs": [],
   "source": []
  },
  {
   "cell_type": "code",
   "execution_count": null,
   "id": "79ed416c",
   "metadata": {},
   "outputs": [],
   "source": []
  },
  {
   "cell_type": "markdown",
   "id": "00cac249",
   "metadata": {},
   "source": [
    "## Looking for 2012 California census data"
   ]
  },
  {
   "cell_type": "code",
   "execution_count": null,
   "id": "479e0b65",
   "metadata": {},
   "outputs": [],
   "source": [
    "#reading 2012 combined california census data\n",
    "path_ca_2012=os.path.join('output_census', 'census_ca_2012.csv')\n",
    "ca_2012=pd.read_csv(path_ca_2012)"
   ]
  },
  {
   "cell_type": "code",
   "execution_count": null,
   "id": "6404ce13",
   "metadata": {},
   "outputs": [],
   "source": []
  },
  {
   "cell_type": "markdown",
   "id": "a666ec1b",
   "metadata": {},
   "source": [
    "## Looking for 2014 US census data"
   ]
  },
  {
   "cell_type": "code",
   "execution_count": null,
   "id": "c954e656",
   "metadata": {},
   "outputs": [],
   "source": [
    "# 2014 census data for all US zipcodes\n",
    "#reading 2014 combined census data\n",
    "path_comb_2014=os.path.join('output_census', 'census_comb_2014.csv')\n",
    "usa_2014=pd.read_csv(path_comb_2014)"
   ]
  },
  {
   "cell_type": "code",
   "execution_count": null,
   "id": "15e22472",
   "metadata": {},
   "outputs": [],
   "source": [
    "#looking for usa_2014 dataframe\n",
    "usa_2014.head()"
   ]
  },
  {
   "cell_type": "code",
   "execution_count": null,
   "id": "d90b59c5",
   "metadata": {},
   "outputs": [],
   "source": [
    "#columns of 2014  dataframe\n",
    "usa_2014.columns"
   ]
  },
  {
   "cell_type": "code",
   "execution_count": null,
   "id": "8f1cb97b",
   "metadata": {},
   "outputs": [],
   "source": [
    "#shape of the dataframe\n",
    "usa_2014.shape"
   ]
  },
  {
   "cell_type": "code",
   "execution_count": null,
   "id": "72b4575e",
   "metadata": {},
   "outputs": [],
   "source": [
    "#removing the rows with house value less than 1\n",
    "usa_2014=usa_2014[usa_2014['House Value']>0]"
   ]
  },
  {
   "cell_type": "code",
   "execution_count": null,
   "id": "b3dad5a8",
   "metadata": {},
   "outputs": [],
   "source": [
    "#looking for null value\n",
    "usa_2014.isna().sum()"
   ]
  },
  {
   "cell_type": "code",
   "execution_count": null,
   "id": "977f06c4",
   "metadata": {},
   "outputs": [],
   "source": [
    "#removing the rows with lat and lng missing value\n",
    "usa_2014.dropna(subset=['Lat', 'Lng', \n",
    "                        'Public Transport Rate','Personal Transport Rate'], \n",
    "                         inplace=True)"
   ]
  },
  {
   "cell_type": "code",
   "execution_count": null,
   "id": "104b3a1a",
   "metadata": {},
   "outputs": [],
   "source": [
    "#shape of the clean dataframe\n",
    "usa_2014.shape"
   ]
  },
  {
   "cell_type": "code",
   "execution_count": null,
   "id": "a1ddbce0",
   "metadata": {},
   "outputs": [],
   "source": [
    "#info of the dataframe\n",
    "usa_2014.info()"
   ]
  },
  {
   "cell_type": "code",
   "execution_count": null,
   "id": "e3beb76d",
   "metadata": {},
   "outputs": [],
   "source": [
    "#describing the dataframe\n",
    "usa_2014.describe()"
   ]
  },
  {
   "cell_type": "code",
   "execution_count": null,
   "id": "709bacd2",
   "metadata": {},
   "outputs": [],
   "source": []
  },
  {
   "cell_type": "code",
   "execution_count": null,
   "id": "d92a5f12",
   "metadata": {},
   "outputs": [],
   "source": []
  },
  {
   "cell_type": "markdown",
   "id": "e1688afa",
   "metadata": {},
   "source": [
    "## Looking for 2014 California census data"
   ]
  },
  {
   "cell_type": "code",
   "execution_count": null,
   "id": "239b70b5",
   "metadata": {},
   "outputs": [],
   "source": [
    "#reading 2014 combined california census data\n",
    "path_ca_2014=os.path.join('output_census', 'census_ca_2014.csv')\n",
    "ca_2014=pd.read_csv(path_ca_2014)"
   ]
  },
  {
   "cell_type": "code",
   "execution_count": null,
   "id": "0c7034a9",
   "metadata": {},
   "outputs": [],
   "source": []
  },
  {
   "cell_type": "code",
   "execution_count": null,
   "id": "543e3220",
   "metadata": {},
   "outputs": [],
   "source": []
  },
  {
   "cell_type": "code",
   "execution_count": null,
   "id": "41f43cbd",
   "metadata": {},
   "outputs": [],
   "source": []
  },
  {
   "cell_type": "code",
   "execution_count": null,
   "id": "9b5d353e",
   "metadata": {},
   "outputs": [],
   "source": []
  },
  {
   "cell_type": "code",
   "execution_count": null,
   "id": "a7fa9b2a",
   "metadata": {},
   "outputs": [],
   "source": []
  },
  {
   "cell_type": "code",
   "execution_count": null,
   "id": "1df2f155",
   "metadata": {},
   "outputs": [],
   "source": []
  },
  {
   "cell_type": "markdown",
   "id": "4b8c6d83",
   "metadata": {},
   "source": [
    "## Looking for 2015 US census data"
   ]
  },
  {
   "cell_type": "code",
   "execution_count": null,
   "id": "faac9329",
   "metadata": {},
   "outputs": [],
   "source": [
    "# 2015 census data for all US zipcodes\n",
    "#reading 2015 combined census data\n",
    "path_comb_2015=os.path.join('output_census', 'census_comb_2015.csv')\n",
    "usa_2015=pd.read_csv(path_comb_2015)"
   ]
  },
  {
   "cell_type": "code",
   "execution_count": null,
   "id": "73102ba4",
   "metadata": {},
   "outputs": [],
   "source": [
    "#looking for usa_2015 dataframe\n",
    "usa_2015.head()"
   ]
  },
  {
   "cell_type": "code",
   "execution_count": null,
   "id": "7deabccb",
   "metadata": {},
   "outputs": [],
   "source": [
    "#columns of 2015  dataframe\n",
    "usa_2015.columns"
   ]
  },
  {
   "cell_type": "code",
   "execution_count": null,
   "id": "4ac1b3fe",
   "metadata": {},
   "outputs": [],
   "source": [
    "#shape of the dataframe\n",
    "usa_2015.shape"
   ]
  },
  {
   "cell_type": "code",
   "execution_count": null,
   "id": "6757e15d",
   "metadata": {},
   "outputs": [],
   "source": [
    "#removing the rows with house value less than 1\n",
    "usa_2015=usa_2015[usa_2015['House Value']>0]"
   ]
  },
  {
   "cell_type": "code",
   "execution_count": null,
   "id": "dcd3ad9f",
   "metadata": {},
   "outputs": [],
   "source": [
    "#looking for null value\n",
    "usa_2015.isna().sum()"
   ]
  },
  {
   "cell_type": "code",
   "execution_count": null,
   "id": "b48baa39",
   "metadata": {},
   "outputs": [],
   "source": [
    "#removing the rows with lat and lng missing value\n",
    "usa_2015.dropna(subset=['Lat', 'Lng', \n",
    "                        'Public Transport Rate','Personal Transport Rate'], \n",
    "                         inplace=True)"
   ]
  },
  {
   "cell_type": "code",
   "execution_count": null,
   "id": "2dfeb457",
   "metadata": {},
   "outputs": [],
   "source": [
    "#shape of the clean dataframe\n",
    "usa_2015.shape"
   ]
  },
  {
   "cell_type": "code",
   "execution_count": null,
   "id": "a7f52bb1",
   "metadata": {},
   "outputs": [],
   "source": [
    "#info of the dataframe\n",
    "usa_2015.info()"
   ]
  },
  {
   "cell_type": "code",
   "execution_count": null,
   "id": "dc9ec88a",
   "metadata": {},
   "outputs": [],
   "source": [
    "#describing the dataframe\n",
    "usa_2015.describe()"
   ]
  },
  {
   "cell_type": "code",
   "execution_count": null,
   "id": "9619b1e8",
   "metadata": {},
   "outputs": [],
   "source": []
  },
  {
   "cell_type": "code",
   "execution_count": null,
   "id": "1f05ea68",
   "metadata": {},
   "outputs": [],
   "source": []
  },
  {
   "cell_type": "markdown",
   "id": "8f504bf7",
   "metadata": {},
   "source": [
    "## Looking for 2015 California census data"
   ]
  },
  {
   "cell_type": "code",
   "execution_count": null,
   "id": "391445c0",
   "metadata": {},
   "outputs": [],
   "source": [
    "#reading 2015 combined california census data\n",
    "path_ca_2015=os.path.join('output_census', 'census_ca_2015.csv')\n",
    "ca_2015=pd.read_csv(path_ca_2015)"
   ]
  },
  {
   "cell_type": "code",
   "execution_count": null,
   "id": "fadfba2a",
   "metadata": {},
   "outputs": [],
   "source": []
  },
  {
   "cell_type": "code",
   "execution_count": null,
   "id": "4086f0a2",
   "metadata": {},
   "outputs": [],
   "source": []
  },
  {
   "cell_type": "code",
   "execution_count": null,
   "id": "110ede72",
   "metadata": {},
   "outputs": [],
   "source": []
  },
  {
   "cell_type": "code",
   "execution_count": null,
   "id": "ae3c391f",
   "metadata": {},
   "outputs": [],
   "source": []
  },
  {
   "cell_type": "code",
   "execution_count": null,
   "id": "bd4e9e04",
   "metadata": {},
   "outputs": [],
   "source": []
  },
  {
   "cell_type": "markdown",
   "id": "3b8625df",
   "metadata": {},
   "source": [
    "## Looking for 2017 US census data"
   ]
  },
  {
   "cell_type": "code",
   "execution_count": null,
   "id": "e07b871b",
   "metadata": {},
   "outputs": [],
   "source": [
    "# 2017 census data for all US zipcodes\n",
    "#reading 2017 combined census data\n",
    "path_comb_2017=os.path.join('output_census', 'census_comb_2017.csv')\n",
    "usa_2017=pd.read_csv(path_comb_2017)"
   ]
  },
  {
   "cell_type": "code",
   "execution_count": null,
   "id": "bb26af57",
   "metadata": {},
   "outputs": [],
   "source": [
    "#looking for usa_2017 dataframe\n",
    "usa_2017.head()"
   ]
  },
  {
   "cell_type": "code",
   "execution_count": null,
   "id": "1cf1a3f3",
   "metadata": {},
   "outputs": [],
   "source": [
    "#columns of 20147  dataframe\n",
    "usa_2017.columns"
   ]
  },
  {
   "cell_type": "code",
   "execution_count": null,
   "id": "4dc348c1",
   "metadata": {},
   "outputs": [],
   "source": [
    "#shape of the dataframe\n",
    "usa_2017.shape"
   ]
  },
  {
   "cell_type": "code",
   "execution_count": null,
   "id": "b2785cde",
   "metadata": {},
   "outputs": [],
   "source": [
    "#removing the rows with house value less than 1\n",
    "usa_2017=usa_2017[usa_2017['House Value']>0]"
   ]
  },
  {
   "cell_type": "code",
   "execution_count": null,
   "id": "133a3130",
   "metadata": {},
   "outputs": [],
   "source": [
    "#looking for null value\n",
    "usa_2017.isna().sum()"
   ]
  },
  {
   "cell_type": "code",
   "execution_count": null,
   "id": "215785cf",
   "metadata": {},
   "outputs": [],
   "source": [
    "#removing the rows with lat and lng missing value\n",
    "usa_2017.dropna(subset=['Lat', 'Lng', \n",
    "                        'Public Transport Rate','Personal Transport Rate'], \n",
    "                         inplace=True)"
   ]
  },
  {
   "cell_type": "code",
   "execution_count": null,
   "id": "1e2c63a7",
   "metadata": {},
   "outputs": [],
   "source": [
    "#shape of the clean dataframe\n",
    "usa_2017.shape"
   ]
  },
  {
   "cell_type": "code",
   "execution_count": null,
   "id": "24ece2b3",
   "metadata": {},
   "outputs": [],
   "source": [
    "#info of the dataframe\n",
    "usa_2017.info()"
   ]
  },
  {
   "cell_type": "code",
   "execution_count": null,
   "id": "a0a4dbf6",
   "metadata": {},
   "outputs": [],
   "source": [
    "#describing the dataframe\n",
    "usa_2017.describe()"
   ]
  },
  {
   "cell_type": "code",
   "execution_count": null,
   "id": "a4eb47dc",
   "metadata": {},
   "outputs": [],
   "source": []
  },
  {
   "cell_type": "code",
   "execution_count": null,
   "id": "5ba4fdc2",
   "metadata": {},
   "outputs": [],
   "source": []
  },
  {
   "cell_type": "markdown",
   "id": "52c27273",
   "metadata": {},
   "source": [
    "## Looking for 2017 California census data"
   ]
  },
  {
   "cell_type": "code",
   "execution_count": null,
   "id": "2d359e6e",
   "metadata": {},
   "outputs": [],
   "source": [
    "#reading 2017 combined california census data\n",
    "path_ca_2017=os.path.join('output_census', 'census_ca_2017.csv')\n",
    "ca_2017=pd.read_csv(path_ca_2017)"
   ]
  },
  {
   "cell_type": "code",
   "execution_count": null,
   "id": "dfa528a2",
   "metadata": {},
   "outputs": [],
   "source": []
  },
  {
   "cell_type": "code",
   "execution_count": null,
   "id": "f529c83b",
   "metadata": {},
   "outputs": [],
   "source": []
  },
  {
   "cell_type": "code",
   "execution_count": null,
   "id": "bc0be39e",
   "metadata": {},
   "outputs": [],
   "source": []
  },
  {
   "cell_type": "code",
   "execution_count": null,
   "id": "2486e474",
   "metadata": {},
   "outputs": [],
   "source": []
  },
  {
   "cell_type": "code",
   "execution_count": null,
   "id": "aabdc743",
   "metadata": {},
   "outputs": [],
   "source": []
  },
  {
   "cell_type": "code",
   "execution_count": null,
   "id": "2153c3af",
   "metadata": {},
   "outputs": [],
   "source": []
  },
  {
   "cell_type": "markdown",
   "id": "ef2d55b9",
   "metadata": {},
   "source": [
    "## Looking for 2019 US census data"
   ]
  },
  {
   "cell_type": "code",
   "execution_count": null,
   "id": "0c38e256",
   "metadata": {},
   "outputs": [],
   "source": [
    "# 2019 census data for all US zipcodes\n",
    "#reading 2019 combined census data\n",
    "path_comb_2019=os.path.join('output_census', 'census_comb_2019.csv')\n",
    "usa_2019=pd.read_csv(path_comb_2019)"
   ]
  },
  {
   "cell_type": "code",
   "execution_count": null,
   "id": "c5036e76",
   "metadata": {},
   "outputs": [],
   "source": [
    "#looking for usa_2014 dataframe\n",
    "usa_2019.head()"
   ]
  },
  {
   "cell_type": "code",
   "execution_count": null,
   "id": "31a00951",
   "metadata": {},
   "outputs": [],
   "source": [
    "#columns of 2014  dataframe\n",
    "usa_2019.columns"
   ]
  },
  {
   "cell_type": "code",
   "execution_count": null,
   "id": "2c303bb6",
   "metadata": {},
   "outputs": [],
   "source": [
    "#shape of the dataframe\n",
    "usa_2019.shape"
   ]
  },
  {
   "cell_type": "code",
   "execution_count": null,
   "id": "578cd4bc",
   "metadata": {},
   "outputs": [],
   "source": [
    "#removing the rows with house value less than 1\n",
    "usa_2019=usa_2019[usa_2019['House Value']>0]"
   ]
  },
  {
   "cell_type": "code",
   "execution_count": null,
   "id": "9b18d838",
   "metadata": {},
   "outputs": [],
   "source": [
    "#looking for null value\n",
    "usa_2019.isna().sum()"
   ]
  },
  {
   "cell_type": "code",
   "execution_count": null,
   "id": "48c64100",
   "metadata": {},
   "outputs": [],
   "source": [
    "#removing the rows with lat and lng missing value\n",
    "usa_2019.dropna(subset=['Lat', 'Lng', \n",
    "                        'Public Transport Rate','Personal Transport Rate'], \n",
    "                         inplace=True)"
   ]
  },
  {
   "cell_type": "code",
   "execution_count": null,
   "id": "28dc2cba",
   "metadata": {},
   "outputs": [],
   "source": [
    "#shape of the clean dataframe\n",
    "usa_2019.shape"
   ]
  },
  {
   "cell_type": "code",
   "execution_count": null,
   "id": "ea005133",
   "metadata": {},
   "outputs": [],
   "source": [
    "#info of the dataframe\n",
    "usa_2019.info()"
   ]
  },
  {
   "cell_type": "code",
   "execution_count": null,
   "id": "673fb8fc",
   "metadata": {},
   "outputs": [],
   "source": [
    "#describing the dataframe\n",
    "usa_2019.describe()"
   ]
  },
  {
   "cell_type": "code",
   "execution_count": null,
   "id": "e6585718",
   "metadata": {},
   "outputs": [],
   "source": []
  },
  {
   "cell_type": "markdown",
   "id": "e0b44f71",
   "metadata": {},
   "source": [
    "## Looking for 2019 California census data"
   ]
  },
  {
   "cell_type": "code",
   "execution_count": null,
   "id": "26d59c7a",
   "metadata": {},
   "outputs": [],
   "source": [
    "#reading 2019 combined california census data\n",
    "path_ca_2019=os.path.join('output_census', 'census_ca_2019.csv')\n",
    "ca_2019=pd.read_csv(path_ca_2019)"
   ]
  },
  {
   "cell_type": "code",
   "execution_count": null,
   "id": "bbe1418a",
   "metadata": {},
   "outputs": [],
   "source": []
  },
  {
   "cell_type": "code",
   "execution_count": null,
   "id": "ffc69f1a",
   "metadata": {},
   "outputs": [],
   "source": []
  },
  {
   "cell_type": "code",
   "execution_count": null,
   "id": "59f21b1c",
   "metadata": {},
   "outputs": [],
   "source": []
  },
  {
   "cell_type": "code",
   "execution_count": null,
   "id": "ee7050ed",
   "metadata": {},
   "outputs": [],
   "source": []
  },
  {
   "cell_type": "code",
   "execution_count": null,
   "id": "5bf93f1c",
   "metadata": {},
   "outputs": [],
   "source": [
    "#plotting\n",
    "fig, ax=plt.subplots(figsize=(15,15))\n",
    "census_2012.plot(kind='scatter', x='Lng', y='Lat', alpha=0.2, \n",
    "                s=census_2012['Population']/100,label='Population',\n",
    "                 c='House Value', cmap=plt.get_cmap('jet'),\n",
    "                colorbar=True, ax=ax)\n",
    "#ax.set_xlimit([-175,-125])\n",
    "plt.show()"
   ]
  },
  {
   "cell_type": "code",
   "execution_count": null,
   "id": "ef6f02ac",
   "metadata": {},
   "outputs": [],
   "source": [
    "#plotting\n",
    "fig, ax=plt.subplots(figsize=(15,15))\n",
    "census_ca.plot(kind='scatter', x='Lng', y='Lat', alpha=0.2, \n",
    "                s=census_ca['Population']/100,label='Population',\n",
    "                 c='House Value', cmap=plt.get_cmap('jet'),\n",
    "                colorbar=True, ax=ax)\n",
    "#ax.set_ylimit([-125,-175])\n",
    "plt.show()"
   ]
  },
  {
   "cell_type": "code",
   "execution_count": null,
   "id": "f8897029",
   "metadata": {},
   "outputs": [],
   "source": [
    "#plotting\n",
    "fig, ax=plt.subplots(figsize=(15,15))\n",
    "census_ca.plot(kind='scatter', x='Lng', y='Lat', alpha=0.2, \n",
    "                s=census_ca['Population']/100,label='Population',\n",
    "                 c='Household Income', cmap=plt.get_cmap('jet'),\n",
    "                colorbar=True, ax=ax)\n",
    "#ax.set_ylimit([-125,-175])\n",
    "plt.show()"
   ]
  },
  {
   "cell_type": "code",
   "execution_count": null,
   "id": "c6daeb0e",
   "metadata": {},
   "outputs": [],
   "source": [
    "#plotting all correlation using seaborn heatmap\n",
    "corr=census_ca.corr()\n",
    "import seaborn as sns\n",
    "fig, ax=plt.subplots(figsize=(15,15))\n",
    "sns.heatmap(corr,vmin=-1, vmax=1, annot=True, ax=ax, cmap='BrBG')\n",
    "plt.show()"
   ]
  },
  {
   "cell_type": "code",
   "execution_count": null,
   "id": "1ba4a445",
   "metadata": {},
   "outputs": [],
   "source": [
    "attrb=['Population', 'Median Age', 'Household Income',\n",
    "       'Per Capita Income', 'Poverty Rate', 'Unemployment Rate', 'House Value',\n",
    "       'House Construction Year', 'Monthly Owner Cost', 'Monthly Rent']\n",
    "sns.pairplot(census_ca[attrb], diag_kind=\"hist\")\n",
    "plt.show()"
   ]
  }
 ],
 "metadata": {
  "kernelspec": {
   "display_name": "Python 3 (ipykernel)",
   "language": "python",
   "name": "python3"
  },
  "language_info": {
   "codemirror_mode": {
    "name": "ipython",
    "version": 3
   },
   "file_extension": ".py",
   "mimetype": "text/x-python",
   "name": "python",
   "nbconvert_exporter": "python",
   "pygments_lexer": "ipython3",
   "version": "3.8.10"
  }
 },
 "nbformat": 4,
 "nbformat_minor": 5
}
