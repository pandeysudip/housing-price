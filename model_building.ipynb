{
 "cells": [
  {
   "cell_type": "markdown",
   "id": "c016d39b",
   "metadata": {},
   "source": [
    "## Model Building on Predicting House Price"
   ]
  },
  {
   "cell_type": "markdown",
   "id": "ed0bef52",
   "metadata": {},
   "source": [
    "#### Things to do\n",
    "- Choose relevent columns\n",
    "- Get dummy data if any categoral columns\n",
    "- Scale the columns using Standard Scaler\n",
    "- Do train test split\n",
    "- Multiple linear regression\n",
    "- Lasso regression\n",
    "- Decision Tree Regressor\n",
    "- Random forest Regressor\n",
    "- Tune hyperparameters  using Grid Search CV\n",
    "- Predict on test set"
   ]
  },
  {
   "cell_type": "code",
   "execution_count": 1,
   "id": "d4c04687",
   "metadata": {},
   "outputs": [],
   "source": [
    "#importing models\n",
    "import pandas as pd\n",
    "import numpy as np\n",
    "import os\n",
    "import matplotlib.pyplot as plt\n",
    "import statsmodels.api as sm\n",
    "\n",
    "#importing sklearn models\n",
    "from sklearn.model_selection import train_test_split\n",
    "from sklearn.linear_model import LinearRegression\n",
    "from sklearn.model_selection import cross_val_score\n",
    "from sklearn.linear_model import Lasso\n",
    "from sklearn.linear_model import Ridge\n",
    "from sklearn.ensemble import RandomForestRegressor\n",
    "from sklearn.tree import DecisionTreeRegressor\n",
    "from sklearn.model_selection import GridSearchCV\n",
    "from sklearn.metrics import mean_absolute_error\n",
    "from sklearn.metrics import mean_squared_error"
   ]
  },
  {
   "cell_type": "code",
   "execution_count": 2,
   "id": "b789d171",
   "metadata": {},
   "outputs": [],
   "source": [
    "# 2019 usa cleaned data for machine learning\n",
    "path=os.path.join('output_census', 'usa_2019_ml.csv')\n",
    "usa_2019=pd.read_csv(path)"
   ]
  },
  {
   "cell_type": "code",
   "execution_count": null,
   "id": "59b4f6f2",
   "metadata": {},
   "outputs": [],
   "source": [
    "# 2019 californaia cleaned data for machine learning\n",
    "path_2019=os.path.join('output_census', 'ca_2019_ml.csv')\n",
    "ca_2019=pd.read_csv(path_2019)"
   ]
  },
  {
   "cell_type": "code",
   "execution_count": 3,
   "id": "7493fe8e",
   "metadata": {},
   "outputs": [],
   "source": [
    "#seting city as a index\n",
    "usa_2019.set_index('City', inplace=True)"
   ]
  },
  {
   "cell_type": "code",
   "execution_count": 4,
   "id": "4d0d8d7e",
   "metadata": {},
   "outputs": [
    {
     "name": "stdout",
     "output_type": "stream",
     "text": [
      "Index(['Aguada', 'Aguadilla', 'Maricao', 'Anasco', 'Arecibo', 'Bajadero',\n",
      "       'Barceloneta', 'Boqueron', 'Cabo Rojo', 'Camuy',\n",
      "       ...\n",
      "       'Petersburg', 'Sitka', 'Skagway', 'Ketchikan', 'Coffman Cove',\n",
      "       'Thorne Bay', 'Craig', 'Klawock', 'Metlakatla', 'Wrangell'],\n",
      "      dtype='object', name='City', length=28923)\n",
      "Index(['Population', 'Median Age', 'Household Income', 'Per Capita Income',\n",
      "       'Poverty Rate', 'Unemployment Rate', 'House Value',\n",
      "       'House Construction Year', 'Monthly Owner Cost', 'Monthly Rent',\n",
      "       'Public Transport Rate', 'Personal Transport Rate', 'High School Rate',\n",
      "       'College Rate', 'Uneducated Rate', 'White Population Rate',\n",
      "       'Black Population Rate', 'Hispanic Population Rate',\n",
      "       'Asian Population Rate', 'Lat', 'Lng', 'Housing_units'],\n",
      "      dtype='object')\n"
     ]
    }
   ],
   "source": [
    "#index andcolumns of our data sets\n",
    "index=usa_2019.index\n",
    "columns=usa_2019.columns\n",
    "print(index)\n",
    "print(columns)"
   ]
  },
  {
   "cell_type": "markdown",
   "id": "f542b7e6",
   "metadata": {},
   "source": [
    "#### Prepare a feature matrix (X) and response (y)  for scikit-learn."
   ]
  },
  {
   "cell_type": "code",
   "execution_count": 5,
   "id": "0832c4cf",
   "metadata": {},
   "outputs": [],
   "source": [
    "# create feature matrix (X)\n",
    "#selecting all columns except 'House Value'\n",
    "X=usa_2019.drop('House Value', axis=1) \n",
    "\n",
    "# create response vector (y)\n",
    "##selecting 'House Value'\n",
    "y=usa_2019['House Value'].values  "
   ]
  },
  {
   "cell_type": "code",
   "execution_count": null,
   "id": "fe5e2809",
   "metadata": {},
   "outputs": [],
   "source": []
  },
  {
   "cell_type": "markdown",
   "id": "a2c2152a",
   "metadata": {},
   "source": [
    "#### Scaling using standard scaler on feature matrix (X) "
   ]
  },
  {
   "cell_type": "code",
   "execution_count": 6,
   "id": "55e33fa3",
   "metadata": {},
   "outputs": [],
   "source": [
    "#Different columns have differnt scale so standrazied it \n",
    "#features scaling using standard scaler on x only\n",
    "from sklearn.preprocessing import StandardScaler\n",
    "std_scaler=StandardScaler()\n",
    "scaled_X=std_scaler.fit_transform(X)"
   ]
  },
  {
   "cell_type": "code",
   "execution_count": 7,
   "id": "63918793",
   "metadata": {},
   "outputs": [
    {
     "name": "stdout",
     "output_type": "stream",
     "text": [
      "(28923, 21)\n",
      "(28923,)\n"
     ]
    }
   ],
   "source": [
    "#shape of the X and y\n",
    "print(scaled_X.shape)\n",
    "print(y.shape)"
   ]
  },
  {
   "cell_type": "markdown",
   "id": "21eb134f",
   "metadata": {},
   "source": [
    "#### Splitting data in train and test set"
   ]
  },
  {
   "cell_type": "code",
   "execution_count": 8,
   "id": "acf878f7",
   "metadata": {},
   "outputs": [],
   "source": [
    "#Training set**: Used to train the classifier.\n",
    "#Testing set**: Used to estimate the error rate of the trained classifier.\n",
    "#Also using train_index and test_index to get train and test data index \n",
    "X_train, X_test, y_train, y_test,train_index, test_index = train_test_split(\n",
    "                               scaled_X, y,index, test_size=0.2, random_state=42)"
   ]
  },
  {
   "cell_type": "code",
   "execution_count": 9,
   "id": "b919a837",
   "metadata": {},
   "outputs": [
    {
     "name": "stdout",
     "output_type": "stream",
     "text": [
      "Shape of X_train=(23138, 21)\n",
      "Shape of X_test=(5785, 21)\n",
      "Shape of y_train=(23138,)\n",
      "Shape of X_test=(5785,)\n"
     ]
    }
   ],
   "source": [
    "print(f'Shape of X_train={X_train.shape}')\n",
    "print(f'Shape of X_test={X_test.shape}')\n",
    "print(f'Shape of y_train={y_train.shape}')\n",
    "print(f'Shape of X_test={y_test.shape}')"
   ]
  },
  {
   "cell_type": "markdown",
   "id": "d5e22dda",
   "metadata": {},
   "source": [
    "### Evaluation Metric"
   ]
  },
  {
   "cell_type": "markdown",
   "id": "8283e000",
   "metadata": {},
   "source": [
    "To evaluate a model, we also need an **evaluation metric:**\n",
    "\n",
    "- A numeric calculation used to **quantify** the performance of a model.\n",
    "- The appropriate metric depends on the **goals** of your problem.\n",
    "\n",
    "The most common choices for regression problems are:\n",
    "\n",
    "- **R-squared**: The percentage of variation explained by the model (a \"reward function,\" as higher is better).\n",
    "- **Mean squared error**: The average squared distance between the prediction and the correct answer (a \"loss function,\" as lower is better).\n",
    "- **Mean absolute error**: The average absolute distance between the prediction and the correct answer (a \"loss function,\" as lower is better).\n",
    "\n",
    "In this case, we'll use mean squared error, R2, and mean absolute error because it is more interpretable in a predictive context."
   ]
  },
  {
   "cell_type": "markdown",
   "id": "06e11260",
   "metadata": {},
   "source": [
    "## Linear Regression"
   ]
  },
  {
   "cell_type": "code",
   "execution_count": 10,
   "id": "af475838",
   "metadata": {},
   "outputs": [
    {
     "data": {
      "text/plain": [
       "LinearRegression()"
      ]
     },
     "execution_count": 10,
     "metadata": {},
     "output_type": "execute_result"
    }
   ],
   "source": [
    "#using linear regression\n",
    "# Make a linear regression instance\n",
    "lr=LinearRegression()\n",
    "# Training the model on the data, storing the information learned from the data\n",
    "# Model is learning the relationship between X and y \n",
    "lr.fit(X_train, y_train)\n"
   ]
  },
  {
   "cell_type": "code",
   "execution_count": 11,
   "id": "d45727ee",
   "metadata": {},
   "outputs": [
    {
     "name": "stdout",
     "output_type": "stream",
     "text": [
      "R2 Score of training set 0.8269108317298279\n",
      "R2 Score of testing  set  0.8277328292584601\n"
     ]
    }
   ],
   "source": [
    "#Printing the R2 score of test and train set\n",
    "print(f'R2 Score of training set {lr.score(X_train, y_train)}')\n",
    "print(f'R2 Score of testing  set  {lr.score(X_test, y_test)}')"
   ]
  },
  {
   "cell_type": "markdown",
   "id": "de3894cf",
   "metadata": {},
   "source": [
    "#### Create a cross-valiation with five folds.\n",
    "-  Cross valiation allows the training set into distinct subsets called folds.\n",
    "- A model is trained using k-1 of the folds as training data"
   ]
  },
  {
   "cell_type": "code",
   "execution_count": 12,
   "id": "03193d30",
   "metadata": {},
   "outputs": [
    {
     "data": {
      "text/plain": [
       "array([-44398.8593719 , -46402.80343305, -44970.77332867, -47023.73831981,\n",
       "       -46103.05222781])"
      ]
     },
     "execution_count": 12,
     "metadata": {},
     "output_type": "execute_result"
    }
   ],
   "source": [
    "cross_val_score(lr, X_train, y_train, scoring='neg_mean_absolute_error', cv=5)"
   ]
  },
  {
   "cell_type": "code",
   "execution_count": 13,
   "id": "1a35703e",
   "metadata": {},
   "outputs": [
    {
     "name": "stdout",
     "output_type": "stream",
     "text": [
      "The R2 of Linear Regression is 0.8263313386424184\n",
      "The mean squared error of Linear Regression is 79054.87792548873\n",
      "The mean squared error of Linear Regression is 45779.84533624794\n"
     ]
    }
   ],
   "source": [
    "lr_r2=np.mean(cross_val_score(lr, X_train, y_train, cv=5))\n",
    "print(f'The R2 of Linear Regression is {lr_r2}')\n",
    "\n",
    "#cross validation features gives greater is better, so score function is opposite of \n",
    "#MSE so we need to use -ve to get mse\n",
    "lr_mse=np.mean(cross_val_score(lr, X_train, y_train, cv=5, scoring='neg_mean_squared_error'))\n",
    "lr_rmse=np.sqrt(-(lr_mse))\n",
    "print(f'The mean squared error of Linear Regression is {lr_rmse}')\n",
    "\n",
    "#mean absolute error\n",
    "lr_mae=np.mean(cross_val_score(lr, X_train, y_train, cv=5, scoring='neg_mean_absolute_error'))\n",
    "lr_mae=(-(lr_mae))\n",
    "print(f'The mean squared error of Linear Regression is {lr_mae}')"
   ]
  },
  {
   "cell_type": "markdown",
   "id": "9b1f0396",
   "metadata": {},
   "source": [
    "## Laso Regression"
   ]
  },
  {
   "cell_type": "code",
   "execution_count": 14,
   "id": "445805a6",
   "metadata": {},
   "outputs": [
    {
     "data": {
      "text/plain": [
       "Lasso()"
      ]
     },
     "execution_count": 14,
     "metadata": {},
     "output_type": "execute_result"
    }
   ],
   "source": [
    "#using lassoregression(lasso make some features going to exactly zero)\n",
    "#alpha=0 no regularization( all features are used)\n",
    "# Make a lasso regression instance\n",
    "lr_l=Lasso()\n",
    "lr_l.fit(X_train, y_train)\n"
   ]
  },
  {
   "cell_type": "code",
   "execution_count": 15,
   "id": "c893501b",
   "metadata": {},
   "outputs": [
    {
     "name": "stdout",
     "output_type": "stream",
     "text": [
      "R2 Score of training set 0.82691082915007\n",
      "R2 Score of testing set  0.8277333957203118\n"
     ]
    }
   ],
   "source": [
    "#Printing the R2 score of test and train set\n",
    "print(f'R2 Score of training set {lr_l.score(X_train, y_train)}')\n",
    "print(f'R2 Score of testing set  {lr_l.score(X_test, y_test)}')"
   ]
  },
  {
   "cell_type": "markdown",
   "id": "a474e27d",
   "metadata": {},
   "source": [
    "#### Create a cross-valiation with five folds."
   ]
  },
  {
   "cell_type": "code",
   "execution_count": null,
   "id": "149dfc03",
   "metadata": {},
   "outputs": [],
   "source": [
    "cross_val_score(lr_l, X_train, y_train, scoring='neg_mean_absolute_error', cv=3)"
   ]
  },
  {
   "cell_type": "code",
   "execution_count": 16,
   "id": "74ad6b35",
   "metadata": {},
   "outputs": [
    {
     "name": "stdout",
     "output_type": "stream",
     "text": [
      "The R2 of Lasso Regression is 0.8263315142420078\n",
      "The mean squared error of Lasso Regression is 79054.84186306574\n",
      "The mean squared error of Lasso Regression is 45779.069522712394\n"
     ]
    }
   ],
   "source": [
    "lr_l_r2=np.mean(cross_val_score(lr_l, X_train, y_train, cv=5))\n",
    "print(f'The R2 of Lasso Regression is {lr_l_r2}')\n",
    "\n",
    "#cross validation features gives greater is better, so score function is opposite of \n",
    "#MSE so we need to use -ve to get mse\n",
    "lr_l_mse=np.mean(cross_val_score(lr_l, X_train, y_train, cv=5, scoring='neg_mean_squared_error'))\n",
    "lr_l_rmse=np.sqrt(-(lr_l_mse))\n",
    "print(f'The mean squared error of Lasso Regression is {lr_l_rmse}')\n",
    "\n",
    "#mean absolute error\n",
    "lr_l_mae=np.mean(cross_val_score(lr_l, X_train, y_train, cv=5, scoring='neg_mean_absolute_error'))\n",
    "lr_l_mae=(-(lr_l_mae))\n",
    "print(f'The mean squared error of Lasso Regression is {lr_l_mae}')"
   ]
  },
  {
   "cell_type": "code",
   "execution_count": 17,
   "id": "42ddc222",
   "metadata": {},
   "outputs": [
    {
     "data": {
      "image/png": "[encoded data removed]",
      "text/plain": [
       "<Figure size 432x288 with 1 Axes>"
      ]
     },
     "metadata": {
      "needs_background": "light"
     },
     "output_type": "display_data"
    }
   ],
   "source": [
    "#choosing the best alpha\n",
    "alpha=[]\n",
    "error=[]\n",
    "for i in range(1,1000):\n",
    "    alpha.append(i/10)\n",
    "    lrl=Lasso(alpha=(i/10))\n",
    "    error.append(np.mean(cross_val_score(lrl, X_train, y_train, scoring='neg_mean_absolute_error',\n",
    "                                         cv=5)))\n",
    "plt.plot(alpha,error) \n",
    "plt.show()"
   ]
  },
  {
   "cell_type": "code",
   "execution_count": 18,
   "id": "99b51ec1",
   "metadata": {},
   "outputs": [
    {
     "data": {
      "text/plain": [
       "Lasso(alpha=100)"
      ]
     },
     "execution_count": 18,
     "metadata": {},
     "output_type": "execute_result"
    }
   ],
   "source": [
    "#choosing the best alpha\n",
    "lrl=Lasso(alpha=100)\n",
    "lrl.fit(X_train, y_train)\n"
   ]
  },
  {
   "cell_type": "code",
   "execution_count": 19,
   "id": "9a4a18d7",
   "metadata": {},
   "outputs": [
    {
     "name": "stdout",
     "output_type": "stream",
     "text": [
      "R2 Score of training set with alpha 10 0.8268851176036582\n",
      "R2 Score of testing set with alpha 10 0.8277620697526701\n"
     ]
    }
   ],
   "source": [
    "#Printing the R2 score of test and train set \n",
    "print(f'R2 Score of training set with alpha 10 {lrl.score(X_train, y_train)}')\n",
    "print(f'R2 Score of testing set with alpha 10 {lrl.score(X_test, y_test)}')"
   ]
  },
  {
   "cell_type": "markdown",
   "id": "41780615",
   "metadata": {},
   "source": [
    "#### Create a cross-valiation with five folds."
   ]
  },
  {
   "cell_type": "code",
   "execution_count": 20,
   "id": "f564df56",
   "metadata": {},
   "outputs": [
    {
     "data": {
      "text/plain": [
       "array([-45050.46770617, -45645.69831211, -46603.19812538])"
      ]
     },
     "execution_count": 20,
     "metadata": {},
     "output_type": "execute_result"
    }
   ],
   "source": [
    "cross_val_score(lr_l, X_train, y_train, scoring='neg_mean_absolute_error', cv=3)"
   ]
  },
  {
   "cell_type": "code",
   "execution_count": 21,
   "id": "4ec8b268",
   "metadata": {},
   "outputs": [
    {
     "name": "stdout",
     "output_type": "stream",
     "text": [
      "The R2 of Lasso Regression with alpha 10 is 0.8263289851504169\n",
      "The mean squared error of Lasso Regression with alpha 10 is 79054.84186306574\n",
      "The mean squared error of Lasso Regressionwith alpha 10 is 45779.069522712394\n"
     ]
    }
   ],
   "source": [
    "lrl_r2=np.mean(cross_val_score(lrl, X_train, y_train, cv=5))\n",
    "print(f'The R2 of Lasso Regression with alpha 10 is {lrl_r2}')\n",
    "\n",
    "#cross validation features gives greater is better, so score function is opposite of \n",
    "#MSE so we need to use -ve to get mse\n",
    "lrl_mse=np.mean(cross_val_score(lr_l, X_train, y_train, cv=5, scoring='neg_mean_squared_error'))\n",
    "lrl_rmse=np.sqrt(-(lrl_mse))\n",
    "print(f'The mean squared error of Lasso Regression with alpha 10 is {lrl_rmse}')\n",
    "\n",
    "#mean absolute error\n",
    "lrl_mae=np.mean(cross_val_score(lr_l, X_train, y_train, cv=5, scoring='neg_mean_absolute_error'))\n",
    "lrl_mae=(-(lrl_mae))\n",
    "print(f'The mean squared error of Lasso Regressionwith alpha 10 is {lrl_mae}')"
   ]
  },
  {
   "cell_type": "code",
   "execution_count": null,
   "id": "7ffe3c40",
   "metadata": {},
   "outputs": [],
   "source": []
  },
  {
   "cell_type": "markdown",
   "id": "fe8cdfe9",
   "metadata": {},
   "source": [
    "## Ridge Regression"
   ]
  },
  {
   "cell_type": "code",
   "execution_count": 22,
   "id": "0363a690",
   "metadata": {},
   "outputs": [
    {
     "data": {
      "text/plain": [
       "Ridge()"
      ]
     },
     "execution_count": 22,
     "metadata": {},
     "output_type": "execute_result"
    }
   ],
   "source": [
    "#using ridge regression(ridge make some features going to near zero)\n",
    "#alpha=0 no regularization( all features are used)\n",
    "# Make a ridge regression instance\n",
    "lr_r=Ridge()\n",
    "lr_r.fit(X_train, y_train)\n"
   ]
  },
  {
   "cell_type": "code",
   "execution_count": 23,
   "id": "b988ab16",
   "metadata": {},
   "outputs": [
    {
     "name": "stdout",
     "output_type": "stream",
     "text": [
      "R2 Score of training set 0.8269108278573021\n",
      "R2 Score of testing set  0.827735477205005\n"
     ]
    }
   ],
   "source": [
    "#Printing the R2 score of test and train set\n",
    "print(f'R2 Score of training set {lr_r.score(X_train, y_train)}')\n",
    "print(f'R2 Score of testing set  {lr_r.score(X_test, y_test)}')"
   ]
  },
  {
   "cell_type": "markdown",
   "id": "ffe92eda",
   "metadata": {},
   "source": [
    "#### Create a cross-valiation with five folds."
   ]
  },
  {
   "cell_type": "code",
   "execution_count": null,
   "id": "bb4f5b9b",
   "metadata": {},
   "outputs": [],
   "source": [
    "cross_val_score(lr_r, X_train, y_train, scoring='neg_mean_absolute_error', cv=3)"
   ]
  },
  {
   "cell_type": "code",
   "execution_count": 24,
   "id": "1bf60ae3",
   "metadata": {},
   "outputs": [
    {
     "name": "stdout",
     "output_type": "stream",
     "text": [
      "The R2 of Ridge Regression is 0.8263315798122063\n",
      "The mean squared error of Ridge Regression is 79054.84186306574\n",
      "The mean squared error of Ridge Regression is 45778.26511539573\n"
     ]
    }
   ],
   "source": [
    "lr_r_r2=np.mean(cross_val_score(lr_r, X_train, y_train, cv=5))\n",
    "print(f'The R2 of Ridge Regression is {lr_r_r2}')\n",
    "\n",
    "#cross validation features gives greater is better, so score function is opposite of \n",
    "#MSE so we need to use -ve to get mse\n",
    "lr_r_mse=np.mean(cross_val_score(lr_r, X_train, y_train, cv=5, scoring='neg_mean_squared_error'))\n",
    "lr_r_rmse=np.sqrt(-(lr_l_mse))\n",
    "print(f'The mean squared error of Ridge Regression is {lr_r_rmse}')\n",
    "\n",
    "#mean absolute error\n",
    "lr_r_mae=np.mean(cross_val_score(lr_r, X_train, y_train, cv=5, scoring='neg_mean_absolute_error'))\n",
    "lr_r_mae=(-(lr_r_mae))\n",
    "print(f'The mean squared error of Ridge Regression is {lr_r_mae}')"
   ]
  },
  {
   "cell_type": "code",
   "execution_count": 25,
   "id": "37d54d1d",
   "metadata": {},
   "outputs": [
    {
     "data": {
      "image/png": "[encoded data removed]",
      "text/plain": [
       "<Figure size 432x288 with 1 Axes>"
      ]
     },
     "metadata": {
      "needs_background": "light"
     },
     "output_type": "display_data"
    }
   ],
   "source": [
    "#choosing the best alpha\n",
    "alpha=[]\n",
    "error=[]\n",
    "for i in range(1,1000,100):\n",
    "    alpha.append(i/10)\n",
    "    lrr=Ridge(alpha=(i/10))\n",
    "    error.append(np.mean(cross_val_score(lrr, X_train, y_train, scoring='neg_mean_absolute_error',\n",
    "                                         cv=5)))\n",
    "plt.plot(alpha,error) \n",
    "plt.show()"
   ]
  },
  {
   "cell_type": "code",
   "execution_count": 26,
   "id": "4b214384",
   "metadata": {},
   "outputs": [
    {
     "data": {
      "text/plain": [
       "Ridge(alpha=40)"
      ]
     },
     "execution_count": 26,
     "metadata": {},
     "output_type": "execute_result"
    }
   ],
   "source": [
    "#choosing the best alpha (look figure where alpha start to saturate)\n",
    "lrr=Ridge(alpha=40)\n",
    "lrr.fit(X_train, y_train)\n"
   ]
  },
  {
   "cell_type": "code",
   "execution_count": 27,
   "id": "4a988d1c",
   "metadata": {},
   "outputs": [
    {
     "name": "stdout",
     "output_type": "stream",
     "text": [
      "R2 Score of training set with alpha 40 0.826904764057062\n",
      "R2 Score of testing set with alpha 40 0.8278311838172033\n"
     ]
    }
   ],
   "source": [
    "#Printing the R2 score of test and train set \n",
    "print(f'R2 Score of training set with alpha 40 {lrr.score(X_train, y_train)}')\n",
    "print(f'R2 Score of testing set with alpha 40 {lrr.score(X_test, y_test)}')"
   ]
  },
  {
   "cell_type": "markdown",
   "id": "f2885dc8",
   "metadata": {},
   "source": [
    "#### Create a cross-valiation with five folds."
   ]
  },
  {
   "cell_type": "code",
   "execution_count": 28,
   "id": "4838d667",
   "metadata": {},
   "outputs": [
    {
     "data": {
      "text/plain": [
       "array([-45049.1509207 , -45644.81619081, -46601.97327067])"
      ]
     },
     "execution_count": 28,
     "metadata": {},
     "output_type": "execute_result"
    }
   ],
   "source": [
    "cross_val_score(lr_r, X_train, y_train, scoring='neg_mean_absolute_error', cv=3)"
   ]
  },
  {
   "cell_type": "code",
   "execution_count": 29,
   "id": "f9ed2b51",
   "metadata": {},
   "outputs": [
    {
     "name": "stdout",
     "output_type": "stream",
     "text": [
      "The R2 of Ridge Regression with alpha 10 is 0.8263315089506198\n",
      "The mean squared error of Ridge Regression with alpha 10 is 79054.83820679043\n",
      "The mean squared error of Ridge Regression with alpha 10 is 45778.26511539573\n"
     ]
    }
   ],
   "source": [
    "lrr_r2=np.mean(cross_val_score(lrr, X_train, y_train, cv=5))\n",
    "print(f'The R2 of Ridge Regression with alpha 10 is {lrr_r2}')\n",
    "\n",
    "#cross validation features gives greater is better, so score function is opposite of \n",
    "#MSE so we need to use -ve to get mse\n",
    "lrr_mse=np.mean(cross_val_score(lr_r, X_train, y_train, cv=5, scoring='neg_mean_squared_error'))\n",
    "lrr_rmse=np.sqrt(-(lrr_mse))\n",
    "print(f'The mean squared error of Ridge Regression with alpha 10 is {lrr_rmse}')\n",
    "\n",
    "#mean absolute error\n",
    "lrr_mae=np.mean(cross_val_score(lr_r, X_train, y_train, cv=5, scoring='neg_mean_absolute_error'))\n",
    "lrr_mae=(-(lrr_mae))\n",
    "print(f'The mean squared error of Ridge Regression with alpha 10 is {lrr_mae}')"
   ]
  },
  {
   "cell_type": "code",
   "execution_count": null,
   "id": "d56cceb9",
   "metadata": {},
   "outputs": [],
   "source": []
  },
  {
   "cell_type": "markdown",
   "id": "f5e88203",
   "metadata": {},
   "source": [
    "## Decision Tree"
   ]
  },
  {
   "cell_type": "code",
   "execution_count": 30,
   "id": "79b86c12",
   "metadata": {},
   "outputs": [
    {
     "data": {
      "text/plain": [
       "DecisionTreeRegressor()"
      ]
     },
     "execution_count": 30,
     "metadata": {},
     "output_type": "execute_result"
    }
   ],
   "source": [
    "# Make a decision tree instance\n",
    "dt=DecisionTreeRegressor()\n",
    "dt.fit(X_train, y_train)"
   ]
  },
  {
   "cell_type": "code",
   "execution_count": 31,
   "id": "fa5cb51e",
   "metadata": {},
   "outputs": [
    {
     "name": "stdout",
     "output_type": "stream",
     "text": [
      "R2 Score of training set 1.0\n",
      "R2 Score of testing set  0.8365889861091037\n"
     ]
    }
   ],
   "source": [
    "#Printing the score of test and train set\n",
    "print(f'R2 Score of training set {dt.score(X_train, y_train)}')\n",
    "print(f'R2 Score of testing set  {dt.score(X_test, y_test)}')"
   ]
  },
  {
   "cell_type": "markdown",
   "id": "37956dbf",
   "metadata": {},
   "source": [
    "#### Create a cross-valiation with five folds."
   ]
  },
  {
   "cell_type": "code",
   "execution_count": 32,
   "id": "bffef13b",
   "metadata": {},
   "outputs": [
    {
     "data": {
      "text/plain": [
       "array([-40736.6548684 , -41834.63230909, -40540.76945021])"
      ]
     },
     "execution_count": 32,
     "metadata": {},
     "output_type": "execute_result"
    }
   ],
   "source": [
    "cross_val_score(dt, X_train, y_train, scoring='neg_mean_absolute_error', cv=3)"
   ]
  },
  {
   "cell_type": "code",
   "execution_count": 33,
   "id": "d8cdad25",
   "metadata": {},
   "outputs": [
    {
     "name": "stdout",
     "output_type": "stream",
     "text": [
      "The R2 of Decision Tree Regressor is 0.8268651871617747\n",
      "The mean squared error of Decision Tree Regressor is 79481.82130881146\n",
      "The mean squared error of Decision Tree Regressor is 40725.65961538929\n"
     ]
    }
   ],
   "source": [
    "dt_r2=np.mean(cross_val_score(dt, X_train, y_train, cv=5))\n",
    "print(f'The R2 of Decision Tree Regressor is {dt_r2}')\n",
    "\n",
    "#cross validation features gives greater is better, so score function is opposite of \n",
    "#MSE so we need to use -ve to get mse\n",
    "dt_mse=np.mean(cross_val_score(dt, X_train, y_train, cv=5, scoring='neg_mean_squared_error'))\n",
    "dt_rmse=np.sqrt(-(dt_mse))\n",
    "print(f'The mean squared error of Decision Tree Regressor is {dt_rmse}')\n",
    "\n",
    "#mean absolute error\n",
    "dt_mae=np.mean(cross_val_score(dt, X_train, y_train, cv=5, scoring='neg_mean_absolute_error'))\n",
    "dt_mae=(-(dt_mae))\n",
    "print(f'The mean squared error of Decision Tree Regressor is {dt_mae}')"
   ]
  },
  {
   "cell_type": "markdown",
   "id": "aa8a3ab3",
   "metadata": {},
   "source": [
    "### Tuning hyperparamaters  using Grid Search CV"
   ]
  },
  {
   "cell_type": "code",
   "execution_count": 34,
   "id": "4d897dd6",
   "metadata": {},
   "outputs": [
    {
     "name": "stdout",
     "output_type": "stream",
     "text": [
      "Fitting 3 folds for each of 12 candidates, totalling 36 fits\n"
     ]
    },
    {
     "data": {
      "text/plain": [
       "GridSearchCV(cv=3, estimator=DecisionTreeRegressor(), n_jobs=-1,\n",
       "             param_grid={'max_depth': [6, 8, 12],\n",
       "                         'min_samples_leaf': range(1, 5)},\n",
       "             verbose=1)"
      ]
     },
     "execution_count": 34,
     "metadata": {},
     "output_type": "execute_result"
    }
   ],
   "source": [
    "parameters = {\n",
    "              'max_depth':[6, 8,12],\n",
    "              'min_samples_leaf':range(1,5)}\n",
    "gs_dt=GridSearchCV(dt, param_grid=parameters, \n",
    "                    cv=3, verbose=1, n_jobs=-1)\n",
    "gs_dt.fit(X_train, y_train)"
   ]
  },
  {
   "cell_type": "code",
   "execution_count": 35,
   "id": "cdfefd6d",
   "metadata": {},
   "outputs": [
    {
     "data": {
      "text/plain": [
       "{'max_depth': 6, 'min_samples_leaf': 4}"
      ]
     },
     "execution_count": 35,
     "metadata": {},
     "output_type": "execute_result"
    }
   ],
   "source": [
    "#Best parameters\n",
    "gs_dt.best_params_"
   ]
  },
  {
   "cell_type": "code",
   "execution_count": 37,
   "id": "80e215a8",
   "metadata": {},
   "outputs": [
    {
     "data": {
      "text/plain": [
       "DecisionTreeRegressor(max_depth=6, min_samples_leaf=4)"
      ]
     },
     "execution_count": 37,
     "metadata": {},
     "output_type": "execute_result"
    }
   ],
   "source": [
    "#best estimator\n",
    "dt_b=gs_dt.best_estimator_\n",
    "dt_b"
   ]
  },
  {
   "cell_type": "code",
   "execution_count": 38,
   "id": "77e9a6c7",
   "metadata": {},
   "outputs": [
    {
     "name": "stdout",
     "output_type": "stream",
     "text": [
      "R2 Score of training set after hyperpar tuining 0.9033290903534971\n",
      "R2 Score of testing set after hyperpar tuining  0.8597936499614878\n"
     ]
    }
   ],
   "source": [
    "#Printing the score of test and train set\n",
    "dt_tr=dt_b.score(X_train, y_train)\n",
    "dt_te=dt_b.score(X_test, y_test)\n",
    "print(f'R2 Score of training set after hyperpar tuining {dt_tr}')\n",
    "print(f'R2 Score of testing set after hyperpar tuining  {dt_te}')"
   ]
  },
  {
   "cell_type": "code",
   "execution_count": null,
   "id": "18cebc5c",
   "metadata": {},
   "outputs": [],
   "source": []
  },
  {
   "cell_type": "markdown",
   "id": "a431729b",
   "metadata": {},
   "source": [
    "## Random Forest"
   ]
  },
  {
   "cell_type": "code",
   "execution_count": 39,
   "id": "cca2a3ff",
   "metadata": {},
   "outputs": [
    {
     "data": {
      "text/plain": [
       "RandomForestRegressor()"
      ]
     },
     "execution_count": 39,
     "metadata": {},
     "output_type": "execute_result"
    }
   ],
   "source": [
    "# Make a Random forest instance\n",
    "rf=RandomForestRegressor()\n",
    "rf.fit(X_train, y_train)"
   ]
  },
  {
   "cell_type": "code",
   "execution_count": 40,
   "id": "ff477470",
   "metadata": {},
   "outputs": [
    {
     "name": "stdout",
     "output_type": "stream",
     "text": [
      "R2 Score of training set 0.9883332162164054\n",
      "R2 Score of testing set 0.9105870934329136\n"
     ]
    }
   ],
   "source": [
    "#Printing the score of test and train set\n",
    "print(f'R2 Score of training set {rf.score(X_train, y_train)}')\n",
    "print(f'R2 Score of testing set {rf.score(X_test, y_test)}')"
   ]
  },
  {
   "cell_type": "markdown",
   "id": "cb8d44a7",
   "metadata": {},
   "source": [
    "#### Create a cross-valiation with five folds."
   ]
  },
  {
   "cell_type": "code",
   "execution_count": 41,
   "id": "9afe9975",
   "metadata": {},
   "outputs": [
    {
     "data": {
      "text/plain": [
       "array([-29035.38919876, -28048.34519642, -28867.17032028])"
      ]
     },
     "execution_count": 41,
     "metadata": {},
     "output_type": "execute_result"
    }
   ],
   "source": [
    "cross_val_score(rf, X_train, y_train, scoring='neg_mean_absolute_error', cv=3)"
   ]
  },
  {
   "cell_type": "code",
   "execution_count": 42,
   "id": "e2b0db94",
   "metadata": {},
   "outputs": [
    {
     "name": "stdout",
     "output_type": "stream",
     "text": [
      "The R2 of Random Forest Regressor is 0.9152766959504932\n",
      "The mean squared error of Random Forest Regressor is 79054.84186306574\n",
      "The mean squared error of Random Forest Regressor is 28085.114729741013\n"
     ]
    }
   ],
   "source": [
    "rf_r2=np.mean(cross_val_score(rf, X_train, y_train, cv=5))\n",
    "print(f'The R2 of Random Forest Regressor is {rf_r2}')\n",
    "\n",
    "#cross validation features gives greater is better, so score function is opposite of \n",
    "#MSE so we need to use -ve to get mse\n",
    "rf_mse=np.mean(cross_val_score(rf, X_train, y_train, cv=5, scoring='neg_mean_squared_error'))\n",
    "rf_rmse=np.sqrt(-(lrl_mse))\n",
    "print(f'The mean squared error of Random Forest Regressor is {rf_rmse}')\n",
    "\n",
    "#mean absolute error\n",
    "rf_mae=np.mean(cross_val_score(rf, X_train, y_train, cv=5, scoring='neg_mean_absolute_error'))\n",
    "rf_mae=(-(rf_mae))\n",
    "print(f'The mean squared error of Random Forest Regressor is {rf_mae}')"
   ]
  },
  {
   "cell_type": "code",
   "execution_count": null,
   "id": "0907a170",
   "metadata": {},
   "outputs": [],
   "source": []
  },
  {
   "cell_type": "markdown",
   "id": "90d6105d",
   "metadata": {},
   "source": [
    "#### Tuning the hyperparameters using Grid Search CV"
   ]
  },
  {
   "cell_type": "code",
   "execution_count": null,
   "id": "ead2131a",
   "metadata": {},
   "outputs": [],
   "source": [
    "parameters = [{'n_estimators':[3,10,60,100,200],\n",
    "              'max_features':[4,6,8,10]},\n",
    "              {'bootstrap':[False], 'n_estimators':[3,10,100],\n",
    "              'max_features':[4,6,8,10]}]\n",
    "gs_rf=GridSearchCV(rf, parameters, scoring='neg_mean_absolute_error',\n",
    "                   cv=5, return_train_score=True)\n",
    "gs_rf.fit(X_train, y_train)"
   ]
  },
  {
   "cell_type": "code",
   "execution_count": null,
   "id": "dfc322c6",
   "metadata": {},
   "outputs": [],
   "source": [
    "#Best parameters\n",
    "gs_rf.best_params_"
   ]
  },
  {
   "cell_type": "code",
   "execution_count": null,
   "id": "2739dd71",
   "metadata": {},
   "outputs": [],
   "source": [
    "#best estimator\n",
    "rf_b=gs_rf.best_estimator_\n",
    "rf_b"
   ]
  },
  {
   "cell_type": "code",
   "execution_count": null,
   "id": "5046d489",
   "metadata": {},
   "outputs": [],
   "source": [
    "#Printing the score of test and train set\n",
    "rf_tr=rf_b.score(X_train, y_train)\n",
    "rf_te=rf_b.score(X_test, y_test)\n",
    "print(f'R2 Score of training set after hyperpar tuining {rf_tr}')\n",
    "print(f'R2 Score of testing set after hyperpar tuining  {rf_te}')"
   ]
  },
  {
   "cell_type": "code",
   "execution_count": null,
   "id": "bb889dd7",
   "metadata": {},
   "outputs": [],
   "source": [
    "#printing the evaluation scores\n",
    "cvres=gs_rf.cv_results_\n",
    "for mean_score, params in zip(cvres['mean_test_score'], cvres['params']):\n",
    "    print((-mean_score), params)"
   ]
  },
  {
   "cell_type": "markdown",
   "id": "bbf70fd8",
   "metadata": {},
   "source": [
    "### Important scores of each columns"
   ]
  },
  {
   "cell_type": "code",
   "execution_count": null,
   "id": "a561ac29",
   "metadata": {},
   "outputs": [],
   "source": [
    "feature_importances=rf_b.feature_importances_\n",
    "\n",
    "sorted(zip(feature_importances, columns), reverse=True)"
   ]
  },
  {
   "cell_type": "markdown",
   "id": "84580c1e",
   "metadata": {},
   "source": [
    "## Predicting on Test set"
   ]
  },
  {
   "cell_type": "code",
   "execution_count": null,
   "id": "345276e7",
   "metadata": {},
   "outputs": [],
   "source": [
    "#Testing the model in test data\n",
    "y_pred_lr=lr.predict(X_test)     #linear \n",
    "y_pred_lrl=lrl.predict(X_test)   #lasso\n",
    "y_pred_lrr=lrr.predict(X_test)   #Ridge\n",
    "y_pred_dt=dt_b.predict(X_test)   #Dicision tree\n",
    "y_pred_rf=rf_b.predict(X_test)   #Random forest"
   ]
  },
  {
   "cell_type": "markdown",
   "id": "443dfe67",
   "metadata": {},
   "source": [
    "### Mean Absolute Error"
   ]
  },
  {
   "cell_type": "code",
   "execution_count": null,
   "id": "470048dd",
   "metadata": {},
   "outputs": [],
   "source": [
    "#regression matrices-mean absolute error(give you the prediction error)\n",
    "lin_mae_lr=mean_absolute_error(y_test, y_pred_lr)\n",
    "print(f'The mean absoulte error of linear regression is {lin_mae_lr}')\n",
    "\n",
    "lin_mae_lrl=mean_absolute_error(y_test, y_pred_lrl)\n",
    "print(f'The mean absoulte error of lasso regression is {lin_mae_lrl}')\n",
    "\n",
    "lin_mae_lrr=mean_absolute_error(y_test, y_pred_lrr)\n",
    "print(f'The mean absoulte error of Ridge regression is {lin_mae_lrr}')\n",
    "\n",
    "lin_mae_dt=mean_absolute_error(y_test, y_pred_dt)\n",
    "print(f'The mean absoulte error of decision tree regression is {lin_mae_dt}')\n",
    "\n",
    "lin_mae_rf=mean_absolute_error(y_test, y_pred_rf)\n",
    "print(f'The mean absoulte error of random forest regression is {lin_mae_rf}')\n"
   ]
  },
  {
   "cell_type": "markdown",
   "id": "c97a1a5a",
   "metadata": {},
   "source": [
    "### Root Mean Squared Error"
   ]
  },
  {
   "cell_type": "code",
   "execution_count": null,
   "id": "783e8a55",
   "metadata": {},
   "outputs": [],
   "source": [
    "#regression matrices-mean squared error(give you the prediction error)\n",
    "lin_mse_lr=mean_squared_error(y_test, y_pred_lr)\n",
    "lin_rmse_lr=np.sqrt(lin_mse_lr)\n",
    "print(f'The mean absoulte error of linear regression is {lin_rmse_lr}')\n",
    "\n",
    "lin_mse_lrl=mean_squared_error(y_test, y_pred_lrl)\n",
    "lin_rmse_lrl=np.sqrt(lin_mse_lrl)\n",
    "print(f'The mean absoulte error of lasso regression is {lin_rmse_lrl}')\n",
    "\n",
    "lin_mse_lrr=mean_squared_error(y_test, y_pred_lrr)\n",
    "lin_rmse_lrr=np.sqrt(lin_mse_lrr)\n",
    "print(f'The mean absoulte error of ridge regression is {lin_rmse_lrr}')\n",
    "\n",
    "lin_mse_dt=mean_squared_error(y_test, y_pred_dt)\n",
    "lin_rmse_dt=np.sqrt(lin_mse_dt)\n",
    "print(f'The mean absoulte error of decision tree regression is {lin_rmse_dt}')\n",
    "\n",
    "lin_mse_rf=mean_squared_error(y_test, y_pred_rf)\n",
    "lin_rmse_rf=np.sqrt(lin_mse_rf)\n",
    "print(f'The mean absoulte error of random forest regression is {lin_rmse_rf}')"
   ]
  },
  {
   "cell_type": "markdown",
   "id": "94728311",
   "metadata": {},
   "source": [
    "### Actual and predicted house rate --best model( RandomForest Regressor)"
   ]
  },
  {
   "cell_type": "code",
   "execution_count": null,
   "id": "0ca4a5aa",
   "metadata": {},
   "outputs": [],
   "source": [
    "#Actual and predicated value of house using our best model\n",
    "house_value=pd.DataFrame({'Actual House Value':y_test, \n",
    "                'Random Forest Predicted House Value':y_pred_rf,\n",
    "                'Linear Reg Predicted House Value':y_pred_lr,\n",
    "                'Lasso Reg Predicted House Value':y_pred_lrl,\n",
    "                'Ridge Reg Predicted House Value':y_pred_lrr,       \n",
    "                'Decesion Tree Predicted House Value':y_pred_dt},index=test_index)\n",
    "house_value"
   ]
  },
  {
   "cell_type": "markdown",
   "id": "b47f50f1",
   "metadata": {},
   "source": [
    "## Evaluation metrices of differnt models"
   ]
  },
  {
   "cell_type": "code",
   "execution_count": null,
   "id": "d0d6f950",
   "metadata": {},
   "outputs": [],
   "source": [
    "evaluation_df=pd.DataFrame({'Linear Reg':[lr_r2,lin_mae_lr,lin_rmse_lr],\n",
    "                           'Lasso Reg':[lrl_r2,lin_mae_lrl,lin_rmse_lrl],\n",
    "                            'Ridge Reg':[lrr_r2,lin_mae_lrr,lin_rmse_lrr],\n",
    "                           'Decision Tree':[dt_tr,lin_mae_dt,lin_rmse_dt],\n",
    "                            'Random Forest':[rf_tr,lin_mae_rf,lin_rmse_rf]}\n",
    "                           ,index=['R2','Mean Absolute Error',\n",
    "                                    'Root Mean Squared Error'])\n",
    "evaluation_df"
   ]
  },
  {
   "cell_type": "code",
   "execution_count": null,
   "id": "8e2f3626",
   "metadata": {},
   "outputs": [],
   "source": []
  },
  {
   "cell_type": "code",
   "execution_count": null,
   "id": "4ab89b38",
   "metadata": {},
   "outputs": [],
   "source": []
  }
 ],
 "metadata": {
  "kernelspec": {
   "display_name": "Python 3 (ipykernel)",
   "language": "python",
   "name": "python3"
  },
  "language_info": {
   "codemirror_mode": {
    "name": "ipython",
    "version": 3
   },
   "file_extension": ".py",
   "mimetype": "text/x-python",
   "name": "python",
   "nbconvert_exporter": "python",
   "pygments_lexer": "ipython3",
   "version": "3.8.10"
  }
 },
 "nbformat": 4,
 "nbformat_minor": 5
}
