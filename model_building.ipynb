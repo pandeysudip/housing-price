{
 "cells": [
  {
   "cell_type": "markdown",
   "id": "8d3794a2",
   "metadata": {},
   "source": [
    "## Model Building on Predicting House Price"
   ]
  },
  {
   "cell_type": "markdown",
   "id": "310a5b9c",
   "metadata": {},
   "source": [
    "#### Things to do\n",
    "- Choose relevent columns\n",
    "- Get dummy data if any categoral columns\n",
    "- Scale the columns using Standard Scaler\n",
    "- Do train test split\n",
    "- Multiple linear regression\n",
    "- Lasso regression\n",
    "- Decision Tree Regressor\n",
    "- Random forest Regressor\n",
    "- Tune hyperparameters  using Grid Search CV\n",
    "- Predict on test set"
   ]
  },
  {
   "cell_type": "code",
   "execution_count": 132,
   "id": "2fdfb1ee",
   "metadata": {},
   "outputs": [],
   "source": [
    "#importing models\n",
    "import pandas as pd\n",
    "import numpy as np\n",
    "import os\n",
    "import matplotlib.pyplot as plt\n",
    "import statsmodels.api as sm\n",
    "\n",
    "#importing sklearn models\n",
    "from sklearn.model_selection import train_test_split\n",
    "from sklearn.linear_model import LinearRegression\n",
    "from sklearn.model_selection import cross_val_score\n",
    "from sklearn.linear_model import Lasso\n",
    "from sklearn.linear_model import Ridge\n",
    "from sklearn.ensemble import RandomForestRegressor\n",
    "from sklearn.tree import DecisionTreeRegressor\n",
    "from sklearn.model_selection import GridSearchCV\n",
    "from sklearn.metrics import mean_absolute_error\n",
    "from sklearn.metrics import mean_squared_error"
   ]
  },
  {
   "cell_type": "code",
   "execution_count": 154,
   "id": "85110963",
   "metadata": {},
   "outputs": [],
   "source": [
    "# 2019 usa cleaned data for machine learning\n",
    "path=os.path.join('output_census', 'usa_2019_ml.csv')\n",
    "usa_2019=pd.read_csv(path)"
   ]
  },
  {
   "cell_type": "code",
   "execution_count": 35,
   "id": "492c6c82",
   "metadata": {},
   "outputs": [],
   "source": [
    "# 2019 californaia cleaned data for machine learning\n",
    "path_2019=os.path.join('output_census', 'ca_2019_ml.csv')\n",
    "ca_2019=pd.read_csv(path_2019)"
   ]
  },
  {
   "cell_type": "code",
   "execution_count": 113,
   "id": "f8b4c8d9",
   "metadata": {},
   "outputs": [
    {
     "name": "stdout",
     "output_type": "stream",
     "text": [
      "Index(['Los Angeles', 'Los Angeles', 'Los Angeles', 'Los Angeles',\n",
      "       'Los Angeles', 'Los Angeles', 'Los Angeles', 'Los Angeles',\n",
      "       'Los Angeles', 'Los Angeles',\n",
      "       ...\n",
      "       'Tulelake', 'Westwood', 'Carnelian Bay', 'Tahoma', 'Kings Beach',\n",
      "       'Tahoe City', 'Olympic Valley', 'Tahoe Vista', 'South Lake Tahoe',\n",
      "       'Truckee'],\n",
      "      dtype='object', name='City', length=1460)\n",
      "Index(['Population', 'House Value', 'Household Income', 'Poverty Rate',\n",
      "       'Unemployment Rate', 'Monthly Owner Cost', 'Monthly Rent',\n",
      "       'Public Transport Rate', 'Personal Transport Rate', 'College Rate',\n",
      "       'White Population Rate', 'Uneducated Rate'],\n",
      "      dtype='object')\n"
     ]
    }
   ],
   "source": [
    "#index andcolumns of our data sets\n",
    "index=ca_2019.index\n",
    "columns=ca_2019.columns\n",
    "print(index)\n",
    "print(columns)"
   ]
  },
  {
   "cell_type": "code",
   "execution_count": 37,
   "id": "2c4fd974",
   "metadata": {},
   "outputs": [],
   "source": [
    "#seting city as a index\n",
    "ca_2019.set_index('City', inplace=True)"
   ]
  },
  {
   "cell_type": "markdown",
   "id": "f317bf45",
   "metadata": {},
   "source": [
    "#### Prepare a feature matrix (X) and response (y)  for scikit-learn."
   ]
  },
  {
   "cell_type": "code",
   "execution_count": 38,
   "id": "5d597331",
   "metadata": {},
   "outputs": [],
   "source": [
    "# create feature matrix (X)\n",
    "#selecting all columns except 'House Value'\n",
    "X=ca_2019.drop('House Value', axis=1) \n",
    "\n",
    "# create response vector (y)\n",
    "##selecting 'House Value'\n",
    "y=ca_2019['House Value'].values  "
   ]
  },
  {
   "cell_type": "code",
   "execution_count": null,
   "id": "4443f8d1",
   "metadata": {},
   "outputs": [],
   "source": []
  },
  {
   "cell_type": "markdown",
   "id": "f3014c93",
   "metadata": {},
   "source": [
    "#### Scaling using standard scaler on feature matrix (X) "
   ]
  },
  {
   "cell_type": "code",
   "execution_count": 39,
   "id": "0a5c8996",
   "metadata": {},
   "outputs": [],
   "source": [
    "#Different columns have differnt scale so standrazied it \n",
    "#features scaling using standard scaler on x only\n",
    "from sklearn.preprocessing import StandardScaler\n",
    "std_scaler=StandardScaler()\n",
    "scaled_X=std_scaler.fit_transform(X)"
   ]
  },
  {
   "cell_type": "code",
   "execution_count": 40,
   "id": "58363cd5",
   "metadata": {},
   "outputs": [
    {
     "name": "stdout",
     "output_type": "stream",
     "text": [
      "(1460, 11)\n",
      "(1460,)\n"
     ]
    }
   ],
   "source": [
    "#shape of the X and y\n",
    "print(scaled_X.shape)\n",
    "print(y.shape)"
   ]
  },
  {
   "cell_type": "markdown",
   "id": "c7a9d096",
   "metadata": {},
   "source": [
    "#### Splitting data in train and test set"
   ]
  },
  {
   "cell_type": "code",
   "execution_count": 116,
   "id": "573ef3de",
   "metadata": {},
   "outputs": [],
   "source": [
    "#Training set**: Used to train the classifier.\n",
    "#Testing set**: Used to estimate the error rate of the trained classifier.\n",
    "#Also using train_index and test_index to get train and test data index \n",
    "X_train, X_test, y_train, y_test,train_index, test_index = train_test_split(\n",
    "                               scaled_X, y,index, test_size=0.2, random_state=42)"
   ]
  },
  {
   "cell_type": "code",
   "execution_count": 106,
   "id": "fb87f2a1",
   "metadata": {},
   "outputs": [
    {
     "name": "stdout",
     "output_type": "stream",
     "text": [
      "Shape of X_train=(1168, 11)\n",
      "Shape of X_test=(292, 11)\n",
      "Shape of y_train=(1168,)\n",
      "Shape of X_test=(292,)\n"
     ]
    }
   ],
   "source": [
    "print(f'Shape of X_train={X_train.shape}')\n",
    "print(f'Shape of X_test={X_test.shape}')\n",
    "print(f'Shape of y_train={y_train.shape}')\n",
    "print(f'Shape of X_test={y_test.shape}')"
   ]
  },
  {
   "cell_type": "markdown",
   "id": "236d797e",
   "metadata": {},
   "source": [
    "### Evaluation Metric"
   ]
  },
  {
   "cell_type": "markdown",
   "id": "0c84088d",
   "metadata": {},
   "source": [
    "To evaluate a model, we also need an **evaluation metric:**\n",
    "\n",
    "- A numeric calculation used to **quantify** the performance of a model.\n",
    "- The appropriate metric depends on the **goals** of your problem.\n",
    "\n",
    "The most common choices for regression problems are:\n",
    "\n",
    "- **R-squared**: The percentage of variation explained by the model (a \"reward function,\" as higher is better).\n",
    "- **Mean squared error**: The average squared distance between the prediction and the correct answer (a \"loss function,\" as lower is better).\n",
    "- **Mean absolute error**: The average absolute distance between the prediction and the correct answer (a \"loss function,\" as lower is better).\n",
    "\n",
    "In this case, we'll use mean squared error, R2, and mean absolute error because it is more interpretable in a predictive context."
   ]
  },
  {
   "cell_type": "markdown",
   "id": "5a204573",
   "metadata": {},
   "source": [
    "## Linear Regression"
   ]
  },
  {
   "cell_type": "code",
   "execution_count": 42,
   "id": "8ec43f8f",
   "metadata": {},
   "outputs": [
    {
     "data": {
      "text/plain": [
       "LinearRegression()"
      ]
     },
     "execution_count": 42,
     "metadata": {},
     "output_type": "execute_result"
    }
   ],
   "source": [
    "#using linear regression\n",
    "# Make a linear regression instance\n",
    "lr=LinearRegression()\n",
    "# Training the model on the data, storing the information learned from the data\n",
    "# Model is learning the relationship between X and y \n",
    "lr.fit(X_train, y_train)\n"
   ]
  },
  {
   "cell_type": "code",
   "execution_count": 43,
   "id": "32de3974",
   "metadata": {},
   "outputs": [
    {
     "name": "stdout",
     "output_type": "stream",
     "text": [
      "R2 Score of training set 0.8607789185273351\n",
      "R2 Score of testing  set  0.8241552523056297\n"
     ]
    }
   ],
   "source": [
    "#Printing the R2 score of test and train set\n",
    "print(f'R2 Score of training set {lr.score(X_train, y_train)}')\n",
    "print(f'R2 Score of testing  set  {lr.score(X_test, y_test)}')"
   ]
  },
  {
   "cell_type": "markdown",
   "id": "e189ac12",
   "metadata": {},
   "source": [
    "#### Create a cross-valiation with five folds.\n",
    "-  Cross valiation allows the training set into distinct subsets called folds.\n",
    "- A model is trained using k-1 of the folds as training data"
   ]
  },
  {
   "cell_type": "code",
   "execution_count": 44,
   "id": "1ad08662",
   "metadata": {},
   "outputs": [
    {
     "data": {
      "text/plain": [
       "array([-96770.77735665, -91440.28913294, -98186.66455641, -89568.07046732,\n",
       "       -85129.35208968])"
      ]
     },
     "execution_count": 44,
     "metadata": {},
     "output_type": "execute_result"
    }
   ],
   "source": [
    "cross_val_score(lr, X_train, y_train, scoring='neg_mean_absolute_error', cv=5)"
   ]
  },
  {
   "cell_type": "code",
   "execution_count": 45,
   "id": "3c5382b7",
   "metadata": {},
   "outputs": [
    {
     "name": "stdout",
     "output_type": "stream",
     "text": [
      "The R2 of Linear Regression is 0.7665757066684497\n",
      "The mean squared error of Linear Regression is 153779.66110982996\n",
      "The mean squared error of Linear Regression is 98881.91453360615\n"
     ]
    }
   ],
   "source": [
    "lr_r2=np.mean(cross_val_score(lr, X, y, cv=5))\n",
    "print(f'The R2 of Linear Regression is {lr_r2}')\n",
    "\n",
    "#cross validation features gives greater is better, so score function is opposite of \n",
    "#MSE so we need to use -ve to get mse\n",
    "lr_mse=np.mean(cross_val_score(lr, X, y, cv=5, scoring='neg_mean_squared_error'))\n",
    "lr_rmse=np.sqrt(-(lr_mse))\n",
    "print(f'The mean squared error of Linear Regression is {lr_rmse}')\n",
    "\n",
    "#mean absolute error\n",
    "lr_mae=np.mean(cross_val_score(lr, X, y, cv=5, scoring='neg_mean_absolute_error'))\n",
    "lr_mae=(-(lr_mae))\n",
    "print(f'The mean squared error of Linear Regression is {lr_mae}')"
   ]
  },
  {
   "cell_type": "markdown",
   "id": "47828ae3",
   "metadata": {},
   "source": [
    "## Laso Regression"
   ]
  },
  {
   "cell_type": "code",
   "execution_count": 46,
   "id": "9299b4b3",
   "metadata": {},
   "outputs": [
    {
     "data": {
      "text/plain": [
       "Lasso()"
      ]
     },
     "execution_count": 46,
     "metadata": {},
     "output_type": "execute_result"
    }
   ],
   "source": [
    "#using lassoregression(lasso make some features going to exactly zero)\n",
    "#alpha=0 no regularization( all features are used)\n",
    "# Make a lasso regression instance\n",
    "lr_l=Lasso()\n",
    "lr_l.fit(X_train, y_train)\n"
   ]
  },
  {
   "cell_type": "code",
   "execution_count": 47,
   "id": "22f535b2",
   "metadata": {},
   "outputs": [
    {
     "name": "stdout",
     "output_type": "stream",
     "text": [
      "R2 Score of training set 0.860778918260464\n",
      "R2 Score of testing set  0.8241560622762453\n"
     ]
    }
   ],
   "source": [
    "#Printing the R2 score of test and train set\n",
    "print(f'R2 Score of training set {lr_l.score(X_train, y_train)}')\n",
    "print(f'R2 Score of testing set  {lr_l.score(X_test, y_test)}')"
   ]
  },
  {
   "cell_type": "markdown",
   "id": "dc3b7ae9",
   "metadata": {},
   "source": [
    "#### Create a cross-valiation with five folds."
   ]
  },
  {
   "cell_type": "code",
   "execution_count": 48,
   "id": "3e9d3985",
   "metadata": {},
   "outputs": [
    {
     "data": {
      "text/plain": [
       "array([-95308.33155207, -93686.34282313, -85900.96676039])"
      ]
     },
     "execution_count": 48,
     "metadata": {},
     "output_type": "execute_result"
    }
   ],
   "source": [
    "cross_val_score(lr_l, X_train, y_train, scoring='neg_mean_absolute_error', cv=3)"
   ]
  },
  {
   "cell_type": "code",
   "execution_count": 49,
   "id": "d94cc1da",
   "metadata": {},
   "outputs": [
    {
     "name": "stdout",
     "output_type": "stream",
     "text": [
      "The R2 of Lasso Regression is 0.7665757712338103\n",
      "The mean squared error of Lasso Regression is 153779.6532495439\n",
      "The mean squared error of Lasso Regression is 98881.80154688364\n"
     ]
    }
   ],
   "source": [
    "lr_l_r2=np.mean(cross_val_score(lr_l, X, y, cv=5))\n",
    "print(f'The R2 of Lasso Regression is {lr_l_r2}')\n",
    "\n",
    "#cross validation features gives greater is better, so score function is opposite of \n",
    "#MSE so we need to use -ve to get mse\n",
    "lr_l_mse=np.mean(cross_val_score(lr_l, X, y, cv=5, scoring='neg_mean_squared_error'))\n",
    "lr_l_rmse=np.sqrt(-(lr_l_mse))\n",
    "print(f'The mean squared error of Lasso Regression is {lr_l_rmse}')\n",
    "\n",
    "#mean absolute error\n",
    "lr_l_mae=np.mean(cross_val_score(lr_l, X, y, cv=5, scoring='neg_mean_absolute_error'))\n",
    "lr_l_mae=(-(lr_l_mae))\n",
    "print(f'The mean squared error of Lasso Regression is {lr_l_mae}')"
   ]
  },
  {
   "cell_type": "code",
   "execution_count": 50,
   "id": "9a54b549",
   "metadata": {},
   "outputs": [
    {
     "data": {
      "image/png": "[encoded data removed]",
      "text/plain": [
       "<Figure size 432x288 with 1 Axes>"
      ]
     },
     "metadata": {
      "needs_background": "light"
     },
     "output_type": "display_data"
    }
   ],
   "source": [
    "#choosing the best alpha\n",
    "alpha=[]\n",
    "error=[]\n",
    "for i in range(1,1000):\n",
    "    alpha.append(i/10)\n",
    "    lrl=Lasso(alpha=(i/10))\n",
    "    error.append(np.mean(cross_val_score(lrl, X_train, y_train, scoring='neg_mean_absolute_error',\n",
    "                                         cv=5)))\n",
    "plt.plot(alpha,error) \n",
    "plt.show()"
   ]
  },
  {
   "cell_type": "code",
   "execution_count": 51,
   "id": "856f99ef",
   "metadata": {},
   "outputs": [
    {
     "data": {
      "text/plain": [
       "Lasso(alpha=10)"
      ]
     },
     "execution_count": 51,
     "metadata": {},
     "output_type": "execute_result"
    }
   ],
   "source": [
    "#choosing the best alpha\n",
    "lrl=Lasso(alpha=10)\n",
    "lrl.fit(X_train, y_train)\n"
   ]
  },
  {
   "cell_type": "code",
   "execution_count": 52,
   "id": "8d6619c7",
   "metadata": {},
   "outputs": [
    {
     "name": "stdout",
     "output_type": "stream",
     "text": [
      "R2 Score of training set with alpha 10 0.860778892679362\n",
      "R2 Score of testing set with alpha 10 0.8241627174082344\n"
     ]
    }
   ],
   "source": [
    "#Printing the R2 score of test and train set \n",
    "print(f'R2 Score of training set with alpha 10 {lrl.score(X_train, y_train)}')\n",
    "print(f'R2 Score of testing set with alpha 10 {lrl.score(X_test, y_test)}')"
   ]
  },
  {
   "cell_type": "markdown",
   "id": "2b55a59a",
   "metadata": {},
   "source": [
    "#### Create a cross-valiation with five folds."
   ]
  },
  {
   "cell_type": "code",
   "execution_count": 53,
   "id": "37bc0b68",
   "metadata": {},
   "outputs": [
    {
     "data": {
      "text/plain": [
       "array([-95308.33155207, -93686.34282313, -85900.96676039])"
      ]
     },
     "execution_count": 53,
     "metadata": {},
     "output_type": "execute_result"
    }
   ],
   "source": [
    "cross_val_score(lr_l, X_train, y_train, scoring='neg_mean_absolute_error', cv=3)"
   ]
  },
  {
   "cell_type": "code",
   "execution_count": 54,
   "id": "aaa3dbc4",
   "metadata": {},
   "outputs": [
    {
     "name": "stdout",
     "output_type": "stream",
     "text": [
      "The R2 of Lasso Regression with alpha 10 is 0.7665763503179452\n",
      "The mean squared error of Lasso Regression with alpha 10 is 153779.6532495439\n",
      "The mean squared error of Lasso Regressionwith alpha 10 is 98881.80154688364\n"
     ]
    }
   ],
   "source": [
    "lrl_r2=np.mean(cross_val_score(lrl, X, y, cv=5))\n",
    "print(f'The R2 of Lasso Regression with alpha 10 is {lrl_r2}')\n",
    "\n",
    "#cross validation features gives greater is better, so score function is opposite of \n",
    "#MSE so we need to use -ve to get mse\n",
    "lrl_mse=np.mean(cross_val_score(lr_l, X, y, cv=5, scoring='neg_mean_squared_error'))\n",
    "lrl_rmse=np.sqrt(-(lrl_mse))\n",
    "print(f'The mean squared error of Lasso Regression with alpha 10 is {lrl_rmse}')\n",
    "\n",
    "#mean absolute error\n",
    "lrl_mae=np.mean(cross_val_score(lr_l, X, y, cv=5, scoring='neg_mean_absolute_error'))\n",
    "lrl_mae=(-(lrl_mae))\n",
    "print(f'The mean squared error of Lasso Regressionwith alpha 10 is {lrl_mae}')"
   ]
  },
  {
   "cell_type": "code",
   "execution_count": null,
   "id": "48b34972",
   "metadata": {},
   "outputs": [],
   "source": []
  },
  {
   "cell_type": "markdown",
   "id": "53a4465f",
   "metadata": {},
   "source": [
    "## Ridge Regression"
   ]
  },
  {
   "cell_type": "code",
   "execution_count": 133,
   "id": "58ecca0f",
   "metadata": {},
   "outputs": [
    {
     "data": {
      "text/plain": [
       "Ridge()"
      ]
     },
     "execution_count": 133,
     "metadata": {},
     "output_type": "execute_result"
    }
   ],
   "source": [
    "#using ridge regression(ridge make some features going to near zero)\n",
    "#alpha=0 no regularization( all features are used)\n",
    "# Make a ridge regression instance\n",
    "lr_r=Ridge()\n",
    "lr_r.fit(X_train, y_train)\n"
   ]
  },
  {
   "cell_type": "code",
   "execution_count": 134,
   "id": "6a839a4e",
   "metadata": {},
   "outputs": [
    {
     "name": "stdout",
     "output_type": "stream",
     "text": [
      "R2 Score of training set 0.8607760570570506\n",
      "R2 Score of testing set  0.8243272785793818\n"
     ]
    }
   ],
   "source": [
    "#Printing the R2 score of test and train set\n",
    "print(f'R2 Score of training set {lr_r.score(X_train, y_train)}')\n",
    "print(f'R2 Score of testing set  {lr_r.score(X_test, y_test)}')"
   ]
  },
  {
   "cell_type": "markdown",
   "id": "ca1393f9",
   "metadata": {},
   "source": [
    "#### Create a cross-valiation with five folds."
   ]
  },
  {
   "cell_type": "code",
   "execution_count": 135,
   "id": "31ab5df1",
   "metadata": {},
   "outputs": [
    {
     "data": {
      "text/plain": [
       "array([-95206.94615567, -93599.29564197, -85693.196828  ])"
      ]
     },
     "execution_count": 135,
     "metadata": {},
     "output_type": "execute_result"
    }
   ],
   "source": [
    "cross_val_score(lr_r, X_train, y_train, scoring='neg_mean_absolute_error', cv=3)"
   ]
  },
  {
   "cell_type": "code",
   "execution_count": 136,
   "id": "3256e0e0",
   "metadata": {},
   "outputs": [
    {
     "name": "stdout",
     "output_type": "stream",
     "text": [
      "The R2 of Ridge Regression is 0.7665769744713284\n",
      "The mean squared error of Ridge Regression is 153779.6532495439\n",
      "The mean squared error of Ridge Regression is -98881.80154688364\n"
     ]
    }
   ],
   "source": [
    "lr_r_r2=np.mean(cross_val_score(lr_r, X, y, cv=5))\n",
    "print(f'The R2 of Ridge Regression is {lr_r_r2}')\n",
    "\n",
    "#cross validation features gives greater is better, so score function is opposite of \n",
    "#MSE so we need to use -ve to get mse\n",
    "lr_r_mse=np.mean(cross_val_score(lr_r, X, y, cv=5, scoring='neg_mean_squared_error'))\n",
    "lr_r_rmse=np.sqrt(-(lr_l_mse))\n",
    "print(f'The mean squared error of Ridge Regression is {lr_r_rmse}')\n",
    "\n",
    "#mean absolute error\n",
    "lr_r_mae=np.mean(cross_val_score(lr_r, X, y, cv=5, scoring='neg_mean_absolute_error'))\n",
    "lr_r_mae=(-(lr_l_mae))\n",
    "print(f'The mean squared error of Ridge Regression is {lr_r_mae}')"
   ]
  },
  {
   "cell_type": "code",
   "execution_count": 137,
   "id": "940f531a",
   "metadata": {},
   "outputs": [
    {
     "data": {
      "image/png": "[encoded data removed]",
      "text/plain": [
       "<Figure size 432x288 with 1 Axes>"
      ]
     },
     "metadata": {
      "needs_background": "light"
     },
     "output_type": "display_data"
    }
   ],
   "source": [
    "#choosing the best alpha\n",
    "alpha=[]\n",
    "error=[]\n",
    "for i in range(1,1000):\n",
    "    alpha.append(i/10)\n",
    "    lrr=Ridge(alpha=(i/10))\n",
    "    error.append(np.mean(cross_val_score(lrr, X_train, y_train, scoring='neg_mean_absolute_error',\n",
    "                                         cv=5)))\n",
    "plt.plot(alpha,error) \n",
    "plt.show()"
   ]
  },
  {
   "cell_type": "code",
   "execution_count": 152,
   "id": "e939b766",
   "metadata": {},
   "outputs": [
    {
     "data": {
      "text/plain": [
       "Ridge(alpha=40)"
      ]
     },
     "execution_count": 152,
     "metadata": {},
     "output_type": "execute_result"
    }
   ],
   "source": [
    "#choosing the best alpha (look figure where alpha start to saturate)\n",
    "lrr=Ridge(alpha=40)\n",
    "lrr.fit(X_train, y_train)\n"
   ]
  },
  {
   "cell_type": "code",
   "execution_count": 140,
   "id": "c5664f26",
   "metadata": {},
   "outputs": [
    {
     "name": "stdout",
     "output_type": "stream",
     "text": [
      "R2 Score of training set with alpha 40 0.857750153931297\n",
      "R2 Score of testing set with alpha 40 0.826033859061976\n"
     ]
    }
   ],
   "source": [
    "#Printing the R2 score of test and train set \n",
    "print(f'R2 Score of training set with alpha 40 {lrr.score(X_train, y_train)}')\n",
    "print(f'R2 Score of testing set with alpha 40 {lrr.score(X_test, y_test)}')"
   ]
  },
  {
   "cell_type": "markdown",
   "id": "45a84777",
   "metadata": {},
   "source": [
    "#### Create a cross-valiation with five folds."
   ]
  },
  {
   "cell_type": "code",
   "execution_count": 141,
   "id": "f91945fb",
   "metadata": {},
   "outputs": [
    {
     "data": {
      "text/plain": [
       "array([-95206.94615567, -93599.29564197, -85693.196828  ])"
      ]
     },
     "execution_count": 141,
     "metadata": {},
     "output_type": "execute_result"
    }
   ],
   "source": [
    "cross_val_score(lr_r, X_train, y_train, scoring='neg_mean_absolute_error', cv=3)"
   ]
  },
  {
   "cell_type": "code",
   "execution_count": 153,
   "id": "37963d87",
   "metadata": {},
   "outputs": [
    {
     "name": "stdout",
     "output_type": "stream",
     "text": [
      "The R2 of Ridge Regression with alpha 10 is 0.7666209592270151\n",
      "The mean squared error of Ridge Regression with alpha 10 is 153779.37555283975\n",
      "The mean squared error of Ridge Regression with alpha 10 is 98880.7867983774\n"
     ]
    }
   ],
   "source": [
    "lrr_r2=np.mean(cross_val_score(lrr, X, y, cv=5))\n",
    "print(f'The R2 of Ridge Regression with alpha 10 is {lrr_r2}')\n",
    "\n",
    "#cross validation features gives greater is better, so score function is opposite of \n",
    "#MSE so we need to use -ve to get mse\n",
    "lrr_mse=np.mean(cross_val_score(lr_r, X, y, cv=5, scoring='neg_mean_squared_error'))\n",
    "lrr_rmse=np.sqrt(-(lrr_mse))\n",
    "print(f'The mean squared error of Ridge Regression with alpha 10 is {lrr_rmse}')\n",
    "\n",
    "#mean absolute error\n",
    "lrr_mae=np.mean(cross_val_score(lr_r, X, y, cv=5, scoring='neg_mean_absolute_error'))\n",
    "lrr_mae=(-(lrr_mae))\n",
    "print(f'The mean squared error of Ridge Regression with alpha 10 is {lrr_mae}')"
   ]
  },
  {
   "cell_type": "code",
   "execution_count": null,
   "id": "4242f609",
   "metadata": {},
   "outputs": [],
   "source": []
  },
  {
   "cell_type": "markdown",
   "id": "82613c2e",
   "metadata": {},
   "source": [
    "## Decision Tree"
   ]
  },
  {
   "cell_type": "code",
   "execution_count": 55,
   "id": "2ce04df5",
   "metadata": {},
   "outputs": [
    {
     "data": {
      "text/plain": [
       "DecisionTreeRegressor()"
      ]
     },
     "execution_count": 55,
     "metadata": {},
     "output_type": "execute_result"
    }
   ],
   "source": [
    "# Make a decision tree instance\n",
    "dt=DecisionTreeRegressor()\n",
    "dt.fit(X_train, y_train)"
   ]
  },
  {
   "cell_type": "code",
   "execution_count": 56,
   "id": "837819ba",
   "metadata": {},
   "outputs": [
    {
     "name": "stdout",
     "output_type": "stream",
     "text": [
      "R2 Score of training set 1.0\n",
      "R2 Score of testing set  0.8350837947698952\n"
     ]
    }
   ],
   "source": [
    "#Printing the score of test and train set\n",
    "print(f'R2 Score of training set {dt.score(X_train, y_train)}')\n",
    "print(f'R2 Score of testing set  {dt.score(X_test, y_test)}')"
   ]
  },
  {
   "cell_type": "markdown",
   "id": "8f79e1d7",
   "metadata": {},
   "source": [
    "#### Create a cross-valiation with five folds."
   ]
  },
  {
   "cell_type": "code",
   "execution_count": 57,
   "id": "d7e75b70",
   "metadata": {},
   "outputs": [
    {
     "data": {
      "text/plain": [
       "array([-104530.54871795, -104193.86118252,  -92439.61696658])"
      ]
     },
     "execution_count": 57,
     "metadata": {},
     "output_type": "execute_result"
    }
   ],
   "source": [
    "cross_val_score(dt, X_train, y_train, scoring='neg_mean_absolute_error', cv=3)"
   ]
  },
  {
   "cell_type": "code",
   "execution_count": 58,
   "id": "625620b3",
   "metadata": {},
   "outputs": [
    {
     "name": "stdout",
     "output_type": "stream",
     "text": [
      "The R2 of Decision Tree Regressor is 0.6126408087576757\n",
      "The mean squared error of Decision Tree Regressor is 191037.10555742183\n",
      "The mean squared error of Decision Tree Regressor is 110367.56369863013\n"
     ]
    }
   ],
   "source": [
    "dt_r2=np.mean(cross_val_score(dt, X, y, cv=5))\n",
    "print(f'The R2 of Decision Tree Regressor is {dt_r2}')\n",
    "\n",
    "#cross validation features gives greater is better, so score function is opposite of \n",
    "#MSE so we need to use -ve to get mse\n",
    "dt_mse=np.mean(cross_val_score(dt, X, y, cv=5, scoring='neg_mean_squared_error'))\n",
    "dt_rmse=np.sqrt(-(dt_mse))\n",
    "print(f'The mean squared error of Decision Tree Regressor is {dt_rmse}')\n",
    "\n",
    "#mean absolute error\n",
    "dt_mae=np.mean(cross_val_score(dt, X, y, cv=5, scoring='neg_mean_absolute_error'))\n",
    "dt_mae=(-(dt_mae))\n",
    "print(f'The mean squared error of Decision Tree Regressor is {dt_mae}')"
   ]
  },
  {
   "cell_type": "markdown",
   "id": "a24d3d6b",
   "metadata": {},
   "source": [
    "### Tuning hyperparamaters  using Grid Search CV"
   ]
  },
  {
   "cell_type": "code",
   "execution_count": 59,
   "id": "47dd0f71",
   "metadata": {},
   "outputs": [
    {
     "name": "stdout",
     "output_type": "stream",
     "text": [
      "Fitting 3 folds for each of 16 candidates, totalling 48 fits\n"
     ]
    },
    {
     "data": {
      "text/plain": [
       "GridSearchCV(cv=3, estimator=DecisionTreeRegressor(), n_jobs=-1,\n",
       "             param_grid={'max_depth': [4, 6, 8, 12],\n",
       "                         'min_samples_leaf': range(1, 5)},\n",
       "             verbose=1)"
      ]
     },
     "execution_count": 59,
     "metadata": {},
     "output_type": "execute_result"
    }
   ],
   "source": [
    "parameters = {\n",
    "              'max_depth':[4,6, 8,12],\n",
    "              'min_samples_leaf':range(1,5)}\n",
    "gs_dt=GridSearchCV(dt, param_grid=parameters, \n",
    "                    cv=3, verbose=1, n_jobs=-1)\n",
    "gs_dt.fit(X_train, y_train)"
   ]
  },
  {
   "cell_type": "code",
   "execution_count": 60,
   "id": "80f14d5d",
   "metadata": {},
   "outputs": [
    {
     "data": {
      "text/plain": [
       "{'max_depth': 4, 'min_samples_leaf': 1}"
      ]
     },
     "execution_count": 60,
     "metadata": {},
     "output_type": "execute_result"
    }
   ],
   "source": [
    "#Best parameters\n",
    "gs_dt.best_params_"
   ]
  },
  {
   "cell_type": "code",
   "execution_count": 74,
   "id": "1b3630fd",
   "metadata": {},
   "outputs": [
    {
     "data": {
      "text/plain": [
       "RandomForestRegressor(max_features=8)"
      ]
     },
     "execution_count": 74,
     "metadata": {},
     "output_type": "execute_result"
    }
   ],
   "source": [
    "#best estimator\n",
    "dt_b=gs_dt.best_estimator_\n",
    "rf_b"
   ]
  },
  {
   "cell_type": "code",
   "execution_count": 130,
   "id": "5e6ac263",
   "metadata": {},
   "outputs": [
    {
     "name": "stdout",
     "output_type": "stream",
     "text": [
      "R2 Score of training set after hyperpar tuining 0.9843889980979063\n",
      "R2 Score of testing set after hyperpar tuining  0.8865290483886927\n"
     ]
    }
   ],
   "source": [
    "#Printing the score of test and train set\n",
    "dt_tr=rf_b.score(X_train, y_train)\n",
    "dt_te=rf_b.score(X_test, y_test)\n",
    "print(f'R2 Score of training set after hyperpar tuining {dt_tr}')\n",
    "print(f'R2 Score of testing set after hyperpar tuining  {dt_te}')"
   ]
  },
  {
   "cell_type": "code",
   "execution_count": null,
   "id": "cbbff412",
   "metadata": {},
   "outputs": [],
   "source": []
  },
  {
   "cell_type": "markdown",
   "id": "ee5344d5",
   "metadata": {},
   "source": [
    "## Random Forest"
   ]
  },
  {
   "cell_type": "code",
   "execution_count": 76,
   "id": "5a480f57",
   "metadata": {},
   "outputs": [
    {
     "data": {
      "text/plain": [
       "RandomForestRegressor()"
      ]
     },
     "execution_count": 76,
     "metadata": {},
     "output_type": "execute_result"
    }
   ],
   "source": [
    "# Make a Random forest instance\n",
    "rf=RandomForestRegressor()\n",
    "rf.fit(X_train, y_train)"
   ]
  },
  {
   "cell_type": "code",
   "execution_count": 77,
   "id": "7f838e15",
   "metadata": {},
   "outputs": [
    {
     "name": "stdout",
     "output_type": "stream",
     "text": [
      "R2 Score of training set 0.9832197185166933\n",
      "R2 Score of testing set 0.8859341741575314\n"
     ]
    }
   ],
   "source": [
    "#Printing the score of test and train set\n",
    "print(f'R2 Score of training set {rf.score(X_train, y_train)}')\n",
    "print(f'R2 Score of testing set {rf.score(X_test, y_test)}')"
   ]
  },
  {
   "cell_type": "markdown",
   "id": "0ee6c0a1",
   "metadata": {},
   "source": [
    "#### Create a cross-valiation with five folds."
   ]
  },
  {
   "cell_type": "code",
   "execution_count": 78,
   "id": "cd9f0005",
   "metadata": {},
   "outputs": [
    {
     "data": {
      "text/plain": [
       "array([-83210.56710256, -77413.57917738, -69399.89789203])"
      ]
     },
     "execution_count": 78,
     "metadata": {},
     "output_type": "execute_result"
    }
   ],
   "source": [
    "cross_val_score(rf, X_train, y_train, scoring='neg_mean_absolute_error', cv=3)"
   ]
  },
  {
   "cell_type": "code",
   "execution_count": 79,
   "id": "68aeef57",
   "metadata": {},
   "outputs": [
    {
     "name": "stdout",
     "output_type": "stream",
     "text": [
      "The R2 of Random Forest Regressor is 0.8123497082504274\n",
      "The mean squared error of Random Forest Regressor is 153779.6532495439\n",
      "The mean squared error of Random Forest Regressor is 83180.49967123289\n"
     ]
    }
   ],
   "source": [
    "rf_r2=np.mean(cross_val_score(rf, X, y, cv=5))\n",
    "print(f'The R2 of Random Forest Regressor is {rf_r2}')\n",
    "\n",
    "#cross validation features gives greater is better, so score function is opposite of \n",
    "#MSE so we need to use -ve to get mse\n",
    "rf_mse=np.mean(cross_val_score(rf, X, y, cv=5, scoring='neg_mean_squared_error'))\n",
    "rf_rmse=np.sqrt(-(lrl_mse))\n",
    "print(f'The mean squared error of Random Forest Regressor is {rf_rmse}')\n",
    "\n",
    "#mean absolute error\n",
    "rf_mae=np.mean(cross_val_score(rf, X, y, cv=5, scoring='neg_mean_absolute_error'))\n",
    "rf_mae=(-(rf_mae))\n",
    "print(f'The mean squared error of Random Forest Regressor is {rf_mae}')"
   ]
  },
  {
   "cell_type": "code",
   "execution_count": null,
   "id": "d864dadb",
   "metadata": {},
   "outputs": [],
   "source": []
  },
  {
   "cell_type": "markdown",
   "id": "d4e486b6",
   "metadata": {},
   "source": [
    "#### Tuning the hyperparameters using Grid Search CV"
   ]
  },
  {
   "cell_type": "code",
   "execution_count": 80,
   "id": "f2813188",
   "metadata": {},
   "outputs": [
    {
     "data": {
      "text/plain": [
       "GridSearchCV(cv=5, estimator=RandomForestRegressor(),\n",
       "             param_grid=[{'max_features': [4, 6, 8, 10],\n",
       "                          'n_estimators': [3, 10, 60, 100, 200]},\n",
       "                         {'bootstrap': [False], 'max_features': [4, 6, 8, 10],\n",
       "                          'n_estimators': [3, 10, 100]}],\n",
       "             return_train_score=True, scoring='neg_mean_absolute_error')"
      ]
     },
     "execution_count": 80,
     "metadata": {},
     "output_type": "execute_result"
    }
   ],
   "source": [
    "parameters = [{'n_estimators':[3,10,60,100,200],\n",
    "              'max_features':[4,6,8,10]},\n",
    "              {'bootstrap':[False], 'n_estimators':[3,10,100],\n",
    "              'max_features':[4,6,8,10]}]\n",
    "gs_rf=GridSearchCV(rf, parameters, scoring='neg_mean_absolute_error',\n",
    "                   cv=5, return_train_score=True)\n",
    "gs_rf.fit(X_train, y_train)"
   ]
  },
  {
   "cell_type": "code",
   "execution_count": 84,
   "id": "d4ef105d",
   "metadata": {},
   "outputs": [
    {
     "data": {
      "text/plain": [
       "{'max_features': 6, 'n_estimators': 200}"
      ]
     },
     "execution_count": 84,
     "metadata": {},
     "output_type": "execute_result"
    }
   ],
   "source": [
    "#Best parameters\n",
    "gs_rf.best_params_"
   ]
  },
  {
   "cell_type": "code",
   "execution_count": 85,
   "id": "188b08ee",
   "metadata": {},
   "outputs": [
    {
     "data": {
      "text/plain": [
       "RandomForestRegressor(max_features=6, n_estimators=200)"
      ]
     },
     "execution_count": 85,
     "metadata": {},
     "output_type": "execute_result"
    }
   ],
   "source": [
    "#best estimator\n",
    "rf_b=gs_rf.best_estimator_\n",
    "rf_b"
   ]
  },
  {
   "cell_type": "code",
   "execution_count": 129,
   "id": "1cec32f0",
   "metadata": {},
   "outputs": [
    {
     "name": "stdout",
     "output_type": "stream",
     "text": [
      "R2 Score of training set after hyperpar tuining 0.9843889980979063\n",
      "R2 Score of testing set after hyperpar tuining  0.8865290483886927\n"
     ]
    }
   ],
   "source": [
    "#Printing the score of test and train set\n",
    "rf_tr=rf_b.score(X_train, y_train)\n",
    "rf_te=rf_b.score(X_test, y_test)\n",
    "print(f'R2 Score of training set after hyperpar tuining {rf_tr}')\n",
    "print(f'R2 Score of testing set after hyperpar tuining  {rf_te}')"
   ]
  },
  {
   "cell_type": "code",
   "execution_count": 86,
   "id": "e9c8025e",
   "metadata": {},
   "outputs": [
    {
     "name": "stdout",
     "output_type": "stream",
     "text": [
      "92240.80794663928 {'max_features': 4, 'n_estimators': 3}\n",
      "80045.21988334984 {'max_features': 4, 'n_estimators': 10}\n",
      "74890.91331786556 {'max_features': 4, 'n_estimators': 60}\n",
      "74848.34648508861 {'max_features': 4, 'n_estimators': 100}\n",
      "74475.55926325153 {'max_features': 4, 'n_estimators': 200}\n",
      "91217.45859897534 {'max_features': 6, 'n_estimators': 3}\n",
      "78427.67600895051 {'max_features': 6, 'n_estimators': 10}\n",
      "74297.56067874741 {'max_features': 6, 'n_estimators': 60}\n",
      "74085.76013227689 {'max_features': 6, 'n_estimators': 100}\n",
      "73892.36340684493 {'max_features': 6, 'n_estimators': 200}\n",
      "82502.78402479734 {'max_features': 8, 'n_estimators': 3}\n",
      "78729.992772092 {'max_features': 8, 'n_estimators': 10}\n",
      "74341.87491397969 {'max_features': 8, 'n_estimators': 60}\n",
      "74782.53918931808 {'max_features': 8, 'n_estimators': 100}\n",
      "74461.46570173508 {'max_features': 8, 'n_estimators': 200}\n",
      "85664.38472787742 {'max_features': 10, 'n_estimators': 3}\n",
      "76651.19984043139 {'max_features': 10, 'n_estimators': 10}\n",
      "74103.93955754864 {'max_features': 10, 'n_estimators': 60}\n",
      "74995.09116899599 {'max_features': 10, 'n_estimators': 100}\n",
      "74449.77831559737 {'max_features': 10, 'n_estimators': 200}\n",
      "92604.56496949242 {'bootstrap': False, 'max_features': 4, 'n_estimators': 3}\n",
      "78317.5703910348 {'bootstrap': False, 'max_features': 4, 'n_estimators': 10}\n",
      "74352.7998978394 {'bootstrap': False, 'max_features': 4, 'n_estimators': 100}\n",
      "87632.36292016678 {'bootstrap': False, 'max_features': 6, 'n_estimators': 3}\n",
      "75462.41692014234 {'bootstrap': False, 'max_features': 6, 'n_estimators': 10}\n",
      "75665.91062341808 {'bootstrap': False, 'max_features': 6, 'n_estimators': 100}\n",
      "85319.21634569531 {'bootstrap': False, 'max_features': 8, 'n_estimators': 3}\n",
      "81616.89487326216 {'bootstrap': False, 'max_features': 8, 'n_estimators': 10}\n",
      "77970.41230446425 {'bootstrap': False, 'max_features': 8, 'n_estimators': 100}\n",
      "89957.46736852401 {'bootstrap': False, 'max_features': 10, 'n_estimators': 3}\n",
      "89665.54124720297 {'bootstrap': False, 'max_features': 10, 'n_estimators': 10}\n",
      "86115.54271915925 {'bootstrap': False, 'max_features': 10, 'n_estimators': 100}\n"
     ]
    }
   ],
   "source": [
    "#printing the evaluation scores\n",
    "cvres=gs_rf.cv_results_\n",
    "for mean_score, params in zip(cvres['mean_test_score'], cvres['params']):\n",
    "    print((-mean_score), params)"
   ]
  },
  {
   "cell_type": "markdown",
   "id": "0dbd909f",
   "metadata": {},
   "source": [
    "### Important scores of each columns"
   ]
  },
  {
   "cell_type": "code",
   "execution_count": 121,
   "id": "ee9b4774",
   "metadata": {},
   "outputs": [
    {
     "data": {
      "text/plain": [
       "[(0.588529850654422, 'Unemployment Rate'),\n",
       " (0.17157983221345877, 'Personal Transport Rate'),\n",
       " (0.07687664819811256, 'House Value'),\n",
       " (0.07625423380338879, 'Monthly Owner Cost'),\n",
       " (0.016054494484978074, 'Household Income'),\n",
       " (0.015986989606609037, 'Public Transport Rate'),\n",
       " (0.014146348379131686, 'Monthly Rent'),\n",
       " (0.012919730328538721, 'Poverty Rate'),\n",
       " (0.009626692907647226, 'College Rate'),\n",
       " (0.009105708934748736, 'Population'),\n",
       " (0.008919470488964628, 'White Population Rate')]"
      ]
     },
     "execution_count": 121,
     "metadata": {},
     "output_type": "execute_result"
    }
   ],
   "source": [
    "feature_importances=rf_b.feature_importances_\n",
    "columns=['Population', 'House Value', 'Household Income', 'Poverty Rate',\n",
    "       'Unemployment Rate', 'Monthly Owner Cost', 'Monthly Rent',\n",
    "       'Public Transport Rate', 'Personal Transport Rate', 'College Rate',\n",
    "       'White Population Rate', 'Uneducated Rate']\n",
    "sorted(zip(feature_importances, columns), reverse=True)"
   ]
  },
  {
   "cell_type": "markdown",
   "id": "b5ab954d",
   "metadata": {},
   "source": [
    "## Predicting on Test set"
   ]
  },
  {
   "cell_type": "code",
   "execution_count": 143,
   "id": "79af550e",
   "metadata": {},
   "outputs": [],
   "source": [
    "#Testing the model in test data\n",
    "y_pred_lr=lr.predict(X_test)     #linear \n",
    "y_pred_lrl=lrl.predict(X_test)   #lasso\n",
    "y_pred_lrr=lrr.predict(X_test)   #Ridge\n",
    "y_pred_dt=dt_b.predict(X_test)   #Dicision tree\n",
    "y_pred_rf=rf_b.predict(X_test)   #Random forest"
   ]
  },
  {
   "cell_type": "markdown",
   "id": "353ba3ee",
   "metadata": {},
   "source": [
    "### Mean Absolute Error"
   ]
  },
  {
   "cell_type": "code",
   "execution_count": 145,
   "id": "0ed12afd",
   "metadata": {},
   "outputs": [
    {
     "name": "stdout",
     "output_type": "stream",
     "text": [
      "The mean absoulte error of linear regression is 103315.59489383496\n",
      "The mean absoulte error of lasso regression is 103304.43627930051\n",
      "The mean absoulte error of Ridge regression is 100129.08346063929\n",
      "The mean absoulte error of decision tree regression is 94485.70441638898\n",
      "The mean absoulte error of random forest regression is 79457.6937328767\n"
     ]
    }
   ],
   "source": [
    "#regression matrices-mean absolute error(give you the prediction error)\n",
    "lin_mae_lr=mean_absolute_error(y_test, y_pred_lr)\n",
    "print(f'The mean absoulte error of linear regression is {lin_mae_lr}')\n",
    "\n",
    "lin_mae_lrl=mean_absolute_error(y_test, y_pred_lrl)\n",
    "print(f'The mean absoulte error of lasso regression is {lin_mae_lrl}')\n",
    "\n",
    "lin_mae_lrr=mean_absolute_error(y_test, y_pred_lrr)\n",
    "print(f'The mean absoulte error of Ridge regression is {lin_mae_lrr}')\n",
    "\n",
    "lin_mae_dt=mean_absolute_error(y_test, y_pred_dt)\n",
    "print(f'The mean absoulte error of decision tree regression is {lin_mae_dt}')\n",
    "\n",
    "lin_mae_rf=mean_absolute_error(y_test, y_pred_rf)\n",
    "print(f'The mean absoulte error of random forest regression is {lin_mae_rf}')\n"
   ]
  },
  {
   "cell_type": "markdown",
   "id": "96671df6",
   "metadata": {},
   "source": [
    "### Root Mean Squared Error"
   ]
  },
  {
   "cell_type": "code",
   "execution_count": 146,
   "id": "3d19ce8d",
   "metadata": {},
   "outputs": [
    {
     "name": "stdout",
     "output_type": "stream",
     "text": [
      "The mean absoulte error of linear regression is 166339.4899058907\n",
      "The mean absoulte error of lasso regression is 166335.95907953737\n",
      "The mean absoulte error of ridge regression is 165448.57453711916\n",
      "The mean absoulte error of decision tree regression is 150582.82285356362\n",
      "The mean absoulte error of random forest regression is 133620.47565993297\n"
     ]
    }
   ],
   "source": [
    "#regression matrices-mean squared error(give you the prediction error)\n",
    "lin_mse_lr=mean_squared_error(y_test, y_pred_lr)\n",
    "lin_rmse_lr=np.sqrt(lin_mse_lr)\n",
    "print(f'The mean absoulte error of linear regression is {lin_rmse_lr}')\n",
    "\n",
    "lin_mse_lrl=mean_squared_error(y_test, y_pred_lrl)\n",
    "lin_rmse_lrl=np.sqrt(lin_mse_lrl)\n",
    "print(f'The mean absoulte error of lasso regression is {lin_rmse_lrl}')\n",
    "\n",
    "lin_mse_lrr=mean_squared_error(y_test, y_pred_lrr)\n",
    "lin_rmse_lrr=np.sqrt(lin_mse_lrr)\n",
    "print(f'The mean absoulte error of ridge regression is {lin_rmse_lrr}')\n",
    "\n",
    "lin_mse_dt=mean_squared_error(y_test, y_pred_dt)\n",
    "lin_rmse_dt=np.sqrt(lin_mse_dt)\n",
    "print(f'The mean absoulte error of decision tree regression is {lin_rmse_dt}')\n",
    "\n",
    "lin_mse_rf=mean_squared_error(y_test, y_pred_rf)\n",
    "lin_rmse_rf=np.sqrt(lin_mse_rf)\n",
    "print(f'The mean absoulte error of random forest regression is {lin_rmse_rf}')"
   ]
  },
  {
   "cell_type": "markdown",
   "id": "88c2303a",
   "metadata": {},
   "source": [
    "### Actual and predicted house rate --best model( RandomForest Regressor)"
   ]
  },
  {
   "cell_type": "code",
   "execution_count": 147,
   "id": "632da6f7",
   "metadata": {},
   "outputs": [
    {
     "data": {
      "text/html": [
       "<div>\n",
       "<style scoped>\n",
       "    .dataframe tbody tr th:only-of-type {\n",
       "        vertical-align: middle;\n",
       "    }\n",
       "\n",
       "    .dataframe tbody tr th {\n",
       "        vertical-align: top;\n",
       "    }\n",
       "\n",
       "    .dataframe thead th {\n",
       "        text-align: right;\n",
       "    }\n",
       "</style>\n",
       "<table border=\"1\" class=\"dataframe\">\n",
       "  <thead>\n",
       "    <tr style=\"text-align: right;\">\n",
       "      <th></th>\n",
       "      <th>Actual House Value</th>\n",
       "      <th>Random Forest Predicted House Value</th>\n",
       "      <th>Linear Reg Predicted House Value</th>\n",
       "      <th>Lasso Reg Predicted House Value</th>\n",
       "      <th>Ridge Reg Predicted House Value</th>\n",
       "      <th>Decesion Tree Predicted House Value</th>\n",
       "    </tr>\n",
       "    <tr>\n",
       "      <th>City</th>\n",
       "      <th></th>\n",
       "      <th></th>\n",
       "      <th></th>\n",
       "      <th></th>\n",
       "      <th></th>\n",
       "      <th></th>\n",
       "    </tr>\n",
       "  </thead>\n",
       "  <tbody>\n",
       "    <tr>\n",
       "      <th>Brentwood</th>\n",
       "      <td>581700.0</td>\n",
       "      <td>674753.000</td>\n",
       "      <td>7.562792e+05</td>\n",
       "      <td>7.563275e+05</td>\n",
       "      <td>7.568377e+05</td>\n",
       "      <td>7.518649e+05</td>\n",
       "    </tr>\n",
       "    <tr>\n",
       "      <th>West Point</th>\n",
       "      <td>220600.0</td>\n",
       "      <td>179286.500</td>\n",
       "      <td>1.418746e+05</td>\n",
       "      <td>1.419258e+05</td>\n",
       "      <td>1.431286e+05</td>\n",
       "      <td>1.702566e+05</td>\n",
       "    </tr>\n",
       "    <tr>\n",
       "      <th>Thermal</th>\n",
       "      <td>111900.0</td>\n",
       "      <td>149434.000</td>\n",
       "      <td>1.812393e+05</td>\n",
       "      <td>1.811242e+05</td>\n",
       "      <td>1.662423e+05</td>\n",
       "      <td>1.702566e+05</td>\n",
       "    </tr>\n",
       "    <tr>\n",
       "      <th>Corona Del Mar</th>\n",
       "      <td>2000001.0</td>\n",
       "      <td>1665087.420</td>\n",
       "      <td>1.324928e+06</td>\n",
       "      <td>1.324873e+06</td>\n",
       "      <td>1.321187e+06</td>\n",
       "      <td>1.428483e+06</td>\n",
       "    </tr>\n",
       "    <tr>\n",
       "      <th>Paicines</th>\n",
       "      <td>669600.0</td>\n",
       "      <td>875762.005</td>\n",
       "      <td>9.522636e+05</td>\n",
       "      <td>9.521771e+05</td>\n",
       "      <td>8.926321e+05</td>\n",
       "      <td>8.871152e+05</td>\n",
       "    </tr>\n",
       "    <tr>\n",
       "      <th>...</th>\n",
       "      <td>...</td>\n",
       "      <td>...</td>\n",
       "      <td>...</td>\n",
       "      <td>...</td>\n",
       "      <td>...</td>\n",
       "      <td>...</td>\n",
       "    </tr>\n",
       "    <tr>\n",
       "      <th>Riverside</th>\n",
       "      <td>463900.0</td>\n",
       "      <td>534240.000</td>\n",
       "      <td>6.554846e+05</td>\n",
       "      <td>6.555327e+05</td>\n",
       "      <td>6.609802e+05</td>\n",
       "      <td>5.737179e+05</td>\n",
       "    </tr>\n",
       "    <tr>\n",
       "      <th>Grass Valley</th>\n",
       "      <td>372000.0</td>\n",
       "      <td>367490.000</td>\n",
       "      <td>3.332920e+05</td>\n",
       "      <td>3.332877e+05</td>\n",
       "      <td>3.438195e+05</td>\n",
       "      <td>4.006592e+05</td>\n",
       "    </tr>\n",
       "    <tr>\n",
       "      <th>Carmel By The Sea</th>\n",
       "      <td>1542700.0</td>\n",
       "      <td>1125309.030</td>\n",
       "      <td>1.090095e+06</td>\n",
       "      <td>1.090069e+06</td>\n",
       "      <td>1.086420e+06</td>\n",
       "      <td>9.011267e+05</td>\n",
       "    </tr>\n",
       "    <tr>\n",
       "      <th>New Cuyama</th>\n",
       "      <td>128200.0</td>\n",
       "      <td>158415.500</td>\n",
       "      <td>7.015439e+04</td>\n",
       "      <td>7.021347e+04</td>\n",
       "      <td>9.550851e+04</td>\n",
       "      <td>1.702566e+05</td>\n",
       "    </tr>\n",
       "    <tr>\n",
       "      <th>Lake Hughes</th>\n",
       "      <td>294800.0</td>\n",
       "      <td>277633.000</td>\n",
       "      <td>2.350493e+05</td>\n",
       "      <td>2.351464e+05</td>\n",
       "      <td>2.563131e+05</td>\n",
       "      <td>2.500206e+05</td>\n",
       "    </tr>\n",
       "  </tbody>\n",
       "</table>\n",
       "<p>292 rows × 6 columns</p>\n",
       "</div>"
      ],
      "text/plain": [
       "                   Actual House Value  Random Forest Predicted House Value  \\\n",
       "City                                                                         \n",
       "Brentwood                    581700.0                           674753.000   \n",
       "West Point                   220600.0                           179286.500   \n",
       "Thermal                      111900.0                           149434.000   \n",
       "Corona Del Mar              2000001.0                          1665087.420   \n",
       "Paicines                     669600.0                           875762.005   \n",
       "...                               ...                                  ...   \n",
       "Riverside                    463900.0                           534240.000   \n",
       "Grass Valley                 372000.0                           367490.000   \n",
       "Carmel By The Sea           1542700.0                          1125309.030   \n",
       "New Cuyama                   128200.0                           158415.500   \n",
       "Lake Hughes                  294800.0                           277633.000   \n",
       "\n",
       "                   Linear Reg Predicted House Value  \\\n",
       "City                                                  \n",
       "Brentwood                              7.562792e+05   \n",
       "West Point                             1.418746e+05   \n",
       "Thermal                                1.812393e+05   \n",
       "Corona Del Mar                         1.324928e+06   \n",
       "Paicines                               9.522636e+05   \n",
       "...                                             ...   \n",
       "Riverside                              6.554846e+05   \n",
       "Grass Valley                           3.332920e+05   \n",
       "Carmel By The Sea                      1.090095e+06   \n",
       "New Cuyama                             7.015439e+04   \n",
       "Lake Hughes                            2.350493e+05   \n",
       "\n",
       "                   Lasso Reg Predicted House Value  \\\n",
       "City                                                 \n",
       "Brentwood                             7.563275e+05   \n",
       "West Point                            1.419258e+05   \n",
       "Thermal                               1.811242e+05   \n",
       "Corona Del Mar                        1.324873e+06   \n",
       "Paicines                              9.521771e+05   \n",
       "...                                            ...   \n",
       "Riverside                             6.555327e+05   \n",
       "Grass Valley                          3.332877e+05   \n",
       "Carmel By The Sea                     1.090069e+06   \n",
       "New Cuyama                            7.021347e+04   \n",
       "Lake Hughes                           2.351464e+05   \n",
       "\n",
       "                   Ridge Reg Predicted House Value  \\\n",
       "City                                                 \n",
       "Brentwood                             7.568377e+05   \n",
       "West Point                            1.431286e+05   \n",
       "Thermal                               1.662423e+05   \n",
       "Corona Del Mar                        1.321187e+06   \n",
       "Paicines                              8.926321e+05   \n",
       "...                                            ...   \n",
       "Riverside                             6.609802e+05   \n",
       "Grass Valley                          3.438195e+05   \n",
       "Carmel By The Sea                     1.086420e+06   \n",
       "New Cuyama                            9.550851e+04   \n",
       "Lake Hughes                           2.563131e+05   \n",
       "\n",
       "                   Decesion Tree Predicted House Value  \n",
       "City                                                    \n",
       "Brentwood                                 7.518649e+05  \n",
       "West Point                                1.702566e+05  \n",
       "Thermal                                   1.702566e+05  \n",
       "Corona Del Mar                            1.428483e+06  \n",
       "Paicines                                  8.871152e+05  \n",
       "...                                                ...  \n",
       "Riverside                                 5.737179e+05  \n",
       "Grass Valley                              4.006592e+05  \n",
       "Carmel By The Sea                         9.011267e+05  \n",
       "New Cuyama                                1.702566e+05  \n",
       "Lake Hughes                               2.500206e+05  \n",
       "\n",
       "[292 rows x 6 columns]"
      ]
     },
     "execution_count": 147,
     "metadata": {},
     "output_type": "execute_result"
    }
   ],
   "source": [
    "#Actual and predicated value of house using our best model\n",
    "house_value=pd.DataFrame({'Actual House Value':y_test, \n",
    "                'Random Forest Predicted House Value':y_pred_rf,\n",
    "                'Linear Reg Predicted House Value':y_pred_lr,\n",
    "                'Lasso Reg Predicted House Value':y_pred_lrl,\n",
    "                'Ridge Reg Predicted House Value':y_pred_lrr,       \n",
    "                'Decesion Tree Predicted House Value':y_pred_dt},index=test_index)\n",
    "house_value"
   ]
  },
  {
   "cell_type": "markdown",
   "id": "8a0c9277",
   "metadata": {},
   "source": [
    "## Evaluation metrices of differnt models"
   ]
  },
  {
   "cell_type": "code",
   "execution_count": 150,
   "id": "f9088ea4",
   "metadata": {},
   "outputs": [
    {
     "data": {
      "text/html": [
       "<div>\n",
       "<style scoped>\n",
       "    .dataframe tbody tr th:only-of-type {\n",
       "        vertical-align: middle;\n",
       "    }\n",
       "\n",
       "    .dataframe tbody tr th {\n",
       "        vertical-align: top;\n",
       "    }\n",
       "\n",
       "    .dataframe thead th {\n",
       "        text-align: right;\n",
       "    }\n",
       "</style>\n",
       "<table border=\"1\" class=\"dataframe\">\n",
       "  <thead>\n",
       "    <tr style=\"text-align: right;\">\n",
       "      <th></th>\n",
       "      <th>Linear Reg</th>\n",
       "      <th>Lasso Reg</th>\n",
       "      <th>Ridge Reg</th>\n",
       "      <th>Decision Tree</th>\n",
       "      <th>Random Forest</th>\n",
       "    </tr>\n",
       "  </thead>\n",
       "  <tbody>\n",
       "    <tr>\n",
       "      <th>R2</th>\n",
       "      <td>0.766576</td>\n",
       "      <td>0.766576</td>\n",
       "      <td>0.766621</td>\n",
       "      <td>0.984389</td>\n",
       "      <td>0.984389</td>\n",
       "    </tr>\n",
       "    <tr>\n",
       "      <th>Mean Absolute Error</th>\n",
       "      <td>103315.594894</td>\n",
       "      <td>103304.436279</td>\n",
       "      <td>100129.083461</td>\n",
       "      <td>94485.704416</td>\n",
       "      <td>79457.693733</td>\n",
       "    </tr>\n",
       "    <tr>\n",
       "      <th>Root Mean Squared Error</th>\n",
       "      <td>166339.489906</td>\n",
       "      <td>166335.959080</td>\n",
       "      <td>165448.574537</td>\n",
       "      <td>150582.822854</td>\n",
       "      <td>133620.475660</td>\n",
       "    </tr>\n",
       "  </tbody>\n",
       "</table>\n",
       "</div>"
      ],
      "text/plain": [
       "                            Linear Reg      Lasso Reg      Ridge Reg  \\\n",
       "R2                            0.766576       0.766576       0.766621   \n",
       "Mean Absolute Error      103315.594894  103304.436279  100129.083461   \n",
       "Root Mean Squared Error  166339.489906  166335.959080  165448.574537   \n",
       "\n",
       "                         Decision Tree  Random Forest  \n",
       "R2                            0.984389       0.984389  \n",
       "Mean Absolute Error       94485.704416   79457.693733  \n",
       "Root Mean Squared Error  150582.822854  133620.475660  "
      ]
     },
     "execution_count": 150,
     "metadata": {},
     "output_type": "execute_result"
    }
   ],
   "source": [
    "evaluation_df=pd.DataFrame({'Linear Reg':[lr_r2,lin_mae_lr,lin_rmse_lr],\n",
    "                           'Lasso Reg':[lrl_r2,lin_mae_lrl,lin_rmse_lrl],\n",
    "                            'Ridge Reg':[lrr_r2,lin_mae_lrr,lin_rmse_lrr],\n",
    "                           'Decision Tree':[dt_tr,lin_mae_dt,lin_rmse_dt],\n",
    "                            'Random Forest':[rf_tr,lin_mae_rf,lin_rmse_rf]}\n",
    "                           ,index=['R2','Mean Absolute Error',\n",
    "                                    'Root Mean Squared Error'])\n",
    "evaluation_df"
   ]
  },
  {
   "cell_type": "code",
   "execution_count": null,
   "id": "bc531206",
   "metadata": {},
   "outputs": [],
   "source": []
  },
  {
   "cell_type": "code",
   "execution_count": null,
   "id": "0cd5d478",
   "metadata": {},
   "outputs": [],
   "source": []
  }
 ],
 "metadata": {
  "kernelspec": {
   "display_name": "Python 3 (ipykernel)",
   "language": "python",
   "name": "python3"
  },
  "language_info": {
   "codemirror_mode": {
    "name": "ipython",
    "version": 3
   },
   "file_extension": ".py",
   "mimetype": "text/x-python",
   "name": "python",
   "nbconvert_exporter": "python",
   "pygments_lexer": "ipython3",
   "version": "3.8.10"
  }
 },
 "nbformat": 4,
 "nbformat_minor": 5
}
