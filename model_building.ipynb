{
 "cells": [
  {
   "cell_type": "code",
   "execution_count": 33,
   "id": "1ca18b69",
   "metadata": {},
   "outputs": [],
   "source": [
    "#importing models\n",
    "import pandas as pd\n",
    "import numpy as np\n",
    "import os\n",
    "import matplotlib.pyplot as plt\n",
    "import statsmodels.api as sm\n",
    "\n",
    "#importing sklearn models\n",
    "from sklearn.model_selection import train_test_split\n",
    "from sklearn.linear_model import LinearRegression\n",
    "from sklearn.model_selection import cross_val_score\n",
    "from sklearn.linear_model import Lasso\n",
    "from sklearn.ensemble import RandomForestRegressor\n",
    "from sklearn.tree import DecisionTreeRegressor\n",
    "from sklearn.model_selection import GridSearchCV\n",
    "from sklearn.metrics import mean_absolute_error\n",
    "from sklearn.metrics import mean_squared_error"
   ]
  },
  {
   "cell_type": "code",
   "execution_count": 34,
   "id": "6f48f5a6",
   "metadata": {},
   "outputs": [],
   "source": [
    "#Things to do\n",
    "#choose relevent columns\n",
    "#get dummy data\n",
    "#train test split\n",
    "#multiple linear regression\n",
    "#lasso regression\n",
    "#random forest\n",
    "#tune model using gridsearch cv\n",
    "#test ensembles"
   ]
  },
  {
   "cell_type": "code",
   "execution_count": 35,
   "id": "1e05ca5a",
   "metadata": {},
   "outputs": [],
   "source": [
    "# 2019 cleaned data for machine learning\n",
    "path_2019=os.path.join('output_census', 'ca_2019_ml.csv')\n",
    "ca_2019=pd.read_csv(path_2019)"
   ]
  },
  {
   "cell_type": "code",
   "execution_count": 36,
   "id": "0ce04745",
   "metadata": {},
   "outputs": [
    {
     "data": {
      "text/plain": [
       "Index(['City', 'Population', 'House Value', 'Household Income', 'Poverty Rate',\n",
       "       'Unemployment Rate', 'Monthly Owner Cost', 'Monthly Rent',\n",
       "       'Public Transport Rate', 'Personal Transport Rate', 'College Rate',\n",
       "       'White Population Rate', 'Uneducated Rate'],\n",
       "      dtype='object')"
      ]
     },
     "execution_count": 36,
     "metadata": {},
     "output_type": "execute_result"
    }
   ],
   "source": [
    "#columns of our data sets\n",
    "ca_2019.columns"
   ]
  },
  {
   "cell_type": "code",
   "execution_count": 37,
   "id": "d56cc105",
   "metadata": {},
   "outputs": [],
   "source": [
    "#seting city as a index\n",
    "ca_2019.set_index('City', inplace=True)"
   ]
  },
  {
   "cell_type": "markdown",
   "id": "62c3314c",
   "metadata": {},
   "source": [
    "#### Prepare a feature matrix (X) and response (y)  for scikit-learn."
   ]
  },
  {
   "cell_type": "code",
   "execution_count": 38,
   "id": "99f42833",
   "metadata": {},
   "outputs": [],
   "source": [
    "# create feature matrix (X)\n",
    "#selecting all columns except 'House Value'\n",
    "X=ca_2019.drop('House Value', axis=1) \n",
    "\n",
    "# create response vector (y)\n",
    "##selecting 'House Value'\n",
    "y=ca_2019['House Value'].values  "
   ]
  },
  {
   "cell_type": "markdown",
   "id": "49013e33",
   "metadata": {},
   "source": [
    "#### Scaling using standard scaler on feature matrix (X) "
   ]
  },
  {
   "cell_type": "code",
   "execution_count": 39,
   "id": "e8076054",
   "metadata": {},
   "outputs": [],
   "source": [
    "#Different columns have differnt scale so standrazied it \n",
    "#features scaling using standard scaler on x only\n",
    "from sklearn.preprocessing import StandardScaler\n",
    "std_scaler=StandardScaler()\n",
    "scaled_X=std_scaler.fit_transform(X)"
   ]
  },
  {
   "cell_type": "code",
   "execution_count": 40,
   "id": "a2cc8013",
   "metadata": {},
   "outputs": [
    {
     "name": "stdout",
     "output_type": "stream",
     "text": [
      "(1460, 11)\n",
      "(1460,)\n"
     ]
    }
   ],
   "source": [
    "#shape of the X and y\n",
    "print(scaled_X.shape)\n",
    "print(y.shape)"
   ]
  },
  {
   "cell_type": "markdown",
   "id": "f6bbf252",
   "metadata": {},
   "source": [
    "#### Splitting data in train and test set."
   ]
  },
  {
   "cell_type": "code",
   "execution_count": 41,
   "id": "f0e584cf",
   "metadata": {},
   "outputs": [],
   "source": [
    "#Training set**: Used to train the classifier.\n",
    "#Testing set**: Used to estimate the error rate of the trained classifier.\n",
    "X_train, X_test, y_train, y_test = train_test_split(\n",
    "                               scaled_X, y, test_size=0.2, random_state=42)"
   ]
  },
  {
   "cell_type": "markdown",
   "id": "191234c7",
   "metadata": {},
   "source": [
    "#### Evaluation Metric"
   ]
  },
  {
   "cell_type": "markdown",
   "id": "a55ef33c",
   "metadata": {},
   "source": [
    "To evaluate a model, we also need an **evaluation metric:**\n",
    "\n",
    "- A numeric calculation used to **quantify** the performance of a model.\n",
    "- The appropriate metric depends on the **goals** of your problem.\n",
    "\n",
    "The most common choices for regression problems are:\n",
    "\n",
    "- **R-squared**: The percentage of variation explained by the model (a \"reward function,\" as higher is better).\n",
    "- **Mean squared error**: The average squared distance between the prediction and the correct answer (a \"loss function,\" as lower is better).\n",
    "- **Mean absolute error**: The average absolute distance between the prediction and the correct answer (a \"loss function,\" as lower is better).\n",
    "\n",
    "In this case, we'll use mean squared error, R2, and mean absolute error because it is more interpretable in a predictive context."
   ]
  },
  {
   "cell_type": "markdown",
   "id": "66ea49a4",
   "metadata": {},
   "source": [
    "## Linear Regression"
   ]
  },
  {
   "cell_type": "code",
   "execution_count": 42,
   "id": "cfdf4a70",
   "metadata": {},
   "outputs": [
    {
     "data": {
      "text/plain": [
       "LinearRegression()"
      ]
     },
     "execution_count": 42,
     "metadata": {},
     "output_type": "execute_result"
    }
   ],
   "source": [
    "#using linear regression\n",
    "# Make a linear regression instance\n",
    "lr=LinearRegression()\n",
    "# Training the model on the data, storing the information learned from the data\n",
    "# Model is learning the relationship between X and y \n",
    "lr.fit(X_train, y_train)\n"
   ]
  },
  {
   "cell_type": "code",
   "execution_count": 43,
   "id": "472c76e3",
   "metadata": {},
   "outputs": [
    {
     "name": "stdout",
     "output_type": "stream",
     "text": [
      "R2 Score of training set 0.8607789185273351\n",
      "R2 Score of testing  set  0.8241552523056297\n"
     ]
    }
   ],
   "source": [
    "#Printing the R2 score of test and train set\n",
    "print(f'R2 Score of training set {lr.score(X_train, y_train)}')\n",
    "print(f'R2 Score of testing  set  {lr.score(X_test, y_test)}')"
   ]
  },
  {
   "cell_type": "markdown",
   "id": "6b13c43b",
   "metadata": {},
   "source": [
    "#### Create a cross-valiation with five folds.\n",
    "-  Cross valiation allows the training set into distinct subsets called folds.\n",
    "- A model is trained using k-1 of the folds as training data"
   ]
  },
  {
   "cell_type": "code",
   "execution_count": 44,
   "id": "173b92d7",
   "metadata": {},
   "outputs": [
    {
     "data": {
      "text/plain": [
       "array([-96770.77735665, -91440.28913294, -98186.66455641, -89568.07046732,\n",
       "       -85129.35208968])"
      ]
     },
     "execution_count": 44,
     "metadata": {},
     "output_type": "execute_result"
    }
   ],
   "source": [
    "cross_val_score(lr, X_train, y_train, scoring='neg_mean_absolute_error', cv=5)"
   ]
  },
  {
   "cell_type": "code",
   "execution_count": 45,
   "id": "da9ffa88",
   "metadata": {},
   "outputs": [
    {
     "name": "stdout",
     "output_type": "stream",
     "text": [
      "The R2 of Linear Regression is 0.7665757066684497\n",
      "The mean squared error of Linear Regression is 153779.66110982996\n",
      "The mean squared error of Linear Regression is 98881.91453360615\n"
     ]
    }
   ],
   "source": [
    "lr_r2=np.mean(cross_val_score(lr, X, y, cv=5))\n",
    "print(f'The R2 of Linear Regression is {lr_r2}')\n",
    "\n",
    "#cross validation features gives greater is better, so score function is opposite of \n",
    "#MSE so we need to use -ve to get mse\n",
    "lr_mse=np.mean(cross_val_score(lr, X, y, cv=5, scoring='neg_mean_squared_error'))\n",
    "lr_rmse=np.sqrt(-(lr_mse))\n",
    "print(f'The mean squared error of Linear Regression is {lr_rmse}')\n",
    "\n",
    "#mean absolute error\n",
    "lr_mae=np.mean(cross_val_score(lr, X, y, cv=5, scoring='neg_mean_absolute_error'))\n",
    "lr_mae=(-(lr_mae))\n",
    "print(f'The mean squared error of Linear Regression is {lr_mae}')"
   ]
  },
  {
   "cell_type": "markdown",
   "id": "f4130bd3",
   "metadata": {},
   "source": [
    "## Laso Regression"
   ]
  },
  {
   "cell_type": "code",
   "execution_count": 46,
   "id": "b6856175",
   "metadata": {},
   "outputs": [
    {
     "data": {
      "text/plain": [
       "Lasso()"
      ]
     },
     "execution_count": 46,
     "metadata": {},
     "output_type": "execute_result"
    }
   ],
   "source": [
    "#using lassoregression(lasso make some features going to exactly zero)\n",
    "#alpha=0 no regularization( all features are used)\n",
    "# Make a lasso regression instance\n",
    "lr_l=Lasso()\n",
    "lr_l.fit(X_train, y_train)\n"
   ]
  },
  {
   "cell_type": "code",
   "execution_count": 47,
   "id": "439c3d98",
   "metadata": {},
   "outputs": [
    {
     "name": "stdout",
     "output_type": "stream",
     "text": [
      "R2 Score of training set 0.860778918260464\n",
      "R2 Score of testing set  0.8241560622762453\n"
     ]
    }
   ],
   "source": [
    "#Printing the R2 score of test and train set\n",
    "print(f'R2 Score of training set {lr_l.score(X_train, y_train)}')\n",
    "print(f'R2 Score of testing set  {lr_l.score(X_test, y_test)}')"
   ]
  },
  {
   "cell_type": "markdown",
   "id": "ca1a228f",
   "metadata": {},
   "source": [
    "#### Create a cross-valiation with five folds."
   ]
  },
  {
   "cell_type": "code",
   "execution_count": 48,
   "id": "0e2543f7",
   "metadata": {},
   "outputs": [
    {
     "data": {
      "text/plain": [
       "array([-95308.33155207, -93686.34282313, -85900.96676039])"
      ]
     },
     "execution_count": 48,
     "metadata": {},
     "output_type": "execute_result"
    }
   ],
   "source": [
    "cross_val_score(lr_l, X_train, y_train, scoring='neg_mean_absolute_error', cv=3)"
   ]
  },
  {
   "cell_type": "code",
   "execution_count": 49,
   "id": "50a05e42",
   "metadata": {},
   "outputs": [
    {
     "name": "stdout",
     "output_type": "stream",
     "text": [
      "The R2 of Lasso Regression is 0.7665757712338103\n",
      "The mean squared error of Lasso Regression is 153779.6532495439\n",
      "The mean squared error of Lasso Regression is 98881.80154688364\n"
     ]
    }
   ],
   "source": [
    "lr_l_r2=np.mean(cross_val_score(lr_l, X, y, cv=5))\n",
    "print(f'The R2 of Lasso Regression is {lr_l_r2}')\n",
    "\n",
    "#cross validation features gives greater is better, so score function is opposite of \n",
    "#MSE so we need to use -ve to get mse\n",
    "lr_l_mse=np.mean(cross_val_score(lr_l, X, y, cv=5, scoring='neg_mean_squared_error'))\n",
    "lr_l_rmse=np.sqrt(-(lr_l_mse))\n",
    "print(f'The mean squared error of Lasso Regression is {lr_l_rmse}')\n",
    "\n",
    "#mean absolute error\n",
    "lr_l_mae=np.mean(cross_val_score(lr_l, X, y, cv=5, scoring='neg_mean_absolute_error'))\n",
    "lr_l_mae=(-(lr_l_mae))\n",
    "print(f'The mean squared error of Lasso Regression is {lr_l_mae}')"
   ]
  },
  {
   "cell_type": "code",
   "execution_count": 50,
   "id": "95c4c5d2",
   "metadata": {},
   "outputs": [
    {
     "data": {
      "image/png": "[encoded data removed]",
      "text/plain": [
       "<Figure size 432x288 with 1 Axes>"
      ]
     },
     "metadata": {
      "needs_background": "light"
     },
     "output_type": "display_data"
    }
   ],
   "source": [
    "#choosing the best alpha\n",
    "alpha=[]\n",
    "error=[]\n",
    "for i in range(1,1000):\n",
    "    alpha.append(i/10)\n",
    "    lrl=Lasso(alpha=(i/10))\n",
    "    error.append(np.mean(cross_val_score(lrl, X_train, y_train, scoring='neg_mean_absolute_error',\n",
    "                                         cv=5)))\n",
    "plt.plot(alpha,error) \n",
    "plt.show()"
   ]
  },
  {
   "cell_type": "code",
   "execution_count": 51,
   "id": "715c7815",
   "metadata": {},
   "outputs": [
    {
     "data": {
      "text/plain": [
       "Lasso(alpha=10)"
      ]
     },
     "execution_count": 51,
     "metadata": {},
     "output_type": "execute_result"
    }
   ],
   "source": [
    "#choosing the best alpha\n",
    "lrl=Lasso(alpha=10)\n",
    "lrl.fit(X_train, y_train)\n"
   ]
  },
  {
   "cell_type": "code",
   "execution_count": 52,
   "id": "3b72c97c",
   "metadata": {},
   "outputs": [
    {
     "name": "stdout",
     "output_type": "stream",
     "text": [
      "R2 Score of training set with alpha 10 0.860778892679362\n",
      "R2 Score of testing set with alpha 10 0.8241627174082344\n"
     ]
    }
   ],
   "source": [
    "#Printing the R2 score of test and train set \n",
    "print(f'R2 Score of training set with alpha 10 {lrl.score(X_train, y_train)}')\n",
    "print(f'R2 Score of testing set with alpha 10 {lrl.score(X_test, y_test)}')"
   ]
  },
  {
   "cell_type": "markdown",
   "id": "dd0e7433",
   "metadata": {},
   "source": [
    "#### Create a cross-valiation with five folds."
   ]
  },
  {
   "cell_type": "code",
   "execution_count": 53,
   "id": "1bd24d8d",
   "metadata": {},
   "outputs": [
    {
     "data": {
      "text/plain": [
       "array([-95308.33155207, -93686.34282313, -85900.96676039])"
      ]
     },
     "execution_count": 53,
     "metadata": {},
     "output_type": "execute_result"
    }
   ],
   "source": [
    "cross_val_score(lr_l, X_train, y_train, scoring='neg_mean_absolute_error', cv=3)"
   ]
  },
  {
   "cell_type": "code",
   "execution_count": 54,
   "id": "0b1bbe17",
   "metadata": {},
   "outputs": [
    {
     "name": "stdout",
     "output_type": "stream",
     "text": [
      "The R2 of Lasso Regression with alpha 10 is 0.7665763503179452\n",
      "The mean squared error of Lasso Regression with alpha 10 is 153779.6532495439\n",
      "The mean squared error of Lasso Regressionwith alpha 10 is 98881.80154688364\n"
     ]
    }
   ],
   "source": [
    "lrl_r2=np.mean(cross_val_score(lrl, X, y, cv=5))\n",
    "print(f'The R2 of Lasso Regression with alpha 10 is {lrl_r2}')\n",
    "\n",
    "#cross validation features gives greater is better, so score function is opposite of \n",
    "#MSE so we need to use -ve to get mse\n",
    "lrl_mse=np.mean(cross_val_score(lr_l, X, y, cv=5, scoring='neg_mean_squared_error'))\n",
    "lrl_rmse=np.sqrt(-(lrl_mse))\n",
    "print(f'The mean squared error of Lasso Regression with alpha 10 is {lrl_rmse}')\n",
    "\n",
    "#mean absolute error\n",
    "lrl_mae=np.mean(cross_val_score(lr_l, X, y, cv=5, scoring='neg_mean_absolute_error'))\n",
    "lrl_mae=(-(lrl_mae))\n",
    "print(f'The mean squared error of Lasso Regressionwith alpha 10 is {lrl_mae}')"
   ]
  },
  {
   "cell_type": "code",
   "execution_count": null,
   "id": "9c748837",
   "metadata": {},
   "outputs": [],
   "source": []
  },
  {
   "cell_type": "markdown",
   "id": "ee9381d3",
   "metadata": {},
   "source": [
    "## Decision Tree"
   ]
  },
  {
   "cell_type": "code",
   "execution_count": 55,
   "id": "ff581d1a",
   "metadata": {},
   "outputs": [
    {
     "data": {
      "text/plain": [
       "DecisionTreeRegressor()"
      ]
     },
     "execution_count": 55,
     "metadata": {},
     "output_type": "execute_result"
    }
   ],
   "source": [
    "# Make a decision tree instance\n",
    "dt=DecisionTreeRegressor()\n",
    "dt.fit(X_train, y_train)"
   ]
  },
  {
   "cell_type": "code",
   "execution_count": 56,
   "id": "b62d8606",
   "metadata": {},
   "outputs": [
    {
     "name": "stdout",
     "output_type": "stream",
     "text": [
      "R2 Score of training set 1.0\n",
      "R2 Score of testing set  0.8350837947698952\n"
     ]
    }
   ],
   "source": [
    "#Printing the score of test and train set\n",
    "print(f'R2 Score of training set {dt.score(X_train, y_train)}')\n",
    "print(f'R2 Score of testing set  {dt.score(X_test, y_test)}')"
   ]
  },
  {
   "cell_type": "markdown",
   "id": "6035fe86",
   "metadata": {},
   "source": [
    "#### Create a cross-valiation with five folds."
   ]
  },
  {
   "cell_type": "code",
   "execution_count": 57,
   "id": "af697521",
   "metadata": {},
   "outputs": [
    {
     "data": {
      "text/plain": [
       "array([-104530.54871795, -104193.86118252,  -92439.61696658])"
      ]
     },
     "execution_count": 57,
     "metadata": {},
     "output_type": "execute_result"
    }
   ],
   "source": [
    "cross_val_score(dt, X_train, y_train, scoring='neg_mean_absolute_error', cv=3)"
   ]
  },
  {
   "cell_type": "code",
   "execution_count": 58,
   "id": "bdd762db",
   "metadata": {},
   "outputs": [
    {
     "name": "stdout",
     "output_type": "stream",
     "text": [
      "The R2 of Decision Tree Regressor is 0.6126408087576757\n",
      "The mean squared error of Decision Tree Regressor is 191037.10555742183\n",
      "The mean squared error of Decision Tree Regressor is 110367.56369863013\n"
     ]
    }
   ],
   "source": [
    "dt_r2=np.mean(cross_val_score(dt, X, y, cv=5))\n",
    "print(f'The R2 of Decision Tree Regressor is {dt_r2}')\n",
    "\n",
    "#cross validation features gives greater is better, so score function is opposite of \n",
    "#MSE so we need to use -ve to get mse\n",
    "dt_mse=np.mean(cross_val_score(dt, X, y, cv=5, scoring='neg_mean_squared_error'))\n",
    "dt_rmse=np.sqrt(-(dt_mse))\n",
    "print(f'The mean squared error of Decision Tree Regressor is {dt_rmse}')\n",
    "\n",
    "#mean absolute error\n",
    "dt_mae=np.mean(cross_val_score(dt, X, y, cv=5, scoring='neg_mean_absolute_error'))\n",
    "dt_mae=(-(dt_mae))\n",
    "print(f'The mean squared error of Decision Tree Regressor is {dt_mae}')"
   ]
  },
  {
   "cell_type": "markdown",
   "id": "f26acc29",
   "metadata": {},
   "source": [
    "### Tuning hyperparamaters  using Grid Search CV"
   ]
  },
  {
   "cell_type": "code",
   "execution_count": 59,
   "id": "862b52e5",
   "metadata": {},
   "outputs": [
    {
     "name": "stdout",
     "output_type": "stream",
     "text": [
      "Fitting 3 folds for each of 16 candidates, totalling 48 fits\n"
     ]
    },
    {
     "data": {
      "text/plain": [
       "GridSearchCV(cv=3, estimator=DecisionTreeRegressor(), n_jobs=-1,\n",
       "             param_grid={'max_depth': [4, 6, 8, 12],\n",
       "                         'min_samples_leaf': range(1, 5)},\n",
       "             verbose=1)"
      ]
     },
     "execution_count": 59,
     "metadata": {},
     "output_type": "execute_result"
    }
   ],
   "source": [
    "parameters = {\n",
    "              'max_depth':[4,6, 8,12],\n",
    "              'min_samples_leaf':range(1,5)}\n",
    "gs_dt=GridSearchCV(dt, param_grid=parameters, \n",
    "                    cv=3, verbose=1, n_jobs=-1)\n",
    "gs_dt.fit(X_train, y_train)"
   ]
  },
  {
   "cell_type": "code",
   "execution_count": 60,
   "id": "2851f5ee",
   "metadata": {},
   "outputs": [
    {
     "data": {
      "text/plain": [
       "{'max_depth': 4, 'min_samples_leaf': 1}"
      ]
     },
     "execution_count": 60,
     "metadata": {},
     "output_type": "execute_result"
    }
   ],
   "source": [
    "#Best parameters\n",
    "gs_dt.best_params_"
   ]
  },
  {
   "cell_type": "code",
   "execution_count": 74,
   "id": "291bc03c",
   "metadata": {},
   "outputs": [
    {
     "data": {
      "text/plain": [
       "RandomForestRegressor(max_features=8)"
      ]
     },
     "execution_count": 74,
     "metadata": {},
     "output_type": "execute_result"
    }
   ],
   "source": [
    "#best estimator\n",
    "dt_b=gs_dt.best_estimator_\n",
    "rf_b"
   ]
  },
  {
   "cell_type": "code",
   "execution_count": 75,
   "id": "93eaa932",
   "metadata": {},
   "outputs": [
    {
     "name": "stdout",
     "output_type": "stream",
     "text": [
      "-0.8302692146680579 {'max_depth': 4, 'min_samples_leaf': 1}\n",
      "-0.8292044510251273 {'max_depth': 4, 'min_samples_leaf': 2}\n",
      "-0.8299102807139563 {'max_depth': 4, 'min_samples_leaf': 3}\n",
      "-0.8298112167115935 {'max_depth': 4, 'min_samples_leaf': 4}\n",
      "-0.804609816155275 {'max_depth': 6, 'min_samples_leaf': 1}\n",
      "-0.8088989208082181 {'max_depth': 6, 'min_samples_leaf': 2}\n",
      "-0.8151787099102906 {'max_depth': 6, 'min_samples_leaf': 3}\n",
      "-0.8214528885173255 {'max_depth': 6, 'min_samples_leaf': 4}\n",
      "-0.8015913842927169 {'max_depth': 8, 'min_samples_leaf': 1}\n",
      "-0.7967044647034499 {'max_depth': 8, 'min_samples_leaf': 2}\n",
      "-0.8079159646417242 {'max_depth': 8, 'min_samples_leaf': 3}\n",
      "-0.8164751200510737 {'max_depth': 8, 'min_samples_leaf': 4}\n",
      "-0.7669834893683518 {'max_depth': 12, 'min_samples_leaf': 1}\n",
      "-0.787972832375654 {'max_depth': 12, 'min_samples_leaf': 2}\n",
      "-0.8019062962245612 {'max_depth': 12, 'min_samples_leaf': 3}\n",
      "-0.8111302330069644 {'max_depth': 12, 'min_samples_leaf': 4}\n"
     ]
    }
   ],
   "source": [
    "#printing the evaluation scores\n",
    "cvres=gs_dt.cv_results_\n",
    "for mean_score, params in zip(cvres['mean_test_score'], cvres['params']):\n",
    "    print((-mean_score), params)"
   ]
  },
  {
   "cell_type": "markdown",
   "id": "0ca07581",
   "metadata": {},
   "source": [
    "## Random Forest"
   ]
  },
  {
   "cell_type": "code",
   "execution_count": 76,
   "id": "77c4de39",
   "metadata": {},
   "outputs": [
    {
     "data": {
      "text/plain": [
       "RandomForestRegressor()"
      ]
     },
     "execution_count": 76,
     "metadata": {},
     "output_type": "execute_result"
    }
   ],
   "source": [
    "# Make a Random forest instance\n",
    "rf=RandomForestRegressor()\n",
    "rf.fit(X_train, y_train)"
   ]
  },
  {
   "cell_type": "code",
   "execution_count": 77,
   "id": "4308a91f",
   "metadata": {},
   "outputs": [
    {
     "name": "stdout",
     "output_type": "stream",
     "text": [
      "R2 Score of training set 0.9832197185166933\n",
      "R2 Score of testing set 0.8859341741575314\n"
     ]
    }
   ],
   "source": [
    "#Printing the score of test and train set\n",
    "print(f'R2 Score of training set {rf.score(X_train, y_train)}')\n",
    "print(f'R2 Score of testing set {rf.score(X_test, y_test)}')"
   ]
  },
  {
   "cell_type": "markdown",
   "id": "cf0ff28d",
   "metadata": {},
   "source": [
    "#### Create a cross-valiation with five folds."
   ]
  },
  {
   "cell_type": "code",
   "execution_count": 78,
   "id": "ae6eca68",
   "metadata": {},
   "outputs": [
    {
     "data": {
      "text/plain": [
       "array([-83210.56710256, -77413.57917738, -69399.89789203])"
      ]
     },
     "execution_count": 78,
     "metadata": {},
     "output_type": "execute_result"
    }
   ],
   "source": [
    "cross_val_score(rf, X_train, y_train, scoring='neg_mean_absolute_error', cv=3)"
   ]
  },
  {
   "cell_type": "code",
   "execution_count": 79,
   "id": "a678bb18",
   "metadata": {},
   "outputs": [
    {
     "name": "stdout",
     "output_type": "stream",
     "text": [
      "The R2 of Random Forest Regressor is 0.8123497082504274\n",
      "The mean squared error of Random Forest Regressor is 153779.6532495439\n",
      "The mean squared error of Random Forest Regressor is 83180.49967123289\n"
     ]
    }
   ],
   "source": [
    "rf_r2=np.mean(cross_val_score(rf, X, y, cv=5))\n",
    "print(f'The R2 of Random Forest Regressor is {rf_r2}')\n",
    "\n",
    "#cross validation features gives greater is better, so score function is opposite of \n",
    "#MSE so we need to use -ve to get mse\n",
    "rf_mse=np.mean(cross_val_score(rf, X, y, cv=5, scoring='neg_mean_squared_error'))\n",
    "rf_rmse=np.sqrt(-(lrl_mse))\n",
    "print(f'The mean squared error of Random Forest Regressor is {rf_rmse}')\n",
    "\n",
    "#mean absolute error\n",
    "rf_mae=np.mean(cross_val_score(rf, X, y, cv=5, scoring='neg_mean_absolute_error'))\n",
    "rf_mae=(-(rf_mae))\n",
    "print(f'The mean squared error of Random Forest Regressor is {rf_mae}')"
   ]
  },
  {
   "cell_type": "code",
   "execution_count": null,
   "id": "abb04537",
   "metadata": {},
   "outputs": [],
   "source": []
  },
  {
   "cell_type": "markdown",
   "id": "39552a33",
   "metadata": {},
   "source": [
    "#### Tuning the hyperparameters using Grid Search CV"
   ]
  },
  {
   "cell_type": "code",
   "execution_count": 80,
   "id": "c7a9b73c",
   "metadata": {},
   "outputs": [
    {
     "data": {
      "text/plain": [
       "GridSearchCV(cv=5, estimator=RandomForestRegressor(),\n",
       "             param_grid=[{'max_features': [4, 6, 8, 10],\n",
       "                          'n_estimators': [3, 10, 60, 100, 200]},\n",
       "                         {'bootstrap': [False], 'max_features': [4, 6, 8, 10],\n",
       "                          'n_estimators': [3, 10, 100]}],\n",
       "             return_train_score=True, scoring='neg_mean_absolute_error')"
      ]
     },
     "execution_count": 80,
     "metadata": {},
     "output_type": "execute_result"
    }
   ],
   "source": [
    "parameters = [{'n_estimators':[3,10,60,100,200],\n",
    "              'max_features':[4,6,8,10]},\n",
    "              {'bootstrap':[False], 'n_estimators':[3,10,100],\n",
    "              'max_features':[4,6,8,10]}]\n",
    "gs_rf=GridSearchCV(rf, parameters, scoring='neg_mean_absolute_error',\n",
    "                   cv=5, return_train_score=True)\n",
    "gs_rf.fit(X_train, y_train)"
   ]
  },
  {
   "cell_type": "code",
   "execution_count": 84,
   "id": "e062e345",
   "metadata": {},
   "outputs": [
    {
     "data": {
      "text/plain": [
       "{'max_features': 6, 'n_estimators': 200}"
      ]
     },
     "execution_count": 84,
     "metadata": {},
     "output_type": "execute_result"
    }
   ],
   "source": [
    "#Best parameters\n",
    "gs_rf.best_params_"
   ]
  },
  {
   "cell_type": "code",
   "execution_count": 85,
   "id": "8cb6b296",
   "metadata": {},
   "outputs": [
    {
     "data": {
      "text/plain": [
       "RandomForestRegressor(max_features=6, n_estimators=200)"
      ]
     },
     "execution_count": 85,
     "metadata": {},
     "output_type": "execute_result"
    }
   ],
   "source": [
    "#best estimator\n",
    "rf_b=gs_rf.best_estimator_\n",
    "rf_b"
   ]
  },
  {
   "cell_type": "code",
   "execution_count": 86,
   "id": "4c51be48",
   "metadata": {},
   "outputs": [
    {
     "name": "stdout",
     "output_type": "stream",
     "text": [
      "92240.80794663928 {'max_features': 4, 'n_estimators': 3}\n",
      "80045.21988334984 {'max_features': 4, 'n_estimators': 10}\n",
      "74890.91331786556 {'max_features': 4, 'n_estimators': 60}\n",
      "74848.34648508861 {'max_features': 4, 'n_estimators': 100}\n",
      "74475.55926325153 {'max_features': 4, 'n_estimators': 200}\n",
      "91217.45859897534 {'max_features': 6, 'n_estimators': 3}\n",
      "78427.67600895051 {'max_features': 6, 'n_estimators': 10}\n",
      "74297.56067874741 {'max_features': 6, 'n_estimators': 60}\n",
      "74085.76013227689 {'max_features': 6, 'n_estimators': 100}\n",
      "73892.36340684493 {'max_features': 6, 'n_estimators': 200}\n",
      "82502.78402479734 {'max_features': 8, 'n_estimators': 3}\n",
      "78729.992772092 {'max_features': 8, 'n_estimators': 10}\n",
      "74341.87491397969 {'max_features': 8, 'n_estimators': 60}\n",
      "74782.53918931808 {'max_features': 8, 'n_estimators': 100}\n",
      "74461.46570173508 {'max_features': 8, 'n_estimators': 200}\n",
      "85664.38472787742 {'max_features': 10, 'n_estimators': 3}\n",
      "76651.19984043139 {'max_features': 10, 'n_estimators': 10}\n",
      "74103.93955754864 {'max_features': 10, 'n_estimators': 60}\n",
      "74995.09116899599 {'max_features': 10, 'n_estimators': 100}\n",
      "74449.77831559737 {'max_features': 10, 'n_estimators': 200}\n",
      "92604.56496949242 {'bootstrap': False, 'max_features': 4, 'n_estimators': 3}\n",
      "78317.5703910348 {'bootstrap': False, 'max_features': 4, 'n_estimators': 10}\n",
      "74352.7998978394 {'bootstrap': False, 'max_features': 4, 'n_estimators': 100}\n",
      "87632.36292016678 {'bootstrap': False, 'max_features': 6, 'n_estimators': 3}\n",
      "75462.41692014234 {'bootstrap': False, 'max_features': 6, 'n_estimators': 10}\n",
      "75665.91062341808 {'bootstrap': False, 'max_features': 6, 'n_estimators': 100}\n",
      "85319.21634569531 {'bootstrap': False, 'max_features': 8, 'n_estimators': 3}\n",
      "81616.89487326216 {'bootstrap': False, 'max_features': 8, 'n_estimators': 10}\n",
      "77970.41230446425 {'bootstrap': False, 'max_features': 8, 'n_estimators': 100}\n",
      "89957.46736852401 {'bootstrap': False, 'max_features': 10, 'n_estimators': 3}\n",
      "89665.54124720297 {'bootstrap': False, 'max_features': 10, 'n_estimators': 10}\n",
      "86115.54271915925 {'bootstrap': False, 'max_features': 10, 'n_estimators': 100}\n"
     ]
    }
   ],
   "source": [
    "#printing the evaluation scores\n",
    "cvres=gs_rf.cv_results_\n",
    "for mean_score, params in zip(cvres['mean_test_score'], cvres['params']):\n",
    "    print((-mean_score), params)"
   ]
  },
  {
   "cell_type": "markdown",
   "id": "57c0b33c",
   "metadata": {},
   "source": [
    "### Important scores of each columns"
   ]
  },
  {
   "cell_type": "code",
   "execution_count": 87,
   "id": "d5255962",
   "metadata": {},
   "outputs": [
    {
     "data": {
      "text/plain": [
       "[(0.588529850654422, 'Unemployment Rate'),\n",
       " (0.17157983221345877, 'Personal Transport Rate'),\n",
       " (0.07687664819811256, 'House Value'),\n",
       " (0.07625423380338879, 'Monthly Owner Cost'),\n",
       " (0.016054494484978074, 'Household Income'),\n",
       " (0.015986989606609037, 'Public Transport Rate'),\n",
       " (0.014146348379131686, 'Monthly Rent'),\n",
       " (0.012919730328538721, 'Poverty Rate'),\n",
       " (0.009626692907647226, 'College Rate'),\n",
       " (0.009105708934748736, 'Population'),\n",
       " (0.008919470488964628, 'White Population Rate')]"
      ]
     },
     "execution_count": 87,
     "metadata": {},
     "output_type": "execute_result"
    }
   ],
   "source": [
    "feature_importances=rf_b.feature_importances_\n",
    "columns=['Population', 'House Value', 'Household Income', 'Poverty Rate',\n",
    "       'Unemployment Rate', 'Monthly Owner Cost', 'Monthly Rent',\n",
    "       'Public Transport Rate', 'Personal Transport Rate', 'College Rate',\n",
    "       'White Population Rate', 'Uneducated Rate']\n",
    "sorted(zip(feature_importances, columns), reverse=True)"
   ]
  },
  {
   "cell_type": "markdown",
   "id": "59d08f33",
   "metadata": {},
   "source": [
    "## Predicting on Test set"
   ]
  },
  {
   "cell_type": "code",
   "execution_count": 88,
   "id": "1347a2fa",
   "metadata": {},
   "outputs": [],
   "source": [
    "#test the model in test data\n",
    "y_pred_lr=lr.predict(X_test)     #linear \n",
    "y_pred_lrl=lrl.predict(X_test)   #lasso\n",
    "y_pred_dt=dt_b.predict(X_test)   #Dicision tree\n",
    "y_pred_rf=rf_b.predict(X_test)   #Random forest"
   ]
  },
  {
   "cell_type": "markdown",
   "id": "3d27ef38",
   "metadata": {},
   "source": [
    "### Mean Absolute Error"
   ]
  },
  {
   "cell_type": "code",
   "execution_count": 89,
   "id": "f190465c",
   "metadata": {},
   "outputs": [
    {
     "name": "stdout",
     "output_type": "stream",
     "text": [
      "The mean absoulte error of linear regression is 103315.59489383496\n",
      "The mean absoulte error of lassoregression is 103304.43627930051\n",
      "The mean absoulte error of decision tree regression is 94485.70441638898\n",
      "The mean absoulte error of random forest regression is 79457.6937328767\n"
     ]
    }
   ],
   "source": [
    "#regression matrices-mean absolute error(give you the prediction error)\n",
    "lin_mae_lr=mean_absolute_error(y_test, y_pred_lr)\n",
    "print(f'The mean absoulte error of linear regression is {lin_mae_lr}')\n",
    "\n",
    "lin_mae_lrl=mean_absolute_error(y_test, y_pred_lrl)\n",
    "print(f'The mean absoulte error of lassoregression is {lin_mae_lrl}')\n",
    "\n",
    "lin_mae_dt=mean_absolute_error(y_test, y_pred_dt)\n",
    "print(f'The mean absoulte error of decision tree regression is {lin_mae_dt}')\n",
    "\n",
    "lin_mae_rf=mean_absolute_error(y_test, y_pred_rf)\n",
    "print(f'The mean absoulte error of random forest regression is {lin_mae_rf}')\n"
   ]
  },
  {
   "cell_type": "markdown",
   "id": "2c5e1a16",
   "metadata": {},
   "source": [
    "### Root Mean Squared Error"
   ]
  },
  {
   "cell_type": "code",
   "execution_count": 91,
   "id": "756646fd",
   "metadata": {},
   "outputs": [
    {
     "name": "stdout",
     "output_type": "stream",
     "text": [
      "The mean absoulte error of linear regression is 166339.4899058907\n",
      "The mean absoulte error of lassoregression is 166335.95907953737\n",
      "The mean absoulte error of decision tree regression is 150582.82285356362\n",
      "The mean absoulte error of random forest regression is 133620.47565993297\n"
     ]
    }
   ],
   "source": [
    "#regression matrices-mean squared error(give you the prediction error)\n",
    "lin_mse_lr=mean_squared_error(y_test, y_pred_lr)\n",
    "lin_rmse_lr=np.sqrt(lin_mse_lr)\n",
    "print(f'The mean absoulte error of linear regression is {lin_rmse_lr}')\n",
    "\n",
    "lin_mse_lrl=mean_squared_error(y_test, y_pred_lrl)\n",
    "lin_rmse_lrl=np.sqrt(lin_mse_lrl)\n",
    "print(f'The mean absoulte error of lassoregression is {lin_rmse_lrl}')\n",
    "\n",
    "lin_mse_dt=mean_squared_error(y_test, y_pred_dt)\n",
    "lin_rmse_dt=np.sqrt(lin_mse_dt)\n",
    "print(f'The mean absoulte error of decision tree regression is {lin_rmse_dt}')\n",
    "\n",
    "lin_mse_rf=mean_squared_error(y_test, y_pred_rf)\n",
    "lin_rmse_rf=np.sqrt(lin_mse_rf)\n",
    "print(f'The mean absoulte error of random forest regression is {lin_rmse_rf}')"
   ]
  },
  {
   "cell_type": "markdown",
   "id": "be7160a1",
   "metadata": {},
   "source": [
    "### Actual and predicted house rate --best model( RandomForest Regressor)"
   ]
  },
  {
   "cell_type": "code",
   "execution_count": 96,
   "id": "f05b3d8a",
   "metadata": {},
   "outputs": [
    {
     "data": {
      "text/html": [
       "<div>\n",
       "<style scoped>\n",
       "    .dataframe tbody tr th:only-of-type {\n",
       "        vertical-align: middle;\n",
       "    }\n",
       "\n",
       "    .dataframe tbody tr th {\n",
       "        vertical-align: top;\n",
       "    }\n",
       "\n",
       "    .dataframe thead th {\n",
       "        text-align: right;\n",
       "    }\n",
       "</style>\n",
       "<table border=\"1\" class=\"dataframe\">\n",
       "  <thead>\n",
       "    <tr style=\"text-align: right;\">\n",
       "      <th></th>\n",
       "      <th>Actual House Value</th>\n",
       "      <th>Random Forest Predicted House Value</th>\n",
       "      <th>Linear Reg Predicted House Value</th>\n",
       "      <th>Lasso Reg Predicted House Value</th>\n",
       "      <th>Decesion Tree Predicted House Value</th>\n",
       "    </tr>\n",
       "  </thead>\n",
       "  <tbody>\n",
       "    <tr>\n",
       "      <th>0</th>\n",
       "      <td>581700.0</td>\n",
       "      <td>674753.000</td>\n",
       "      <td>7.562792e+05</td>\n",
       "      <td>7.563275e+05</td>\n",
       "      <td>7.518649e+05</td>\n",
       "    </tr>\n",
       "    <tr>\n",
       "      <th>1</th>\n",
       "      <td>220600.0</td>\n",
       "      <td>179286.500</td>\n",
       "      <td>1.418746e+05</td>\n",
       "      <td>1.419258e+05</td>\n",
       "      <td>1.702566e+05</td>\n",
       "    </tr>\n",
       "    <tr>\n",
       "      <th>2</th>\n",
       "      <td>111900.0</td>\n",
       "      <td>149434.000</td>\n",
       "      <td>1.812393e+05</td>\n",
       "      <td>1.811242e+05</td>\n",
       "      <td>1.702566e+05</td>\n",
       "    </tr>\n",
       "    <tr>\n",
       "      <th>3</th>\n",
       "      <td>2000001.0</td>\n",
       "      <td>1665087.420</td>\n",
       "      <td>1.324928e+06</td>\n",
       "      <td>1.324873e+06</td>\n",
       "      <td>1.428483e+06</td>\n",
       "    </tr>\n",
       "    <tr>\n",
       "      <th>4</th>\n",
       "      <td>669600.0</td>\n",
       "      <td>875762.005</td>\n",
       "      <td>9.522636e+05</td>\n",
       "      <td>9.521771e+05</td>\n",
       "      <td>8.871152e+05</td>\n",
       "    </tr>\n",
       "    <tr>\n",
       "      <th>...</th>\n",
       "      <td>...</td>\n",
       "      <td>...</td>\n",
       "      <td>...</td>\n",
       "      <td>...</td>\n",
       "      <td>...</td>\n",
       "    </tr>\n",
       "    <tr>\n",
       "      <th>287</th>\n",
       "      <td>463900.0</td>\n",
       "      <td>534240.000</td>\n",
       "      <td>6.554846e+05</td>\n",
       "      <td>6.555327e+05</td>\n",
       "      <td>5.737179e+05</td>\n",
       "    </tr>\n",
       "    <tr>\n",
       "      <th>288</th>\n",
       "      <td>372000.0</td>\n",
       "      <td>367490.000</td>\n",
       "      <td>3.332920e+05</td>\n",
       "      <td>3.332877e+05</td>\n",
       "      <td>4.006592e+05</td>\n",
       "    </tr>\n",
       "    <tr>\n",
       "      <th>289</th>\n",
       "      <td>1542700.0</td>\n",
       "      <td>1125309.030</td>\n",
       "      <td>1.090095e+06</td>\n",
       "      <td>1.090069e+06</td>\n",
       "      <td>9.011267e+05</td>\n",
       "    </tr>\n",
       "    <tr>\n",
       "      <th>290</th>\n",
       "      <td>128200.0</td>\n",
       "      <td>158415.500</td>\n",
       "      <td>7.015439e+04</td>\n",
       "      <td>7.021347e+04</td>\n",
       "      <td>1.702566e+05</td>\n",
       "    </tr>\n",
       "    <tr>\n",
       "      <th>291</th>\n",
       "      <td>294800.0</td>\n",
       "      <td>277633.000</td>\n",
       "      <td>2.350493e+05</td>\n",
       "      <td>2.351464e+05</td>\n",
       "      <td>2.500206e+05</td>\n",
       "    </tr>\n",
       "  </tbody>\n",
       "</table>\n",
       "<p>292 rows × 5 columns</p>\n",
       "</div>"
      ],
      "text/plain": [
       "     Actual House Value  Random Forest Predicted House Value  \\\n",
       "0              581700.0                           674753.000   \n",
       "1              220600.0                           179286.500   \n",
       "2              111900.0                           149434.000   \n",
       "3             2000001.0                          1665087.420   \n",
       "4              669600.0                           875762.005   \n",
       "..                  ...                                  ...   \n",
       "287            463900.0                           534240.000   \n",
       "288            372000.0                           367490.000   \n",
       "289           1542700.0                          1125309.030   \n",
       "290            128200.0                           158415.500   \n",
       "291            294800.0                           277633.000   \n",
       "\n",
       "     Linear Reg Predicted House Value  Lasso Reg Predicted House Value  \\\n",
       "0                        7.562792e+05                     7.563275e+05   \n",
       "1                        1.418746e+05                     1.419258e+05   \n",
       "2                        1.812393e+05                     1.811242e+05   \n",
       "3                        1.324928e+06                     1.324873e+06   \n",
       "4                        9.522636e+05                     9.521771e+05   \n",
       "..                                ...                              ...   \n",
       "287                      6.554846e+05                     6.555327e+05   \n",
       "288                      3.332920e+05                     3.332877e+05   \n",
       "289                      1.090095e+06                     1.090069e+06   \n",
       "290                      7.015439e+04                     7.021347e+04   \n",
       "291                      2.350493e+05                     2.351464e+05   \n",
       "\n",
       "     Decesion Tree Predicted House Value  \n",
       "0                           7.518649e+05  \n",
       "1                           1.702566e+05  \n",
       "2                           1.702566e+05  \n",
       "3                           1.428483e+06  \n",
       "4                           8.871152e+05  \n",
       "..                                   ...  \n",
       "287                         5.737179e+05  \n",
       "288                         4.006592e+05  \n",
       "289                         9.011267e+05  \n",
       "290                         1.702566e+05  \n",
       "291                         2.500206e+05  \n",
       "\n",
       "[292 rows x 5 columns]"
      ]
     },
     "execution_count": 96,
     "metadata": {},
     "output_type": "execute_result"
    }
   ],
   "source": [
    "#Actual and predicated value of house using our best model\n",
    "house_value=pd.DataFrame({'Actual House Value':y_test, \n",
    "                'Random Forest Predicted House Value':y_pred_rf,\n",
    "                'Linear Reg Predicted House Value':y_pred_lr,\n",
    "                'Lasso Reg Predicted House Value':y_pred_lrl,\n",
    "                'Decesion Tree Predicted House Value':y_pred_dt})\n",
    "house_value"
   ]
  },
  {
   "cell_type": "markdown",
   "id": "5a9ca70a",
   "metadata": {},
   "source": [
    "## Evaluation metrices of differnt model"
   ]
  },
  {
   "cell_type": "code",
   "execution_count": null,
   "id": "78e296b8",
   "metadata": {},
   "outputs": [],
   "source": []
  }
 ],
 "metadata": {
  "kernelspec": {
   "display_name": "Python 3 (ipykernel)",
   "language": "python",
   "name": "python3"
  },
  "language_info": {
   "codemirror_mode": {
    "name": "ipython",
    "version": 3
   },
   "file_extension": ".py",
   "mimetype": "text/x-python",
   "name": "python",
   "nbconvert_exporter": "python",
   "pygments_lexer": "ipython3",
   "version": "3.8.10"
  }
 },
 "nbformat": 4,
 "nbformat_minor": 5
}
