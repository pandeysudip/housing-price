{
 "cells": [
  {
   "cell_type": "markdown",
   "id": "b7c150f9",
   "metadata": {},
   "source": [
    "## Model Building and Predicting House Price of Unseen Data"
   ]
  },
  {
   "cell_type": "markdown",
   "id": "23241a1d",
   "metadata": {},
   "source": [
    "#### Things to do\n",
    "- Choose relevent columns\n",
    "- Get dummy data if any categoral columns\n",
    "- Scale the columns using Standard Scaler\n",
    "- Do train test split\n",
    "- Multiple linear regression\n",
    "- Lasso regression\n",
    "- Decision Tree Regressor\n",
    "- Random forest Regressor\n",
    "- Tune hyperparameters  using Grid Search CV\n",
    "- Predict on test set\n",
    "- Predict on unseen data from different year"
   ]
  },
  {
   "cell_type": "code",
   "execution_count": 417,
   "id": "94187882",
   "metadata": {},
   "outputs": [],
   "source": [
    "#importing models\n",
    "import pandas as pd\n",
    "import numpy as np\n",
    "import os\n",
    "import matplotlib.pyplot as plt\n",
    "import statsmodels.api as sm\n",
    "import seaborn as sns\n",
    "from scipy import stats\n",
    "import warnings\n",
    "from matplotlib import rcParams\n",
    "#importing sklearn models\n",
    "from sklearn.model_selection import train_test_split\n",
    "from sklearn.linear_model import LinearRegression\n",
    "from sklearn.model_selection import cross_val_score\n",
    "from sklearn.linear_model import Lasso\n",
    "from sklearn.linear_model import Ridge\n",
    "from sklearn.svm import LinearSVR\n",
    "from sklearn.svm import SVR\n",
    "from sklearn.ensemble import RandomForestRegressor\n",
    "from sklearn.tree import DecisionTreeRegressor\n",
    "from sklearn.model_selection import GridSearchCV\n",
    "from sklearn.model_selection import RandomizedSearchCV\n",
    "from sklearn.metrics import mean_absolute_error\n",
    "from sklearn.metrics import mean_squared_error"
   ]
  },
  {
   "cell_type": "code",
   "execution_count": 185,
   "id": "8db56202",
   "metadata": {},
   "outputs": [],
   "source": [
    "# 2019 usa cleaned data for machine learning\n",
    "path=os.path.join('output_census', 'usa_2019_ml1.csv')\n",
    "usa_2019=pd.read_csv(path)"
   ]
  },
  {
   "cell_type": "code",
   "execution_count": 186,
   "id": "3920767d",
   "metadata": {},
   "outputs": [],
   "source": [
    "usa_2019=usa_2019[[ 'City','House Value','Monthly Owner Cost','Per Capita Income',\n",
    "                   'Lng','Household Income','College Rate','Lat',\n",
    "                    'Personal Transport Rate','High School Rate','Median Age',\n",
    "                    'Public Transport Rate','Population']]"
   ]
  },
  {
   "cell_type": "code",
   "execution_count": 187,
   "id": "bc2947db",
   "metadata": {},
   "outputs": [],
   "source": [
    "#seting city as a index\n",
    "usa_2019.set_index('City', inplace=True)"
   ]
  },
  {
   "cell_type": "code",
   "execution_count": 188,
   "id": "8966a293",
   "metadata": {},
   "outputs": [
    {
     "name": "stdout",
     "output_type": "stream",
     "text": [
      "Index(['Aguada', 'Aguadilla', 'Maricao', 'Anasco', 'Arecibo', 'Bajadero',\n",
      "       'Barceloneta', 'Boqueron', 'Cabo Rojo', 'Camuy',\n",
      "       ...\n",
      "       'Kake', 'Petersburg', 'Sitka', 'Skagway', 'Ketchikan', 'Thorne Bay',\n",
      "       'Craig', 'Klawock', 'Metlakatla', 'Wrangell'],\n",
      "      dtype='object', name='City', length=26222)\n",
      "Index(['House Value', 'Monthly Owner Cost', 'Per Capita Income', 'Lng',\n",
      "       'Household Income', 'College Rate', 'Lat', 'Personal Transport Rate',\n",
      "       'High School Rate', 'Median Age', 'Public Transport Rate',\n",
      "       'Population'],\n",
      "      dtype='object')\n"
     ]
    }
   ],
   "source": [
    "#index andcolumns of our data sets\n",
    "index=usa_2019.index\n",
    "columns=usa_2019.columns\n",
    "print(index)\n",
    "print(columns)"
   ]
  },
  {
   "cell_type": "markdown",
   "id": "4b24bbe6",
   "metadata": {},
   "source": [
    "#### Prepare a feature matrix (X) and response (y)  for scikit-learn."
   ]
  },
  {
   "cell_type": "code",
   "execution_count": 189,
   "id": "15b8203b",
   "metadata": {},
   "outputs": [],
   "source": [
    "# create feature matrix (X)\n",
    "#selecting all columns except 'House Value'\n",
    "X=usa_2019.drop('House Value', axis=1) \n",
    "\n",
    "# create response vector (y)\n",
    "##selecting 'House Value'\n",
    "y=usa_2019['House Value'].values  "
   ]
  },
  {
   "cell_type": "code",
   "execution_count": null,
   "id": "36e51082",
   "metadata": {},
   "outputs": [],
   "source": []
  },
  {
   "cell_type": "markdown",
   "id": "43450c6a",
   "metadata": {},
   "source": [
    "#### Scaling using standard scaler on feature matrix (X) "
   ]
  },
  {
   "cell_type": "code",
   "execution_count": 190,
   "id": "16c82af6",
   "metadata": {},
   "outputs": [],
   "source": [
    "#Different columns have differnt scale so standrazied it \n",
    "#features scaling using standard scaler on x only\n",
    "from sklearn.preprocessing import StandardScaler\n",
    "std_scaler=StandardScaler()\n",
    "scaled_X=std_scaler.fit_transform(X)"
   ]
  },
  {
   "cell_type": "code",
   "execution_count": 191,
   "id": "a722c03a",
   "metadata": {},
   "outputs": [
    {
     "name": "stdout",
     "output_type": "stream",
     "text": [
      "(26222, 11)\n",
      "(26222,)\n"
     ]
    }
   ],
   "source": [
    "#shape of the X and y\n",
    "print(scaled_X.shape)\n",
    "print(y.shape)"
   ]
  },
  {
   "cell_type": "markdown",
   "id": "665ba954",
   "metadata": {},
   "source": [
    "#### Splitting data in train and test set"
   ]
  },
  {
   "cell_type": "code",
   "execution_count": 192,
   "id": "dbb721ec",
   "metadata": {},
   "outputs": [],
   "source": [
    "#Training set**: Used to train the classifier.\n",
    "#Testing set**: Used to estimate the error rate of the trained classifier.\n",
    "#Also using train_index and test_index to get train and test data index \n",
    "X_train, X_test, y_train, y_test,train_index, test_index = train_test_split(\n",
    "                               scaled_X, y,index, test_size=0.2, random_state=42)"
   ]
  },
  {
   "cell_type": "code",
   "execution_count": 193,
   "id": "b9ddd333",
   "metadata": {},
   "outputs": [
    {
     "name": "stdout",
     "output_type": "stream",
     "text": [
      "Shape of X_train=(20977, 11)\n",
      "Shape of X_test=(5245, 11)\n",
      "Shape of y_train=(20977,)\n",
      "Shape of X_test=(5245,)\n"
     ]
    }
   ],
   "source": [
    "print(f'Shape of X_train={X_train.shape}')\n",
    "print(f'Shape of X_test={X_test.shape}')\n",
    "print(f'Shape of y_train={y_train.shape}')\n",
    "print(f'Shape of X_test={y_test.shape}')"
   ]
  },
  {
   "cell_type": "markdown",
   "id": "24c000d8",
   "metadata": {},
   "source": [
    "### Evaluation Metric"
   ]
  },
  {
   "cell_type": "markdown",
   "id": "037fe251",
   "metadata": {},
   "source": [
    "To evaluate a model, we also need an **evaluation metric:**\n",
    "\n",
    "- A numeric calculation used to **quantify** the performance of a model.\n",
    "- The appropriate metric depends on the **goals** of your problem.\n",
    "\n",
    "The most common choices for regression problems are:\n",
    "\n",
    "- **R-squared**: The percentage of variation explained by the model (a \"reward function,\" as higher is better).\n",
    "- **Mean squared error**: The average squared distance between the prediction and the correct answer (a \"loss function,\" as lower is better).\n",
    "- **Mean absolute error**: The average absolute distance between the prediction and the correct answer (a \"loss function,\" as lower is better).\n",
    "\n",
    "In this case, we'll use mean squared error, R2, and mean absolute error because it is more interpretable in a predictive context."
   ]
  },
  {
   "cell_type": "markdown",
   "id": "9285d4e3",
   "metadata": {},
   "source": [
    "## Linear Regression"
   ]
  },
  {
   "cell_type": "code",
   "execution_count": 194,
   "id": "9ceb02fc",
   "metadata": {},
   "outputs": [
    {
     "data": {
      "text/plain": [
       "LinearRegression()"
      ]
     },
     "execution_count": 194,
     "metadata": {},
     "output_type": "execute_result"
    }
   ],
   "source": [
    "#using linear regression\n",
    "# Make a linear regression instance\n",
    "lr=LinearRegression()\n",
    "# Training the model on the data, storing the information learned from the data\n",
    "# Model is learning the relationship between X and y \n",
    "lr.fit(X_train, y_train)\n"
   ]
  },
  {
   "cell_type": "code",
   "execution_count": 195,
   "id": "5742f645",
   "metadata": {},
   "outputs": [
    {
     "name": "stdout",
     "output_type": "stream",
     "text": [
      "R2 Score of training set 0.8348136946474434\n",
      "R2 Score of testing  set  0.8384201779423417\n"
     ]
    }
   ],
   "source": [
    "#Printing the R2 score of test and train set\n",
    "print(f'R2 Score of training set {lr.score(X_train, y_train)}')\n",
    "print(f'R2 Score of testing  set  {lr.score(X_test, y_test)}')"
   ]
  },
  {
   "cell_type": "markdown",
   "id": "2431987a",
   "metadata": {},
   "source": [
    "#### Create a cross-valiation with five folds.\n",
    "-  Cross valiation allows the training set into distinct subsets called folds.\n",
    "- A model is trained using k-1 of the folds as training data"
   ]
  },
  {
   "cell_type": "code",
   "execution_count": 196,
   "id": "d2604002",
   "metadata": {},
   "outputs": [
    {
     "data": {
      "text/plain": [
       "array([-44911.89270734, -44921.806391  , -45232.50037804, -45601.30936043,\n",
       "       -45022.84434751])"
      ]
     },
     "execution_count": 196,
     "metadata": {},
     "output_type": "execute_result"
    }
   ],
   "source": [
    "cross_val_score(lr, X_train, y_train, scoring='neg_mean_absolute_error', cv=5)"
   ]
  },
  {
   "cell_type": "code",
   "execution_count": 197,
   "id": "56b131e3",
   "metadata": {},
   "outputs": [
    {
     "name": "stdout",
     "output_type": "stream",
     "text": [
      "The R2 of Linear Regression is 0.8344038087752625\n",
      "The mean squared error of Linear Regression is 76566.0150072991\n",
      "The mean absolute error of Linear Regression is 45138.070636862445\n"
     ]
    }
   ],
   "source": [
    "lr_r2=np.mean(cross_val_score(lr, X_train, y_train, cv=5))\n",
    "print(f'The R2 of Linear Regression is {lr_r2}')\n",
    "\n",
    "#cross validation features gives greater is better, so score function is opposite of \n",
    "#MSE so we need to use -ve to get mse\n",
    "lr_mse=np.mean(cross_val_score(lr, X_train, y_train, cv=5, scoring='neg_mean_squared_error'))\n",
    "lr_rmse=np.sqrt(-(lr_mse))\n",
    "print(f'The mean squared error of Linear Regression is {lr_rmse}')\n",
    "\n",
    "#mean absolute error\n",
    "lr_mae=np.mean(cross_val_score(lr, X_train, y_train, cv=5, scoring='neg_mean_absolute_error'))\n",
    "lr_mae=(-(lr_mae))\n",
    "print(f'The mean absolute error of Linear Regression is {lr_mae}')"
   ]
  },
  {
   "cell_type": "markdown",
   "id": "d14b04c7",
   "metadata": {},
   "source": [
    "## Ridge Regression"
   ]
  },
  {
   "cell_type": "code",
   "execution_count": 198,
   "id": "f527915b",
   "metadata": {},
   "outputs": [
    {
     "data": {
      "text/plain": [
       "Ridge()"
      ]
     },
     "execution_count": 198,
     "metadata": {},
     "output_type": "execute_result"
    }
   ],
   "source": [
    "#using ridge regression(ridge make some features going to near zero)\n",
    "#alpha=0 no regularization( all features are used)\n",
    "# Make a ridge regression instance\n",
    "lr_r=Ridge()\n",
    "lr_r.fit(X_train, y_train)\n"
   ]
  },
  {
   "cell_type": "code",
   "execution_count": 199,
   "id": "222d4d4d",
   "metadata": {},
   "outputs": [
    {
     "name": "stdout",
     "output_type": "stream",
     "text": [
      "R2 Score of training set 0.8348136888557021\n",
      "R2 Score of testing set  0.8384208580371466\n"
     ]
    }
   ],
   "source": [
    "#Printing the R2 score of test and train set\n",
    "print(f'R2 Score of training set {lr_r.score(X_train, y_train)}')\n",
    "print(f'R2 Score of testing set  {lr_r.score(X_test, y_test)}')"
   ]
  },
  {
   "cell_type": "markdown",
   "id": "53bfcb0b",
   "metadata": {},
   "source": [
    "#### Create a cross-valiation with five folds."
   ]
  },
  {
   "cell_type": "code",
   "execution_count": 200,
   "id": "83ca530c",
   "metadata": {},
   "outputs": [
    {
     "data": {
      "text/plain": [
       "array([-44685.20647238, -45133.74574876, -45614.98611938])"
      ]
     },
     "execution_count": 200,
     "metadata": {},
     "output_type": "execute_result"
    }
   ],
   "source": [
    "cross_val_score(lr_r, X_train, y_train, scoring='neg_mean_absolute_error', cv=3)"
   ]
  },
  {
   "cell_type": "code",
   "execution_count": 201,
   "id": "b54a70d5",
   "metadata": {},
   "outputs": [
    {
     "name": "stdout",
     "output_type": "stream",
     "text": [
      "The R2 of Ridge Regression is 0.8344040123718409\n",
      "The mean squared error of Ridge Regression is 79054.84186306574\n",
      "The mean absolute error of Ridge Regression is 45136.38681306372\n"
     ]
    }
   ],
   "source": [
    "lr_r_r2=np.mean(cross_val_score(lr_r, X_train, y_train, cv=5))\n",
    "print(f'The R2 of Ridge Regression is {lr_r_r2}')\n",
    "\n",
    "#cross validation features gives greater is better, so score function is opposite of \n",
    "#MSE so we need to use -ve to get mse\n",
    "lr_r_mse=np.mean(cross_val_score(lr_r, X_train, y_train, cv=5, scoring='neg_mean_squared_error'))\n",
    "lr_r_rmse=np.sqrt(-(lr_l_mse))\n",
    "print(f'The mean squared error of Ridge Regression is {lr_r_rmse}')\n",
    "\n",
    "#mean absolute error\n",
    "lr_r_mae=np.mean(cross_val_score(lr_r, X_train, y_train, cv=5, scoring='neg_mean_absolute_error'))\n",
    "lr_r_mae=(-(lr_r_mae))\n",
    "print(f'The mean absolute error of Ridge Regression is {lr_r_mae}')"
   ]
  },
  {
   "cell_type": "code",
   "execution_count": 202,
   "id": "7778a52a",
   "metadata": {},
   "outputs": [
    {
     "data": {
      "image/png": "[encoded data removed]",
      "text/plain": [
       "<Figure size 432x288 with 1 Axes>"
      ]
     },
     "metadata": {
      "needs_background": "light"
     },
     "output_type": "display_data"
    }
   ],
   "source": [
    "#choosing the best alpha\n",
    "alpha=[]\n",
    "error=[]\n",
    "for i in range(1,1000,50):\n",
    "    alpha.append(i/10)\n",
    "    lrr=Ridge(alpha=(i/10))\n",
    "    error.append(np.mean(cross_val_score(lrr, X_train, y_train, scoring='neg_mean_absolute_error',\n",
    "                                         cv=5)))\n",
    "plt.plot(alpha,error) \n",
    "plt.show()"
   ]
  },
  {
   "cell_type": "code",
   "execution_count": 203,
   "id": "df926c75",
   "metadata": {},
   "outputs": [
    {
     "data": {
      "text/plain": [
       "Ridge(alpha=10)"
      ]
     },
     "execution_count": 203,
     "metadata": {},
     "output_type": "execute_result"
    }
   ],
   "source": [
    "#choosing the best alpha (look figure where alpha start to saturate)\n",
    "lrr=Ridge(alpha=10)\n",
    "lrr.fit(X_train, y_train)\n"
   ]
  },
  {
   "cell_type": "code",
   "execution_count": 204,
   "id": "4c9c7328",
   "metadata": {},
   "outputs": [
    {
     "name": "stdout",
     "output_type": "stream",
     "text": [
      "R2 Score of training set with alpha 40 0.8348131188967053\n",
      "R2 Score of testing set with alpha 40 0.8384264333703393\n"
     ]
    }
   ],
   "source": [
    "#Printing the R2 score of test and train set \n",
    "print(f'R2 Score of training set with alpha 40 {lrr.score(X_train, y_train)}')\n",
    "print(f'R2 Score of testing set with alpha 40 {lrr.score(X_test, y_test)}')"
   ]
  },
  {
   "cell_type": "markdown",
   "id": "83a53aa3",
   "metadata": {},
   "source": [
    "#### Create a cross-valiation with five folds."
   ]
  },
  {
   "cell_type": "code",
   "execution_count": 205,
   "id": "66f00007",
   "metadata": {},
   "outputs": [
    {
     "data": {
      "text/plain": [
       "array([-44685.20647238, -45133.74574876, -45614.98611938])"
      ]
     },
     "execution_count": 205,
     "metadata": {},
     "output_type": "execute_result"
    }
   ],
   "source": [
    "cross_val_score(lr_r, X_train, y_train, scoring='neg_mean_absolute_error', cv=3)"
   ]
  },
  {
   "cell_type": "code",
   "execution_count": 206,
   "id": "550cd4c4",
   "metadata": {},
   "outputs": [
    {
     "name": "stdout",
     "output_type": "stream",
     "text": [
      "The R2 of Ridge Regression with alpha 10 is 0.8344050240098314\n",
      "The mean squared error of Ridge Regression with alpha 10 is 76565.98622638812\n",
      "The mean absolute error of Ridge Regression with alpha 10 is 45136.38681306372\n"
     ]
    }
   ],
   "source": [
    "lrr_r2=np.mean(cross_val_score(lrr, X_train, y_train, cv=5))\n",
    "print(f'The R2 of Ridge Regression with alpha 10 is {lrr_r2}')\n",
    "\n",
    "#cross validation features gives greater is better, so score function is opposite of \n",
    "#MSE so we need to use -ve to get mse\n",
    "lrr_mse=np.mean(cross_val_score(lr_r, X_train, y_train, cv=5, scoring='neg_mean_squared_error'))\n",
    "lrr_rmse=np.sqrt(-(lrr_mse))\n",
    "print(f'The mean squared error of Ridge Regression with alpha 10 is {lrr_rmse}')\n",
    "\n",
    "#mean absolute error\n",
    "lrr_mae=np.mean(cross_val_score(lr_r, X_train, y_train, cv=5, scoring='neg_mean_absolute_error'))\n",
    "lrr_mae=(-(lrr_mae))\n",
    "print(f'The mean absolute error of Ridge Regression with alpha 10 is {lrr_mae}')"
   ]
  },
  {
   "cell_type": "code",
   "execution_count": null,
   "id": "0f525ca1",
   "metadata": {},
   "outputs": [],
   "source": []
  },
  {
   "cell_type": "markdown",
   "id": "a87964c7",
   "metadata": {},
   "source": [
    "## Laso Regression"
   ]
  },
  {
   "cell_type": "code",
   "execution_count": 207,
   "id": "619574a1",
   "metadata": {},
   "outputs": [
    {
     "data": {
      "text/plain": [
       "Lasso()"
      ]
     },
     "execution_count": 207,
     "metadata": {},
     "output_type": "execute_result"
    }
   ],
   "source": [
    "#using lassoregression(lasso make some features going to exactly zero)\n",
    "#alpha=0 no regularization( all features are used)\n",
    "# Make a lasso regression instance\n",
    "lr_l=Lasso()\n",
    "lr_l.fit(X_train, y_train)\n"
   ]
  },
  {
   "cell_type": "code",
   "execution_count": 208,
   "id": "6ad60666",
   "metadata": {},
   "outputs": [
    {
     "name": "stdout",
     "output_type": "stream",
     "text": [
      "R2 Score of training set 0.8348136937793293\n",
      "R2 Score of testing set  0.8384200863671196\n"
     ]
    }
   ],
   "source": [
    "#Printing the R2 score of test and train set\n",
    "print(f'R2 Score of training set {lr_l.score(X_train, y_train)}')\n",
    "print(f'R2 Score of testing set  {lr_l.score(X_test, y_test)}')"
   ]
  },
  {
   "cell_type": "markdown",
   "id": "09ed295d",
   "metadata": {},
   "source": [
    "#### Create a cross-valiation with five folds."
   ]
  },
  {
   "cell_type": "code",
   "execution_count": 209,
   "id": "9bc0a005",
   "metadata": {},
   "outputs": [
    {
     "data": {
      "text/plain": [
       "array([-44687.15214434, -45135.10404306, -45616.02985106])"
      ]
     },
     "execution_count": 209,
     "metadata": {},
     "output_type": "execute_result"
    }
   ],
   "source": [
    "cross_val_score(lr_l, X_train, y_train, scoring='neg_mean_absolute_error', cv=3)"
   ]
  },
  {
   "cell_type": "code",
   "execution_count": 210,
   "id": "1197e38c",
   "metadata": {},
   "outputs": [
    {
     "name": "stdout",
     "output_type": "stream",
     "text": [
      "The R2 of Lasso Regression is 0.8344038234703028\n",
      "The mean squared error of Lasso Regression is 76566.0155244916\n",
      "The mean absolute error of Lasso Regression is 45137.45103759263\n"
     ]
    }
   ],
   "source": [
    "lr_l_r2=np.mean(cross_val_score(lr_l, X_train, y_train, cv=5))\n",
    "print(f'The R2 of Lasso Regression is {lr_l_r2}')\n",
    "\n",
    "#cross validation features gives greater is better, so score function is opposite of \n",
    "#MSE so we need to use -ve to get mse\n",
    "lr_l_mse=np.mean(cross_val_score(lr_l, X_train, y_train, cv=5, scoring='neg_mean_squared_error'))\n",
    "lr_l_rmse=np.sqrt(-(lr_l_mse))\n",
    "print(f'The mean squared error of Lasso Regression is {lr_l_rmse}')\n",
    "\n",
    "#mean absolute error\n",
    "lr_l_mae=np.mean(cross_val_score(lr_l, X_train, y_train, cv=5, scoring='neg_mean_absolute_error'))\n",
    "lr_l_mae=(-(lr_l_mae))\n",
    "print(f'The mean absolute error of Lasso Regression is {lr_l_mae}')"
   ]
  },
  {
   "cell_type": "code",
   "execution_count": 211,
   "id": "0e18f551",
   "metadata": {},
   "outputs": [
    {
     "data": {
      "image/png": "[encoded data removed]",
      "text/plain": [
       "<Figure size 432x288 with 1 Axes>"
      ]
     },
     "metadata": {
      "needs_background": "light"
     },
     "output_type": "display_data"
    }
   ],
   "source": [
    "#choosing the best alpha\n",
    "alpha=[]\n",
    "error=[]\n",
    "for i in range(1,100,10):\n",
    "    alpha.append(i/10)\n",
    "    lrl=Lasso(alpha=(i/10))\n",
    "    error.append(np.mean(cross_val_score(lrl, X_train, y_train, scoring='neg_mean_absolute_error',\n",
    "                                         cv=5)))\n",
    "plt.plot(alpha,error) \n",
    "plt.show()"
   ]
  },
  {
   "cell_type": "code",
   "execution_count": 212,
   "id": "55e19db1",
   "metadata": {},
   "outputs": [
    {
     "data": {
      "text/plain": [
       "Lasso(alpha=10)"
      ]
     },
     "execution_count": 212,
     "metadata": {},
     "output_type": "execute_result"
    }
   ],
   "source": [
    "#choosing the best alpha\n",
    "lrl=Lasso(alpha=10)\n",
    "lrl.fit(X_train, y_train)\n"
   ]
  },
  {
   "cell_type": "code",
   "execution_count": 213,
   "id": "e54da330",
   "metadata": {},
   "outputs": [
    {
     "name": "stdout",
     "output_type": "stream",
     "text": [
      "R2 Score of training set with alpha 10 0.8348136046904666\n",
      "R2 Score of testing set with alpha 10 0.8384193251104615\n"
     ]
    }
   ],
   "source": [
    "#Printing the R2 score of test and train set \n",
    "print(f'R2 Score of training set with alpha 10 {lrl.score(X_train, y_train)}')\n",
    "print(f'R2 Score of testing set with alpha 10 {lrl.score(X_test, y_test)}')"
   ]
  },
  {
   "cell_type": "markdown",
   "id": "25f86e12",
   "metadata": {},
   "source": [
    "#### Create a cross-valiation with five folds."
   ]
  },
  {
   "cell_type": "code",
   "execution_count": 214,
   "id": "7c338588",
   "metadata": {},
   "outputs": [
    {
     "data": {
      "text/plain": [
       "array([-44687.15214434, -45135.10404306, -45616.02985106])"
      ]
     },
     "execution_count": 214,
     "metadata": {},
     "output_type": "execute_result"
    }
   ],
   "source": [
    "cross_val_score(lr_l, X_train, y_train, scoring='neg_mean_absolute_error', cv=3)"
   ]
  },
  {
   "cell_type": "code",
   "execution_count": 215,
   "id": "f2b9d380",
   "metadata": {},
   "outputs": [
    {
     "name": "stdout",
     "output_type": "stream",
     "text": [
      "The R2 of Lasso Regression with alpha 10 is 0.8344038035794492\n",
      "The mean squared error of Lasso Regression with alpha 10 is 76566.0155244916\n",
      "The mean absolute error of Lasso Regressionwith alpha 10 is 45137.45103759263\n"
     ]
    }
   ],
   "source": [
    "lrl_r2=np.mean(cross_val_score(lrl, X_train, y_train, cv=5))\n",
    "print(f'The R2 of Lasso Regression with alpha 10 is {lrl_r2}')\n",
    "\n",
    "#cross validation features gives greater is better, so score function is opposite of \n",
    "#MSE so we need to use -ve to get mse\n",
    "lrl_mse=np.mean(cross_val_score(lr_l, X_train, y_train, cv=5, scoring='neg_mean_squared_error'))\n",
    "lrl_rmse=np.sqrt(-(lrl_mse))\n",
    "print(f'The mean squared error of Lasso Regression with alpha 10 is {lrl_rmse}')\n",
    "\n",
    "#mean absolute error\n",
    "lrl_mae=np.mean(cross_val_score(lr_l, X_train, y_train, cv=5, scoring='neg_mean_absolute_error'))\n",
    "lrl_mae=(-(lrl_mae))\n",
    "print(f'The mean absolute error of Lasso Regressionwith alpha 10 is {lrl_mae}')"
   ]
  },
  {
   "cell_type": "code",
   "execution_count": null,
   "id": "e7f24a57",
   "metadata": {},
   "outputs": [],
   "source": []
  },
  {
   "cell_type": "markdown",
   "id": "4f9df813",
   "metadata": {},
   "source": [
    "## Support Vector Machine(SVM) Regression"
   ]
  },
  {
   "cell_type": "code",
   "execution_count": 216,
   "id": "7eacc4dd",
   "metadata": {},
   "outputs": [
    {
     "data": {
      "text/plain": [
       "LinearSVR(epsilon=1.5)"
      ]
     },
     "execution_count": 216,
     "metadata": {},
     "output_type": "execute_result"
    }
   ],
   "source": [
    "# Make a svm regression instance\n",
    "svm=LinearSVR(epsilon=1.5)\n",
    "svm.fit(X_train, y_train)\n"
   ]
  },
  {
   "cell_type": "code",
   "execution_count": 217,
   "id": "9979d8c7",
   "metadata": {},
   "outputs": [
    {
     "name": "stdout",
     "output_type": "stream",
     "text": [
      "R2 Score of training set -0.9955034068217965\n",
      "R2 Score of testing set  -0.9806359513953882\n"
     ]
    }
   ],
   "source": [
    "#Printing the R2 score of test and train set\n",
    "print(f'R2 Score of training set {svm.score(X_train, y_train)}')\n",
    "print(f'R2 Score of testing set  {svm.score(X_test, y_test)}')"
   ]
  },
  {
   "cell_type": "markdown",
   "id": "2fc3cd1c",
   "metadata": {},
   "source": [
    "#### Create a cross-valiation with five folds."
   ]
  },
  {
   "cell_type": "code",
   "execution_count": 218,
   "id": "3e2dab07",
   "metadata": {},
   "outputs": [
    {
     "data": {
      "text/plain": [
       "array([-192921.14234183, -195208.7184979 , -194981.00176885])"
      ]
     },
     "execution_count": 218,
     "metadata": {},
     "output_type": "execute_result"
    }
   ],
   "source": [
    "cross_val_score(svm, X_train, y_train, scoring='neg_mean_absolute_error', cv=3)"
   ]
  },
  {
   "cell_type": "code",
   "execution_count": 219,
   "id": "ee16c08f",
   "metadata": {},
   "outputs": [
    {
     "name": "stdout",
     "output_type": "stream",
     "text": [
      "The R2 of svm Regression is -1.0411362918636868\n",
      "The mean squared error of svm Regression is 268680.19266335305\n",
      "The mean absolute error of svm Regression is 45136.38681306372\n"
     ]
    }
   ],
   "source": [
    "svm_r2=np.mean(cross_val_score(svm, X_train, y_train, cv=5))\n",
    "print(f'The R2 of svm Regression is {svm_r2}')\n",
    "\n",
    "#cross validation features gives greater is better, so score function is opposite of \n",
    "#MSE so we need to use -ve to get mse\n",
    "svm_mse=np.mean(cross_val_score(svm, X_train, y_train, cv=5, scoring='neg_mean_squared_error'))\n",
    "svm_rmse=np.sqrt(-(svm_mse))\n",
    "print(f'The mean squared error of svm Regression is {svm_rmse}')\n",
    "\n",
    "#mean absolute error\n",
    "svm_mae=np.mean(cross_val_score(svm, X_train, y_train, cv=5, scoring='neg_mean_absolute_error'))\n",
    "svm_mae=(-(svm_mae))\n",
    "print(f'The mean absolute error of svm Regression is {svm_mae}')"
   ]
  },
  {
   "cell_type": "code",
   "execution_count": null,
   "id": "21deddc6",
   "metadata": {},
   "outputs": [],
   "source": []
  },
  {
   "cell_type": "markdown",
   "id": "80f10cd2",
   "metadata": {},
   "source": [
    "## Support Vector Machine(SVR) Kernel Regression"
   ]
  },
  {
   "cell_type": "code",
   "execution_count": 418,
   "id": "db7930f2",
   "metadata": {},
   "outputs": [
    {
     "data": {
      "text/plain": [
       "SVR(kernel='linear')"
      ]
     },
     "execution_count": 418,
     "metadata": {},
     "output_type": "execute_result"
    }
   ],
   "source": [
    "# Make a svm regression instance\n",
    "svr=SVR(kernel='linear')\n",
    "svr.fit(X_train, y_train)\n"
   ]
  },
  {
   "cell_type": "code",
   "execution_count": 419,
   "id": "54c3d0c4",
   "metadata": {},
   "outputs": [
    {
     "name": "stdout",
     "output_type": "stream",
     "text": [
      "R2 Score of training set 0.30887197531155675\n",
      "R2 Score of testing set  0.30669033649544997\n"
     ]
    }
   ],
   "source": [
    "#Printing the R2 score of test and train set\n",
    "print(f'R2 Score of training set {svr.score(X_train, y_train)}')\n",
    "print(f'R2 Score of testing set  {svr.score(X_test, y_test)}')"
   ]
  },
  {
   "cell_type": "markdown",
   "id": "e40aa170",
   "metadata": {},
   "source": [
    "#### Create a cross-valiation with five folds."
   ]
  },
  {
   "cell_type": "code",
   "execution_count": 420,
   "id": "645e34b8",
   "metadata": {},
   "outputs": [
    {
     "data": {
      "text/plain": [
       "array([-83457.68070983, -85284.43320841, -85153.45183218])"
      ]
     },
     "execution_count": 420,
     "metadata": {},
     "output_type": "execute_result"
    }
   ],
   "source": [
    "cross_val_score(svr, X_train, y_train, scoring='neg_mean_absolute_error', cv=3)"
   ]
  },
  {
   "cell_type": "code",
   "execution_count": 422,
   "id": "36d5f6f1",
   "metadata": {},
   "outputs": [
    {
     "name": "stdout",
     "output_type": "stream",
     "text": [
      "The R2 of svm Regression is -1.0411362918636868\n",
      "The mean squared error of svr is 162679.45930888463\n",
      "The mean absolute error of svr  is 81268.27724714944\n"
     ]
    }
   ],
   "source": [
    "svr_r2=np.mean(cross_val_score(svr, X_train, y_train, cv=5))\n",
    "print(f'The R2 of svr is {svr_r2}')\n",
    "\n",
    "#cross validation features gives greater is better, so score function is opposite of \n",
    "#MSE so we need to use -ve to get mse\n",
    "svr_mse=np.mean(cross_val_score(svr, X_train, y_train, cv=5, scoring='neg_mean_squared_error'))\n",
    "svr_rmse=np.sqrt(-(svr_mse))\n",
    "print(f'The mean squared error of svr is {svr_rmse}')\n",
    "\n",
    "#mean absolute error\n",
    "svr_mae=np.mean(cross_val_score(svr, X_train, y_train, cv=5, scoring='neg_mean_absolute_error'))\n",
    "svr_mae=(-(svr_mae))\n",
    "print(f'The mean absolute error of svr  is {svr_mae}')"
   ]
  },
  {
   "cell_type": "code",
   "execution_count": null,
   "id": "d4007f9f",
   "metadata": {},
   "outputs": [],
   "source": []
  },
  {
   "cell_type": "markdown",
   "id": "ae36188a",
   "metadata": {},
   "source": [
    "## Decision Tree"
   ]
  },
  {
   "cell_type": "code",
   "execution_count": 220,
   "id": "36cc3fde",
   "metadata": {},
   "outputs": [
    {
     "data": {
      "text/plain": [
       "DecisionTreeRegressor()"
      ]
     },
     "execution_count": 220,
     "metadata": {},
     "output_type": "execute_result"
    }
   ],
   "source": [
    "# Make a decision tree instance\n",
    "dt=DecisionTreeRegressor()\n",
    "dt.fit(X_train, y_train)"
   ]
  },
  {
   "cell_type": "code",
   "execution_count": 221,
   "id": "3f93bd45",
   "metadata": {},
   "outputs": [
    {
     "name": "stdout",
     "output_type": "stream",
     "text": [
      "R2 Score of training set 1.0\n",
      "R2 Score of testing set  0.8643444188290956\n"
     ]
    }
   ],
   "source": [
    "#Printing the score of test and train set\n",
    "print(f'R2 Score of training set {dt.score(X_train, y_train)}')\n",
    "print(f'R2 Score of testing set  {dt.score(X_test, y_test)}')"
   ]
  },
  {
   "cell_type": "markdown",
   "id": "aa8d32d2",
   "metadata": {},
   "source": [
    "#### Create a cross-valiation with five folds."
   ]
  },
  {
   "cell_type": "code",
   "execution_count": 222,
   "id": "053f7e95",
   "metadata": {},
   "outputs": [
    {
     "data": {
      "text/plain": [
       "array([-37550.83840984, -37550.45952517, -39050.15918192])"
      ]
     },
     "execution_count": 222,
     "metadata": {},
     "output_type": "execute_result"
    }
   ],
   "source": [
    "cross_val_score(dt, X_train, y_train, scoring='neg_mean_absolute_error', cv=3)"
   ]
  },
  {
   "cell_type": "code",
   "execution_count": 223,
   "id": "16b694fd",
   "metadata": {},
   "outputs": [
    {
     "name": "stdout",
     "output_type": "stream",
     "text": [
      "The R2 of Decision Tree Regressor is 0.8458400303167363\n",
      "The mean squared error of Decision Tree Regressor is 72757.52547316562\n",
      "The mean absolute error of Decision Tree Regressor is 38130.52580004113\n"
     ]
    }
   ],
   "source": [
    "dt_r2=np.mean(cross_val_score(dt, X_train, y_train, cv=5))\n",
    "print(f'The R2 of Decision Tree Regressor is {dt_r2}')\n",
    "\n",
    "#cross validation features gives greater is better, so score function is opposite of \n",
    "#MSE so we need to use -ve to get mse\n",
    "dt_mse=np.mean(cross_val_score(dt, X_train, y_train, cv=5, scoring='neg_mean_squared_error'))\n",
    "dt_rmse=np.sqrt(-(dt_mse))\n",
    "print(f'The mean squared error of Decision Tree Regressor is {dt_rmse}')\n",
    "\n",
    "#mean absolute error\n",
    "dt_mae=np.mean(cross_val_score(dt, X_train, y_train, cv=5, scoring='neg_mean_absolute_error'))\n",
    "dt_mae=(-(dt_mae))\n",
    "print(f'The mean absolute error of Decision Tree Regressor is {dt_mae}')"
   ]
  },
  {
   "cell_type": "markdown",
   "id": "a1bbfcb5",
   "metadata": {},
   "source": [
    "### Tuning hyperparamaters  using Grid Search CV"
   ]
  },
  {
   "cell_type": "code",
   "execution_count": 224,
   "id": "0e8fbee9",
   "metadata": {},
   "outputs": [
    {
     "name": "stdout",
     "output_type": "stream",
     "text": [
      "Fitting 3 folds for each of 12 candidates, totalling 36 fits\n"
     ]
    },
    {
     "data": {
      "text/plain": [
       "GridSearchCV(cv=3, estimator=DecisionTreeRegressor(), n_jobs=-1,\n",
       "             param_grid={'max_depth': [6, 8, 12],\n",
       "                         'min_samples_leaf': range(1, 5)},\n",
       "             verbose=1)"
      ]
     },
     "execution_count": 224,
     "metadata": {},
     "output_type": "execute_result"
    }
   ],
   "source": [
    "parameters = {\n",
    "              'max_depth':[6, 8,12],\n",
    "              'min_samples_leaf':range(1,5)}\n",
    "gs_dt=GridSearchCV(dt, param_grid=parameters, \n",
    "                    cv=3, verbose=1, n_jobs=-1)\n",
    "gs_dt.fit(X_train, y_train)"
   ]
  },
  {
   "cell_type": "code",
   "execution_count": 225,
   "id": "fcbe9846",
   "metadata": {},
   "outputs": [
    {
     "data": {
      "text/plain": [
       "{'max_depth': 8, 'min_samples_leaf': 2}"
      ]
     },
     "execution_count": 225,
     "metadata": {},
     "output_type": "execute_result"
    }
   ],
   "source": [
    "#Best parameters\n",
    "gs_dt.best_params_"
   ]
  },
  {
   "cell_type": "code",
   "execution_count": 226,
   "id": "a87e1c47",
   "metadata": {},
   "outputs": [
    {
     "data": {
      "text/plain": [
       "DecisionTreeRegressor(max_depth=8, min_samples_leaf=2)"
      ]
     },
     "execution_count": 226,
     "metadata": {},
     "output_type": "execute_result"
    }
   ],
   "source": [
    "#best estimator\n",
    "dt_b=gs_dt.best_estimator_\n",
    "dt_b"
   ]
  },
  {
   "cell_type": "code",
   "execution_count": 227,
   "id": "02951cae",
   "metadata": {},
   "outputs": [
    {
     "name": "stdout",
     "output_type": "stream",
     "text": [
      "R2 Score of training set after hyperpar tuining 0.9435113710433504\n",
      "R2 Score of testing set after hyperpar tuining  0.8871802071115592\n"
     ]
    }
   ],
   "source": [
    "#Printing the score of test and train set\n",
    "dt_tr=dt_b.score(X_train, y_train)\n",
    "dt_te=dt_b.score(X_test, y_test)\n",
    "print(f'R2 Score of training set after hyperpar tuining {dt_tr}')\n",
    "print(f'R2 Score of testing set after hyperpar tuining  {dt_te}')"
   ]
  },
  {
   "cell_type": "code",
   "execution_count": 392,
   "id": "e0732b78",
   "metadata": {},
   "outputs": [
    {
     "data": {
      "text/html": [
       "<div>\n",
       "<style scoped>\n",
       "    .dataframe tbody tr th:only-of-type {\n",
       "        vertical-align: middle;\n",
       "    }\n",
       "\n",
       "    .dataframe tbody tr th {\n",
       "        vertical-align: top;\n",
       "    }\n",
       "\n",
       "    .dataframe thead th {\n",
       "        text-align: right;\n",
       "    }\n",
       "</style>\n",
       "<table border=\"1\" class=\"dataframe\">\n",
       "  <thead>\n",
       "    <tr style=\"text-align: right;\">\n",
       "      <th></th>\n",
       "      <th>mean_fit_time</th>\n",
       "      <th>std_fit_time</th>\n",
       "      <th>mean_score_time</th>\n",
       "      <th>std_score_time</th>\n",
       "      <th>param_max_depth</th>\n",
       "      <th>param_min_samples_leaf</th>\n",
       "      <th>params</th>\n",
       "      <th>split0_test_score</th>\n",
       "      <th>split1_test_score</th>\n",
       "      <th>split2_test_score</th>\n",
       "      <th>mean_test_score</th>\n",
       "      <th>std_test_score</th>\n",
       "      <th>rank_test_score</th>\n",
       "    </tr>\n",
       "  </thead>\n",
       "  <tbody>\n",
       "    <tr>\n",
       "      <th>0</th>\n",
       "      <td>0.102923</td>\n",
       "      <td>0.000691</td>\n",
       "      <td>0.001638</td>\n",
       "      <td>0.000446</td>\n",
       "      <td>6</td>\n",
       "      <td>1</td>\n",
       "      <td>{'max_depth': 6, 'min_samples_leaf': 1}</td>\n",
       "      <td>0.867362</td>\n",
       "      <td>0.885165</td>\n",
       "      <td>0.856178</td>\n",
       "      <td>0.869568</td>\n",
       "      <td>0.011936</td>\n",
       "      <td>9</td>\n",
       "    </tr>\n",
       "    <tr>\n",
       "      <th>1</th>\n",
       "      <td>0.099466</td>\n",
       "      <td>0.003448</td>\n",
       "      <td>0.001222</td>\n",
       "      <td>0.000036</td>\n",
       "      <td>6</td>\n",
       "      <td>2</td>\n",
       "      <td>{'max_depth': 6, 'min_samples_leaf': 2}</td>\n",
       "      <td>0.886575</td>\n",
       "      <td>0.877078</td>\n",
       "      <td>0.856695</td>\n",
       "      <td>0.873449</td>\n",
       "      <td>0.012466</td>\n",
       "      <td>7</td>\n",
       "    </tr>\n",
       "    <tr>\n",
       "      <th>2</th>\n",
       "      <td>0.097071</td>\n",
       "      <td>0.005416</td>\n",
       "      <td>0.001645</td>\n",
       "      <td>0.000806</td>\n",
       "      <td>6</td>\n",
       "      <td>3</td>\n",
       "      <td>{'max_depth': 6, 'min_samples_leaf': 3}</td>\n",
       "      <td>0.881681</td>\n",
       "      <td>0.881154</td>\n",
       "      <td>0.862383</td>\n",
       "      <td>0.875073</td>\n",
       "      <td>0.008975</td>\n",
       "      <td>5</td>\n",
       "    </tr>\n",
       "    <tr>\n",
       "      <th>3</th>\n",
       "      <td>0.089239</td>\n",
       "      <td>0.000529</td>\n",
       "      <td>0.001106</td>\n",
       "      <td>0.000133</td>\n",
       "      <td>6</td>\n",
       "      <td>4</td>\n",
       "      <td>{'max_depth': 6, 'min_samples_leaf': 4}</td>\n",
       "      <td>0.882384</td>\n",
       "      <td>0.885480</td>\n",
       "      <td>0.861857</td>\n",
       "      <td>0.876574</td>\n",
       "      <td>0.010483</td>\n",
       "      <td>3</td>\n",
       "    </tr>\n",
       "    <tr>\n",
       "      <th>4</th>\n",
       "      <td>0.113970</td>\n",
       "      <td>0.001007</td>\n",
       "      <td>0.001221</td>\n",
       "      <td>0.000105</td>\n",
       "      <td>8</td>\n",
       "      <td>1</td>\n",
       "      <td>{'max_depth': 8, 'min_samples_leaf': 1}</td>\n",
       "      <td>0.887935</td>\n",
       "      <td>0.863794</td>\n",
       "      <td>0.843899</td>\n",
       "      <td>0.865209</td>\n",
       "      <td>0.018005</td>\n",
       "      <td>11</td>\n",
       "    </tr>\n",
       "    <tr>\n",
       "      <th>5</th>\n",
       "      <td>0.115416</td>\n",
       "      <td>0.001678</td>\n",
       "      <td>0.001270</td>\n",
       "      <td>0.000104</td>\n",
       "      <td>8</td>\n",
       "      <td>2</td>\n",
       "      <td>{'max_depth': 8, 'min_samples_leaf': 2}</td>\n",
       "      <td>0.892466</td>\n",
       "      <td>0.879187</td>\n",
       "      <td>0.869547</td>\n",
       "      <td>0.880400</td>\n",
       "      <td>0.009396</td>\n",
       "      <td>1</td>\n",
       "    </tr>\n",
       "    <tr>\n",
       "      <th>6</th>\n",
       "      <td>0.117181</td>\n",
       "      <td>0.001867</td>\n",
       "      <td>0.001229</td>\n",
       "      <td>0.000081</td>\n",
       "      <td>8</td>\n",
       "      <td>3</td>\n",
       "      <td>{'max_depth': 8, 'min_samples_leaf': 3}</td>\n",
       "      <td>0.880198</td>\n",
       "      <td>0.881823</td>\n",
       "      <td>0.867979</td>\n",
       "      <td>0.876667</td>\n",
       "      <td>0.006178</td>\n",
       "      <td>2</td>\n",
       "    </tr>\n",
       "    <tr>\n",
       "      <th>7</th>\n",
       "      <td>0.117800</td>\n",
       "      <td>0.001989</td>\n",
       "      <td>0.001198</td>\n",
       "      <td>0.000054</td>\n",
       "      <td>8</td>\n",
       "      <td>4</td>\n",
       "      <td>{'max_depth': 8, 'min_samples_leaf': 4}</td>\n",
       "      <td>0.885746</td>\n",
       "      <td>0.878333</td>\n",
       "      <td>0.864678</td>\n",
       "      <td>0.876252</td>\n",
       "      <td>0.008726</td>\n",
       "      <td>4</td>\n",
       "    </tr>\n",
       "    <tr>\n",
       "      <th>8</th>\n",
       "      <td>0.161407</td>\n",
       "      <td>0.001468</td>\n",
       "      <td>0.001608</td>\n",
       "      <td>0.000181</td>\n",
       "      <td>12</td>\n",
       "      <td>1</td>\n",
       "      <td>{'max_depth': 12, 'min_samples_leaf': 1}</td>\n",
       "      <td>0.864749</td>\n",
       "      <td>0.857369</td>\n",
       "      <td>0.836714</td>\n",
       "      <td>0.852944</td>\n",
       "      <td>0.011865</td>\n",
       "      <td>12</td>\n",
       "    </tr>\n",
       "    <tr>\n",
       "      <th>9</th>\n",
       "      <td>0.157415</td>\n",
       "      <td>0.000478</td>\n",
       "      <td>0.001479</td>\n",
       "      <td>0.000042</td>\n",
       "      <td>12</td>\n",
       "      <td>2</td>\n",
       "      <td>{'max_depth': 12, 'min_samples_leaf': 2}</td>\n",
       "      <td>0.883780</td>\n",
       "      <td>0.867439</td>\n",
       "      <td>0.848422</td>\n",
       "      <td>0.866547</td>\n",
       "      <td>0.014449</td>\n",
       "      <td>10</td>\n",
       "    </tr>\n",
       "    <tr>\n",
       "      <th>10</th>\n",
       "      <td>0.141797</td>\n",
       "      <td>0.020406</td>\n",
       "      <td>0.001104</td>\n",
       "      <td>0.000049</td>\n",
       "      <td>12</td>\n",
       "      <td>3</td>\n",
       "      <td>{'max_depth': 12, 'min_samples_leaf': 3}</td>\n",
       "      <td>0.880852</td>\n",
       "      <td>0.871061</td>\n",
       "      <td>0.864471</td>\n",
       "      <td>0.872128</td>\n",
       "      <td>0.006730</td>\n",
       "      <td>8</td>\n",
       "    </tr>\n",
       "    <tr>\n",
       "      <th>11</th>\n",
       "      <td>0.110640</td>\n",
       "      <td>0.001093</td>\n",
       "      <td>0.000959</td>\n",
       "      <td>0.000045</td>\n",
       "      <td>12</td>\n",
       "      <td>4</td>\n",
       "      <td>{'max_depth': 12, 'min_samples_leaf': 4}</td>\n",
       "      <td>0.885363</td>\n",
       "      <td>0.873929</td>\n",
       "      <td>0.865236</td>\n",
       "      <td>0.874843</td>\n",
       "      <td>0.008242</td>\n",
       "      <td>6</td>\n",
       "    </tr>\n",
       "  </tbody>\n",
       "</table>\n",
       "</div>"
      ],
      "text/plain": [
       "    mean_fit_time  std_fit_time  mean_score_time  std_score_time  \\\n",
       "0        0.102923      0.000691         0.001638        0.000446   \n",
       "1        0.099466      0.003448         0.001222        0.000036   \n",
       "2        0.097071      0.005416         0.001645        0.000806   \n",
       "3        0.089239      0.000529         0.001106        0.000133   \n",
       "4        0.113970      0.001007         0.001221        0.000105   \n",
       "5        0.115416      0.001678         0.001270        0.000104   \n",
       "6        0.117181      0.001867         0.001229        0.000081   \n",
       "7        0.117800      0.001989         0.001198        0.000054   \n",
       "8        0.161407      0.001468         0.001608        0.000181   \n",
       "9        0.157415      0.000478         0.001479        0.000042   \n",
       "10       0.141797      0.020406         0.001104        0.000049   \n",
       "11       0.110640      0.001093         0.000959        0.000045   \n",
       "\n",
       "   param_max_depth param_min_samples_leaf  \\\n",
       "0                6                      1   \n",
       "1                6                      2   \n",
       "2                6                      3   \n",
       "3                6                      4   \n",
       "4                8                      1   \n",
       "5                8                      2   \n",
       "6                8                      3   \n",
       "7                8                      4   \n",
       "8               12                      1   \n",
       "9               12                      2   \n",
       "10              12                      3   \n",
       "11              12                      4   \n",
       "\n",
       "                                      params  split0_test_score  \\\n",
       "0    {'max_depth': 6, 'min_samples_leaf': 1}           0.867362   \n",
       "1    {'max_depth': 6, 'min_samples_leaf': 2}           0.886575   \n",
       "2    {'max_depth': 6, 'min_samples_leaf': 3}           0.881681   \n",
       "3    {'max_depth': 6, 'min_samples_leaf': 4}           0.882384   \n",
       "4    {'max_depth': 8, 'min_samples_leaf': 1}           0.887935   \n",
       "5    {'max_depth': 8, 'min_samples_leaf': 2}           0.892466   \n",
       "6    {'max_depth': 8, 'min_samples_leaf': 3}           0.880198   \n",
       "7    {'max_depth': 8, 'min_samples_leaf': 4}           0.885746   \n",
       "8   {'max_depth': 12, 'min_samples_leaf': 1}           0.864749   \n",
       "9   {'max_depth': 12, 'min_samples_leaf': 2}           0.883780   \n",
       "10  {'max_depth': 12, 'min_samples_leaf': 3}           0.880852   \n",
       "11  {'max_depth': 12, 'min_samples_leaf': 4}           0.885363   \n",
       "\n",
       "    split1_test_score  split2_test_score  mean_test_score  std_test_score  \\\n",
       "0            0.885165           0.856178         0.869568        0.011936   \n",
       "1            0.877078           0.856695         0.873449        0.012466   \n",
       "2            0.881154           0.862383         0.875073        0.008975   \n",
       "3            0.885480           0.861857         0.876574        0.010483   \n",
       "4            0.863794           0.843899         0.865209        0.018005   \n",
       "5            0.879187           0.869547         0.880400        0.009396   \n",
       "6            0.881823           0.867979         0.876667        0.006178   \n",
       "7            0.878333           0.864678         0.876252        0.008726   \n",
       "8            0.857369           0.836714         0.852944        0.011865   \n",
       "9            0.867439           0.848422         0.866547        0.014449   \n",
       "10           0.871061           0.864471         0.872128        0.006730   \n",
       "11           0.873929           0.865236         0.874843        0.008242   \n",
       "\n",
       "    rank_test_score  \n",
       "0                 9  \n",
       "1                 7  \n",
       "2                 5  \n",
       "3                 3  \n",
       "4                11  \n",
       "5                 1  \n",
       "6                 2  \n",
       "7                 4  \n",
       "8                12  \n",
       "9                10  \n",
       "10                8  \n",
       "11                6  "
      ]
     },
     "execution_count": 392,
     "metadata": {},
     "output_type": "execute_result"
    }
   ],
   "source": [
    "dt_df=pd.DataFrame(gs_dt.cv_results_)\n",
    "dt_df"
   ]
  },
  {
   "cell_type": "code",
   "execution_count": 395,
   "id": "b29ab511",
   "metadata": {},
   "outputs": [
    {
     "name": "stdout",
     "output_type": "stream",
     "text": [
      "0.8695684399877369 {'max_depth': 6, 'min_samples_leaf': 1}\n",
      "0.8734492586616641 {'max_depth': 6, 'min_samples_leaf': 2}\n",
      "0.8750729116285871 {'max_depth': 6, 'min_samples_leaf': 3}\n",
      "0.8765739424783784 {'max_depth': 6, 'min_samples_leaf': 4}\n",
      "0.8652092948675065 {'max_depth': 8, 'min_samples_leaf': 1}\n",
      "0.8803997588148972 {'max_depth': 8, 'min_samples_leaf': 2}\n",
      "0.8766666185500442 {'max_depth': 8, 'min_samples_leaf': 3}\n",
      "0.8762521445852816 {'max_depth': 8, 'min_samples_leaf': 4}\n",
      "0.8529443617558408 {'max_depth': 12, 'min_samples_leaf': 1}\n",
      "0.8665468875830339 {'max_depth': 12, 'min_samples_leaf': 2}\n",
      "0.8721279617582515 {'max_depth': 12, 'min_samples_leaf': 3}\n",
      "0.8748425272409497 {'max_depth': 12, 'min_samples_leaf': 4}\n"
     ]
    }
   ],
   "source": [
    "#printing the evaluation scores\n",
    "cvres_dt=gs_dt.cv_results_\n",
    "for mean_score, params in zip(cvres_dt['mean_test_score'], cvres_dt['params']):\n",
    "    print((mean_score), params)"
   ]
  },
  {
   "cell_type": "markdown",
   "id": "4b2b1f22",
   "metadata": {},
   "source": [
    "## Random Forest"
   ]
  },
  {
   "cell_type": "code",
   "execution_count": 228,
   "id": "3aa98390",
   "metadata": {},
   "outputs": [
    {
     "data": {
      "text/plain": [
       "RandomForestRegressor()"
      ]
     },
     "execution_count": 228,
     "metadata": {},
     "output_type": "execute_result"
    }
   ],
   "source": [
    "# Make a Random forest instance\n",
    "rf=RandomForestRegressor()\n",
    "rf.fit(X_train, y_train)"
   ]
  },
  {
   "cell_type": "code",
   "execution_count": 229,
   "id": "8a8608e1",
   "metadata": {},
   "outputs": [
    {
     "name": "stdout",
     "output_type": "stream",
     "text": [
      "R2 Score of training set 0.9895890888899962\n",
      "R2 Score of testing set 0.9278046315385401\n"
     ]
    }
   ],
   "source": [
    "#Printing the score of test and train set\n",
    "print(f'R2 Score of training set {rf.score(X_train, y_train)}')\n",
    "print(f'R2 Score of testing set {rf.score(X_test, y_test)}')"
   ]
  },
  {
   "cell_type": "markdown",
   "id": "f3512c03",
   "metadata": {},
   "source": [
    "#### Create a cross-valiation with five folds."
   ]
  },
  {
   "cell_type": "code",
   "execution_count": 230,
   "id": "480373eb",
   "metadata": {},
   "outputs": [
    {
     "data": {
      "text/plain": [
       "array([-26966.87480909, -26803.01240704, -27272.55154462])"
      ]
     },
     "execution_count": 230,
     "metadata": {},
     "output_type": "execute_result"
    }
   ],
   "source": [
    "cross_val_score(rf, X_train, y_train, scoring='neg_mean_absolute_error', cv=3)"
   ]
  },
  {
   "cell_type": "code",
   "execution_count": 231,
   "id": "af16256b",
   "metadata": {},
   "outputs": [
    {
     "name": "stdout",
     "output_type": "stream",
     "text": [
      "The R2 of Random Forest Regressor is 0.9227754272023171\n",
      "The mean squared error of Random Forest Regressor is 76566.0155244916\n",
      "The mean absolute error of Random Forest Regressor is 26835.862597588264\n"
     ]
    }
   ],
   "source": [
    "rf_r2=np.mean(cross_val_score(rf, X_train, y_train, cv=5))\n",
    "print(f'The R2 of Random Forest Regressor is {rf_r2}')\n",
    "\n",
    "#cross validation features gives greater is better, so score function is opposite of \n",
    "#MSE so we need to use -ve to get mse\n",
    "rf_mse=np.mean(cross_val_score(rf, X_train, y_train, cv=5, scoring='neg_mean_squared_error'))\n",
    "rf_rmse=np.sqrt(-(lrl_mse))\n",
    "print(f'The mean squared error of Random Forest Regressor is {rf_rmse}')\n",
    "\n",
    "#mean absolute error\n",
    "rf_mae=np.mean(cross_val_score(rf, X_train, y_train, cv=5, scoring='neg_mean_absolute_error'))\n",
    "rf_mae=(-(rf_mae))\n",
    "print(f'The mean absolute error of Random Forest Regressor is {rf_mae}')"
   ]
  },
  {
   "cell_type": "code",
   "execution_count": null,
   "id": "ed8691bf",
   "metadata": {},
   "outputs": [],
   "source": []
  },
  {
   "cell_type": "markdown",
   "id": "ad5c3fc4",
   "metadata": {},
   "source": [
    "#### Tuning the hyperparameters using Grid Search CV"
   ]
  },
  {
   "cell_type": "code",
   "execution_count": 252,
   "id": "9ab337eb",
   "metadata": {},
   "outputs": [
    {
     "data": {
      "text/plain": [
       "GridSearchCV(cv=5, estimator=RandomForestRegressor(),\n",
       "             param_grid=[{'max_features': [3, 6],\n",
       "                          'n_estimators': [30, 60, 100]}],\n",
       "             return_train_score=True, scoring='neg_mean_absolute_error')"
      ]
     },
     "execution_count": 252,
     "metadata": {},
     "output_type": "execute_result"
    }
   ],
   "source": [
    "parameters = [{'n_estimators':[30,60,100],\n",
    "              'max_features':[3,6]}]\n",
    "              #,{'bootstrap':[False], 'n_estimators':[3,10,100],\n",
    "              #'max_features':[4,6,8,10]}]\n",
    "gs_rf=GridSearchCV(rf, parameters, scoring='neg_mean_absolute_error',\n",
    "                   cv=5, return_train_score=True)\n",
    "gs_rf.fit(X_train, y_train)"
   ]
  },
  {
   "cell_type": "code",
   "execution_count": 253,
   "id": "3f4dbf72",
   "metadata": {},
   "outputs": [
    {
     "data": {
      "text/plain": [
       "{'max_features': 6, 'n_estimators': 100}"
      ]
     },
     "execution_count": 253,
     "metadata": {},
     "output_type": "execute_result"
    }
   ],
   "source": [
    "#Best parameters\n",
    "gs_rf.best_params_"
   ]
  },
  {
   "cell_type": "code",
   "execution_count": 254,
   "id": "f0bf6932",
   "metadata": {},
   "outputs": [
    {
     "data": {
      "text/plain": [
       "RandomForestRegressor(max_features=6)"
      ]
     },
     "execution_count": 254,
     "metadata": {},
     "output_type": "execute_result"
    }
   ],
   "source": [
    "#best estimator\n",
    "rf_b=gs_rf.best_estimator_\n",
    "rf_b"
   ]
  },
  {
   "cell_type": "code",
   "execution_count": 255,
   "id": "b382fad8",
   "metadata": {},
   "outputs": [
    {
     "name": "stdout",
     "output_type": "stream",
     "text": [
      "R2 Score of training set after hyperpar tuining 0.9898419759309446\n",
      "R2 Score of testing set after hyperpar tuining  0.9279054179105644\n"
     ]
    }
   ],
   "source": [
    "#Printing the score of test and train set\n",
    "rf_tr=rf_b.score(X_train, y_train)\n",
    "rf_te=rf_b.score(X_test, y_test)\n",
    "print(f'R2 Score of training set after hyperpar tuining {rf_tr}')\n",
    "print(f'R2 Score of testing set after hyperpar tuining  {rf_te}')"
   ]
  },
  {
   "cell_type": "code",
   "execution_count": 394,
   "id": "3d614163",
   "metadata": {},
   "outputs": [
    {
     "data": {
      "text/html": [
       "<div>\n",
       "<style scoped>\n",
       "    .dataframe tbody tr th:only-of-type {\n",
       "        vertical-align: middle;\n",
       "    }\n",
       "\n",
       "    .dataframe tbody tr th {\n",
       "        vertical-align: top;\n",
       "    }\n",
       "\n",
       "    .dataframe thead th {\n",
       "        text-align: right;\n",
       "    }\n",
       "</style>\n",
       "<table border=\"1\" class=\"dataframe\">\n",
       "  <thead>\n",
       "    <tr style=\"text-align: right;\">\n",
       "      <th></th>\n",
       "      <th>mean_fit_time</th>\n",
       "      <th>std_fit_time</th>\n",
       "      <th>mean_score_time</th>\n",
       "      <th>std_score_time</th>\n",
       "      <th>param_max_features</th>\n",
       "      <th>param_n_estimators</th>\n",
       "      <th>params</th>\n",
       "      <th>split0_test_score</th>\n",
       "      <th>split1_test_score</th>\n",
       "      <th>split2_test_score</th>\n",
       "      <th>...</th>\n",
       "      <th>mean_test_score</th>\n",
       "      <th>std_test_score</th>\n",
       "      <th>rank_test_score</th>\n",
       "      <th>split0_train_score</th>\n",
       "      <th>split1_train_score</th>\n",
       "      <th>split2_train_score</th>\n",
       "      <th>split3_train_score</th>\n",
       "      <th>split4_train_score</th>\n",
       "      <th>mean_train_score</th>\n",
       "      <th>std_train_score</th>\n",
       "    </tr>\n",
       "  </thead>\n",
       "  <tbody>\n",
       "    <tr>\n",
       "      <th>0</th>\n",
       "      <td>0.968940</td>\n",
       "      <td>0.009346</td>\n",
       "      <td>0.026817</td>\n",
       "      <td>0.000316</td>\n",
       "      <td>3</td>\n",
       "      <td>30</td>\n",
       "      <td>{'max_features': 3, 'n_estimators': 30}</td>\n",
       "      <td>-27822.138545</td>\n",
       "      <td>-27697.893494</td>\n",
       "      <td>-27455.643623</td>\n",
       "      <td>...</td>\n",
       "      <td>-27834.660968</td>\n",
       "      <td>345.656402</td>\n",
       "      <td>6</td>\n",
       "      <td>-10736.899283</td>\n",
       "      <td>-10562.505911</td>\n",
       "      <td>-10880.590621</td>\n",
       "      <td>-10817.881560</td>\n",
       "      <td>-10716.825801</td>\n",
       "      <td>-10742.940635</td>\n",
       "      <td>107.553552</td>\n",
       "    </tr>\n",
       "    <tr>\n",
       "      <th>1</th>\n",
       "      <td>1.931748</td>\n",
       "      <td>0.033476</td>\n",
       "      <td>0.054206</td>\n",
       "      <td>0.001146</td>\n",
       "      <td>3</td>\n",
       "      <td>60</td>\n",
       "      <td>{'max_features': 3, 'n_estimators': 60}</td>\n",
       "      <td>-27410.926621</td>\n",
       "      <td>-27152.840292</td>\n",
       "      <td>-26846.360095</td>\n",
       "      <td>...</td>\n",
       "      <td>-27333.302219</td>\n",
       "      <td>343.480626</td>\n",
       "      <td>5</td>\n",
       "      <td>-10352.890286</td>\n",
       "      <td>-10286.198089</td>\n",
       "      <td>-10460.985223</td>\n",
       "      <td>-10289.237879</td>\n",
       "      <td>-10376.274094</td>\n",
       "      <td>-10353.117114</td>\n",
       "      <td>64.390277</td>\n",
       "    </tr>\n",
       "    <tr>\n",
       "      <th>2</th>\n",
       "      <td>3.232064</td>\n",
       "      <td>0.020162</td>\n",
       "      <td>0.089999</td>\n",
       "      <td>0.001917</td>\n",
       "      <td>3</td>\n",
       "      <td>100</td>\n",
       "      <td>{'max_features': 3, 'n_estimators': 100}</td>\n",
       "      <td>-27090.119914</td>\n",
       "      <td>-27218.168503</td>\n",
       "      <td>-26457.601392</td>\n",
       "      <td>...</td>\n",
       "      <td>-27188.577219</td>\n",
       "      <td>463.669460</td>\n",
       "      <td>4</td>\n",
       "      <td>-10161.328048</td>\n",
       "      <td>-10132.364647</td>\n",
       "      <td>-10225.637659</td>\n",
       "      <td>-10139.452158</td>\n",
       "      <td>-10112.875399</td>\n",
       "      <td>-10154.331582</td>\n",
       "      <td>38.874325</td>\n",
       "    </tr>\n",
       "    <tr>\n",
       "      <th>3</th>\n",
       "      <td>1.742676</td>\n",
       "      <td>0.016310</td>\n",
       "      <td>0.027446</td>\n",
       "      <td>0.001094</td>\n",
       "      <td>6</td>\n",
       "      <td>30</td>\n",
       "      <td>{'max_features': 6, 'n_estimators': 30}</td>\n",
       "      <td>-26878.964736</td>\n",
       "      <td>-27528.498816</td>\n",
       "      <td>-26382.970854</td>\n",
       "      <td>...</td>\n",
       "      <td>-27069.327136</td>\n",
       "      <td>502.175079</td>\n",
       "      <td>3</td>\n",
       "      <td>-10365.321922</td>\n",
       "      <td>-10376.059383</td>\n",
       "      <td>-10518.877629</td>\n",
       "      <td>-10497.367155</td>\n",
       "      <td>-10250.336076</td>\n",
       "      <td>-10401.592433</td>\n",
       "      <td>97.749257</td>\n",
       "    </tr>\n",
       "    <tr>\n",
       "      <th>4</th>\n",
       "      <td>3.483527</td>\n",
       "      <td>0.016422</td>\n",
       "      <td>0.054336</td>\n",
       "      <td>0.001269</td>\n",
       "      <td>6</td>\n",
       "      <td>60</td>\n",
       "      <td>{'max_features': 6, 'n_estimators': 60}</td>\n",
       "      <td>-26503.913584</td>\n",
       "      <td>-27055.723507</td>\n",
       "      <td>-26239.250616</td>\n",
       "      <td>...</td>\n",
       "      <td>-26836.926245</td>\n",
       "      <td>434.387838</td>\n",
       "      <td>2</td>\n",
       "      <td>-10061.231058</td>\n",
       "      <td>-10058.623245</td>\n",
       "      <td>-10141.318471</td>\n",
       "      <td>-10096.331701</td>\n",
       "      <td>-9972.863651</td>\n",
       "      <td>-10066.073625</td>\n",
       "      <td>55.397466</td>\n",
       "    </tr>\n",
       "    <tr>\n",
       "      <th>5</th>\n",
       "      <td>5.809323</td>\n",
       "      <td>0.012336</td>\n",
       "      <td>0.091122</td>\n",
       "      <td>0.002408</td>\n",
       "      <td>6</td>\n",
       "      <td>100</td>\n",
       "      <td>{'max_features': 6, 'n_estimators': 100}</td>\n",
       "      <td>-26410.260739</td>\n",
       "      <td>-26999.629459</td>\n",
       "      <td>-25904.550203</td>\n",
       "      <td>...</td>\n",
       "      <td>-26661.997859</td>\n",
       "      <td>502.423626</td>\n",
       "      <td>1</td>\n",
       "      <td>-10005.224966</td>\n",
       "      <td>-9890.594409</td>\n",
       "      <td>-10020.559826</td>\n",
       "      <td>-9981.337380</td>\n",
       "      <td>-9892.316070</td>\n",
       "      <td>-9958.006530</td>\n",
       "      <td>55.761016</td>\n",
       "    </tr>\n",
       "  </tbody>\n",
       "</table>\n",
       "<p>6 rows × 22 columns</p>\n",
       "</div>"
      ],
      "text/plain": [
       "   mean_fit_time  std_fit_time  mean_score_time  std_score_time  \\\n",
       "0       0.968940      0.009346         0.026817        0.000316   \n",
       "1       1.931748      0.033476         0.054206        0.001146   \n",
       "2       3.232064      0.020162         0.089999        0.001917   \n",
       "3       1.742676      0.016310         0.027446        0.001094   \n",
       "4       3.483527      0.016422         0.054336        0.001269   \n",
       "5       5.809323      0.012336         0.091122        0.002408   \n",
       "\n",
       "  param_max_features param_n_estimators  \\\n",
       "0                  3                 30   \n",
       "1                  3                 60   \n",
       "2                  3                100   \n",
       "3                  6                 30   \n",
       "4                  6                 60   \n",
       "5                  6                100   \n",
       "\n",
       "                                     params  split0_test_score  \\\n",
       "0   {'max_features': 3, 'n_estimators': 30}      -27822.138545   \n",
       "1   {'max_features': 3, 'n_estimators': 60}      -27410.926621   \n",
       "2  {'max_features': 3, 'n_estimators': 100}      -27090.119914   \n",
       "3   {'max_features': 6, 'n_estimators': 30}      -26878.964736   \n",
       "4   {'max_features': 6, 'n_estimators': 60}      -26503.913584   \n",
       "5  {'max_features': 6, 'n_estimators': 100}      -26410.260739   \n",
       "\n",
       "   split1_test_score  split2_test_score  ...  mean_test_score  std_test_score  \\\n",
       "0      -27697.893494      -27455.643623  ...    -27834.660968      345.656402   \n",
       "1      -27152.840292      -26846.360095  ...    -27333.302219      343.480626   \n",
       "2      -27218.168503      -26457.601392  ...    -27188.577219      463.669460   \n",
       "3      -27528.498816      -26382.970854  ...    -27069.327136      502.175079   \n",
       "4      -27055.723507      -26239.250616  ...    -26836.926245      434.387838   \n",
       "5      -26999.629459      -25904.550203  ...    -26661.997859      502.423626   \n",
       "\n",
       "   rank_test_score  split0_train_score  split1_train_score  \\\n",
       "0                6       -10736.899283       -10562.505911   \n",
       "1                5       -10352.890286       -10286.198089   \n",
       "2                4       -10161.328048       -10132.364647   \n",
       "3                3       -10365.321922       -10376.059383   \n",
       "4                2       -10061.231058       -10058.623245   \n",
       "5                1       -10005.224966        -9890.594409   \n",
       "\n",
       "   split2_train_score  split3_train_score  split4_train_score  \\\n",
       "0       -10880.590621       -10817.881560       -10716.825801   \n",
       "1       -10460.985223       -10289.237879       -10376.274094   \n",
       "2       -10225.637659       -10139.452158       -10112.875399   \n",
       "3       -10518.877629       -10497.367155       -10250.336076   \n",
       "4       -10141.318471       -10096.331701        -9972.863651   \n",
       "5       -10020.559826        -9981.337380        -9892.316070   \n",
       "\n",
       "   mean_train_score  std_train_score  \n",
       "0     -10742.940635       107.553552  \n",
       "1     -10353.117114        64.390277  \n",
       "2     -10154.331582        38.874325  \n",
       "3     -10401.592433        97.749257  \n",
       "4     -10066.073625        55.397466  \n",
       "5      -9958.006530        55.761016  \n",
       "\n",
       "[6 rows x 22 columns]"
      ]
     },
     "execution_count": 394,
     "metadata": {},
     "output_type": "execute_result"
    }
   ],
   "source": [
    "rf_df=pd.DataFrame(gs_rf.cv_results_)\n",
    "rf_df"
   ]
  },
  {
   "cell_type": "code",
   "execution_count": 256,
   "id": "562f874e",
   "metadata": {},
   "outputs": [
    {
     "name": "stdout",
     "output_type": "stream",
     "text": [
      "27834.66096788057 {'max_features': 3, 'n_estimators': 30}\n",
      "27333.30221929696 {'max_features': 3, 'n_estimators': 60}\n",
      "27188.57721914576 {'max_features': 3, 'n_estimators': 100}\n",
      "27069.32713562721 {'max_features': 6, 'n_estimators': 30}\n",
      "26836.926244556653 {'max_features': 6, 'n_estimators': 60}\n",
      "26661.99785934695 {'max_features': 6, 'n_estimators': 100}\n"
     ]
    }
   ],
   "source": [
    "#printing the evaluation scores\n",
    "cvres=gs_rf.cv_results_\n",
    "for mean_score, params in zip(cvres['mean_test_score'], cvres['params']):\n",
    "    print((-mean_score), params)"
   ]
  },
  {
   "cell_type": "markdown",
   "id": "b60ee147",
   "metadata": {},
   "source": [
    "### Important scores of each columns"
   ]
  },
  {
   "cell_type": "code",
   "execution_count": 257,
   "id": "7b8fbc23",
   "metadata": {},
   "outputs": [
    {
     "data": {
      "text/plain": [
       "[(0.5906623258021902, 'Monthly Owner Cost'),\n",
       " (0.1515640415109147, 'Per Capita Income'),\n",
       " (0.07885018158446899, 'Lng'),\n",
       " (0.06293240804799036, 'Household Income'),\n",
       " (0.0348711886089962, 'College Rate'),\n",
       " (0.018968908629669302, 'High School Rate'),\n",
       " (0.01690926399002532, 'Lat'),\n",
       " (0.015045609242558704, 'Personal Transport Rate'),\n",
       " (0.010811355342948739, 'Median Age'),\n",
       " (0.009711601549561568, 'Public Transport Rate'),\n",
       " (0.009673115690675846, 'Population')]"
      ]
     },
     "execution_count": 257,
     "metadata": {},
     "output_type": "execute_result"
    }
   ],
   "source": [
    "feature_importances=rf_b.feature_importances_\n",
    "col=X.columns\n",
    "sorted(zip(feature_importances, col), reverse=True)"
   ]
  },
  {
   "cell_type": "markdown",
   "id": "2b60635f",
   "metadata": {},
   "source": [
    "## Predicting on Test set"
   ]
  },
  {
   "cell_type": "code",
   "execution_count": 258,
   "id": "dd5fe4bc",
   "metadata": {},
   "outputs": [],
   "source": [
    "#Testing the model in test data\n",
    "y_pred_lr=lr.predict(X_test)     #linear \n",
    "y_pred_lrl=lrl.predict(X_test)   #lasso\n",
    "y_pred_lrr=lrr.predict(X_test)   #Ridge\n",
    "y_pred_svm=svm.predict(X_test)   #svm\n",
    "y_pred_dt=dt_b.predict(X_test)   #Dicision tree\n",
    "y_pred_rf=rf_b.predict(X_test)   #Random forest"
   ]
  },
  {
   "cell_type": "markdown",
   "id": "684d2d36",
   "metadata": {},
   "source": [
    "### Mean Absolute Error"
   ]
  },
  {
   "cell_type": "code",
   "execution_count": 259,
   "id": "dcf35fb2",
   "metadata": {},
   "outputs": [
    {
     "name": "stdout",
     "output_type": "stream",
     "text": [
      "The mean absoulte error of linear regression is 45391.5112780571\n",
      "The mean absoulte error of lasso regression is 45384.6166684727\n",
      "The mean absoulte error of Ridge regression is 45378.01510806348\n",
      "The mean absoulte error of SVM regression is 190494.75612435187\n",
      "The mean absoulte error of decision tree regression is 34290.56957689068\n",
      "The mean absoulte error of random forest regression is 26995.017286939947\n"
     ]
    }
   ],
   "source": [
    "#regression matrices-mean absolute error(give you the prediction error)\n",
    "lin_mae_lr=mean_absolute_error(y_test, y_pred_lr)\n",
    "print(f'The mean absoulte error of linear regression is {lin_mae_lr}')\n",
    "\n",
    "lin_mae_lrl=mean_absolute_error(y_test, y_pred_lrl)\n",
    "print(f'The mean absoulte error of lasso regression is {lin_mae_lrl}')\n",
    "\n",
    "lin_mae_lrr=mean_absolute_error(y_test, y_pred_lrr)\n",
    "print(f'The mean absoulte error of Ridge regression is {lin_mae_lrr}')\n",
    "\n",
    "lin_mae_svm=mean_absolute_error(y_test, y_pred_svm)\n",
    "print(f'The mean absoulte error of SVM regression is {lin_mae_svm}')\n",
    "\n",
    "lin_mae_dt=mean_absolute_error(y_test, y_pred_dt)\n",
    "print(f'The mean absoulte error of decision tree regression is {lin_mae_dt}')\n",
    "\n",
    "lin_mae_rf=mean_absolute_error(y_test, y_pred_rf)\n",
    "print(f'The mean absoulte error of random forest regression is {lin_mae_rf}')\n"
   ]
  },
  {
   "cell_type": "markdown",
   "id": "18da666e",
   "metadata": {},
   "source": [
    "### Root Mean Squared Error"
   ]
  },
  {
   "cell_type": "code",
   "execution_count": 260,
   "id": "38a0780d",
   "metadata": {},
   "outputs": [
    {
     "name": "stdout",
     "output_type": "stream",
     "text": [
      "The mean squared error of linear regression is 77458.94583201356\n",
      "The mean squared error of lasso regression is 77459.15024915677\n",
      "The mean squared error of ridge regression is 77457.44643827128\n",
      "The mean squared error of SVM regression is 271194.1695851578\n",
      "The mean squared error of decision tree regression is 64724.79275358115\n",
      "The mean squared error of random forest regression is 51740.34661723576\n"
     ]
    }
   ],
   "source": [
    "#regression matrices-mean squared error(give you the prediction error)\n",
    "lin_mse_lr=mean_squared_error(y_test, y_pred_lr)\n",
    "lin_rmse_lr=np.sqrt(lin_mse_lr)\n",
    "print(f'The mean squared error of linear regression is {lin_rmse_lr}')\n",
    "\n",
    "lin_mse_lrl=mean_squared_error(y_test, y_pred_lrl)\n",
    "lin_rmse_lrl=np.sqrt(lin_mse_lrl)\n",
    "print(f'The mean squared error of lasso regression is {lin_rmse_lrl}')\n",
    "\n",
    "lin_mse_lrr=mean_squared_error(y_test, y_pred_lrr)\n",
    "lin_rmse_lrr=np.sqrt(lin_mse_lrr)\n",
    "print(f'The mean squared error of ridge regression is {lin_rmse_lrr}')\n",
    "\n",
    "lin_mse_svm=mean_squared_error(y_test, y_pred_svm)\n",
    "lin_rmse_svm=np.sqrt(lin_mse_svm)\n",
    "print(f'The mean squared error of SVM regression is {lin_rmse_svm}')\n",
    "\n",
    "lin_mse_dt=mean_squared_error(y_test, y_pred_dt)\n",
    "lin_rmse_dt=np.sqrt(lin_mse_dt)\n",
    "print(f'The mean squared error of decision tree regression is {lin_rmse_dt}')\n",
    "\n",
    "lin_mse_rf=mean_squared_error(y_test, y_pred_rf)\n",
    "lin_rmse_rf=np.sqrt(lin_mse_rf)\n",
    "print(f'The mean squared error of random forest regression is {lin_rmse_rf}')"
   ]
  },
  {
   "cell_type": "markdown",
   "id": "84e2dd87",
   "metadata": {},
   "source": [
    "### Actual and predicted house rate --best model( RandomForest Regressor)"
   ]
  },
  {
   "cell_type": "code",
   "execution_count": 261,
   "id": "139d1d07",
   "metadata": {},
   "outputs": [
    {
     "data": {
      "text/html": [
       "<div>\n",
       "<style scoped>\n",
       "    .dataframe tbody tr th:only-of-type {\n",
       "        vertical-align: middle;\n",
       "    }\n",
       "\n",
       "    .dataframe tbody tr th {\n",
       "        vertical-align: top;\n",
       "    }\n",
       "\n",
       "    .dataframe thead th {\n",
       "        text-align: right;\n",
       "    }\n",
       "</style>\n",
       "<table border=\"1\" class=\"dataframe\">\n",
       "  <thead>\n",
       "    <tr style=\"text-align: right;\">\n",
       "      <th></th>\n",
       "      <th>Actual House Value</th>\n",
       "      <th>Random Forest Predicted House Value</th>\n",
       "      <th>Linear Reg Predicted House Value</th>\n",
       "      <th>Lasso Reg Predicted House Value</th>\n",
       "      <th>Ridge Reg Predicted House Value</th>\n",
       "      <th>Decesion Tree Predicted House Value</th>\n",
       "      <th>SVM Predicted House Value</th>\n",
       "    </tr>\n",
       "    <tr>\n",
       "      <th>City</th>\n",
       "      <th></th>\n",
       "      <th></th>\n",
       "      <th></th>\n",
       "      <th></th>\n",
       "      <th></th>\n",
       "      <th></th>\n",
       "      <th></th>\n",
       "    </tr>\n",
       "  </thead>\n",
       "  <tbody>\n",
       "    <tr>\n",
       "      <th>Bristol</th>\n",
       "      <td>179900.0</td>\n",
       "      <td>160204.0</td>\n",
       "      <td>126194.356363</td>\n",
       "      <td>126273.159845</td>\n",
       "      <td>126366.212912</td>\n",
       "      <td>158219.545455</td>\n",
       "      <td>20973.937137</td>\n",
       "    </tr>\n",
       "    <tr>\n",
       "      <th>Milford</th>\n",
       "      <td>230500.0</td>\n",
       "      <td>228049.0</td>\n",
       "      <td>244240.716792</td>\n",
       "      <td>244259.499574</td>\n",
       "      <td>244285.287559</td>\n",
       "      <td>252072.431078</td>\n",
       "      <td>20921.418743</td>\n",
       "    </tr>\n",
       "    <tr>\n",
       "      <th>Mukwonago</th>\n",
       "      <td>293900.0</td>\n",
       "      <td>268545.0</td>\n",
       "      <td>291680.687706</td>\n",
       "      <td>291732.855639</td>\n",
       "      <td>291782.752040</td>\n",
       "      <td>288200.000000</td>\n",
       "      <td>20869.607597</td>\n",
       "    </tr>\n",
       "    <tr>\n",
       "      <th>Purvis</th>\n",
       "      <td>157200.0</td>\n",
       "      <td>146429.0</td>\n",
       "      <td>139587.330258</td>\n",
       "      <td>139620.046996</td>\n",
       "      <td>139713.005427</td>\n",
       "      <td>140550.727449</td>\n",
       "      <td>20965.164363</td>\n",
       "    </tr>\n",
       "    <tr>\n",
       "      <th>Wilson</th>\n",
       "      <td>82100.0</td>\n",
       "      <td>75816.0</td>\n",
       "      <td>101869.162827</td>\n",
       "      <td>101890.825466</td>\n",
       "      <td>102003.980111</td>\n",
       "      <td>84646.820809</td>\n",
       "      <td>21315.360830</td>\n",
       "    </tr>\n",
       "    <tr>\n",
       "      <th>...</th>\n",
       "      <td>...</td>\n",
       "      <td>...</td>\n",
       "      <td>...</td>\n",
       "      <td>...</td>\n",
       "      <td>...</td>\n",
       "      <td>...</td>\n",
       "      <td>...</td>\n",
       "    </tr>\n",
       "    <tr>\n",
       "      <th>Hoodsport</th>\n",
       "      <td>174900.0</td>\n",
       "      <td>192189.0</td>\n",
       "      <td>221043.343631</td>\n",
       "      <td>220933.705584</td>\n",
       "      <td>220971.165486</td>\n",
       "      <td>154790.116279</td>\n",
       "      <td>21442.646907</td>\n",
       "    </tr>\n",
       "    <tr>\n",
       "      <th>Leicester</th>\n",
       "      <td>262000.0</td>\n",
       "      <td>231852.0</td>\n",
       "      <td>223904.421604</td>\n",
       "      <td>223960.539763</td>\n",
       "      <td>223928.399135</td>\n",
       "      <td>252072.431078</td>\n",
       "      <td>20914.482322</td>\n",
       "    </tr>\n",
       "    <tr>\n",
       "      <th>Whitewater</th>\n",
       "      <td>166400.0</td>\n",
       "      <td>148591.0</td>\n",
       "      <td>176584.679936</td>\n",
       "      <td>176642.876394</td>\n",
       "      <td>176503.506217</td>\n",
       "      <td>185289.811321</td>\n",
       "      <td>20980.709973</td>\n",
       "    </tr>\n",
       "    <tr>\n",
       "      <th>Taylor</th>\n",
       "      <td>164600.0</td>\n",
       "      <td>158873.0</td>\n",
       "      <td>173167.517293</td>\n",
       "      <td>173275.826709</td>\n",
       "      <td>173494.754618</td>\n",
       "      <td>158219.545455</td>\n",
       "      <td>20849.154449</td>\n",
       "    </tr>\n",
       "    <tr>\n",
       "      <th>Kincaid</th>\n",
       "      <td>112500.0</td>\n",
       "      <td>102547.0</td>\n",
       "      <td>156166.128427</td>\n",
       "      <td>156141.522366</td>\n",
       "      <td>156057.846980</td>\n",
       "      <td>108346.153846</td>\n",
       "      <td>21145.879346</td>\n",
       "    </tr>\n",
       "  </tbody>\n",
       "</table>\n",
       "<p>5245 rows × 7 columns</p>\n",
       "</div>"
      ],
      "text/plain": [
       "            Actual House Value  Random Forest Predicted House Value  \\\n",
       "City                                                                  \n",
       "Bristol               179900.0                             160204.0   \n",
       "Milford               230500.0                             228049.0   \n",
       "Mukwonago             293900.0                             268545.0   \n",
       "Purvis                157200.0                             146429.0   \n",
       "Wilson                 82100.0                              75816.0   \n",
       "...                        ...                                  ...   \n",
       "Hoodsport             174900.0                             192189.0   \n",
       "Leicester             262000.0                             231852.0   \n",
       "Whitewater            166400.0                             148591.0   \n",
       "Taylor                164600.0                             158873.0   \n",
       "Kincaid               112500.0                             102547.0   \n",
       "\n",
       "            Linear Reg Predicted House Value  Lasso Reg Predicted House Value  \\\n",
       "City                                                                            \n",
       "Bristol                        126194.356363                    126273.159845   \n",
       "Milford                        244240.716792                    244259.499574   \n",
       "Mukwonago                      291680.687706                    291732.855639   \n",
       "Purvis                         139587.330258                    139620.046996   \n",
       "Wilson                         101869.162827                    101890.825466   \n",
       "...                                      ...                              ...   \n",
       "Hoodsport                      221043.343631                    220933.705584   \n",
       "Leicester                      223904.421604                    223960.539763   \n",
       "Whitewater                     176584.679936                    176642.876394   \n",
       "Taylor                         173167.517293                    173275.826709   \n",
       "Kincaid                        156166.128427                    156141.522366   \n",
       "\n",
       "            Ridge Reg Predicted House Value  \\\n",
       "City                                          \n",
       "Bristol                       126366.212912   \n",
       "Milford                       244285.287559   \n",
       "Mukwonago                     291782.752040   \n",
       "Purvis                        139713.005427   \n",
       "Wilson                        102003.980111   \n",
       "...                                     ...   \n",
       "Hoodsport                     220971.165486   \n",
       "Leicester                     223928.399135   \n",
       "Whitewater                    176503.506217   \n",
       "Taylor                        173494.754618   \n",
       "Kincaid                       156057.846980   \n",
       "\n",
       "            Decesion Tree Predicted House Value  SVM Predicted House Value  \n",
       "City                                                                        \n",
       "Bristol                           158219.545455               20973.937137  \n",
       "Milford                           252072.431078               20921.418743  \n",
       "Mukwonago                         288200.000000               20869.607597  \n",
       "Purvis                            140550.727449               20965.164363  \n",
       "Wilson                             84646.820809               21315.360830  \n",
       "...                                         ...                        ...  \n",
       "Hoodsport                         154790.116279               21442.646907  \n",
       "Leicester                         252072.431078               20914.482322  \n",
       "Whitewater                        185289.811321               20980.709973  \n",
       "Taylor                            158219.545455               20849.154449  \n",
       "Kincaid                           108346.153846               21145.879346  \n",
       "\n",
       "[5245 rows x 7 columns]"
      ]
     },
     "execution_count": 261,
     "metadata": {},
     "output_type": "execute_result"
    }
   ],
   "source": [
    "#Actual and predicated value of house using our best model\n",
    "house_value=pd.DataFrame({'Actual House Value':y_test, \n",
    "                'Random Forest Predicted House Value':y_pred_rf,\n",
    "                'Linear Reg Predicted House Value':y_pred_lr,\n",
    "                'Lasso Reg Predicted House Value':y_pred_lrl,\n",
    "                'Ridge Reg Predicted House Value':y_pred_lrr,       \n",
    "                'Decesion Tree Predicted House Value':y_pred_dt,\n",
    "                 'SVM Predicted House Value':y_pred_svm},index=test_index)\n",
    "house_value"
   ]
  },
  {
   "cell_type": "markdown",
   "id": "b08a7dff",
   "metadata": {},
   "source": [
    "## Evaluation metrices of differnt models"
   ]
  },
  {
   "cell_type": "code",
   "execution_count": 262,
   "id": "ab42ba1d",
   "metadata": {},
   "outputs": [
    {
     "data": {
      "text/html": [
       "<div>\n",
       "<style scoped>\n",
       "    .dataframe tbody tr th:only-of-type {\n",
       "        vertical-align: middle;\n",
       "    }\n",
       "\n",
       "    .dataframe tbody tr th {\n",
       "        vertical-align: top;\n",
       "    }\n",
       "\n",
       "    .dataframe thead th {\n",
       "        text-align: right;\n",
       "    }\n",
       "</style>\n",
       "<table border=\"1\" class=\"dataframe\">\n",
       "  <thead>\n",
       "    <tr style=\"text-align: right;\">\n",
       "      <th></th>\n",
       "      <th>Linear Reg</th>\n",
       "      <th>Lasso Reg</th>\n",
       "      <th>Ridge Reg</th>\n",
       "      <th>SVM Reg</th>\n",
       "      <th>Decision Tree</th>\n",
       "      <th>Random Forest</th>\n",
       "    </tr>\n",
       "  </thead>\n",
       "  <tbody>\n",
       "    <tr>\n",
       "      <th>R2</th>\n",
       "      <td>0.834404</td>\n",
       "      <td>0.834404</td>\n",
       "      <td>0.834405</td>\n",
       "      <td>-1.041136</td>\n",
       "      <td>0.943511</td>\n",
       "      <td>0.989842</td>\n",
       "    </tr>\n",
       "    <tr>\n",
       "      <th>Mean Absolute Error</th>\n",
       "      <td>45391.511278</td>\n",
       "      <td>45384.616668</td>\n",
       "      <td>45378.015108</td>\n",
       "      <td>190494.756124</td>\n",
       "      <td>34290.569577</td>\n",
       "      <td>26995.017287</td>\n",
       "    </tr>\n",
       "    <tr>\n",
       "      <th>Root Mean Squared Error</th>\n",
       "      <td>77458.945832</td>\n",
       "      <td>77459.150249</td>\n",
       "      <td>77457.446438</td>\n",
       "      <td>271194.169585</td>\n",
       "      <td>64724.792754</td>\n",
       "      <td>51740.346617</td>\n",
       "    </tr>\n",
       "  </tbody>\n",
       "</table>\n",
       "</div>"
      ],
      "text/plain": [
       "                           Linear Reg     Lasso Reg     Ridge Reg  \\\n",
       "R2                           0.834404      0.834404      0.834405   \n",
       "Mean Absolute Error      45391.511278  45384.616668  45378.015108   \n",
       "Root Mean Squared Error  77458.945832  77459.150249  77457.446438   \n",
       "\n",
       "                               SVM Reg  Decision Tree  Random Forest  \n",
       "R2                           -1.041136       0.943511       0.989842  \n",
       "Mean Absolute Error      190494.756124   34290.569577   26995.017287  \n",
       "Root Mean Squared Error  271194.169585   64724.792754   51740.346617  "
      ]
     },
     "execution_count": 262,
     "metadata": {},
     "output_type": "execute_result"
    }
   ],
   "source": [
    "evaluation_df=pd.DataFrame({'Linear Reg':[lr_r2,lin_mae_lr,lin_rmse_lr],\n",
    "                           'Lasso Reg':[lrl_r2,lin_mae_lrl,lin_rmse_lrl],\n",
    "                            'Ridge Reg':[lrr_r2,lin_mae_lrr,lin_rmse_lrr],\n",
    "                            'SVM Reg':[svm_r2,lin_mae_svm,lin_rmse_svm],\n",
    "                           'Decision Tree':[dt_tr,lin_mae_dt,lin_rmse_dt],\n",
    "                            'Random Forest':[rf_tr,lin_mae_rf,lin_rmse_rf]}\n",
    "                           ,index=['R2','Mean Absolute Error',\n",
    "                                    'Root Mean Squared Error'])\n",
    "evaluation_df"
   ]
  },
  {
   "cell_type": "markdown",
   "id": "fdc9d69f",
   "metadata": {},
   "source": [
    "## 95% confidence interval for the test MAE:"
   ]
  },
  {
   "cell_type": "code",
   "execution_count": 415,
   "id": "07c277f9",
   "metadata": {},
   "outputs": [
    {
     "data": {
      "text/plain": [
       "(32804.4648998789, 35776.67425390246)"
      ]
     },
     "execution_count": 415,
     "metadata": {},
     "output_type": "execute_result"
    }
   ],
   "source": [
    "#95% confident level\n",
    "confidence = 0.95\n",
    "errors = np.abs((y_pred_dt - y_test)) \n",
    "stats.t.interval(confidence, len(errors) - 1,\n",
    "                         loc=errors.mean(),\n",
    "                         scale=stats.sem(errors))"
   ]
  },
  {
   "cell_type": "markdown",
   "id": "506fa97a",
   "metadata": {},
   "source": [
    "# Predecting the house value of 2017 census data from our best model- Random Forest"
   ]
  },
  {
   "cell_type": "code",
   "execution_count": 299,
   "id": "6911fc06",
   "metadata": {},
   "outputs": [],
   "source": [
    "# 2017 usa cleaned data for machine learning\n",
    "path_2017=os.path.join('output_census', 'usa_2017_ml.csv')\n",
    "usa_17=pd.read_csv(path_2017)"
   ]
  },
  {
   "cell_type": "code",
   "execution_count": 300,
   "id": "cbec29d8",
   "metadata": {},
   "outputs": [],
   "source": [
    "#choosing only important columns\n",
    "usa_2017=usa_17[[ 'City','House Value','Monthly Owner Cost','Per Capita Income','Lng',\n",
    " 'Household Income','College Rate','Lat',\n",
    "  'Personal Transport Rate','High School Rate','Median Age',\n",
    " 'Public Transport Rate','Population']]"
   ]
  },
  {
   "cell_type": "code",
   "execution_count": 301,
   "id": "b04b2014",
   "metadata": {},
   "outputs": [],
   "source": [
    "#seting city as a index\n",
    "usa_2017.set_index('City', inplace=True)"
   ]
  },
  {
   "cell_type": "markdown",
   "id": "90e2d304",
   "metadata": {},
   "source": [
    "#### Prepare a feature matrix (X) and response (y)  for scikit-learn."
   ]
  },
  {
   "cell_type": "code",
   "execution_count": 302,
   "id": "03f2e0f1",
   "metadata": {},
   "outputs": [],
   "source": [
    "# create feature matrix (X)\n",
    "#selecting all columns except 'House Value'\n",
    "X_2017=usa_2017.drop('House Value', axis=1) \n",
    "\n",
    "# create response vector (y)\n",
    "##selecting 'House Value'\n",
    "y_2017=usa_2017['House Value'].values  "
   ]
  },
  {
   "cell_type": "code",
   "execution_count": null,
   "id": "91a5d1c1",
   "metadata": {},
   "outputs": [],
   "source": []
  },
  {
   "cell_type": "markdown",
   "id": "204d8d7c",
   "metadata": {},
   "source": [
    "#### Scaling using standard scaler on feature matrix (X) "
   ]
  },
  {
   "cell_type": "code",
   "execution_count": 303,
   "id": "c9046990",
   "metadata": {},
   "outputs": [],
   "source": [
    "#Different columns have differnt scale so standrazied it \n",
    "#features scaling using standard scaler on x only\n",
    "from sklearn.preprocessing import StandardScaler\n",
    "std_scaler=StandardScaler()\n",
    "scaled_X_2017=std_scaler.fit_transform(X_2017)"
   ]
  },
  {
   "cell_type": "code",
   "execution_count": 304,
   "id": "ba50d6cd",
   "metadata": {},
   "outputs": [
    {
     "name": "stdout",
     "output_type": "stream",
     "text": [
      "(26457, 11)\n",
      "(26457,)\n"
     ]
    }
   ],
   "source": [
    "#shape of the X and y\n",
    "print(scaled_X_2017.shape)\n",
    "print(y_2017.shape)"
   ]
  },
  {
   "cell_type": "markdown",
   "id": "d7c76242",
   "metadata": {},
   "source": [
    "#### Predcting the house value using our best model Random Forest Regressor"
   ]
  },
  {
   "cell_type": "code",
   "execution_count": 305,
   "id": "657e353d",
   "metadata": {},
   "outputs": [],
   "source": [
    "y_pred=rf_b.predict(scaled_X_2017) "
   ]
  },
  {
   "cell_type": "code",
   "execution_count": 306,
   "id": "b07e3528",
   "metadata": {},
   "outputs": [
    {
     "name": "stdout",
     "output_type": "stream",
     "text": [
      "The mean absoulte error of our best model for 2017 census data is 27912.769831046604\n",
      "The mean squared error of our best model for 2017 census data is 46705.713099312314\n"
     ]
    }
   ],
   "source": [
    "#regression matrices-mean absolute error(give you the prediction error)\n",
    "mae=mean_absolute_error(y_2017, y_pred)\n",
    "print(f'The mean absoulte error of our best model for 2017 census data is {mae}')\n",
    "\n",
    "#regression matrices-mean squared error(give you the prediction error)\n",
    "mse=mean_squared_error(y_2017, y_pred)\n",
    "rmse=np.sqrt(mse)\n",
    "print(f'The mean squared error of our best model for 2017 census data is {rmse}')"
   ]
  },
  {
   "cell_type": "code",
   "execution_count": 308,
   "id": "af7bed57",
   "metadata": {},
   "outputs": [
    {
     "data": {
      "text/html": [
       "<div>\n",
       "<style scoped>\n",
       "    .dataframe tbody tr th:only-of-type {\n",
       "        vertical-align: middle;\n",
       "    }\n",
       "\n",
       "    .dataframe tbody tr th {\n",
       "        vertical-align: top;\n",
       "    }\n",
       "\n",
       "    .dataframe thead th {\n",
       "        text-align: right;\n",
       "    }\n",
       "</style>\n",
       "<table border=\"1\" class=\"dataframe\">\n",
       "  <thead>\n",
       "    <tr style=\"text-align: right;\">\n",
       "      <th></th>\n",
       "      <th>Actual House Value</th>\n",
       "      <th>Random Forest Predicted House Value</th>\n",
       "    </tr>\n",
       "    <tr>\n",
       "      <th>City</th>\n",
       "      <th></th>\n",
       "      <th></th>\n",
       "    </tr>\n",
       "  </thead>\n",
       "  <tbody>\n",
       "    <tr>\n",
       "      <th>Aguada</th>\n",
       "      <td>87300.0</td>\n",
       "      <td>94344.0</td>\n",
       "    </tr>\n",
       "    <tr>\n",
       "      <th>Aguadilla</th>\n",
       "      <td>122300.0</td>\n",
       "      <td>113254.0</td>\n",
       "    </tr>\n",
       "    <tr>\n",
       "      <th>Maricao</th>\n",
       "      <td>92700.0</td>\n",
       "      <td>83379.0</td>\n",
       "    </tr>\n",
       "    <tr>\n",
       "      <th>Anasco</th>\n",
       "      <td>90300.0</td>\n",
       "      <td>91833.0</td>\n",
       "    </tr>\n",
       "    <tr>\n",
       "      <th>Arecibo</th>\n",
       "      <td>97300.0</td>\n",
       "      <td>102184.0</td>\n",
       "    </tr>\n",
       "    <tr>\n",
       "      <th>...</th>\n",
       "      <td>...</td>\n",
       "      <td>...</td>\n",
       "    </tr>\n",
       "    <tr>\n",
       "      <th>Craig</th>\n",
       "      <td>225700.0</td>\n",
       "      <td>259284.0</td>\n",
       "    </tr>\n",
       "    <tr>\n",
       "      <th>Hydaburg</th>\n",
       "      <td>90700.0</td>\n",
       "      <td>89036.0</td>\n",
       "    </tr>\n",
       "    <tr>\n",
       "      <th>Klawock</th>\n",
       "      <td>160900.0</td>\n",
       "      <td>192595.0</td>\n",
       "    </tr>\n",
       "    <tr>\n",
       "      <th>Metlakatla</th>\n",
       "      <td>122600.0</td>\n",
       "      <td>190463.0</td>\n",
       "    </tr>\n",
       "    <tr>\n",
       "      <th>Wrangell</th>\n",
       "      <td>195900.0</td>\n",
       "      <td>219873.0</td>\n",
       "    </tr>\n",
       "  </tbody>\n",
       "</table>\n",
       "<p>26457 rows × 2 columns</p>\n",
       "</div>"
      ],
      "text/plain": [
       "            Actual House Value  Random Forest Predicted House Value\n",
       "City                                                               \n",
       "Aguada                 87300.0                              94344.0\n",
       "Aguadilla             122300.0                             113254.0\n",
       "Maricao                92700.0                              83379.0\n",
       "Anasco                 90300.0                              91833.0\n",
       "Arecibo                97300.0                             102184.0\n",
       "...                        ...                                  ...\n",
       "Craig                 225700.0                             259284.0\n",
       "Hydaburg               90700.0                              89036.0\n",
       "Klawock               160900.0                             192595.0\n",
       "Metlakatla            122600.0                             190463.0\n",
       "Wrangell              195900.0                             219873.0\n",
       "\n",
       "[26457 rows x 2 columns]"
      ]
     },
     "execution_count": 308,
     "metadata": {},
     "output_type": "execute_result"
    }
   ],
   "source": [
    "#Actual and predicated value of house using our best model\n",
    "house_value_2017=pd.DataFrame({'Actual House Value':y_2017, \n",
    "                'Random Forest Predicted House Value':y_pred},index=usa_2017.index)\n",
    "house_value_2017"
   ]
  },
  {
   "cell_type": "markdown",
   "id": "2466489d",
   "metadata": {},
   "source": [
    "## Plotting predected and actual house value"
   ]
  },
  {
   "cell_type": "code",
   "execution_count": 350,
   "id": "51df9f5e",
   "metadata": {},
   "outputs": [],
   "source": [
    "#setting background of figure \n",
    "plt.style.use('ggplot')"
   ]
  },
  {
   "cell_type": "code",
   "execution_count": 351,
   "id": "53eec060",
   "metadata": {},
   "outputs": [],
   "source": [
    "#Set Fonts/Plot Style\n",
    "rcParams['figure.figsize'] = [15.0, 10.0]\n",
    "rcParams['figure.dpi'] = 80\n",
    "rcParams['savefig.dpi'] = 100\n",
    "rcParams['font.size'] = 20\n",
    "rcParams['legend.fontsize'] = 'large'\n",
    "rcParams['figure.titlesize'] = 'medium'\n",
    "rcParams['font.family'] = 'sans-serif'\n",
    "rcParams['font.sans-serif'] = ['Arial']\n",
    "rcParams['xtick.direction'] = 'in'\n",
    "rcParams['ytick.direction'] = 'in'\n",
    "rcParams['xtick.top'] = True\n",
    "rcParams['ytick.right'] = True\n",
    "rcParams['xtick.major.size'] = 10\n",
    "rcParams['ytick.major.size'] = 10\n",
    "rcParams['xtick.minor.size'] = 5\n",
    "rcParams['ytick.minor.size'] = 5\n",
    "rcParams['xtick.minor.visible'] = True\n",
    "rcParams['ytick.minor.visible'] = True"
   ]
  },
  {
   "cell_type": "code",
   "execution_count": 408,
   "id": "5718d4ea",
   "metadata": {},
   "outputs": [
    {
     "data": {
      "image/png": "[encoded data removed]",
      "text/plain": [
       "<Figure size 1200x800 with 1 Axes>"
      ]
     },
     "metadata": {},
     "output_type": "display_data"
    }
   ],
   "source": [
    "\n",
    "fig,ax=plt.subplots()\n",
    "sns.histplot(data=house_value_2017,fill=True,\n",
    "             kde=True,alpha=0.8,ax=ax)\n",
    "plt.show()"
   ]
  },
  {
   "cell_type": "code",
   "execution_count": 413,
   "id": "ef9d371a",
   "metadata": {},
   "outputs": [
    {
     "data": {
      "image/png": "[encoded data removed]",
      "text/plain": [
       "<Figure size 1200x800 with 1 Axes>"
      ]
     },
     "metadata": {},
     "output_type": "display_data"
    }
   ],
   "source": [
    "warnings.filterwarnings(\"ignore\")\n",
    "fig, ax=plt.subplots()\n",
    "sns.distplot(house_value_2017['Actual House Value'],\n",
    "             bins=30,kde_kws={\"color\": \"r\", \"lw\": 3, \"label\": '2017 Actual Value'}\n",
    "             ,rug=False, kde=True,fit=stats.norm, ax=ax)\n",
    "sns.distplot(house_value_2017['Random Forest Predicted House Value'], \n",
    "             bins=30,kde_kws={\"color\": \"b\", \"lw\": 3, \"label\": '2017 Predicted Value'},\n",
    "             fit=stats.norm, ax=ax)\n",
    "ax.legend()\n",
    "ax.set_xlabel('House Value')\n",
    "plt.show()"
   ]
  },
  {
   "cell_type": "code",
   "execution_count": 352,
   "id": "4f5cc041",
   "metadata": {},
   "outputs": [
    {
     "data": {
      "image/png": "[encoded data removed]",
      "text/plain": [
       "<Figure size 1200x4000 with 1 Axes>"
      ]
     },
     "metadata": {},
     "output_type": "display_data"
    }
   ],
   "source": [
    "#grouing it by city and plotting bar plot\n",
    "house=house_value_2017.reset_index()\n",
    "house=house.groupby('City').mean()\n",
    "\n",
    "#choosing only random 50 sample\n",
    "house_sample=house.sample(n=25)\n",
    "house_sample.plot(kind=\"barh\",width=.9,figsize=(15,50))\n",
    "plt.xlabel('House Value')\n",
    "plt.title(\"Actual and Predicted house value using our best model\")\n",
    "plt.show()"
   ]
  },
  {
   "cell_type": "code",
   "execution_count": 353,
   "id": "9525bf12",
   "metadata": {},
   "outputs": [
    {
     "data": {
      "image/png": "[encoded data removed]",
      "text/plain": [
       "<Figure size 1200x1200 with 1 Axes>"
      ]
     },
     "metadata": {},
     "output_type": "display_data"
    }
   ],
   "source": [
    "#predecting the 2017 best city house value\n",
    "house_best=house.loc[['Roseville', 'Sunnyvale', 'Fremont', 'San Mateo', 'Lancaster'],:]\n",
    "house_best.plot(kind=\"bar\",width=.9,figsize=(15,15))\n",
    "plt.ylabel('House Value')\n",
    "plt.title(\"Actual and Predicted house value of 2017 best city using our best model\")\n",
    "plt.show()"
   ]
  },
  {
   "cell_type": "markdown",
   "id": "cef494a4",
   "metadata": {},
   "source": [
    "## Conclusions"
   ]
  },
  {
   "cell_type": "markdown",
   "id": "ab7f964f",
   "metadata": {},
   "source": [
    "Our model suscefully predict the housing value of unseen data from 2017 Census with an prediction error of around $27,000"
   ]
  }
 ],
 "metadata": {
  "kernelspec": {
   "display_name": "Python 3 (ipykernel)",
   "language": "python",
   "name": "python3"
  },
  "language_info": {
   "codemirror_mode": {
    "name": "ipython",
    "version": 3
   },
   "file_extension": ".py",
   "mimetype": "text/x-python",
   "name": "python",
   "nbconvert_exporter": "python",
   "pygments_lexer": "ipython3",
   "version": "3.8.12"
  }
 },
 "nbformat": 4,
 "nbformat_minor": 5
}
