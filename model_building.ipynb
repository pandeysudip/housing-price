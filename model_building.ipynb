{
 "cells": [
  {
   "cell_type": "markdown",
   "id": "225e76dc",
   "metadata": {},
   "source": [
    "## Model Building and Predicting House Price of Unseen Data"
   ]
  },
  {
   "cell_type": "markdown",
   "id": "5306e4ca",
   "metadata": {},
   "source": [
    "#### Things to do\n",
    "- Choose relevent columns\n",
    "- Get dummy data if any categoral columns\n",
    "- Scale the columns using Standard Scaler\n",
    "- Do train test split\n",
    "- Multiple linear regression\n",
    "- Lasso regression\n",
    "- Decision Tree Regressor\n",
    "- Random forest Regressor\n",
    "- Tune hyperparameters  using Grid Search CV\n",
    "- Predict on test set\n",
    "- Predict on unseen data from different year"
   ]
  },
  {
   "cell_type": "code",
   "execution_count": 386,
   "id": "2a79bab1",
   "metadata": {},
   "outputs": [],
   "source": [
    "#importing models\n",
    "import pandas as pd\n",
    "import numpy as np\n",
    "import os\n",
    "import matplotlib.pyplot as plt\n",
    "import statsmodels.api as sm\n",
    "import seaborn as sns\n",
    "from scipy import stats\n",
    "import warnings\n",
    "from matplotlib import rcParams\n",
    "#importing sklearn models\n",
    "from sklearn.model_selection import train_test_split\n",
    "from sklearn.linear_model import LinearRegression\n",
    "from sklearn.model_selection import cross_val_score\n",
    "from sklearn.linear_model import Lasso\n",
    "from sklearn.linear_model import Ridge\n",
    "from sklearn.svm import LinearSVR\n",
    "from sklearn.ensemble import RandomForestRegressor\n",
    "from sklearn.tree import DecisionTreeRegressor\n",
    "from sklearn.model_selection import GridSearchCV\n",
    "from sklearn.metrics import mean_absolute_error\n",
    "from sklearn.metrics import mean_squared_error"
   ]
  },
  {
   "cell_type": "code",
   "execution_count": 185,
   "id": "3ec33896",
   "metadata": {},
   "outputs": [],
   "source": [
    "# 2019 usa cleaned data for machine learning\n",
    "path=os.path.join('output_census', 'usa_2019_ml1.csv')\n",
    "usa_2019=pd.read_csv(path)"
   ]
  },
  {
   "cell_type": "code",
   "execution_count": 186,
   "id": "2221b3c2",
   "metadata": {},
   "outputs": [],
   "source": [
    "usa_2019=usa_2019[[ 'City','House Value','Monthly Owner Cost','Per Capita Income',\n",
    "                   'Lng','Household Income','College Rate','Lat',\n",
    "                    'Personal Transport Rate','High School Rate','Median Age',\n",
    "                    'Public Transport Rate','Population']]"
   ]
  },
  {
   "cell_type": "code",
   "execution_count": 187,
   "id": "0134eda4",
   "metadata": {},
   "outputs": [],
   "source": [
    "#seting city as a index\n",
    "usa_2019.set_index('City', inplace=True)"
   ]
  },
  {
   "cell_type": "code",
   "execution_count": 188,
   "id": "efb1b5fc",
   "metadata": {},
   "outputs": [
    {
     "name": "stdout",
     "output_type": "stream",
     "text": [
      "Index(['Aguada', 'Aguadilla', 'Maricao', 'Anasco', 'Arecibo', 'Bajadero',\n",
      "       'Barceloneta', 'Boqueron', 'Cabo Rojo', 'Camuy',\n",
      "       ...\n",
      "       'Kake', 'Petersburg', 'Sitka', 'Skagway', 'Ketchikan', 'Thorne Bay',\n",
      "       'Craig', 'Klawock', 'Metlakatla', 'Wrangell'],\n",
      "      dtype='object', name='City', length=26222)\n",
      "Index(['House Value', 'Monthly Owner Cost', 'Per Capita Income', 'Lng',\n",
      "       'Household Income', 'College Rate', 'Lat', 'Personal Transport Rate',\n",
      "       'High School Rate', 'Median Age', 'Public Transport Rate',\n",
      "       'Population'],\n",
      "      dtype='object')\n"
     ]
    }
   ],
   "source": [
    "#index andcolumns of our data sets\n",
    "index=usa_2019.index\n",
    "columns=usa_2019.columns\n",
    "print(index)\n",
    "print(columns)"
   ]
  },
  {
   "cell_type": "markdown",
   "id": "4d55fe5c",
   "metadata": {},
   "source": [
    "#### Prepare a feature matrix (X) and response (y)  for scikit-learn."
   ]
  },
  {
   "cell_type": "code",
   "execution_count": 189,
   "id": "243eff92",
   "metadata": {},
   "outputs": [],
   "source": [
    "# create feature matrix (X)\n",
    "#selecting all columns except 'House Value'\n",
    "X=usa_2019.drop('House Value', axis=1) \n",
    "\n",
    "# create response vector (y)\n",
    "##selecting 'House Value'\n",
    "y=usa_2019['House Value'].values  "
   ]
  },
  {
   "cell_type": "code",
   "execution_count": null,
   "id": "70374963",
   "metadata": {},
   "outputs": [],
   "source": []
  },
  {
   "cell_type": "markdown",
   "id": "4733a266",
   "metadata": {},
   "source": [
    "#### Scaling using standard scaler on feature matrix (X) "
   ]
  },
  {
   "cell_type": "code",
   "execution_count": 190,
   "id": "d74fff8c",
   "metadata": {},
   "outputs": [],
   "source": [
    "#Different columns have differnt scale so standrazied it \n",
    "#features scaling using standard scaler on x only\n",
    "from sklearn.preprocessing import StandardScaler\n",
    "std_scaler=StandardScaler()\n",
    "scaled_X=std_scaler.fit_transform(X)"
   ]
  },
  {
   "cell_type": "code",
   "execution_count": 191,
   "id": "951e8003",
   "metadata": {},
   "outputs": [
    {
     "name": "stdout",
     "output_type": "stream",
     "text": [
      "(26222, 11)\n",
      "(26222,)\n"
     ]
    }
   ],
   "source": [
    "#shape of the X and y\n",
    "print(scaled_X.shape)\n",
    "print(y.shape)"
   ]
  },
  {
   "cell_type": "markdown",
   "id": "f3a38927",
   "metadata": {},
   "source": [
    "#### Splitting data in train and test set"
   ]
  },
  {
   "cell_type": "code",
   "execution_count": 192,
   "id": "134e6670",
   "metadata": {},
   "outputs": [],
   "source": [
    "#Training set**: Used to train the classifier.\n",
    "#Testing set**: Used to estimate the error rate of the trained classifier.\n",
    "#Also using train_index and test_index to get train and test data index \n",
    "X_train, X_test, y_train, y_test,train_index, test_index = train_test_split(\n",
    "                               scaled_X, y,index, test_size=0.2, random_state=42)"
   ]
  },
  {
   "cell_type": "code",
   "execution_count": 193,
   "id": "496fdc60",
   "metadata": {},
   "outputs": [
    {
     "name": "stdout",
     "output_type": "stream",
     "text": [
      "Shape of X_train=(20977, 11)\n",
      "Shape of X_test=(5245, 11)\n",
      "Shape of y_train=(20977,)\n",
      "Shape of X_test=(5245,)\n"
     ]
    }
   ],
   "source": [
    "print(f'Shape of X_train={X_train.shape}')\n",
    "print(f'Shape of X_test={X_test.shape}')\n",
    "print(f'Shape of y_train={y_train.shape}')\n",
    "print(f'Shape of X_test={y_test.shape}')"
   ]
  },
  {
   "cell_type": "markdown",
   "id": "35a58406",
   "metadata": {},
   "source": [
    "### Evaluation Metric"
   ]
  },
  {
   "cell_type": "markdown",
   "id": "66091f47",
   "metadata": {},
   "source": [
    "To evaluate a model, we also need an **evaluation metric:**\n",
    "\n",
    "- A numeric calculation used to **quantify** the performance of a model.\n",
    "- The appropriate metric depends on the **goals** of your problem.\n",
    "\n",
    "The most common choices for regression problems are:\n",
    "\n",
    "- **R-squared**: The percentage of variation explained by the model (a \"reward function,\" as higher is better).\n",
    "- **Mean squared error**: The average squared distance between the prediction and the correct answer (a \"loss function,\" as lower is better).\n",
    "- **Mean absolute error**: The average absolute distance between the prediction and the correct answer (a \"loss function,\" as lower is better).\n",
    "\n",
    "In this case, we'll use mean squared error, R2, and mean absolute error because it is more interpretable in a predictive context."
   ]
  },
  {
   "cell_type": "markdown",
   "id": "21ac545b",
   "metadata": {},
   "source": [
    "## Linear Regression"
   ]
  },
  {
   "cell_type": "code",
   "execution_count": 194,
   "id": "c89f143e",
   "metadata": {},
   "outputs": [
    {
     "data": {
      "text/plain": [
       "LinearRegression()"
      ]
     },
     "execution_count": 194,
     "metadata": {},
     "output_type": "execute_result"
    }
   ],
   "source": [
    "#using linear regression\n",
    "# Make a linear regression instance\n",
    "lr=LinearRegression()\n",
    "# Training the model on the data, storing the information learned from the data\n",
    "# Model is learning the relationship between X and y \n",
    "lr.fit(X_train, y_train)\n"
   ]
  },
  {
   "cell_type": "code",
   "execution_count": 195,
   "id": "0791484d",
   "metadata": {},
   "outputs": [
    {
     "name": "stdout",
     "output_type": "stream",
     "text": [
      "R2 Score of training set 0.8348136946474434\n",
      "R2 Score of testing  set  0.8384201779423417\n"
     ]
    }
   ],
   "source": [
    "#Printing the R2 score of test and train set\n",
    "print(f'R2 Score of training set {lr.score(X_train, y_train)}')\n",
    "print(f'R2 Score of testing  set  {lr.score(X_test, y_test)}')"
   ]
  },
  {
   "cell_type": "markdown",
   "id": "46dc9b44",
   "metadata": {},
   "source": [
    "#### Create a cross-valiation with five folds.\n",
    "-  Cross valiation allows the training set into distinct subsets called folds.\n",
    "- A model is trained using k-1 of the folds as training data"
   ]
  },
  {
   "cell_type": "code",
   "execution_count": 196,
   "id": "dcb6f854",
   "metadata": {},
   "outputs": [
    {
     "data": {
      "text/plain": [
       "array([-44911.89270734, -44921.806391  , -45232.50037804, -45601.30936043,\n",
       "       -45022.84434751])"
      ]
     },
     "execution_count": 196,
     "metadata": {},
     "output_type": "execute_result"
    }
   ],
   "source": [
    "cross_val_score(lr, X_train, y_train, scoring='neg_mean_absolute_error', cv=5)"
   ]
  },
  {
   "cell_type": "code",
   "execution_count": 197,
   "id": "098ae640",
   "metadata": {},
   "outputs": [
    {
     "name": "stdout",
     "output_type": "stream",
     "text": [
      "The R2 of Linear Regression is 0.8344038087752625\n",
      "The mean squared error of Linear Regression is 76566.0150072991\n",
      "The mean absolute error of Linear Regression is 45138.070636862445\n"
     ]
    }
   ],
   "source": [
    "lr_r2=np.mean(cross_val_score(lr, X_train, y_train, cv=5))\n",
    "print(f'The R2 of Linear Regression is {lr_r2}')\n",
    "\n",
    "#cross validation features gives greater is better, so score function is opposite of \n",
    "#MSE so we need to use -ve to get mse\n",
    "lr_mse=np.mean(cross_val_score(lr, X_train, y_train, cv=5, scoring='neg_mean_squared_error'))\n",
    "lr_rmse=np.sqrt(-(lr_mse))\n",
    "print(f'The mean squared error of Linear Regression is {lr_rmse}')\n",
    "\n",
    "#mean absolute error\n",
    "lr_mae=np.mean(cross_val_score(lr, X_train, y_train, cv=5, scoring='neg_mean_absolute_error'))\n",
    "lr_mae=(-(lr_mae))\n",
    "print(f'The mean absolute error of Linear Regression is {lr_mae}')"
   ]
  },
  {
   "cell_type": "markdown",
   "id": "0cf217e3",
   "metadata": {},
   "source": [
    "## Ridge Regression"
   ]
  },
  {
   "cell_type": "code",
   "execution_count": 198,
   "id": "fe9bc425",
   "metadata": {},
   "outputs": [
    {
     "data": {
      "text/plain": [
       "Ridge()"
      ]
     },
     "execution_count": 198,
     "metadata": {},
     "output_type": "execute_result"
    }
   ],
   "source": [
    "#using ridge regression(ridge make some features going to near zero)\n",
    "#alpha=0 no regularization( all features are used)\n",
    "# Make a ridge regression instance\n",
    "lr_r=Ridge()\n",
    "lr_r.fit(X_train, y_train)\n"
   ]
  },
  {
   "cell_type": "code",
   "execution_count": 199,
   "id": "1dc1e949",
   "metadata": {},
   "outputs": [
    {
     "name": "stdout",
     "output_type": "stream",
     "text": [
      "R2 Score of training set 0.8348136888557021\n",
      "R2 Score of testing set  0.8384208580371466\n"
     ]
    }
   ],
   "source": [
    "#Printing the R2 score of test and train set\n",
    "print(f'R2 Score of training set {lr_r.score(X_train, y_train)}')\n",
    "print(f'R2 Score of testing set  {lr_r.score(X_test, y_test)}')"
   ]
  },
  {
   "cell_type": "markdown",
   "id": "151ea56c",
   "metadata": {},
   "source": [
    "#### Create a cross-valiation with five folds."
   ]
  },
  {
   "cell_type": "code",
   "execution_count": 200,
   "id": "63e1c99b",
   "metadata": {},
   "outputs": [
    {
     "data": {
      "text/plain": [
       "array([-44685.20647238, -45133.74574876, -45614.98611938])"
      ]
     },
     "execution_count": 200,
     "metadata": {},
     "output_type": "execute_result"
    }
   ],
   "source": [
    "cross_val_score(lr_r, X_train, y_train, scoring='neg_mean_absolute_error', cv=3)"
   ]
  },
  {
   "cell_type": "code",
   "execution_count": 201,
   "id": "1331c633",
   "metadata": {},
   "outputs": [
    {
     "name": "stdout",
     "output_type": "stream",
     "text": [
      "The R2 of Ridge Regression is 0.8344040123718409\n",
      "The mean squared error of Ridge Regression is 79054.84186306574\n",
      "The mean absolute error of Ridge Regression is 45136.38681306372\n"
     ]
    }
   ],
   "source": [
    "lr_r_r2=np.mean(cross_val_score(lr_r, X_train, y_train, cv=5))\n",
    "print(f'The R2 of Ridge Regression is {lr_r_r2}')\n",
    "\n",
    "#cross validation features gives greater is better, so score function is opposite of \n",
    "#MSE so we need to use -ve to get mse\n",
    "lr_r_mse=np.mean(cross_val_score(lr_r, X_train, y_train, cv=5, scoring='neg_mean_squared_error'))\n",
    "lr_r_rmse=np.sqrt(-(lr_l_mse))\n",
    "print(f'The mean squared error of Ridge Regression is {lr_r_rmse}')\n",
    "\n",
    "#mean absolute error\n",
    "lr_r_mae=np.mean(cross_val_score(lr_r, X_train, y_train, cv=5, scoring='neg_mean_absolute_error'))\n",
    "lr_r_mae=(-(lr_r_mae))\n",
    "print(f'The mean absolute error of Ridge Regression is {lr_r_mae}')"
   ]
  },
  {
   "cell_type": "code",
   "execution_count": 202,
   "id": "fdd22085",
   "metadata": {},
   "outputs": [
    {
     "data": {
      "image/png": "[encoded data removed]",
      "text/plain": [
       "<Figure size 432x288 with 1 Axes>"
      ]
     },
     "metadata": {
      "needs_background": "light"
     },
     "output_type": "display_data"
    }
   ],
   "source": [
    "#choosing the best alpha\n",
    "alpha=[]\n",
    "error=[]\n",
    "for i in range(1,1000,50):\n",
    "    alpha.append(i/10)\n",
    "    lrr=Ridge(alpha=(i/10))\n",
    "    error.append(np.mean(cross_val_score(lrr, X_train, y_train, scoring='neg_mean_absolute_error',\n",
    "                                         cv=5)))\n",
    "plt.plot(alpha,error) \n",
    "plt.show()"
   ]
  },
  {
   "cell_type": "code",
   "execution_count": 203,
   "id": "bf5d1c91",
   "metadata": {},
   "outputs": [
    {
     "data": {
      "text/plain": [
       "Ridge(alpha=10)"
      ]
     },
     "execution_count": 203,
     "metadata": {},
     "output_type": "execute_result"
    }
   ],
   "source": [
    "#choosing the best alpha (look figure where alpha start to saturate)\n",
    "lrr=Ridge(alpha=10)\n",
    "lrr.fit(X_train, y_train)\n"
   ]
  },
  {
   "cell_type": "code",
   "execution_count": 204,
   "id": "09caec17",
   "metadata": {},
   "outputs": [
    {
     "name": "stdout",
     "output_type": "stream",
     "text": [
      "R2 Score of training set with alpha 40 0.8348131188967053\n",
      "R2 Score of testing set with alpha 40 0.8384264333703393\n"
     ]
    }
   ],
   "source": [
    "#Printing the R2 score of test and train set \n",
    "print(f'R2 Score of training set with alpha 40 {lrr.score(X_train, y_train)}')\n",
    "print(f'R2 Score of testing set with alpha 40 {lrr.score(X_test, y_test)}')"
   ]
  },
  {
   "cell_type": "markdown",
   "id": "2e431485",
   "metadata": {},
   "source": [
    "#### Create a cross-valiation with five folds."
   ]
  },
  {
   "cell_type": "code",
   "execution_count": 205,
   "id": "d5f9b22a",
   "metadata": {},
   "outputs": [
    {
     "data": {
      "text/plain": [
       "array([-44685.20647238, -45133.74574876, -45614.98611938])"
      ]
     },
     "execution_count": 205,
     "metadata": {},
     "output_type": "execute_result"
    }
   ],
   "source": [
    "cross_val_score(lr_r, X_train, y_train, scoring='neg_mean_absolute_error', cv=3)"
   ]
  },
  {
   "cell_type": "code",
   "execution_count": 206,
   "id": "82ce6f74",
   "metadata": {},
   "outputs": [
    {
     "name": "stdout",
     "output_type": "stream",
     "text": [
      "The R2 of Ridge Regression with alpha 10 is 0.8344050240098314\n",
      "The mean squared error of Ridge Regression with alpha 10 is 76565.98622638812\n",
      "The mean absolute error of Ridge Regression with alpha 10 is 45136.38681306372\n"
     ]
    }
   ],
   "source": [
    "lrr_r2=np.mean(cross_val_score(lrr, X_train, y_train, cv=5))\n",
    "print(f'The R2 of Ridge Regression with alpha 10 is {lrr_r2}')\n",
    "\n",
    "#cross validation features gives greater is better, so score function is opposite of \n",
    "#MSE so we need to use -ve to get mse\n",
    "lrr_mse=np.mean(cross_val_score(lr_r, X_train, y_train, cv=5, scoring='neg_mean_squared_error'))\n",
    "lrr_rmse=np.sqrt(-(lrr_mse))\n",
    "print(f'The mean squared error of Ridge Regression with alpha 10 is {lrr_rmse}')\n",
    "\n",
    "#mean absolute error\n",
    "lrr_mae=np.mean(cross_val_score(lr_r, X_train, y_train, cv=5, scoring='neg_mean_absolute_error'))\n",
    "lrr_mae=(-(lrr_mae))\n",
    "print(f'The mean absolute error of Ridge Regression with alpha 10 is {lrr_mae}')"
   ]
  },
  {
   "cell_type": "code",
   "execution_count": null,
   "id": "0879d8a8",
   "metadata": {},
   "outputs": [],
   "source": []
  },
  {
   "cell_type": "markdown",
   "id": "9e90ad86",
   "metadata": {},
   "source": [
    "## Laso Regression"
   ]
  },
  {
   "cell_type": "code",
   "execution_count": 207,
   "id": "4403aced",
   "metadata": {},
   "outputs": [
    {
     "data": {
      "text/plain": [
       "Lasso()"
      ]
     },
     "execution_count": 207,
     "metadata": {},
     "output_type": "execute_result"
    }
   ],
   "source": [
    "#using lassoregression(lasso make some features going to exactly zero)\n",
    "#alpha=0 no regularization( all features are used)\n",
    "# Make a lasso regression instance\n",
    "lr_l=Lasso()\n",
    "lr_l.fit(X_train, y_train)\n"
   ]
  },
  {
   "cell_type": "code",
   "execution_count": 208,
   "id": "158300a8",
   "metadata": {},
   "outputs": [
    {
     "name": "stdout",
     "output_type": "stream",
     "text": [
      "R2 Score of training set 0.8348136937793293\n",
      "R2 Score of testing set  0.8384200863671196\n"
     ]
    }
   ],
   "source": [
    "#Printing the R2 score of test and train set\n",
    "print(f'R2 Score of training set {lr_l.score(X_train, y_train)}')\n",
    "print(f'R2 Score of testing set  {lr_l.score(X_test, y_test)}')"
   ]
  },
  {
   "cell_type": "markdown",
   "id": "edab10e2",
   "metadata": {},
   "source": [
    "#### Create a cross-valiation with five folds."
   ]
  },
  {
   "cell_type": "code",
   "execution_count": 209,
   "id": "8ad4b083",
   "metadata": {},
   "outputs": [
    {
     "data": {
      "text/plain": [
       "array([-44687.15214434, -45135.10404306, -45616.02985106])"
      ]
     },
     "execution_count": 209,
     "metadata": {},
     "output_type": "execute_result"
    }
   ],
   "source": [
    "cross_val_score(lr_l, X_train, y_train, scoring='neg_mean_absolute_error', cv=3)"
   ]
  },
  {
   "cell_type": "code",
   "execution_count": 210,
   "id": "3955f88f",
   "metadata": {},
   "outputs": [
    {
     "name": "stdout",
     "output_type": "stream",
     "text": [
      "The R2 of Lasso Regression is 0.8344038234703028\n",
      "The mean squared error of Lasso Regression is 76566.0155244916\n",
      "The mean absolute error of Lasso Regression is 45137.45103759263\n"
     ]
    }
   ],
   "source": [
    "lr_l_r2=np.mean(cross_val_score(lr_l, X_train, y_train, cv=5))\n",
    "print(f'The R2 of Lasso Regression is {lr_l_r2}')\n",
    "\n",
    "#cross validation features gives greater is better, so score function is opposite of \n",
    "#MSE so we need to use -ve to get mse\n",
    "lr_l_mse=np.mean(cross_val_score(lr_l, X_train, y_train, cv=5, scoring='neg_mean_squared_error'))\n",
    "lr_l_rmse=np.sqrt(-(lr_l_mse))\n",
    "print(f'The mean squared error of Lasso Regression is {lr_l_rmse}')\n",
    "\n",
    "#mean absolute error\n",
    "lr_l_mae=np.mean(cross_val_score(lr_l, X_train, y_train, cv=5, scoring='neg_mean_absolute_error'))\n",
    "lr_l_mae=(-(lr_l_mae))\n",
    "print(f'The mean absolute error of Lasso Regression is {lr_l_mae}')"
   ]
  },
  {
   "cell_type": "code",
   "execution_count": 211,
   "id": "406aadeb",
   "metadata": {},
   "outputs": [
    {
     "data": {
      "image/png": "[encoded data removed]",
      "text/plain": [
       "<Figure size 432x288 with 1 Axes>"
      ]
     },
     "metadata": {
      "needs_background": "light"
     },
     "output_type": "display_data"
    }
   ],
   "source": [
    "#choosing the best alpha\n",
    "alpha=[]\n",
    "error=[]\n",
    "for i in range(1,100,10):\n",
    "    alpha.append(i/10)\n",
    "    lrl=Lasso(alpha=(i/10))\n",
    "    error.append(np.mean(cross_val_score(lrl, X_train, y_train, scoring='neg_mean_absolute_error',\n",
    "                                         cv=5)))\n",
    "plt.plot(alpha,error) \n",
    "plt.show()"
   ]
  },
  {
   "cell_type": "code",
   "execution_count": 212,
   "id": "863e8d01",
   "metadata": {},
   "outputs": [
    {
     "data": {
      "text/plain": [
       "Lasso(alpha=10)"
      ]
     },
     "execution_count": 212,
     "metadata": {},
     "output_type": "execute_result"
    }
   ],
   "source": [
    "#choosing the best alpha\n",
    "lrl=Lasso(alpha=10)\n",
    "lrl.fit(X_train, y_train)\n"
   ]
  },
  {
   "cell_type": "code",
   "execution_count": 213,
   "id": "5a78a9ec",
   "metadata": {},
   "outputs": [
    {
     "name": "stdout",
     "output_type": "stream",
     "text": [
      "R2 Score of training set with alpha 10 0.8348136046904666\n",
      "R2 Score of testing set with alpha 10 0.8384193251104615\n"
     ]
    }
   ],
   "source": [
    "#Printing the R2 score of test and train set \n",
    "print(f'R2 Score of training set with alpha 10 {lrl.score(X_train, y_train)}')\n",
    "print(f'R2 Score of testing set with alpha 10 {lrl.score(X_test, y_test)}')"
   ]
  },
  {
   "cell_type": "markdown",
   "id": "a65a178d",
   "metadata": {},
   "source": [
    "#### Create a cross-valiation with five folds."
   ]
  },
  {
   "cell_type": "code",
   "execution_count": 214,
   "id": "28a5cca4",
   "metadata": {},
   "outputs": [
    {
     "data": {
      "text/plain": [
       "array([-44687.15214434, -45135.10404306, -45616.02985106])"
      ]
     },
     "execution_count": 214,
     "metadata": {},
     "output_type": "execute_result"
    }
   ],
   "source": [
    "cross_val_score(lr_l, X_train, y_train, scoring='neg_mean_absolute_error', cv=3)"
   ]
  },
  {
   "cell_type": "code",
   "execution_count": 215,
   "id": "fa1a78e8",
   "metadata": {},
   "outputs": [
    {
     "name": "stdout",
     "output_type": "stream",
     "text": [
      "The R2 of Lasso Regression with alpha 10 is 0.8344038035794492\n",
      "The mean squared error of Lasso Regression with alpha 10 is 76566.0155244916\n",
      "The mean absolute error of Lasso Regressionwith alpha 10 is 45137.45103759263\n"
     ]
    }
   ],
   "source": [
    "lrl_r2=np.mean(cross_val_score(lrl, X_train, y_train, cv=5))\n",
    "print(f'The R2 of Lasso Regression with alpha 10 is {lrl_r2}')\n",
    "\n",
    "#cross validation features gives greater is better, so score function is opposite of \n",
    "#MSE so we need to use -ve to get mse\n",
    "lrl_mse=np.mean(cross_val_score(lr_l, X_train, y_train, cv=5, scoring='neg_mean_squared_error'))\n",
    "lrl_rmse=np.sqrt(-(lrl_mse))\n",
    "print(f'The mean squared error of Lasso Regression with alpha 10 is {lrl_rmse}')\n",
    "\n",
    "#mean absolute error\n",
    "lrl_mae=np.mean(cross_val_score(lr_l, X_train, y_train, cv=5, scoring='neg_mean_absolute_error'))\n",
    "lrl_mae=(-(lrl_mae))\n",
    "print(f'The mean absolute error of Lasso Regressionwith alpha 10 is {lrl_mae}')"
   ]
  },
  {
   "cell_type": "code",
   "execution_count": null,
   "id": "a95fd3f1",
   "metadata": {},
   "outputs": [],
   "source": []
  },
  {
   "cell_type": "markdown",
   "id": "a076cc6a",
   "metadata": {},
   "source": [
    "## Support Vector Machine(SVM) Regression"
   ]
  },
  {
   "cell_type": "code",
   "execution_count": 216,
   "id": "aec1a0eb",
   "metadata": {},
   "outputs": [
    {
     "data": {
      "text/plain": [
       "LinearSVR(epsilon=1.5)"
      ]
     },
     "execution_count": 216,
     "metadata": {},
     "output_type": "execute_result"
    }
   ],
   "source": [
    "# Make a svm regression instance\n",
    "svm=LinearSVR(epsilon=1.5)\n",
    "svm.fit(X_train, y_train)\n"
   ]
  },
  {
   "cell_type": "code",
   "execution_count": 217,
   "id": "cc80275a",
   "metadata": {},
   "outputs": [
    {
     "name": "stdout",
     "output_type": "stream",
     "text": [
      "R2 Score of training set -0.9955034068217965\n",
      "R2 Score of testing set  -0.9806359513953882\n"
     ]
    }
   ],
   "source": [
    "#Printing the R2 score of test and train set\n",
    "print(f'R2 Score of training set {svm.score(X_train, y_train)}')\n",
    "print(f'R2 Score of testing set  {svm.score(X_test, y_test)}')"
   ]
  },
  {
   "cell_type": "markdown",
   "id": "54cc053c",
   "metadata": {},
   "source": [
    "#### Create a cross-valiation with five folds."
   ]
  },
  {
   "cell_type": "code",
   "execution_count": 218,
   "id": "69be7a6a",
   "metadata": {},
   "outputs": [
    {
     "data": {
      "text/plain": [
       "array([-192921.14234183, -195208.7184979 , -194981.00176885])"
      ]
     },
     "execution_count": 218,
     "metadata": {},
     "output_type": "execute_result"
    }
   ],
   "source": [
    "cross_val_score(svm, X_train, y_train, scoring='neg_mean_absolute_error', cv=3)"
   ]
  },
  {
   "cell_type": "code",
   "execution_count": 219,
   "id": "a4bb0e6a",
   "metadata": {},
   "outputs": [
    {
     "name": "stdout",
     "output_type": "stream",
     "text": [
      "The R2 of svm Regression is -1.0411362918636868\n",
      "The mean squared error of svm Regression is 268680.19266335305\n",
      "The mean absolute error of svm Regression is 45136.38681306372\n"
     ]
    }
   ],
   "source": [
    "svm_r2=np.mean(cross_val_score(svm, X_train, y_train, cv=5))\n",
    "print(f'The R2 of svm Regression is {svm_r2}')\n",
    "\n",
    "#cross validation features gives greater is better, so score function is opposite of \n",
    "#MSE so we need to use -ve to get mse\n",
    "svm_mse=np.mean(cross_val_score(svm, X_train, y_train, cv=5, scoring='neg_mean_squared_error'))\n",
    "svm_rmse=np.sqrt(-(svm_mse))\n",
    "print(f'The mean squared error of svm Regression is {svm_rmse}')\n",
    "\n",
    "#mean absolute error\n",
    "svm_mae=np.mean(cross_val_score(svm, X_train, y_train, cv=5, scoring='neg_mean_absolute_error'))\n",
    "svm_mae=(-(svm_mae))\n",
    "print(f'The mean absolute error of svm Regression is {lr_r_mae}')"
   ]
  },
  {
   "cell_type": "code",
   "execution_count": null,
   "id": "1df7c0c1",
   "metadata": {},
   "outputs": [],
   "source": []
  },
  {
   "cell_type": "markdown",
   "id": "0df8edfa",
   "metadata": {},
   "source": [
    "## Decision Tree"
   ]
  },
  {
   "cell_type": "code",
   "execution_count": 220,
   "id": "e193ebe6",
   "metadata": {},
   "outputs": [
    {
     "data": {
      "text/plain": [
       "DecisionTreeRegressor()"
      ]
     },
     "execution_count": 220,
     "metadata": {},
     "output_type": "execute_result"
    }
   ],
   "source": [
    "# Make a decision tree instance\n",
    "dt=DecisionTreeRegressor()\n",
    "dt.fit(X_train, y_train)"
   ]
  },
  {
   "cell_type": "code",
   "execution_count": 221,
   "id": "8a18b32c",
   "metadata": {},
   "outputs": [
    {
     "name": "stdout",
     "output_type": "stream",
     "text": [
      "R2 Score of training set 1.0\n",
      "R2 Score of testing set  0.8643444188290956\n"
     ]
    }
   ],
   "source": [
    "#Printing the score of test and train set\n",
    "print(f'R2 Score of training set {dt.score(X_train, y_train)}')\n",
    "print(f'R2 Score of testing set  {dt.score(X_test, y_test)}')"
   ]
  },
  {
   "cell_type": "markdown",
   "id": "63a4dd8c",
   "metadata": {},
   "source": [
    "#### Create a cross-valiation with five folds."
   ]
  },
  {
   "cell_type": "code",
   "execution_count": 222,
   "id": "e87c2802",
   "metadata": {},
   "outputs": [
    {
     "data": {
      "text/plain": [
       "array([-37550.83840984, -37550.45952517, -39050.15918192])"
      ]
     },
     "execution_count": 222,
     "metadata": {},
     "output_type": "execute_result"
    }
   ],
   "source": [
    "cross_val_score(dt, X_train, y_train, scoring='neg_mean_absolute_error', cv=3)"
   ]
  },
  {
   "cell_type": "code",
   "execution_count": 223,
   "id": "80af6326",
   "metadata": {},
   "outputs": [
    {
     "name": "stdout",
     "output_type": "stream",
     "text": [
      "The R2 of Decision Tree Regressor is 0.8458400303167363\n",
      "The mean squared error of Decision Tree Regressor is 72757.52547316562\n",
      "The mean absolute error of Decision Tree Regressor is 38130.52580004113\n"
     ]
    }
   ],
   "source": [
    "dt_r2=np.mean(cross_val_score(dt, X_train, y_train, cv=5))\n",
    "print(f'The R2 of Decision Tree Regressor is {dt_r2}')\n",
    "\n",
    "#cross validation features gives greater is better, so score function is opposite of \n",
    "#MSE so we need to use -ve to get mse\n",
    "dt_mse=np.mean(cross_val_score(dt, X_train, y_train, cv=5, scoring='neg_mean_squared_error'))\n",
    "dt_rmse=np.sqrt(-(dt_mse))\n",
    "print(f'The mean squared error of Decision Tree Regressor is {dt_rmse}')\n",
    "\n",
    "#mean absolute error\n",
    "dt_mae=np.mean(cross_val_score(dt, X_train, y_train, cv=5, scoring='neg_mean_absolute_error'))\n",
    "dt_mae=(-(dt_mae))\n",
    "print(f'The mean absolute error of Decision Tree Regressor is {dt_mae}')"
   ]
  },
  {
   "cell_type": "markdown",
   "id": "d1837ce4",
   "metadata": {},
   "source": [
    "### Tuning hyperparamaters  using Grid Search CV"
   ]
  },
  {
   "cell_type": "code",
   "execution_count": 224,
   "id": "9e229c82",
   "metadata": {},
   "outputs": [
    {
     "name": "stdout",
     "output_type": "stream",
     "text": [
      "Fitting 3 folds for each of 12 candidates, totalling 36 fits\n"
     ]
    },
    {
     "data": {
      "text/plain": [
       "GridSearchCV(cv=3, estimator=DecisionTreeRegressor(), n_jobs=-1,\n",
       "             param_grid={'max_depth': [6, 8, 12],\n",
       "                         'min_samples_leaf': range(1, 5)},\n",
       "             verbose=1)"
      ]
     },
     "execution_count": 224,
     "metadata": {},
     "output_type": "execute_result"
    }
   ],
   "source": [
    "parameters = {\n",
    "              'max_depth':[6, 8,12],\n",
    "              'min_samples_leaf':range(1,5)}\n",
    "gs_dt=GridSearchCV(dt, param_grid=parameters, \n",
    "                    cv=3, verbose=1, n_jobs=-1)\n",
    "gs_dt.fit(X_train, y_train)"
   ]
  },
  {
   "cell_type": "code",
   "execution_count": 225,
   "id": "b0461efa",
   "metadata": {},
   "outputs": [
    {
     "data": {
      "text/plain": [
       "{'max_depth': 8, 'min_samples_leaf': 2}"
      ]
     },
     "execution_count": 225,
     "metadata": {},
     "output_type": "execute_result"
    }
   ],
   "source": [
    "#Best parameters\n",
    "gs_dt.best_params_"
   ]
  },
  {
   "cell_type": "code",
   "execution_count": 226,
   "id": "c2173b13",
   "metadata": {},
   "outputs": [
    {
     "data": {
      "text/plain": [
       "DecisionTreeRegressor(max_depth=8, min_samples_leaf=2)"
      ]
     },
     "execution_count": 226,
     "metadata": {},
     "output_type": "execute_result"
    }
   ],
   "source": [
    "#best estimator\n",
    "dt_b=gs_dt.best_estimator_\n",
    "dt_b"
   ]
  },
  {
   "cell_type": "code",
   "execution_count": 227,
   "id": "a5ef662a",
   "metadata": {},
   "outputs": [
    {
     "name": "stdout",
     "output_type": "stream",
     "text": [
      "R2 Score of training set after hyperpar tuining 0.9435113710433504\n",
      "R2 Score of testing set after hyperpar tuining  0.8871802071115592\n"
     ]
    }
   ],
   "source": [
    "#Printing the score of test and train set\n",
    "dt_tr=dt_b.score(X_train, y_train)\n",
    "dt_te=dt_b.score(X_test, y_test)\n",
    "print(f'R2 Score of training set after hyperpar tuining {dt_tr}')\n",
    "print(f'R2 Score of testing set after hyperpar tuining  {dt_te}')"
   ]
  },
  {
   "cell_type": "code",
   "execution_count": null,
   "id": "37ed9490",
   "metadata": {},
   "outputs": [],
   "source": []
  },
  {
   "cell_type": "markdown",
   "id": "3b4aa4df",
   "metadata": {},
   "source": [
    "## Random Forest"
   ]
  },
  {
   "cell_type": "code",
   "execution_count": 228,
   "id": "76be2368",
   "metadata": {},
   "outputs": [
    {
     "data": {
      "text/plain": [
       "RandomForestRegressor()"
      ]
     },
     "execution_count": 228,
     "metadata": {},
     "output_type": "execute_result"
    }
   ],
   "source": [
    "# Make a Random forest instance\n",
    "rf=RandomForestRegressor()\n",
    "rf.fit(X_train, y_train)"
   ]
  },
  {
   "cell_type": "code",
   "execution_count": 229,
   "id": "66245256",
   "metadata": {},
   "outputs": [
    {
     "name": "stdout",
     "output_type": "stream",
     "text": [
      "R2 Score of training set 0.9895890888899962\n",
      "R2 Score of testing set 0.9278046315385401\n"
     ]
    }
   ],
   "source": [
    "#Printing the score of test and train set\n",
    "print(f'R2 Score of training set {rf.score(X_train, y_train)}')\n",
    "print(f'R2 Score of testing set {rf.score(X_test, y_test)}')"
   ]
  },
  {
   "cell_type": "markdown",
   "id": "f7e9dc05",
   "metadata": {},
   "source": [
    "#### Create a cross-valiation with five folds."
   ]
  },
  {
   "cell_type": "code",
   "execution_count": 230,
   "id": "ad6a3451",
   "metadata": {},
   "outputs": [
    {
     "data": {
      "text/plain": [
       "array([-26966.87480909, -26803.01240704, -27272.55154462])"
      ]
     },
     "execution_count": 230,
     "metadata": {},
     "output_type": "execute_result"
    }
   ],
   "source": [
    "cross_val_score(rf, X_train, y_train, scoring='neg_mean_absolute_error', cv=3)"
   ]
  },
  {
   "cell_type": "code",
   "execution_count": 231,
   "id": "8c18539b",
   "metadata": {},
   "outputs": [
    {
     "name": "stdout",
     "output_type": "stream",
     "text": [
      "The R2 of Random Forest Regressor is 0.9227754272023171\n",
      "The mean squared error of Random Forest Regressor is 76566.0155244916\n",
      "The mean absolute error of Random Forest Regressor is 26835.862597588264\n"
     ]
    }
   ],
   "source": [
    "rf_r2=np.mean(cross_val_score(rf, X_train, y_train, cv=5))\n",
    "print(f'The R2 of Random Forest Regressor is {rf_r2}')\n",
    "\n",
    "#cross validation features gives greater is better, so score function is opposite of \n",
    "#MSE so we need to use -ve to get mse\n",
    "rf_mse=np.mean(cross_val_score(rf, X_train, y_train, cv=5, scoring='neg_mean_squared_error'))\n",
    "rf_rmse=np.sqrt(-(lrl_mse))\n",
    "print(f'The mean squared error of Random Forest Regressor is {rf_rmse}')\n",
    "\n",
    "#mean absolute error\n",
    "rf_mae=np.mean(cross_val_score(rf, X_train, y_train, cv=5, scoring='neg_mean_absolute_error'))\n",
    "rf_mae=(-(rf_mae))\n",
    "print(f'The mean absolute error of Random Forest Regressor is {rf_mae}')"
   ]
  },
  {
   "cell_type": "code",
   "execution_count": null,
   "id": "82f3d6f6",
   "metadata": {},
   "outputs": [],
   "source": []
  },
  {
   "cell_type": "markdown",
   "id": "ef23b473",
   "metadata": {},
   "source": [
    "#### Tuning the hyperparameters using Grid Search CV"
   ]
  },
  {
   "cell_type": "code",
   "execution_count": 252,
   "id": "ab9d9127",
   "metadata": {},
   "outputs": [
    {
     "data": {
      "text/plain": [
       "GridSearchCV(cv=5, estimator=RandomForestRegressor(),\n",
       "             param_grid=[{'max_features': [3, 6],\n",
       "                          'n_estimators': [30, 60, 100]}],\n",
       "             return_train_score=True, scoring='neg_mean_absolute_error')"
      ]
     },
     "execution_count": 252,
     "metadata": {},
     "output_type": "execute_result"
    }
   ],
   "source": [
    "parameters = [{'n_estimators':[30,60,100],\n",
    "              'max_features':[3,6]}]\n",
    "              #,{'bootstrap':[False], 'n_estimators':[3,10,100],\n",
    "              #'max_features':[4,6,8,10]}]\n",
    "gs_rf=GridSearchCV(rf, parameters, scoring='neg_mean_absolute_error',\n",
    "                   cv=5, return_train_score=True)\n",
    "gs_rf.fit(X_train, y_train)"
   ]
  },
  {
   "cell_type": "code",
   "execution_count": 253,
   "id": "3f5a0eab",
   "metadata": {},
   "outputs": [
    {
     "data": {
      "text/plain": [
       "{'max_features': 6, 'n_estimators': 100}"
      ]
     },
     "execution_count": 253,
     "metadata": {},
     "output_type": "execute_result"
    }
   ],
   "source": [
    "#Best parameters\n",
    "gs_rf.best_params_"
   ]
  },
  {
   "cell_type": "code",
   "execution_count": 254,
   "id": "d2b3037c",
   "metadata": {},
   "outputs": [
    {
     "data": {
      "text/plain": [
       "RandomForestRegressor(max_features=6)"
      ]
     },
     "execution_count": 254,
     "metadata": {},
     "output_type": "execute_result"
    }
   ],
   "source": [
    "#best estimator\n",
    "rf_b=gs_rf.best_estimator_\n",
    "rf_b"
   ]
  },
  {
   "cell_type": "code",
   "execution_count": 255,
   "id": "29694515",
   "metadata": {},
   "outputs": [
    {
     "name": "stdout",
     "output_type": "stream",
     "text": [
      "R2 Score of training set after hyperpar tuining 0.9898419759309446\n",
      "R2 Score of testing set after hyperpar tuining  0.9279054179105644\n"
     ]
    }
   ],
   "source": [
    "#Printing the score of test and train set\n",
    "rf_tr=rf_b.score(X_train, y_train)\n",
    "rf_te=rf_b.score(X_test, y_test)\n",
    "print(f'R2 Score of training set after hyperpar tuining {rf_tr}')\n",
    "print(f'R2 Score of testing set after hyperpar tuining  {rf_te}')"
   ]
  },
  {
   "cell_type": "code",
   "execution_count": 256,
   "id": "b879dc31",
   "metadata": {},
   "outputs": [
    {
     "name": "stdout",
     "output_type": "stream",
     "text": [
      "27834.66096788057 {'max_features': 3, 'n_estimators': 30}\n",
      "27333.30221929696 {'max_features': 3, 'n_estimators': 60}\n",
      "27188.57721914576 {'max_features': 3, 'n_estimators': 100}\n",
      "27069.32713562721 {'max_features': 6, 'n_estimators': 30}\n",
      "26836.926244556653 {'max_features': 6, 'n_estimators': 60}\n",
      "26661.99785934695 {'max_features': 6, 'n_estimators': 100}\n"
     ]
    }
   ],
   "source": [
    "#printing the evaluation scores\n",
    "cvres=gs_rf.cv_results_\n",
    "for mean_score, params in zip(cvres['mean_test_score'], cvres['params']):\n",
    "    print((-mean_score), params)"
   ]
  },
  {
   "cell_type": "markdown",
   "id": "d8ef9a55",
   "metadata": {},
   "source": [
    "### Important scores of each columns"
   ]
  },
  {
   "cell_type": "code",
   "execution_count": 257,
   "id": "933b15d0",
   "metadata": {},
   "outputs": [
    {
     "data": {
      "text/plain": [
       "[(0.5906623258021902, 'Monthly Owner Cost'),\n",
       " (0.1515640415109147, 'Per Capita Income'),\n",
       " (0.07885018158446899, 'Lng'),\n",
       " (0.06293240804799036, 'Household Income'),\n",
       " (0.0348711886089962, 'College Rate'),\n",
       " (0.018968908629669302, 'High School Rate'),\n",
       " (0.01690926399002532, 'Lat'),\n",
       " (0.015045609242558704, 'Personal Transport Rate'),\n",
       " (0.010811355342948739, 'Median Age'),\n",
       " (0.009711601549561568, 'Public Transport Rate'),\n",
       " (0.009673115690675846, 'Population')]"
      ]
     },
     "execution_count": 257,
     "metadata": {},
     "output_type": "execute_result"
    }
   ],
   "source": [
    "feature_importances=rf_b.feature_importances_\n",
    "col=X.columns\n",
    "sorted(zip(feature_importances, col), reverse=True)"
   ]
  },
  {
   "cell_type": "markdown",
   "id": "fff01653",
   "metadata": {},
   "source": [
    "## Predicting on Test set"
   ]
  },
  {
   "cell_type": "code",
   "execution_count": 258,
   "id": "0d5bfdbb",
   "metadata": {},
   "outputs": [],
   "source": [
    "#Testing the model in test data\n",
    "y_pred_lr=lr.predict(X_test)     #linear \n",
    "y_pred_lrl=lrl.predict(X_test)   #lasso\n",
    "y_pred_lrr=lrr.predict(X_test)   #Ridge\n",
    "y_pred_svm=svm.predict(X_test)   #svm\n",
    "y_pred_dt=dt_b.predict(X_test)   #Dicision tree\n",
    "y_pred_rf=rf_b.predict(X_test)   #Random forest"
   ]
  },
  {
   "cell_type": "markdown",
   "id": "20ccdd91",
   "metadata": {},
   "source": [
    "### Mean Absolute Error"
   ]
  },
  {
   "cell_type": "code",
   "execution_count": 259,
   "id": "2e685d63",
   "metadata": {},
   "outputs": [
    {
     "name": "stdout",
     "output_type": "stream",
     "text": [
      "The mean absoulte error of linear regression is 45391.5112780571\n",
      "The mean absoulte error of lasso regression is 45384.6166684727\n",
      "The mean absoulte error of Ridge regression is 45378.01510806348\n",
      "The mean absoulte error of SVM regression is 190494.75612435187\n",
      "The mean absoulte error of decision tree regression is 34290.56957689068\n",
      "The mean absoulte error of random forest regression is 26995.017286939947\n"
     ]
    }
   ],
   "source": [
    "#regression matrices-mean absolute error(give you the prediction error)\n",
    "lin_mae_lr=mean_absolute_error(y_test, y_pred_lr)\n",
    "print(f'The mean absoulte error of linear regression is {lin_mae_lr}')\n",
    "\n",
    "lin_mae_lrl=mean_absolute_error(y_test, y_pred_lrl)\n",
    "print(f'The mean absoulte error of lasso regression is {lin_mae_lrl}')\n",
    "\n",
    "lin_mae_lrr=mean_absolute_error(y_test, y_pred_lrr)\n",
    "print(f'The mean absoulte error of Ridge regression is {lin_mae_lrr}')\n",
    "\n",
    "lin_mae_svm=mean_absolute_error(y_test, y_pred_svm)\n",
    "print(f'The mean absoulte error of SVM regression is {lin_mae_svm}')\n",
    "\n",
    "lin_mae_dt=mean_absolute_error(y_test, y_pred_dt)\n",
    "print(f'The mean absoulte error of decision tree regression is {lin_mae_dt}')\n",
    "\n",
    "lin_mae_rf=mean_absolute_error(y_test, y_pred_rf)\n",
    "print(f'The mean absoulte error of random forest regression is {lin_mae_rf}')\n"
   ]
  },
  {
   "cell_type": "markdown",
   "id": "c23d1f18",
   "metadata": {},
   "source": [
    "### Root Mean Squared Error"
   ]
  },
  {
   "cell_type": "code",
   "execution_count": 260,
   "id": "1c627ea0",
   "metadata": {},
   "outputs": [
    {
     "name": "stdout",
     "output_type": "stream",
     "text": [
      "The mean squared error of linear regression is 77458.94583201356\n",
      "The mean squared error of lasso regression is 77459.15024915677\n",
      "The mean squared error of ridge regression is 77457.44643827128\n",
      "The mean squared error of SVM regression is 271194.1695851578\n",
      "The mean squared error of decision tree regression is 64724.79275358115\n",
      "The mean squared error of random forest regression is 51740.34661723576\n"
     ]
    }
   ],
   "source": [
    "#regression matrices-mean squared error(give you the prediction error)\n",
    "lin_mse_lr=mean_squared_error(y_test, y_pred_lr)\n",
    "lin_rmse_lr=np.sqrt(lin_mse_lr)\n",
    "print(f'The mean squared error of linear regression is {lin_rmse_lr}')\n",
    "\n",
    "lin_mse_lrl=mean_squared_error(y_test, y_pred_lrl)\n",
    "lin_rmse_lrl=np.sqrt(lin_mse_lrl)\n",
    "print(f'The mean squared error of lasso regression is {lin_rmse_lrl}')\n",
    "\n",
    "lin_mse_lrr=mean_squared_error(y_test, y_pred_lrr)\n",
    "lin_rmse_lrr=np.sqrt(lin_mse_lrr)\n",
    "print(f'The mean squared error of ridge regression is {lin_rmse_lrr}')\n",
    "\n",
    "lin_mse_svm=mean_squared_error(y_test, y_pred_svm)\n",
    "lin_rmse_svm=np.sqrt(lin_mse_svm)\n",
    "print(f'The mean squared error of SVM regression is {lin_rmse_svm}')\n",
    "\n",
    "lin_mse_dt=mean_squared_error(y_test, y_pred_dt)\n",
    "lin_rmse_dt=np.sqrt(lin_mse_dt)\n",
    "print(f'The mean squared error of decision tree regression is {lin_rmse_dt}')\n",
    "\n",
    "lin_mse_rf=mean_squared_error(y_test, y_pred_rf)\n",
    "lin_rmse_rf=np.sqrt(lin_mse_rf)\n",
    "print(f'The mean squared error of random forest regression is {lin_rmse_rf}')"
   ]
  },
  {
   "cell_type": "markdown",
   "id": "537d3971",
   "metadata": {},
   "source": [
    "### Actual and predicted house rate --best model( RandomForest Regressor)"
   ]
  },
  {
   "cell_type": "code",
   "execution_count": 261,
   "id": "18a56ec1",
   "metadata": {},
   "outputs": [
    {
     "data": {
      "text/html": [
       "<div>\n",
       "<style scoped>\n",
       "    .dataframe tbody tr th:only-of-type {\n",
       "        vertical-align: middle;\n",
       "    }\n",
       "\n",
       "    .dataframe tbody tr th {\n",
       "        vertical-align: top;\n",
       "    }\n",
       "\n",
       "    .dataframe thead th {\n",
       "        text-align: right;\n",
       "    }\n",
       "</style>\n",
       "<table border=\"1\" class=\"dataframe\">\n",
       "  <thead>\n",
       "    <tr style=\"text-align: right;\">\n",
       "      <th></th>\n",
       "      <th>Actual House Value</th>\n",
       "      <th>Random Forest Predicted House Value</th>\n",
       "      <th>Linear Reg Predicted House Value</th>\n",
       "      <th>Lasso Reg Predicted House Value</th>\n",
       "      <th>Ridge Reg Predicted House Value</th>\n",
       "      <th>Decesion Tree Predicted House Value</th>\n",
       "      <th>SVM Predicted House Value</th>\n",
       "    </tr>\n",
       "    <tr>\n",
       "      <th>City</th>\n",
       "      <th></th>\n",
       "      <th></th>\n",
       "      <th></th>\n",
       "      <th></th>\n",
       "      <th></th>\n",
       "      <th></th>\n",
       "      <th></th>\n",
       "    </tr>\n",
       "  </thead>\n",
       "  <tbody>\n",
       "    <tr>\n",
       "      <th>Bristol</th>\n",
       "      <td>179900.0</td>\n",
       "      <td>160204.0</td>\n",
       "      <td>126194.356363</td>\n",
       "      <td>126273.159845</td>\n",
       "      <td>126366.212912</td>\n",
       "      <td>158219.545455</td>\n",
       "      <td>20973.937137</td>\n",
       "    </tr>\n",
       "    <tr>\n",
       "      <th>Milford</th>\n",
       "      <td>230500.0</td>\n",
       "      <td>228049.0</td>\n",
       "      <td>244240.716792</td>\n",
       "      <td>244259.499574</td>\n",
       "      <td>244285.287559</td>\n",
       "      <td>252072.431078</td>\n",
       "      <td>20921.418743</td>\n",
       "    </tr>\n",
       "    <tr>\n",
       "      <th>Mukwonago</th>\n",
       "      <td>293900.0</td>\n",
       "      <td>268545.0</td>\n",
       "      <td>291680.687706</td>\n",
       "      <td>291732.855639</td>\n",
       "      <td>291782.752040</td>\n",
       "      <td>288200.000000</td>\n",
       "      <td>20869.607597</td>\n",
       "    </tr>\n",
       "    <tr>\n",
       "      <th>Purvis</th>\n",
       "      <td>157200.0</td>\n",
       "      <td>146429.0</td>\n",
       "      <td>139587.330258</td>\n",
       "      <td>139620.046996</td>\n",
       "      <td>139713.005427</td>\n",
       "      <td>140550.727449</td>\n",
       "      <td>20965.164363</td>\n",
       "    </tr>\n",
       "    <tr>\n",
       "      <th>Wilson</th>\n",
       "      <td>82100.0</td>\n",
       "      <td>75816.0</td>\n",
       "      <td>101869.162827</td>\n",
       "      <td>101890.825466</td>\n",
       "      <td>102003.980111</td>\n",
       "      <td>84646.820809</td>\n",
       "      <td>21315.360830</td>\n",
       "    </tr>\n",
       "    <tr>\n",
       "      <th>...</th>\n",
       "      <td>...</td>\n",
       "      <td>...</td>\n",
       "      <td>...</td>\n",
       "      <td>...</td>\n",
       "      <td>...</td>\n",
       "      <td>...</td>\n",
       "      <td>...</td>\n",
       "    </tr>\n",
       "    <tr>\n",
       "      <th>Hoodsport</th>\n",
       "      <td>174900.0</td>\n",
       "      <td>192189.0</td>\n",
       "      <td>221043.343631</td>\n",
       "      <td>220933.705584</td>\n",
       "      <td>220971.165486</td>\n",
       "      <td>154790.116279</td>\n",
       "      <td>21442.646907</td>\n",
       "    </tr>\n",
       "    <tr>\n",
       "      <th>Leicester</th>\n",
       "      <td>262000.0</td>\n",
       "      <td>231852.0</td>\n",
       "      <td>223904.421604</td>\n",
       "      <td>223960.539763</td>\n",
       "      <td>223928.399135</td>\n",
       "      <td>252072.431078</td>\n",
       "      <td>20914.482322</td>\n",
       "    </tr>\n",
       "    <tr>\n",
       "      <th>Whitewater</th>\n",
       "      <td>166400.0</td>\n",
       "      <td>148591.0</td>\n",
       "      <td>176584.679936</td>\n",
       "      <td>176642.876394</td>\n",
       "      <td>176503.506217</td>\n",
       "      <td>185289.811321</td>\n",
       "      <td>20980.709973</td>\n",
       "    </tr>\n",
       "    <tr>\n",
       "      <th>Taylor</th>\n",
       "      <td>164600.0</td>\n",
       "      <td>158873.0</td>\n",
       "      <td>173167.517293</td>\n",
       "      <td>173275.826709</td>\n",
       "      <td>173494.754618</td>\n",
       "      <td>158219.545455</td>\n",
       "      <td>20849.154449</td>\n",
       "    </tr>\n",
       "    <tr>\n",
       "      <th>Kincaid</th>\n",
       "      <td>112500.0</td>\n",
       "      <td>102547.0</td>\n",
       "      <td>156166.128427</td>\n",
       "      <td>156141.522366</td>\n",
       "      <td>156057.846980</td>\n",
       "      <td>108346.153846</td>\n",
       "      <td>21145.879346</td>\n",
       "    </tr>\n",
       "  </tbody>\n",
       "</table>\n",
       "<p>5245 rows × 7 columns</p>\n",
       "</div>"
      ],
      "text/plain": [
       "            Actual House Value  Random Forest Predicted House Value  \\\n",
       "City                                                                  \n",
       "Bristol               179900.0                             160204.0   \n",
       "Milford               230500.0                             228049.0   \n",
       "Mukwonago             293900.0                             268545.0   \n",
       "Purvis                157200.0                             146429.0   \n",
       "Wilson                 82100.0                              75816.0   \n",
       "...                        ...                                  ...   \n",
       "Hoodsport             174900.0                             192189.0   \n",
       "Leicester             262000.0                             231852.0   \n",
       "Whitewater            166400.0                             148591.0   \n",
       "Taylor                164600.0                             158873.0   \n",
       "Kincaid               112500.0                             102547.0   \n",
       "\n",
       "            Linear Reg Predicted House Value  Lasso Reg Predicted House Value  \\\n",
       "City                                                                            \n",
       "Bristol                        126194.356363                    126273.159845   \n",
       "Milford                        244240.716792                    244259.499574   \n",
       "Mukwonago                      291680.687706                    291732.855639   \n",
       "Purvis                         139587.330258                    139620.046996   \n",
       "Wilson                         101869.162827                    101890.825466   \n",
       "...                                      ...                              ...   \n",
       "Hoodsport                      221043.343631                    220933.705584   \n",
       "Leicester                      223904.421604                    223960.539763   \n",
       "Whitewater                     176584.679936                    176642.876394   \n",
       "Taylor                         173167.517293                    173275.826709   \n",
       "Kincaid                        156166.128427                    156141.522366   \n",
       "\n",
       "            Ridge Reg Predicted House Value  \\\n",
       "City                                          \n",
       "Bristol                       126366.212912   \n",
       "Milford                       244285.287559   \n",
       "Mukwonago                     291782.752040   \n",
       "Purvis                        139713.005427   \n",
       "Wilson                        102003.980111   \n",
       "...                                     ...   \n",
       "Hoodsport                     220971.165486   \n",
       "Leicester                     223928.399135   \n",
       "Whitewater                    176503.506217   \n",
       "Taylor                        173494.754618   \n",
       "Kincaid                       156057.846980   \n",
       "\n",
       "            Decesion Tree Predicted House Value  SVM Predicted House Value  \n",
       "City                                                                        \n",
       "Bristol                           158219.545455               20973.937137  \n",
       "Milford                           252072.431078               20921.418743  \n",
       "Mukwonago                         288200.000000               20869.607597  \n",
       "Purvis                            140550.727449               20965.164363  \n",
       "Wilson                             84646.820809               21315.360830  \n",
       "...                                         ...                        ...  \n",
       "Hoodsport                         154790.116279               21442.646907  \n",
       "Leicester                         252072.431078               20914.482322  \n",
       "Whitewater                        185289.811321               20980.709973  \n",
       "Taylor                            158219.545455               20849.154449  \n",
       "Kincaid                           108346.153846               21145.879346  \n",
       "\n",
       "[5245 rows x 7 columns]"
      ]
     },
     "execution_count": 261,
     "metadata": {},
     "output_type": "execute_result"
    }
   ],
   "source": [
    "#Actual and predicated value of house using our best model\n",
    "house_value=pd.DataFrame({'Actual House Value':y_test, \n",
    "                'Random Forest Predicted House Value':y_pred_rf,\n",
    "                'Linear Reg Predicted House Value':y_pred_lr,\n",
    "                'Lasso Reg Predicted House Value':y_pred_lrl,\n",
    "                'Ridge Reg Predicted House Value':y_pred_lrr,       \n",
    "                'Decesion Tree Predicted House Value':y_pred_dt,\n",
    "                 'SVM Predicted House Value':y_pred_svm},index=test_index)\n",
    "house_value"
   ]
  },
  {
   "cell_type": "markdown",
   "id": "2771cbb1",
   "metadata": {},
   "source": [
    "## Evaluation metrices of differnt models"
   ]
  },
  {
   "cell_type": "code",
   "execution_count": 262,
   "id": "1930507f",
   "metadata": {},
   "outputs": [
    {
     "data": {
      "text/html": [
       "<div>\n",
       "<style scoped>\n",
       "    .dataframe tbody tr th:only-of-type {\n",
       "        vertical-align: middle;\n",
       "    }\n",
       "\n",
       "    .dataframe tbody tr th {\n",
       "        vertical-align: top;\n",
       "    }\n",
       "\n",
       "    .dataframe thead th {\n",
       "        text-align: right;\n",
       "    }\n",
       "</style>\n",
       "<table border=\"1\" class=\"dataframe\">\n",
       "  <thead>\n",
       "    <tr style=\"text-align: right;\">\n",
       "      <th></th>\n",
       "      <th>Linear Reg</th>\n",
       "      <th>Lasso Reg</th>\n",
       "      <th>Ridge Reg</th>\n",
       "      <th>SVM Reg</th>\n",
       "      <th>Decision Tree</th>\n",
       "      <th>Random Forest</th>\n",
       "    </tr>\n",
       "  </thead>\n",
       "  <tbody>\n",
       "    <tr>\n",
       "      <th>R2</th>\n",
       "      <td>0.834404</td>\n",
       "      <td>0.834404</td>\n",
       "      <td>0.834405</td>\n",
       "      <td>-1.041136</td>\n",
       "      <td>0.943511</td>\n",
       "      <td>0.989842</td>\n",
       "    </tr>\n",
       "    <tr>\n",
       "      <th>Mean Absolute Error</th>\n",
       "      <td>45391.511278</td>\n",
       "      <td>45384.616668</td>\n",
       "      <td>45378.015108</td>\n",
       "      <td>190494.756124</td>\n",
       "      <td>34290.569577</td>\n",
       "      <td>26995.017287</td>\n",
       "    </tr>\n",
       "    <tr>\n",
       "      <th>Root Mean Squared Error</th>\n",
       "      <td>77458.945832</td>\n",
       "      <td>77459.150249</td>\n",
       "      <td>77457.446438</td>\n",
       "      <td>271194.169585</td>\n",
       "      <td>64724.792754</td>\n",
       "      <td>51740.346617</td>\n",
       "    </tr>\n",
       "  </tbody>\n",
       "</table>\n",
       "</div>"
      ],
      "text/plain": [
       "                           Linear Reg     Lasso Reg     Ridge Reg  \\\n",
       "R2                           0.834404      0.834404      0.834405   \n",
       "Mean Absolute Error      45391.511278  45384.616668  45378.015108   \n",
       "Root Mean Squared Error  77458.945832  77459.150249  77457.446438   \n",
       "\n",
       "                               SVM Reg  Decision Tree  Random Forest  \n",
       "R2                           -1.041136       0.943511       0.989842  \n",
       "Mean Absolute Error      190494.756124   34290.569577   26995.017287  \n",
       "Root Mean Squared Error  271194.169585   64724.792754   51740.346617  "
      ]
     },
     "execution_count": 262,
     "metadata": {},
     "output_type": "execute_result"
    }
   ],
   "source": [
    "evaluation_df=pd.DataFrame({'Linear Reg':[lr_r2,lin_mae_lr,lin_rmse_lr],\n",
    "                           'Lasso Reg':[lrl_r2,lin_mae_lrl,lin_rmse_lrl],\n",
    "                            'Ridge Reg':[lrr_r2,lin_mae_lrr,lin_rmse_lrr],\n",
    "                            'SVM Reg':[svm_r2,lin_mae_svm,lin_rmse_svm],\n",
    "                           'Decision Tree':[dt_tr,lin_mae_dt,lin_rmse_dt],\n",
    "                            'Random Forest':[rf_tr,lin_mae_rf,lin_rmse_rf]}\n",
    "                           ,index=['R2','Mean Absolute Error',\n",
    "                                    'Root Mean Squared Error'])\n",
    "evaluation_df"
   ]
  },
  {
   "cell_type": "code",
   "execution_count": null,
   "id": "a40e875e",
   "metadata": {},
   "outputs": [],
   "source": []
  },
  {
   "cell_type": "code",
   "execution_count": 384,
   "id": "734d5a48",
   "metadata": {},
   "outputs": [
    {
     "data": {
      "text/plain": [
       "array([181.12002899, 189.14722904])"
      ]
     },
     "execution_count": 384,
     "metadata": {},
     "output_type": "execute_result"
    }
   ],
   "source": [
    "\n",
    "confidence = 0.95\n",
    "squared_errors = np.abs((y_pred_dt - y_test)) \n",
    "np.sqrt(stats.t.interval(confidence, len(squared_errors) - 1,\n",
    "                         loc=squared_errors.mean(),\n",
    "                         scale=stats.sem(squared_errors)))"
   ]
  },
  {
   "cell_type": "markdown",
   "id": "4918627b",
   "metadata": {},
   "source": [
    "# Predecting the house value of 2017 census data from our best model- Random Forest"
   ]
  },
  {
   "cell_type": "code",
   "execution_count": 299,
   "id": "e7fac518",
   "metadata": {},
   "outputs": [],
   "source": [
    "# 2017 usa cleaned data for machine learning\n",
    "path_2017=os.path.join('output_census', 'usa_2017_ml.csv')\n",
    "usa_17=pd.read_csv(path_2017)"
   ]
  },
  {
   "cell_type": "code",
   "execution_count": 300,
   "id": "1322c740",
   "metadata": {},
   "outputs": [],
   "source": [
    "#choosing only important columns\n",
    "usa_2017=usa_17[[ 'City','House Value','Monthly Owner Cost','Per Capita Income','Lng',\n",
    " 'Household Income','College Rate','Lat',\n",
    "  'Personal Transport Rate','High School Rate','Median Age',\n",
    " 'Public Transport Rate','Population']]"
   ]
  },
  {
   "cell_type": "code",
   "execution_count": 301,
   "id": "d007e6bc",
   "metadata": {},
   "outputs": [],
   "source": [
    "#seting city as a index\n",
    "usa_2017.set_index('City', inplace=True)"
   ]
  },
  {
   "cell_type": "markdown",
   "id": "e7da89f2",
   "metadata": {},
   "source": [
    "#### Prepare a feature matrix (X) and response (y)  for scikit-learn."
   ]
  },
  {
   "cell_type": "code",
   "execution_count": 302,
   "id": "0ebf027c",
   "metadata": {},
   "outputs": [],
   "source": [
    "# create feature matrix (X)\n",
    "#selecting all columns except 'House Value'\n",
    "X_2017=usa_2017.drop('House Value', axis=1) \n",
    "\n",
    "# create response vector (y)\n",
    "##selecting 'House Value'\n",
    "y_2017=usa_2017['House Value'].values  "
   ]
  },
  {
   "cell_type": "code",
   "execution_count": null,
   "id": "f74dccf3",
   "metadata": {},
   "outputs": [],
   "source": []
  },
  {
   "cell_type": "markdown",
   "id": "69af2610",
   "metadata": {},
   "source": [
    "#### Scaling using standard scaler on feature matrix (X) "
   ]
  },
  {
   "cell_type": "code",
   "execution_count": 303,
   "id": "116d8ad5",
   "metadata": {},
   "outputs": [],
   "source": [
    "#Different columns have differnt scale so standrazied it \n",
    "#features scaling using standard scaler on x only\n",
    "from sklearn.preprocessing import StandardScaler\n",
    "std_scaler=StandardScaler()\n",
    "scaled_X_2017=std_scaler.fit_transform(X_2017)"
   ]
  },
  {
   "cell_type": "code",
   "execution_count": 304,
   "id": "f2708b06",
   "metadata": {},
   "outputs": [
    {
     "name": "stdout",
     "output_type": "stream",
     "text": [
      "(26457, 11)\n",
      "(26457,)\n"
     ]
    }
   ],
   "source": [
    "#shape of the X and y\n",
    "print(scaled_X_2017.shape)\n",
    "print(y_2017.shape)"
   ]
  },
  {
   "cell_type": "markdown",
   "id": "23ee7062",
   "metadata": {},
   "source": [
    "#### Predcting the house value using our best model Random Forest Regressor"
   ]
  },
  {
   "cell_type": "code",
   "execution_count": 305,
   "id": "28135dff",
   "metadata": {},
   "outputs": [],
   "source": [
    "y_pred=rf_b.predict(scaled_X_2017) "
   ]
  },
  {
   "cell_type": "code",
   "execution_count": 306,
   "id": "92a6c699",
   "metadata": {},
   "outputs": [
    {
     "name": "stdout",
     "output_type": "stream",
     "text": [
      "The mean absoulte error of our best model for 2017 census data is 27912.769831046604\n",
      "The mean squared error of our best model for 2017 census data is 46705.713099312314\n"
     ]
    }
   ],
   "source": [
    "#regression matrices-mean absolute error(give you the prediction error)\n",
    "mae=mean_absolute_error(y_2017, y_pred)\n",
    "print(f'The mean absoulte error of our best model for 2017 census data is {mae}')\n",
    "\n",
    "#regression matrices-mean squared error(give you the prediction error)\n",
    "mse=mean_squared_error(y_2017, y_pred)\n",
    "rmse=np.sqrt(mse)\n",
    "print(f'The mean squared error of our best model for 2017 census data is {rmse}')"
   ]
  },
  {
   "cell_type": "code",
   "execution_count": 308,
   "id": "0b60bade",
   "metadata": {},
   "outputs": [
    {
     "data": {
      "text/html": [
       "<div>\n",
       "<style scoped>\n",
       "    .dataframe tbody tr th:only-of-type {\n",
       "        vertical-align: middle;\n",
       "    }\n",
       "\n",
       "    .dataframe tbody tr th {\n",
       "        vertical-align: top;\n",
       "    }\n",
       "\n",
       "    .dataframe thead th {\n",
       "        text-align: right;\n",
       "    }\n",
       "</style>\n",
       "<table border=\"1\" class=\"dataframe\">\n",
       "  <thead>\n",
       "    <tr style=\"text-align: right;\">\n",
       "      <th></th>\n",
       "      <th>Actual House Value</th>\n",
       "      <th>Random Forest Predicted House Value</th>\n",
       "    </tr>\n",
       "    <tr>\n",
       "      <th>City</th>\n",
       "      <th></th>\n",
       "      <th></th>\n",
       "    </tr>\n",
       "  </thead>\n",
       "  <tbody>\n",
       "    <tr>\n",
       "      <th>Aguada</th>\n",
       "      <td>87300.0</td>\n",
       "      <td>94344.0</td>\n",
       "    </tr>\n",
       "    <tr>\n",
       "      <th>Aguadilla</th>\n",
       "      <td>122300.0</td>\n",
       "      <td>113254.0</td>\n",
       "    </tr>\n",
       "    <tr>\n",
       "      <th>Maricao</th>\n",
       "      <td>92700.0</td>\n",
       "      <td>83379.0</td>\n",
       "    </tr>\n",
       "    <tr>\n",
       "      <th>Anasco</th>\n",
       "      <td>90300.0</td>\n",
       "      <td>91833.0</td>\n",
       "    </tr>\n",
       "    <tr>\n",
       "      <th>Arecibo</th>\n",
       "      <td>97300.0</td>\n",
       "      <td>102184.0</td>\n",
       "    </tr>\n",
       "    <tr>\n",
       "      <th>...</th>\n",
       "      <td>...</td>\n",
       "      <td>...</td>\n",
       "    </tr>\n",
       "    <tr>\n",
       "      <th>Craig</th>\n",
       "      <td>225700.0</td>\n",
       "      <td>259284.0</td>\n",
       "    </tr>\n",
       "    <tr>\n",
       "      <th>Hydaburg</th>\n",
       "      <td>90700.0</td>\n",
       "      <td>89036.0</td>\n",
       "    </tr>\n",
       "    <tr>\n",
       "      <th>Klawock</th>\n",
       "      <td>160900.0</td>\n",
       "      <td>192595.0</td>\n",
       "    </tr>\n",
       "    <tr>\n",
       "      <th>Metlakatla</th>\n",
       "      <td>122600.0</td>\n",
       "      <td>190463.0</td>\n",
       "    </tr>\n",
       "    <tr>\n",
       "      <th>Wrangell</th>\n",
       "      <td>195900.0</td>\n",
       "      <td>219873.0</td>\n",
       "    </tr>\n",
       "  </tbody>\n",
       "</table>\n",
       "<p>26457 rows × 2 columns</p>\n",
       "</div>"
      ],
      "text/plain": [
       "            Actual House Value  Random Forest Predicted House Value\n",
       "City                                                               \n",
       "Aguada                 87300.0                              94344.0\n",
       "Aguadilla             122300.0                             113254.0\n",
       "Maricao                92700.0                              83379.0\n",
       "Anasco                 90300.0                              91833.0\n",
       "Arecibo                97300.0                             102184.0\n",
       "...                        ...                                  ...\n",
       "Craig                 225700.0                             259284.0\n",
       "Hydaburg               90700.0                              89036.0\n",
       "Klawock               160900.0                             192595.0\n",
       "Metlakatla            122600.0                             190463.0\n",
       "Wrangell              195900.0                             219873.0\n",
       "\n",
       "[26457 rows x 2 columns]"
      ]
     },
     "execution_count": 308,
     "metadata": {},
     "output_type": "execute_result"
    }
   ],
   "source": [
    "#Actual and predicated value of house using our best model\n",
    "house_value_2017=pd.DataFrame({'Actual House Value':y_2017, \n",
    "                'Random Forest Predicted House Value':y_pred},index=usa_2017.index)\n",
    "house_value_2017"
   ]
  },
  {
   "cell_type": "markdown",
   "id": "88133369",
   "metadata": {},
   "source": [
    "## Plotting predected and actual house value"
   ]
  },
  {
   "cell_type": "code",
   "execution_count": 350,
   "id": "0fb603a4",
   "metadata": {},
   "outputs": [],
   "source": [
    "#setting background of figure \n",
    "plt.style.use('ggplot')"
   ]
  },
  {
   "cell_type": "code",
   "execution_count": 351,
   "id": "3b12558d",
   "metadata": {},
   "outputs": [],
   "source": [
    "#Set Fonts/Plot Style\n",
    "rcParams['figure.figsize'] = [15.0, 10.0]\n",
    "rcParams['figure.dpi'] = 80\n",
    "rcParams['savefig.dpi'] = 100\n",
    "rcParams['font.size'] = 20\n",
    "rcParams['legend.fontsize'] = 'large'\n",
    "rcParams['figure.titlesize'] = 'medium'\n",
    "rcParams['font.family'] = 'sans-serif'\n",
    "rcParams['font.sans-serif'] = ['Arial']\n",
    "rcParams['xtick.direction'] = 'in'\n",
    "rcParams['ytick.direction'] = 'in'\n",
    "rcParams['xtick.top'] = True\n",
    "rcParams['ytick.right'] = True\n",
    "rcParams['xtick.major.size'] = 10\n",
    "rcParams['ytick.major.size'] = 10\n",
    "rcParams['xtick.minor.size'] = 5\n",
    "rcParams['ytick.minor.size'] = 5\n",
    "rcParams['xtick.minor.visible'] = True\n",
    "rcParams['ytick.minor.visible'] = True"
   ]
  },
  {
   "cell_type": "code",
   "execution_count": 382,
   "id": "5802d5a6",
   "metadata": {},
   "outputs": [
    {
     "data": {
      "image/png": "[encoded data removed]",
      "text/plain": [
       "<Figure size 1200x800 with 1 Axes>"
      ]
     },
     "metadata": {},
     "output_type": "display_data"
    }
   ],
   "source": [
    "\n",
    "fig,ax=plt.subplots()\n",
    "sns.histplot(data=house_value_2017,fill=True,\n",
    "             kde=True,alpha=0.8,ax=ax)\n",
    "plt.show()"
   ]
  },
  {
   "cell_type": "code",
   "execution_count": 389,
   "id": "46b3fbc2",
   "metadata": {},
   "outputs": [
    {
     "data": {
      "image/png": "[encoded data removed]",
      "text/plain": [
       "<Figure size 1200x800 with 1 Axes>"
      ]
     },
     "metadata": {},
     "output_type": "display_data"
    }
   ],
   "source": [
    "warnings.filterwarnings(\"ignore\")\n",
    "sns.distplot(house_value_2017['Actual House Value'], fit=stats.norm)\n",
    "sns.distplot(house_value_2017['Random Forest Predicted House Value'], \n",
    "             fit=stats.norm)\n",
    "plt.show()"
   ]
  },
  {
   "cell_type": "code",
   "execution_count": 352,
   "id": "38f4d0d5",
   "metadata": {},
   "outputs": [
    {
     "data": {
      "image/png": "[encoded data removed]",
      "text/plain": [
       "<Figure size 1200x4000 with 1 Axes>"
      ]
     },
     "metadata": {},
     "output_type": "display_data"
    }
   ],
   "source": [
    "#grouing it by city and plotting bar plot\n",
    "house=house_value_2017.reset_index()\n",
    "house=house.groupby('City').mean()\n",
    "\n",
    "#choosing only random 50 sample\n",
    "house_sample=house.sample(n=25)\n",
    "house_sample.plot(kind=\"barh\",width=.9,figsize=(15,50))\n",
    "plt.xlabel('House Value')\n",
    "plt.title(\"Actual and Predicted house value using our best model\")\n",
    "plt.show()"
   ]
  },
  {
   "cell_type": "code",
   "execution_count": 353,
   "id": "77bc0502",
   "metadata": {},
   "outputs": [
    {
     "data": {
      "image/png": "[encoded data removed]",
      "text/plain": [
       "<Figure size 1200x1200 with 1 Axes>"
      ]
     },
     "metadata": {},
     "output_type": "display_data"
    }
   ],
   "source": [
    "#predecting the 2017 best city house value\n",
    "house_best=house.loc[['Roseville', 'Sunnyvale', 'Fremont', 'San Mateo', 'Lancaster'],:]\n",
    "house_best.plot(kind=\"bar\",width=.9,figsize=(15,15))\n",
    "plt.ylabel('House Value')\n",
    "plt.title(\"Actual and Predicted house value of 2017 best city using our best model\")\n",
    "plt.show()"
   ]
  },
  {
   "cell_type": "markdown",
   "id": "fb3d6616",
   "metadata": {},
   "source": [
    "## Conclusions"
   ]
  },
  {
   "cell_type": "markdown",
   "id": "41871676",
   "metadata": {},
   "source": [
    "Our model suscefully predict the housing value of unseen data from 2017 Census with an prediction error of around $27,000"
   ]
  },
  {
   "cell_type": "code",
   "execution_count": null,
   "id": "14c8e45e",
   "metadata": {},
   "outputs": [],
   "source": [
    "\n"
   ]
  },
  {
   "cell_type": "code",
   "execution_count": null,
   "id": "54ef48d4",
   "metadata": {},
   "outputs": [],
   "source": []
  }
 ],
 "metadata": {
  "kernelspec": {
   "display_name": "Python 3 (ipykernel)",
   "language": "python",
   "name": "python3"
  },
  "language_info": {
   "codemirror_mode": {
    "name": "ipython",
    "version": 3
   },
   "file_extension": ".py",
   "mimetype": "text/x-python",
   "name": "python",
   "nbconvert_exporter": "python",
   "pygments_lexer": "ipython3",
   "version": "3.8.10"
  }
 },
 "nbformat": 4,
 "nbformat_minor": 5
}
