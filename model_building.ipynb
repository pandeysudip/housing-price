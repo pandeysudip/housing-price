{
 "cells": [
  {
   "cell_type": "code",
   "execution_count": 1,
   "id": "00a5b235",
   "metadata": {},
   "outputs": [],
   "source": [
    "import pandas as pd\n",
    "import numpy as np\n",
    "import os\n",
    "import matplotlib.pyplot as plt\n",
    "from sklearn.model_selection import train_test_split\n",
    "import statsmodels.api as sm\n",
    "from sklearn.linear_model import LinearRegression\n",
    "from sklearn.model_selection import cross_val_score\n",
    "from sklearn.linear_model import Lasso\n",
    "from sklearn.ensemble import RandomForestRegressor\n",
    "from sklearn.model_selection import GridSearchCV\n",
    "from sklearn.metrics import mean_absolute_error\n",
    "from sklearn.metrics import mean_squared_error"
   ]
  },
  {
   "cell_type": "code",
   "execution_count": 2,
   "id": "9f6bba00",
   "metadata": {},
   "outputs": [],
   "source": [
    "# 2019 cleaned data for machine learning\n",
    "path_2019=os.path.join('output_census', 'ca_2019_ml.csv')\n",
    "ca_2019=pd.read_csv(path_2019)"
   ]
  },
  {
   "cell_type": "code",
   "execution_count": 3,
   "id": "1f68780f",
   "metadata": {},
   "outputs": [],
   "source": [
    "#Things to do\n",
    "#choose relevent columns\n",
    "#get dummy data\n",
    "#train test split\n",
    "#multiple linear regression\n",
    "#lasso regression\n",
    "#random forest\n",
    "#tune model using gridsearch cv\n",
    "#test ensembles"
   ]
  },
  {
   "cell_type": "code",
   "execution_count": 4,
   "id": "2a00819c",
   "metadata": {},
   "outputs": [
    {
     "data": {
      "text/html": [
       "<div>\n",
       "<style scoped>\n",
       "    .dataframe tbody tr th:only-of-type {\n",
       "        vertical-align: middle;\n",
       "    }\n",
       "\n",
       "    .dataframe tbody tr th {\n",
       "        vertical-align: top;\n",
       "    }\n",
       "\n",
       "    .dataframe thead th {\n",
       "        text-align: right;\n",
       "    }\n",
       "</style>\n",
       "<table border=\"1\" class=\"dataframe\">\n",
       "  <thead>\n",
       "    <tr style=\"text-align: right;\">\n",
       "      <th></th>\n",
       "      <th>City</th>\n",
       "      <th>Population</th>\n",
       "      <th>House Value</th>\n",
       "      <th>Household Income</th>\n",
       "      <th>Poverty Rate</th>\n",
       "      <th>Unemployment Rate</th>\n",
       "      <th>Monthly Owner Cost</th>\n",
       "      <th>Monthly Rent</th>\n",
       "      <th>Public Transport Rate</th>\n",
       "      <th>Personal Transport Rate</th>\n",
       "      <th>College Rate</th>\n",
       "      <th>White Population Rate</th>\n",
       "      <th>Uneducated Rate</th>\n",
       "    </tr>\n",
       "  </thead>\n",
       "  <tbody>\n",
       "    <tr>\n",
       "      <th>0</th>\n",
       "      <td>Los Angeles</td>\n",
       "      <td>59832.0</td>\n",
       "      <td>359000.0</td>\n",
       "      <td>43360.0</td>\n",
       "      <td>25.496390</td>\n",
       "      <td>3.929335</td>\n",
       "      <td>1853.0</td>\n",
       "      <td>1150.0</td>\n",
       "      <td>11.425133</td>\n",
       "      <td>67.471780</td>\n",
       "      <td>2.744351</td>\n",
       "      <td>41.882270</td>\n",
       "      <td>3.546597</td>\n",
       "    </tr>\n",
       "    <tr>\n",
       "      <th>1</th>\n",
       "      <td>Los Angeles</td>\n",
       "      <td>53302.0</td>\n",
       "      <td>345900.0</td>\n",
       "      <td>37285.0</td>\n",
       "      <td>31.188323</td>\n",
       "      <td>4.110540</td>\n",
       "      <td>1813.0</td>\n",
       "      <td>1187.0</td>\n",
       "      <td>13.388805</td>\n",
       "      <td>68.219869</td>\n",
       "      <td>2.615286</td>\n",
       "      <td>42.973997</td>\n",
       "      <td>2.986755</td>\n",
       "    </tr>\n",
       "    <tr>\n",
       "      <th>2</th>\n",
       "      <td>Los Angeles</td>\n",
       "      <td>73730.0</td>\n",
       "      <td>362800.0</td>\n",
       "      <td>40598.0</td>\n",
       "      <td>29.959311</td>\n",
       "      <td>4.002441</td>\n",
       "      <td>1892.0</td>\n",
       "      <td>1212.0</td>\n",
       "      <td>12.446959</td>\n",
       "      <td>69.500121</td>\n",
       "      <td>2.513224</td>\n",
       "      <td>33.116777</td>\n",
       "      <td>3.754238</td>\n",
       "    </tr>\n",
       "    <tr>\n",
       "      <th>3</th>\n",
       "      <td>Los Angeles</td>\n",
       "      <td>60541.0</td>\n",
       "      <td>1063200.0</td>\n",
       "      <td>49675.0</td>\n",
       "      <td>17.784642</td>\n",
       "      <td>2.685783</td>\n",
       "      <td>3489.0</td>\n",
       "      <td>1307.0</td>\n",
       "      <td>18.395309</td>\n",
       "      <td>66.077288</td>\n",
       "      <td>18.390843</td>\n",
       "      <td>35.676649</td>\n",
       "      <td>2.175385</td>\n",
       "    </tr>\n",
       "    <tr>\n",
       "      <th>4</th>\n",
       "      <td>Los Angeles</td>\n",
       "      <td>39732.0</td>\n",
       "      <td>777100.0</td>\n",
       "      <td>38491.0</td>\n",
       "      <td>25.999195</td>\n",
       "      <td>3.289540</td>\n",
       "      <td>3149.0</td>\n",
       "      <td>1235.0</td>\n",
       "      <td>27.870066</td>\n",
       "      <td>52.237287</td>\n",
       "      <td>16.767341</td>\n",
       "      <td>23.336354</td>\n",
       "      <td>2.126749</td>\n",
       "    </tr>\n",
       "    <tr>\n",
       "      <th>...</th>\n",
       "      <td>...</td>\n",
       "      <td>...</td>\n",
       "      <td>...</td>\n",
       "      <td>...</td>\n",
       "      <td>...</td>\n",
       "      <td>...</td>\n",
       "      <td>...</td>\n",
       "      <td>...</td>\n",
       "      <td>...</td>\n",
       "      <td>...</td>\n",
       "      <td>...</td>\n",
       "      <td>...</td>\n",
       "      <td>...</td>\n",
       "    </tr>\n",
       "    <tr>\n",
       "      <th>1455</th>\n",
       "      <td>Tahoe City</td>\n",
       "      <td>2147.0</td>\n",
       "      <td>666300.0</td>\n",
       "      <td>73875.0</td>\n",
       "      <td>5.076851</td>\n",
       "      <td>0.000000</td>\n",
       "      <td>2419.0</td>\n",
       "      <td>1054.0</td>\n",
       "      <td>0.000000</td>\n",
       "      <td>75.699440</td>\n",
       "      <td>36.609222</td>\n",
       "      <td>96.413600</td>\n",
       "      <td>0.000000</td>\n",
       "    </tr>\n",
       "    <tr>\n",
       "      <th>1456</th>\n",
       "      <td>Olympic Valley</td>\n",
       "      <td>1145.0</td>\n",
       "      <td>911900.0</td>\n",
       "      <td>76851.0</td>\n",
       "      <td>3.930131</td>\n",
       "      <td>1.135371</td>\n",
       "      <td>2745.0</td>\n",
       "      <td>1492.0</td>\n",
       "      <td>2.197802</td>\n",
       "      <td>72.527473</td>\n",
       "      <td>28.034934</td>\n",
       "      <td>93.886463</td>\n",
       "      <td>0.000000</td>\n",
       "    </tr>\n",
       "    <tr>\n",
       "      <th>1457</th>\n",
       "      <td>Tahoe Vista</td>\n",
       "      <td>580.0</td>\n",
       "      <td>750000.0</td>\n",
       "      <td>73611.0</td>\n",
       "      <td>20.862069</td>\n",
       "      <td>0.000000</td>\n",
       "      <td>3375.0</td>\n",
       "      <td>1625.0</td>\n",
       "      <td>0.000000</td>\n",
       "      <td>97.763578</td>\n",
       "      <td>18.448276</td>\n",
       "      <td>100.000000</td>\n",
       "      <td>0.000000</td>\n",
       "    </tr>\n",
       "    <tr>\n",
       "      <th>1458</th>\n",
       "      <td>South Lake Tahoe</td>\n",
       "      <td>29327.0</td>\n",
       "      <td>442300.0</td>\n",
       "      <td>57396.0</td>\n",
       "      <td>10.815972</td>\n",
       "      <td>3.808777</td>\n",
       "      <td>1953.0</td>\n",
       "      <td>1049.0</td>\n",
       "      <td>2.833476</td>\n",
       "      <td>70.593649</td>\n",
       "      <td>15.050977</td>\n",
       "      <td>83.943124</td>\n",
       "      <td>0.692195</td>\n",
       "    </tr>\n",
       "    <tr>\n",
       "      <th>1459</th>\n",
       "      <td>Truckee</td>\n",
       "      <td>18488.0</td>\n",
       "      <td>604100.0</td>\n",
       "      <td>98924.0</td>\n",
       "      <td>8.464950</td>\n",
       "      <td>1.119645</td>\n",
       "      <td>2625.0</td>\n",
       "      <td>1735.0</td>\n",
       "      <td>0.621242</td>\n",
       "      <td>73.376754</td>\n",
       "      <td>25.562527</td>\n",
       "      <td>91.718953</td>\n",
       "      <td>0.281264</td>\n",
       "    </tr>\n",
       "  </tbody>\n",
       "</table>\n",
       "<p>1460 rows × 13 columns</p>\n",
       "</div>"
      ],
      "text/plain": [
       "                  City  Population  House Value  Household Income  \\\n",
       "0          Los Angeles     59832.0     359000.0           43360.0   \n",
       "1          Los Angeles     53302.0     345900.0           37285.0   \n",
       "2          Los Angeles     73730.0     362800.0           40598.0   \n",
       "3          Los Angeles     60541.0    1063200.0           49675.0   \n",
       "4          Los Angeles     39732.0     777100.0           38491.0   \n",
       "...                ...         ...          ...               ...   \n",
       "1455        Tahoe City      2147.0     666300.0           73875.0   \n",
       "1456    Olympic Valley      1145.0     911900.0           76851.0   \n",
       "1457       Tahoe Vista       580.0     750000.0           73611.0   \n",
       "1458  South Lake Tahoe     29327.0     442300.0           57396.0   \n",
       "1459           Truckee     18488.0     604100.0           98924.0   \n",
       "\n",
       "      Poverty Rate  Unemployment Rate  Monthly Owner Cost  Monthly Rent  \\\n",
       "0        25.496390           3.929335              1853.0        1150.0   \n",
       "1        31.188323           4.110540              1813.0        1187.0   \n",
       "2        29.959311           4.002441              1892.0        1212.0   \n",
       "3        17.784642           2.685783              3489.0        1307.0   \n",
       "4        25.999195           3.289540              3149.0        1235.0   \n",
       "...            ...                ...                 ...           ...   \n",
       "1455      5.076851           0.000000              2419.0        1054.0   \n",
       "1456      3.930131           1.135371              2745.0        1492.0   \n",
       "1457     20.862069           0.000000              3375.0        1625.0   \n",
       "1458     10.815972           3.808777              1953.0        1049.0   \n",
       "1459      8.464950           1.119645              2625.0        1735.0   \n",
       "\n",
       "      Public Transport Rate  Personal Transport Rate  College Rate  \\\n",
       "0                 11.425133                67.471780      2.744351   \n",
       "1                 13.388805                68.219869      2.615286   \n",
       "2                 12.446959                69.500121      2.513224   \n",
       "3                 18.395309                66.077288     18.390843   \n",
       "4                 27.870066                52.237287     16.767341   \n",
       "...                     ...                      ...           ...   \n",
       "1455               0.000000                75.699440     36.609222   \n",
       "1456               2.197802                72.527473     28.034934   \n",
       "1457               0.000000                97.763578     18.448276   \n",
       "1458               2.833476                70.593649     15.050977   \n",
       "1459               0.621242                73.376754     25.562527   \n",
       "\n",
       "      White Population Rate  Uneducated Rate  \n",
       "0                 41.882270         3.546597  \n",
       "1                 42.973997         2.986755  \n",
       "2                 33.116777         3.754238  \n",
       "3                 35.676649         2.175385  \n",
       "4                 23.336354         2.126749  \n",
       "...                     ...              ...  \n",
       "1455              96.413600         0.000000  \n",
       "1456              93.886463         0.000000  \n",
       "1457             100.000000         0.000000  \n",
       "1458              83.943124         0.692195  \n",
       "1459              91.718953         0.281264  \n",
       "\n",
       "[1460 rows x 13 columns]"
      ]
     },
     "execution_count": 4,
     "metadata": {},
     "output_type": "execute_result"
    }
   ],
   "source": [
    "ca_2019"
   ]
  },
  {
   "cell_type": "code",
   "execution_count": 5,
   "id": "021b490b",
   "metadata": {},
   "outputs": [
    {
     "data": {
      "text/plain": [
       "Index(['City', 'Population', 'House Value', 'Household Income', 'Poverty Rate',\n",
       "       'Unemployment Rate', 'Monthly Owner Cost', 'Monthly Rent',\n",
       "       'Public Transport Rate', 'Personal Transport Rate', 'College Rate',\n",
       "       'White Population Rate', 'Uneducated Rate'],\n",
       "      dtype='object')"
      ]
     },
     "execution_count": 5,
     "metadata": {},
     "output_type": "execute_result"
    }
   ],
   "source": [
    "ca_2019.columns"
   ]
  },
  {
   "cell_type": "code",
   "execution_count": 6,
   "id": "60774be3",
   "metadata": {},
   "outputs": [],
   "source": [
    "#seting city as a index\n",
    "ca_2019.set_index('City', inplace=True)"
   ]
  },
  {
   "cell_type": "code",
   "execution_count": 7,
   "id": "ae672833",
   "metadata": {},
   "outputs": [],
   "source": [
    "#dcreating features matrix and response vectors\n",
    "X=ca_2019.drop('House Value', axis=1) #selecting all columns except 'House Value'\n",
    "y=ca_2019['House Value'].values  ##selecting 'House Value'"
   ]
  },
  {
   "cell_type": "code",
   "execution_count": 8,
   "id": "84cdad04",
   "metadata": {},
   "outputs": [],
   "source": [
    "#features scaling using standard scaler\n",
    "from sklearn.preprocessing import StandardScaler\n",
    "std_scaler=StandardScaler()\n",
    "scaled_X=std_scaler.fit_transform(X)"
   ]
  },
  {
   "cell_type": "code",
   "execution_count": 9,
   "id": "6cd771f2",
   "metadata": {},
   "outputs": [
    {
     "data": {
      "text/plain": [
       "(1460, 11)"
      ]
     },
     "execution_count": 9,
     "metadata": {},
     "output_type": "execute_result"
    }
   ],
   "source": [
    "scaled_X.shape"
   ]
  },
  {
   "cell_type": "code",
   "execution_count": 10,
   "id": "9e12086c",
   "metadata": {},
   "outputs": [],
   "source": [
    "#splitting data in train and test\n",
    "X_train, X_test, y_train, y_test = train_test_split(\n",
    "                               scaled_X, y, test_size=0.2, random_state=42)"
   ]
  },
  {
   "cell_type": "markdown",
   "id": "0dd7e41a",
   "metadata": {},
   "source": [
    "## Linear Regression"
   ]
  },
  {
   "cell_type": "code",
   "execution_count": 11,
   "id": "99fdb08a",
   "metadata": {},
   "outputs": [
    {
     "data": {
      "text/plain": [
       "LinearRegression()"
      ]
     },
     "execution_count": 11,
     "metadata": {},
     "output_type": "execute_result"
    }
   ],
   "source": [
    "#using linear regression\n",
    "# Make a linear regression instance\n",
    "lr=LinearRegression()\n",
    "# Training the model on the data, storing the information learned from the data\n",
    "# Model is learning the relationship between X and y \n",
    "lr.fit(X_train, y_train)\n"
   ]
  },
  {
   "cell_type": "code",
   "execution_count": 12,
   "id": "35fb5dab",
   "metadata": {},
   "outputs": [
    {
     "name": "stdout",
     "output_type": "stream",
     "text": [
      "0.8607789185273351\n",
      "0.8241552523056297\n"
     ]
    }
   ],
   "source": [
    "print(lr.score(X_train, y_train))\n",
    "print(lr.score(X_test, y_test))"
   ]
  },
  {
   "cell_type": "code",
   "execution_count": 15,
   "id": "6b6186ac",
   "metadata": {},
   "outputs": [],
   "source": [
    "#test the model in test data\n",
    "y_pred=lr.predict(X_test)"
   ]
  },
  {
   "cell_type": "code",
   "execution_count": 16,
   "id": "a9a50638",
   "metadata": {},
   "outputs": [
    {
     "data": {
      "text/plain": [
       "166339.4899058907"
      ]
     },
     "execution_count": 16,
     "metadata": {},
     "output_type": "execute_result"
    }
   ],
   "source": [
    "#regression matrices-mean squared error(give you the prediction error)\n",
    "lin_mse=mean_squared_error(y_test, y_pred)\n",
    "lin_rmse=np.sqrt(lin_mse)\n",
    "lin_rmse"
   ]
  },
  {
   "cell_type": "code",
   "execution_count": 17,
   "id": "f5e42960",
   "metadata": {},
   "outputs": [
    {
     "data": {
      "text/plain": [
       "103315.59489383496"
      ]
     },
     "execution_count": 17,
     "metadata": {},
     "output_type": "execute_result"
    }
   ],
   "source": [
    "#regression matrices-mean absolute error(give you the prediction error)\n",
    "lin_mae=mean_absolute_error(y_test, y_pred)\n",
    "lin_mae"
   ]
  },
  {
   "cell_type": "code",
   "execution_count": 21,
   "id": "81d3bd33",
   "metadata": {},
   "outputs": [
    {
     "data": {
      "text/plain": [
       "array([-96770.77735665, -91440.28913294, -98186.66455641, -89568.07046732,\n",
       "       -85129.35208968])"
      ]
     },
     "execution_count": 21,
     "metadata": {},
     "output_type": "execute_result"
    }
   ],
   "source": [
    "cross_val_score(lr, X_train, y_train, scoring='neg_mean_absolute_error',cv=5)"
   ]
  },
  {
   "cell_type": "code",
   "execution_count": 20,
   "id": "7b7cb65c",
   "metadata": {},
   "outputs": [
    {
     "data": {
      "text/plain": [
       "array([156136.66693834, 141589.94105545, 156950.65420068, 142785.41910185,\n",
       "       125674.10919709])"
      ]
     },
     "execution_count": 20,
     "metadata": {},
     "output_type": "execute_result"
    }
   ],
   "source": [
    "score=cross_val_score(lr, X_train, y_train, scoring='neg_mean_squared_error',cv=5)\n",
    "rmse_score=np.sqrt(-score) \n",
    "rmse_score"
   ]
  },
  {
   "cell_type": "markdown",
   "id": "66bf005f",
   "metadata": {},
   "source": [
    "## Laso Regression"
   ]
  },
  {
   "cell_type": "code",
   "execution_count": null,
   "id": "12a33cb9",
   "metadata": {},
   "outputs": [],
   "source": []
  },
  {
   "cell_type": "code",
   "execution_count": 18,
   "id": "652bb704",
   "metadata": {},
   "outputs": [
    {
     "data": {
      "text/plain": [
       "Lasso()"
      ]
     },
     "execution_count": 18,
     "metadata": {},
     "output_type": "execute_result"
    }
   ],
   "source": [
    "#using lassoregression(lasso make some features exactly zero)\n",
    "#alpha=0 no regularization\n",
    "lr_l=Lasso()\n",
    "lr_l.fit(X_train, y_train)\n"
   ]
  },
  {
   "cell_type": "code",
   "execution_count": 22,
   "id": "6e369d6d",
   "metadata": {},
   "outputs": [
    {
     "data": {
      "text/plain": [
       "array([-95308.33155207, -93686.34282313, -85900.96676039])"
      ]
     },
     "execution_count": 22,
     "metadata": {},
     "output_type": "execute_result"
    }
   ],
   "source": [
    "cross_val_score(lr_l, X_train, y_train, scoring='neg_mean_absolute_error', cv=3)"
   ]
  },
  {
   "cell_type": "code",
   "execution_count": null,
   "id": "1703d648",
   "metadata": {},
   "outputs": [],
   "source": [
    "#choosing the best alpha\n",
    "alpha=[]\n",
    "error=[]\n",
    "for i in range(1,100):\n",
    "    alpha.append(i/10)\n",
    "    lrl=Lasso(alpha=(i/10))\n",
    "    error.append(np.mean(cross_val_score(lrl, X_train, y_train, scoring='neg_mean_absolute_error',\n",
    "                                         cv=3)))\n",
    "plt.plot(alpha,error) "
   ]
  },
  {
   "cell_type": "code",
   "execution_count": null,
   "id": "666214ce",
   "metadata": {},
   "outputs": [],
   "source": [
    "lrl=Lasso(alpha=10)\n",
    "lrl.fit(X_train, y_train)\n",
    "cross_val_score(lrl, X_train, y_train, scoring='neg_mean_absolute_error', cv=3)\n"
   ]
  },
  {
   "cell_type": "code",
   "execution_count": null,
   "id": "38dbca22",
   "metadata": {},
   "outputs": [],
   "source": []
  },
  {
   "cell_type": "markdown",
   "id": "ad4789a8",
   "metadata": {},
   "source": [
    "## Random Forest"
   ]
  },
  {
   "cell_type": "code",
   "execution_count": 23,
   "id": "2e0996ae",
   "metadata": {},
   "outputs": [
    {
     "data": {
      "text/plain": [
       "RandomForestRegressor()"
      ]
     },
     "execution_count": 23,
     "metadata": {},
     "output_type": "execute_result"
    }
   ],
   "source": [
    "rf=RandomForestRegressor()\n",
    "rf.fit(X_train, y_train)"
   ]
  },
  {
   "cell_type": "code",
   "execution_count": 24,
   "id": "68db39e2",
   "metadata": {},
   "outputs": [],
   "source": [
    "#test the model in test data\n",
    "y_pred=rf.predict(X_test)"
   ]
  },
  {
   "cell_type": "code",
   "execution_count": 25,
   "id": "2cb89841",
   "metadata": {},
   "outputs": [
    {
     "data": {
      "text/plain": [
       "166339.4899058907"
      ]
     },
     "execution_count": 25,
     "metadata": {},
     "output_type": "execute_result"
    }
   ],
   "source": [
    "#regression matrices-mean squared error(give you the prediction error)\n",
    "rf_mse=mean_squared_error(y_test, y_pred)\n",
    "rf_rmse=np.sqrt(lin_mse)\n",
    "rf_rmse"
   ]
  },
  {
   "cell_type": "code",
   "execution_count": null,
   "id": "111fe1ac",
   "metadata": {},
   "outputs": [],
   "source": []
  },
  {
   "cell_type": "code",
   "execution_count": 26,
   "id": "7e1c24ab",
   "metadata": {},
   "outputs": [
    {
     "data": {
      "text/plain": [
       "array([-83556.17502564, -78397.48524422, -69283.98789203])"
      ]
     },
     "execution_count": 26,
     "metadata": {},
     "output_type": "execute_result"
    }
   ],
   "source": [
    "cross_val_score(rf, X_train, y_train, scoring='neg_mean_absolute_error', cv=3)"
   ]
  },
  {
   "cell_type": "code",
   "execution_count": 27,
   "id": "c1a0eea4",
   "metadata": {},
   "outputs": [],
   "source": [
    "#tune model using gridsearch cv#"
   ]
  },
  {
   "cell_type": "code",
   "execution_count": null,
   "id": "04b7e9da",
   "metadata": {},
   "outputs": [],
   "source": [
    "parameters = {'n_estimators':range(10,300,10), 'criterion': ('mse','mae'), 'max_features':('auto', 'sqrt', 'log2')}\n",
    "gs=GridSearchCV(rf, parameters, scoring='neg_mean_absolute_error', cv=3)\n",
    "gs.fit(X_train, y_train)"
   ]
  }
 ],
 "metadata": {
  "kernelspec": {
   "display_name": "Python 3 (ipykernel)",
   "language": "python",
   "name": "python3"
  },
  "language_info": {
   "codemirror_mode": {
    "name": "ipython",
    "version": 3
   },
   "file_extension": ".py",
   "mimetype": "text/x-python",
   "name": "python",
   "nbconvert_exporter": "python",
   "pygments_lexer": "ipython3",
   "version": "3.8.10"
  }
 },
 "nbformat": 4,
 "nbformat_minor": 5
}
