{
 "cells": [
  {
   "cell_type": "markdown",
   "id": "f4babe87",
   "metadata": {},
   "source": [
    "## Model Building and Predicting House Price of Unseen Data"
   ]
  },
  {
   "cell_type": "markdown",
   "id": "a7160b51",
   "metadata": {},
   "source": [
    "#### Things to do\n",
    "- Choose relevent columns\n",
    "- Get dummy data if any categoral columns\n",
    "- Scale the columns using Standard Scaler\n",
    "- Do train test split\n",
    "- Multiple linear regression\n",
    "- Lasso regression\n",
    "- Decision Tree Regressor\n",
    "- Random forest Regressor\n",
    "- Tune hyperparameters  using Grid Search CV\n",
    "- Predict on test set\n",
    "- Predict on unseen data from different year"
   ]
  },
  {
   "cell_type": "code",
   "execution_count": 71,
   "id": "fb92d0a6",
   "metadata": {},
   "outputs": [],
   "source": [
    "#importing models\n",
    "import pandas as pd\n",
    "import numpy as np\n",
    "import os\n",
    "import matplotlib.pyplot as plt\n",
    "import statsmodels.api as sm\n",
    "\n",
    "#importing sklearn models\n",
    "from sklearn.model_selection import train_test_split\n",
    "from sklearn.linear_model import LinearRegression\n",
    "from sklearn.model_selection import cross_val_score\n",
    "from sklearn.linear_model import Lasso\n",
    "from sklearn.linear_model import Ridge\n",
    "from sklearn.svm import LinearSVR\n",
    "from sklearn.ensemble import RandomForestRegressor\n",
    "from sklearn.tree import DecisionTreeRegressor\n",
    "from sklearn.model_selection import GridSearchCV\n",
    "from sklearn.metrics import mean_absolute_error\n",
    "from sklearn.metrics import mean_squared_error"
   ]
  },
  {
   "cell_type": "code",
   "execution_count": 72,
   "id": "5c37019e",
   "metadata": {},
   "outputs": [],
   "source": [
    "# 2019 usa cleaned data for machine learning\n",
    "path=os.path.join('output_census', 'usa_2019_ml.csv')\n",
    "usa_2019=pd.read_csv(path)"
   ]
  },
  {
   "cell_type": "code",
   "execution_count": 73,
   "id": "00426088",
   "metadata": {},
   "outputs": [],
   "source": [
    "# 2019 californaia cleaned data for machine learning\n",
    "path_2019=os.path.join('output_census', 'ca_2019_ml.csv')\n",
    "ca_2019=pd.read_csv(path_2019)"
   ]
  },
  {
   "cell_type": "code",
   "execution_count": 74,
   "id": "2b516cb5",
   "metadata": {},
   "outputs": [],
   "source": [
    "#seting city as a index\n",
    "usa_2019.set_index('City', inplace=True)"
   ]
  },
  {
   "cell_type": "code",
   "execution_count": 75,
   "id": "1588048c",
   "metadata": {},
   "outputs": [
    {
     "name": "stdout",
     "output_type": "stream",
     "text": [
      "Index(['Aguada', 'Aguadilla', 'Maricao', 'Anasco', 'Arecibo', 'Bajadero',\n",
      "       'Barceloneta', 'Boqueron', 'Cabo Rojo', 'Camuy',\n",
      "       ...\n",
      "       'Petersburg', 'Sitka', 'Skagway', 'Ketchikan', 'Coffman Cove',\n",
      "       'Thorne Bay', 'Craig', 'Klawock', 'Metlakatla', 'Wrangell'],\n",
      "      dtype='object', name='City', length=28923)\n",
      "Index(['Population', 'Median Age', 'Household Income', 'Per Capita Income',\n",
      "       'Poverty Rate', 'Unemployment Rate', 'House Value',\n",
      "       'House Construction Year', 'Monthly Owner Cost', 'Monthly Rent',\n",
      "       'Public Transport Rate', 'Personal Transport Rate', 'High School Rate',\n",
      "       'College Rate', 'Uneducated Rate', 'White Population Rate',\n",
      "       'Black Population Rate', 'Hispanic Population Rate',\n",
      "       'Asian Population Rate', 'Lat', 'Lng', 'Housing_units'],\n",
      "      dtype='object')\n"
     ]
    }
   ],
   "source": [
    "#index andcolumns of our data sets\n",
    "index=usa_2019.index\n",
    "columns=usa_2019.columns\n",
    "print(index)\n",
    "print(columns)"
   ]
  },
  {
   "cell_type": "markdown",
   "id": "395669aa",
   "metadata": {},
   "source": [
    "#### Prepare a feature matrix (X) and response (y)  for scikit-learn."
   ]
  },
  {
   "cell_type": "code",
   "execution_count": 76,
   "id": "5a67d8da",
   "metadata": {},
   "outputs": [],
   "source": [
    "# create feature matrix (X)\n",
    "#selecting all columns except 'House Value'\n",
    "X=usa_2019.drop('House Value', axis=1) \n",
    "\n",
    "# create response vector (y)\n",
    "##selecting 'House Value'\n",
    "y=usa_2019['House Value'].values  "
   ]
  },
  {
   "cell_type": "code",
   "execution_count": null,
   "id": "ab4051e9",
   "metadata": {},
   "outputs": [],
   "source": []
  },
  {
   "cell_type": "markdown",
   "id": "79bbaada",
   "metadata": {},
   "source": [
    "#### Scaling using standard scaler on feature matrix (X) "
   ]
  },
  {
   "cell_type": "code",
   "execution_count": 77,
   "id": "f3b29ff0",
   "metadata": {},
   "outputs": [],
   "source": [
    "#Different columns have differnt scale so standrazied it \n",
    "#features scaling using standard scaler on x only\n",
    "from sklearn.preprocessing import StandardScaler\n",
    "std_scaler=StandardScaler()\n",
    "scaled_X=std_scaler.fit_transform(X)"
   ]
  },
  {
   "cell_type": "code",
   "execution_count": 78,
   "id": "be76ff64",
   "metadata": {},
   "outputs": [
    {
     "name": "stdout",
     "output_type": "stream",
     "text": [
      "(28923, 21)\n",
      "(28923,)\n"
     ]
    }
   ],
   "source": [
    "#shape of the X and y\n",
    "print(scaled_X.shape)\n",
    "print(y.shape)"
   ]
  },
  {
   "cell_type": "markdown",
   "id": "40f8e6bf",
   "metadata": {},
   "source": [
    "#### Splitting data in train and test set"
   ]
  },
  {
   "cell_type": "code",
   "execution_count": 79,
   "id": "1aee03ba",
   "metadata": {},
   "outputs": [],
   "source": [
    "#Training set**: Used to train the classifier.\n",
    "#Testing set**: Used to estimate the error rate of the trained classifier.\n",
    "#Also using train_index and test_index to get train and test data index \n",
    "X_train, X_test, y_train, y_test,train_index, test_index = train_test_split(\n",
    "                               scaled_X, y,index, test_size=0.2, random_state=42)"
   ]
  },
  {
   "cell_type": "code",
   "execution_count": 80,
   "id": "a1f377b1",
   "metadata": {},
   "outputs": [
    {
     "name": "stdout",
     "output_type": "stream",
     "text": [
      "Shape of X_train=(23138, 21)\n",
      "Shape of X_test=(5785, 21)\n",
      "Shape of y_train=(23138,)\n",
      "Shape of X_test=(5785,)\n"
     ]
    }
   ],
   "source": [
    "print(f'Shape of X_train={X_train.shape}')\n",
    "print(f'Shape of X_test={X_test.shape}')\n",
    "print(f'Shape of y_train={y_train.shape}')\n",
    "print(f'Shape of X_test={y_test.shape}')"
   ]
  },
  {
   "cell_type": "markdown",
   "id": "375eb1c6",
   "metadata": {},
   "source": [
    "### Evaluation Metric"
   ]
  },
  {
   "cell_type": "markdown",
   "id": "2251065f",
   "metadata": {},
   "source": [
    "To evaluate a model, we also need an **evaluation metric:**\n",
    "\n",
    "- A numeric calculation used to **quantify** the performance of a model.\n",
    "- The appropriate metric depends on the **goals** of your problem.\n",
    "\n",
    "The most common choices for regression problems are:\n",
    "\n",
    "- **R-squared**: The percentage of variation explained by the model (a \"reward function,\" as higher is better).\n",
    "- **Mean squared error**: The average squared distance between the prediction and the correct answer (a \"loss function,\" as lower is better).\n",
    "- **Mean absolute error**: The average absolute distance between the prediction and the correct answer (a \"loss function,\" as lower is better).\n",
    "\n",
    "In this case, we'll use mean squared error, R2, and mean absolute error because it is more interpretable in a predictive context."
   ]
  },
  {
   "cell_type": "markdown",
   "id": "dedc6803",
   "metadata": {},
   "source": [
    "## Linear Regression"
   ]
  },
  {
   "cell_type": "code",
   "execution_count": 81,
   "id": "83b0e2da",
   "metadata": {},
   "outputs": [
    {
     "data": {
      "text/plain": [
       "LinearRegression()"
      ]
     },
     "execution_count": 81,
     "metadata": {},
     "output_type": "execute_result"
    }
   ],
   "source": [
    "#using linear regression\n",
    "# Make a linear regression instance\n",
    "lr=LinearRegression()\n",
    "# Training the model on the data, storing the information learned from the data\n",
    "# Model is learning the relationship between X and y \n",
    "lr.fit(X_train, y_train)\n"
   ]
  },
  {
   "cell_type": "code",
   "execution_count": 82,
   "id": "fa2b469f",
   "metadata": {},
   "outputs": [
    {
     "name": "stdout",
     "output_type": "stream",
     "text": [
      "R2 Score of training set 0.8269108317298279\n",
      "R2 Score of testing  set  0.8277328292584601\n"
     ]
    }
   ],
   "source": [
    "#Printing the R2 score of test and train set\n",
    "print(f'R2 Score of training set {lr.score(X_train, y_train)}')\n",
    "print(f'R2 Score of testing  set  {lr.score(X_test, y_test)}')"
   ]
  },
  {
   "cell_type": "markdown",
   "id": "aa5870ca",
   "metadata": {},
   "source": [
    "#### Create a cross-valiation with five folds.\n",
    "-  Cross valiation allows the training set into distinct subsets called folds.\n",
    "- A model is trained using k-1 of the folds as training data"
   ]
  },
  {
   "cell_type": "code",
   "execution_count": 83,
   "id": "800a7fa0",
   "metadata": {},
   "outputs": [
    {
     "data": {
      "text/plain": [
       "array([-44398.8593719 , -46402.80343305, -44970.77332867, -47023.73831981,\n",
       "       -46103.05222781])"
      ]
     },
     "execution_count": 83,
     "metadata": {},
     "output_type": "execute_result"
    }
   ],
   "source": [
    "cross_val_score(lr, X_train, y_train, scoring='neg_mean_absolute_error', cv=5)"
   ]
  },
  {
   "cell_type": "code",
   "execution_count": 84,
   "id": "32b37967",
   "metadata": {},
   "outputs": [
    {
     "name": "stdout",
     "output_type": "stream",
     "text": [
      "The R2 of Linear Regression is 0.8263313386424184\n",
      "The mean squared error of Linear Regression is 79054.87792548873\n",
      "The mean absolute error of Linear Regression is 45779.84533624794\n"
     ]
    }
   ],
   "source": [
    "lr_r2=np.mean(cross_val_score(lr, X_train, y_train, cv=5))\n",
    "print(f'The R2 of Linear Regression is {lr_r2}')\n",
    "\n",
    "#cross validation features gives greater is better, so score function is opposite of \n",
    "#MSE so we need to use -ve to get mse\n",
    "lr_mse=np.mean(cross_val_score(lr, X_train, y_train, cv=5, scoring='neg_mean_squared_error'))\n",
    "lr_rmse=np.sqrt(-(lr_mse))\n",
    "print(f'The mean squared error of Linear Regression is {lr_rmse}')\n",
    "\n",
    "#mean absolute error\n",
    "lr_mae=np.mean(cross_val_score(lr, X_train, y_train, cv=5, scoring='neg_mean_absolute_error'))\n",
    "lr_mae=(-(lr_mae))\n",
    "print(f'The mean absolute error of Linear Regression is {lr_mae}')"
   ]
  },
  {
   "cell_type": "markdown",
   "id": "82595d62",
   "metadata": {},
   "source": [
    "## Ridge Regression"
   ]
  },
  {
   "cell_type": "code",
   "execution_count": 85,
   "id": "601f1ed2",
   "metadata": {},
   "outputs": [
    {
     "data": {
      "text/plain": [
       "Ridge()"
      ]
     },
     "execution_count": 85,
     "metadata": {},
     "output_type": "execute_result"
    }
   ],
   "source": [
    "#using ridge regression(ridge make some features going to near zero)\n",
    "#alpha=0 no regularization( all features are used)\n",
    "# Make a ridge regression instance\n",
    "lr_r=Ridge()\n",
    "lr_r.fit(X_train, y_train)\n"
   ]
  },
  {
   "cell_type": "code",
   "execution_count": 86,
   "id": "d499cbf7",
   "metadata": {},
   "outputs": [
    {
     "name": "stdout",
     "output_type": "stream",
     "text": [
      "R2 Score of training set 0.8269108278573021\n",
      "R2 Score of testing set  0.827735477205005\n"
     ]
    }
   ],
   "source": [
    "#Printing the R2 score of test and train set\n",
    "print(f'R2 Score of training set {lr_r.score(X_train, y_train)}')\n",
    "print(f'R2 Score of testing set  {lr_r.score(X_test, y_test)}')"
   ]
  },
  {
   "cell_type": "markdown",
   "id": "b2e25cec",
   "metadata": {},
   "source": [
    "#### Create a cross-valiation with five folds."
   ]
  },
  {
   "cell_type": "code",
   "execution_count": 87,
   "id": "9d53b3a4",
   "metadata": {},
   "outputs": [
    {
     "data": {
      "text/plain": [
       "array([-45049.1509207 , -45644.81619081, -46601.97327067])"
      ]
     },
     "execution_count": 87,
     "metadata": {},
     "output_type": "execute_result"
    }
   ],
   "source": [
    "cross_val_score(lr_r, X_train, y_train, scoring='neg_mean_absolute_error', cv=3)"
   ]
  },
  {
   "cell_type": "code",
   "execution_count": 88,
   "id": "05b1c448",
   "metadata": {},
   "outputs": [
    {
     "name": "stdout",
     "output_type": "stream",
     "text": [
      "The R2 of Ridge Regression is 0.8263315798122063\n",
      "The mean squared error of Ridge Regression is 79054.84186306574\n",
      "The mean absolute error of Ridge Regression is 45778.26511539573\n"
     ]
    }
   ],
   "source": [
    "lr_r_r2=np.mean(cross_val_score(lr_r, X_train, y_train, cv=5))\n",
    "print(f'The R2 of Ridge Regression is {lr_r_r2}')\n",
    "\n",
    "#cross validation features gives greater is better, so score function is opposite of \n",
    "#MSE so we need to use -ve to get mse\n",
    "lr_r_mse=np.mean(cross_val_score(lr_r, X_train, y_train, cv=5, scoring='neg_mean_squared_error'))\n",
    "lr_r_rmse=np.sqrt(-(lr_l_mse))\n",
    "print(f'The mean squared error of Ridge Regression is {lr_r_rmse}')\n",
    "\n",
    "#mean absolute error\n",
    "lr_r_mae=np.mean(cross_val_score(lr_r, X_train, y_train, cv=5, scoring='neg_mean_absolute_error'))\n",
    "lr_r_mae=(-(lr_r_mae))\n",
    "print(f'The mean absolute error of Ridge Regression is {lr_r_mae}')"
   ]
  },
  {
   "cell_type": "code",
   "execution_count": 89,
   "id": "046c4d08",
   "metadata": {},
   "outputs": [
    {
     "data": {
      "image/png": "[encoded data removed]",
      "text/plain": [
       "<Figure size 432x288 with 1 Axes>"
      ]
     },
     "metadata": {
      "needs_background": "light"
     },
     "output_type": "display_data"
    }
   ],
   "source": [
    "#choosing the best alpha\n",
    "alpha=[]\n",
    "error=[]\n",
    "for i in range(1,1000,50):\n",
    "    alpha.append(i/10)\n",
    "    lrr=Ridge(alpha=(i/10))\n",
    "    error.append(np.mean(cross_val_score(lrr, X_train, y_train, scoring='neg_mean_absolute_error',\n",
    "                                         cv=5)))\n",
    "plt.plot(alpha,error) \n",
    "plt.show()"
   ]
  },
  {
   "cell_type": "code",
   "execution_count": 90,
   "id": "bed88aa0",
   "metadata": {},
   "outputs": [
    {
     "data": {
      "text/plain": [
       "Ridge(alpha=10)"
      ]
     },
     "execution_count": 90,
     "metadata": {},
     "output_type": "execute_result"
    }
   ],
   "source": [
    "#choosing the best alpha (look figure where alpha start to saturate)\n",
    "lrr=Ridge(alpha=10)\n",
    "lrr.fit(X_train, y_train)\n"
   ]
  },
  {
   "cell_type": "code",
   "execution_count": 91,
   "id": "16cce821",
   "metadata": {},
   "outputs": [
    {
     "name": "stdout",
     "output_type": "stream",
     "text": [
      "R2 Score of training set with alpha 40 0.8269104463545485\n",
      "R2 Score of testing set with alpha 40 0.8277588655292123\n"
     ]
    }
   ],
   "source": [
    "#Printing the R2 score of test and train set \n",
    "print(f'R2 Score of training set with alpha 40 {lrr.score(X_train, y_train)}')\n",
    "print(f'R2 Score of testing set with alpha 40 {lrr.score(X_test, y_test)}')"
   ]
  },
  {
   "cell_type": "markdown",
   "id": "b834b540",
   "metadata": {},
   "source": [
    "#### Create a cross-valiation with five folds."
   ]
  },
  {
   "cell_type": "code",
   "execution_count": 92,
   "id": "97c31643",
   "metadata": {},
   "outputs": [
    {
     "data": {
      "text/plain": [
       "array([-45049.1509207 , -45644.81619081, -46601.97327067])"
      ]
     },
     "execution_count": 92,
     "metadata": {},
     "output_type": "execute_result"
    }
   ],
   "source": [
    "cross_val_score(lr_r, X_train, y_train, scoring='neg_mean_absolute_error', cv=3)"
   ]
  },
  {
   "cell_type": "code",
   "execution_count": 93,
   "id": "5c8d0ce2",
   "metadata": {},
   "outputs": [
    {
     "name": "stdout",
     "output_type": "stream",
     "text": [
      "The R2 of Ridge Regression with alpha 10 is 0.8263331923083885\n",
      "The mean squared error of Ridge Regression with alpha 10 is 79054.83820679043\n",
      "The mean absolute error of Ridge Regression with alpha 10 is 45778.26511539573\n"
     ]
    }
   ],
   "source": [
    "lrr_r2=np.mean(cross_val_score(lrr, X_train, y_train, cv=5))\n",
    "print(f'The R2 of Ridge Regression with alpha 10 is {lrr_r2}')\n",
    "\n",
    "#cross validation features gives greater is better, so score function is opposite of \n",
    "#MSE so we need to use -ve to get mse\n",
    "lrr_mse=np.mean(cross_val_score(lr_r, X_train, y_train, cv=5, scoring='neg_mean_squared_error'))\n",
    "lrr_rmse=np.sqrt(-(lrr_mse))\n",
    "print(f'The mean squared error of Ridge Regression with alpha 10 is {lrr_rmse}')\n",
    "\n",
    "#mean absolute error\n",
    "lrr_mae=np.mean(cross_val_score(lr_r, X_train, y_train, cv=5, scoring='neg_mean_absolute_error'))\n",
    "lrr_mae=(-(lrr_mae))\n",
    "print(f'The mean absolute error of Ridge Regression with alpha 10 is {lrr_mae}')"
   ]
  },
  {
   "cell_type": "code",
   "execution_count": null,
   "id": "a9b51c2e",
   "metadata": {},
   "outputs": [],
   "source": []
  },
  {
   "cell_type": "markdown",
   "id": "342a0d56",
   "metadata": {},
   "source": [
    "## Laso Regression"
   ]
  },
  {
   "cell_type": "code",
   "execution_count": 94,
   "id": "250cc3e2",
   "metadata": {},
   "outputs": [
    {
     "data": {
      "text/plain": [
       "Lasso()"
      ]
     },
     "execution_count": 94,
     "metadata": {},
     "output_type": "execute_result"
    }
   ],
   "source": [
    "#using lassoregression(lasso make some features going to exactly zero)\n",
    "#alpha=0 no regularization( all features are used)\n",
    "# Make a lasso regression instance\n",
    "lr_l=Lasso()\n",
    "lr_l.fit(X_train, y_train)\n"
   ]
  },
  {
   "cell_type": "code",
   "execution_count": 95,
   "id": "d1e05ea8",
   "metadata": {},
   "outputs": [
    {
     "name": "stdout",
     "output_type": "stream",
     "text": [
      "R2 Score of training set 0.82691082915007\n",
      "R2 Score of testing set  0.8277333957203118\n"
     ]
    }
   ],
   "source": [
    "#Printing the R2 score of test and train set\n",
    "print(f'R2 Score of training set {lr_l.score(X_train, y_train)}')\n",
    "print(f'R2 Score of testing set  {lr_l.score(X_test, y_test)}')"
   ]
  },
  {
   "cell_type": "markdown",
   "id": "a631052a",
   "metadata": {},
   "source": [
    "#### Create a cross-valiation with five folds."
   ]
  },
  {
   "cell_type": "code",
   "execution_count": 96,
   "id": "9412e871",
   "metadata": {},
   "outputs": [
    {
     "data": {
      "text/plain": [
       "array([-45050.46770617, -45645.69831211, -46603.19812538])"
      ]
     },
     "execution_count": 96,
     "metadata": {},
     "output_type": "execute_result"
    }
   ],
   "source": [
    "cross_val_score(lr_l, X_train, y_train, scoring='neg_mean_absolute_error', cv=3)"
   ]
  },
  {
   "cell_type": "code",
   "execution_count": 97,
   "id": "d65964cb",
   "metadata": {},
   "outputs": [
    {
     "name": "stdout",
     "output_type": "stream",
     "text": [
      "The R2 of Lasso Regression is 0.8263315142420078\n",
      "The mean squared error of Lasso Regression is 79054.84186306574\n",
      "The mean absolute error of Lasso Regression is 45779.069522712394\n"
     ]
    }
   ],
   "source": [
    "lr_l_r2=np.mean(cross_val_score(lr_l, X_train, y_train, cv=5))\n",
    "print(f'The R2 of Lasso Regression is {lr_l_r2}')\n",
    "\n",
    "#cross validation features gives greater is better, so score function is opposite of \n",
    "#MSE so we need to use -ve to get mse\n",
    "lr_l_mse=np.mean(cross_val_score(lr_l, X_train, y_train, cv=5, scoring='neg_mean_squared_error'))\n",
    "lr_l_rmse=np.sqrt(-(lr_l_mse))\n",
    "print(f'The mean squared error of Lasso Regression is {lr_l_rmse}')\n",
    "\n",
    "#mean absolute error\n",
    "lr_l_mae=np.mean(cross_val_score(lr_l, X_train, y_train, cv=5, scoring='neg_mean_absolute_error'))\n",
    "lr_l_mae=(-(lr_l_mae))\n",
    "print(f'The mean absolute error of Lasso Regression is {lr_l_mae}')"
   ]
  },
  {
   "cell_type": "code",
   "execution_count": 98,
   "id": "a26d5e1f",
   "metadata": {},
   "outputs": [
    {
     "data": {
      "image/png": "[encoded data removed]",
      "text/plain": [
       "<Figure size 432x288 with 1 Axes>"
      ]
     },
     "metadata": {
      "needs_background": "light"
     },
     "output_type": "display_data"
    }
   ],
   "source": [
    "#choosing the best alpha\n",
    "alpha=[]\n",
    "error=[]\n",
    "for i in range(1,100,10):\n",
    "    alpha.append(i/10)\n",
    "    lrl=Lasso(alpha=(i/10))\n",
    "    error.append(np.mean(cross_val_score(lrl, X_train, y_train, scoring='neg_mean_absolute_error',\n",
    "                                         cv=5)))\n",
    "plt.plot(alpha,error) \n",
    "plt.show()"
   ]
  },
  {
   "cell_type": "code",
   "execution_count": 99,
   "id": "8645145a",
   "metadata": {},
   "outputs": [
    {
     "data": {
      "text/plain": [
       "Lasso(alpha=10)"
      ]
     },
     "execution_count": 99,
     "metadata": {},
     "output_type": "execute_result"
    }
   ],
   "source": [
    "#choosing the best alpha\n",
    "lrl=Lasso(alpha=10)\n",
    "lrl.fit(X_train, y_train)\n"
   ]
  },
  {
   "cell_type": "code",
   "execution_count": 100,
   "id": "33434bb2",
   "metadata": {},
   "outputs": [
    {
     "name": "stdout",
     "output_type": "stream",
     "text": [
      "R2 Score of training set with alpha 10 0.8269105738177785\n",
      "R2 Score of testing set with alpha 10 0.8277382440904787\n"
     ]
    }
   ],
   "source": [
    "#Printing the R2 score of test and train set \n",
    "print(f'R2 Score of training set with alpha 10 {lrl.score(X_train, y_train)}')\n",
    "print(f'R2 Score of testing set with alpha 10 {lrl.score(X_test, y_test)}')"
   ]
  },
  {
   "cell_type": "markdown",
   "id": "fa409584",
   "metadata": {},
   "source": [
    "#### Create a cross-valiation with five folds."
   ]
  },
  {
   "cell_type": "code",
   "execution_count": 101,
   "id": "9f3a74bf",
   "metadata": {},
   "outputs": [
    {
     "data": {
      "text/plain": [
       "array([-45050.46770617, -45645.69831211, -46603.19812538])"
      ]
     },
     "execution_count": 101,
     "metadata": {},
     "output_type": "execute_result"
    }
   ],
   "source": [
    "cross_val_score(lr_l, X_train, y_train, scoring='neg_mean_absolute_error', cv=3)"
   ]
  },
  {
   "cell_type": "code",
   "execution_count": 102,
   "id": "925e96b8",
   "metadata": {},
   "outputs": [
    {
     "name": "stdout",
     "output_type": "stream",
     "text": [
      "The R2 of Lasso Regression with alpha 10 is 0.8263328592463501\n",
      "The mean squared error of Lasso Regression with alpha 10 is 79054.84186306574\n",
      "The mean absolute error of Lasso Regressionwith alpha 10 is 45779.069522712394\n"
     ]
    }
   ],
   "source": [
    "lrl_r2=np.mean(cross_val_score(lrl, X_train, y_train, cv=5))\n",
    "print(f'The R2 of Lasso Regression with alpha 10 is {lrl_r2}')\n",
    "\n",
    "#cross validation features gives greater is better, so score function is opposite of \n",
    "#MSE so we need to use -ve to get mse\n",
    "lrl_mse=np.mean(cross_val_score(lr_l, X_train, y_train, cv=5, scoring='neg_mean_squared_error'))\n",
    "lrl_rmse=np.sqrt(-(lrl_mse))\n",
    "print(f'The mean squared error of Lasso Regression with alpha 10 is {lrl_rmse}')\n",
    "\n",
    "#mean absolute error\n",
    "lrl_mae=np.mean(cross_val_score(lr_l, X_train, y_train, cv=5, scoring='neg_mean_absolute_error'))\n",
    "lrl_mae=(-(lrl_mae))\n",
    "print(f'The mean absolute error of Lasso Regressionwith alpha 10 is {lrl_mae}')"
   ]
  },
  {
   "cell_type": "code",
   "execution_count": null,
   "id": "11b4127e",
   "metadata": {},
   "outputs": [],
   "source": []
  },
  {
   "cell_type": "markdown",
   "id": "134895ea",
   "metadata": {},
   "source": [
    "## Support Vector Machine(SVM) Regression"
   ]
  },
  {
   "cell_type": "code",
   "execution_count": 104,
   "id": "1165b365",
   "metadata": {},
   "outputs": [
    {
     "data": {
      "text/plain": [
       "LinearSVR(epsilon=1.5)"
      ]
     },
     "execution_count": 104,
     "metadata": {},
     "output_type": "execute_result"
    }
   ],
   "source": [
    "# Make a svm regression instance\n",
    "svm=LinearSVR(epsilon=1.5)\n",
    "svm.fit(X_train, y_train)\n"
   ]
  },
  {
   "cell_type": "code",
   "execution_count": 105,
   "id": "81439dac",
   "metadata": {},
   "outputs": [
    {
     "name": "stdout",
     "output_type": "stream",
     "text": [
      "R2 Score of training set -0.9373532873733363\n",
      "R2 Score of testing set  -1.0136916655519537\n"
     ]
    }
   ],
   "source": [
    "#Printing the R2 score of test and train set\n",
    "print(f'R2 Score of training set {svm.score(X_train, y_train)}')\n",
    "print(f'R2 Score of testing set  {svm.score(X_test, y_test)}')"
   ]
  },
  {
   "cell_type": "markdown",
   "id": "8e724e10",
   "metadata": {},
   "source": [
    "#### Create a cross-valiation with five folds."
   ]
  },
  {
   "cell_type": "code",
   "execution_count": 106,
   "id": "a69dc20a",
   "metadata": {},
   "outputs": [
    {
     "data": {
      "text/plain": [
       "array([-189849.53121056, -192144.53496548, -192877.43190677])"
      ]
     },
     "execution_count": 106,
     "metadata": {},
     "output_type": "execute_result"
    }
   ],
   "source": [
    "cross_val_score(svm, X_train, y_train, scoring='neg_mean_absolute_error', cv=3)"
   ]
  },
  {
   "cell_type": "code",
   "execution_count": 107,
   "id": "a23b5945",
   "metadata": {},
   "outputs": [
    {
     "name": "stdout",
     "output_type": "stream",
     "text": [
      "The R2 of svm Regression is -0.98762454853373\n",
      "The mean squared error of svm Regression is 267286.474150467\n",
      "The mean absolute error of svm Regression is 45778.26511539573\n"
     ]
    }
   ],
   "source": [
    "svm_r2=np.mean(cross_val_score(svm, X_train, y_train, cv=5))\n",
    "print(f'The R2 of svm Regression is {svm_r2}')\n",
    "\n",
    "#cross validation features gives greater is better, so score function is opposite of \n",
    "#MSE so we need to use -ve to get mse\n",
    "svm_mse=np.mean(cross_val_score(svm, X_train, y_train, cv=5, scoring='neg_mean_squared_error'))\n",
    "svm_rmse=np.sqrt(-(svm_mse))\n",
    "print(f'The mean squared error of svm Regression is {svm_rmse}')\n",
    "\n",
    "#mean absolute error\n",
    "svm_mae=np.mean(cross_val_score(svm, X_train, y_train, cv=5, scoring='neg_mean_absolute_error'))\n",
    "svm_mae=(-(svm_mae))\n",
    "print(f'The mean absolute error of svm Regression is {lr_r_mae}')"
   ]
  },
  {
   "cell_type": "code",
   "execution_count": null,
   "id": "b46177c6",
   "metadata": {},
   "outputs": [],
   "source": []
  },
  {
   "cell_type": "markdown",
   "id": "8af885c0",
   "metadata": {},
   "source": [
    "## Decision Tree"
   ]
  },
  {
   "cell_type": "code",
   "execution_count": 41,
   "id": "db540530",
   "metadata": {},
   "outputs": [
    {
     "data": {
      "text/plain": [
       "DecisionTreeRegressor()"
      ]
     },
     "execution_count": 41,
     "metadata": {},
     "output_type": "execute_result"
    }
   ],
   "source": [
    "# Make a decision tree instance\n",
    "dt=DecisionTreeRegressor()\n",
    "dt.fit(X_train, y_train)"
   ]
  },
  {
   "cell_type": "code",
   "execution_count": 42,
   "id": "cf6e4dfe",
   "metadata": {},
   "outputs": [
    {
     "name": "stdout",
     "output_type": "stream",
     "text": [
      "R2 Score of training set 1.0\n",
      "R2 Score of testing set  0.8424080941633996\n"
     ]
    }
   ],
   "source": [
    "#Printing the score of test and train set\n",
    "print(f'R2 Score of training set {dt.score(X_train, y_train)}')\n",
    "print(f'R2 Score of testing set  {dt.score(X_test, y_test)}')"
   ]
  },
  {
   "cell_type": "markdown",
   "id": "71d98749",
   "metadata": {},
   "source": [
    "#### Create a cross-valiation with five folds."
   ]
  },
  {
   "cell_type": "code",
   "execution_count": 43,
   "id": "fb2a5dd1",
   "metadata": {},
   "outputs": [
    {
     "data": {
      "text/plain": [
       "array([-40518.0369506 , -41787.27058213, -40498.34180498])"
      ]
     },
     "execution_count": 43,
     "metadata": {},
     "output_type": "execute_result"
    }
   ],
   "source": [
    "cross_val_score(dt, X_train, y_train, scoring='neg_mean_absolute_error', cv=3)"
   ]
  },
  {
   "cell_type": "code",
   "execution_count": 44,
   "id": "52aaf038",
   "metadata": {},
   "outputs": [
    {
     "name": "stdout",
     "output_type": "stream",
     "text": [
      "The R2 of Decision Tree Regressor is 0.8278130523460936\n",
      "The mean squared error of Decision Tree Regressor is 77776.07593619244\n",
      "The mean squared error of Decision Tree Regressor is 40781.20311046786\n"
     ]
    }
   ],
   "source": [
    "dt_r2=np.mean(cross_val_score(dt, X_train, y_train, cv=5))\n",
    "print(f'The R2 of Decision Tree Regressor is {dt_r2}')\n",
    "\n",
    "#cross validation features gives greater is better, so score function is opposite of \n",
    "#MSE so we need to use -ve to get mse\n",
    "dt_mse=np.mean(cross_val_score(dt, X_train, y_train, cv=5, scoring='neg_mean_squared_error'))\n",
    "dt_rmse=np.sqrt(-(dt_mse))\n",
    "print(f'The mean squared error of Decision Tree Regressor is {dt_rmse}')\n",
    "\n",
    "#mean absolute error\n",
    "dt_mae=np.mean(cross_val_score(dt, X_train, y_train, cv=5, scoring='neg_mean_absolute_error'))\n",
    "dt_mae=(-(dt_mae))\n",
    "print(f'The mean absolute error of Decision Tree Regressor is {dt_mae}')"
   ]
  },
  {
   "cell_type": "markdown",
   "id": "0fe2f2b6",
   "metadata": {},
   "source": [
    "### Tuning hyperparamaters  using Grid Search CV"
   ]
  },
  {
   "cell_type": "code",
   "execution_count": 45,
   "id": "ce3526f4",
   "metadata": {},
   "outputs": [
    {
     "name": "stdout",
     "output_type": "stream",
     "text": [
      "Fitting 3 folds for each of 12 candidates, totalling 36 fits\n"
     ]
    },
    {
     "data": {
      "text/plain": [
       "GridSearchCV(cv=3, estimator=DecisionTreeRegressor(), n_jobs=-1,\n",
       "             param_grid={'max_depth': [6, 8, 12],\n",
       "                         'min_samples_leaf': range(1, 5)},\n",
       "             verbose=1)"
      ]
     },
     "execution_count": 45,
     "metadata": {},
     "output_type": "execute_result"
    }
   ],
   "source": [
    "parameters = {\n",
    "              'max_depth':[6, 8,12],\n",
    "              'min_samples_leaf':range(1,5)}\n",
    "gs_dt=GridSearchCV(dt, param_grid=parameters, \n",
    "                    cv=3, verbose=1, n_jobs=-1)\n",
    "gs_dt.fit(X_train, y_train)"
   ]
  },
  {
   "cell_type": "code",
   "execution_count": 46,
   "id": "8dc40106",
   "metadata": {},
   "outputs": [
    {
     "data": {
      "text/plain": [
       "{'max_depth': 6, 'min_samples_leaf': 4}"
      ]
     },
     "execution_count": 46,
     "metadata": {},
     "output_type": "execute_result"
    }
   ],
   "source": [
    "#Best parameters\n",
    "gs_dt.best_params_"
   ]
  },
  {
   "cell_type": "code",
   "execution_count": 47,
   "id": "96fda4d8",
   "metadata": {},
   "outputs": [
    {
     "data": {
      "text/plain": [
       "DecisionTreeRegressor(max_depth=6, min_samples_leaf=4)"
      ]
     },
     "execution_count": 47,
     "metadata": {},
     "output_type": "execute_result"
    }
   ],
   "source": [
    "#best estimator\n",
    "dt_b=gs_dt.best_estimator_\n",
    "dt_b"
   ]
  },
  {
   "cell_type": "code",
   "execution_count": 48,
   "id": "6b309839",
   "metadata": {},
   "outputs": [
    {
     "name": "stdout",
     "output_type": "stream",
     "text": [
      "R2 Score of training set after hyperpar tuining 0.903329090353497\n",
      "R2 Score of testing set after hyperpar tuining  0.8611856540818635\n"
     ]
    }
   ],
   "source": [
    "#Printing the score of test and train set\n",
    "dt_tr=dt_b.score(X_train, y_train)\n",
    "dt_te=dt_b.score(X_test, y_test)\n",
    "print(f'R2 Score of training set after hyperpar tuining {dt_tr}')\n",
    "print(f'R2 Score of testing set after hyperpar tuining  {dt_te}')"
   ]
  },
  {
   "cell_type": "code",
   "execution_count": null,
   "id": "8a9d7668",
   "metadata": {},
   "outputs": [],
   "source": []
  },
  {
   "cell_type": "markdown",
   "id": "7e418c2b",
   "metadata": {},
   "source": [
    "## Random Forest"
   ]
  },
  {
   "cell_type": "code",
   "execution_count": 49,
   "id": "5937cda5",
   "metadata": {},
   "outputs": [
    {
     "data": {
      "text/plain": [
       "RandomForestRegressor()"
      ]
     },
     "execution_count": 49,
     "metadata": {},
     "output_type": "execute_result"
    }
   ],
   "source": [
    "# Make a Random forest instance\n",
    "rf=RandomForestRegressor()\n",
    "rf.fit(X_train, y_train)"
   ]
  },
  {
   "cell_type": "code",
   "execution_count": 50,
   "id": "4f925bbe",
   "metadata": {},
   "outputs": [
    {
     "name": "stdout",
     "output_type": "stream",
     "text": [
      "R2 Score of training set 0.9882948667957161\n",
      "R2 Score of testing set 0.9099138390087399\n"
     ]
    }
   ],
   "source": [
    "#Printing the score of test and train set\n",
    "print(f'R2 Score of training set {rf.score(X_train, y_train)}')\n",
    "print(f'R2 Score of testing set {rf.score(X_test, y_test)}')"
   ]
  },
  {
   "cell_type": "markdown",
   "id": "8f85372c",
   "metadata": {},
   "source": [
    "#### Create a cross-valiation with five folds."
   ]
  },
  {
   "cell_type": "code",
   "execution_count": 51,
   "id": "1076046e",
   "metadata": {},
   "outputs": [
    {
     "data": {
      "text/plain": [
       "array([-28855.32850512, -28031.20044989, -29020.551368  ])"
      ]
     },
     "execution_count": 51,
     "metadata": {},
     "output_type": "execute_result"
    }
   ],
   "source": [
    "cross_val_score(rf, X_train, y_train, scoring='neg_mean_absolute_error', cv=3)"
   ]
  },
  {
   "cell_type": "code",
   "execution_count": 52,
   "id": "564d946e",
   "metadata": {},
   "outputs": [
    {
     "name": "stdout",
     "output_type": "stream",
     "text": [
      "The R2 of Random Forest Regressor is 0.9147164494182786\n",
      "The mean squared error of Random Forest Regressor is 79054.84186306574\n",
      "The mean squared error of Random Forest Regressor is 28196.0105194758\n"
     ]
    }
   ],
   "source": [
    "rf_r2=np.mean(cross_val_score(rf, X_train, y_train, cv=5))\n",
    "print(f'The R2 of Random Forest Regressor is {rf_r2}')\n",
    "\n",
    "#cross validation features gives greater is better, so score function is opposite of \n",
    "#MSE so we need to use -ve to get mse\n",
    "rf_mse=np.mean(cross_val_score(rf, X_train, y_train, cv=5, scoring='neg_mean_squared_error'))\n",
    "rf_rmse=np.sqrt(-(lrl_mse))\n",
    "print(f'The mean squared error of Random Forest Regressor is {rf_rmse}')\n",
    "\n",
    "#mean absolute error\n",
    "rf_mae=np.mean(cross_val_score(rf, X_train, y_train, cv=5, scoring='neg_mean_absolute_error'))\n",
    "rf_mae=(-(rf_mae))\n",
    "print(f'The mean absolute error of Random Forest Regressor is {rf_mae}')"
   ]
  },
  {
   "cell_type": "code",
   "execution_count": null,
   "id": "0dfbcb0c",
   "metadata": {},
   "outputs": [],
   "source": []
  },
  {
   "cell_type": "markdown",
   "id": "f889d47f",
   "metadata": {},
   "source": [
    "#### Tuning the hyperparameters using Grid Search CV"
   ]
  },
  {
   "cell_type": "code",
   "execution_count": 53,
   "id": "7a9ce39b",
   "metadata": {},
   "outputs": [
    {
     "data": {
      "text/plain": [
       "GridSearchCV(cv=5, estimator=RandomForestRegressor(),\n",
       "             param_grid=[{'max_features': [6, 10],\n",
       "                          'n_estimators': [5, 15, 30]}],\n",
       "             return_train_score=True, scoring='neg_mean_absolute_error')"
      ]
     },
     "execution_count": 53,
     "metadata": {},
     "output_type": "execute_result"
    }
   ],
   "source": [
    "parameters = [{'n_estimators':[5,15,30],\n",
    "              'max_features':[6,10]}]\n",
    "              #,{'bootstrap':[False], 'n_estimators':[3,10,100],\n",
    "              #'max_features':[4,6,8,10]}]\n",
    "gs_rf=GridSearchCV(rf, parameters, scoring='neg_mean_absolute_error',\n",
    "                   cv=5, return_train_score=True)\n",
    "gs_rf.fit(X_train, y_train)"
   ]
  },
  {
   "cell_type": "code",
   "execution_count": 54,
   "id": "92153c4c",
   "metadata": {},
   "outputs": [
    {
     "data": {
      "text/plain": [
       "{'max_features': 10, 'n_estimators': 30}"
      ]
     },
     "execution_count": 54,
     "metadata": {},
     "output_type": "execute_result"
    }
   ],
   "source": [
    "#Best parameters\n",
    "gs_rf.best_params_"
   ]
  },
  {
   "cell_type": "code",
   "execution_count": 55,
   "id": "250ac4c5",
   "metadata": {},
   "outputs": [
    {
     "data": {
      "text/plain": [
       "RandomForestRegressor(max_features=10, n_estimators=30)"
      ]
     },
     "execution_count": 55,
     "metadata": {},
     "output_type": "execute_result"
    }
   ],
   "source": [
    "#best estimator\n",
    "rf_b=gs_rf.best_estimator_\n",
    "rf_b"
   ]
  },
  {
   "cell_type": "code",
   "execution_count": 56,
   "id": "99f2d2e0",
   "metadata": {},
   "outputs": [
    {
     "name": "stdout",
     "output_type": "stream",
     "text": [
      "R2 Score of training set after hyperpar tuining 0.9867134968073245\n",
      "R2 Score of testing set after hyperpar tuining  0.9163800496923701\n"
     ]
    }
   ],
   "source": [
    "#Printing the score of test and train set\n",
    "rf_tr=rf_b.score(X_train, y_train)\n",
    "rf_te=rf_b.score(X_test, y_test)\n",
    "print(f'R2 Score of training set after hyperpar tuining {rf_tr}')\n",
    "print(f'R2 Score of testing set after hyperpar tuining  {rf_te}')"
   ]
  },
  {
   "cell_type": "code",
   "execution_count": 57,
   "id": "e90538e1",
   "metadata": {},
   "outputs": [
    {
     "name": "stdout",
     "output_type": "stream",
     "text": [
      "33314.06393915762 {'max_features': 6, 'n_estimators': 5}\n",
      "30020.818474116044 {'max_features': 6, 'n_estimators': 15}\n",
      "29077.70527131096 {'max_features': 6, 'n_estimators': 30}\n",
      "31939.092649607104 {'max_features': 10, 'n_estimators': 5}\n",
      "29449.71488378467 {'max_features': 10, 'n_estimators': 15}\n",
      "28512.69982710522 {'max_features': 10, 'n_estimators': 30}\n"
     ]
    }
   ],
   "source": [
    "#printing the evaluation scores\n",
    "cvres=gs_rf.cv_results_\n",
    "for mean_score, params in zip(cvres['mean_test_score'], cvres['params']):\n",
    "    print((-mean_score), params)"
   ]
  },
  {
   "cell_type": "markdown",
   "id": "262c2a08",
   "metadata": {},
   "source": [
    "### Important scores of each columns"
   ]
  },
  {
   "cell_type": "code",
   "execution_count": 60,
   "id": "2dca95a2",
   "metadata": {},
   "outputs": [
    {
     "data": {
      "text/plain": [
       "[(0.5724000486615857, 'Monthly Owner Cost'),\n",
       " (0.17854258703144482, 'Per Capita Income'),\n",
       " (0.06841636386884914, 'Lng'),\n",
       " (0.05061455615311739, 'Household Income'),\n",
       " (0.020187990761222737, 'College Rate'),\n",
       " (0.013079985925406974, 'Lat'),\n",
       " (0.012861740868021743, 'Personal Transport Rate'),\n",
       " (0.012733994668357196, 'High School Rate'),\n",
       " (0.009427678332555402, 'Median Age'),\n",
       " (0.006099650437377014, 'Public Transport Rate'),\n",
       " (0.00579553359627706, 'Population'),\n",
       " (0.005729383706212389, 'Asian Population Rate'),\n",
       " (0.005682201832994865, 'Housing_units'),\n",
       " (0.005419148039221857, 'House Construction Year'),\n",
       " (0.005289955025697481, 'Monthly Rent'),\n",
       " (0.005185383454005838, 'Poverty Rate'),\n",
       " (0.004707049842631813, 'White Population Rate'),\n",
       " (0.004492785965774442, 'Black Population Rate'),\n",
       " (0.004467875043297922, 'Uneducated Rate'),\n",
       " (0.004461485881553293, 'Unemployment Rate'),\n",
       " (0.00440460090439524, 'Hispanic Population Rate')]"
      ]
     },
     "execution_count": 60,
     "metadata": {},
     "output_type": "execute_result"
    }
   ],
   "source": [
    "feature_importances=rf_b.feature_importances_\n",
    "col=X.columns\n",
    "sorted(zip(feature_importances, col), reverse=True)"
   ]
  },
  {
   "cell_type": "markdown",
   "id": "e9a79141",
   "metadata": {},
   "source": [
    "## Predicting on Test set"
   ]
  },
  {
   "cell_type": "code",
   "execution_count": 108,
   "id": "b1e3c820",
   "metadata": {},
   "outputs": [],
   "source": [
    "#Testing the model in test data\n",
    "y_pred_lr=lr.predict(X_test)     #linear \n",
    "y_pred_lrl=lrl.predict(X_test)   #lasso\n",
    "y_pred_lrr=lrr.predict(X_test)   #Ridge\n",
    "y_pred_svm=svm.predict(X_test)   #svm\n",
    "y_pred_dt=dt_b.predict(X_test)   #Dicision tree\n",
    "y_pred_rf=rf_b.predict(X_test)   #Random forest"
   ]
  },
  {
   "cell_type": "markdown",
   "id": "cafb2720",
   "metadata": {},
   "source": [
    "### Mean Absolute Error"
   ]
  },
  {
   "cell_type": "code",
   "execution_count": 109,
   "id": "a6f55dc5",
   "metadata": {},
   "outputs": [
    {
     "name": "stdout",
     "output_type": "stream",
     "text": [
      "The mean absoulte error of linear regression is 44451.568618166064\n",
      "The mean absoulte error of lasso regression is 44444.92461048979\n",
      "The mean absoulte error of Ridge regression is 44441.08120275219\n",
      "The mean absoulte error of SVM regression is 179346.70046914692\n",
      "The mean absoulte error of decision tree regression is 35774.59200599744\n",
      "The mean absoulte error of random forest regression is 27190.651074618272\n"
     ]
    }
   ],
   "source": [
    "#regression matrices-mean absolute error(give you the prediction error)\n",
    "lin_mae_lr=mean_absolute_error(y_test, y_pred_lr)\n",
    "print(f'The mean absoulte error of linear regression is {lin_mae_lr}')\n",
    "\n",
    "lin_mae_lrl=mean_absolute_error(y_test, y_pred_lrl)\n",
    "print(f'The mean absoulte error of lasso regression is {lin_mae_lrl}')\n",
    "\n",
    "lin_mae_lrr=mean_absolute_error(y_test, y_pred_lrr)\n",
    "print(f'The mean absoulte error of Ridge regression is {lin_mae_lrr}')\n",
    "\n",
    "lin_mae_svm=mean_absolute_error(y_test, y_pred_svm)\n",
    "print(f'The mean absoulte error of SVM regression is {lin_mae_svm}')\n",
    "\n",
    "lin_mae_dt=mean_absolute_error(y_test, y_pred_dt)\n",
    "print(f'The mean absoulte error of decision tree regression is {lin_mae_dt}')\n",
    "\n",
    "lin_mae_rf=mean_absolute_error(y_test, y_pred_rf)\n",
    "print(f'The mean absoulte error of random forest regression is {lin_mae_rf}')\n"
   ]
  },
  {
   "cell_type": "markdown",
   "id": "fe7cdc43",
   "metadata": {},
   "source": [
    "### Root Mean Squared Error"
   ]
  },
  {
   "cell_type": "code",
   "execution_count": 114,
   "id": "0704ea49",
   "metadata": {},
   "outputs": [
    {
     "name": "stdout",
     "output_type": "stream",
     "text": [
      "The mean squared error of linear regression is 73809.93625526706\n",
      "The mean squared error of lasso regression is 73808.77622127706\n",
      "The mean squared error of ridge regression is 73804.35826819616\n",
      "The mean squared error of SVM regression is 252353.9203887636\n",
      "The mean squared error of decision tree regression is 66256.84398274112\n",
      "The mean squared error of random forest regression is 51424.31581951992\n"
     ]
    }
   ],
   "source": [
    "#regression matrices-mean squared error(give you the prediction error)\n",
    "lin_mse_lr=mean_squared_error(y_test, y_pred_lr)\n",
    "lin_rmse_lr=np.sqrt(lin_mse_lr)\n",
    "print(f'The mean squared error of linear regression is {lin_rmse_lr}')\n",
    "\n",
    "lin_mse_lrl=mean_squared_error(y_test, y_pred_lrl)\n",
    "lin_rmse_lrl=np.sqrt(lin_mse_lrl)\n",
    "print(f'The mean squared error of lasso regression is {lin_rmse_lrl}')\n",
    "\n",
    "lin_mse_lrr=mean_squared_error(y_test, y_pred_lrr)\n",
    "lin_rmse_lrr=np.sqrt(lin_mse_lrr)\n",
    "print(f'The mean squared error of ridge regression is {lin_rmse_lrr}')\n",
    "\n",
    "lin_mse_svm=mean_squared_error(y_test, y_pred_svm)\n",
    "lin_rmse_svm=np.sqrt(lin_mse_svm)\n",
    "print(f'The mean squared error of SVM regression is {lin_rmse_svm}')\n",
    "\n",
    "lin_mse_dt=mean_squared_error(y_test, y_pred_dt)\n",
    "lin_rmse_dt=np.sqrt(lin_mse_dt)\n",
    "print(f'The mean squared error of decision tree regression is {lin_rmse_dt}')\n",
    "\n",
    "lin_mse_rf=mean_squared_error(y_test, y_pred_rf)\n",
    "lin_rmse_rf=np.sqrt(lin_mse_rf)\n",
    "print(f'The mean squared error of random forest regression is {lin_rmse_rf}')"
   ]
  },
  {
   "cell_type": "markdown",
   "id": "65da18cc",
   "metadata": {},
   "source": [
    "### Actual and predicted house rate --best model( RandomForest Regressor)"
   ]
  },
  {
   "cell_type": "code",
   "execution_count": 115,
   "id": "0ead2027",
   "metadata": {},
   "outputs": [
    {
     "data": {
      "text/html": [
       "<div>\n",
       "<style scoped>\n",
       "    .dataframe tbody tr th:only-of-type {\n",
       "        vertical-align: middle;\n",
       "    }\n",
       "\n",
       "    .dataframe tbody tr th {\n",
       "        vertical-align: top;\n",
       "    }\n",
       "\n",
       "    .dataframe thead th {\n",
       "        text-align: right;\n",
       "    }\n",
       "</style>\n",
       "<table border=\"1\" class=\"dataframe\">\n",
       "  <thead>\n",
       "    <tr style=\"text-align: right;\">\n",
       "      <th></th>\n",
       "      <th>Actual House Value</th>\n",
       "      <th>Random Forest Predicted House Value</th>\n",
       "      <th>Linear Reg Predicted House Value</th>\n",
       "      <th>Lasso Reg Predicted House Value</th>\n",
       "      <th>Ridge Reg Predicted House Value</th>\n",
       "      <th>Decesion Tree Predicted House Value</th>\n",
       "      <th>SVM Predicted House Value</th>\n",
       "    </tr>\n",
       "    <tr>\n",
       "      <th>City</th>\n",
       "      <th></th>\n",
       "      <th></th>\n",
       "      <th></th>\n",
       "      <th></th>\n",
       "      <th></th>\n",
       "      <th></th>\n",
       "      <th></th>\n",
       "    </tr>\n",
       "  </thead>\n",
       "  <tbody>\n",
       "    <tr>\n",
       "      <th>Idaville</th>\n",
       "      <td>96800.0</td>\n",
       "      <td>105440.000000</td>\n",
       "      <td>37086.894062</td>\n",
       "      <td>37084.253540</td>\n",
       "      <td>37101.346439</td>\n",
       "      <td>94411.222302</td>\n",
       "      <td>22858.173252</td>\n",
       "    </tr>\n",
       "    <tr>\n",
       "      <th>Stetson</th>\n",
       "      <td>150200.0</td>\n",
       "      <td>164183.333333</td>\n",
       "      <td>83385.831159</td>\n",
       "      <td>83438.379585</td>\n",
       "      <td>83424.664769</td>\n",
       "      <td>148692.823468</td>\n",
       "      <td>22968.506544</td>\n",
       "    </tr>\n",
       "    <tr>\n",
       "      <th>Fort White</th>\n",
       "      <td>107700.0</td>\n",
       "      <td>114330.000000</td>\n",
       "      <td>123624.641975</td>\n",
       "      <td>123558.908004</td>\n",
       "      <td>123594.436168</td>\n",
       "      <td>112425.897921</td>\n",
       "      <td>22893.556084</td>\n",
       "    </tr>\n",
       "    <tr>\n",
       "      <th>Toxey</th>\n",
       "      <td>74600.0</td>\n",
       "      <td>97223.333333</td>\n",
       "      <td>124967.496061</td>\n",
       "      <td>124933.270911</td>\n",
       "      <td>124831.916138</td>\n",
       "      <td>112425.897921</td>\n",
       "      <td>22976.713473</td>\n",
       "    </tr>\n",
       "    <tr>\n",
       "      <th>Wickenburg</th>\n",
       "      <td>249600.0</td>\n",
       "      <td>252833.333333</td>\n",
       "      <td>285656.470992</td>\n",
       "      <td>285581.474998</td>\n",
       "      <td>285656.013032</td>\n",
       "      <td>207605.835544</td>\n",
       "      <td>23465.163110</td>\n",
       "    </tr>\n",
       "    <tr>\n",
       "      <th>...</th>\n",
       "      <td>...</td>\n",
       "      <td>...</td>\n",
       "      <td>...</td>\n",
       "      <td>...</td>\n",
       "      <td>...</td>\n",
       "      <td>...</td>\n",
       "      <td>...</td>\n",
       "    </tr>\n",
       "    <tr>\n",
       "      <th>Divide</th>\n",
       "      <td>263600.0</td>\n",
       "      <td>279460.000000</td>\n",
       "      <td>249632.697275</td>\n",
       "      <td>249652.770025</td>\n",
       "      <td>249656.962298</td>\n",
       "      <td>279148.286604</td>\n",
       "      <td>23294.094714</td>\n",
       "    </tr>\n",
       "    <tr>\n",
       "      <th>Clay City</th>\n",
       "      <td>85200.0</td>\n",
       "      <td>95836.666667</td>\n",
       "      <td>76141.185777</td>\n",
       "      <td>76102.118451</td>\n",
       "      <td>76100.092414</td>\n",
       "      <td>78657.577526</td>\n",
       "      <td>22883.706601</td>\n",
       "    </tr>\n",
       "    <tr>\n",
       "      <th>Beulah</th>\n",
       "      <td>201000.0</td>\n",
       "      <td>220140.000000</td>\n",
       "      <td>240257.780127</td>\n",
       "      <td>240250.211039</td>\n",
       "      <td>240301.792954</td>\n",
       "      <td>232866.865672</td>\n",
       "      <td>23130.061444</td>\n",
       "    </tr>\n",
       "    <tr>\n",
       "      <th>Okeana</th>\n",
       "      <td>259600.0</td>\n",
       "      <td>256750.000000</td>\n",
       "      <td>232517.587224</td>\n",
       "      <td>232531.997613</td>\n",
       "      <td>232566.252382</td>\n",
       "      <td>218521.000000</td>\n",
       "      <td>23342.191896</td>\n",
       "    </tr>\n",
       "    <tr>\n",
       "      <th>Fort Atkinson</th>\n",
       "      <td>145400.0</td>\n",
       "      <td>133073.333333</td>\n",
       "      <td>147558.674285</td>\n",
       "      <td>147595.975889</td>\n",
       "      <td>147671.063833</td>\n",
       "      <td>112425.897921</td>\n",
       "      <td>23190.882171</td>\n",
       "    </tr>\n",
       "  </tbody>\n",
       "</table>\n",
       "<p>5785 rows × 7 columns</p>\n",
       "</div>"
      ],
      "text/plain": [
       "               Actual House Value  Random Forest Predicted House Value  \\\n",
       "City                                                                     \n",
       "Idaville                  96800.0                        105440.000000   \n",
       "Stetson                  150200.0                        164183.333333   \n",
       "Fort White               107700.0                        114330.000000   \n",
       "Toxey                     74600.0                         97223.333333   \n",
       "Wickenburg               249600.0                        252833.333333   \n",
       "...                           ...                                  ...   \n",
       "Divide                   263600.0                        279460.000000   \n",
       "Clay City                 85200.0                         95836.666667   \n",
       "Beulah                   201000.0                        220140.000000   \n",
       "Okeana                   259600.0                        256750.000000   \n",
       "Fort Atkinson            145400.0                        133073.333333   \n",
       "\n",
       "               Linear Reg Predicted House Value  \\\n",
       "City                                              \n",
       "Idaville                           37086.894062   \n",
       "Stetson                            83385.831159   \n",
       "Fort White                        123624.641975   \n",
       "Toxey                             124967.496061   \n",
       "Wickenburg                        285656.470992   \n",
       "...                                         ...   \n",
       "Divide                            249632.697275   \n",
       "Clay City                          76141.185777   \n",
       "Beulah                            240257.780127   \n",
       "Okeana                            232517.587224   \n",
       "Fort Atkinson                     147558.674285   \n",
       "\n",
       "               Lasso Reg Predicted House Value  \\\n",
       "City                                             \n",
       "Idaville                          37084.253540   \n",
       "Stetson                           83438.379585   \n",
       "Fort White                       123558.908004   \n",
       "Toxey                            124933.270911   \n",
       "Wickenburg                       285581.474998   \n",
       "...                                        ...   \n",
       "Divide                           249652.770025   \n",
       "Clay City                         76102.118451   \n",
       "Beulah                           240250.211039   \n",
       "Okeana                           232531.997613   \n",
       "Fort Atkinson                    147595.975889   \n",
       "\n",
       "               Ridge Reg Predicted House Value  \\\n",
       "City                                             \n",
       "Idaville                          37101.346439   \n",
       "Stetson                           83424.664769   \n",
       "Fort White                       123594.436168   \n",
       "Toxey                            124831.916138   \n",
       "Wickenburg                       285656.013032   \n",
       "...                                        ...   \n",
       "Divide                           249656.962298   \n",
       "Clay City                         76100.092414   \n",
       "Beulah                           240301.792954   \n",
       "Okeana                           232566.252382   \n",
       "Fort Atkinson                    147671.063833   \n",
       "\n",
       "               Decesion Tree Predicted House Value  SVM Predicted House Value  \n",
       "City                                                                           \n",
       "Idaville                              94411.222302               22858.173252  \n",
       "Stetson                              148692.823468               22968.506544  \n",
       "Fort White                           112425.897921               22893.556084  \n",
       "Toxey                                112425.897921               22976.713473  \n",
       "Wickenburg                           207605.835544               23465.163110  \n",
       "...                                            ...                        ...  \n",
       "Divide                               279148.286604               23294.094714  \n",
       "Clay City                             78657.577526               22883.706601  \n",
       "Beulah                               232866.865672               23130.061444  \n",
       "Okeana                               218521.000000               23342.191896  \n",
       "Fort Atkinson                        112425.897921               23190.882171  \n",
       "\n",
       "[5785 rows x 7 columns]"
      ]
     },
     "execution_count": 115,
     "metadata": {},
     "output_type": "execute_result"
    }
   ],
   "source": [
    "#Actual and predicated value of house using our best model\n",
    "house_value=pd.DataFrame({'Actual House Value':y_test, \n",
    "                'Random Forest Predicted House Value':y_pred_rf,\n",
    "                'Linear Reg Predicted House Value':y_pred_lr,\n",
    "                'Lasso Reg Predicted House Value':y_pred_lrl,\n",
    "                'Ridge Reg Predicted House Value':y_pred_lrr,       \n",
    "                'Decesion Tree Predicted House Value':y_pred_dt,\n",
    "                 'SVM Predicted House Value':y_pred_svm},index=test_index)\n",
    "house_value"
   ]
  },
  {
   "cell_type": "markdown",
   "id": "9397ae8b",
   "metadata": {},
   "source": [
    "## Evaluation metrices of differnt models"
   ]
  },
  {
   "cell_type": "code",
   "execution_count": 116,
   "id": "bf749de9",
   "metadata": {},
   "outputs": [
    {
     "data": {
      "text/html": [
       "<div>\n",
       "<style scoped>\n",
       "    .dataframe tbody tr th:only-of-type {\n",
       "        vertical-align: middle;\n",
       "    }\n",
       "\n",
       "    .dataframe tbody tr th {\n",
       "        vertical-align: top;\n",
       "    }\n",
       "\n",
       "    .dataframe thead th {\n",
       "        text-align: right;\n",
       "    }\n",
       "</style>\n",
       "<table border=\"1\" class=\"dataframe\">\n",
       "  <thead>\n",
       "    <tr style=\"text-align: right;\">\n",
       "      <th></th>\n",
       "      <th>Linear Reg</th>\n",
       "      <th>Lasso Reg</th>\n",
       "      <th>Ridge Reg</th>\n",
       "      <th>SVM Reg</th>\n",
       "      <th>Decision Tree</th>\n",
       "      <th>Random Forest</th>\n",
       "    </tr>\n",
       "  </thead>\n",
       "  <tbody>\n",
       "    <tr>\n",
       "      <th>R2</th>\n",
       "      <td>0.826331</td>\n",
       "      <td>0.826333</td>\n",
       "      <td>0.826333</td>\n",
       "      <td>-0.987625</td>\n",
       "      <td>0.903329</td>\n",
       "      <td>0.986713</td>\n",
       "    </tr>\n",
       "    <tr>\n",
       "      <th>Mean Absolute Error</th>\n",
       "      <td>44451.568618</td>\n",
       "      <td>44444.924610</td>\n",
       "      <td>44441.081203</td>\n",
       "      <td>179346.700469</td>\n",
       "      <td>35774.592006</td>\n",
       "      <td>27190.651075</td>\n",
       "    </tr>\n",
       "    <tr>\n",
       "      <th>Root Mean Squared Error</th>\n",
       "      <td>73809.936255</td>\n",
       "      <td>73808.776221</td>\n",
       "      <td>73804.358268</td>\n",
       "      <td>252353.920389</td>\n",
       "      <td>66256.843983</td>\n",
       "      <td>51424.315820</td>\n",
       "    </tr>\n",
       "  </tbody>\n",
       "</table>\n",
       "</div>"
      ],
      "text/plain": [
       "                           Linear Reg     Lasso Reg     Ridge Reg  \\\n",
       "R2                           0.826331      0.826333      0.826333   \n",
       "Mean Absolute Error      44451.568618  44444.924610  44441.081203   \n",
       "Root Mean Squared Error  73809.936255  73808.776221  73804.358268   \n",
       "\n",
       "                               SVM Reg  Decision Tree  Random Forest  \n",
       "R2                           -0.987625       0.903329       0.986713  \n",
       "Mean Absolute Error      179346.700469   35774.592006   27190.651075  \n",
       "Root Mean Squared Error  252353.920389   66256.843983   51424.315820  "
      ]
     },
     "execution_count": 116,
     "metadata": {},
     "output_type": "execute_result"
    }
   ],
   "source": [
    "evaluation_df=pd.DataFrame({'Linear Reg':[lr_r2,lin_mae_lr,lin_rmse_lr],\n",
    "                           'Lasso Reg':[lrl_r2,lin_mae_lrl,lin_rmse_lrl],\n",
    "                            'Ridge Reg':[lrr_r2,lin_mae_lrr,lin_rmse_lrr],\n",
    "                            'SVM Reg':[svm_r2,lin_mae_svm,lin_rmse_svm],\n",
    "                           'Decision Tree':[dt_tr,lin_mae_dt,lin_rmse_dt],\n",
    "                            'Random Forest':[rf_tr,lin_mae_rf,lin_rmse_rf]}\n",
    "                           ,index=['R2','Mean Absolute Error',\n",
    "                                    'Root Mean Squared Error'])\n",
    "evaluation_df"
   ]
  },
  {
   "cell_type": "code",
   "execution_count": null,
   "id": "28993614",
   "metadata": {},
   "outputs": [],
   "source": []
  },
  {
   "cell_type": "markdown",
   "id": "a682f73c",
   "metadata": {},
   "source": [
    "## Predecting the house value of 2017 census data from our best Model Random Forest"
   ]
  },
  {
   "cell_type": "code",
   "execution_count": 118,
   "id": "775926a6",
   "metadata": {},
   "outputs": [],
   "source": [
    "# 2018 usa cleaned data for machine learning\n",
    "path_2017=os.path.join('output_census', 'usa_2017_ml.csv')\n",
    "usa_2017=pd.read_csv(path_2017)"
   ]
  },
  {
   "cell_type": "code",
   "execution_count": 119,
   "id": "02a4b512",
   "metadata": {},
   "outputs": [],
   "source": [
    "#seting city as a index\n",
    "usa_2017.set_index('City', inplace=True)"
   ]
  },
  {
   "cell_type": "markdown",
   "id": "5b47e89b",
   "metadata": {},
   "source": [
    "#### Prepare a feature matrix (X) and response (y)  for scikit-learn."
   ]
  },
  {
   "cell_type": "code",
   "execution_count": 120,
   "id": "e2fd921a",
   "metadata": {},
   "outputs": [],
   "source": [
    "# create feature matrix (X)\n",
    "#selecting all columns except 'House Value'\n",
    "X_2017=usa_2017.drop('House Value', axis=1) \n",
    "\n",
    "# create response vector (y)\n",
    "##selecting 'House Value'\n",
    "y_2017=usa_2017['House Value'].values  "
   ]
  },
  {
   "cell_type": "code",
   "execution_count": null,
   "id": "5a6804d4",
   "metadata": {},
   "outputs": [],
   "source": []
  },
  {
   "cell_type": "markdown",
   "id": "c71d02b0",
   "metadata": {},
   "source": [
    "#### Scaling using standard scaler on feature matrix (X) "
   ]
  },
  {
   "cell_type": "code",
   "execution_count": 121,
   "id": "d5adf341",
   "metadata": {},
   "outputs": [],
   "source": [
    "#Different columns have differnt scale so standrazied it \n",
    "#features scaling using standard scaler on x only\n",
    "from sklearn.preprocessing import StandardScaler\n",
    "std_scaler=StandardScaler()\n",
    "scaled_X_2017=std_scaler.fit_transform(X_2017)"
   ]
  },
  {
   "cell_type": "code",
   "execution_count": 122,
   "id": "61a23374",
   "metadata": {},
   "outputs": [
    {
     "name": "stdout",
     "output_type": "stream",
     "text": [
      "(29093, 21)\n",
      "(29093,)\n"
     ]
    }
   ],
   "source": [
    "#shape of the X and y\n",
    "print(scaled_X_2017.shape)\n",
    "print(y_2017.shape)"
   ]
  },
  {
   "cell_type": "markdown",
   "id": "82fc723f",
   "metadata": {},
   "source": [
    "#### Predcting the house value using our best model Random Forest Regressor"
   ]
  },
  {
   "cell_type": "code",
   "execution_count": 123,
   "id": "11c73046",
   "metadata": {},
   "outputs": [],
   "source": [
    "y_pred=rf_b.predict(scaled_X_2017) "
   ]
  },
  {
   "cell_type": "code",
   "execution_count": 124,
   "id": "612c8bb4",
   "metadata": {},
   "outputs": [
    {
     "name": "stdout",
     "output_type": "stream",
     "text": [
      "The mean absoulte error of our best model for 2018 census data is 32015.919116855148\n",
      "The mean squared error of our best model for 2018 census data is 51847.66659174176\n"
     ]
    }
   ],
   "source": [
    "#regression matrices-mean absolute error(give you the prediction error)\n",
    "mae=mean_absolute_error(y_2017, y_pred)\n",
    "print(f'The mean absoulte error of our best model for 2017 census data is {mae}')\n",
    "\n",
    "#regression matrices-mean squared error(give you the prediction error)\n",
    "mse=mean_squared_error(y_2017, y_pred)\n",
    "rmse=np.sqrt(mse)\n",
    "print(f'The mean squared error of our best model for 2017 census data is {rmse}')"
   ]
  },
  {
   "cell_type": "code",
   "execution_count": 126,
   "id": "c6a161d0",
   "metadata": {},
   "outputs": [
    {
     "data": {
      "text/html": [
       "<div>\n",
       "<style scoped>\n",
       "    .dataframe tbody tr th:only-of-type {\n",
       "        vertical-align: middle;\n",
       "    }\n",
       "\n",
       "    .dataframe tbody tr th {\n",
       "        vertical-align: top;\n",
       "    }\n",
       "\n",
       "    .dataframe thead th {\n",
       "        text-align: right;\n",
       "    }\n",
       "</style>\n",
       "<table border=\"1\" class=\"dataframe\">\n",
       "  <thead>\n",
       "    <tr style=\"text-align: right;\">\n",
       "      <th></th>\n",
       "      <th>Actual House Value</th>\n",
       "      <th>Random Forest Predicted House Value</th>\n",
       "    </tr>\n",
       "    <tr>\n",
       "      <th>City</th>\n",
       "      <th></th>\n",
       "      <th></th>\n",
       "    </tr>\n",
       "  </thead>\n",
       "  <tbody>\n",
       "    <tr>\n",
       "      <th>Aguada</th>\n",
       "      <td>87300.0</td>\n",
       "      <td>91896.666667</td>\n",
       "    </tr>\n",
       "    <tr>\n",
       "      <th>Aguadilla</th>\n",
       "      <td>122300.0</td>\n",
       "      <td>111256.666667</td>\n",
       "    </tr>\n",
       "    <tr>\n",
       "      <th>Maricao</th>\n",
       "      <td>92700.0</td>\n",
       "      <td>81146.666667</td>\n",
       "    </tr>\n",
       "    <tr>\n",
       "      <th>Anasco</th>\n",
       "      <td>90300.0</td>\n",
       "      <td>94773.333333</td>\n",
       "    </tr>\n",
       "    <tr>\n",
       "      <th>Arecibo</th>\n",
       "      <td>97300.0</td>\n",
       "      <td>104426.666667</td>\n",
       "    </tr>\n",
       "    <tr>\n",
       "      <th>...</th>\n",
       "      <td>...</td>\n",
       "      <td>...</td>\n",
       "    </tr>\n",
       "    <tr>\n",
       "      <th>Craig</th>\n",
       "      <td>225700.0</td>\n",
       "      <td>303623.333333</td>\n",
       "    </tr>\n",
       "    <tr>\n",
       "      <th>Hydaburg</th>\n",
       "      <td>90700.0</td>\n",
       "      <td>76250.000000</td>\n",
       "    </tr>\n",
       "    <tr>\n",
       "      <th>Klawock</th>\n",
       "      <td>160900.0</td>\n",
       "      <td>189186.666667</td>\n",
       "    </tr>\n",
       "    <tr>\n",
       "      <th>Metlakatla</th>\n",
       "      <td>122600.0</td>\n",
       "      <td>211900.000000</td>\n",
       "    </tr>\n",
       "    <tr>\n",
       "      <th>Wrangell</th>\n",
       "      <td>195900.0</td>\n",
       "      <td>224466.666667</td>\n",
       "    </tr>\n",
       "  </tbody>\n",
       "</table>\n",
       "<p>29093 rows × 2 columns</p>\n",
       "</div>"
      ],
      "text/plain": [
       "            Actual House Value  Random Forest Predicted House Value\n",
       "City                                                               \n",
       "Aguada                 87300.0                         91896.666667\n",
       "Aguadilla             122300.0                        111256.666667\n",
       "Maricao                92700.0                         81146.666667\n",
       "Anasco                 90300.0                         94773.333333\n",
       "Arecibo                97300.0                        104426.666667\n",
       "...                        ...                                  ...\n",
       "Craig                 225700.0                        303623.333333\n",
       "Hydaburg               90700.0                         76250.000000\n",
       "Klawock               160900.0                        189186.666667\n",
       "Metlakatla            122600.0                        211900.000000\n",
       "Wrangell              195900.0                        224466.666667\n",
       "\n",
       "[29093 rows x 2 columns]"
      ]
     },
     "execution_count": 126,
     "metadata": {},
     "output_type": "execute_result"
    }
   ],
   "source": [
    "#Actual and predicated value of house using our best model\n",
    "house_value_2017=pd.DataFrame({'Actual House Value':y_2017, \n",
    "                'Random Forest Predicted House Value':y_pred},index=usa_2017.index)\n",
    "house_value_2017"
   ]
  },
  {
   "cell_type": "markdown",
   "id": "ccfff58d",
   "metadata": {},
   "source": [
    "## Conclusions"
   ]
  },
  {
   "cell_type": "markdown",
   "id": "7c9c7322",
   "metadata": {},
   "source": [
    "Our model suscefully predict the housing value of unseen data from 2017 Census with an prediction error of around $30000"
   ]
  }
 ],
 "metadata": {
  "kernelspec": {
   "display_name": "Python 3 (ipykernel)",
   "language": "python",
   "name": "python3"
  },
  "language_info": {
   "codemirror_mode": {
    "name": "ipython",
    "version": 3
   },
   "file_extension": ".py",
   "mimetype": "text/x-python",
   "name": "python",
   "nbconvert_exporter": "python",
   "pygments_lexer": "ipython3",
   "version": "3.8.10"
  }
 },
 "nbformat": 4,
 "nbformat_minor": 5
}
