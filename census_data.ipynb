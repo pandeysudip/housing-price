{
 "cells": [
  {
   "cell_type": "code",
   "execution_count": 8,
   "id": "b1acf688",
   "metadata": {},
   "outputs": [],
   "source": [
    "# Dependencies and Setup\n",
    "import pandas as pd\n",
    "import matplotlib.pyplot as plt\n",
    "import seaborn as sns\n",
    "import numpy as np\n",
    "from matplotlib import rcParams\n",
    "import scipy.stats as sts\n",
    "import os\n",
    "from collections import Counter\n",
    "import requests\n",
    "import json\n",
    "from census import Census\n",
    "from uszipcode import SearchEngine\n",
    "\n",
    "# API Keys\n",
    "from api_keys import gkey\n",
    "from api_keys import census_key"
   ]
  },
  {
   "cell_type": "markdown",
   "id": "cdcad286",
   "metadata": {},
   "source": [
    "## Using Census API to get data for different US zip codes "
   ]
  },
  {
   "cell_type": "code",
   "execution_count": null,
   "id": "59c2d9e8",
   "metadata": {},
   "outputs": [],
   "source": [
    "#Recording different year census data\n",
    "all_census=[]\n",
    "for i in [2012,2014,2015,2017,2019]:\n",
    "    c = Census(census_key, year=i)\n",
    "    census_data = c.acs5.get((\"NAME\", \"B19013_001E\", \"B02001_002E\",\"B02001_003E\",\n",
    "                           \"B03001_003E\",\"B02001_005E\",\"B01003_001E\", \"B01002_001E\",\n",
    "                          \"B19301_001E\",\"B17001_002E\",\"B23025_005E\",\"B25077_001E\",\"B08136_003E\",\n",
    "                          \"B25035_001E\",\"B25088_002E\",\"B25064_001E\",\"B08301_001E\",\n",
    "                          \"B08301_010E\",\"B08301_003E\",\"B08136_007E\",\"B15003_017E\",\n",
    "                          \"B15003_022E\",\"B15003_002E\",\"B16001_002E\",\"B16001_003E\"),\n",
    "                          {'for': 'zip code tabulation area:*'})\n",
    "\n",
    "    # Convert to DataFrame\n",
    "    census_df = pd.DataFrame(census_data)\n",
    "\n",
    "    # Column Reordering\n",
    "    census_df = census_df.rename(columns={\"B01003_001E\": \"Population\",\n",
    "                                      \"B02001_002E\":\"Population White\",\n",
    "                                      \"B02001_003E\": \"Population Black\",\n",
    "                                      \"B03001_003E\": \"Population Hispanic\",\n",
    "                                      \"B02001_005E\": \"Population Asian\",\n",
    "                                      \"B01002_001E\": \"Median Age\",\n",
    "                                      \"B19013_001E\": \"Household Income\",\n",
    "                                      \"B19301_001E\": \"Per Capita Income\",\n",
    "                                      \"B17001_002E\": \"Poverty Count\",\n",
    "                                      \"B23025_005E\": \"Unemployment Count\",\n",
    "                                      \"B25077_001E\":\"House Value\",\n",
    "                                      \"B25035_001E\": \"House Construction Year\",\n",
    "                                      \"B25088_002E\":\"Monthly Owner Cost\",\n",
    "                                      \"B25064_001E\":\"Monthly Rent\",\n",
    "                                      \"B08301_001E\":\"Total Transport\",\n",
    "                                      \"B08301_010E\":\"Public Transport\",\n",
    "                                      \"B08301_003E\":\"Personal Transport\",\n",
    "                                      \"B08136_007E\":\"Commute Time Public\",\n",
    "                                      \"B08136_003E\":\"Commute Time Car\",\n",
    "                                      \"B15003_017E\":\"High School Count\",\n",
    "                                      \"B15003_022E\":\"College Count\",\n",
    "                                      \"B15003_002E\":\"Uneducated Count\",\n",
    "                                      \"B16001_002E\":\"English Language\",\n",
    "                                      \"B16001_003E\":\"Spanish Language\",\n",
    "                                      \"NAME\": \"Name\", \"zip code tabulation area\": \"Zipcode\"})\n",
    "\n",
    "    # Add in Poverty Rate (Poverty Count / Population)\n",
    "    census_df[\"Poverty Rate\"] = (100 * \n",
    "                census_df[\"Poverty Count\"].astype(\n",
    "                    int) / census_df[\"Population\"].astype(int))\n",
    "\n",
    "    # Add in Employment Rate (Employment Count / Population)\n",
    "    census_df[\"Unemployment Rate\"] = (100 * \n",
    "                census_df[\"Unemployment Count\"].astype(\n",
    "                    int) / census_df[\"Population\"].astype(int))\n",
    "\n",
    "    # Add in High school education Rate (High School Count / Population)\n",
    "    census_df[\"High School Rate\"] = (100 * \n",
    "                census_df[\"High School Count\"].astype(\n",
    "                    int) / census_df[\"Population\"].astype(int))\n",
    "\n",
    "    # Add in College Education Rate (College Count / Population)\n",
    "    census_df[\"College Rate\"] = (100 * \n",
    "                census_df[\"College Count\"].astype(\n",
    "                    int) / census_df[\"Population\"].astype(int))\n",
    "\n",
    "    # Add in Uneducated Rate (uneducated Count / Population)\n",
    "    census_df[\"Uneducated Rate\"] = (100 * \n",
    "                census_df[\"Uneducated Count\"].astype(\n",
    "                    int) / census_df[\"Population\"].astype(int))\n",
    "\n",
    "    # Add in Public Transport Rate (Public Transport / Total Transportation)\n",
    "    census_df[\"Public Transport Rate\"] = (100 * \n",
    "                census_df[\"Public Transport\"].astype(\n",
    "                    int) / census_df[\"Total Transport\"].astype(int))\n",
    "\n",
    "    # Add in Personal Transport Rate (Personal Transport  / Total transportation)\n",
    "    census_df[\"Personal Transport Rate\"] = (100 * \n",
    "                census_df[\"Personal Transport\"].astype(\n",
    "                    int) / census_df[\"Total Transport\"].astype(int))\n",
    "    \n",
    "    # Add in English Language Rate\n",
    "    #census_df[\"English Language Rate\"] = (100 * \n",
    "                #census_df[\"English Language\"].astype(\n",
    "                    #int) / census_df[\"Population\"].astype(int))\n",
    "    # Add in Spanish Language Rate\n",
    "    #census_df[\"Spanish Language Rate\"] = (100 * \n",
    "                #census_df[\"Spanish Language\"].astype(\n",
    "                    #int) / census_df[\"Population\"].astype(int))\n",
    "\n",
    "    # Add in White Population Rate\n",
    "    census_df[\"White Population Rate\"] = (100 * \n",
    "                census_df[\"Population White\"].astype(\n",
    "                    int) / census_df[\"Population\"].astype(int))\n",
    "\n",
    "    # Add in Black Population Rate\n",
    "    census_df[\"Black Population Rate\"] = (100 * \n",
    "                census_df[\"Population Black\"].astype(\n",
    "                    int) / census_df[\"Population\"].astype(int))\n",
    "\n",
    "    # Add in Hispanic Population Rate (Population Hispanic / Total Population)\n",
    "    census_df[\"Hispanic Population Rate\"] = (100 * \n",
    "                census_df[\"Population Hispanic\"].astype(\n",
    "                    int) / census_df[\"Population\"].astype(int))\n",
    "\n",
    "    # Add in Asian Population Rate (Population Asian  / Total population)\n",
    "    census_df[\"Asian Population Rate\"] = (100 * \n",
    "                census_df[\"Population Asian\"].astype(\n",
    "                    int) / census_df[\"Population\"].astype(int))\n",
    "\n",
    "    # Final DataFrame\n",
    "    census_df = census_df[[\"Zipcode\", \"Population\", \"Median Age\", \"Household Income\",\n",
    "                       \"Per Capita Income\", \"Poverty Rate\", \n",
    "                       \"Unemployment Rate\", \"House Value\",\"House Construction Year\",\n",
    "                      \"Monthly Owner Cost\", \"Monthly Rent\",\"Public Transport Rate\",\n",
    "                      \"Personal Transport Rate\",\"Commute Time Public\",\"Commute Time Car\",\n",
    "                    \"High School Rate\",\"College Rate\",\"Uneducated Rate\", 'English Language',#\"English Language Rate\",\n",
    "                      \"Spanish Language\",\"White Population Rate\",\"Black Population Rate\",\n",
    "                      \"Hispanic Population Rate\",\"Asian Population Rate\"]]\n",
    "    #appending dataframe to all census list\n",
    "    all_census.append(census_df)"
   ]
  },
  {
   "cell_type": "code",
   "execution_count": null,
   "id": "c3871623",
   "metadata": {},
   "outputs": [],
   "source": [
    "# Save different years data as a csv \n",
    "for i,census in zip([2012,2014,2015,2017,2019],all_census):\n",
    "    census.to_csv(f\"output_census/census_data_{i}.csv\", encoding=\"utf-8\", index=False)"
   ]
  },
  {
   "cell_type": "markdown",
   "id": "ea802c98",
   "metadata": {},
   "source": [
    "### Reading US census csv for different years "
   ]
  },
  {
   "cell_type": "code",
   "execution_count": 9,
   "id": "2b501167",
   "metadata": {},
   "outputs": [],
   "source": [
    "#reading 2012 census data\n",
    "path_2012=os.path.join('output_census', 'census_data_2012.csv')\n",
    "census_2012=pd.read_csv(path_2012)"
   ]
  },
  {
   "cell_type": "code",
   "execution_count": null,
   "id": "3506eb0d",
   "metadata": {},
   "outputs": [],
   "source": [
    "#reading 2014 census data\n",
    "path_2014=os.path.join('output_census', 'census_data_2014.csv')\n",
    "census_2014=pd.read_csv(path_2012)"
   ]
  },
  {
   "cell_type": "code",
   "execution_count": null,
   "id": "091a41d7",
   "metadata": {},
   "outputs": [],
   "source": [
    "#reading 2015 census data\n",
    "path_2015=os.path.join('output_census', 'census_data_2015.csv')\n",
    "census_2015=pd.read_csv(path_2012)"
   ]
  },
  {
   "cell_type": "code",
   "execution_count": null,
   "id": "c7a6a2e4",
   "metadata": {},
   "outputs": [],
   "source": [
    "#reading 2017 census data\n",
    "path_2017=os.path.join('output_census', 'census_data_2017.csv')\n",
    "census_2017=pd.read_csv(path_2012)"
   ]
  },
  {
   "cell_type": "code",
   "execution_count": null,
   "id": "e1c522df",
   "metadata": {},
   "outputs": [],
   "source": [
    "#reading 2019 census data\n",
    "path_2019=os.path.join('output_census', 'census_data_2019.csv')\n",
    "census_2019=pd.read_csv(path_2012)"
   ]
  },
  {
   "cell_type": "code",
   "execution_count": null,
   "id": "1970a9b2",
   "metadata": {},
   "outputs": [],
   "source": [
    "census_2012"
   ]
  },
  {
   "cell_type": "code",
   "execution_count": null,
   "id": "7ee29358",
   "metadata": {},
   "outputs": [],
   "source": [
    "combined_census= census_2012.merge(census_2014,\n",
    "                        how='outer', on='Zipcode', \n",
    "                        suffixes=['(2012)', '(2014)']).merge(census_2015,\n",
    "                        how='outer', on='Zipcode').merge(census_2017,\n",
    "                        how='outer', on='Zipcode', suffixes=['(2015)', '(2017)']).merge(\n",
    "                        census_2019,how='outer', on='Zipcode')"
   ]
  },
  {
   "cell_type": "code",
   "execution_count": null,
   "id": "a82c75bb",
   "metadata": {},
   "outputs": [],
   "source": [
    "search = SearchEngine()\n",
    "zipcode = search.by_zipcode(\"92122\")\n",
    "print(zipcode)"
   ]
  },
  {
   "cell_type": "code",
   "execution_count": null,
   "id": "f459a58e",
   "metadata": {},
   "outputs": [],
   "source": []
  },
  {
   "cell_type": "code",
   "execution_count": null,
   "id": "60ec37cb",
   "metadata": {},
   "outputs": [],
   "source": []
  },
  {
   "cell_type": "code",
   "execution_count": 10,
   "id": "f54ca54b",
   "metadata": {},
   "outputs": [],
   "source": [
    "#Adding new columns with empty to census 2012\n",
    "census_2012[\"City\"]=''\n",
    "census_2012[\"County\"]=''\n",
    "census_2012['Lat']=''\n",
    "census_2012['Lng']=''\n",
    "census_2012['Housing_units']=''\n",
    "for index, row in census_2012.iterrows():\n",
    "\n",
    "    # get zipcode type from df\n",
    "    zipcode = int(row['Zipcode'])\n",
    "    #Searching by zipcode\n",
    "    search = SearchEngine()\n",
    "    results = search.by_zipcode(str(zipcode))\n",
    "    #adding to City columns\n",
    "    try:\n",
    "        census_2012.loc[index, 'City'] = results.city\n",
    "        census_2012.loc[index, 'County'] = results.county\n",
    "        census_2012.loc[index, 'Lat'] = results.lat\n",
    "        census_2012.loc[index, 'Lng'] = results.lng\n",
    "        census_2012.loc[index, 'Housing_units'] = results.housing_units\n",
    "    except (KeyError, IndexError):\n",
    "        print(\"Missing field/result for... skipping.\")"
   ]
  },
  {
   "cell_type": "code",
   "execution_count": 13,
   "id": "66227f16",
   "metadata": {},
   "outputs": [
    {
     "data": {
      "text/plain": [
       "Index(['Zipcode', 'Population', 'Median Age', 'Household Income',\n",
       "       'Per Capita Income', 'Poverty Rate', 'Unemployment Rate', 'House Value',\n",
       "       'House Construction Year', 'Monthly Owner Cost', 'Monthly Rent',\n",
       "       'Public Transport Rate', 'Personal Transport Rate',\n",
       "       'Commute Time Public', 'Commute Time Car', 'High School Rate',\n",
       "       'College Rate', 'Uneducated Rate', 'English Language Rate',\n",
       "       'Spanish Language Rate', 'White Population Rate',\n",
       "       'Black Population Rate', 'Hispanic Population Rate',\n",
       "       'Asian Population Rate', 'City', 'County', 'Lat', 'Lng',\n",
       "       'Housing_units'],\n",
       "      dtype='object')"
      ]
     },
     "execution_count": 13,
     "metadata": {},
     "output_type": "execute_result"
    }
   ],
   "source": [
    "census_2012.columns"
   ]
  },
  {
   "cell_type": "code",
   "execution_count": null,
   "id": "02f361e0",
   "metadata": {},
   "outputs": [],
   "source": []
  }
 ],
 "metadata": {
  "kernelspec": {
   "display_name": "Python 3 (ipykernel)",
   "language": "python",
   "name": "python3"
  },
  "language_info": {
   "codemirror_mode": {
    "name": "ipython",
    "version": 3
   },
   "file_extension": ".py",
   "mimetype": "text/x-python",
   "name": "python",
   "nbconvert_exporter": "python",
   "pygments_lexer": "ipython3",
   "version": "3.8.10"
  }
 },
 "nbformat": 4,
 "nbformat_minor": 5
}
