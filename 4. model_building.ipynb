{
 "cells": [
  {
   "cell_type": "markdown",
   "id": "4f3c1f10",
   "metadata": {},
   "source": [
    "## Model Building and Predicting House Price of Unseen Data"
   ]
  },
  {
   "cell_type": "markdown",
   "id": "cf221e71",
   "metadata": {},
   "source": [
    "#### Things to do\n",
    "- Choose relevent columns\n",
    "- Get dummy data if any categoral columns\n",
    "- Scale the columns using Standard Scaler\n",
    "- Do train test split\n",
    "- Multiple linear regression\n",
    "- Lasso regression\n",
    "- Decision Tree Regressor\n",
    "- Random forest Regressor\n",
    "- Tune hyperparameters  using Grid Search CV\n",
    "- Predict on test set\n",
    "- Predict on unseen data from different year"
   ]
  },
  {
   "cell_type": "code",
   "execution_count": 1,
   "id": "04504bb5",
   "metadata": {},
   "outputs": [],
   "source": [
    "#importing models\n",
    "import pandas as pd\n",
    "import numpy as np\n",
    "import os\n",
    "import matplotlib.pyplot as plt\n",
    "import statsmodels.api as sm\n",
    "import seaborn as sns\n",
    "from scipy import stats\n",
    "import warnings\n",
    "from matplotlib import rcParams\n",
    "#importing sklearn models\n",
    "from sklearn.model_selection import train_test_split\n",
    "from sklearn.linear_model import LinearRegression\n",
    "from sklearn.model_selection import cross_val_score\n",
    "from sklearn.linear_model import Lasso\n",
    "from sklearn.linear_model import Ridge\n",
    "from sklearn.svm import LinearSVR\n",
    "from sklearn.svm import SVR\n",
    "from sklearn.ensemble import RandomForestRegressor\n",
    "from sklearn.tree import DecisionTreeRegressor\n",
    "from sklearn.model_selection import GridSearchCV\n",
    "from sklearn.model_selection import RandomizedSearchCV\n",
    "from sklearn.metrics import mean_absolute_error, r2_score\n",
    "from sklearn.metrics import mean_squared_error"
   ]
  },
  {
   "cell_type": "markdown",
   "id": "3be13f1b",
   "metadata": {},
   "source": [
    "## Building model on 2019 US Census data"
   ]
  },
  {
   "cell_type": "code",
   "execution_count": 2,
   "id": "f7a267b2",
   "metadata": {},
   "outputs": [
    {
     "data": {
      "text/plain": [
       "Index(['Population', 'Median Age', 'Household Income', 'Per Capita Income',\n",
       "       'Poverty Rate', 'Unemployment Rate', 'House Value',\n",
       "       'House Construction Year', 'Monthly Owner Cost', 'Monthly Rent',\n",
       "       'Public Transport Rate', 'Personal Transport Rate', 'High School Rate',\n",
       "       'College Rate', 'Uneducated Rate', 'White Population Rate',\n",
       "       'Black Population Rate', 'Hispanic Population Rate',\n",
       "       'Asian Population Rate', 'City', 'Lat', 'Lng', 'Housing_units'],\n",
       "      dtype='object')"
      ]
     },
     "execution_count": 2,
     "metadata": {},
     "output_type": "execute_result"
    }
   ],
   "source": [
    "# 2019 usa cleaned data for machine learning\n",
    "path=os.path.join('output_census', 'usa_2019_ml1.csv')\n",
    "usa_2019=pd.read_csv(path)\n",
    "usa_2019.columns"
   ]
  },
  {
   "cell_type": "code",
   "execution_count": 3,
   "id": "5fedc12d",
   "metadata": {},
   "outputs": [],
   "source": [
    "#selecting important columns\n",
    "usa_2019=usa_2019[[ 'City','House Value','Monthly Owner Cost','Per Capita Income',\n",
    "                   'Lng','Household Income','College Rate','Lat',\n",
    "                    'Personal Transport Rate','High School Rate','Median Age',\n",
    "                    'Public Transport Rate','Population']]\n"
   ]
  },
  {
   "cell_type": "code",
   "execution_count": 4,
   "id": "fc730542",
   "metadata": {},
   "outputs": [],
   "source": [
    "#seting city as a index\n",
    "usa_2019.set_index('City', inplace=True)"
   ]
  },
  {
   "cell_type": "code",
   "execution_count": 5,
   "id": "c0378708",
   "metadata": {},
   "outputs": [
    {
     "name": "stdout",
     "output_type": "stream",
     "text": [
      "Index(['Aguada', 'Aguadilla', 'Maricao', 'Anasco', 'Arecibo', 'Bajadero',\n",
      "       'Barceloneta', 'Boqueron', 'Cabo Rojo', 'Camuy',\n",
      "       ...\n",
      "       'Kake', 'Petersburg', 'Sitka', 'Skagway', 'Ketchikan', 'Thorne Bay',\n",
      "       'Craig', 'Klawock', 'Metlakatla', 'Wrangell'],\n",
      "      dtype='object', name='City', length=26222)\n",
      "Index(['House Value', 'Monthly Owner Cost', 'Per Capita Income', 'Lng',\n",
      "       'Household Income', 'College Rate', 'Lat', 'Personal Transport Rate',\n",
      "       'High School Rate', 'Median Age', 'Public Transport Rate',\n",
      "       'Population'],\n",
      "      dtype='object')\n"
     ]
    }
   ],
   "source": [
    "#index andcolumns of our data sets\n",
    "index=usa_2019.index\n",
    "columns=usa_2019.columns\n",
    "print(index)\n",
    "print(columns)"
   ]
  },
  {
   "cell_type": "markdown",
   "id": "a5adbbfc",
   "metadata": {},
   "source": [
    "#### Prepare a feature matrix (X) and response (y)  for scikit-learn."
   ]
  },
  {
   "cell_type": "code",
   "execution_count": 6,
   "id": "43d158a2",
   "metadata": {},
   "outputs": [],
   "source": [
    "# create feature matrix (X)\n",
    "#selecting all columns except 'House Value'\n",
    "X=usa_2019.drop('House Value', axis=1) \n",
    "\n",
    "# create response vector (y)\n",
    "##selecting 'House Value'\n",
    "y=usa_2019['House Value'].values  "
   ]
  },
  {
   "cell_type": "markdown",
   "id": "e7a49900",
   "metadata": {},
   "source": [
    "#### Splitting data in train and test set"
   ]
  },
  {
   "cell_type": "code",
   "execution_count": 7,
   "id": "04e1b7f4",
   "metadata": {},
   "outputs": [],
   "source": [
    "#Training set**: Used to train the classifier.\n",
    "#Testing set**: Used to estimate the error rate of the trained classifier.\n",
    "#Also using train_index and test_index to get train and test data index \n",
    "X_train, X_test, y_train, y_test,train_index, test_index = train_test_split(\n",
    "                               X, y,index, test_size=0.2, random_state=42)"
   ]
  },
  {
   "cell_type": "code",
   "execution_count": 8,
   "id": "1e7ba34c",
   "metadata": {},
   "outputs": [
    {
     "name": "stdout",
     "output_type": "stream",
     "text": [
      "Shape of X_train=(20977, 11)\n",
      "Shape of X_test=(5245, 11)\n",
      "Shape of y_train=(20977,)\n",
      "Shape of X_test=(5245,)\n"
     ]
    }
   ],
   "source": [
    "print(f'Shape of X_train={X_train.shape}')\n",
    "print(f'Shape of X_test={X_test.shape}')\n",
    "print(f'Shape of y_train={y_train.shape}')\n",
    "print(f'Shape of X_test={y_test.shape}')"
   ]
  },
  {
   "cell_type": "markdown",
   "id": "366f251d",
   "metadata": {},
   "source": [
    "#### Scaling using standard scaler on feature matrix (X) "
   ]
  },
  {
   "cell_type": "code",
   "execution_count": 77,
   "id": "297063a8",
   "metadata": {},
   "outputs": [],
   "source": [
    "#Different columns have differnt scale so standrazied it \n",
    "#features scaling using standard scaler on x only\n",
    "from sklearn.preprocessing import StandardScaler\n",
    "std_scaler=StandardScaler()\n",
    "scaled_X_train=std_scaler.fit_transform(X_train)\n",
    "scaled_X_test=std_scaler.transform(X_test)"
   ]
  },
  {
   "cell_type": "code",
   "execution_count": 78,
   "id": "8d0a3185",
   "metadata": {},
   "outputs": [
    {
     "name": "stdout",
     "output_type": "stream",
     "text": [
      "(20977, 11)\n",
      "(26222,)\n"
     ]
    }
   ],
   "source": [
    "#shape of the X and y\n",
    "print(scaled_X_train.shape)\n",
    "print(y.shape)"
   ]
  },
  {
   "cell_type": "markdown",
   "id": "8bd2a6b9",
   "metadata": {},
   "source": [
    "### Evaluation Metric"
   ]
  },
  {
   "cell_type": "markdown",
   "id": "5e6b4d00",
   "metadata": {},
   "source": [
    "To evaluate a model, we also need an **evaluation metric:**\n",
    "\n",
    "- A numeric calculation used to **quantify** the performance of a model.\n",
    "- The appropriate metric depends on the **goals** of your problem.\n",
    "\n",
    "The most common choices for regression problems are:\n",
    "\n",
    "- **R-squared**: The percentage of variation explained by the model (a \"reward function,\" as higher is better).\n",
    "- **Mean squared error**: The average squared distance between the prediction and the correct answer (a \"loss function,\" as lower is better).\n",
    "- **Mean absolute error**: The average absolute distance between the prediction and the correct answer (a \"loss function,\" as lower is better).\n",
    "\n",
    "In this case, we'll use mean squared error, R2, and mean absolute error because it is more interpretable in a predictive context."
   ]
  },
  {
   "cell_type": "markdown",
   "id": "9d48584d",
   "metadata": {},
   "source": [
    "## Linear Regression"
   ]
  },
  {
   "cell_type": "code",
   "execution_count": 11,
   "id": "d7bec82e",
   "metadata": {},
   "outputs": [
    {
     "data": {
      "text/plain": [
       "LinearRegression()"
      ]
     },
     "execution_count": 11,
     "metadata": {},
     "output_type": "execute_result"
    }
   ],
   "source": [
    "#using linear regression\n",
    "# Make a linear regression instance\n",
    "lr=LinearRegression()\n",
    "# Training the model on the data, storing the information learned from the data\n",
    "# Model is learning the relationship between X and y \n",
    "lr.fit(scaled_X_train, y_train)\n"
   ]
  },
  {
   "cell_type": "code",
   "execution_count": 12,
   "id": "f28738ff",
   "metadata": {},
   "outputs": [
    {
     "name": "stdout",
     "output_type": "stream",
     "text": [
      "R2 Score of training set 0.8348136946474434\n",
      "R2 Score of testing  set  0.8384201779423417\n"
     ]
    }
   ],
   "source": [
    "#Printing the R2 score of test and train set\n",
    "print(f'R2 Score of training set {lr.score(scaled_X_train, y_train)}')\n",
    "print(f'R2 Score of testing  set  {lr.score(scaled_X_test, y_test)}')"
   ]
  },
  {
   "cell_type": "markdown",
   "id": "a54f4cec",
   "metadata": {},
   "source": [
    "#### Create a cross-valiation with five folds.\n",
    "-  Cross valiation allows the training set into distinct subsets called folds.\n",
    "- A model is trained using k-1 of the folds as training data"
   ]
  },
  {
   "cell_type": "code",
   "execution_count": 13,
   "id": "0098d62f",
   "metadata": {},
   "outputs": [
    {
     "data": {
      "text/plain": [
       "array([-44911.89270734, -44921.806391  , -45232.50037804, -45601.30936043,\n",
       "       -45022.84434751])"
      ]
     },
     "execution_count": 13,
     "metadata": {},
     "output_type": "execute_result"
    }
   ],
   "source": [
    "#score of training set using cross_val_score\n",
    "cross_val_score(lr, scaled_X_train, y_train, scoring='neg_mean_absolute_error', cv=5)"
   ]
  },
  {
   "cell_type": "code",
   "execution_count": 14,
   "id": "63ab5c3e",
   "metadata": {},
   "outputs": [
    {
     "name": "stdout",
     "output_type": "stream",
     "text": [
      "The R2 of Linear Regression is 0.8344038087752625\n",
      "The mean squared error of Linear Regression is 76566.01500729908\n",
      "The mean absolute error of Linear Regression is 45138.07063686245\n"
     ]
    }
   ],
   "source": [
    "#score of training set using cross_val_score\n",
    "lr_r2=np.mean(cross_val_score(lr, scaled_X_train, y_train, cv=5))\n",
    "print(f'The R2 of Linear Regression is {lr_r2}')\n",
    "\n",
    "#cross validation features gives greater is better, so score function is opposite of \n",
    "#MSE so we need to use -ve to get mse\n",
    "lr_mse=np.mean(cross_val_score(lr, scaled_X_train, y_train, cv=5, scoring='neg_mean_squared_error'))\n",
    "lr_rmse=np.sqrt(-(lr_mse))\n",
    "print(f'The mean squared error of Linear Regression is {lr_rmse}')\n",
    "\n",
    "#mean absolute error\n",
    "lr_mae=np.mean(cross_val_score(lr, scaled_X_train, y_train, cv=5, scoring='neg_mean_absolute_error'))\n",
    "lr_mae=(-(lr_mae))\n",
    "print(f'The mean absolute error of Linear Regression is {lr_mae}')"
   ]
  },
  {
   "cell_type": "markdown",
   "id": "a0ad63ba",
   "metadata": {},
   "source": [
    "## Ridge Regression"
   ]
  },
  {
   "cell_type": "code",
   "execution_count": 15,
   "id": "2929908e",
   "metadata": {},
   "outputs": [
    {
     "data": {
      "text/plain": [
       "Ridge()"
      ]
     },
     "execution_count": 15,
     "metadata": {},
     "output_type": "execute_result"
    }
   ],
   "source": [
    "#using ridge regression(ridge make some features going to near zero)\n",
    "#alpha=0 no regularization( all features are used)\n",
    "# Make a ridge regression instance\n",
    "lr_r=Ridge()\n",
    "lr_r.fit(scaled_X_train, y_train)\n"
   ]
  },
  {
   "cell_type": "code",
   "execution_count": 16,
   "id": "d96af3fd",
   "metadata": {},
   "outputs": [
    {
     "name": "stdout",
     "output_type": "stream",
     "text": [
      "R2 Score of training set 0.8348136889038721\n",
      "R2 Score of testing set  0.8384208604613155\n"
     ]
    }
   ],
   "source": [
    "#Printing the R2 score of test and train set\n",
    "print(f'R2 Score of training set {lr_r.score(scaled_X_train, y_train)}')\n",
    "print(f'R2 Score of testing set  {lr_r.score(scaled_X_test, y_test)}')"
   ]
  },
  {
   "cell_type": "markdown",
   "id": "02a4c607",
   "metadata": {},
   "source": [
    "#### Create a cross-valiation with five folds."
   ]
  },
  {
   "cell_type": "code",
   "execution_count": 17,
   "id": "fc5274b5",
   "metadata": {},
   "outputs": [
    {
     "data": {
      "text/plain": [
       "array([-44685.22035577, -45133.75753392, -45614.9985192 ])"
      ]
     },
     "execution_count": 17,
     "metadata": {},
     "output_type": "execute_result"
    }
   ],
   "source": [
    "#score of training set using cross_val_score\n",
    "cross_val_score(lr_r, scaled_X_train, y_train, scoring='neg_mean_absolute_error', cv=3)"
   ]
  },
  {
   "cell_type": "code",
   "execution_count": 18,
   "id": "5caf5dbe",
   "metadata": {},
   "outputs": [
    {
     "name": "stdout",
     "output_type": "stream",
     "text": [
      "The R2 of Ridge Regression is 0.83440401131164\n",
      "The mean squared error of Ridge Regression is 76565.98637132603\n",
      "The mean absolute error of Ridge Regression is 45136.39711576419\n"
     ]
    }
   ],
   "source": [
    "#score of training set using cross_val_score\n",
    "lr_r_r2=np.mean(cross_val_score(lr_r, scaled_X_train, y_train, cv=5))\n",
    "print(f'The R2 of Ridge Regression is {lr_r_r2}')\n",
    "\n",
    "#cross validation features gives greater is better, so score function is opposite of \n",
    "#MSE so we need to use -ve to get mse\n",
    "lr_r_mse=np.mean(cross_val_score(lr_r, scaled_X_train, y_train, cv=5, scoring='neg_mean_squared_error'))\n",
    "lr_r_rmse=np.sqrt(-(lr_r_mse))\n",
    "print(f'The mean squared error of Ridge Regression is {lr_r_rmse}')\n",
    "\n",
    "#mean absolute error\n",
    "lr_r_mae=np.mean(cross_val_score(lr_r, scaled_X_train, y_train, cv=5, scoring='neg_mean_absolute_error'))\n",
    "lr_r_mae=(-(lr_r_mae))\n",
    "print(f'The mean absolute error of Ridge Regression is {lr_r_mae}')"
   ]
  },
  {
   "cell_type": "code",
   "execution_count": 19,
   "id": "92ec4296",
   "metadata": {},
   "outputs": [
    {
     "data": {
      "image/png": "[encoded data removed]",
      "text/plain": [
       "<Figure size 432x288 with 1 Axes>"
      ]
     },
     "metadata": {
      "needs_background": "light"
     },
     "output_type": "display_data"
    }
   ],
   "source": [
    "#choosing the best alpha\n",
    "alpha=[]\n",
    "error=[]\n",
    "for i in range(1,1000,50):\n",
    "    alpha.append(i/10)\n",
    "    lrr=Ridge(alpha=(i/10))\n",
    "    error.append(np.mean(cross_val_score(lrr, scaled_X_train, y_train, scoring='neg_mean_absolute_error',\n",
    "                                         cv=5)))\n",
    "plt.plot(alpha,error) \n",
    "plt.show()"
   ]
  },
  {
   "cell_type": "code",
   "execution_count": 20,
   "id": "bd213171",
   "metadata": {},
   "outputs": [
    {
     "data": {
      "text/plain": [
       "Ridge(alpha=10)"
      ]
     },
     "execution_count": 20,
     "metadata": {},
     "output_type": "execute_result"
    }
   ],
   "source": [
    "#choosing the best alpha (look figure where alpha start to saturate)\n",
    "lrr=Ridge(alpha=10)\n",
    "lrr.fit(X_train, y_train)\n"
   ]
  },
  {
   "cell_type": "code",
   "execution_count": 21,
   "id": "24a8d30f",
   "metadata": {},
   "outputs": [
    {
     "name": "stdout",
     "output_type": "stream",
     "text": [
      "R2 Score of training set with alpha 40 -6.374847211708259\n",
      "R2 Score of testing set with alpha 40 -6.152493009518381\n"
     ]
    }
   ],
   "source": [
    "#Printing the R2 score of test and train set \n",
    "print(f'R2 Score of training set with alpha 40 {lrr.score(scaled_X_train, y_train)}')\n",
    "print(f'R2 Score of testing set with alpha 40 {lrr.score(scaled_X_test, y_test)}')"
   ]
  },
  {
   "cell_type": "markdown",
   "id": "3c9ebc6a",
   "metadata": {},
   "source": [
    "#### Create a cross-valiation with five folds."
   ]
  },
  {
   "cell_type": "code",
   "execution_count": 22,
   "id": "2fe044f5",
   "metadata": {},
   "outputs": [
    {
     "data": {
      "text/plain": [
       "array([-44685.22035577, -45133.75753392, -45614.9985192 ])"
      ]
     },
     "execution_count": 22,
     "metadata": {},
     "output_type": "execute_result"
    }
   ],
   "source": [
    "#score of training set using cross_val_score\n",
    "cross_val_score(lr_r, scaled_X_train, y_train, scoring='neg_mean_absolute_error', cv=3)"
   ]
  },
  {
   "cell_type": "code",
   "execution_count": 23,
   "id": "fc21a770",
   "metadata": {},
   "outputs": [
    {
     "name": "stdout",
     "output_type": "stream",
     "text": [
      "The R2 of Ridge Regression with alpha 10 is 0.8344050202155004\n",
      "The mean squared error of Ridge Regression with alpha 10 is 76565.98637132603\n",
      "The mean absolute error of Ridge Regression with alpha 10 is 45136.39711576419\n"
     ]
    }
   ],
   "source": [
    "#score of training set using cross_val_score\n",
    "lrr_r2=np.mean(cross_val_score(lrr, scaled_X_train, y_train, cv=5))\n",
    "print(f'The R2 of Ridge Regression with alpha 10 is {lrr_r2}')\n",
    "\n",
    "#cross validation features gives greater is better, so score function is opposite of \n",
    "#MSE so we need to use -ve to get mse\n",
    "lrr_mse=np.mean(cross_val_score(lr_r, scaled_X_train, y_train, cv=5, scoring='neg_mean_squared_error'))\n",
    "lrr_rmse=np.sqrt(-(lrr_mse))\n",
    "print(f'The mean squared error of Ridge Regression with alpha 10 is {lrr_rmse}')\n",
    "\n",
    "#mean absolute error\n",
    "lrr_mae=np.mean(cross_val_score(lr_r, scaled_X_train, y_train, cv=5, scoring='neg_mean_absolute_error'))\n",
    "lrr_mae=(-(lrr_mae))\n",
    "print(f'The mean absolute error of Ridge Regression with alpha 10 is {lrr_mae}')"
   ]
  },
  {
   "cell_type": "markdown",
   "id": "750a7cc4",
   "metadata": {},
   "source": [
    "## Laso Regression"
   ]
  },
  {
   "cell_type": "code",
   "execution_count": 24,
   "id": "95f1866d",
   "metadata": {},
   "outputs": [
    {
     "data": {
      "text/plain": [
       "Lasso()"
      ]
     },
     "execution_count": 24,
     "metadata": {},
     "output_type": "execute_result"
    }
   ],
   "source": [
    "#using lassoregression(lasso make some features going to exactly zero)\n",
    "#alpha=0 no regularization( all features are used)\n",
    "# Make a lasso regression instance\n",
    "lr_l=Lasso()\n",
    "lr_l.fit(scaled_X_train, y_train)\n"
   ]
  },
  {
   "cell_type": "code",
   "execution_count": 25,
   "id": "a884641b",
   "metadata": {},
   "outputs": [
    {
     "name": "stdout",
     "output_type": "stream",
     "text": [
      "R2 Score of training set 0.8348136937849526\n",
      "R2 Score of testing set  0.8384200924398116\n"
     ]
    }
   ],
   "source": [
    "#Printing the R2 score of test and train set\n",
    "print(f'R2 Score of training set {lr_l.score(scaled_X_train, y_train)}')\n",
    "print(f'R2 Score of testing set  {lr_l.score(scaled_X_test, y_test)}')"
   ]
  },
  {
   "cell_type": "markdown",
   "id": "634a97ea",
   "metadata": {},
   "source": [
    "#### Create a cross-valiation with five folds."
   ]
  },
  {
   "cell_type": "code",
   "execution_count": 26,
   "id": "67a4f7a3",
   "metadata": {},
   "outputs": [
    {
     "data": {
      "text/plain": [
       "array([-44687.15366391, -45135.10594606, -45616.03206489])"
      ]
     },
     "execution_count": 26,
     "metadata": {},
     "output_type": "execute_result"
    }
   ],
   "source": [
    "#score of training set using cross_val_score\n",
    "cross_val_score(lr_l, scaled_X_train, y_train, scoring='neg_mean_absolute_error', cv=3)"
   ]
  },
  {
   "cell_type": "code",
   "execution_count": 27,
   "id": "2e348229",
   "metadata": {},
   "outputs": [
    {
     "name": "stdout",
     "output_type": "stream",
     "text": [
      "The R2 of Lasso Regression is 0.8344038234883314\n",
      "The mean squared error of Lasso Regression is 76566.01551008181\n",
      "The mean absolute error of Lasso Regression is 45137.4529164694\n"
     ]
    }
   ],
   "source": [
    "#score of training set using cross_val_score\n",
    "lr_l_r2=np.mean(cross_val_score(lr_l, scaled_X_train, y_train, cv=5))\n",
    "print(f'The R2 of Lasso Regression is {lr_l_r2}')\n",
    "\n",
    "#cross validation features gives greater is better, so score function is opposite of \n",
    "#MSE so we need to use -ve to get mse\n",
    "lr_l_mse=np.mean(cross_val_score(lr_l, scaled_X_train, y_train, cv=5, scoring='neg_mean_squared_error'))\n",
    "lr_l_rmse=np.sqrt(-(lr_l_mse))\n",
    "print(f'The mean squared error of Lasso Regression is {lr_l_rmse}')\n",
    "\n",
    "#mean absolute error\n",
    "lr_l_mae=np.mean(cross_val_score(lr_l, scaled_X_train, y_train, cv=5, scoring='neg_mean_absolute_error'))\n",
    "lr_l_mae=(-(lr_l_mae))\n",
    "print(f'The mean absolute error of Lasso Regression is {lr_l_mae}')"
   ]
  },
  {
   "cell_type": "code",
   "execution_count": 28,
   "id": "379c8e91",
   "metadata": {},
   "outputs": [
    {
     "data": {
      "image/png": "[encoded data removed]",
      "text/plain": [
       "<Figure size 432x288 with 1 Axes>"
      ]
     },
     "metadata": {
      "needs_background": "light"
     },
     "output_type": "display_data"
    }
   ],
   "source": [
    "#choosing the best alpha\n",
    "alpha=[]\n",
    "error=[]\n",
    "for i in range(1,100,10):\n",
    "    alpha.append(i/10)\n",
    "    lrl=Lasso(alpha=(i/10))\n",
    "    error.append(np.mean(cross_val_score(lrl, scaled_X_train, y_train, scoring='neg_mean_absolute_error',\n",
    "                                         cv=5)))\n",
    "plt.plot(alpha,error) \n",
    "plt.show()"
   ]
  },
  {
   "cell_type": "code",
   "execution_count": 29,
   "id": "6ce442c9",
   "metadata": {},
   "outputs": [
    {
     "data": {
      "text/plain": [
       "Lasso(alpha=10)"
      ]
     },
     "execution_count": 29,
     "metadata": {},
     "output_type": "execute_result"
    }
   ],
   "source": [
    "#choosing the best alpha\n",
    "lrl=Lasso(alpha=10)\n",
    "lrl.fit(scaled_X_train, y_train)\n"
   ]
  },
  {
   "cell_type": "code",
   "execution_count": 30,
   "id": "62f0cb4f",
   "metadata": {},
   "outputs": [
    {
     "name": "stdout",
     "output_type": "stream",
     "text": [
      "R2 Score of training set with alpha 10 0.8348136052503992\n",
      "R2 Score of testing set with alpha 10 0.8384193863936207\n"
     ]
    }
   ],
   "source": [
    "#Printing the R2 score of test and train set \n",
    "print(f'R2 Score of training set with alpha 10 {lrl.score(scaled_X_train, y_train)}')\n",
    "print(f'R2 Score of testing set with alpha 10 {lrl.score(scaled_X_test, y_test)}')"
   ]
  },
  {
   "cell_type": "markdown",
   "id": "d284356f",
   "metadata": {},
   "source": [
    "#### Create a cross-valiation with five folds."
   ]
  },
  {
   "cell_type": "code",
   "execution_count": 31,
   "id": "b658e6cb",
   "metadata": {},
   "outputs": [
    {
     "data": {
      "text/plain": [
       "array([-44687.15366391, -45135.10594606, -45616.03206489])"
      ]
     },
     "execution_count": 31,
     "metadata": {},
     "output_type": "execute_result"
    }
   ],
   "source": [
    "#score of training set using cross_val_score\n",
    "cross_val_score(lr_l, scaled_X_train, y_train, scoring='neg_mean_absolute_error', cv=3)"
   ]
  },
  {
   "cell_type": "code",
   "execution_count": 32,
   "id": "6d984395",
   "metadata": {},
   "outputs": [
    {
     "name": "stdout",
     "output_type": "stream",
     "text": [
      "The R2 of Lasso Regression with alpha 10 is 0.8344038042650312\n",
      "The mean squared error of Lasso Regression with alpha 10 is 76566.01551008181\n",
      "The mean absolute error of Lasso Regressionwith alpha 10 is 45137.4529164694\n"
     ]
    }
   ],
   "source": [
    "#score of training set using cross_val_score\n",
    "lrl_r2=np.mean(cross_val_score(lrl, scaled_X_train, y_train, cv=5))\n",
    "print(f'The R2 of Lasso Regression with alpha 10 is {lrl_r2}')\n",
    "\n",
    "#cross validation features gives greater is better, so score function is opposite of \n",
    "#MSE so we need to use -ve to get mse\n",
    "lrl_mse=np.mean(cross_val_score(lr_l, scaled_X_train, y_train, cv=5, scoring='neg_mean_squared_error'))\n",
    "lrl_rmse=np.sqrt(-(lrl_mse))\n",
    "print(f'The mean squared error of Lasso Regression with alpha 10 is {lrl_rmse}')\n",
    "\n",
    "#mean absolute error\n",
    "lrl_mae=np.mean(cross_val_score(lr_l, scaled_X_train, y_train, cv=5, scoring='neg_mean_absolute_error'))\n",
    "lrl_mae=(-(lrl_mae))\n",
    "print(f'The mean absolute error of Lasso Regressionwith alpha 10 is {lrl_mae}')"
   ]
  },
  {
   "cell_type": "markdown",
   "id": "94dc8cd6",
   "metadata": {},
   "source": [
    "## Support Vector Machine(SVM) Regression"
   ]
  },
  {
   "cell_type": "code",
   "execution_count": 33,
   "id": "3d743cfe",
   "metadata": {},
   "outputs": [
    {
     "data": {
      "text/plain": [
       "LinearSVR(epsilon=1.5)"
      ]
     },
     "execution_count": 33,
     "metadata": {},
     "output_type": "execute_result"
    }
   ],
   "source": [
    "# Make a svm regression instance\n",
    "svm=LinearSVR(epsilon=1.5)\n",
    "svm.fit(scaled_X_train, y_train)\n"
   ]
  },
  {
   "cell_type": "code",
   "execution_count": 34,
   "id": "9945c7c7",
   "metadata": {},
   "outputs": [
    {
     "name": "stdout",
     "output_type": "stream",
     "text": [
      "R2 Score of training set -0.9919587622672232\n",
      "R2 Score of testing set  -0.9768562069368107\n"
     ]
    }
   ],
   "source": [
    "#Printing the R2 score of test and train set\n",
    "print(f'R2 Score of training set {svm.score(scaled_X_train, y_train)}')\n",
    "print(f'R2 Score of testing set  {svm.score(scaled_X_test, y_test)}')"
   ]
  },
  {
   "cell_type": "markdown",
   "id": "dbc6b11b",
   "metadata": {},
   "source": [
    "#### Create a cross-valiation with five folds."
   ]
  },
  {
   "cell_type": "code",
   "execution_count": 35,
   "id": "5be3a987",
   "metadata": {},
   "outputs": [
    {
     "data": {
      "text/plain": [
       "array([-192924.08100737, -195209.9519937 , -194982.17263524])"
      ]
     },
     "execution_count": 35,
     "metadata": {},
     "output_type": "execute_result"
    }
   ],
   "source": [
    "#score of training set using cross_val_score\n",
    "cross_val_score(svm, scaled_X_train, y_train, scoring='neg_mean_absolute_error', cv=3)"
   ]
  },
  {
   "cell_type": "code",
   "execution_count": 36,
   "id": "6ca0c6ba",
   "metadata": {},
   "outputs": [
    {
     "name": "stdout",
     "output_type": "stream",
     "text": [
      "The R2 of svm Regression is -1.038259332108327\n",
      "The mean squared error of svm Regression is 268490.69528928306\n",
      "The mean absolute error of svm Regression is 191577.22100446743\n"
     ]
    }
   ],
   "source": [
    "#score of training set using cross_val_score\n",
    "svm_r2=np.mean(cross_val_score(svm, scaled_X_train, y_train, cv=5))\n",
    "print(f'The R2 of svm Regression is {svm_r2}')\n",
    "\n",
    "#cross validation features gives greater is better, so score function is opposite of \n",
    "#MSE so we need to use -ve to get mse\n",
    "svm_mse=np.mean(cross_val_score(svm, scaled_X_train, y_train, cv=5, scoring='neg_mean_squared_error'))\n",
    "svm_rmse=np.sqrt(-(svm_mse))\n",
    "print(f'The mean squared error of svm Regression is {svm_rmse}')\n",
    "\n",
    "#mean absolute error\n",
    "svm_mae=np.mean(cross_val_score(svm, scaled_X_train, y_train, cv=5, scoring='neg_mean_absolute_error'))\n",
    "svm_mae=(-(svm_mae))\n",
    "print(f'The mean absolute error of svm Regression is {svm_mae}')"
   ]
  },
  {
   "cell_type": "markdown",
   "id": "cb25212e",
   "metadata": {},
   "source": [
    "## Support Vector Machine(SVR) Kernel Regression"
   ]
  },
  {
   "cell_type": "code",
   "execution_count": 37,
   "id": "b76daf17",
   "metadata": {},
   "outputs": [
    {
     "data": {
      "text/plain": [
       "SVR(kernel='linear')"
      ]
     },
     "execution_count": 37,
     "metadata": {},
     "output_type": "execute_result"
    }
   ],
   "source": [
    "# Make a svm regression instance\n",
    "svr=SVR(kernel='linear')\n",
    "svr.fit(scaled_X_train, y_train)\n"
   ]
  },
  {
   "cell_type": "code",
   "execution_count": 38,
   "id": "ac59af73",
   "metadata": {},
   "outputs": [
    {
     "name": "stdout",
     "output_type": "stream",
     "text": [
      "R2 Score of training set 0.31091676224762455\n",
      "R2 Score of testing set  0.30883996248099743\n"
     ]
    }
   ],
   "source": [
    "#Printing the R2 score of test and train set\n",
    "print(f'R2 Score of training set {svr.score(scaled_X_train, y_train)}')\n",
    "print(f'R2 Score of testing set  {svr.score(scaled_X_test, y_test)}')"
   ]
  },
  {
   "cell_type": "markdown",
   "id": "7ec835aa",
   "metadata": {},
   "source": [
    "#### Create a cross-valiation with five folds."
   ]
  },
  {
   "cell_type": "code",
   "execution_count": 39,
   "id": "9f512d61",
   "metadata": {},
   "outputs": [
    {
     "data": {
      "text/plain": [
       "array([-83322.13820595, -85155.28015323, -85022.51261042])"
      ]
     },
     "execution_count": 39,
     "metadata": {},
     "output_type": "execute_result"
    }
   ],
   "source": [
    "#score of training set using cross_val_score\n",
    "cross_val_score(svr, scaled_X_train, y_train, scoring='neg_mean_absolute_error', cv=3)"
   ]
  },
  {
   "cell_type": "code",
   "execution_count": 40,
   "id": "2d303678",
   "metadata": {},
   "outputs": [
    {
     "name": "stdout",
     "output_type": "stream",
     "text": [
      "The R2 of svr is 0.254173157341206\n",
      "The mean squared error of svr is 162457.02545143996\n",
      "The mean absolute error of svr  is 81130.0041190141\n"
     ]
    }
   ],
   "source": [
    "#score of training set using cross_val_score\n",
    "svr_r2=np.mean(cross_val_score(svr, scaled_X_train, y_train, cv=5))\n",
    "print(f'The R2 of svr is {svr_r2}')\n",
    "\n",
    "#cross validation features gives greater is better, so score function is opposite of \n",
    "#MSE so we need to use -ve to get mse\n",
    "svr_mse=np.mean(cross_val_score(svr, scaled_X_train, y_train, cv=5, scoring='neg_mean_squared_error'))\n",
    "svr_rmse=np.sqrt(-(svr_mse))\n",
    "print(f'The mean squared error of svr is {svr_rmse}')\n",
    "\n",
    "#mean absolute error\n",
    "svr_mae=np.mean(cross_val_score(svr, scaled_X_train, y_train, cv=5, scoring='neg_mean_absolute_error'))\n",
    "svr_mae=(-(svr_mae))\n",
    "print(f'The mean absolute error of svr  is {svr_mae}')"
   ]
  },
  {
   "cell_type": "markdown",
   "id": "0adc2e92",
   "metadata": {},
   "source": [
    "## Decision Tree"
   ]
  },
  {
   "cell_type": "code",
   "execution_count": 41,
   "id": "e6de62b5",
   "metadata": {},
   "outputs": [
    {
     "data": {
      "text/plain": [
       "DecisionTreeRegressor()"
      ]
     },
     "execution_count": 41,
     "metadata": {},
     "output_type": "execute_result"
    }
   ],
   "source": [
    "# Make a decision tree instance\n",
    "dt=DecisionTreeRegressor()\n",
    "dt.fit(scaled_X_train, y_train)"
   ]
  },
  {
   "cell_type": "code",
   "execution_count": 42,
   "id": "91e616ce",
   "metadata": {},
   "outputs": [
    {
     "name": "stdout",
     "output_type": "stream",
     "text": [
      "R2 Score of training set 1.0\n",
      "R2 Score of testing set  0.8658105479067479\n"
     ]
    }
   ],
   "source": [
    "#Printing the score of test and train set\n",
    "print(f'R2 Score of training set {dt.score(scaled_X_train, y_train)}')\n",
    "print(f'R2 Score of testing set  {dt.score(scaled_X_test, y_test)}')"
   ]
  },
  {
   "cell_type": "markdown",
   "id": "e81f1024",
   "metadata": {},
   "source": [
    "#### Create a cross-valiation with five folds."
   ]
  },
  {
   "cell_type": "code",
   "execution_count": 43,
   "id": "8ffed054",
   "metadata": {},
   "outputs": [
    {
     "data": {
      "text/plain": [
       "array([-37563.56485056, -38634.18435355, -39733.94136156])"
      ]
     },
     "execution_count": 43,
     "metadata": {},
     "output_type": "execute_result"
    }
   ],
   "source": [
    "#score of training set using cross_val_score\n",
    "cross_val_score(dt, scaled_X_train, y_train, scoring='neg_mean_absolute_error', cv=3)"
   ]
  },
  {
   "cell_type": "code",
   "execution_count": 44,
   "id": "73194c0f",
   "metadata": {},
   "outputs": [
    {
     "name": "stdout",
     "output_type": "stream",
     "text": [
      "The R2 of Decision Tree Regressor is 0.8455843746851995\n",
      "The mean squared error of Decision Tree Regressor is 73473.00044628816\n",
      "The mean absolute error of Decision Tree Regressor is 37828.016071029684\n"
     ]
    }
   ],
   "source": [
    "#score of training set using cross_val_score\n",
    "dt_r2=np.mean(cross_val_score(dt, scaled_X_train, y_train, cv=5))\n",
    "print(f'The R2 of Decision Tree Regressor is {dt_r2}')\n",
    "\n",
    "#cross validation features gives greater is better, so score function is opposite of \n",
    "#MSE so we need to use -ve to get mse\n",
    "dt_mse=np.mean(cross_val_score(dt, scaled_X_train, y_train, cv=5, scoring='neg_mean_squared_error'))\n",
    "dt_rmse=np.sqrt(-(dt_mse))\n",
    "print(f'The mean squared error of Decision Tree Regressor is {dt_rmse}')\n",
    "\n",
    "#mean absolute error\n",
    "dt_mae=np.mean(cross_val_score(dt, scaled_X_train, y_train, cv=5, scoring='neg_mean_absolute_error'))\n",
    "dt_mae=(-(dt_mae))\n",
    "print(f'The mean absolute error of Decision Tree Regressor is {dt_mae}')"
   ]
  },
  {
   "cell_type": "markdown",
   "id": "f4a9c8d6",
   "metadata": {},
   "source": [
    "### Tuning hyperparamaters  using Grid Search CV"
   ]
  },
  {
   "cell_type": "code",
   "execution_count": 45,
   "id": "9507bce3",
   "metadata": {},
   "outputs": [
    {
     "name": "stdout",
     "output_type": "stream",
     "text": [
      "Fitting 3 folds for each of 12 candidates, totalling 36 fits\n"
     ]
    },
    {
     "data": {
      "text/plain": [
       "GridSearchCV(cv=3, estimator=DecisionTreeRegressor(), n_jobs=-1,\n",
       "             param_grid={'max_depth': [6, 8, 12],\n",
       "                         'min_samples_leaf': range(1, 5)},\n",
       "             verbose=1)"
      ]
     },
     "execution_count": 45,
     "metadata": {},
     "output_type": "execute_result"
    }
   ],
   "source": [
    "parameters = {\n",
    "              'max_depth':[6, 8,12],\n",
    "              'min_samples_leaf':range(1,5)}\n",
    "gs_dt=GridSearchCV(dt, param_grid=parameters, \n",
    "                    cv=3, verbose=1, n_jobs=-1)\n",
    "gs_dt.fit(scaled_X_train, y_train)"
   ]
  },
  {
   "cell_type": "code",
   "execution_count": 46,
   "id": "ee64c975",
   "metadata": {},
   "outputs": [
    {
     "data": {
      "text/plain": [
       "{'max_depth': 6, 'min_samples_leaf': 2}"
      ]
     },
     "execution_count": 46,
     "metadata": {},
     "output_type": "execute_result"
    }
   ],
   "source": [
    "#Best parameters\n",
    "gs_dt.best_params_"
   ]
  },
  {
   "cell_type": "code",
   "execution_count": 47,
   "id": "1e1c13d2",
   "metadata": {},
   "outputs": [
    {
     "data": {
      "text/plain": [
       "DecisionTreeRegressor(max_depth=6, min_samples_leaf=2)"
      ]
     },
     "execution_count": 47,
     "metadata": {},
     "output_type": "execute_result"
    }
   ],
   "source": [
    "#best estimator\n",
    "dt_b=gs_dt.best_estimator_\n",
    "dt_b"
   ]
  },
  {
   "cell_type": "code",
   "execution_count": 48,
   "id": "c19eb110",
   "metadata": {},
   "outputs": [
    {
     "name": "stdout",
     "output_type": "stream",
     "text": [
      "R2 Score of training set after hyperpar tuining 0.9149562994122378\n",
      "R2 Score of testing set after hyperpar tuining  0.8880405550763419\n"
     ]
    }
   ],
   "source": [
    "#Printing the score of test and train set\n",
    "dt_tr=dt_b.score(scaled_X_train, y_train)\n",
    "dt_te=dt_b.score(scaled_X_test, y_test)\n",
    "print(f'R2 Score of training set after hyperpar tuining {dt_tr}')\n",
    "print(f'R2 Score of testing set after hyperpar tuining  {dt_te}')"
   ]
  },
  {
   "cell_type": "code",
   "execution_count": 49,
   "id": "0d972797",
   "metadata": {},
   "outputs": [
    {
     "data": {
      "text/html": [
       "<div>\n",
       "<style scoped>\n",
       "    .dataframe tbody tr th:only-of-type {\n",
       "        vertical-align: middle;\n",
       "    }\n",
       "\n",
       "    .dataframe tbody tr th {\n",
       "        vertical-align: top;\n",
       "    }\n",
       "\n",
       "    .dataframe thead th {\n",
       "        text-align: right;\n",
       "    }\n",
       "</style>\n",
       "<table border=\"1\" class=\"dataframe\">\n",
       "  <thead>\n",
       "    <tr style=\"text-align: right;\">\n",
       "      <th></th>\n",
       "      <th>mean_fit_time</th>\n",
       "      <th>std_fit_time</th>\n",
       "      <th>mean_score_time</th>\n",
       "      <th>std_score_time</th>\n",
       "      <th>param_max_depth</th>\n",
       "      <th>param_min_samples_leaf</th>\n",
       "      <th>params</th>\n",
       "      <th>split0_test_score</th>\n",
       "      <th>split1_test_score</th>\n",
       "      <th>split2_test_score</th>\n",
       "      <th>mean_test_score</th>\n",
       "      <th>std_test_score</th>\n",
       "      <th>rank_test_score</th>\n",
       "    </tr>\n",
       "  </thead>\n",
       "  <tbody>\n",
       "    <tr>\n",
       "      <th>0</th>\n",
       "      <td>0.092803</td>\n",
       "      <td>0.001270</td>\n",
       "      <td>0.001220</td>\n",
       "      <td>0.000036</td>\n",
       "      <td>6</td>\n",
       "      <td>1</td>\n",
       "      <td>{'max_depth': 6, 'min_samples_leaf': 1}</td>\n",
       "      <td>0.880658</td>\n",
       "      <td>0.874949</td>\n",
       "      <td>0.869796</td>\n",
       "      <td>0.875134</td>\n",
       "      <td>0.004436</td>\n",
       "      <td>5</td>\n",
       "    </tr>\n",
       "    <tr>\n",
       "      <th>1</th>\n",
       "      <td>0.097108</td>\n",
       "      <td>0.002039</td>\n",
       "      <td>0.001170</td>\n",
       "      <td>0.000099</td>\n",
       "      <td>6</td>\n",
       "      <td>2</td>\n",
       "      <td>{'max_depth': 6, 'min_samples_leaf': 2}</td>\n",
       "      <td>0.886575</td>\n",
       "      <td>0.879024</td>\n",
       "      <td>0.871306</td>\n",
       "      <td>0.878969</td>\n",
       "      <td>0.006234</td>\n",
       "      <td>1</td>\n",
       "    </tr>\n",
       "    <tr>\n",
       "      <th>2</th>\n",
       "      <td>0.093468</td>\n",
       "      <td>0.002534</td>\n",
       "      <td>0.001261</td>\n",
       "      <td>0.000056</td>\n",
       "      <td>6</td>\n",
       "      <td>3</td>\n",
       "      <td>{'max_depth': 6, 'min_samples_leaf': 3}</td>\n",
       "      <td>0.876193</td>\n",
       "      <td>0.881154</td>\n",
       "      <td>0.862036</td>\n",
       "      <td>0.873128</td>\n",
       "      <td>0.008100</td>\n",
       "      <td>8</td>\n",
       "    </tr>\n",
       "    <tr>\n",
       "      <th>3</th>\n",
       "      <td>0.090789</td>\n",
       "      <td>0.002111</td>\n",
       "      <td>0.001259</td>\n",
       "      <td>0.000106</td>\n",
       "      <td>6</td>\n",
       "      <td>4</td>\n",
       "      <td>{'max_depth': 6, 'min_samples_leaf': 4}</td>\n",
       "      <td>0.882384</td>\n",
       "      <td>0.885480</td>\n",
       "      <td>0.861510</td>\n",
       "      <td>0.876458</td>\n",
       "      <td>0.010645</td>\n",
       "      <td>2</td>\n",
       "    </tr>\n",
       "    <tr>\n",
       "      <th>4</th>\n",
       "      <td>0.120880</td>\n",
       "      <td>0.002274</td>\n",
       "      <td>0.001280</td>\n",
       "      <td>0.000036</td>\n",
       "      <td>8</td>\n",
       "      <td>1</td>\n",
       "      <td>{'max_depth': 8, 'min_samples_leaf': 1}</td>\n",
       "      <td>0.866515</td>\n",
       "      <td>0.858953</td>\n",
       "      <td>0.835713</td>\n",
       "      <td>0.853727</td>\n",
       "      <td>0.013106</td>\n",
       "      <td>12</td>\n",
       "    </tr>\n",
       "    <tr>\n",
       "      <th>5</th>\n",
       "      <td>0.127172</td>\n",
       "      <td>0.002407</td>\n",
       "      <td>0.001274</td>\n",
       "      <td>0.000027</td>\n",
       "      <td>8</td>\n",
       "      <td>2</td>\n",
       "      <td>{'max_depth': 8, 'min_samples_leaf': 2}</td>\n",
       "      <td>0.892823</td>\n",
       "      <td>0.879862</td>\n",
       "      <td>0.849956</td>\n",
       "      <td>0.874214</td>\n",
       "      <td>0.017950</td>\n",
       "      <td>7</td>\n",
       "    </tr>\n",
       "    <tr>\n",
       "      <th>6</th>\n",
       "      <td>0.126830</td>\n",
       "      <td>0.000854</td>\n",
       "      <td>0.001328</td>\n",
       "      <td>0.000114</td>\n",
       "      <td>8</td>\n",
       "      <td>3</td>\n",
       "      <td>{'max_depth': 8, 'min_samples_leaf': 3}</td>\n",
       "      <td>0.879807</td>\n",
       "      <td>0.879403</td>\n",
       "      <td>0.867382</td>\n",
       "      <td>0.875530</td>\n",
       "      <td>0.005764</td>\n",
       "      <td>4</td>\n",
       "    </tr>\n",
       "    <tr>\n",
       "      <th>7</th>\n",
       "      <td>0.125355</td>\n",
       "      <td>0.002266</td>\n",
       "      <td>0.001246</td>\n",
       "      <td>0.000020</td>\n",
       "      <td>8</td>\n",
       "      <td>4</td>\n",
       "      <td>{'max_depth': 8, 'min_samples_leaf': 4}</td>\n",
       "      <td>0.885356</td>\n",
       "      <td>0.878469</td>\n",
       "      <td>0.864142</td>\n",
       "      <td>0.875989</td>\n",
       "      <td>0.008837</td>\n",
       "      <td>3</td>\n",
       "    </tr>\n",
       "    <tr>\n",
       "      <th>8</th>\n",
       "      <td>0.197037</td>\n",
       "      <td>0.002403</td>\n",
       "      <td>0.002612</td>\n",
       "      <td>0.000573</td>\n",
       "      <td>12</td>\n",
       "      <td>1</td>\n",
       "      <td>{'max_depth': 12, 'min_samples_leaf': 1}</td>\n",
       "      <td>0.866262</td>\n",
       "      <td>0.855051</td>\n",
       "      <td>0.850732</td>\n",
       "      <td>0.857348</td>\n",
       "      <td>0.006545</td>\n",
       "      <td>11</td>\n",
       "    </tr>\n",
       "    <tr>\n",
       "      <th>9</th>\n",
       "      <td>0.182976</td>\n",
       "      <td>0.006250</td>\n",
       "      <td>0.001890</td>\n",
       "      <td>0.000391</td>\n",
       "      <td>12</td>\n",
       "      <td>2</td>\n",
       "      <td>{'max_depth': 12, 'min_samples_leaf': 2}</td>\n",
       "      <td>0.885471</td>\n",
       "      <td>0.863456</td>\n",
       "      <td>0.867882</td>\n",
       "      <td>0.872270</td>\n",
       "      <td>0.009508</td>\n",
       "      <td>10</td>\n",
       "    </tr>\n",
       "    <tr>\n",
       "      <th>10</th>\n",
       "      <td>0.163112</td>\n",
       "      <td>0.018778</td>\n",
       "      <td>0.001764</td>\n",
       "      <td>0.000786</td>\n",
       "      <td>12</td>\n",
       "      <td>3</td>\n",
       "      <td>{'max_depth': 12, 'min_samples_leaf': 3}</td>\n",
       "      <td>0.880867</td>\n",
       "      <td>0.872070</td>\n",
       "      <td>0.864775</td>\n",
       "      <td>0.872571</td>\n",
       "      <td>0.006579</td>\n",
       "      <td>9</td>\n",
       "    </tr>\n",
       "    <tr>\n",
       "      <th>11</th>\n",
       "      <td>0.131939</td>\n",
       "      <td>0.002548</td>\n",
       "      <td>0.001286</td>\n",
       "      <td>0.000064</td>\n",
       "      <td>12</td>\n",
       "      <td>4</td>\n",
       "      <td>{'max_depth': 12, 'min_samples_leaf': 4}</td>\n",
       "      <td>0.885239</td>\n",
       "      <td>0.873917</td>\n",
       "      <td>0.864126</td>\n",
       "      <td>0.874427</td>\n",
       "      <td>0.008627</td>\n",
       "      <td>6</td>\n",
       "    </tr>\n",
       "  </tbody>\n",
       "</table>\n",
       "</div>"
      ],
      "text/plain": [
       "    mean_fit_time  std_fit_time  mean_score_time  std_score_time  \\\n",
       "0        0.092803      0.001270         0.001220        0.000036   \n",
       "1        0.097108      0.002039         0.001170        0.000099   \n",
       "2        0.093468      0.002534         0.001261        0.000056   \n",
       "3        0.090789      0.002111         0.001259        0.000106   \n",
       "4        0.120880      0.002274         0.001280        0.000036   \n",
       "5        0.127172      0.002407         0.001274        0.000027   \n",
       "6        0.126830      0.000854         0.001328        0.000114   \n",
       "7        0.125355      0.002266         0.001246        0.000020   \n",
       "8        0.197037      0.002403         0.002612        0.000573   \n",
       "9        0.182976      0.006250         0.001890        0.000391   \n",
       "10       0.163112      0.018778         0.001764        0.000786   \n",
       "11       0.131939      0.002548         0.001286        0.000064   \n",
       "\n",
       "   param_max_depth param_min_samples_leaf  \\\n",
       "0                6                      1   \n",
       "1                6                      2   \n",
       "2                6                      3   \n",
       "3                6                      4   \n",
       "4                8                      1   \n",
       "5                8                      2   \n",
       "6                8                      3   \n",
       "7                8                      4   \n",
       "8               12                      1   \n",
       "9               12                      2   \n",
       "10              12                      3   \n",
       "11              12                      4   \n",
       "\n",
       "                                      params  split0_test_score  \\\n",
       "0    {'max_depth': 6, 'min_samples_leaf': 1}           0.880658   \n",
       "1    {'max_depth': 6, 'min_samples_leaf': 2}           0.886575   \n",
       "2    {'max_depth': 6, 'min_samples_leaf': 3}           0.876193   \n",
       "3    {'max_depth': 6, 'min_samples_leaf': 4}           0.882384   \n",
       "4    {'max_depth': 8, 'min_samples_leaf': 1}           0.866515   \n",
       "5    {'max_depth': 8, 'min_samples_leaf': 2}           0.892823   \n",
       "6    {'max_depth': 8, 'min_samples_leaf': 3}           0.879807   \n",
       "7    {'max_depth': 8, 'min_samples_leaf': 4}           0.885356   \n",
       "8   {'max_depth': 12, 'min_samples_leaf': 1}           0.866262   \n",
       "9   {'max_depth': 12, 'min_samples_leaf': 2}           0.885471   \n",
       "10  {'max_depth': 12, 'min_samples_leaf': 3}           0.880867   \n",
       "11  {'max_depth': 12, 'min_samples_leaf': 4}           0.885239   \n",
       "\n",
       "    split1_test_score  split2_test_score  mean_test_score  std_test_score  \\\n",
       "0            0.874949           0.869796         0.875134        0.004436   \n",
       "1            0.879024           0.871306         0.878969        0.006234   \n",
       "2            0.881154           0.862036         0.873128        0.008100   \n",
       "3            0.885480           0.861510         0.876458        0.010645   \n",
       "4            0.858953           0.835713         0.853727        0.013106   \n",
       "5            0.879862           0.849956         0.874214        0.017950   \n",
       "6            0.879403           0.867382         0.875530        0.005764   \n",
       "7            0.878469           0.864142         0.875989        0.008837   \n",
       "8            0.855051           0.850732         0.857348        0.006545   \n",
       "9            0.863456           0.867882         0.872270        0.009508   \n",
       "10           0.872070           0.864775         0.872571        0.006579   \n",
       "11           0.873917           0.864126         0.874427        0.008627   \n",
       "\n",
       "    rank_test_score  \n",
       "0                 5  \n",
       "1                 1  \n",
       "2                 8  \n",
       "3                 2  \n",
       "4                12  \n",
       "5                 7  \n",
       "6                 4  \n",
       "7                 3  \n",
       "8                11  \n",
       "9                10  \n",
       "10                9  \n",
       "11                6  "
      ]
     },
     "execution_count": 49,
     "metadata": {},
     "output_type": "execute_result"
    }
   ],
   "source": [
    "#dataframe for results\n",
    "dt_df=pd.DataFrame(gs_dt.cv_results_)\n",
    "dt_df"
   ]
  },
  {
   "cell_type": "code",
   "execution_count": 50,
   "id": "777110ba",
   "metadata": {},
   "outputs": [
    {
     "name": "stdout",
     "output_type": "stream",
     "text": [
      "0.8751342724729417 {'max_depth': 6, 'min_samples_leaf': 1}\n",
      "0.8789687032771708 {'max_depth': 6, 'min_samples_leaf': 2}\n",
      "0.8731276619445252 {'max_depth': 6, 'min_samples_leaf': 3}\n",
      "0.8764582497479 {'max_depth': 6, 'min_samples_leaf': 4}\n",
      "0.8537269710629855 {'max_depth': 8, 'min_samples_leaf': 1}\n",
      "0.8742136328060566 {'max_depth': 8, 'min_samples_leaf': 2}\n",
      "0.8755304068654904 {'max_depth': 8, 'min_samples_leaf': 3}\n",
      "0.8759889321172986 {'max_depth': 8, 'min_samples_leaf': 4}\n",
      "0.8573482219114726 {'max_depth': 12, 'min_samples_leaf': 1}\n",
      "0.872269529263242 {'max_depth': 12, 'min_samples_leaf': 2}\n",
      "0.8725706677131714 {'max_depth': 12, 'min_samples_leaf': 3}\n",
      "0.8744269704472503 {'max_depth': 12, 'min_samples_leaf': 4}\n"
     ]
    }
   ],
   "source": [
    "#printing the evaluation scores\n",
    "cvres_dt=gs_dt.cv_results_\n",
    "for mean_score, params in zip(cvres_dt['mean_test_score'], cvres_dt['params']):\n",
    "    print((mean_score), params)"
   ]
  },
  {
   "cell_type": "markdown",
   "id": "9f52325d",
   "metadata": {},
   "source": [
    "## Random Forest"
   ]
  },
  {
   "cell_type": "code",
   "execution_count": 51,
   "id": "9693220c",
   "metadata": {},
   "outputs": [
    {
     "data": {
      "text/plain": [
       "RandomForestRegressor()"
      ]
     },
     "execution_count": 51,
     "metadata": {},
     "output_type": "execute_result"
    }
   ],
   "source": [
    "# Make a Random forest instance\n",
    "rf=RandomForestRegressor()\n",
    "rf.fit(scaled_X_train, y_train)"
   ]
  },
  {
   "cell_type": "code",
   "execution_count": 52,
   "id": "33a5c04a",
   "metadata": {},
   "outputs": [
    {
     "name": "stdout",
     "output_type": "stream",
     "text": [
      "R2 Score of training set 0.9896264878064581\n",
      "R2 Score of testing set 0.924372808798464\n"
     ]
    }
   ],
   "source": [
    "#Printing the score of test and train set\n",
    "print(f'R2 Score of training set {rf.score(scaled_X_train, y_train)}')\n",
    "print(f'R2 Score of testing set {rf.score(scaled_X_test, y_test)}')"
   ]
  },
  {
   "cell_type": "markdown",
   "id": "78da79b0",
   "metadata": {},
   "source": [
    "#### Create a cross-valiation with five folds."
   ]
  },
  {
   "cell_type": "code",
   "execution_count": 53,
   "id": "4e7915cb",
   "metadata": {},
   "outputs": [
    {
     "data": {
      "text/plain": [
       "array([-26979.36266981, -26831.65813787, -27238.2449242 ])"
      ]
     },
     "execution_count": 53,
     "metadata": {},
     "output_type": "execute_result"
    }
   ],
   "source": [
    "#score of training set using cross_val_score\n",
    "cross_val_score(rf, scaled_X_train, y_train, scoring='neg_mean_absolute_error', cv=3)"
   ]
  },
  {
   "cell_type": "code",
   "execution_count": 54,
   "id": "005b90a0",
   "metadata": {},
   "outputs": [
    {
     "name": "stdout",
     "output_type": "stream",
     "text": [
      "The R2 of Random Forest Regressor is 0.9238710644505079\n",
      "The mean squared error of Random Forest Regressor is 76566.01551008181\n",
      "The mean absolute error of Random Forest Regressor is 26774.91136660251\n"
     ]
    }
   ],
   "source": [
    "#score of training set using cross_val_score\n",
    "rf_r2=np.mean(cross_val_score(rf, scaled_X_train, y_train, cv=5))\n",
    "print(f'The R2 of Random Forest Regressor is {rf_r2}')\n",
    "\n",
    "#cross validation features gives greater is better, so score function is opposite of \n",
    "#MSE so we need to use -ve to get mse\n",
    "rf_mse=np.mean(cross_val_score(rf, scaled_X_train, y_train, cv=5, scoring='neg_mean_squared_error'))\n",
    "rf_rmse=np.sqrt(-(lrl_mse))\n",
    "print(f'The mean squared error of Random Forest Regressor is {rf_rmse}')\n",
    "\n",
    "#mean absolute error\n",
    "rf_mae=np.mean(cross_val_score(rf, scaled_X_train, y_train, cv=5, scoring='neg_mean_absolute_error'))\n",
    "rf_mae=(-(rf_mae))\n",
    "print(f'The mean absolute error of Random Forest Regressor is {rf_mae}')"
   ]
  },
  {
   "cell_type": "markdown",
   "id": "5f68c363",
   "metadata": {},
   "source": [
    "#### Tuning the hyperparameters using Grid Search CV"
   ]
  },
  {
   "cell_type": "code",
   "execution_count": 55,
   "id": "ce106041",
   "metadata": {},
   "outputs": [
    {
     "data": {
      "text/plain": [
       "GridSearchCV(cv=5, estimator=RandomForestRegressor(),\n",
       "             param_grid=[{'max_features': [3, 6],\n",
       "                          'n_estimators': [30, 60, 100]}],\n",
       "             return_train_score=True, scoring='neg_mean_absolute_error')"
      ]
     },
     "execution_count": 55,
     "metadata": {},
     "output_type": "execute_result"
    }
   ],
   "source": [
    "parameters = [{'n_estimators':[30,60,100],\n",
    "              'max_features':[3,6]}]\n",
    "              #,{'bootstrap':[False], 'n_estimators':[3,10,100],\n",
    "              #'max_features':[4,6,8,10]}]\n",
    "gs_rf=GridSearchCV(rf, parameters, scoring='neg_mean_absolute_error',\n",
    "                   cv=5, return_train_score=True)\n",
    "gs_rf.fit(scaled_X_train, y_train)"
   ]
  },
  {
   "cell_type": "code",
   "execution_count": 56,
   "id": "31380bf4",
   "metadata": {},
   "outputs": [
    {
     "data": {
      "text/plain": [
       "{'max_features': 6, 'n_estimators': 100}"
      ]
     },
     "execution_count": 56,
     "metadata": {},
     "output_type": "execute_result"
    }
   ],
   "source": [
    "#Best parameters\n",
    "gs_rf.best_params_"
   ]
  },
  {
   "cell_type": "code",
   "execution_count": 57,
   "id": "fd00e057",
   "metadata": {},
   "outputs": [
    {
     "data": {
      "text/plain": [
       "RandomForestRegressor(max_features=6)"
      ]
     },
     "execution_count": 57,
     "metadata": {},
     "output_type": "execute_result"
    }
   ],
   "source": [
    "#best estimator\n",
    "rf_b=gs_rf.best_estimator_\n",
    "rf_b"
   ]
  },
  {
   "cell_type": "code",
   "execution_count": 58,
   "id": "c0f01a52",
   "metadata": {},
   "outputs": [
    {
     "name": "stdout",
     "output_type": "stream",
     "text": [
      "R2 Score of training set after hyperpar tuining 0.9900442547928264\n",
      "R2 Score of testing set after hyperpar tuining  0.9272033514241703\n"
     ]
    }
   ],
   "source": [
    "#Printing the score of test and train set\n",
    "rf_tr=rf_b.score(scaled_X_train, y_train)\n",
    "rf_te=rf_b.score(scaled_X_test, y_test)\n",
    "print(f'R2 Score of training set after hyperpar tuining {rf_tr}')\n",
    "print(f'R2 Score of testing set after hyperpar tuining  {rf_te}')"
   ]
  },
  {
   "cell_type": "code",
   "execution_count": 59,
   "id": "fd5324f7",
   "metadata": {},
   "outputs": [
    {
     "data": {
      "text/html": [
       "<div>\n",
       "<style scoped>\n",
       "    .dataframe tbody tr th:only-of-type {\n",
       "        vertical-align: middle;\n",
       "    }\n",
       "\n",
       "    .dataframe tbody tr th {\n",
       "        vertical-align: top;\n",
       "    }\n",
       "\n",
       "    .dataframe thead th {\n",
       "        text-align: right;\n",
       "    }\n",
       "</style>\n",
       "<table border=\"1\" class=\"dataframe\">\n",
       "  <thead>\n",
       "    <tr style=\"text-align: right;\">\n",
       "      <th></th>\n",
       "      <th>mean_fit_time</th>\n",
       "      <th>std_fit_time</th>\n",
       "      <th>mean_score_time</th>\n",
       "      <th>std_score_time</th>\n",
       "      <th>param_max_features</th>\n",
       "      <th>param_n_estimators</th>\n",
       "      <th>params</th>\n",
       "      <th>split0_test_score</th>\n",
       "      <th>split1_test_score</th>\n",
       "      <th>split2_test_score</th>\n",
       "      <th>...</th>\n",
       "      <th>mean_test_score</th>\n",
       "      <th>std_test_score</th>\n",
       "      <th>rank_test_score</th>\n",
       "      <th>split0_train_score</th>\n",
       "      <th>split1_train_score</th>\n",
       "      <th>split2_train_score</th>\n",
       "      <th>split3_train_score</th>\n",
       "      <th>split4_train_score</th>\n",
       "      <th>mean_train_score</th>\n",
       "      <th>std_train_score</th>\n",
       "    </tr>\n",
       "  </thead>\n",
       "  <tbody>\n",
       "    <tr>\n",
       "      <th>0</th>\n",
       "      <td>1.070118</td>\n",
       "      <td>0.028992</td>\n",
       "      <td>0.028777</td>\n",
       "      <td>0.001432</td>\n",
       "      <td>3</td>\n",
       "      <td>30</td>\n",
       "      <td>{'max_features': 3, 'n_estimators': 30}</td>\n",
       "      <td>-27838.763171</td>\n",
       "      <td>-27678.299055</td>\n",
       "      <td>-27113.170195</td>\n",
       "      <td>...</td>\n",
       "      <td>-27785.286448</td>\n",
       "      <td>444.985707</td>\n",
       "      <td>6</td>\n",
       "      <td>-10841.392289</td>\n",
       "      <td>-10707.915025</td>\n",
       "      <td>-10708.311492</td>\n",
       "      <td>-10753.965471</td>\n",
       "      <td>-10560.004064</td>\n",
       "      <td>-10714.317668</td>\n",
       "      <td>91.224628</td>\n",
       "    </tr>\n",
       "    <tr>\n",
       "      <th>1</th>\n",
       "      <td>2.197820</td>\n",
       "      <td>0.063793</td>\n",
       "      <td>0.058267</td>\n",
       "      <td>0.002882</td>\n",
       "      <td>3</td>\n",
       "      <td>60</td>\n",
       "      <td>{'max_features': 3, 'n_estimators': 60}</td>\n",
       "      <td>-27139.966988</td>\n",
       "      <td>-27351.260955</td>\n",
       "      <td>-26706.253460</td>\n",
       "      <td>...</td>\n",
       "      <td>-27339.399588</td>\n",
       "      <td>440.430270</td>\n",
       "      <td>5</td>\n",
       "      <td>-10315.984070</td>\n",
       "      <td>-10276.455090</td>\n",
       "      <td>-10355.090095</td>\n",
       "      <td>-10333.827595</td>\n",
       "      <td>-10196.118468</td>\n",
       "      <td>-10295.495064</td>\n",
       "      <td>55.998176</td>\n",
       "    </tr>\n",
       "    <tr>\n",
       "      <th>2</th>\n",
       "      <td>3.957118</td>\n",
       "      <td>0.099223</td>\n",
       "      <td>0.111234</td>\n",
       "      <td>0.006392</td>\n",
       "      <td>3</td>\n",
       "      <td>100</td>\n",
       "      <td>{'max_features': 3, 'n_estimators': 100}</td>\n",
       "      <td>-27261.163265</td>\n",
       "      <td>-27373.366559</td>\n",
       "      <td>-26522.511888</td>\n",
       "      <td>...</td>\n",
       "      <td>-27267.694798</td>\n",
       "      <td>432.589932</td>\n",
       "      <td>4</td>\n",
       "      <td>-10142.883024</td>\n",
       "      <td>-10142.278876</td>\n",
       "      <td>-10217.346331</td>\n",
       "      <td>-10212.176780</td>\n",
       "      <td>-10120.764440</td>\n",
       "      <td>-10167.089890</td>\n",
       "      <td>39.764667</td>\n",
       "    </tr>\n",
       "    <tr>\n",
       "      <th>3</th>\n",
       "      <td>2.031377</td>\n",
       "      <td>0.053779</td>\n",
       "      <td>0.031552</td>\n",
       "      <td>0.002193</td>\n",
       "      <td>6</td>\n",
       "      <td>30</td>\n",
       "      <td>{'max_features': 6, 'n_estimators': 30}</td>\n",
       "      <td>-26958.060867</td>\n",
       "      <td>-27439.542421</td>\n",
       "      <td>-26531.097147</td>\n",
       "      <td>...</td>\n",
       "      <td>-27135.546285</td>\n",
       "      <td>420.042714</td>\n",
       "      <td>3</td>\n",
       "      <td>-10408.680887</td>\n",
       "      <td>-10324.409088</td>\n",
       "      <td>-10488.201575</td>\n",
       "      <td>-10369.240331</td>\n",
       "      <td>-10269.277291</td>\n",
       "      <td>-10371.961834</td>\n",
       "      <td>74.394559</td>\n",
       "    </tr>\n",
       "    <tr>\n",
       "      <th>4</th>\n",
       "      <td>4.326234</td>\n",
       "      <td>0.421882</td>\n",
       "      <td>0.060840</td>\n",
       "      <td>0.003339</td>\n",
       "      <td>6</td>\n",
       "      <td>60</td>\n",
       "      <td>{'max_features': 6, 'n_estimators': 60}</td>\n",
       "      <td>-26600.089689</td>\n",
       "      <td>-26924.300385</td>\n",
       "      <td>-25892.202364</td>\n",
       "      <td>...</td>\n",
       "      <td>-26704.818897</td>\n",
       "      <td>485.723929</td>\n",
       "      <td>2</td>\n",
       "      <td>-10041.626740</td>\n",
       "      <td>-10016.001438</td>\n",
       "      <td>-10159.532332</td>\n",
       "      <td>-10112.931094</td>\n",
       "      <td>-9902.105840</td>\n",
       "      <td>-10046.439489</td>\n",
       "      <td>88.309642</td>\n",
       "    </tr>\n",
       "    <tr>\n",
       "      <th>5</th>\n",
       "      <td>6.877862</td>\n",
       "      <td>0.238087</td>\n",
       "      <td>0.104424</td>\n",
       "      <td>0.004652</td>\n",
       "      <td>6</td>\n",
       "      <td>100</td>\n",
       "      <td>{'max_features': 6, 'n_estimators': 100}</td>\n",
       "      <td>-26501.820372</td>\n",
       "      <td>-27067.751466</td>\n",
       "      <td>-26040.672477</td>\n",
       "      <td>...</td>\n",
       "      <td>-26676.374116</td>\n",
       "      <td>462.744212</td>\n",
       "      <td>1</td>\n",
       "      <td>-9916.762502</td>\n",
       "      <td>-9933.621740</td>\n",
       "      <td>-10056.776260</td>\n",
       "      <td>-9927.669892</td>\n",
       "      <td>-9818.645724</td>\n",
       "      <td>-9930.695223</td>\n",
       "      <td>75.714405</td>\n",
       "    </tr>\n",
       "  </tbody>\n",
       "</table>\n",
       "<p>6 rows × 22 columns</p>\n",
       "</div>"
      ],
      "text/plain": [
       "   mean_fit_time  std_fit_time  mean_score_time  std_score_time  \\\n",
       "0       1.070118      0.028992         0.028777        0.001432   \n",
       "1       2.197820      0.063793         0.058267        0.002882   \n",
       "2       3.957118      0.099223         0.111234        0.006392   \n",
       "3       2.031377      0.053779         0.031552        0.002193   \n",
       "4       4.326234      0.421882         0.060840        0.003339   \n",
       "5       6.877862      0.238087         0.104424        0.004652   \n",
       "\n",
       "  param_max_features param_n_estimators  \\\n",
       "0                  3                 30   \n",
       "1                  3                 60   \n",
       "2                  3                100   \n",
       "3                  6                 30   \n",
       "4                  6                 60   \n",
       "5                  6                100   \n",
       "\n",
       "                                     params  split0_test_score  \\\n",
       "0   {'max_features': 3, 'n_estimators': 30}      -27838.763171   \n",
       "1   {'max_features': 3, 'n_estimators': 60}      -27139.966988   \n",
       "2  {'max_features': 3, 'n_estimators': 100}      -27261.163265   \n",
       "3   {'max_features': 6, 'n_estimators': 30}      -26958.060867   \n",
       "4   {'max_features': 6, 'n_estimators': 60}      -26600.089689   \n",
       "5  {'max_features': 6, 'n_estimators': 100}      -26501.820372   \n",
       "\n",
       "   split1_test_score  split2_test_score  ...  mean_test_score  std_test_score  \\\n",
       "0      -27678.299055      -27113.170195  ...    -27785.286448      444.985707   \n",
       "1      -27351.260955      -26706.253460  ...    -27339.399588      440.430270   \n",
       "2      -27373.366559      -26522.511888  ...    -27267.694798      432.589932   \n",
       "3      -27439.542421      -26531.097147  ...    -27135.546285      420.042714   \n",
       "4      -26924.300385      -25892.202364  ...    -26704.818897      485.723929   \n",
       "5      -27067.751466      -26040.672477  ...    -26676.374116      462.744212   \n",
       "\n",
       "   rank_test_score  split0_train_score  split1_train_score  \\\n",
       "0                6       -10841.392289       -10707.915025   \n",
       "1                5       -10315.984070       -10276.455090   \n",
       "2                4       -10142.883024       -10142.278876   \n",
       "3                3       -10408.680887       -10324.409088   \n",
       "4                2       -10041.626740       -10016.001438   \n",
       "5                1        -9916.762502        -9933.621740   \n",
       "\n",
       "   split2_train_score  split3_train_score  split4_train_score  \\\n",
       "0       -10708.311492       -10753.965471       -10560.004064   \n",
       "1       -10355.090095       -10333.827595       -10196.118468   \n",
       "2       -10217.346331       -10212.176780       -10120.764440   \n",
       "3       -10488.201575       -10369.240331       -10269.277291   \n",
       "4       -10159.532332       -10112.931094        -9902.105840   \n",
       "5       -10056.776260        -9927.669892        -9818.645724   \n",
       "\n",
       "   mean_train_score  std_train_score  \n",
       "0     -10714.317668        91.224628  \n",
       "1     -10295.495064        55.998176  \n",
       "2     -10167.089890        39.764667  \n",
       "3     -10371.961834        74.394559  \n",
       "4     -10046.439489        88.309642  \n",
       "5      -9930.695223        75.714405  \n",
       "\n",
       "[6 rows x 22 columns]"
      ]
     },
     "execution_count": 59,
     "metadata": {},
     "output_type": "execute_result"
    }
   ],
   "source": [
    "#dataframe for results\n",
    "rf_df=pd.DataFrame(gs_rf.cv_results_)\n",
    "rf_df"
   ]
  },
  {
   "cell_type": "code",
   "execution_count": 60,
   "id": "43b8f03e",
   "metadata": {},
   "outputs": [
    {
     "name": "stdout",
     "output_type": "stream",
     "text": [
      "27785.28644756968 {'max_features': 3, 'n_estimators': 30}\n",
      "27339.39958786127 {'max_features': 3, 'n_estimators': 60}\n",
      "27267.69479810138 {'max_features': 3, 'n_estimators': 100}\n",
      "27135.546285103435 {'max_features': 6, 'n_estimators': 30}\n",
      "26704.818896778357 {'max_features': 6, 'n_estimators': 60}\n",
      "26676.3741157646 {'max_features': 6, 'n_estimators': 100}\n"
     ]
    }
   ],
   "source": [
    "#printing the evaluation scores\n",
    "cvres=gs_rf.cv_results_\n",
    "for mean_score, params in zip(cvres['mean_test_score'], cvres['params']):\n",
    "    print((-mean_score), params)"
   ]
  },
  {
   "cell_type": "markdown",
   "id": "c0d40a33",
   "metadata": {},
   "source": [
    "### Important scores of each columns"
   ]
  },
  {
   "cell_type": "code",
   "execution_count": 61,
   "id": "a75d2da0",
   "metadata": {},
   "outputs": [
    {
     "data": {
      "text/plain": [
       "[(0.5871698281964851, 'Monthly Owner Cost'),\n",
       " (0.15522392431562884, 'Per Capita Income'),\n",
       " (0.0719182736086959, 'Lng'),\n",
       " (0.06736201577474486, 'Household Income'),\n",
       " (0.0372605642335163, 'College Rate'),\n",
       " (0.018290606432868582, 'Lat'),\n",
       " (0.01635474393550311, 'High School Rate'),\n",
       " (0.015438611850054858, 'Personal Transport Rate'),\n",
       " (0.010742091962628304, 'Median Age'),\n",
       " (0.010230494034721524, 'Public Transport Rate'),\n",
       " (0.010008845655152714, 'Population')]"
      ]
     },
     "execution_count": 61,
     "metadata": {},
     "output_type": "execute_result"
    }
   ],
   "source": [
    "feature_importances=rf_b.feature_importances_\n",
    "col=X.columns\n",
    "sorted(zip(feature_importances, col), reverse=True)"
   ]
  },
  {
   "cell_type": "markdown",
   "id": "5ab3a039",
   "metadata": {},
   "source": [
    "## Predicting on Test set"
   ]
  },
  {
   "cell_type": "code",
   "execution_count": 62,
   "id": "9ce35f19",
   "metadata": {},
   "outputs": [],
   "source": [
    "#Testing the model in test data\n",
    "y_pred_lr=lr.predict(scaled_X_test)     #linear \n",
    "y_pred_lrl=lrl.predict(scaled_X_test)   #lasso\n",
    "y_pred_lrr=lrr.predict(scaled_X_test)   #Ridge\n",
    "y_pred_svm=svm.predict(scaled_X_test)   #svm\n",
    "y_pred_dt=dt_b.predict(scaled_X_test)   #Dicision tree\n",
    "y_pred_rf=rf_b.predict(scaled_X_test)   #Random forest"
   ]
  },
  {
   "cell_type": "markdown",
   "id": "f3537210",
   "metadata": {},
   "source": [
    "### R2_score"
   ]
  },
  {
   "cell_type": "code",
   "execution_count": 63,
   "id": "6d613962",
   "metadata": {},
   "outputs": [
    {
     "name": "stdout",
     "output_type": "stream",
     "text": [
      "The r2_score of linear regression is 0.8384201779423417\n",
      "The r2_score of lasso regression is 0.8384193863936207\n",
      "The r2_score of Ridge regression is -6.152493009518381\n",
      "The r2_score of SVM regression is -0.9768562069368107\n",
      "The r2_score of decision tree regression is 0.8880405550763419\n",
      "The r2_score of random forest regression is 0.9272033514241703\n"
     ]
    }
   ],
   "source": [
    "#regression matrices-mean absolute error(give you the prediction error)\n",
    "lin_r2_lr=r2_score(y_test, y_pred_lr)\n",
    "print(f'The r2_score of linear regression is {lin_r2_lr}')\n",
    "\n",
    "lin_r2_lrl=r2_score(y_test, y_pred_lrl)\n",
    "print(f'The r2_score of lasso regression is {lin_r2_lrl}')\n",
    "\n",
    "lin_r2_lrr=r2_score(y_test, y_pred_lrr)\n",
    "print(f'The r2_score of Ridge regression is {lin_r2_lrr}')\n",
    "\n",
    "lin_r2_svm=r2_score(y_test, y_pred_svm)\n",
    "print(f'The r2_score of SVM regression is {lin_r2_svm}')\n",
    "\n",
    "lin_r2_dt=r2_score(y_test, y_pred_dt)\n",
    "print(f'The r2_score of decision tree regression is {lin_r2_dt}')\n",
    "\n",
    "lin_r2_rf=r2_score(y_test, y_pred_rf)\n",
    "print(f'The r2_score of random forest regression is {lin_r2_rf}')\n"
   ]
  },
  {
   "cell_type": "markdown",
   "id": "a0ba479d",
   "metadata": {},
   "source": [
    "### Mean Absolute Error"
   ]
  },
  {
   "cell_type": "code",
   "execution_count": 64,
   "id": "a22e299a",
   "metadata": {},
   "outputs": [
    {
     "name": "stdout",
     "output_type": "stream",
     "text": [
      "The mean absoulte error of linear regression is 45391.51127805712\n",
      "The mean absoulte error of lasso regression is 45384.6376905644\n",
      "The mean absoulte error of Ridge regression is 478176.96694990434\n",
      "The mean absoulte error of SVM regression is 190481.49558414207\n",
      "The mean absoulte error of decision tree regression is 35804.66995902372\n",
      "The mean absoulte error of random forest regression is 27020.864755004768\n"
     ]
    }
   ],
   "source": [
    "#regression matrices-mean absolute error(give you the prediction error)\n",
    "lin_mae_lr=mean_absolute_error(y_test, y_pred_lr)\n",
    "print(f'The mean absoulte error of linear regression is {lin_mae_lr}')\n",
    "\n",
    "lin_mae_lrl=mean_absolute_error(y_test, y_pred_lrl)\n",
    "print(f'The mean absoulte error of lasso regression is {lin_mae_lrl}')\n",
    "\n",
    "lin_mae_lrr=mean_absolute_error(y_test, y_pred_lrr)\n",
    "print(f'The mean absoulte error of Ridge regression is {lin_mae_lrr}')\n",
    "\n",
    "lin_mae_svm=mean_absolute_error(y_test, y_pred_svm)\n",
    "print(f'The mean absoulte error of SVM regression is {lin_mae_svm}')\n",
    "\n",
    "lin_mae_dt=mean_absolute_error(y_test, y_pred_dt)\n",
    "print(f'The mean absoulte error of decision tree regression is {lin_mae_dt}')\n",
    "\n",
    "lin_mae_rf=mean_absolute_error(y_test, y_pred_rf)\n",
    "print(f'The mean absoulte error of random forest regression is {lin_mae_rf}')\n"
   ]
  },
  {
   "cell_type": "markdown",
   "id": "147cd072",
   "metadata": {},
   "source": [
    "### Root Mean Squared Error"
   ]
  },
  {
   "cell_type": "code",
   "execution_count": 65,
   "id": "16644e91",
   "metadata": {},
   "outputs": [
    {
     "name": "stdout",
     "output_type": "stream",
     "text": [
      "The mean squared error of linear regression is 77458.94583201356\n",
      "The mean squared error of lasso regression is 77459.13556007996\n",
      "The mean squared error of ridge regression is 515355.2925244246\n",
      "The mean squared error of SVM regression is 270935.2794640674\n",
      "The mean squared error of decision tree regression is 64477.529342903406\n",
      "The mean squared error of random forest regression is 51991.663397886536\n"
     ]
    }
   ],
   "source": [
    "#regression matrices-mean squared error(give you the prediction error)\n",
    "lin_mse_lr=mean_squared_error(y_test, y_pred_lr)\n",
    "lin_rmse_lr=np.sqrt(lin_mse_lr)\n",
    "print(f'The mean squared error of linear regression is {lin_rmse_lr}')\n",
    "\n",
    "lin_mse_lrl=mean_squared_error(y_test, y_pred_lrl)\n",
    "lin_rmse_lrl=np.sqrt(lin_mse_lrl)\n",
    "print(f'The mean squared error of lasso regression is {lin_rmse_lrl}')\n",
    "\n",
    "lin_mse_lrr=mean_squared_error(y_test, y_pred_lrr)\n",
    "lin_rmse_lrr=np.sqrt(lin_mse_lrr)\n",
    "print(f'The mean squared error of ridge regression is {lin_rmse_lrr}')\n",
    "\n",
    "lin_mse_svm=mean_squared_error(y_test, y_pred_svm)\n",
    "lin_rmse_svm=np.sqrt(lin_mse_svm)\n",
    "print(f'The mean squared error of SVM regression is {lin_rmse_svm}')\n",
    "\n",
    "lin_mse_dt=mean_squared_error(y_test, y_pred_dt)\n",
    "lin_rmse_dt=np.sqrt(lin_mse_dt)\n",
    "print(f'The mean squared error of decision tree regression is {lin_rmse_dt}')\n",
    "\n",
    "lin_mse_rf=mean_squared_error(y_test, y_pred_rf)\n",
    "lin_rmse_rf=np.sqrt(lin_mse_rf)\n",
    "print(f'The mean squared error of random forest regression is {lin_rmse_rf}')"
   ]
  },
  {
   "cell_type": "markdown",
   "id": "115fe6e0",
   "metadata": {},
   "source": [
    "### Actual and predicted house rate --best model( RandomForest Regressor)"
   ]
  },
  {
   "cell_type": "code",
   "execution_count": 66,
   "id": "96fcc680",
   "metadata": {},
   "outputs": [
    {
     "data": {
      "text/html": [
       "<div>\n",
       "<style scoped>\n",
       "    .dataframe tbody tr th:only-of-type {\n",
       "        vertical-align: middle;\n",
       "    }\n",
       "\n",
       "    .dataframe tbody tr th {\n",
       "        vertical-align: top;\n",
       "    }\n",
       "\n",
       "    .dataframe thead th {\n",
       "        text-align: right;\n",
       "    }\n",
       "</style>\n",
       "<table border=\"1\" class=\"dataframe\">\n",
       "  <thead>\n",
       "    <tr style=\"text-align: right;\">\n",
       "      <th></th>\n",
       "      <th>Actual House Value</th>\n",
       "      <th>Random Forest Predicted House Value</th>\n",
       "      <th>Linear Reg Predicted House Value</th>\n",
       "      <th>Lasso Reg Predicted House Value</th>\n",
       "      <th>Ridge Reg Predicted House Value</th>\n",
       "      <th>Decesion Tree Predicted House Value</th>\n",
       "      <th>SVM Predicted House Value</th>\n",
       "    </tr>\n",
       "    <tr>\n",
       "      <th>City</th>\n",
       "      <th></th>\n",
       "      <th></th>\n",
       "      <th></th>\n",
       "      <th></th>\n",
       "      <th></th>\n",
       "      <th></th>\n",
       "      <th></th>\n",
       "    </tr>\n",
       "  </thead>\n",
       "  <tbody>\n",
       "    <tr>\n",
       "      <th>Bristol</th>\n",
       "      <td>179900.0</td>\n",
       "      <td>157587.0</td>\n",
       "      <td>126194.356363</td>\n",
       "      <td>126273.012635</td>\n",
       "      <td>-270817.959055</td>\n",
       "      <td>141860.113813</td>\n",
       "      <td>20961.995932</td>\n",
       "    </tr>\n",
       "    <tr>\n",
       "      <th>Milford</th>\n",
       "      <td>230500.0</td>\n",
       "      <td>228986.0</td>\n",
       "      <td>244240.716792</td>\n",
       "      <td>244259.451427</td>\n",
       "      <td>-269915.898449</td>\n",
       "      <td>231492.250233</td>\n",
       "      <td>20998.357916</td>\n",
       "    </tr>\n",
       "    <tr>\n",
       "      <th>Mukwonago</th>\n",
       "      <td>293900.0</td>\n",
       "      <td>264498.0</td>\n",
       "      <td>291680.687706</td>\n",
       "      <td>291732.637730</td>\n",
       "      <td>-270580.198353</td>\n",
       "      <td>276803.508772</td>\n",
       "      <td>20997.074571</td>\n",
       "    </tr>\n",
       "    <tr>\n",
       "      <th>Purvis</th>\n",
       "      <td>157200.0</td>\n",
       "      <td>144777.0</td>\n",
       "      <td>139587.330258</td>\n",
       "      <td>139619.944650</td>\n",
       "      <td>-264565.229587</td>\n",
       "      <td>141860.113813</td>\n",
       "      <td>20958.056641</td>\n",
       "    </tr>\n",
       "    <tr>\n",
       "      <th>Wilson</th>\n",
       "      <td>82100.0</td>\n",
       "      <td>71643.0</td>\n",
       "      <td>101869.162827</td>\n",
       "      <td>101890.779238</td>\n",
       "      <td>-265280.621329</td>\n",
       "      <td>85051.523109</td>\n",
       "      <td>20976.031113</td>\n",
       "    </tr>\n",
       "    <tr>\n",
       "      <th>...</th>\n",
       "      <td>...</td>\n",
       "      <td>...</td>\n",
       "      <td>...</td>\n",
       "      <td>...</td>\n",
       "      <td>...</td>\n",
       "      <td>...</td>\n",
       "      <td>...</td>\n",
       "    </tr>\n",
       "    <tr>\n",
       "      <th>Hoodsport</th>\n",
       "      <td>174900.0</td>\n",
       "      <td>178783.0</td>\n",
       "      <td>221043.343631</td>\n",
       "      <td>220933.860132</td>\n",
       "      <td>-261501.649115</td>\n",
       "      <td>157892.090395</td>\n",
       "      <td>20993.663810</td>\n",
       "    </tr>\n",
       "    <tr>\n",
       "      <th>Leicester</th>\n",
       "      <td>262000.0</td>\n",
       "      <td>234072.0</td>\n",
       "      <td>223904.421604</td>\n",
       "      <td>223960.290008</td>\n",
       "      <td>-271594.716081</td>\n",
       "      <td>231492.250233</td>\n",
       "      <td>20986.535411</td>\n",
       "    </tr>\n",
       "    <tr>\n",
       "      <th>Whitewater</th>\n",
       "      <td>166400.0</td>\n",
       "      <td>149443.0</td>\n",
       "      <td>176584.679936</td>\n",
       "      <td>176642.653945</td>\n",
       "      <td>-267992.586123</td>\n",
       "      <td>183732.282713</td>\n",
       "      <td>20930.881934</td>\n",
       "    </tr>\n",
       "    <tr>\n",
       "      <th>Taylor</th>\n",
       "      <td>164600.0</td>\n",
       "      <td>151173.0</td>\n",
       "      <td>173167.517293</td>\n",
       "      <td>173275.784436</td>\n",
       "      <td>-266572.852322</td>\n",
       "      <td>141860.113813</td>\n",
       "      <td>20986.085031</td>\n",
       "    </tr>\n",
       "    <tr>\n",
       "      <th>Kincaid</th>\n",
       "      <td>112500.0</td>\n",
       "      <td>99135.0</td>\n",
       "      <td>156166.128427</td>\n",
       "      <td>156141.565851</td>\n",
       "      <td>-265351.237129</td>\n",
       "      <td>121212.079379</td>\n",
       "      <td>20946.927982</td>\n",
       "    </tr>\n",
       "  </tbody>\n",
       "</table>\n",
       "<p>5245 rows × 7 columns</p>\n",
       "</div>"
      ],
      "text/plain": [
       "            Actual House Value  Random Forest Predicted House Value  \\\n",
       "City                                                                  \n",
       "Bristol               179900.0                             157587.0   \n",
       "Milford               230500.0                             228986.0   \n",
       "Mukwonago             293900.0                             264498.0   \n",
       "Purvis                157200.0                             144777.0   \n",
       "Wilson                 82100.0                              71643.0   \n",
       "...                        ...                                  ...   \n",
       "Hoodsport             174900.0                             178783.0   \n",
       "Leicester             262000.0                             234072.0   \n",
       "Whitewater            166400.0                             149443.0   \n",
       "Taylor                164600.0                             151173.0   \n",
       "Kincaid               112500.0                              99135.0   \n",
       "\n",
       "            Linear Reg Predicted House Value  Lasso Reg Predicted House Value  \\\n",
       "City                                                                            \n",
       "Bristol                        126194.356363                    126273.012635   \n",
       "Milford                        244240.716792                    244259.451427   \n",
       "Mukwonago                      291680.687706                    291732.637730   \n",
       "Purvis                         139587.330258                    139619.944650   \n",
       "Wilson                         101869.162827                    101890.779238   \n",
       "...                                      ...                              ...   \n",
       "Hoodsport                      221043.343631                    220933.860132   \n",
       "Leicester                      223904.421604                    223960.290008   \n",
       "Whitewater                     176584.679936                    176642.653945   \n",
       "Taylor                         173167.517293                    173275.784436   \n",
       "Kincaid                        156166.128427                    156141.565851   \n",
       "\n",
       "            Ridge Reg Predicted House Value  \\\n",
       "City                                          \n",
       "Bristol                      -270817.959055   \n",
       "Milford                      -269915.898449   \n",
       "Mukwonago                    -270580.198353   \n",
       "Purvis                       -264565.229587   \n",
       "Wilson                       -265280.621329   \n",
       "...                                     ...   \n",
       "Hoodsport                    -261501.649115   \n",
       "Leicester                    -271594.716081   \n",
       "Whitewater                   -267992.586123   \n",
       "Taylor                       -266572.852322   \n",
       "Kincaid                      -265351.237129   \n",
       "\n",
       "            Decesion Tree Predicted House Value  SVM Predicted House Value  \n",
       "City                                                                        \n",
       "Bristol                           141860.113813               20961.995932  \n",
       "Milford                           231492.250233               20998.357916  \n",
       "Mukwonago                         276803.508772               20997.074571  \n",
       "Purvis                            141860.113813               20958.056641  \n",
       "Wilson                             85051.523109               20976.031113  \n",
       "...                                         ...                        ...  \n",
       "Hoodsport                         157892.090395               20993.663810  \n",
       "Leicester                         231492.250233               20986.535411  \n",
       "Whitewater                        183732.282713               20930.881934  \n",
       "Taylor                            141860.113813               20986.085031  \n",
       "Kincaid                           121212.079379               20946.927982  \n",
       "\n",
       "[5245 rows x 7 columns]"
      ]
     },
     "execution_count": 66,
     "metadata": {},
     "output_type": "execute_result"
    }
   ],
   "source": [
    "#Actual and predicated value of house using our best model\n",
    "house_value=pd.DataFrame({'Actual House Value':y_test, \n",
    "                'Random Forest Predicted House Value':y_pred_rf,\n",
    "                'Linear Reg Predicted House Value':y_pred_lr,\n",
    "                'Lasso Reg Predicted House Value':y_pred_lrl,\n",
    "                'Ridge Reg Predicted House Value':y_pred_lrr,       \n",
    "                'Decesion Tree Predicted House Value':y_pred_dt,\n",
    "                 'SVM Predicted House Value':y_pred_svm},index=test_index)\n",
    "house_value"
   ]
  },
  {
   "cell_type": "markdown",
   "id": "0ea385b7",
   "metadata": {},
   "source": [
    "## Evaluation metrices of differnt models"
   ]
  },
  {
   "cell_type": "code",
   "execution_count": 67,
   "id": "e72ea933",
   "metadata": {},
   "outputs": [
    {
     "data": {
      "text/html": [
       "<div>\n",
       "<style scoped>\n",
       "    .dataframe tbody tr th:only-of-type {\n",
       "        vertical-align: middle;\n",
       "    }\n",
       "\n",
       "    .dataframe tbody tr th {\n",
       "        vertical-align: top;\n",
       "    }\n",
       "\n",
       "    .dataframe thead th {\n",
       "        text-align: right;\n",
       "    }\n",
       "</style>\n",
       "<table border=\"1\" class=\"dataframe\">\n",
       "  <thead>\n",
       "    <tr style=\"text-align: right;\">\n",
       "      <th></th>\n",
       "      <th>Linear Reg</th>\n",
       "      <th>Lasso Reg</th>\n",
       "      <th>Ridge Reg</th>\n",
       "      <th>SVM Reg</th>\n",
       "      <th>Decision Tree</th>\n",
       "      <th>Random Forest</th>\n",
       "    </tr>\n",
       "  </thead>\n",
       "  <tbody>\n",
       "    <tr>\n",
       "      <th>R2</th>\n",
       "      <td>0.838420</td>\n",
       "      <td>0.838419</td>\n",
       "      <td>-6.152493</td>\n",
       "      <td>-0.976856</td>\n",
       "      <td>0.888041</td>\n",
       "      <td>0.927203</td>\n",
       "    </tr>\n",
       "    <tr>\n",
       "      <th>Mean Absolute Error</th>\n",
       "      <td>45391.511278</td>\n",
       "      <td>45384.637691</td>\n",
       "      <td>478176.966950</td>\n",
       "      <td>190481.495584</td>\n",
       "      <td>35804.669959</td>\n",
       "      <td>27020.864755</td>\n",
       "    </tr>\n",
       "    <tr>\n",
       "      <th>Root Mean Squared Error</th>\n",
       "      <td>77458.945832</td>\n",
       "      <td>77459.135560</td>\n",
       "      <td>515355.292524</td>\n",
       "      <td>270935.279464</td>\n",
       "      <td>64477.529343</td>\n",
       "      <td>51991.663398</td>\n",
       "    </tr>\n",
       "  </tbody>\n",
       "</table>\n",
       "</div>"
      ],
      "text/plain": [
       "                           Linear Reg     Lasso Reg      Ridge Reg  \\\n",
       "R2                           0.838420      0.838419      -6.152493   \n",
       "Mean Absolute Error      45391.511278  45384.637691  478176.966950   \n",
       "Root Mean Squared Error  77458.945832  77459.135560  515355.292524   \n",
       "\n",
       "                               SVM Reg  Decision Tree  Random Forest  \n",
       "R2                           -0.976856       0.888041       0.927203  \n",
       "Mean Absolute Error      190481.495584   35804.669959   27020.864755  \n",
       "Root Mean Squared Error  270935.279464   64477.529343   51991.663398  "
      ]
     },
     "execution_count": 67,
     "metadata": {},
     "output_type": "execute_result"
    }
   ],
   "source": [
    "#making dataframe on evaluation metrices\n",
    "evaluation_df=pd.DataFrame({'Linear Reg':[lin_r2_lr,lin_mae_lr,lin_rmse_lr],\n",
    "                           'Lasso Reg':[lin_r2_lrl,lin_mae_lrl,lin_rmse_lrl],\n",
    "                            'Ridge Reg':[lin_r2_lrr,lin_mae_lrr,lin_rmse_lrr],\n",
    "                            'SVM Reg':[lin_r2_svm,lin_mae_svm,lin_rmse_svm],\n",
    "                           'Decision Tree':[lin_r2_dt,lin_mae_dt,lin_rmse_dt],\n",
    "                            'Random Forest':[lin_r2_rf,lin_mae_rf,lin_rmse_rf]}\n",
    "                           ,index=['R2','Mean Absolute Error',\n",
    "                                    'Root Mean Squared Error'])\n",
    "evaluation_df"
   ]
  },
  {
   "cell_type": "markdown",
   "id": "990f1b32",
   "metadata": {},
   "source": [
    "## Saving the best model"
   ]
  },
  {
   "cell_type": "code",
   "execution_count": 68,
   "id": "85495144",
   "metadata": {},
   "outputs": [
    {
     "data": {
      "text/plain": [
       "['model.pkl']"
      ]
     },
     "execution_count": 68,
     "metadata": {},
     "output_type": "execute_result"
    }
   ],
   "source": [
    "import joblib\n",
    "joblib.dump(rf_b, 'model.pkl')"
   ]
  },
  {
   "cell_type": "code",
   "execution_count": 69,
   "id": "83a5547e",
   "metadata": {},
   "outputs": [
    {
     "data": {
      "text/plain": [
       "['scaler.pkl']"
      ]
     },
     "execution_count": 69,
     "metadata": {},
     "output_type": "execute_result"
    }
   ],
   "source": [
    "#saving standard scaler\n",
    "joblib.dump(std_scaler, 'scaler.pkl')"
   ]
  },
  {
   "cell_type": "markdown",
   "id": "2ec379ac",
   "metadata": {},
   "source": [
    "## 95% confidence interval for the test MAE:"
   ]
  },
  {
   "cell_type": "code",
   "execution_count": 70,
   "id": "d32c5f3b",
   "metadata": {},
   "outputs": [
    {
     "data": {
      "text/plain": [
       "(34353.011572784715, 37256.32834526272)"
      ]
     },
     "execution_count": 70,
     "metadata": {},
     "output_type": "execute_result"
    }
   ],
   "source": [
    "#95% confident level\n",
    "confidence = 0.95\n",
    "errors = np.abs((y_pred_dt - y_test)) \n",
    "stats.t.interval(confidence, len(errors) - 1,\n",
    "                         loc=errors.mean(),\n",
    "                         scale=stats.sem(errors))"
   ]
  },
  {
   "cell_type": "markdown",
   "id": "198a4022",
   "metadata": {},
   "source": [
    "# Predecting the house value of 2017 census data from our best model- Random Forest"
   ]
  },
  {
   "cell_type": "code",
   "execution_count": 92,
   "id": "a114d6a4",
   "metadata": {},
   "outputs": [
    {
     "data": {
      "text/plain": [
       "Index(['County', 'State', 'Population', 'Median Age', 'Household Income',\n",
       "       'Per Capita Income', 'Poverty Rate', 'Unemployment Rate', 'House Value',\n",
       "       'House Construction Year', 'Monthly Owner Cost', 'Monthly Rent',\n",
       "       'Public Transport Rate', 'Personal Transport Rate', 'High School Rate',\n",
       "       'College Rate', 'Uneducated Rate', 'White Population Rate',\n",
       "       'Black Population Rate', 'Hispanic Population Rate',\n",
       "       'Asian Population Rate', 'City', 'Lat', 'Lng', 'Housing_units'],\n",
       "      dtype='object')"
      ]
     },
     "execution_count": 92,
     "metadata": {},
     "output_type": "execute_result"
    }
   ],
   "source": [
    "# 2017 usa cleaned data for machine learning\n",
    "path_2017=os.path.join('output_census', 'usa_2017_ml.csv')\n",
    "usa_17=pd.read_csv(path_2017)\n",
    "usa_17.columns"
   ]
  },
  {
   "cell_type": "code",
   "execution_count": 93,
   "id": "6b72957c",
   "metadata": {},
   "outputs": [],
   "source": [
    "#choosing only important columns\n",
    "usa_2017=usa_17[[ 'City','House Value','Monthly Owner Cost','Per Capita Income','Lng',\n",
    " 'Household Income','College Rate','Lat',\n",
    "  'Personal Transport Rate','High School Rate','Median Age',\n",
    " 'Public Transport Rate','Population']]"
   ]
  },
  {
   "cell_type": "code",
   "execution_count": 94,
   "id": "c904cd26",
   "metadata": {},
   "outputs": [],
   "source": [
    "#seting city as a index\n",
    "usa_2017.set_index('City', inplace=True)"
   ]
  },
  {
   "cell_type": "markdown",
   "id": "d0cabc84",
   "metadata": {},
   "source": [
    "#### Prepare a feature matrix (X) and response (y)  for scikit-learn."
   ]
  },
  {
   "cell_type": "code",
   "execution_count": 95,
   "id": "6ebb033d",
   "metadata": {},
   "outputs": [
    {
     "data": {
      "text/html": [
       "<div>\n",
       "<style scoped>\n",
       "    .dataframe tbody tr th:only-of-type {\n",
       "        vertical-align: middle;\n",
       "    }\n",
       "\n",
       "    .dataframe tbody tr th {\n",
       "        vertical-align: top;\n",
       "    }\n",
       "\n",
       "    .dataframe thead th {\n",
       "        text-align: right;\n",
       "    }\n",
       "</style>\n",
       "<table border=\"1\" class=\"dataframe\">\n",
       "  <thead>\n",
       "    <tr style=\"text-align: right;\">\n",
       "      <th></th>\n",
       "      <th>Monthly Owner Cost</th>\n",
       "      <th>Per Capita Income</th>\n",
       "      <th>Lng</th>\n",
       "      <th>Household Income</th>\n",
       "      <th>College Rate</th>\n",
       "      <th>Lat</th>\n",
       "      <th>Personal Transport Rate</th>\n",
       "      <th>High School Rate</th>\n",
       "      <th>Median Age</th>\n",
       "      <th>Public Transport Rate</th>\n",
       "      <th>Population</th>\n",
       "    </tr>\n",
       "    <tr>\n",
       "      <th>City</th>\n",
       "      <th></th>\n",
       "      <th></th>\n",
       "      <th></th>\n",
       "      <th></th>\n",
       "      <th></th>\n",
       "      <th></th>\n",
       "      <th></th>\n",
       "      <th></th>\n",
       "      <th></th>\n",
       "      <th></th>\n",
       "      <th></th>\n",
       "    </tr>\n",
       "  </thead>\n",
       "  <tbody>\n",
       "    <tr>\n",
       "      <th>Aguada</th>\n",
       "      <td>846.0</td>\n",
       "      <td>8978.0</td>\n",
       "      <td>-67.18</td>\n",
       "      <td>16190.0</td>\n",
       "      <td>9.421306</td>\n",
       "      <td>18.36</td>\n",
       "      <td>68.798019</td>\n",
       "      <td>13.813155</td>\n",
       "      <td>40.9</td>\n",
       "      <td>0.256104</td>\n",
       "      <td>39209.0</td>\n",
       "    </tr>\n",
       "    <tr>\n",
       "      <th>Aguadilla</th>\n",
       "      <td>867.0</td>\n",
       "      <td>10897.0</td>\n",
       "      <td>-67.11</td>\n",
       "      <td>16645.0</td>\n",
       "      <td>11.684452</td>\n",
       "      <td>18.45</td>\n",
       "      <td>84.568671</td>\n",
       "      <td>16.926299</td>\n",
       "      <td>40.4</td>\n",
       "      <td>0.507445</td>\n",
       "      <td>50135.0</td>\n",
       "    </tr>\n",
       "    <tr>\n",
       "      <th>Maricao</th>\n",
       "      <td>538.0</td>\n",
       "      <td>5960.0</td>\n",
       "      <td>-66.90</td>\n",
       "      <td>13387.0</td>\n",
       "      <td>5.092005</td>\n",
       "      <td>18.20</td>\n",
       "      <td>79.640719</td>\n",
       "      <td>19.225888</td>\n",
       "      <td>42.8</td>\n",
       "      <td>0.000000</td>\n",
       "      <td>6304.0</td>\n",
       "    </tr>\n",
       "    <tr>\n",
       "      <th>Anasco</th>\n",
       "      <td>733.0</td>\n",
       "      <td>9266.0</td>\n",
       "      <td>-67.13</td>\n",
       "      <td>18741.0</td>\n",
       "      <td>8.220370</td>\n",
       "      <td>18.28</td>\n",
       "      <td>75.017827</td>\n",
       "      <td>18.865531</td>\n",
       "      <td>41.4</td>\n",
       "      <td>0.237699</td>\n",
       "      <td>27590.0</td>\n",
       "    </tr>\n",
       "    <tr>\n",
       "      <th>Arecibo</th>\n",
       "      <td>757.0</td>\n",
       "      <td>10283.0</td>\n",
       "      <td>-66.68</td>\n",
       "      <td>17744.0</td>\n",
       "      <td>11.881853</td>\n",
       "      <td>18.40</td>\n",
       "      <td>86.304248</td>\n",
       "      <td>18.700253</td>\n",
       "      <td>41.4</td>\n",
       "      <td>0.945440</td>\n",
       "      <td>62566.0</td>\n",
       "    </tr>\n",
       "    <tr>\n",
       "      <th>...</th>\n",
       "      <td>...</td>\n",
       "      <td>...</td>\n",
       "      <td>...</td>\n",
       "      <td>...</td>\n",
       "      <td>...</td>\n",
       "      <td>...</td>\n",
       "      <td>...</td>\n",
       "      <td>...</td>\n",
       "      <td>...</td>\n",
       "      <td>...</td>\n",
       "      <td>...</td>\n",
       "    </tr>\n",
       "    <tr>\n",
       "      <th>Craig</th>\n",
       "      <td>1621.0</td>\n",
       "      <td>33002.0</td>\n",
       "      <td>-133.13</td>\n",
       "      <td>58047.0</td>\n",
       "      <td>10.045662</td>\n",
       "      <td>55.49</td>\n",
       "      <td>49.793814</td>\n",
       "      <td>21.156773</td>\n",
       "      <td>41.1</td>\n",
       "      <td>1.030928</td>\n",
       "      <td>1971.0</td>\n",
       "    </tr>\n",
       "    <tr>\n",
       "      <th>Hydaburg</th>\n",
       "      <td>600.0</td>\n",
       "      <td>16408.0</td>\n",
       "      <td>-132.90</td>\n",
       "      <td>31250.0</td>\n",
       "      <td>5.228758</td>\n",
       "      <td>55.20</td>\n",
       "      <td>29.885057</td>\n",
       "      <td>24.183007</td>\n",
       "      <td>45.0</td>\n",
       "      <td>0.000000</td>\n",
       "      <td>306.0</td>\n",
       "    </tr>\n",
       "    <tr>\n",
       "      <th>Klawock</th>\n",
       "      <td>1307.0</td>\n",
       "      <td>24783.0</td>\n",
       "      <td>-133.08</td>\n",
       "      <td>48646.0</td>\n",
       "      <td>4.106548</td>\n",
       "      <td>55.55</td>\n",
       "      <td>53.915663</td>\n",
       "      <td>26.415094</td>\n",
       "      <td>45.1</td>\n",
       "      <td>0.000000</td>\n",
       "      <td>901.0</td>\n",
       "    </tr>\n",
       "    <tr>\n",
       "      <th>Metlakatla</th>\n",
       "      <td>1242.0</td>\n",
       "      <td>22927.0</td>\n",
       "      <td>-131.40</td>\n",
       "      <td>57969.0</td>\n",
       "      <td>4.572447</td>\n",
       "      <td>55.10</td>\n",
       "      <td>59.578207</td>\n",
       "      <td>17.755344</td>\n",
       "      <td>32.8</td>\n",
       "      <td>2.284710</td>\n",
       "      <td>1684.0</td>\n",
       "    </tr>\n",
       "    <tr>\n",
       "      <th>Wrangell</th>\n",
       "      <td>1380.0</td>\n",
       "      <td>29861.0</td>\n",
       "      <td>-132.00</td>\n",
       "      <td>55742.0</td>\n",
       "      <td>9.735234</td>\n",
       "      <td>56.00</td>\n",
       "      <td>58.627451</td>\n",
       "      <td>24.928717</td>\n",
       "      <td>49.0</td>\n",
       "      <td>0.784314</td>\n",
       "      <td>2455.0</td>\n",
       "    </tr>\n",
       "  </tbody>\n",
       "</table>\n",
       "<p>26457 rows × 11 columns</p>\n",
       "</div>"
      ],
      "text/plain": [
       "            Monthly Owner Cost  Per Capita Income     Lng  Household Income  \\\n",
       "City                                                                          \n",
       "Aguada                   846.0             8978.0  -67.18           16190.0   \n",
       "Aguadilla                867.0            10897.0  -67.11           16645.0   \n",
       "Maricao                  538.0             5960.0  -66.90           13387.0   \n",
       "Anasco                   733.0             9266.0  -67.13           18741.0   \n",
       "Arecibo                  757.0            10283.0  -66.68           17744.0   \n",
       "...                        ...                ...     ...               ...   \n",
       "Craig                   1621.0            33002.0 -133.13           58047.0   \n",
       "Hydaburg                 600.0            16408.0 -132.90           31250.0   \n",
       "Klawock                 1307.0            24783.0 -133.08           48646.0   \n",
       "Metlakatla              1242.0            22927.0 -131.40           57969.0   \n",
       "Wrangell                1380.0            29861.0 -132.00           55742.0   \n",
       "\n",
       "            College Rate    Lat  Personal Transport Rate  High School Rate  \\\n",
       "City                                                                         \n",
       "Aguada          9.421306  18.36                68.798019         13.813155   \n",
       "Aguadilla      11.684452  18.45                84.568671         16.926299   \n",
       "Maricao         5.092005  18.20                79.640719         19.225888   \n",
       "Anasco          8.220370  18.28                75.017827         18.865531   \n",
       "Arecibo        11.881853  18.40                86.304248         18.700253   \n",
       "...                  ...    ...                      ...               ...   \n",
       "Craig          10.045662  55.49                49.793814         21.156773   \n",
       "Hydaburg        5.228758  55.20                29.885057         24.183007   \n",
       "Klawock         4.106548  55.55                53.915663         26.415094   \n",
       "Metlakatla      4.572447  55.10                59.578207         17.755344   \n",
       "Wrangell        9.735234  56.00                58.627451         24.928717   \n",
       "\n",
       "            Median Age  Public Transport Rate  Population  \n",
       "City                                                       \n",
       "Aguada            40.9               0.256104     39209.0  \n",
       "Aguadilla         40.4               0.507445     50135.0  \n",
       "Maricao           42.8               0.000000      6304.0  \n",
       "Anasco            41.4               0.237699     27590.0  \n",
       "Arecibo           41.4               0.945440     62566.0  \n",
       "...                ...                    ...         ...  \n",
       "Craig             41.1               1.030928      1971.0  \n",
       "Hydaburg          45.0               0.000000       306.0  \n",
       "Klawock           45.1               0.000000       901.0  \n",
       "Metlakatla        32.8               2.284710      1684.0  \n",
       "Wrangell          49.0               0.784314      2455.0  \n",
       "\n",
       "[26457 rows x 11 columns]"
      ]
     },
     "execution_count": 95,
     "metadata": {},
     "output_type": "execute_result"
    }
   ],
   "source": [
    "# create feature matrix (X)\n",
    "#selecting all columns except 'House Value'\n",
    "X_2017=usa_2017.drop('House Value', axis=1) \n",
    "\n",
    "# create response vector (y)\n",
    "##selecting 'House Value'\n",
    "y_2017=usa_2017['House Value'].values  \n",
    "X_2017"
   ]
  },
  {
   "cell_type": "markdown",
   "id": "c1e37ded",
   "metadata": {},
   "source": [
    "#### Scaling using standard scaler on feature matrix (X) "
   ]
  },
  {
   "cell_type": "code",
   "execution_count": 96,
   "id": "a2026a81",
   "metadata": {},
   "outputs": [],
   "source": [
    "#Different columns have differnt scale so standrazied it \n",
    "#features scaling using standard scaler on x only\n",
    "scaled_X_2017=std_scaler.transform(X_2017)"
   ]
  },
  {
   "cell_type": "code",
   "execution_count": 97,
   "id": "6af616ac",
   "metadata": {},
   "outputs": [
    {
     "name": "stdout",
     "output_type": "stream",
     "text": [
      "(26457, 11)\n",
      "(26457,)\n"
     ]
    }
   ],
   "source": [
    "#shape of the X and y\n",
    "print(scaled_X_2017.shape)\n",
    "print(y_2017.shape)"
   ]
  },
  {
   "cell_type": "markdown",
   "id": "f10cfd14",
   "metadata": {},
   "source": [
    "#### Predcting the house value using our best model Random Forest Regressor"
   ]
  },
  {
   "cell_type": "code",
   "execution_count": 98,
   "id": "10cbbbc5",
   "metadata": {},
   "outputs": [],
   "source": [
    "#predecting house value using random forest model\n",
    "y_pred=rf_b.predict(scaled_X_2017) "
   ]
  },
  {
   "cell_type": "code",
   "execution_count": 99,
   "id": "cdd33d64",
   "metadata": {},
   "outputs": [
    {
     "name": "stdout",
     "output_type": "stream",
     "text": [
      "The mean absoulte error of our best model for 2017 census data is 27497.7218686926\n",
      "The mean squared error of our best model for 2017 census data is 46070.39578509912\n"
     ]
    }
   ],
   "source": [
    "#regression matrices-mean absolute error(give you the prediction error)\n",
    "mae=mean_absolute_error(y_2017, y_pred)\n",
    "print(f'The mean absoulte error of our best model for 2017 census data is {mae}')\n",
    "\n",
    "#regression matrices-mean squared error(give you the prediction error)\n",
    "mse=mean_squared_error(y_2017, y_pred)\n",
    "rmse=np.sqrt(mse)\n",
    "print(f'The mean squared error of our best model for 2017 census data is {rmse}')"
   ]
  },
  {
   "cell_type": "code",
   "execution_count": 100,
   "id": "a2aa5f66",
   "metadata": {},
   "outputs": [
    {
     "data": {
      "text/html": [
       "<div>\n",
       "<style scoped>\n",
       "    .dataframe tbody tr th:only-of-type {\n",
       "        vertical-align: middle;\n",
       "    }\n",
       "\n",
       "    .dataframe tbody tr th {\n",
       "        vertical-align: top;\n",
       "    }\n",
       "\n",
       "    .dataframe thead th {\n",
       "        text-align: right;\n",
       "    }\n",
       "</style>\n",
       "<table border=\"1\" class=\"dataframe\">\n",
       "  <thead>\n",
       "    <tr style=\"text-align: right;\">\n",
       "      <th></th>\n",
       "      <th>ActualHouseValue</th>\n",
       "      <th>RandomForestPredictedHouseValue</th>\n",
       "      <th>Lat</th>\n",
       "      <th>Lng</th>\n",
       "    </tr>\n",
       "    <tr>\n",
       "      <th>City</th>\n",
       "      <th></th>\n",
       "      <th></th>\n",
       "      <th></th>\n",
       "      <th></th>\n",
       "    </tr>\n",
       "  </thead>\n",
       "  <tbody>\n",
       "    <tr>\n",
       "      <th>Aguada</th>\n",
       "      <td>87300.0</td>\n",
       "      <td>96204.0</td>\n",
       "      <td>18.36</td>\n",
       "      <td>-67.18</td>\n",
       "    </tr>\n",
       "    <tr>\n",
       "      <th>Aguadilla</th>\n",
       "      <td>122300.0</td>\n",
       "      <td>112118.0</td>\n",
       "      <td>18.45</td>\n",
       "      <td>-67.11</td>\n",
       "    </tr>\n",
       "    <tr>\n",
       "      <th>Maricao</th>\n",
       "      <td>92700.0</td>\n",
       "      <td>86649.0</td>\n",
       "      <td>18.20</td>\n",
       "      <td>-66.90</td>\n",
       "    </tr>\n",
       "    <tr>\n",
       "      <th>Anasco</th>\n",
       "      <td>90300.0</td>\n",
       "      <td>92350.0</td>\n",
       "      <td>18.28</td>\n",
       "      <td>-67.13</td>\n",
       "    </tr>\n",
       "    <tr>\n",
       "      <th>Arecibo</th>\n",
       "      <td>97300.0</td>\n",
       "      <td>103016.0</td>\n",
       "      <td>18.40</td>\n",
       "      <td>-66.68</td>\n",
       "    </tr>\n",
       "    <tr>\n",
       "      <th>...</th>\n",
       "      <td>...</td>\n",
       "      <td>...</td>\n",
       "      <td>...</td>\n",
       "      <td>...</td>\n",
       "    </tr>\n",
       "    <tr>\n",
       "      <th>Craig</th>\n",
       "      <td>225700.0</td>\n",
       "      <td>247103.0</td>\n",
       "      <td>55.49</td>\n",
       "      <td>-133.13</td>\n",
       "    </tr>\n",
       "    <tr>\n",
       "      <th>Hydaburg</th>\n",
       "      <td>90700.0</td>\n",
       "      <td>99531.0</td>\n",
       "      <td>55.20</td>\n",
       "      <td>-132.90</td>\n",
       "    </tr>\n",
       "    <tr>\n",
       "      <th>Klawock</th>\n",
       "      <td>160900.0</td>\n",
       "      <td>181248.0</td>\n",
       "      <td>55.55</td>\n",
       "      <td>-133.08</td>\n",
       "    </tr>\n",
       "    <tr>\n",
       "      <th>Metlakatla</th>\n",
       "      <td>122600.0</td>\n",
       "      <td>183936.0</td>\n",
       "      <td>55.10</td>\n",
       "      <td>-131.40</td>\n",
       "    </tr>\n",
       "    <tr>\n",
       "      <th>Wrangell</th>\n",
       "      <td>195900.0</td>\n",
       "      <td>218822.0</td>\n",
       "      <td>56.00</td>\n",
       "      <td>-132.00</td>\n",
       "    </tr>\n",
       "  </tbody>\n",
       "</table>\n",
       "<p>26457 rows × 4 columns</p>\n",
       "</div>"
      ],
      "text/plain": [
       "            ActualHouseValue  RandomForestPredictedHouseValue    Lat     Lng\n",
       "City                                                                        \n",
       "Aguada               87300.0                          96204.0  18.36  -67.18\n",
       "Aguadilla           122300.0                         112118.0  18.45  -67.11\n",
       "Maricao              92700.0                          86649.0  18.20  -66.90\n",
       "Anasco               90300.0                          92350.0  18.28  -67.13\n",
       "Arecibo              97300.0                         103016.0  18.40  -66.68\n",
       "...                      ...                              ...    ...     ...\n",
       "Craig               225700.0                         247103.0  55.49 -133.13\n",
       "Hydaburg             90700.0                          99531.0  55.20 -132.90\n",
       "Klawock             160900.0                         181248.0  55.55 -133.08\n",
       "Metlakatla          122600.0                         183936.0  55.10 -131.40\n",
       "Wrangell            195900.0                         218822.0  56.00 -132.00\n",
       "\n",
       "[26457 rows x 4 columns]"
      ]
     },
     "execution_count": 100,
     "metadata": {},
     "output_type": "execute_result"
    }
   ],
   "source": [
    "#Actual and predicated value of house using our best model\n",
    "house_value_2017=pd.DataFrame({'ActualHouseValue':y_2017, \n",
    "                'RandomForestPredictedHouseValue':y_pred,\n",
    "                            \"Lat\":usa_2017['Lat'],\"Lng\":usa_2017['Lng']},index=usa_2017.index)\n",
    "house_value_2017"
   ]
  },
  {
   "cell_type": "code",
   "execution_count": 85,
   "id": "12b800c5",
   "metadata": {},
   "outputs": [],
   "source": [
    "house_2017=house_value_2017.reset_index()\n",
    "house_2017.to_csv('output_census/predict.csv', index=False)"
   ]
  },
  {
   "cell_type": "code",
   "execution_count": 110,
   "id": "54a83f8d",
   "metadata": {},
   "outputs": [
    {
     "data": {
      "text/plain": [
       "[846.0,\n",
       " 8978.0,\n",
       " -67.18,\n",
       " 16190.0,\n",
       " 9.421306332729731,\n",
       " 18.36,\n",
       " 68.79801946388936,\n",
       " 13.813155142951873,\n",
       " 40.9,\n",
       " 0.2561038074099368,\n",
       " 39209.0]"
      ]
     },
     "execution_count": 110,
     "metadata": {},
     "output_type": "execute_result"
    }
   ],
   "source": [
    "a=X_2017.to_numpy()[0]\n",
    "a=a.tolist()\n",
    "a"
   ]
  },
  {
   "cell_type": "code",
   "execution_count": 113,
   "id": "4bc409f2",
   "metadata": {},
   "outputs": [
    {
     "name": "stdout",
     "output_type": "stream",
     "text": [
      "[[-0.96813757 -1.69280379  1.57890075 -1.78392655 -0.29327089 -3.85501366\n",
      "  -0.92891715 -0.80296993 -0.14447462 -0.29936135  1.72088559]]\n"
     ]
    },
    {
     "data": {
      "text/plain": [
       "(1,)"
      ]
     },
     "execution_count": 113,
     "metadata": {},
     "output_type": "execute_result"
    }
   ],
   "source": [
    "scaler = joblib.load('scaler.pkl')\n",
    "X_scaler = scaler.transform([a])\n",
    "print(X_scaler)\n",
    "test_data = scaler.transform(X_scaler)\n",
    "trained_model = joblib.load('model.pkl')\n",
    "prediction = trained_model.predict(test_data)\n",
    "\n",
    "prediction.shape"
   ]
  },
  {
   "cell_type": "code",
   "execution_count": null,
   "id": "e17b9621",
   "metadata": {},
   "outputs": [],
   "source": []
  },
  {
   "cell_type": "code",
   "execution_count": null,
   "id": "04074c84",
   "metadata": {},
   "outputs": [],
   "source": []
  },
  {
   "cell_type": "markdown",
   "id": "d0a4d9d7",
   "metadata": {},
   "source": [
    "## Plotting predected and actual house value"
   ]
  },
  {
   "cell_type": "code",
   "execution_count": 86,
   "id": "936d015a",
   "metadata": {},
   "outputs": [],
   "source": [
    "#setting background of figure \n",
    "plt.style.use('ggplot')"
   ]
  },
  {
   "cell_type": "code",
   "execution_count": 87,
   "id": "cfd7eb24",
   "metadata": {},
   "outputs": [],
   "source": [
    "#Set Fonts/Plot Style\n",
    "rcParams['figure.figsize'] = [15.0, 10.0]\n",
    "rcParams['figure.dpi'] = 80\n",
    "rcParams['savefig.dpi'] = 100\n",
    "rcParams['font.size'] = 20\n",
    "rcParams['legend.fontsize'] = 'large'\n",
    "rcParams['figure.titlesize'] = 'medium'\n",
    "rcParams['font.family'] = 'sans-serif'\n",
    "rcParams['font.sans-serif'] = ['Arial']\n",
    "rcParams['xtick.direction'] = 'in'\n",
    "rcParams['ytick.direction'] = 'in'\n",
    "rcParams['xtick.top'] = True\n",
    "rcParams['ytick.right'] = True\n",
    "rcParams['xtick.major.size'] = 10\n",
    "rcParams['ytick.major.size'] = 10\n",
    "rcParams['xtick.minor.size'] = 5\n",
    "rcParams['ytick.minor.size'] = 5\n",
    "rcParams['xtick.minor.visible'] = True\n",
    "rcParams['ytick.minor.visible'] = True"
   ]
  },
  {
   "cell_type": "code",
   "execution_count": 88,
   "id": "1cdd32f2",
   "metadata": {},
   "outputs": [
    {
     "data": {
      "image/png": "[encoded data removed]",
      "text/plain": [
       "<Figure size 1200x800 with 1 Axes>"
      ]
     },
     "metadata": {},
     "output_type": "display_data"
    }
   ],
   "source": [
    "#plotting histrogram\n",
    "fig,ax=plt.subplots()\n",
    "sns.histplot(data=house_value_2017,fill=True,\n",
    "             kde=True,alpha=0.8,ax=ax)\n",
    "fig.savefig('figures/modelhist.png')\n",
    "plt.show()"
   ]
  },
  {
   "cell_type": "code",
   "execution_count": 89,
   "id": "e995d35c",
   "metadata": {},
   "outputs": [
    {
     "ename": "KeyError",
     "evalue": "'Actual House Value'",
     "output_type": "error",
     "traceback": [
      "\u001b[0;31m---------------------------------------------------------------------------\u001b[0m",
      "\u001b[0;31mKeyError\u001b[0m                                  Traceback (most recent call last)",
      "\u001b[0;32m~/opt/anaconda3/lib/python3.8/site-packages/pandas/core/indexes/base.py\u001b[0m in \u001b[0;36mget_loc\u001b[0;34m(self, key, method, tolerance)\u001b[0m\n\u001b[1;32m   3360\u001b[0m             \u001b[0;32mtry\u001b[0m\u001b[0;34m:\u001b[0m\u001b[0;34m\u001b[0m\u001b[0;34m\u001b[0m\u001b[0m\n\u001b[0;32m-> 3361\u001b[0;31m                 \u001b[0;32mreturn\u001b[0m \u001b[0mself\u001b[0m\u001b[0;34m.\u001b[0m\u001b[0m_engine\u001b[0m\u001b[0;34m.\u001b[0m\u001b[0mget_loc\u001b[0m\u001b[0;34m(\u001b[0m\u001b[0mcasted_key\u001b[0m\u001b[0;34m)\u001b[0m\u001b[0;34m\u001b[0m\u001b[0;34m\u001b[0m\u001b[0m\n\u001b[0m\u001b[1;32m   3362\u001b[0m             \u001b[0;32mexcept\u001b[0m \u001b[0mKeyError\u001b[0m \u001b[0;32mas\u001b[0m \u001b[0merr\u001b[0m\u001b[0;34m:\u001b[0m\u001b[0;34m\u001b[0m\u001b[0;34m\u001b[0m\u001b[0m\n",
      "\u001b[0;32m~/opt/anaconda3/lib/python3.8/site-packages/pandas/_libs/index.pyx\u001b[0m in \u001b[0;36mpandas._libs.index.IndexEngine.get_loc\u001b[0;34m()\u001b[0m\n",
      "\u001b[0;32m~/opt/anaconda3/lib/python3.8/site-packages/pandas/_libs/index.pyx\u001b[0m in \u001b[0;36mpandas._libs.index.IndexEngine.get_loc\u001b[0;34m()\u001b[0m\n",
      "\u001b[0;32mpandas/_libs/hashtable_class_helper.pxi\u001b[0m in \u001b[0;36mpandas._libs.hashtable.PyObjectHashTable.get_item\u001b[0;34m()\u001b[0m\n",
      "\u001b[0;32mpandas/_libs/hashtable_class_helper.pxi\u001b[0m in \u001b[0;36mpandas._libs.hashtable.PyObjectHashTable.get_item\u001b[0;34m()\u001b[0m\n",
      "\u001b[0;31mKeyError\u001b[0m: 'Actual House Value'",
      "\nThe above exception was the direct cause of the following exception:\n",
      "\u001b[0;31mKeyError\u001b[0m                                  Traceback (most recent call last)",
      "\u001b[0;32m/var/folders/ld/_spx9cwj74z4zm921xp1zssh0000gn/T/ipykernel_87578/2379734258.py\u001b[0m in \u001b[0;36m<module>\u001b[0;34m\u001b[0m\n\u001b[1;32m      2\u001b[0m \u001b[0mwarnings\u001b[0m\u001b[0;34m.\u001b[0m\u001b[0mfilterwarnings\u001b[0m\u001b[0;34m(\u001b[0m\u001b[0;34m\"ignore\"\u001b[0m\u001b[0;34m)\u001b[0m\u001b[0;34m\u001b[0m\u001b[0;34m\u001b[0m\u001b[0m\n\u001b[1;32m      3\u001b[0m \u001b[0mfig\u001b[0m\u001b[0;34m,\u001b[0m \u001b[0max\u001b[0m\u001b[0;34m=\u001b[0m\u001b[0mplt\u001b[0m\u001b[0;34m.\u001b[0m\u001b[0msubplots\u001b[0m\u001b[0;34m(\u001b[0m\u001b[0;34m)\u001b[0m\u001b[0;34m\u001b[0m\u001b[0;34m\u001b[0m\u001b[0m\n\u001b[0;32m----> 4\u001b[0;31m sns.distplot(house_value_2017['Actual House Value'],\n\u001b[0m\u001b[1;32m      5\u001b[0m              \u001b[0mbins\u001b[0m\u001b[0;34m=\u001b[0m\u001b[0;36m30\u001b[0m\u001b[0;34m,\u001b[0m\u001b[0mkde_kws\u001b[0m\u001b[0;34m=\u001b[0m\u001b[0;34m{\u001b[0m\u001b[0;34m\"color\"\u001b[0m\u001b[0;34m:\u001b[0m \u001b[0;34m\"r\"\u001b[0m\u001b[0;34m,\u001b[0m \u001b[0;34m\"lw\"\u001b[0m\u001b[0;34m:\u001b[0m \u001b[0;36m3\u001b[0m\u001b[0;34m,\u001b[0m \u001b[0;34m\"label\"\u001b[0m\u001b[0;34m:\u001b[0m \u001b[0;34m'2017 Actual Value'\u001b[0m\u001b[0;34m}\u001b[0m\u001b[0;34m\u001b[0m\u001b[0;34m\u001b[0m\u001b[0m\n\u001b[1;32m      6\u001b[0m              ,rug=False, kde=True,fit=stats.norm, ax=ax)\n",
      "\u001b[0;32m~/opt/anaconda3/lib/python3.8/site-packages/pandas/core/frame.py\u001b[0m in \u001b[0;36m__getitem__\u001b[0;34m(self, key)\u001b[0m\n\u001b[1;32m   3453\u001b[0m             \u001b[0;32mif\u001b[0m \u001b[0mself\u001b[0m\u001b[0;34m.\u001b[0m\u001b[0mcolumns\u001b[0m\u001b[0;34m.\u001b[0m\u001b[0mnlevels\u001b[0m \u001b[0;34m>\u001b[0m \u001b[0;36m1\u001b[0m\u001b[0;34m:\u001b[0m\u001b[0;34m\u001b[0m\u001b[0;34m\u001b[0m\u001b[0m\n\u001b[1;32m   3454\u001b[0m                 \u001b[0;32mreturn\u001b[0m \u001b[0mself\u001b[0m\u001b[0;34m.\u001b[0m\u001b[0m_getitem_multilevel\u001b[0m\u001b[0;34m(\u001b[0m\u001b[0mkey\u001b[0m\u001b[0;34m)\u001b[0m\u001b[0;34m\u001b[0m\u001b[0;34m\u001b[0m\u001b[0m\n\u001b[0;32m-> 3455\u001b[0;31m             \u001b[0mindexer\u001b[0m \u001b[0;34m=\u001b[0m \u001b[0mself\u001b[0m\u001b[0;34m.\u001b[0m\u001b[0mcolumns\u001b[0m\u001b[0;34m.\u001b[0m\u001b[0mget_loc\u001b[0m\u001b[0;34m(\u001b[0m\u001b[0mkey\u001b[0m\u001b[0;34m)\u001b[0m\u001b[0;34m\u001b[0m\u001b[0;34m\u001b[0m\u001b[0m\n\u001b[0m\u001b[1;32m   3456\u001b[0m             \u001b[0;32mif\u001b[0m \u001b[0mis_integer\u001b[0m\u001b[0;34m(\u001b[0m\u001b[0mindexer\u001b[0m\u001b[0;34m)\u001b[0m\u001b[0;34m:\u001b[0m\u001b[0;34m\u001b[0m\u001b[0;34m\u001b[0m\u001b[0m\n\u001b[1;32m   3457\u001b[0m                 \u001b[0mindexer\u001b[0m \u001b[0;34m=\u001b[0m \u001b[0;34m[\u001b[0m\u001b[0mindexer\u001b[0m\u001b[0;34m]\u001b[0m\u001b[0;34m\u001b[0m\u001b[0;34m\u001b[0m\u001b[0m\n",
      "\u001b[0;32m~/opt/anaconda3/lib/python3.8/site-packages/pandas/core/indexes/base.py\u001b[0m in \u001b[0;36mget_loc\u001b[0;34m(self, key, method, tolerance)\u001b[0m\n\u001b[1;32m   3361\u001b[0m                 \u001b[0;32mreturn\u001b[0m \u001b[0mself\u001b[0m\u001b[0;34m.\u001b[0m\u001b[0m_engine\u001b[0m\u001b[0;34m.\u001b[0m\u001b[0mget_loc\u001b[0m\u001b[0;34m(\u001b[0m\u001b[0mcasted_key\u001b[0m\u001b[0;34m)\u001b[0m\u001b[0;34m\u001b[0m\u001b[0;34m\u001b[0m\u001b[0m\n\u001b[1;32m   3362\u001b[0m             \u001b[0;32mexcept\u001b[0m \u001b[0mKeyError\u001b[0m \u001b[0;32mas\u001b[0m \u001b[0merr\u001b[0m\u001b[0;34m:\u001b[0m\u001b[0;34m\u001b[0m\u001b[0;34m\u001b[0m\u001b[0m\n\u001b[0;32m-> 3363\u001b[0;31m                 \u001b[0;32mraise\u001b[0m \u001b[0mKeyError\u001b[0m\u001b[0;34m(\u001b[0m\u001b[0mkey\u001b[0m\u001b[0;34m)\u001b[0m \u001b[0;32mfrom\u001b[0m \u001b[0merr\u001b[0m\u001b[0;34m\u001b[0m\u001b[0;34m\u001b[0m\u001b[0m\n\u001b[0m\u001b[1;32m   3364\u001b[0m \u001b[0;34m\u001b[0m\u001b[0m\n\u001b[1;32m   3365\u001b[0m         \u001b[0;32mif\u001b[0m \u001b[0mis_scalar\u001b[0m\u001b[0;34m(\u001b[0m\u001b[0mkey\u001b[0m\u001b[0;34m)\u001b[0m \u001b[0;32mand\u001b[0m \u001b[0misna\u001b[0m\u001b[0;34m(\u001b[0m\u001b[0mkey\u001b[0m\u001b[0;34m)\u001b[0m \u001b[0;32mand\u001b[0m \u001b[0;32mnot\u001b[0m \u001b[0mself\u001b[0m\u001b[0;34m.\u001b[0m\u001b[0mhasnans\u001b[0m\u001b[0;34m:\u001b[0m\u001b[0;34m\u001b[0m\u001b[0;34m\u001b[0m\u001b[0m\n",
      "\u001b[0;31mKeyError\u001b[0m: 'Actual House Value'"
     ]
    },
    {
     "data": {
      "image/png": "[encoded data removed]",
      "text/plain": [
       "<Figure size 1200x800 with 1 Axes>"
      ]
     },
     "metadata": {},
     "output_type": "display_data"
    }
   ],
   "source": [
    "#plotting distplot using seaborn\n",
    "warnings.filterwarnings(\"ignore\")\n",
    "fig, ax=plt.subplots()\n",
    "sns.distplot(house_value_2017['Actual House Value'],\n",
    "             bins=30,kde_kws={\"color\": \"r\", \"lw\": 3, \"label\": '2017 Actual Value'}\n",
    "             ,rug=False, kde=True,fit=stats.norm, ax=ax)\n",
    "sns.distplot(house_value_2017['Random Forest Predicted House Value'], \n",
    "             bins=30,kde_kws={\"color\": \"b\", \"lw\": 3, \"label\": '2017 Predicted Value'},\n",
    "             fit=stats.norm, ax=ax)\n",
    "ax.legend()\n",
    "ax.set_xlabel('House Value')\n",
    "fig.savefig('figures/modelUSA.png')\n",
    "plt.show()"
   ]
  },
  {
   "cell_type": "code",
   "execution_count": 84,
   "id": "0feac2c0",
   "metadata": {},
   "outputs": [
    {
     "data": {
      "image/png": "[encoded data removed]",
      "text/plain": [
       "<Figure size 1200x4000 with 1 Axes>"
      ]
     },
     "metadata": {},
     "output_type": "display_data"
    }
   ],
   "source": [
    "#grouing it by city and plotting bar plot\n",
    "house=house_value_2017.reset_index()\n",
    "house=house.groupby('City').mean()\n",
    "\n",
    "#choosing only random 50 sample\n",
    "house_sample=house.sample(n=25)\n",
    "house_sample.plot(kind=\"barh\",width=.9,figsize=(15,50))\n",
    "plt.xlabel('House Value')\n",
    "plt.title(\"Actual and Predicted house value using our best model\")\n",
    "plt.show()"
   ]
  },
  {
   "cell_type": "code",
   "execution_count": 85,
   "id": "952cec6a",
   "metadata": {},
   "outputs": [
    {
     "data": {
      "image/png": "[encoded data removed]",
      "text/plain": [
       "<Figure size 1200x1200 with 1 Axes>"
      ]
     },
     "metadata": {},
     "output_type": "display_data"
    }
   ],
   "source": [
    "#predecting the 2017 best city house value\n",
    "house_best=house.loc[['Roseville', 'Sunnyvale', 'Fremont', 'San Mateo', 'Lancaster'],:]\n",
    "house_best.plot(kind=\"bar\",width=.9,figsize=(15,15))\n",
    "plt.ylabel('House Value')\n",
    "plt.title(\"Actual and Predicted house value of 2017 best city using our best model\")\n",
    "plt.savefig('figures/modelbestcity.png')\n",
    "plt.show()"
   ]
  },
  {
   "cell_type": "markdown",
   "id": "4a694dea",
   "metadata": {},
   "source": [
    "## Conclusions"
   ]
  },
  {
   "cell_type": "code",
   "execution_count": null,
   "id": "39d19969",
   "metadata": {},
   "outputs": [],
   "source": []
  },
  {
   "cell_type": "code",
   "execution_count": null,
   "id": "76523ac2",
   "metadata": {},
   "outputs": [],
   "source": []
  },
  {
   "cell_type": "markdown",
   "id": "e91fd14b",
   "metadata": {},
   "source": [
    "Our model suscefully predict the housing value of unseen data from 2017 Census with an prediction error of around $27,000"
   ]
  },
  {
   "cell_type": "code",
   "execution_count": null,
   "id": "a0be944a",
   "metadata": {},
   "outputs": [],
   "source": []
  },
  {
   "cell_type": "code",
   "execution_count": 23,
   "id": "b9f98bed",
   "metadata": {},
   "outputs": [],
   "source": [
    "from sklearn.preprocessing import StandardScaler\n",
    "variables=[['11', '11',\n",
    "                          '22', '25', '58', '25',\n",
    "                          '45', '121', '11.55',\n",
    "                          '65.22', '45.22']]\n",
    "std_scaler = StandardScaler()\n",
    "test_data = std_scaler.fit_transform(variables)"
   ]
  },
  {
   "cell_type": "code",
   "execution_count": 24,
   "id": "5a538064",
   "metadata": {},
   "outputs": [
    {
     "data": {
      "text/plain": [
       "array([[0., 0., 0., 0., 0., 0., 0., 0., 0., 0., 0.]])"
      ]
     },
     "execution_count": 24,
     "metadata": {},
     "output_type": "execute_result"
    }
   ],
   "source": [
    "test_data"
   ]
  },
  {
   "cell_type": "code",
   "execution_count": null,
   "id": "8d85bc97",
   "metadata": {},
   "outputs": [],
   "source": []
  }
 ],
 "metadata": {
  "kernelspec": {
   "display_name": "Python 3 (ipykernel)",
   "language": "python",
   "name": "python3"
  },
  "language_info": {
   "codemirror_mode": {
    "name": "ipython",
    "version": 3
   },
   "file_extension": ".py",
   "mimetype": "text/x-python",
   "name": "python",
   "nbconvert_exporter": "python",
   "pygments_lexer": "ipython3",
   "version": "3.8.10"
  }
 },
 "nbformat": 4,
 "nbformat_minor": 5
}
