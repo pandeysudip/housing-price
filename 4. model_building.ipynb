{
 "cells": [
  {
   "cell_type": "markdown",
   "id": "98d19c8b",
   "metadata": {},
   "source": [
    "## Model Building and Predicting House Price of Unseen Data"
   ]
  },
  {
   "cell_type": "markdown",
   "id": "4dc2286f",
   "metadata": {},
   "source": [
    "#### Things to do\n",
    "- Choose relevent columns\n",
    "- Get dummy data if any categoral columns\n",
    "- Scale the columns using Standard Scaler\n",
    "- Do train test split\n",
    "- Multiple linear regression\n",
    "- Lasso regression\n",
    "- Decision Tree Regressor\n",
    "- Random forest Regressor\n",
    "- Tune hyperparameters  using Grid Search CV\n",
    "- Predict on test set\n",
    "- Predict on unseen data from different year"
   ]
  },
  {
   "cell_type": "code",
   "execution_count": 1,
   "id": "18f40bfe",
   "metadata": {},
   "outputs": [],
   "source": [
    "#importing models\n",
    "import pandas as pd\n",
    "import numpy as np\n",
    "import os\n",
    "import matplotlib.pyplot as plt\n",
    "import statsmodels.api as sm\n",
    "import seaborn as sns\n",
    "from scipy import stats\n",
    "import warnings\n",
    "from matplotlib import rcParams\n",
    "#importing sklearn models\n",
    "from sklearn.model_selection import train_test_split\n",
    "from sklearn.linear_model import LinearRegression\n",
    "from sklearn.model_selection import cross_val_score\n",
    "from sklearn.linear_model import Lasso\n",
    "from sklearn.linear_model import Ridge\n",
    "from sklearn.svm import LinearSVR\n",
    "from sklearn.svm import SVR\n",
    "from sklearn.ensemble import RandomForestRegressor\n",
    "from sklearn.tree import DecisionTreeRegressor\n",
    "from sklearn.model_selection import GridSearchCV\n",
    "from sklearn.model_selection import RandomizedSearchCV\n",
    "from sklearn.metrics import mean_absolute_error, r2_score\n",
    "from sklearn.metrics import mean_squared_error"
   ]
  },
  {
   "cell_type": "markdown",
   "id": "2b66ca4a",
   "metadata": {},
   "source": [
    "## Building model on 2019 US Census data"
   ]
  },
  {
   "cell_type": "code",
   "execution_count": 2,
   "id": "c0474c7a",
   "metadata": {},
   "outputs": [],
   "source": [
    "# 2019 usa cleaned data for machine learning\n",
    "path=os.path.join('output_census', 'usa_2019_ml1.csv')\n",
    "usa_2019=pd.read_csv(path)"
   ]
  },
  {
   "cell_type": "code",
   "execution_count": 3,
   "id": "f85501be",
   "metadata": {},
   "outputs": [],
   "source": [
    "#selecting important columns\n",
    "usa_2019=usa_2019[[ 'City','House Value','Monthly Owner Cost','Per Capita Income',\n",
    "                   'Lng','Household Income','College Rate','Lat',\n",
    "                    'Personal Transport Rate','High School Rate','Median Age',\n",
    "                    'Public Transport Rate','Population']]"
   ]
  },
  {
   "cell_type": "code",
   "execution_count": 4,
   "id": "c5c44883",
   "metadata": {},
   "outputs": [],
   "source": [
    "#seting city as a index\n",
    "usa_2019.set_index('City', inplace=True)"
   ]
  },
  {
   "cell_type": "code",
   "execution_count": 5,
   "id": "26c87cff",
   "metadata": {},
   "outputs": [
    {
     "name": "stdout",
     "output_type": "stream",
     "text": [
      "Index(['Aguada', 'Aguadilla', 'Maricao', 'Anasco', 'Arecibo', 'Bajadero',\n",
      "       'Barceloneta', 'Boqueron', 'Cabo Rojo', 'Camuy',\n",
      "       ...\n",
      "       'Kake', 'Petersburg', 'Sitka', 'Skagway', 'Ketchikan', 'Thorne Bay',\n",
      "       'Craig', 'Klawock', 'Metlakatla', 'Wrangell'],\n",
      "      dtype='object', name='City', length=26222)\n",
      "Index(['House Value', 'Monthly Owner Cost', 'Per Capita Income', 'Lng',\n",
      "       'Household Income', 'College Rate', 'Lat', 'Personal Transport Rate',\n",
      "       'High School Rate', 'Median Age', 'Public Transport Rate',\n",
      "       'Population'],\n",
      "      dtype='object')\n"
     ]
    }
   ],
   "source": [
    "#index andcolumns of our data sets\n",
    "index=usa_2019.index\n",
    "columns=usa_2019.columns\n",
    "print(index)\n",
    "print(columns)"
   ]
  },
  {
   "cell_type": "markdown",
   "id": "093cecef",
   "metadata": {},
   "source": [
    "#### Prepare a feature matrix (X) and response (y)  for scikit-learn."
   ]
  },
  {
   "cell_type": "code",
   "execution_count": 9,
   "id": "ecaae90f",
   "metadata": {},
   "outputs": [],
   "source": [
    "# create feature matrix (X)\n",
    "#selecting all columns except 'House Value'\n",
    "X=usa_2019.drop('House Value', axis=1) \n",
    "\n",
    "# create response vector (y)\n",
    "##selecting 'House Value'\n",
    "y=usa_2019['House Value'].values  "
   ]
  },
  {
   "cell_type": "markdown",
   "id": "bdaeb694",
   "metadata": {},
   "source": [
    "#### Splitting data in train and test set"
   ]
  },
  {
   "cell_type": "code",
   "execution_count": 10,
   "id": "30babff9",
   "metadata": {},
   "outputs": [],
   "source": [
    "#Training set**: Used to train the classifier.\n",
    "#Testing set**: Used to estimate the error rate of the trained classifier.\n",
    "#Also using train_index and test_index to get train and test data index \n",
    "X_train, X_test, y_train, y_test,train_index, test_index = train_test_split(\n",
    "                               X, y,index, test_size=0.2, random_state=42)"
   ]
  },
  {
   "cell_type": "code",
   "execution_count": 11,
   "id": "abc91307",
   "metadata": {},
   "outputs": [
    {
     "name": "stdout",
     "output_type": "stream",
     "text": [
      "Shape of X_train=(20977, 11)\n",
      "Shape of X_test=(5245, 11)\n",
      "Shape of y_train=(20977,)\n",
      "Shape of X_test=(5245,)\n"
     ]
    }
   ],
   "source": [
    "print(f'Shape of X_train={X_train.shape}')\n",
    "print(f'Shape of X_test={X_test.shape}')\n",
    "print(f'Shape of y_train={y_train.shape}')\n",
    "print(f'Shape of X_test={y_test.shape}')"
   ]
  },
  {
   "cell_type": "markdown",
   "id": "96c23a6d",
   "metadata": {},
   "source": [
    "#### Scaling using standard scaler on feature matrix (X) "
   ]
  },
  {
   "cell_type": "code",
   "execution_count": 13,
   "id": "ab656b3a",
   "metadata": {},
   "outputs": [],
   "source": [
    "#Different columns have differnt scale so standrazied it \n",
    "#features scaling using standard scaler on x only\n",
    "from sklearn.preprocessing import StandardScaler\n",
    "std_scaler=StandardScaler()\n",
    "scaled_X_train=std_scaler.fit_transform(X_train)\n",
    "scaled_X_test=std_scaler.transform(X_test)"
   ]
  },
  {
   "cell_type": "code",
   "execution_count": 15,
   "id": "674490ce",
   "metadata": {},
   "outputs": [
    {
     "name": "stdout",
     "output_type": "stream",
     "text": [
      "(20977, 11)\n",
      "(26222,)\n"
     ]
    }
   ],
   "source": [
    "#shape of the X and y\n",
    "print(scaled_X_train.shape)\n",
    "print(y.shape)"
   ]
  },
  {
   "cell_type": "markdown",
   "id": "13a122dc",
   "metadata": {},
   "source": [
    "### Evaluation Metric"
   ]
  },
  {
   "cell_type": "markdown",
   "id": "d4c6d9ab",
   "metadata": {},
   "source": [
    "To evaluate a model, we also need an **evaluation metric:**\n",
    "\n",
    "- A numeric calculation used to **quantify** the performance of a model.\n",
    "- The appropriate metric depends on the **goals** of your problem.\n",
    "\n",
    "The most common choices for regression problems are:\n",
    "\n",
    "- **R-squared**: The percentage of variation explained by the model (a \"reward function,\" as higher is better).\n",
    "- **Mean squared error**: The average squared distance between the prediction and the correct answer (a \"loss function,\" as lower is better).\n",
    "- **Mean absolute error**: The average absolute distance between the prediction and the correct answer (a \"loss function,\" as lower is better).\n",
    "\n",
    "In this case, we'll use mean squared error, R2, and mean absolute error because it is more interpretable in a predictive context."
   ]
  },
  {
   "cell_type": "markdown",
   "id": "eb6aaf51",
   "metadata": {},
   "source": [
    "## Linear Regression"
   ]
  },
  {
   "cell_type": "code",
   "execution_count": 16,
   "id": "59deddd0",
   "metadata": {},
   "outputs": [
    {
     "data": {
      "text/plain": [
       "LinearRegression()"
      ]
     },
     "execution_count": 16,
     "metadata": {},
     "output_type": "execute_result"
    }
   ],
   "source": [
    "#using linear regression\n",
    "# Make a linear regression instance\n",
    "lr=LinearRegression()\n",
    "# Training the model on the data, storing the information learned from the data\n",
    "# Model is learning the relationship between X and y \n",
    "lr.fit(scaled_X_train, y_train)\n"
   ]
  },
  {
   "cell_type": "code",
   "execution_count": 17,
   "id": "eddd8644",
   "metadata": {},
   "outputs": [
    {
     "name": "stdout",
     "output_type": "stream",
     "text": [
      "R2 Score of training set 0.8348136946474434\n",
      "R2 Score of testing  set  0.8384201779423417\n"
     ]
    }
   ],
   "source": [
    "#Printing the R2 score of test and train set\n",
    "print(f'R2 Score of training set {lr.score(scaled_X_train, y_train)}')\n",
    "print(f'R2 Score of testing  set  {lr.score(scaled_X_test, y_test)}')"
   ]
  },
  {
   "cell_type": "markdown",
   "id": "0c10f0d3",
   "metadata": {},
   "source": [
    "#### Create a cross-valiation with five folds.\n",
    "-  Cross valiation allows the training set into distinct subsets called folds.\n",
    "- A model is trained using k-1 of the folds as training data"
   ]
  },
  {
   "cell_type": "code",
   "execution_count": 18,
   "id": "54ae1956",
   "metadata": {},
   "outputs": [
    {
     "data": {
      "text/plain": [
       "array([-44911.89270734, -44921.806391  , -45232.50037804, -45601.30936043,\n",
       "       -45022.84434751])"
      ]
     },
     "execution_count": 18,
     "metadata": {},
     "output_type": "execute_result"
    }
   ],
   "source": [
    "#score of training set using cross_val_score\n",
    "cross_val_score(lr, scaled_X_train, y_train, scoring='neg_mean_absolute_error', cv=5)"
   ]
  },
  {
   "cell_type": "code",
   "execution_count": 19,
   "id": "74012adc",
   "metadata": {},
   "outputs": [
    {
     "name": "stdout",
     "output_type": "stream",
     "text": [
      "The R2 of Linear Regression is 0.8344038087752625\n",
      "The mean squared error of Linear Regression is 76566.01500729908\n",
      "The mean absolute error of Linear Regression is 45138.07063686245\n"
     ]
    }
   ],
   "source": [
    "#score of training set using cross_val_score\n",
    "lr_r2=np.mean(cross_val_score(lr, scaled_X_train, y_train, cv=5))\n",
    "print(f'The R2 of Linear Regression is {lr_r2}')\n",
    "\n",
    "#cross validation features gives greater is better, so score function is opposite of \n",
    "#MSE so we need to use -ve to get mse\n",
    "lr_mse=np.mean(cross_val_score(lr, scaled_X_train, y_train, cv=5, scoring='neg_mean_squared_error'))\n",
    "lr_rmse=np.sqrt(-(lr_mse))\n",
    "print(f'The mean squared error of Linear Regression is {lr_rmse}')\n",
    "\n",
    "#mean absolute error\n",
    "lr_mae=np.mean(cross_val_score(lr, scaled_X_train, y_train, cv=5, scoring='neg_mean_absolute_error'))\n",
    "lr_mae=(-(lr_mae))\n",
    "print(f'The mean absolute error of Linear Regression is {lr_mae}')"
   ]
  },
  {
   "cell_type": "markdown",
   "id": "c5162de0",
   "metadata": {},
   "source": [
    "## Ridge Regression"
   ]
  },
  {
   "cell_type": "code",
   "execution_count": 20,
   "id": "56b03ad4",
   "metadata": {},
   "outputs": [
    {
     "data": {
      "text/plain": [
       "Ridge()"
      ]
     },
     "execution_count": 20,
     "metadata": {},
     "output_type": "execute_result"
    }
   ],
   "source": [
    "#using ridge regression(ridge make some features going to near zero)\n",
    "#alpha=0 no regularization( all features are used)\n",
    "# Make a ridge regression instance\n",
    "lr_r=Ridge()\n",
    "lr_r.fit(scaled_X_train, y_train)\n"
   ]
  },
  {
   "cell_type": "code",
   "execution_count": 21,
   "id": "dcfb5119",
   "metadata": {},
   "outputs": [
    {
     "name": "stdout",
     "output_type": "stream",
     "text": [
      "R2 Score of training set 0.8348136889038721\n",
      "R2 Score of testing set  0.8384208604613155\n"
     ]
    }
   ],
   "source": [
    "#Printing the R2 score of test and train set\n",
    "print(f'R2 Score of training set {lr_r.score(scaled_X_train, y_train)}')\n",
    "print(f'R2 Score of testing set  {lr_r.score(scaled_X_test, y_test)}')"
   ]
  },
  {
   "cell_type": "markdown",
   "id": "06124cdd",
   "metadata": {},
   "source": [
    "#### Create a cross-valiation with five folds."
   ]
  },
  {
   "cell_type": "code",
   "execution_count": 22,
   "id": "9a59bd3c",
   "metadata": {},
   "outputs": [
    {
     "data": {
      "text/plain": [
       "array([-44685.22035577, -45133.75753392, -45614.9985192 ])"
      ]
     },
     "execution_count": 22,
     "metadata": {},
     "output_type": "execute_result"
    }
   ],
   "source": [
    "#score of training set using cross_val_score\n",
    "cross_val_score(lr_r, scaled_X_train, y_train, scoring='neg_mean_absolute_error', cv=3)"
   ]
  },
  {
   "cell_type": "code",
   "execution_count": 23,
   "id": "5930b915",
   "metadata": {},
   "outputs": [
    {
     "name": "stdout",
     "output_type": "stream",
     "text": [
      "The R2 of Ridge Regression is 0.83440401131164\n",
      "The mean squared error of Ridge Regression is 76565.98637132603\n",
      "The mean absolute error of Ridge Regression is 45136.39711576419\n"
     ]
    }
   ],
   "source": [
    "#score of training set using cross_val_score\n",
    "lr_r_r2=np.mean(cross_val_score(lr_r, scaled_X_train, y_train, cv=5))\n",
    "print(f'The R2 of Ridge Regression is {lr_r_r2}')\n",
    "\n",
    "#cross validation features gives greater is better, so score function is opposite of \n",
    "#MSE so we need to use -ve to get mse\n",
    "lr_r_mse=np.mean(cross_val_score(lr_r, scaled_X_train, y_train, cv=5, scoring='neg_mean_squared_error'))\n",
    "lr_r_rmse=np.sqrt(-(lr_r_mse))\n",
    "print(f'The mean squared error of Ridge Regression is {lr_r_rmse}')\n",
    "\n",
    "#mean absolute error\n",
    "lr_r_mae=np.mean(cross_val_score(lr_r, scaled_X_train, y_train, cv=5, scoring='neg_mean_absolute_error'))\n",
    "lr_r_mae=(-(lr_r_mae))\n",
    "print(f'The mean absolute error of Ridge Regression is {lr_r_mae}')"
   ]
  },
  {
   "cell_type": "code",
   "execution_count": 24,
   "id": "409ff011",
   "metadata": {},
   "outputs": [
    {
     "data": {
      "image/png": "[encoded data removed]",
      "text/plain": [
       "<Figure size 432x288 with 1 Axes>"
      ]
     },
     "metadata": {
      "needs_background": "light"
     },
     "output_type": "display_data"
    }
   ],
   "source": [
    "#choosing the best alpha\n",
    "alpha=[]\n",
    "error=[]\n",
    "for i in range(1,1000,50):\n",
    "    alpha.append(i/10)\n",
    "    lrr=Ridge(alpha=(i/10))\n",
    "    error.append(np.mean(cross_val_score(lrr, scaled_X_train, y_train, scoring='neg_mean_absolute_error',\n",
    "                                         cv=5)))\n",
    "plt.plot(alpha,error) \n",
    "plt.show()"
   ]
  },
  {
   "cell_type": "code",
   "execution_count": 25,
   "id": "592e0e31",
   "metadata": {},
   "outputs": [
    {
     "data": {
      "text/plain": [
       "Ridge(alpha=10)"
      ]
     },
     "execution_count": 25,
     "metadata": {},
     "output_type": "execute_result"
    }
   ],
   "source": [
    "#choosing the best alpha (look figure where alpha start to saturate)\n",
    "lrr=Ridge(alpha=10)\n",
    "lrr.fit(X_train, y_train)\n"
   ]
  },
  {
   "cell_type": "code",
   "execution_count": 26,
   "id": "736ece6e",
   "metadata": {},
   "outputs": [
    {
     "name": "stdout",
     "output_type": "stream",
     "text": [
      "R2 Score of training set with alpha 40 -6.374847211708259\n",
      "R2 Score of testing set with alpha 40 -6.152493009518381\n"
     ]
    }
   ],
   "source": [
    "#Printing the R2 score of test and train set \n",
    "print(f'R2 Score of training set with alpha 40 {lrr.score(scaled_X_train, y_train)}')\n",
    "print(f'R2 Score of testing set with alpha 40 {lrr.score(scaled_X_test, y_test)}')"
   ]
  },
  {
   "cell_type": "markdown",
   "id": "8ac883a9",
   "metadata": {},
   "source": [
    "#### Create a cross-valiation with five folds."
   ]
  },
  {
   "cell_type": "code",
   "execution_count": 28,
   "id": "823f8ab8",
   "metadata": {},
   "outputs": [
    {
     "data": {
      "text/plain": [
       "array([-44685.22035577, -45133.75753392, -45614.9985192 ])"
      ]
     },
     "execution_count": 28,
     "metadata": {},
     "output_type": "execute_result"
    }
   ],
   "source": [
    "#score of training set using cross_val_score\n",
    "cross_val_score(lr_r, scaled_X_train, y_train, scoring='neg_mean_absolute_error', cv=3)"
   ]
  },
  {
   "cell_type": "code",
   "execution_count": 29,
   "id": "2a0532cc",
   "metadata": {},
   "outputs": [
    {
     "name": "stdout",
     "output_type": "stream",
     "text": [
      "The R2 of Ridge Regression with alpha 10 is 0.8344050202155004\n",
      "The mean squared error of Ridge Regression with alpha 10 is 76565.98637132603\n",
      "The mean absolute error of Ridge Regression with alpha 10 is 45136.39711576419\n"
     ]
    }
   ],
   "source": [
    "#score of training set using cross_val_score\n",
    "lrr_r2=np.mean(cross_val_score(lrr, scaled_X_train, y_train, cv=5))\n",
    "print(f'The R2 of Ridge Regression with alpha 10 is {lrr_r2}')\n",
    "\n",
    "#cross validation features gives greater is better, so score function is opposite of \n",
    "#MSE so we need to use -ve to get mse\n",
    "lrr_mse=np.mean(cross_val_score(lr_r, scaled_X_train, y_train, cv=5, scoring='neg_mean_squared_error'))\n",
    "lrr_rmse=np.sqrt(-(lrr_mse))\n",
    "print(f'The mean squared error of Ridge Regression with alpha 10 is {lrr_rmse}')\n",
    "\n",
    "#mean absolute error\n",
    "lrr_mae=np.mean(cross_val_score(lr_r, scaled_X_train, y_train, cv=5, scoring='neg_mean_absolute_error'))\n",
    "lrr_mae=(-(lrr_mae))\n",
    "print(f'The mean absolute error of Ridge Regression with alpha 10 is {lrr_mae}')"
   ]
  },
  {
   "cell_type": "markdown",
   "id": "b3a868e5",
   "metadata": {},
   "source": [
    "## Laso Regression"
   ]
  },
  {
   "cell_type": "code",
   "execution_count": 30,
   "id": "62eda018",
   "metadata": {},
   "outputs": [
    {
     "data": {
      "text/plain": [
       "Lasso()"
      ]
     },
     "execution_count": 30,
     "metadata": {},
     "output_type": "execute_result"
    }
   ],
   "source": [
    "#using lassoregression(lasso make some features going to exactly zero)\n",
    "#alpha=0 no regularization( all features are used)\n",
    "# Make a lasso regression instance\n",
    "lr_l=Lasso()\n",
    "lr_l.fit(scaled_X_train, y_train)\n"
   ]
  },
  {
   "cell_type": "code",
   "execution_count": 31,
   "id": "99f28671",
   "metadata": {},
   "outputs": [
    {
     "name": "stdout",
     "output_type": "stream",
     "text": [
      "R2 Score of training set 0.8348136937849526\n",
      "R2 Score of testing set  0.8384200924398116\n"
     ]
    }
   ],
   "source": [
    "#Printing the R2 score of test and train set\n",
    "print(f'R2 Score of training set {lr_l.score(scaled_X_train, y_train)}')\n",
    "print(f'R2 Score of testing set  {lr_l.score(scaled_X_test, y_test)}')"
   ]
  },
  {
   "cell_type": "markdown",
   "id": "470910d6",
   "metadata": {},
   "source": [
    "#### Create a cross-valiation with five folds."
   ]
  },
  {
   "cell_type": "code",
   "execution_count": 32,
   "id": "2f06bd42",
   "metadata": {},
   "outputs": [
    {
     "data": {
      "text/plain": [
       "array([-44687.15366391, -45135.10594606, -45616.03206489])"
      ]
     },
     "execution_count": 32,
     "metadata": {},
     "output_type": "execute_result"
    }
   ],
   "source": [
    "#score of training set using cross_val_score\n",
    "cross_val_score(lr_l, scaled_X_train, y_train, scoring='neg_mean_absolute_error', cv=3)"
   ]
  },
  {
   "cell_type": "code",
   "execution_count": 33,
   "id": "be97fbb0",
   "metadata": {},
   "outputs": [
    {
     "name": "stdout",
     "output_type": "stream",
     "text": [
      "The R2 of Lasso Regression is 0.8344038234883314\n",
      "The mean squared error of Lasso Regression is 76566.01551008181\n",
      "The mean absolute error of Lasso Regression is 45137.4529164694\n"
     ]
    }
   ],
   "source": [
    "#score of training set using cross_val_score\n",
    "lr_l_r2=np.mean(cross_val_score(lr_l, scaled_X_train, y_train, cv=5))\n",
    "print(f'The R2 of Lasso Regression is {lr_l_r2}')\n",
    "\n",
    "#cross validation features gives greater is better, so score function is opposite of \n",
    "#MSE so we need to use -ve to get mse\n",
    "lr_l_mse=np.mean(cross_val_score(lr_l, scaled_X_train, y_train, cv=5, scoring='neg_mean_squared_error'))\n",
    "lr_l_rmse=np.sqrt(-(lr_l_mse))\n",
    "print(f'The mean squared error of Lasso Regression is {lr_l_rmse}')\n",
    "\n",
    "#mean absolute error\n",
    "lr_l_mae=np.mean(cross_val_score(lr_l, scaled_X_train, y_train, cv=5, scoring='neg_mean_absolute_error'))\n",
    "lr_l_mae=(-(lr_l_mae))\n",
    "print(f'The mean absolute error of Lasso Regression is {lr_l_mae}')"
   ]
  },
  {
   "cell_type": "code",
   "execution_count": 34,
   "id": "cc74e1fb",
   "metadata": {},
   "outputs": [
    {
     "data": {
      "image/png": "[encoded data removed]",
      "text/plain": [
       "<Figure size 432x288 with 1 Axes>"
      ]
     },
     "metadata": {
      "needs_background": "light"
     },
     "output_type": "display_data"
    }
   ],
   "source": [
    "#choosing the best alpha\n",
    "alpha=[]\n",
    "error=[]\n",
    "for i in range(1,100,10):\n",
    "    alpha.append(i/10)\n",
    "    lrl=Lasso(alpha=(i/10))\n",
    "    error.append(np.mean(cross_val_score(lrl, scaled_X_train, y_train, scoring='neg_mean_absolute_error',\n",
    "                                         cv=5)))\n",
    "plt.plot(alpha,error) \n",
    "plt.show()"
   ]
  },
  {
   "cell_type": "code",
   "execution_count": 36,
   "id": "aa293d52",
   "metadata": {},
   "outputs": [
    {
     "data": {
      "text/plain": [
       "Lasso(alpha=10)"
      ]
     },
     "execution_count": 36,
     "metadata": {},
     "output_type": "execute_result"
    }
   ],
   "source": [
    "#choosing the best alpha\n",
    "lrl=Lasso(alpha=10)\n",
    "lrl.fit(scaled_X_train, y_train)\n"
   ]
  },
  {
   "cell_type": "code",
   "execution_count": 37,
   "id": "e2940fff",
   "metadata": {},
   "outputs": [
    {
     "name": "stdout",
     "output_type": "stream",
     "text": [
      "R2 Score of training set with alpha 10 0.8348136052503992\n",
      "R2 Score of testing set with alpha 10 0.8384193863936207\n"
     ]
    }
   ],
   "source": [
    "#Printing the R2 score of test and train set \n",
    "print(f'R2 Score of training set with alpha 10 {lrl.score(scaled_X_train, y_train)}')\n",
    "print(f'R2 Score of testing set with alpha 10 {lrl.score(scaled_X_test, y_test)}')"
   ]
  },
  {
   "cell_type": "markdown",
   "id": "2059f296",
   "metadata": {},
   "source": [
    "#### Create a cross-valiation with five folds."
   ]
  },
  {
   "cell_type": "code",
   "execution_count": 38,
   "id": "b042e4c7",
   "metadata": {},
   "outputs": [
    {
     "data": {
      "text/plain": [
       "array([-44687.15366391, -45135.10594606, -45616.03206489])"
      ]
     },
     "execution_count": 38,
     "metadata": {},
     "output_type": "execute_result"
    }
   ],
   "source": [
    "#score of training set using cross_val_score\n",
    "cross_val_score(lr_l, scaled_X_train, y_train, scoring='neg_mean_absolute_error', cv=3)"
   ]
  },
  {
   "cell_type": "code",
   "execution_count": 39,
   "id": "555d8ac3",
   "metadata": {},
   "outputs": [
    {
     "name": "stdout",
     "output_type": "stream",
     "text": [
      "The R2 of Lasso Regression with alpha 10 is 0.8344038042650312\n",
      "The mean squared error of Lasso Regression with alpha 10 is 76566.01551008181\n",
      "The mean absolute error of Lasso Regressionwith alpha 10 is 45137.4529164694\n"
     ]
    }
   ],
   "source": [
    "#score of training set using cross_val_score\n",
    "lrl_r2=np.mean(cross_val_score(lrl, scaled_X_train, y_train, cv=5))\n",
    "print(f'The R2 of Lasso Regression with alpha 10 is {lrl_r2}')\n",
    "\n",
    "#cross validation features gives greater is better, so score function is opposite of \n",
    "#MSE so we need to use -ve to get mse\n",
    "lrl_mse=np.mean(cross_val_score(lr_l, scaled_X_train, y_train, cv=5, scoring='neg_mean_squared_error'))\n",
    "lrl_rmse=np.sqrt(-(lrl_mse))\n",
    "print(f'The mean squared error of Lasso Regression with alpha 10 is {lrl_rmse}')\n",
    "\n",
    "#mean absolute error\n",
    "lrl_mae=np.mean(cross_val_score(lr_l, scaled_X_train, y_train, cv=5, scoring='neg_mean_absolute_error'))\n",
    "lrl_mae=(-(lrl_mae))\n",
    "print(f'The mean absolute error of Lasso Regressionwith alpha 10 is {lrl_mae}')"
   ]
  },
  {
   "cell_type": "markdown",
   "id": "a5b6635a",
   "metadata": {},
   "source": [
    "## Support Vector Machine(SVM) Regression"
   ]
  },
  {
   "cell_type": "code",
   "execution_count": 40,
   "id": "6b779c32",
   "metadata": {},
   "outputs": [
    {
     "data": {
      "text/plain": [
       "LinearSVR(epsilon=1.5)"
      ]
     },
     "execution_count": 40,
     "metadata": {},
     "output_type": "execute_result"
    }
   ],
   "source": [
    "# Make a svm regression instance\n",
    "svm=LinearSVR(epsilon=1.5)\n",
    "svm.fit(scaled_X_train, y_train)\n"
   ]
  },
  {
   "cell_type": "code",
   "execution_count": 41,
   "id": "8bf25907",
   "metadata": {},
   "outputs": [
    {
     "name": "stdout",
     "output_type": "stream",
     "text": [
      "R2 Score of training set -0.9919587622672232\n",
      "R2 Score of testing set  -0.9768562069368107\n"
     ]
    }
   ],
   "source": [
    "#Printing the R2 score of test and train set\n",
    "print(f'R2 Score of training set {svm.score(scaled_X_train, y_train)}')\n",
    "print(f'R2 Score of testing set  {svm.score(scaled_X_test, y_test)}')"
   ]
  },
  {
   "cell_type": "markdown",
   "id": "e615ad46",
   "metadata": {},
   "source": [
    "#### Create a cross-valiation with five folds."
   ]
  },
  {
   "cell_type": "code",
   "execution_count": 42,
   "id": "e685603f",
   "metadata": {},
   "outputs": [
    {
     "data": {
      "text/plain": [
       "array([-192924.08100737, -195209.9519937 , -194982.17263524])"
      ]
     },
     "execution_count": 42,
     "metadata": {},
     "output_type": "execute_result"
    }
   ],
   "source": [
    "#score of training set using cross_val_score\n",
    "cross_val_score(svm, scaled_X_train, y_train, scoring='neg_mean_absolute_error', cv=3)"
   ]
  },
  {
   "cell_type": "code",
   "execution_count": 43,
   "id": "0c662518",
   "metadata": {},
   "outputs": [
    {
     "name": "stdout",
     "output_type": "stream",
     "text": [
      "The R2 of svm Regression is -1.0382593321083269\n",
      "The mean squared error of svm Regression is 268490.695289283\n",
      "The mean absolute error of svm Regression is 191577.22100446743\n"
     ]
    }
   ],
   "source": [
    "#score of training set using cross_val_score\n",
    "svm_r2=np.mean(cross_val_score(svm, scaled_X_train, y_train, cv=5))\n",
    "print(f'The R2 of svm Regression is {svm_r2}')\n",
    "\n",
    "#cross validation features gives greater is better, so score function is opposite of \n",
    "#MSE so we need to use -ve to get mse\n",
    "svm_mse=np.mean(cross_val_score(svm, scaled_X_train, y_train, cv=5, scoring='neg_mean_squared_error'))\n",
    "svm_rmse=np.sqrt(-(svm_mse))\n",
    "print(f'The mean squared error of svm Regression is {svm_rmse}')\n",
    "\n",
    "#mean absolute error\n",
    "svm_mae=np.mean(cross_val_score(svm, scaled_X_train, y_train, cv=5, scoring='neg_mean_absolute_error'))\n",
    "svm_mae=(-(svm_mae))\n",
    "print(f'The mean absolute error of svm Regression is {svm_mae}')"
   ]
  },
  {
   "cell_type": "markdown",
   "id": "3ff3553b",
   "metadata": {},
   "source": [
    "## Support Vector Machine(SVR) Kernel Regression"
   ]
  },
  {
   "cell_type": "code",
   "execution_count": 44,
   "id": "1c767167",
   "metadata": {},
   "outputs": [
    {
     "data": {
      "text/plain": [
       "SVR(kernel='linear')"
      ]
     },
     "execution_count": 44,
     "metadata": {},
     "output_type": "execute_result"
    }
   ],
   "source": [
    "# Make a svm regression instance\n",
    "svr=SVR(kernel='linear')\n",
    "svr.fit(scaled_X_train, y_train)\n"
   ]
  },
  {
   "cell_type": "code",
   "execution_count": 45,
   "id": "d6a0e0e5",
   "metadata": {},
   "outputs": [
    {
     "name": "stdout",
     "output_type": "stream",
     "text": [
      "R2 Score of training set 0.31091676224762455\n",
      "R2 Score of testing set  0.30883996248099743\n"
     ]
    }
   ],
   "source": [
    "#Printing the R2 score of test and train set\n",
    "print(f'R2 Score of training set {svr.score(scaled_X_train, y_train)}')\n",
    "print(f'R2 Score of testing set  {svr.score(scaled_X_test, y_test)}')"
   ]
  },
  {
   "cell_type": "markdown",
   "id": "a28d7e89",
   "metadata": {},
   "source": [
    "#### Create a cross-valiation with five folds."
   ]
  },
  {
   "cell_type": "code",
   "execution_count": 46,
   "id": "d0dff9ea",
   "metadata": {},
   "outputs": [
    {
     "data": {
      "text/plain": [
       "array([-83322.13820595, -85155.28015323, -85022.51261042])"
      ]
     },
     "execution_count": 46,
     "metadata": {},
     "output_type": "execute_result"
    }
   ],
   "source": [
    "#score of training set using cross_val_score\n",
    "cross_val_score(svr, scaled_X_train, y_train, scoring='neg_mean_absolute_error', cv=3)"
   ]
  },
  {
   "cell_type": "code",
   "execution_count": 47,
   "id": "57199d86",
   "metadata": {},
   "outputs": [
    {
     "name": "stdout",
     "output_type": "stream",
     "text": [
      "The R2 of svr is 0.254173157341206\n",
      "The mean squared error of svr is 162457.02545143996\n",
      "The mean absolute error of svr  is 81130.0041190141\n"
     ]
    }
   ],
   "source": [
    "#score of training set using cross_val_score\n",
    "svr_r2=np.mean(cross_val_score(svr, scaled_X_train, y_train, cv=5))\n",
    "print(f'The R2 of svr is {svr_r2}')\n",
    "\n",
    "#cross validation features gives greater is better, so score function is opposite of \n",
    "#MSE so we need to use -ve to get mse\n",
    "svr_mse=np.mean(cross_val_score(svr, scaled_X_train, y_train, cv=5, scoring='neg_mean_squared_error'))\n",
    "svr_rmse=np.sqrt(-(svr_mse))\n",
    "print(f'The mean squared error of svr is {svr_rmse}')\n",
    "\n",
    "#mean absolute error\n",
    "svr_mae=np.mean(cross_val_score(svr, scaled_X_train, y_train, cv=5, scoring='neg_mean_absolute_error'))\n",
    "svr_mae=(-(svr_mae))\n",
    "print(f'The mean absolute error of svr  is {svr_mae}')"
   ]
  },
  {
   "cell_type": "markdown",
   "id": "bd258e46",
   "metadata": {},
   "source": [
    "## Decision Tree"
   ]
  },
  {
   "cell_type": "code",
   "execution_count": 48,
   "id": "28be931d",
   "metadata": {},
   "outputs": [
    {
     "data": {
      "text/plain": [
       "DecisionTreeRegressor()"
      ]
     },
     "execution_count": 48,
     "metadata": {},
     "output_type": "execute_result"
    }
   ],
   "source": [
    "# Make a decision tree instance\n",
    "dt=DecisionTreeRegressor()\n",
    "dt.fit(scaled_X_train, y_train)"
   ]
  },
  {
   "cell_type": "code",
   "execution_count": 49,
   "id": "9ca9899f",
   "metadata": {},
   "outputs": [
    {
     "name": "stdout",
     "output_type": "stream",
     "text": [
      "R2 Score of training set 1.0\n",
      "R2 Score of testing set  0.8598895337553716\n"
     ]
    }
   ],
   "source": [
    "#Printing the score of test and train set\n",
    "print(f'R2 Score of training set {dt.score(scaled_X_train, y_train)}')\n",
    "print(f'R2 Score of testing set  {dt.score(scaled_X_test, y_test)}')"
   ]
  },
  {
   "cell_type": "markdown",
   "id": "9f963945",
   "metadata": {},
   "source": [
    "#### Create a cross-valiation with five folds."
   ]
  },
  {
   "cell_type": "code",
   "execution_count": 50,
   "id": "7cf40f01",
   "metadata": {},
   "outputs": [
    {
     "data": {
      "text/plain": [
       "array([-37997.68554269, -38560.61413043, -38795.08166476])"
      ]
     },
     "execution_count": 50,
     "metadata": {},
     "output_type": "execute_result"
    }
   ],
   "source": [
    "#score of training set using cross_val_score\n",
    "cross_val_score(dt, scaled_X_train, y_train, scoring='neg_mean_absolute_error', cv=3)"
   ]
  },
  {
   "cell_type": "code",
   "execution_count": 51,
   "id": "1c8c2f3e",
   "metadata": {},
   "outputs": [
    {
     "name": "stdout",
     "output_type": "stream",
     "text": [
      "The R2 of Decision Tree Regressor is 0.8446431441272295\n",
      "The mean squared error of Decision Tree Regressor is 72920.9948716765\n",
      "The mean absolute error of Decision Tree Regressor is 37998.615521689884\n"
     ]
    }
   ],
   "source": [
    "#score of training set using cross_val_score\n",
    "dt_r2=np.mean(cross_val_score(dt, scaled_X_train, y_train, cv=5))\n",
    "print(f'The R2 of Decision Tree Regressor is {dt_r2}')\n",
    "\n",
    "#cross validation features gives greater is better, so score function is opposite of \n",
    "#MSE so we need to use -ve to get mse\n",
    "dt_mse=np.mean(cross_val_score(dt, scaled_X_train, y_train, cv=5, scoring='neg_mean_squared_error'))\n",
    "dt_rmse=np.sqrt(-(dt_mse))\n",
    "print(f'The mean squared error of Decision Tree Regressor is {dt_rmse}')\n",
    "\n",
    "#mean absolute error\n",
    "dt_mae=np.mean(cross_val_score(dt, scaled_X_train, y_train, cv=5, scoring='neg_mean_absolute_error'))\n",
    "dt_mae=(-(dt_mae))\n",
    "print(f'The mean absolute error of Decision Tree Regressor is {dt_mae}')"
   ]
  },
  {
   "cell_type": "markdown",
   "id": "1e3fe38b",
   "metadata": {},
   "source": [
    "### Tuning hyperparamaters  using Grid Search CV"
   ]
  },
  {
   "cell_type": "code",
   "execution_count": 52,
   "id": "27a2d980",
   "metadata": {},
   "outputs": [
    {
     "name": "stdout",
     "output_type": "stream",
     "text": [
      "Fitting 3 folds for each of 12 candidates, totalling 36 fits\n"
     ]
    },
    {
     "data": {
      "text/plain": [
       "GridSearchCV(cv=3, estimator=DecisionTreeRegressor(), n_jobs=-1,\n",
       "             param_grid={'max_depth': [6, 8, 12],\n",
       "                         'min_samples_leaf': range(1, 5)},\n",
       "             verbose=1)"
      ]
     },
     "execution_count": 52,
     "metadata": {},
     "output_type": "execute_result"
    }
   ],
   "source": [
    "parameters = {\n",
    "              'max_depth':[6, 8,12],\n",
    "              'min_samples_leaf':range(1,5)}\n",
    "gs_dt=GridSearchCV(dt, param_grid=parameters, \n",
    "                    cv=3, verbose=1, n_jobs=-1)\n",
    "gs_dt.fit(scaled_X_train, y_train)"
   ]
  },
  {
   "cell_type": "code",
   "execution_count": 53,
   "id": "95f29774",
   "metadata": {},
   "outputs": [
    {
     "data": {
      "text/plain": [
       "{'max_depth': 6, 'min_samples_leaf': 1}"
      ]
     },
     "execution_count": 53,
     "metadata": {},
     "output_type": "execute_result"
    }
   ],
   "source": [
    "#Best parameters\n",
    "gs_dt.best_params_"
   ]
  },
  {
   "cell_type": "code",
   "execution_count": 54,
   "id": "41433358",
   "metadata": {},
   "outputs": [
    {
     "data": {
      "text/plain": [
       "DecisionTreeRegressor(max_depth=6)"
      ]
     },
     "execution_count": 54,
     "metadata": {},
     "output_type": "execute_result"
    }
   ],
   "source": [
    "#best estimator\n",
    "dt_b=gs_dt.best_estimator_\n",
    "dt_b"
   ]
  },
  {
   "cell_type": "code",
   "execution_count": 55,
   "id": "98a4768a",
   "metadata": {},
   "outputs": [
    {
     "name": "stdout",
     "output_type": "stream",
     "text": [
      "R2 Score of training set after hyperpar tuining 0.9161249412496663\n",
      "R2 Score of testing set after hyperpar tuining  0.8855919439527675\n"
     ]
    }
   ],
   "source": [
    "#Printing the score of test and train set\n",
    "dt_tr=dt_b.score(scaled_X_train, y_train)\n",
    "dt_te=dt_b.score(scaled_X_test, y_test)\n",
    "print(f'R2 Score of training set after hyperpar tuining {dt_tr}')\n",
    "print(f'R2 Score of testing set after hyperpar tuining  {dt_te}')"
   ]
  },
  {
   "cell_type": "code",
   "execution_count": 56,
   "id": "09a0f638",
   "metadata": {},
   "outputs": [
    {
     "data": {
      "text/html": [
       "<div>\n",
       "<style scoped>\n",
       "    .dataframe tbody tr th:only-of-type {\n",
       "        vertical-align: middle;\n",
       "    }\n",
       "\n",
       "    .dataframe tbody tr th {\n",
       "        vertical-align: top;\n",
       "    }\n",
       "\n",
       "    .dataframe thead th {\n",
       "        text-align: right;\n",
       "    }\n",
       "</style>\n",
       "<table border=\"1\" class=\"dataframe\">\n",
       "  <thead>\n",
       "    <tr style=\"text-align: right;\">\n",
       "      <th></th>\n",
       "      <th>mean_fit_time</th>\n",
       "      <th>std_fit_time</th>\n",
       "      <th>mean_score_time</th>\n",
       "      <th>std_score_time</th>\n",
       "      <th>param_max_depth</th>\n",
       "      <th>param_min_samples_leaf</th>\n",
       "      <th>params</th>\n",
       "      <th>split0_test_score</th>\n",
       "      <th>split1_test_score</th>\n",
       "      <th>split2_test_score</th>\n",
       "      <th>mean_test_score</th>\n",
       "      <th>std_test_score</th>\n",
       "      <th>rank_test_score</th>\n",
       "    </tr>\n",
       "  </thead>\n",
       "  <tbody>\n",
       "    <tr>\n",
       "      <th>0</th>\n",
       "      <td>0.101986</td>\n",
       "      <td>0.000343</td>\n",
       "      <td>0.001665</td>\n",
       "      <td>0.000487</td>\n",
       "      <td>6</td>\n",
       "      <td>1</td>\n",
       "      <td>{'max_depth': 6, 'min_samples_leaf': 1}</td>\n",
       "      <td>0.880658</td>\n",
       "      <td>0.885327</td>\n",
       "      <td>0.875468</td>\n",
       "      <td>0.880485</td>\n",
       "      <td>0.004027</td>\n",
       "      <td>1</td>\n",
       "    </tr>\n",
       "    <tr>\n",
       "      <th>1</th>\n",
       "      <td>0.101382</td>\n",
       "      <td>0.000820</td>\n",
       "      <td>0.001302</td>\n",
       "      <td>0.000037</td>\n",
       "      <td>6</td>\n",
       "      <td>2</td>\n",
       "      <td>{'max_depth': 6, 'min_samples_leaf': 2}</td>\n",
       "      <td>0.886504</td>\n",
       "      <td>0.881894</td>\n",
       "      <td>0.852120</td>\n",
       "      <td>0.873506</td>\n",
       "      <td>0.015239</td>\n",
       "      <td>8</td>\n",
       "    </tr>\n",
       "    <tr>\n",
       "      <th>2</th>\n",
       "      <td>0.103587</td>\n",
       "      <td>0.000969</td>\n",
       "      <td>0.001322</td>\n",
       "      <td>0.000098</td>\n",
       "      <td>6</td>\n",
       "      <td>3</td>\n",
       "      <td>{'max_depth': 6, 'min_samples_leaf': 3}</td>\n",
       "      <td>0.881681</td>\n",
       "      <td>0.881154</td>\n",
       "      <td>0.862036</td>\n",
       "      <td>0.874957</td>\n",
       "      <td>0.009139</td>\n",
       "      <td>7</td>\n",
       "    </tr>\n",
       "    <tr>\n",
       "      <th>3</th>\n",
       "      <td>0.103006</td>\n",
       "      <td>0.000264</td>\n",
       "      <td>0.001179</td>\n",
       "      <td>0.000053</td>\n",
       "      <td>6</td>\n",
       "      <td>4</td>\n",
       "      <td>{'max_depth': 6, 'min_samples_leaf': 4}</td>\n",
       "      <td>0.882384</td>\n",
       "      <td>0.885480</td>\n",
       "      <td>0.861510</td>\n",
       "      <td>0.876458</td>\n",
       "      <td>0.010645</td>\n",
       "      <td>2</td>\n",
       "    </tr>\n",
       "    <tr>\n",
       "      <th>4</th>\n",
       "      <td>0.131341</td>\n",
       "      <td>0.000243</td>\n",
       "      <td>0.001352</td>\n",
       "      <td>0.000031</td>\n",
       "      <td>8</td>\n",
       "      <td>1</td>\n",
       "      <td>{'max_depth': 8, 'min_samples_leaf': 1}</td>\n",
       "      <td>0.882459</td>\n",
       "      <td>0.870963</td>\n",
       "      <td>0.874138</td>\n",
       "      <td>0.875853</td>\n",
       "      <td>0.004847</td>\n",
       "      <td>4</td>\n",
       "    </tr>\n",
       "    <tr>\n",
       "      <th>5</th>\n",
       "      <td>0.131665</td>\n",
       "      <td>0.000371</td>\n",
       "      <td>0.001351</td>\n",
       "      <td>0.000015</td>\n",
       "      <td>8</td>\n",
       "      <td>2</td>\n",
       "      <td>{'max_depth': 8, 'min_samples_leaf': 2}</td>\n",
       "      <td>0.873841</td>\n",
       "      <td>0.873673</td>\n",
       "      <td>0.849806</td>\n",
       "      <td>0.865773</td>\n",
       "      <td>0.011291</td>\n",
       "      <td>11</td>\n",
       "    </tr>\n",
       "    <tr>\n",
       "      <th>6</th>\n",
       "      <td>0.136674</td>\n",
       "      <td>0.001870</td>\n",
       "      <td>0.001385</td>\n",
       "      <td>0.000062</td>\n",
       "      <td>8</td>\n",
       "      <td>3</td>\n",
       "      <td>{'max_depth': 8, 'min_samples_leaf': 3}</td>\n",
       "      <td>0.880413</td>\n",
       "      <td>0.881817</td>\n",
       "      <td>0.866324</td>\n",
       "      <td>0.876184</td>\n",
       "      <td>0.006996</td>\n",
       "      <td>3</td>\n",
       "    </tr>\n",
       "    <tr>\n",
       "      <th>7</th>\n",
       "      <td>0.134823</td>\n",
       "      <td>0.000382</td>\n",
       "      <td>0.001367</td>\n",
       "      <td>0.000014</td>\n",
       "      <td>8</td>\n",
       "      <td>4</td>\n",
       "      <td>{'max_depth': 8, 'min_samples_leaf': 4}</td>\n",
       "      <td>0.885593</td>\n",
       "      <td>0.878029</td>\n",
       "      <td>0.863287</td>\n",
       "      <td>0.875636</td>\n",
       "      <td>0.009262</td>\n",
       "      <td>5</td>\n",
       "    </tr>\n",
       "    <tr>\n",
       "      <th>8</th>\n",
       "      <td>0.193144</td>\n",
       "      <td>0.001298</td>\n",
       "      <td>0.001783</td>\n",
       "      <td>0.000086</td>\n",
       "      <td>12</td>\n",
       "      <td>1</td>\n",
       "      <td>{'max_depth': 12, 'min_samples_leaf': 1}</td>\n",
       "      <td>0.872714</td>\n",
       "      <td>0.863895</td>\n",
       "      <td>0.864585</td>\n",
       "      <td>0.867064</td>\n",
       "      <td>0.004005</td>\n",
       "      <td>10</td>\n",
       "    </tr>\n",
       "    <tr>\n",
       "      <th>9</th>\n",
       "      <td>0.193261</td>\n",
       "      <td>0.000870</td>\n",
       "      <td>0.001728</td>\n",
       "      <td>0.000055</td>\n",
       "      <td>12</td>\n",
       "      <td>2</td>\n",
       "      <td>{'max_depth': 12, 'min_samples_leaf': 2}</td>\n",
       "      <td>0.864505</td>\n",
       "      <td>0.863728</td>\n",
       "      <td>0.849781</td>\n",
       "      <td>0.859338</td>\n",
       "      <td>0.006765</td>\n",
       "      <td>12</td>\n",
       "    </tr>\n",
       "    <tr>\n",
       "      <th>10</th>\n",
       "      <td>0.175136</td>\n",
       "      <td>0.019416</td>\n",
       "      <td>0.001677</td>\n",
       "      <td>0.000164</td>\n",
       "      <td>12</td>\n",
       "      <td>3</td>\n",
       "      <td>{'max_depth': 12, 'min_samples_leaf': 3}</td>\n",
       "      <td>0.880840</td>\n",
       "      <td>0.872143</td>\n",
       "      <td>0.864438</td>\n",
       "      <td>0.872474</td>\n",
       "      <td>0.006700</td>\n",
       "      <td>9</td>\n",
       "    </tr>\n",
       "    <tr>\n",
       "      <th>11</th>\n",
       "      <td>0.139613</td>\n",
       "      <td>0.004315</td>\n",
       "      <td>0.001436</td>\n",
       "      <td>0.000083</td>\n",
       "      <td>12</td>\n",
       "      <td>4</td>\n",
       "      <td>{'max_depth': 12, 'min_samples_leaf': 4}</td>\n",
       "      <td>0.885416</td>\n",
       "      <td>0.874666</td>\n",
       "      <td>0.864918</td>\n",
       "      <td>0.875000</td>\n",
       "      <td>0.008372</td>\n",
       "      <td>6</td>\n",
       "    </tr>\n",
       "  </tbody>\n",
       "</table>\n",
       "</div>"
      ],
      "text/plain": [
       "    mean_fit_time  std_fit_time  mean_score_time  std_score_time  \\\n",
       "0        0.101986      0.000343         0.001665        0.000487   \n",
       "1        0.101382      0.000820         0.001302        0.000037   \n",
       "2        0.103587      0.000969         0.001322        0.000098   \n",
       "3        0.103006      0.000264         0.001179        0.000053   \n",
       "4        0.131341      0.000243         0.001352        0.000031   \n",
       "5        0.131665      0.000371         0.001351        0.000015   \n",
       "6        0.136674      0.001870         0.001385        0.000062   \n",
       "7        0.134823      0.000382         0.001367        0.000014   \n",
       "8        0.193144      0.001298         0.001783        0.000086   \n",
       "9        0.193261      0.000870         0.001728        0.000055   \n",
       "10       0.175136      0.019416         0.001677        0.000164   \n",
       "11       0.139613      0.004315         0.001436        0.000083   \n",
       "\n",
       "   param_max_depth param_min_samples_leaf  \\\n",
       "0                6                      1   \n",
       "1                6                      2   \n",
       "2                6                      3   \n",
       "3                6                      4   \n",
       "4                8                      1   \n",
       "5                8                      2   \n",
       "6                8                      3   \n",
       "7                8                      4   \n",
       "8               12                      1   \n",
       "9               12                      2   \n",
       "10              12                      3   \n",
       "11              12                      4   \n",
       "\n",
       "                                      params  split0_test_score  \\\n",
       "0    {'max_depth': 6, 'min_samples_leaf': 1}           0.880658   \n",
       "1    {'max_depth': 6, 'min_samples_leaf': 2}           0.886504   \n",
       "2    {'max_depth': 6, 'min_samples_leaf': 3}           0.881681   \n",
       "3    {'max_depth': 6, 'min_samples_leaf': 4}           0.882384   \n",
       "4    {'max_depth': 8, 'min_samples_leaf': 1}           0.882459   \n",
       "5    {'max_depth': 8, 'min_samples_leaf': 2}           0.873841   \n",
       "6    {'max_depth': 8, 'min_samples_leaf': 3}           0.880413   \n",
       "7    {'max_depth': 8, 'min_samples_leaf': 4}           0.885593   \n",
       "8   {'max_depth': 12, 'min_samples_leaf': 1}           0.872714   \n",
       "9   {'max_depth': 12, 'min_samples_leaf': 2}           0.864505   \n",
       "10  {'max_depth': 12, 'min_samples_leaf': 3}           0.880840   \n",
       "11  {'max_depth': 12, 'min_samples_leaf': 4}           0.885416   \n",
       "\n",
       "    split1_test_score  split2_test_score  mean_test_score  std_test_score  \\\n",
       "0            0.885327           0.875468         0.880485        0.004027   \n",
       "1            0.881894           0.852120         0.873506        0.015239   \n",
       "2            0.881154           0.862036         0.874957        0.009139   \n",
       "3            0.885480           0.861510         0.876458        0.010645   \n",
       "4            0.870963           0.874138         0.875853        0.004847   \n",
       "5            0.873673           0.849806         0.865773        0.011291   \n",
       "6            0.881817           0.866324         0.876184        0.006996   \n",
       "7            0.878029           0.863287         0.875636        0.009262   \n",
       "8            0.863895           0.864585         0.867064        0.004005   \n",
       "9            0.863728           0.849781         0.859338        0.006765   \n",
       "10           0.872143           0.864438         0.872474        0.006700   \n",
       "11           0.874666           0.864918         0.875000        0.008372   \n",
       "\n",
       "    rank_test_score  \n",
       "0                 1  \n",
       "1                 8  \n",
       "2                 7  \n",
       "3                 2  \n",
       "4                 4  \n",
       "5                11  \n",
       "6                 3  \n",
       "7                 5  \n",
       "8                10  \n",
       "9                12  \n",
       "10                9  \n",
       "11                6  "
      ]
     },
     "execution_count": 56,
     "metadata": {},
     "output_type": "execute_result"
    }
   ],
   "source": [
    "#dataframe for results\n",
    "dt_df=pd.DataFrame(gs_dt.cv_results_)\n",
    "dt_df"
   ]
  },
  {
   "cell_type": "code",
   "execution_count": 57,
   "id": "9645e6cf",
   "metadata": {},
   "outputs": [
    {
     "name": "stdout",
     "output_type": "stream",
     "text": [
      "0.8804845594931726 {'max_depth': 6, 'min_samples_leaf': 1}\n",
      "0.8735058363325127 {'max_depth': 6, 'min_samples_leaf': 2}\n",
      "0.8749572188981087 {'max_depth': 6, 'min_samples_leaf': 3}\n",
      "0.8764582497479 {'max_depth': 6, 'min_samples_leaf': 4}\n",
      "0.8758531438407949 {'max_depth': 8, 'min_samples_leaf': 1}\n",
      "0.865773381843085 {'max_depth': 8, 'min_samples_leaf': 2}\n",
      "0.8761844301369665 {'max_depth': 8, 'min_samples_leaf': 3}\n",
      "0.8756361916778476 {'max_depth': 8, 'min_samples_leaf': 4}\n",
      "0.8670643091032315 {'max_depth': 12, 'min_samples_leaf': 1}\n",
      "0.8593379351997027 {'max_depth': 12, 'min_samples_leaf': 2}\n",
      "0.8724737254065795 {'max_depth': 12, 'min_samples_leaf': 3}\n",
      "0.8749999212512103 {'max_depth': 12, 'min_samples_leaf': 4}\n"
     ]
    }
   ],
   "source": [
    "#printing the evaluation scores\n",
    "cvres_dt=gs_dt.cv_results_\n",
    "for mean_score, params in zip(cvres_dt['mean_test_score'], cvres_dt['params']):\n",
    "    print((mean_score), params)"
   ]
  },
  {
   "cell_type": "markdown",
   "id": "b7598a1e",
   "metadata": {},
   "source": [
    "## Random Forest"
   ]
  },
  {
   "cell_type": "code",
   "execution_count": 58,
   "id": "6b1dda5b",
   "metadata": {},
   "outputs": [
    {
     "data": {
      "text/plain": [
       "RandomForestRegressor()"
      ]
     },
     "execution_count": 58,
     "metadata": {},
     "output_type": "execute_result"
    }
   ],
   "source": [
    "# Make a Random forest instance\n",
    "rf=RandomForestRegressor()\n",
    "rf.fit(scaled_X_train, y_train)"
   ]
  },
  {
   "cell_type": "code",
   "execution_count": 59,
   "id": "e938744e",
   "metadata": {},
   "outputs": [
    {
     "name": "stdout",
     "output_type": "stream",
     "text": [
      "R2 Score of training set 0.989587739573064\n",
      "R2 Score of testing set 0.9246137957843878\n"
     ]
    }
   ],
   "source": [
    "#Printing the score of test and train set\n",
    "print(f'R2 Score of training set {rf.score(scaled_X_train, y_train)}')\n",
    "print(f'R2 Score of testing set {rf.score(scaled_X_test, y_test)}')"
   ]
  },
  {
   "cell_type": "markdown",
   "id": "da8b9d59",
   "metadata": {},
   "source": [
    "#### Create a cross-valiation with five folds."
   ]
  },
  {
   "cell_type": "code",
   "execution_count": 60,
   "id": "135f6d2c",
   "metadata": {},
   "outputs": [
    {
     "data": {
      "text/plain": [
       "array([-26977.36628486, -26848.28970252, -27201.03214674])"
      ]
     },
     "execution_count": 60,
     "metadata": {},
     "output_type": "execute_result"
    }
   ],
   "source": [
    "#score of training set using cross_val_score\n",
    "cross_val_score(rf, scaled_X_train, y_train, scoring='neg_mean_absolute_error', cv=3)"
   ]
  },
  {
   "cell_type": "code",
   "execution_count": 61,
   "id": "f8ad726f",
   "metadata": {},
   "outputs": [
    {
     "name": "stdout",
     "output_type": "stream",
     "text": [
      "The R2 of Random Forest Regressor is 0.9231296884403856\n",
      "The mean squared error of Random Forest Regressor is 76566.01551008181\n",
      "The mean absolute error of Random Forest Regressor is 26855.606966331292\n"
     ]
    }
   ],
   "source": [
    "#score of training set using cross_val_score\n",
    "rf_r2=np.mean(cross_val_score(rf, scaled_X_train, y_train, cv=5))\n",
    "print(f'The R2 of Random Forest Regressor is {rf_r2}')\n",
    "\n",
    "#cross validation features gives greater is better, so score function is opposite of \n",
    "#MSE so we need to use -ve to get mse\n",
    "rf_mse=np.mean(cross_val_score(rf, scaled_X_train, y_train, cv=5, scoring='neg_mean_squared_error'))\n",
    "rf_rmse=np.sqrt(-(lrl_mse))\n",
    "print(f'The mean squared error of Random Forest Regressor is {rf_rmse}')\n",
    "\n",
    "#mean absolute error\n",
    "rf_mae=np.mean(cross_val_score(rf, scaled_X_train, y_train, cv=5, scoring='neg_mean_absolute_error'))\n",
    "rf_mae=(-(rf_mae))\n",
    "print(f'The mean absolute error of Random Forest Regressor is {rf_mae}')"
   ]
  },
  {
   "cell_type": "markdown",
   "id": "8b870518",
   "metadata": {},
   "source": [
    "#### Tuning the hyperparameters using Grid Search CV"
   ]
  },
  {
   "cell_type": "code",
   "execution_count": 62,
   "id": "6dd383c1",
   "metadata": {},
   "outputs": [
    {
     "data": {
      "text/plain": [
       "GridSearchCV(cv=5, estimator=RandomForestRegressor(),\n",
       "             param_grid=[{'max_features': [3, 6],\n",
       "                          'n_estimators': [30, 60, 100]}],\n",
       "             return_train_score=True, scoring='neg_mean_absolute_error')"
      ]
     },
     "execution_count": 62,
     "metadata": {},
     "output_type": "execute_result"
    }
   ],
   "source": [
    "parameters = [{'n_estimators':[30,60,100],\n",
    "              'max_features':[3,6]}]\n",
    "              #,{'bootstrap':[False], 'n_estimators':[3,10,100],\n",
    "              #'max_features':[4,6,8,10]}]\n",
    "gs_rf=GridSearchCV(rf, parameters, scoring='neg_mean_absolute_error',\n",
    "                   cv=5, return_train_score=True)\n",
    "gs_rf.fit(scaled_X_train, y_train)"
   ]
  },
  {
   "cell_type": "code",
   "execution_count": 63,
   "id": "56037980",
   "metadata": {},
   "outputs": [
    {
     "data": {
      "text/plain": [
       "{'max_features': 6, 'n_estimators': 60}"
      ]
     },
     "execution_count": 63,
     "metadata": {},
     "output_type": "execute_result"
    }
   ],
   "source": [
    "#Best parameters\n",
    "gs_rf.best_params_"
   ]
  },
  {
   "cell_type": "code",
   "execution_count": 64,
   "id": "5ec795c4",
   "metadata": {},
   "outputs": [
    {
     "data": {
      "text/plain": [
       "RandomForestRegressor(max_features=6, n_estimators=60)"
      ]
     },
     "execution_count": 64,
     "metadata": {},
     "output_type": "execute_result"
    }
   ],
   "source": [
    "#best estimator\n",
    "rf_b=gs_rf.best_estimator_\n",
    "rf_b"
   ]
  },
  {
   "cell_type": "code",
   "execution_count": 65,
   "id": "66d57f11",
   "metadata": {},
   "outputs": [
    {
     "name": "stdout",
     "output_type": "stream",
     "text": [
      "R2 Score of training set after hyperpar tuining 0.989797742907176\n",
      "R2 Score of testing set after hyperpar tuining  0.9230199241688251\n"
     ]
    }
   ],
   "source": [
    "#Printing the score of test and train set\n",
    "rf_tr=rf_b.score(scaled_X_train, y_train)\n",
    "rf_te=rf_b.score(scaled_X_test, y_test)\n",
    "print(f'R2 Score of training set after hyperpar tuining {rf_tr}')\n",
    "print(f'R2 Score of testing set after hyperpar tuining  {rf_te}')"
   ]
  },
  {
   "cell_type": "code",
   "execution_count": 66,
   "id": "da3801bd",
   "metadata": {},
   "outputs": [
    {
     "data": {
      "text/html": [
       "<div>\n",
       "<style scoped>\n",
       "    .dataframe tbody tr th:only-of-type {\n",
       "        vertical-align: middle;\n",
       "    }\n",
       "\n",
       "    .dataframe tbody tr th {\n",
       "        vertical-align: top;\n",
       "    }\n",
       "\n",
       "    .dataframe thead th {\n",
       "        text-align: right;\n",
       "    }\n",
       "</style>\n",
       "<table border=\"1\" class=\"dataframe\">\n",
       "  <thead>\n",
       "    <tr style=\"text-align: right;\">\n",
       "      <th></th>\n",
       "      <th>mean_fit_time</th>\n",
       "      <th>std_fit_time</th>\n",
       "      <th>mean_score_time</th>\n",
       "      <th>std_score_time</th>\n",
       "      <th>param_max_features</th>\n",
       "      <th>param_n_estimators</th>\n",
       "      <th>params</th>\n",
       "      <th>split0_test_score</th>\n",
       "      <th>split1_test_score</th>\n",
       "      <th>split2_test_score</th>\n",
       "      <th>...</th>\n",
       "      <th>mean_test_score</th>\n",
       "      <th>std_test_score</th>\n",
       "      <th>rank_test_score</th>\n",
       "      <th>split0_train_score</th>\n",
       "      <th>split1_train_score</th>\n",
       "      <th>split2_train_score</th>\n",
       "      <th>split3_train_score</th>\n",
       "      <th>split4_train_score</th>\n",
       "      <th>mean_train_score</th>\n",
       "      <th>std_train_score</th>\n",
       "    </tr>\n",
       "  </thead>\n",
       "  <tbody>\n",
       "    <tr>\n",
       "      <th>0</th>\n",
       "      <td>1.063450</td>\n",
       "      <td>0.004583</td>\n",
       "      <td>0.027557</td>\n",
       "      <td>0.000787</td>\n",
       "      <td>3</td>\n",
       "      <td>30</td>\n",
       "      <td>{'max_features': 3, 'n_estimators': 30}</td>\n",
       "      <td>-27796.426533</td>\n",
       "      <td>-27805.845909</td>\n",
       "      <td>-27520.672761</td>\n",
       "      <td>...</td>\n",
       "      <td>-27825.528797</td>\n",
       "      <td>208.048880</td>\n",
       "      <td>6</td>\n",
       "      <td>-10685.459186</td>\n",
       "      <td>-10651.157738</td>\n",
       "      <td>-10796.614812</td>\n",
       "      <td>-10691.280275</td>\n",
       "      <td>-10602.567868</td>\n",
       "      <td>-10685.415976</td>\n",
       "      <td>63.932791</td>\n",
       "    </tr>\n",
       "    <tr>\n",
       "      <th>1</th>\n",
       "      <td>2.102396</td>\n",
       "      <td>0.012960</td>\n",
       "      <td>0.054446</td>\n",
       "      <td>0.000255</td>\n",
       "      <td>3</td>\n",
       "      <td>60</td>\n",
       "      <td>{'max_features': 3, 'n_estimators': 60}</td>\n",
       "      <td>-27368.812671</td>\n",
       "      <td>-27288.808274</td>\n",
       "      <td>-26624.402916</td>\n",
       "      <td>...</td>\n",
       "      <td>-27329.204793</td>\n",
       "      <td>428.729725</td>\n",
       "      <td>5</td>\n",
       "      <td>-10275.701825</td>\n",
       "      <td>-10303.803339</td>\n",
       "      <td>-10514.267249</td>\n",
       "      <td>-10378.758535</td>\n",
       "      <td>-10143.752422</td>\n",
       "      <td>-10323.256674</td>\n",
       "      <td>122.005876</td>\n",
       "    </tr>\n",
       "    <tr>\n",
       "      <th>2</th>\n",
       "      <td>3.470429</td>\n",
       "      <td>0.017724</td>\n",
       "      <td>0.092056</td>\n",
       "      <td>0.002508</td>\n",
       "      <td>3</td>\n",
       "      <td>100</td>\n",
       "      <td>{'max_features': 3, 'n_estimators': 100}</td>\n",
       "      <td>-27276.975832</td>\n",
       "      <td>-27103.429013</td>\n",
       "      <td>-26652.203256</td>\n",
       "      <td>...</td>\n",
       "      <td>-27214.870311</td>\n",
       "      <td>375.727120</td>\n",
       "      <td>4</td>\n",
       "      <td>-10186.606435</td>\n",
       "      <td>-10106.551595</td>\n",
       "      <td>-10295.728997</td>\n",
       "      <td>-10233.849279</td>\n",
       "      <td>-10149.847437</td>\n",
       "      <td>-10194.516748</td>\n",
       "      <td>65.706553</td>\n",
       "    </tr>\n",
       "    <tr>\n",
       "      <th>3</th>\n",
       "      <td>1.850119</td>\n",
       "      <td>0.017291</td>\n",
       "      <td>0.027056</td>\n",
       "      <td>0.000329</td>\n",
       "      <td>6</td>\n",
       "      <td>30</td>\n",
       "      <td>{'max_features': 6, 'n_estimators': 30}</td>\n",
       "      <td>-27060.654512</td>\n",
       "      <td>-27201.661209</td>\n",
       "      <td>-26059.652809</td>\n",
       "      <td>...</td>\n",
       "      <td>-26960.406507</td>\n",
       "      <td>524.927135</td>\n",
       "      <td>3</td>\n",
       "      <td>-10446.205447</td>\n",
       "      <td>-10235.398854</td>\n",
       "      <td>-10528.598624</td>\n",
       "      <td>-10496.295181</td>\n",
       "      <td>-10381.689149</td>\n",
       "      <td>-10417.637451</td>\n",
       "      <td>103.748482</td>\n",
       "    </tr>\n",
       "    <tr>\n",
       "      <th>4</th>\n",
       "      <td>3.688889</td>\n",
       "      <td>0.055195</td>\n",
       "      <td>0.055887</td>\n",
       "      <td>0.002549</td>\n",
       "      <td>6</td>\n",
       "      <td>60</td>\n",
       "      <td>{'max_features': 6, 'n_estimators': 60}</td>\n",
       "      <td>-26656.052554</td>\n",
       "      <td>-26801.412631</td>\n",
       "      <td>-26024.784366</td>\n",
       "      <td>...</td>\n",
       "      <td>-26730.494299</td>\n",
       "      <td>446.438286</td>\n",
       "      <td>1</td>\n",
       "      <td>-10174.155645</td>\n",
       "      <td>-9977.461989</td>\n",
       "      <td>-10156.291548</td>\n",
       "      <td>-10112.899970</td>\n",
       "      <td>-10002.280469</td>\n",
       "      <td>-10084.617924</td>\n",
       "      <td>80.269343</td>\n",
       "    </tr>\n",
       "    <tr>\n",
       "      <th>5</th>\n",
       "      <td>6.296321</td>\n",
       "      <td>0.050489</td>\n",
       "      <td>0.093939</td>\n",
       "      <td>0.002424</td>\n",
       "      <td>6</td>\n",
       "      <td>100</td>\n",
       "      <td>{'max_features': 6, 'n_estimators': 100}</td>\n",
       "      <td>-26691.622827</td>\n",
       "      <td>-26924.846089</td>\n",
       "      <td>-26079.921800</td>\n",
       "      <td>...</td>\n",
       "      <td>-26747.594896</td>\n",
       "      <td>442.833161</td>\n",
       "      <td>2</td>\n",
       "      <td>-9948.269438</td>\n",
       "      <td>-9919.627901</td>\n",
       "      <td>-10038.075778</td>\n",
       "      <td>-9991.246158</td>\n",
       "      <td>-9839.042098</td>\n",
       "      <td>-9947.252275</td>\n",
       "      <td>67.317091</td>\n",
       "    </tr>\n",
       "  </tbody>\n",
       "</table>\n",
       "<p>6 rows × 22 columns</p>\n",
       "</div>"
      ],
      "text/plain": [
       "   mean_fit_time  std_fit_time  mean_score_time  std_score_time  \\\n",
       "0       1.063450      0.004583         0.027557        0.000787   \n",
       "1       2.102396      0.012960         0.054446        0.000255   \n",
       "2       3.470429      0.017724         0.092056        0.002508   \n",
       "3       1.850119      0.017291         0.027056        0.000329   \n",
       "4       3.688889      0.055195         0.055887        0.002549   \n",
       "5       6.296321      0.050489         0.093939        0.002424   \n",
       "\n",
       "  param_max_features param_n_estimators  \\\n",
       "0                  3                 30   \n",
       "1                  3                 60   \n",
       "2                  3                100   \n",
       "3                  6                 30   \n",
       "4                  6                 60   \n",
       "5                  6                100   \n",
       "\n",
       "                                     params  split0_test_score  \\\n",
       "0   {'max_features': 3, 'n_estimators': 30}      -27796.426533   \n",
       "1   {'max_features': 3, 'n_estimators': 60}      -27368.812671   \n",
       "2  {'max_features': 3, 'n_estimators': 100}      -27276.975832   \n",
       "3   {'max_features': 6, 'n_estimators': 30}      -27060.654512   \n",
       "4   {'max_features': 6, 'n_estimators': 60}      -26656.052554   \n",
       "5  {'max_features': 6, 'n_estimators': 100}      -26691.622827   \n",
       "\n",
       "   split1_test_score  split2_test_score  ...  mean_test_score  std_test_score  \\\n",
       "0      -27805.845909      -27520.672761  ...    -27825.528797      208.048880   \n",
       "1      -27288.808274      -26624.402916  ...    -27329.204793      428.729725   \n",
       "2      -27103.429013      -26652.203256  ...    -27214.870311      375.727120   \n",
       "3      -27201.661209      -26059.652809  ...    -26960.406507      524.927135   \n",
       "4      -26801.412631      -26024.784366  ...    -26730.494299      446.438286   \n",
       "5      -26924.846089      -26079.921800  ...    -26747.594896      442.833161   \n",
       "\n",
       "   rank_test_score  split0_train_score  split1_train_score  \\\n",
       "0                6       -10685.459186       -10651.157738   \n",
       "1                5       -10275.701825       -10303.803339   \n",
       "2                4       -10186.606435       -10106.551595   \n",
       "3                3       -10446.205447       -10235.398854   \n",
       "4                1       -10174.155645        -9977.461989   \n",
       "5                2        -9948.269438        -9919.627901   \n",
       "\n",
       "   split2_train_score  split3_train_score  split4_train_score  \\\n",
       "0       -10796.614812       -10691.280275       -10602.567868   \n",
       "1       -10514.267249       -10378.758535       -10143.752422   \n",
       "2       -10295.728997       -10233.849279       -10149.847437   \n",
       "3       -10528.598624       -10496.295181       -10381.689149   \n",
       "4       -10156.291548       -10112.899970       -10002.280469   \n",
       "5       -10038.075778        -9991.246158        -9839.042098   \n",
       "\n",
       "   mean_train_score  std_train_score  \n",
       "0     -10685.415976        63.932791  \n",
       "1     -10323.256674       122.005876  \n",
       "2     -10194.516748        65.706553  \n",
       "3     -10417.637451       103.748482  \n",
       "4     -10084.617924        80.269343  \n",
       "5      -9947.252275        67.317091  \n",
       "\n",
       "[6 rows x 22 columns]"
      ]
     },
     "execution_count": 66,
     "metadata": {},
     "output_type": "execute_result"
    }
   ],
   "source": [
    "#dataframe for results\n",
    "rf_df=pd.DataFrame(gs_rf.cv_results_)\n",
    "rf_df"
   ]
  },
  {
   "cell_type": "code",
   "execution_count": 67,
   "id": "55c0f3a2",
   "metadata": {},
   "outputs": [
    {
     "name": "stdout",
     "output_type": "stream",
     "text": [
      "27825.528797499785 {'max_features': 3, 'n_estimators': 30}\n",
      "27329.2047928036 {'max_features': 3, 'n_estimators': 60}\n",
      "27214.870310615246 {'max_features': 3, 'n_estimators': 100}\n",
      "26960.406506997788 {'max_features': 6, 'n_estimators': 30}\n",
      "26730.49429883901 {'max_features': 6, 'n_estimators': 60}\n",
      "26747.594895880065 {'max_features': 6, 'n_estimators': 100}\n"
     ]
    }
   ],
   "source": [
    "#printing the evaluation scores\n",
    "cvres=gs_rf.cv_results_\n",
    "for mean_score, params in zip(cvres['mean_test_score'], cvres['params']):\n",
    "    print((-mean_score), params)"
   ]
  },
  {
   "cell_type": "markdown",
   "id": "255420be",
   "metadata": {},
   "source": [
    "### Important scores of each columns"
   ]
  },
  {
   "cell_type": "code",
   "execution_count": 68,
   "id": "50752de3",
   "metadata": {},
   "outputs": [
    {
     "data": {
      "text/plain": [
       "[(0.5946471057026042, 'Monthly Owner Cost'),\n",
       " (0.16215525083341165, 'Per Capita Income'),\n",
       " (0.07492683244883268, 'Lng'),\n",
       " (0.07340624291636572, 'Household Income'),\n",
       " (0.0242587635596117, 'College Rate'),\n",
       " (0.01645556410205586, 'Lat'),\n",
       " (0.015948114851781724, 'Personal Transport Rate'),\n",
       " (0.01038652603235954, 'Median Age'),\n",
       " (0.009639912473044087, 'Public Transport Rate'),\n",
       " (0.009362857705536338, 'Population'),\n",
       " (0.008812829374396565, 'High School Rate')]"
      ]
     },
     "execution_count": 68,
     "metadata": {},
     "output_type": "execute_result"
    }
   ],
   "source": [
    "feature_importances=rf_b.feature_importances_\n",
    "col=X.columns\n",
    "sorted(zip(feature_importances, col), reverse=True)"
   ]
  },
  {
   "cell_type": "markdown",
   "id": "9700e02b",
   "metadata": {},
   "source": [
    "## Predicting on Test set"
   ]
  },
  {
   "cell_type": "code",
   "execution_count": 69,
   "id": "53520dfd",
   "metadata": {},
   "outputs": [],
   "source": [
    "#Testing the model in test data\n",
    "y_pred_lr=lr.predict(scaled_X_test)     #linear \n",
    "y_pred_lrl=lrl.predict(scaled_X_test)   #lasso\n",
    "y_pred_lrr=lrr.predict(scaled_X_test)   #Ridge\n",
    "y_pred_svm=svm.predict(scaled_X_test)   #svm\n",
    "y_pred_dt=dt_b.predict(scaled_X_test)   #Dicision tree\n",
    "y_pred_rf=rf_b.predict(scaled_X_test)   #Random forest"
   ]
  },
  {
   "cell_type": "markdown",
   "id": "7ff2ed55",
   "metadata": {},
   "source": [
    "### R2_score"
   ]
  },
  {
   "cell_type": "code",
   "execution_count": 70,
   "id": "f1cf4bcf",
   "metadata": {},
   "outputs": [
    {
     "name": "stdout",
     "output_type": "stream",
     "text": [
      "The r2_score of linear regression is 0.8384201779423417\n",
      "The r2_score of lasso regression is 0.8384193863936207\n",
      "The r2_score of Ridge regression is -6.152493009518381\n",
      "The r2_score of SVM regression is -0.9768562069368107\n",
      "The r2_score of decision tree regression is 0.8855919439527675\n",
      "The r2_score of random forest regression is 0.9230199241688251\n"
     ]
    }
   ],
   "source": [
    "#regression matrices-mean absolute error(give you the prediction error)\n",
    "lin_r2_lr=r2_score(y_test, y_pred_lr)\n",
    "print(f'The r2_score of linear regression is {lin_r2_lr}')\n",
    "\n",
    "lin_r2_lrl=r2_score(y_test, y_pred_lrl)\n",
    "print(f'The r2_score of lasso regression is {lin_r2_lrl}')\n",
    "\n",
    "lin_r2_lrr=r2_score(y_test, y_pred_lrr)\n",
    "print(f'The r2_score of Ridge regression is {lin_r2_lrr}')\n",
    "\n",
    "lin_r2_svm=r2_score(y_test, y_pred_svm)\n",
    "print(f'The r2_score of SVM regression is {lin_r2_svm}')\n",
    "\n",
    "lin_r2_dt=r2_score(y_test, y_pred_dt)\n",
    "print(f'The r2_score of decision tree regression is {lin_r2_dt}')\n",
    "\n",
    "lin_r2_rf=r2_score(y_test, y_pred_rf)\n",
    "print(f'The r2_score of random forest regression is {lin_r2_rf}')\n"
   ]
  },
  {
   "cell_type": "markdown",
   "id": "66f14b31",
   "metadata": {},
   "source": [
    "### Mean Absolute Error"
   ]
  },
  {
   "cell_type": "code",
   "execution_count": 71,
   "id": "d927b152",
   "metadata": {},
   "outputs": [
    {
     "name": "stdout",
     "output_type": "stream",
     "text": [
      "The mean absoulte error of linear regression is 45391.51127805712\n",
      "The mean absoulte error of lasso regression is 45384.6376905644\n",
      "The mean absoulte error of Ridge regression is 478176.96694990434\n",
      "The mean absoulte error of SVM regression is 190481.49558414207\n",
      "The mean absoulte error of decision tree regression is 35878.24792049393\n",
      "The mean absoulte error of random forest regression is 27487.464756911344\n"
     ]
    }
   ],
   "source": [
    "#regression matrices-mean absolute error(give you the prediction error)\n",
    "lin_mae_lr=mean_absolute_error(y_test, y_pred_lr)\n",
    "print(f'The mean absoulte error of linear regression is {lin_mae_lr}')\n",
    "\n",
    "lin_mae_lrl=mean_absolute_error(y_test, y_pred_lrl)\n",
    "print(f'The mean absoulte error of lasso regression is {lin_mae_lrl}')\n",
    "\n",
    "lin_mae_lrr=mean_absolute_error(y_test, y_pred_lrr)\n",
    "print(f'The mean absoulte error of Ridge regression is {lin_mae_lrr}')\n",
    "\n",
    "lin_mae_svm=mean_absolute_error(y_test, y_pred_svm)\n",
    "print(f'The mean absoulte error of SVM regression is {lin_mae_svm}')\n",
    "\n",
    "lin_mae_dt=mean_absolute_error(y_test, y_pred_dt)\n",
    "print(f'The mean absoulte error of decision tree regression is {lin_mae_dt}')\n",
    "\n",
    "lin_mae_rf=mean_absolute_error(y_test, y_pred_rf)\n",
    "print(f'The mean absoulte error of random forest regression is {lin_mae_rf}')\n"
   ]
  },
  {
   "cell_type": "markdown",
   "id": "ae047943",
   "metadata": {},
   "source": [
    "### Root Mean Squared Error"
   ]
  },
  {
   "cell_type": "code",
   "execution_count": 72,
   "id": "a5e0431c",
   "metadata": {},
   "outputs": [
    {
     "name": "stdout",
     "output_type": "stream",
     "text": [
      "The mean squared error of linear regression is 77458.94583201356\n",
      "The mean squared error of lasso regression is 77459.13556007996\n",
      "The mean squared error of ridge regression is 515355.2925244246\n",
      "The mean squared error of SVM regression is 270935.2794640674\n",
      "The mean squared error of decision tree regression is 65178.79432647475\n",
      "The mean squared error of random forest regression is 53464.70646011327\n"
     ]
    }
   ],
   "source": [
    "#regression matrices-mean squared error(give you the prediction error)\n",
    "lin_mse_lr=mean_squared_error(y_test, y_pred_lr)\n",
    "lin_rmse_lr=np.sqrt(lin_mse_lr)\n",
    "print(f'The mean squared error of linear regression is {lin_rmse_lr}')\n",
    "\n",
    "lin_mse_lrl=mean_squared_error(y_test, y_pred_lrl)\n",
    "lin_rmse_lrl=np.sqrt(lin_mse_lrl)\n",
    "print(f'The mean squared error of lasso regression is {lin_rmse_lrl}')\n",
    "\n",
    "lin_mse_lrr=mean_squared_error(y_test, y_pred_lrr)\n",
    "lin_rmse_lrr=np.sqrt(lin_mse_lrr)\n",
    "print(f'The mean squared error of ridge regression is {lin_rmse_lrr}')\n",
    "\n",
    "lin_mse_svm=mean_squared_error(y_test, y_pred_svm)\n",
    "lin_rmse_svm=np.sqrt(lin_mse_svm)\n",
    "print(f'The mean squared error of SVM regression is {lin_rmse_svm}')\n",
    "\n",
    "lin_mse_dt=mean_squared_error(y_test, y_pred_dt)\n",
    "lin_rmse_dt=np.sqrt(lin_mse_dt)\n",
    "print(f'The mean squared error of decision tree regression is {lin_rmse_dt}')\n",
    "\n",
    "lin_mse_rf=mean_squared_error(y_test, y_pred_rf)\n",
    "lin_rmse_rf=np.sqrt(lin_mse_rf)\n",
    "print(f'The mean squared error of random forest regression is {lin_rmse_rf}')"
   ]
  },
  {
   "cell_type": "markdown",
   "id": "9813f2ad",
   "metadata": {},
   "source": [
    "### Actual and predicted house rate --best model( RandomForest Regressor)"
   ]
  },
  {
   "cell_type": "code",
   "execution_count": 73,
   "id": "7eab4079",
   "metadata": {},
   "outputs": [
    {
     "data": {
      "text/html": [
       "<div>\n",
       "<style scoped>\n",
       "    .dataframe tbody tr th:only-of-type {\n",
       "        vertical-align: middle;\n",
       "    }\n",
       "\n",
       "    .dataframe tbody tr th {\n",
       "        vertical-align: top;\n",
       "    }\n",
       "\n",
       "    .dataframe thead th {\n",
       "        text-align: right;\n",
       "    }\n",
       "</style>\n",
       "<table border=\"1\" class=\"dataframe\">\n",
       "  <thead>\n",
       "    <tr style=\"text-align: right;\">\n",
       "      <th></th>\n",
       "      <th>Actual House Value</th>\n",
       "      <th>Random Forest Predicted House Value</th>\n",
       "      <th>Linear Reg Predicted House Value</th>\n",
       "      <th>Lasso Reg Predicted House Value</th>\n",
       "      <th>Ridge Reg Predicted House Value</th>\n",
       "      <th>Decesion Tree Predicted House Value</th>\n",
       "      <th>SVM Predicted House Value</th>\n",
       "    </tr>\n",
       "    <tr>\n",
       "      <th>City</th>\n",
       "      <th></th>\n",
       "      <th></th>\n",
       "      <th></th>\n",
       "      <th></th>\n",
       "      <th></th>\n",
       "      <th></th>\n",
       "      <th></th>\n",
       "    </tr>\n",
       "  </thead>\n",
       "  <tbody>\n",
       "    <tr>\n",
       "      <th>Bristol</th>\n",
       "      <td>179900.0</td>\n",
       "      <td>157566.666667</td>\n",
       "      <td>126194.356363</td>\n",
       "      <td>126273.012635</td>\n",
       "      <td>-270817.959055</td>\n",
       "      <td>141860.113813</td>\n",
       "      <td>20961.995932</td>\n",
       "    </tr>\n",
       "    <tr>\n",
       "      <th>Milford</th>\n",
       "      <td>230500.0</td>\n",
       "      <td>223806.666667</td>\n",
       "      <td>244240.716792</td>\n",
       "      <td>244259.451427</td>\n",
       "      <td>-269915.898449</td>\n",
       "      <td>231492.250233</td>\n",
       "      <td>20998.357916</td>\n",
       "    </tr>\n",
       "    <tr>\n",
       "      <th>Mukwonago</th>\n",
       "      <td>293900.0</td>\n",
       "      <td>259261.666667</td>\n",
       "      <td>291680.687706</td>\n",
       "      <td>291732.637730</td>\n",
       "      <td>-270580.198353</td>\n",
       "      <td>276803.508772</td>\n",
       "      <td>20997.074571</td>\n",
       "    </tr>\n",
       "    <tr>\n",
       "      <th>Purvis</th>\n",
       "      <td>157200.0</td>\n",
       "      <td>148638.333333</td>\n",
       "      <td>139587.330258</td>\n",
       "      <td>139619.944650</td>\n",
       "      <td>-264565.229587</td>\n",
       "      <td>141860.113813</td>\n",
       "      <td>20958.056641</td>\n",
       "    </tr>\n",
       "    <tr>\n",
       "      <th>Wilson</th>\n",
       "      <td>82100.0</td>\n",
       "      <td>75036.666667</td>\n",
       "      <td>101869.162827</td>\n",
       "      <td>101890.779238</td>\n",
       "      <td>-265280.621329</td>\n",
       "      <td>85051.523109</td>\n",
       "      <td>20976.031113</td>\n",
       "    </tr>\n",
       "    <tr>\n",
       "      <th>...</th>\n",
       "      <td>...</td>\n",
       "      <td>...</td>\n",
       "      <td>...</td>\n",
       "      <td>...</td>\n",
       "      <td>...</td>\n",
       "      <td>...</td>\n",
       "      <td>...</td>\n",
       "    </tr>\n",
       "    <tr>\n",
       "      <th>Hoodsport</th>\n",
       "      <td>174900.0</td>\n",
       "      <td>190335.000000</td>\n",
       "      <td>221043.343631</td>\n",
       "      <td>220933.860132</td>\n",
       "      <td>-261501.649115</td>\n",
       "      <td>157892.090395</td>\n",
       "      <td>20993.663810</td>\n",
       "    </tr>\n",
       "    <tr>\n",
       "      <th>Leicester</th>\n",
       "      <td>262000.0</td>\n",
       "      <td>230125.000000</td>\n",
       "      <td>223904.421604</td>\n",
       "      <td>223960.290008</td>\n",
       "      <td>-271594.716081</td>\n",
       "      <td>231492.250233</td>\n",
       "      <td>20986.535411</td>\n",
       "    </tr>\n",
       "    <tr>\n",
       "      <th>Whitewater</th>\n",
       "      <td>166400.0</td>\n",
       "      <td>136106.666667</td>\n",
       "      <td>176584.679936</td>\n",
       "      <td>176642.653945</td>\n",
       "      <td>-267992.586123</td>\n",
       "      <td>183732.282713</td>\n",
       "      <td>20930.881934</td>\n",
       "    </tr>\n",
       "    <tr>\n",
       "      <th>Taylor</th>\n",
       "      <td>164600.0</td>\n",
       "      <td>159870.000000</td>\n",
       "      <td>173167.517293</td>\n",
       "      <td>173275.784436</td>\n",
       "      <td>-266572.852322</td>\n",
       "      <td>141860.113813</td>\n",
       "      <td>20986.085031</td>\n",
       "    </tr>\n",
       "    <tr>\n",
       "      <th>Kincaid</th>\n",
       "      <td>112500.0</td>\n",
       "      <td>102075.000000</td>\n",
       "      <td>156166.128427</td>\n",
       "      <td>156141.565851</td>\n",
       "      <td>-265351.237129</td>\n",
       "      <td>121212.079379</td>\n",
       "      <td>20946.927982</td>\n",
       "    </tr>\n",
       "  </tbody>\n",
       "</table>\n",
       "<p>5245 rows × 7 columns</p>\n",
       "</div>"
      ],
      "text/plain": [
       "            Actual House Value  Random Forest Predicted House Value  \\\n",
       "City                                                                  \n",
       "Bristol               179900.0                        157566.666667   \n",
       "Milford               230500.0                        223806.666667   \n",
       "Mukwonago             293900.0                        259261.666667   \n",
       "Purvis                157200.0                        148638.333333   \n",
       "Wilson                 82100.0                         75036.666667   \n",
       "...                        ...                                  ...   \n",
       "Hoodsport             174900.0                        190335.000000   \n",
       "Leicester             262000.0                        230125.000000   \n",
       "Whitewater            166400.0                        136106.666667   \n",
       "Taylor                164600.0                        159870.000000   \n",
       "Kincaid               112500.0                        102075.000000   \n",
       "\n",
       "            Linear Reg Predicted House Value  Lasso Reg Predicted House Value  \\\n",
       "City                                                                            \n",
       "Bristol                        126194.356363                    126273.012635   \n",
       "Milford                        244240.716792                    244259.451427   \n",
       "Mukwonago                      291680.687706                    291732.637730   \n",
       "Purvis                         139587.330258                    139619.944650   \n",
       "Wilson                         101869.162827                    101890.779238   \n",
       "...                                      ...                              ...   \n",
       "Hoodsport                      221043.343631                    220933.860132   \n",
       "Leicester                      223904.421604                    223960.290008   \n",
       "Whitewater                     176584.679936                    176642.653945   \n",
       "Taylor                         173167.517293                    173275.784436   \n",
       "Kincaid                        156166.128427                    156141.565851   \n",
       "\n",
       "            Ridge Reg Predicted House Value  \\\n",
       "City                                          \n",
       "Bristol                      -270817.959055   \n",
       "Milford                      -269915.898449   \n",
       "Mukwonago                    -270580.198353   \n",
       "Purvis                       -264565.229587   \n",
       "Wilson                       -265280.621329   \n",
       "...                                     ...   \n",
       "Hoodsport                    -261501.649115   \n",
       "Leicester                    -271594.716081   \n",
       "Whitewater                   -267992.586123   \n",
       "Taylor                       -266572.852322   \n",
       "Kincaid                      -265351.237129   \n",
       "\n",
       "            Decesion Tree Predicted House Value  SVM Predicted House Value  \n",
       "City                                                                        \n",
       "Bristol                           141860.113813               20961.995932  \n",
       "Milford                           231492.250233               20998.357916  \n",
       "Mukwonago                         276803.508772               20997.074571  \n",
       "Purvis                            141860.113813               20958.056641  \n",
       "Wilson                             85051.523109               20976.031113  \n",
       "...                                         ...                        ...  \n",
       "Hoodsport                         157892.090395               20993.663810  \n",
       "Leicester                         231492.250233               20986.535411  \n",
       "Whitewater                        183732.282713               20930.881934  \n",
       "Taylor                            141860.113813               20986.085031  \n",
       "Kincaid                           121212.079379               20946.927982  \n",
       "\n",
       "[5245 rows x 7 columns]"
      ]
     },
     "execution_count": 73,
     "metadata": {},
     "output_type": "execute_result"
    }
   ],
   "source": [
    "#Actual and predicated value of house using our best model\n",
    "house_value=pd.DataFrame({'Actual House Value':y_test, \n",
    "                'Random Forest Predicted House Value':y_pred_rf,\n",
    "                'Linear Reg Predicted House Value':y_pred_lr,\n",
    "                'Lasso Reg Predicted House Value':y_pred_lrl,\n",
    "                'Ridge Reg Predicted House Value':y_pred_lrr,       \n",
    "                'Decesion Tree Predicted House Value':y_pred_dt,\n",
    "                 'SVM Predicted House Value':y_pred_svm},index=test_index)\n",
    "house_value"
   ]
  },
  {
   "cell_type": "markdown",
   "id": "70390012",
   "metadata": {},
   "source": [
    "## Evaluation metrices of differnt models"
   ]
  },
  {
   "cell_type": "code",
   "execution_count": 74,
   "id": "f3947735",
   "metadata": {},
   "outputs": [
    {
     "data": {
      "text/html": [
       "<div>\n",
       "<style scoped>\n",
       "    .dataframe tbody tr th:only-of-type {\n",
       "        vertical-align: middle;\n",
       "    }\n",
       "\n",
       "    .dataframe tbody tr th {\n",
       "        vertical-align: top;\n",
       "    }\n",
       "\n",
       "    .dataframe thead th {\n",
       "        text-align: right;\n",
       "    }\n",
       "</style>\n",
       "<table border=\"1\" class=\"dataframe\">\n",
       "  <thead>\n",
       "    <tr style=\"text-align: right;\">\n",
       "      <th></th>\n",
       "      <th>Linear Reg</th>\n",
       "      <th>Lasso Reg</th>\n",
       "      <th>Ridge Reg</th>\n",
       "      <th>SVM Reg</th>\n",
       "      <th>Decision Tree</th>\n",
       "      <th>Random Forest</th>\n",
       "    </tr>\n",
       "  </thead>\n",
       "  <tbody>\n",
       "    <tr>\n",
       "      <th>R2</th>\n",
       "      <td>0.838420</td>\n",
       "      <td>0.838419</td>\n",
       "      <td>-6.152493</td>\n",
       "      <td>-0.976856</td>\n",
       "      <td>0.885592</td>\n",
       "      <td>0.923020</td>\n",
       "    </tr>\n",
       "    <tr>\n",
       "      <th>Mean Absolute Error</th>\n",
       "      <td>45391.511278</td>\n",
       "      <td>45384.637691</td>\n",
       "      <td>478176.966950</td>\n",
       "      <td>190481.495584</td>\n",
       "      <td>35878.247920</td>\n",
       "      <td>27487.464757</td>\n",
       "    </tr>\n",
       "    <tr>\n",
       "      <th>Root Mean Squared Error</th>\n",
       "      <td>77458.945832</td>\n",
       "      <td>77459.135560</td>\n",
       "      <td>515355.292524</td>\n",
       "      <td>270935.279464</td>\n",
       "      <td>65178.794326</td>\n",
       "      <td>53464.706460</td>\n",
       "    </tr>\n",
       "  </tbody>\n",
       "</table>\n",
       "</div>"
      ],
      "text/plain": [
       "                           Linear Reg     Lasso Reg      Ridge Reg  \\\n",
       "R2                           0.838420      0.838419      -6.152493   \n",
       "Mean Absolute Error      45391.511278  45384.637691  478176.966950   \n",
       "Root Mean Squared Error  77458.945832  77459.135560  515355.292524   \n",
       "\n",
       "                               SVM Reg  Decision Tree  Random Forest  \n",
       "R2                           -0.976856       0.885592       0.923020  \n",
       "Mean Absolute Error      190481.495584   35878.247920   27487.464757  \n",
       "Root Mean Squared Error  270935.279464   65178.794326   53464.706460  "
      ]
     },
     "execution_count": 74,
     "metadata": {},
     "output_type": "execute_result"
    }
   ],
   "source": [
    "#making dataframe on evaluation metrices\n",
    "evaluation_df=pd.DataFrame({'Linear Reg':[lin_r2_lr,lin_mae_lr,lin_rmse_lr],\n",
    "                           'Lasso Reg':[lin_r2_lrl,lin_mae_lrl,lin_rmse_lrl],\n",
    "                            'Ridge Reg':[lin_r2_lrr,lin_mae_lrr,lin_rmse_lrr],\n",
    "                            'SVM Reg':[lin_r2_svm,lin_mae_svm,lin_rmse_svm],\n",
    "                           'Decision Tree':[lin_r2_dt,lin_mae_dt,lin_rmse_dt],\n",
    "                            'Random Forest':[lin_r2_rf,lin_mae_rf,lin_rmse_rf]}\n",
    "                           ,index=['R2','Mean Absolute Error',\n",
    "                                    'Root Mean Squared Error'])\n",
    "evaluation_df"
   ]
  },
  {
   "cell_type": "markdown",
   "id": "c8bfa8b4",
   "metadata": {},
   "source": [
    "## Saving the best model"
   ]
  },
  {
   "cell_type": "code",
   "execution_count": 91,
   "id": "b164c644",
   "metadata": {},
   "outputs": [
    {
     "ename": "AttributeError",
     "evalue": "module 'joblib' has no attribute 'dumps'",
     "output_type": "error",
     "traceback": [
      "\u001b[0;31m---------------------------------------------------------------------------\u001b[0m",
      "\u001b[0;31mAttributeError\u001b[0m                            Traceback (most recent call last)",
      "\u001b[0;32m/var/folders/ld/_spx9cwj74z4zm921xp1zssh0000gn/T/ipykernel_40205/4244614009.py\u001b[0m in \u001b[0;36m<module>\u001b[0;34m\u001b[0m\n\u001b[1;32m      1\u001b[0m \u001b[0;32mimport\u001b[0m \u001b[0mjoblib\u001b[0m\u001b[0;34m\u001b[0m\u001b[0;34m\u001b[0m\u001b[0m\n\u001b[0;32m----> 2\u001b[0;31m \u001b[0mjoblib\u001b[0m\u001b[0;34m.\u001b[0m\u001b[0mdumps\u001b[0m\u001b[0;34m(\u001b[0m\u001b[0mrf_b\u001b[0m\u001b[0;34m,\u001b[0m \u001b[0;34m'model.pkl'\u001b[0m\u001b[0;34m)\u001b[0m\u001b[0;34m\u001b[0m\u001b[0;34m\u001b[0m\u001b[0m\n\u001b[0m",
      "\u001b[0;31mAttributeError\u001b[0m: module 'joblib' has no attribute 'dumps'"
     ]
    }
   ],
   "source": [
    "import joblib\n",
    "joblib.dumps(rf_b, 'model.pkl')"
   ]
  },
  {
   "cell_type": "markdown",
   "id": "01731a8d",
   "metadata": {},
   "source": [
    "## 95% confidence interval for the test MAE:"
   ]
  },
  {
   "cell_type": "code",
   "execution_count": 75,
   "id": "95315c12",
   "metadata": {},
   "outputs": [
    {
     "data": {
      "text/plain": [
       "(34405.12783455223, 37351.36800643563)"
      ]
     },
     "execution_count": 75,
     "metadata": {},
     "output_type": "execute_result"
    }
   ],
   "source": [
    "#95% confident level\n",
    "confidence = 0.95\n",
    "errors = np.abs((y_pred_dt - y_test)) \n",
    "stats.t.interval(confidence, len(errors) - 1,\n",
    "                         loc=errors.mean(),\n",
    "                         scale=stats.sem(errors))"
   ]
  },
  {
   "cell_type": "markdown",
   "id": "b65f852f",
   "metadata": {},
   "source": [
    "# Predecting the house value of 2017 census data from our best model- Random Forest"
   ]
  },
  {
   "cell_type": "code",
   "execution_count": 76,
   "id": "05999806",
   "metadata": {},
   "outputs": [],
   "source": [
    "# 2017 usa cleaned data for machine learning\n",
    "path_2017=os.path.join('output_census', 'usa_2017_ml.csv')\n",
    "usa_17=pd.read_csv(path_2017)"
   ]
  },
  {
   "cell_type": "code",
   "execution_count": 77,
   "id": "8d59ef96",
   "metadata": {},
   "outputs": [],
   "source": [
    "#choosing only important columns\n",
    "usa_2017=usa_17[[ 'City','House Value','Monthly Owner Cost','Per Capita Income','Lng',\n",
    " 'Household Income','College Rate','Lat',\n",
    "  'Personal Transport Rate','High School Rate','Median Age',\n",
    " 'Public Transport Rate','Population']]"
   ]
  },
  {
   "cell_type": "code",
   "execution_count": 78,
   "id": "44123c1f",
   "metadata": {},
   "outputs": [],
   "source": [
    "#seting city as a index\n",
    "usa_2017.set_index('City', inplace=True)"
   ]
  },
  {
   "cell_type": "markdown",
   "id": "8082ce02",
   "metadata": {},
   "source": [
    "#### Prepare a feature matrix (X) and response (y)  for scikit-learn."
   ]
  },
  {
   "cell_type": "code",
   "execution_count": 79,
   "id": "f14450a3",
   "metadata": {},
   "outputs": [],
   "source": [
    "# create feature matrix (X)\n",
    "#selecting all columns except 'House Value'\n",
    "X_2017=usa_2017.drop('House Value', axis=1) \n",
    "\n",
    "# create response vector (y)\n",
    "##selecting 'House Value'\n",
    "y_2017=usa_2017['House Value'].values  "
   ]
  },
  {
   "cell_type": "markdown",
   "id": "7d85a63a",
   "metadata": {},
   "source": [
    "#### Scaling using standard scaler on feature matrix (X) "
   ]
  },
  {
   "cell_type": "code",
   "execution_count": 80,
   "id": "b8238536",
   "metadata": {},
   "outputs": [],
   "source": [
    "#Different columns have differnt scale so standrazied it \n",
    "#features scaling using standard scaler on x only\n",
    "from sklearn.preprocessing import StandardScaler\n",
    "std_scaler=StandardScaler()\n",
    "scaled_X_2017=std_scaler.fit_transform(X_2017)"
   ]
  },
  {
   "cell_type": "code",
   "execution_count": 81,
   "id": "d78a8e0d",
   "metadata": {},
   "outputs": [
    {
     "name": "stdout",
     "output_type": "stream",
     "text": [
      "(26457, 11)\n",
      "(26457,)\n"
     ]
    }
   ],
   "source": [
    "#shape of the X and y\n",
    "print(scaled_X_2017.shape)\n",
    "print(y_2017.shape)"
   ]
  },
  {
   "cell_type": "markdown",
   "id": "f7f5ece8",
   "metadata": {},
   "source": [
    "#### Predcting the house value using our best model Random Forest Regressor"
   ]
  },
  {
   "cell_type": "code",
   "execution_count": 82,
   "id": "74b5a6c7",
   "metadata": {},
   "outputs": [],
   "source": [
    "#predecting house value using random forest model\n",
    "y_pred=rf_b.predict(scaled_X_2017) "
   ]
  },
  {
   "cell_type": "code",
   "execution_count": 83,
   "id": "615a1350",
   "metadata": {},
   "outputs": [
    {
     "name": "stdout",
     "output_type": "stream",
     "text": [
      "The mean absoulte error of our best model for 2017 census data is 27693.274673999316\n",
      "The mean squared error of our best model for 2017 census data is 46720.184383215535\n"
     ]
    }
   ],
   "source": [
    "#regression matrices-mean absolute error(give you the prediction error)\n",
    "mae=mean_absolute_error(y_2017, y_pred)\n",
    "print(f'The mean absoulte error of our best model for 2017 census data is {mae}')\n",
    "\n",
    "#regression matrices-mean squared error(give you the prediction error)\n",
    "mse=mean_squared_error(y_2017, y_pred)\n",
    "rmse=np.sqrt(mse)\n",
    "print(f'The mean squared error of our best model for 2017 census data is {rmse}')"
   ]
  },
  {
   "cell_type": "code",
   "execution_count": 84,
   "id": "e1df00bc",
   "metadata": {},
   "outputs": [
    {
     "data": {
      "text/html": [
       "<div>\n",
       "<style scoped>\n",
       "    .dataframe tbody tr th:only-of-type {\n",
       "        vertical-align: middle;\n",
       "    }\n",
       "\n",
       "    .dataframe tbody tr th {\n",
       "        vertical-align: top;\n",
       "    }\n",
       "\n",
       "    .dataframe thead th {\n",
       "        text-align: right;\n",
       "    }\n",
       "</style>\n",
       "<table border=\"1\" class=\"dataframe\">\n",
       "  <thead>\n",
       "    <tr style=\"text-align: right;\">\n",
       "      <th></th>\n",
       "      <th>Actual House Value</th>\n",
       "      <th>Random Forest Predicted House Value</th>\n",
       "    </tr>\n",
       "    <tr>\n",
       "      <th>City</th>\n",
       "      <th></th>\n",
       "      <th></th>\n",
       "    </tr>\n",
       "  </thead>\n",
       "  <tbody>\n",
       "    <tr>\n",
       "      <th>Aguada</th>\n",
       "      <td>87300.0</td>\n",
       "      <td>94925.000000</td>\n",
       "    </tr>\n",
       "    <tr>\n",
       "      <th>Aguadilla</th>\n",
       "      <td>122300.0</td>\n",
       "      <td>112713.333333</td>\n",
       "    </tr>\n",
       "    <tr>\n",
       "      <th>Maricao</th>\n",
       "      <td>92700.0</td>\n",
       "      <td>83725.000000</td>\n",
       "    </tr>\n",
       "    <tr>\n",
       "      <th>Anasco</th>\n",
       "      <td>90300.0</td>\n",
       "      <td>95053.333333</td>\n",
       "    </tr>\n",
       "    <tr>\n",
       "      <th>Arecibo</th>\n",
       "      <td>97300.0</td>\n",
       "      <td>103276.666667</td>\n",
       "    </tr>\n",
       "    <tr>\n",
       "      <th>...</th>\n",
       "      <td>...</td>\n",
       "      <td>...</td>\n",
       "    </tr>\n",
       "    <tr>\n",
       "      <th>Craig</th>\n",
       "      <td>225700.0</td>\n",
       "      <td>236245.000000</td>\n",
       "    </tr>\n",
       "    <tr>\n",
       "      <th>Hydaburg</th>\n",
       "      <td>90700.0</td>\n",
       "      <td>92148.333333</td>\n",
       "    </tr>\n",
       "    <tr>\n",
       "      <th>Klawock</th>\n",
       "      <td>160900.0</td>\n",
       "      <td>187481.666667</td>\n",
       "    </tr>\n",
       "    <tr>\n",
       "      <th>Metlakatla</th>\n",
       "      <td>122600.0</td>\n",
       "      <td>199380.000000</td>\n",
       "    </tr>\n",
       "    <tr>\n",
       "      <th>Wrangell</th>\n",
       "      <td>195900.0</td>\n",
       "      <td>218323.333333</td>\n",
       "    </tr>\n",
       "  </tbody>\n",
       "</table>\n",
       "<p>26457 rows × 2 columns</p>\n",
       "</div>"
      ],
      "text/plain": [
       "            Actual House Value  Random Forest Predicted House Value\n",
       "City                                                               \n",
       "Aguada                 87300.0                         94925.000000\n",
       "Aguadilla             122300.0                        112713.333333\n",
       "Maricao                92700.0                         83725.000000\n",
       "Anasco                 90300.0                         95053.333333\n",
       "Arecibo                97300.0                        103276.666667\n",
       "...                        ...                                  ...\n",
       "Craig                 225700.0                        236245.000000\n",
       "Hydaburg               90700.0                         92148.333333\n",
       "Klawock               160900.0                        187481.666667\n",
       "Metlakatla            122600.0                        199380.000000\n",
       "Wrangell              195900.0                        218323.333333\n",
       "\n",
       "[26457 rows x 2 columns]"
      ]
     },
     "execution_count": 84,
     "metadata": {},
     "output_type": "execute_result"
    }
   ],
   "source": [
    "#Actual and predicated value of house using our best model\n",
    "house_value_2017=pd.DataFrame({'Actual House Value':y_2017, \n",
    "                'Random Forest Predicted House Value':y_pred},index=usa_2017.index)\n",
    "house_value_2017"
   ]
  },
  {
   "cell_type": "markdown",
   "id": "fac7f769",
   "metadata": {},
   "source": [
    "## Plotting predected and actual house value"
   ]
  },
  {
   "cell_type": "code",
   "execution_count": 85,
   "id": "a4cfdc65",
   "metadata": {},
   "outputs": [],
   "source": [
    "#setting background of figure \n",
    "plt.style.use('ggplot')"
   ]
  },
  {
   "cell_type": "code",
   "execution_count": 86,
   "id": "21b992b3",
   "metadata": {},
   "outputs": [],
   "source": [
    "#Set Fonts/Plot Style\n",
    "rcParams['figure.figsize'] = [15.0, 10.0]\n",
    "rcParams['figure.dpi'] = 80\n",
    "rcParams['savefig.dpi'] = 100\n",
    "rcParams['font.size'] = 20\n",
    "rcParams['legend.fontsize'] = 'large'\n",
    "rcParams['figure.titlesize'] = 'medium'\n",
    "rcParams['font.family'] = 'sans-serif'\n",
    "rcParams['font.sans-serif'] = ['Arial']\n",
    "rcParams['xtick.direction'] = 'in'\n",
    "rcParams['ytick.direction'] = 'in'\n",
    "rcParams['xtick.top'] = True\n",
    "rcParams['ytick.right'] = True\n",
    "rcParams['xtick.major.size'] = 10\n",
    "rcParams['ytick.major.size'] = 10\n",
    "rcParams['xtick.minor.size'] = 5\n",
    "rcParams['ytick.minor.size'] = 5\n",
    "rcParams['xtick.minor.visible'] = True\n",
    "rcParams['ytick.minor.visible'] = True"
   ]
  },
  {
   "cell_type": "code",
   "execution_count": 87,
   "id": "507d268a",
   "metadata": {},
   "outputs": [
    {
     "data": {
      "image/png": "[encoded data removed]",
      "text/plain": [
       "<Figure size 1200x800 with 1 Axes>"
      ]
     },
     "metadata": {},
     "output_type": "display_data"
    }
   ],
   "source": [
    "#plotting histrogram\n",
    "fig,ax=plt.subplots()\n",
    "sns.histplot(data=house_value_2017,fill=True,\n",
    "             kde=True,alpha=0.8,ax=ax)\n",
    "fig.savefig('figures/modelhist.png')\n",
    "plt.show()"
   ]
  },
  {
   "cell_type": "code",
   "execution_count": 88,
   "id": "73e579e7",
   "metadata": {},
   "outputs": [
    {
     "data": {
      "image/png": "[encoded data removed]",
      "text/plain": [
       "<Figure size 1200x800 with 1 Axes>"
      ]
     },
     "metadata": {},
     "output_type": "display_data"
    }
   ],
   "source": [
    "#plotting distplot using seaborn\n",
    "warnings.filterwarnings(\"ignore\")\n",
    "fig, ax=plt.subplots()\n",
    "sns.distplot(house_value_2017['Actual House Value'],\n",
    "             bins=30,kde_kws={\"color\": \"r\", \"lw\": 3, \"label\": '2017 Actual Value'}\n",
    "             ,rug=False, kde=True,fit=stats.norm, ax=ax)\n",
    "sns.distplot(house_value_2017['Random Forest Predicted House Value'], \n",
    "             bins=30,kde_kws={\"color\": \"b\", \"lw\": 3, \"label\": '2017 Predicted Value'},\n",
    "             fit=stats.norm, ax=ax)\n",
    "ax.legend()\n",
    "ax.set_xlabel('House Value')\n",
    "fig.savefig('figures/modelUSA.png')\n",
    "plt.show()"
   ]
  },
  {
   "cell_type": "code",
   "execution_count": 89,
   "id": "a33ac028",
   "metadata": {},
   "outputs": [
    {
     "data": {
      "image/png": "[encoded data removed]",
      "text/plain": [
       "<Figure size 1200x4000 with 1 Axes>"
      ]
     },
     "metadata": {},
     "output_type": "display_data"
    }
   ],
   "source": [
    "#grouing it by city and plotting bar plot\n",
    "house=house_value_2017.reset_index()\n",
    "house=house.groupby('City').mean()\n",
    "\n",
    "#choosing only random 50 sample\n",
    "house_sample=house.sample(n=25)\n",
    "house_sample.plot(kind=\"barh\",width=.9,figsize=(15,50))\n",
    "plt.xlabel('House Value')\n",
    "plt.title(\"Actual and Predicted house value using our best model\")\n",
    "plt.show()"
   ]
  },
  {
   "cell_type": "code",
   "execution_count": 90,
   "id": "1d8e3926",
   "metadata": {},
   "outputs": [
    {
     "data": {
      "image/png": "[encoded data removed]",
      "text/plain": [
       "<Figure size 1200x1200 with 1 Axes>"
      ]
     },
     "metadata": {},
     "output_type": "display_data"
    }
   ],
   "source": [
    "#predecting the 2017 best city house value\n",
    "house_best=house.loc[['Roseville', 'Sunnyvale', 'Fremont', 'San Mateo', 'Lancaster'],:]\n",
    "house_best.plot(kind=\"bar\",width=.9,figsize=(15,15))\n",
    "plt.ylabel('House Value')\n",
    "plt.title(\"Actual and Predicted house value of 2017 best city using our best model\")\n",
    "plt.savefig('figures/modelbestcity.png')\n",
    "plt.show()"
   ]
  },
  {
   "cell_type": "markdown",
   "id": "807b708f",
   "metadata": {},
   "source": [
    "## Conclusions"
   ]
  },
  {
   "cell_type": "markdown",
   "id": "919bd330",
   "metadata": {},
   "source": [
    "Our model suscefully predict the housing value of unseen data from 2017 Census with an prediction error of around $27,000"
   ]
  }
 ],
 "metadata": {
  "kernelspec": {
   "display_name": "Python 3 (ipykernel)",
   "language": "python",
   "name": "python3"
  },
  "language_info": {
   "codemirror_mode": {
    "name": "ipython",
    "version": 3
   },
   "file_extension": ".py",
   "mimetype": "text/x-python",
   "name": "python",
   "nbconvert_exporter": "python",
   "pygments_lexer": "ipython3",
   "version": "3.8.10"
  }
 },
 "nbformat": 4,
 "nbformat_minor": 5
}
