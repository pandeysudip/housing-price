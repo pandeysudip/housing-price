{
 "cells": [
  {
   "cell_type": "markdown",
   "id": "9acc13f8",
   "metadata": {},
   "source": [
    "## Model Building and Predicting House Price of Unseen Data"
   ]
  },
  {
   "cell_type": "markdown",
   "id": "18cc1314",
   "metadata": {},
   "source": [
    "#### Things to do\n",
    "- Choose relevent columns\n",
    "- Get dummy data if any categoral columns\n",
    "- Scale the columns using Standard Scaler\n",
    "- Do train test split\n",
    "- Multiple linear regression\n",
    "- Lasso regression\n",
    "- Decision Tree Regressor\n",
    "- Random forest Regressor\n",
    "- Tune hyperparameters  using Grid Search CV\n",
    "- Predict on test set\n",
    "- Predict on unseen data from different year"
   ]
  },
  {
   "cell_type": "code",
   "execution_count": 1,
   "id": "8e4c6d80",
   "metadata": {},
   "outputs": [],
   "source": [
    "#importing models\n",
    "import pandas as pd\n",
    "import numpy as np\n",
    "import os\n",
    "import matplotlib.pyplot as plt\n",
    "import statsmodels.api as sm\n",
    "import seaborn as sns\n",
    "from scipy import stats\n",
    "import warnings\n",
    "from matplotlib import rcParams\n",
    "#importing sklearn models\n",
    "from sklearn.model_selection import train_test_split\n",
    "from sklearn.linear_model import LinearRegression\n",
    "from sklearn.model_selection import cross_val_score\n",
    "from sklearn.linear_model import Lasso\n",
    "from sklearn.linear_model import Ridge\n",
    "from sklearn.svm import LinearSVR\n",
    "from sklearn.svm import SVR\n",
    "from sklearn.ensemble import RandomForestRegressor\n",
    "from sklearn.tree import DecisionTreeRegressor\n",
    "from sklearn.model_selection import GridSearchCV\n",
    "from sklearn.model_selection import RandomizedSearchCV\n",
    "from sklearn.metrics import mean_absolute_error, r2_score\n",
    "from sklearn.metrics import mean_squared_error"
   ]
  },
  {
   "cell_type": "markdown",
   "id": "e95846c0",
   "metadata": {},
   "source": [
    "## Building model on 2019 US Census data"
   ]
  },
  {
   "cell_type": "code",
   "execution_count": 2,
   "id": "53eeef25",
   "metadata": {},
   "outputs": [],
   "source": [
    "# 2019 usa cleaned data for machine learning\n",
    "path=os.path.join('output_census', 'usa_2019_ml1.csv')\n",
    "usa_2019=pd.read_csv(path)"
   ]
  },
  {
   "cell_type": "code",
   "execution_count": 3,
   "id": "b50b909a",
   "metadata": {},
   "outputs": [],
   "source": [
    "#selecting important columns\n",
    "usa_2019=usa_2019[[ 'City','House Value','Monthly Owner Cost','Per Capita Income',\n",
    "                   'Lng','Household Income','College Rate','Lat',\n",
    "                    'Personal Transport Rate','High School Rate','Median Age',\n",
    "                    'Public Transport Rate','Population']]"
   ]
  },
  {
   "cell_type": "code",
   "execution_count": 4,
   "id": "fdf766c6",
   "metadata": {},
   "outputs": [],
   "source": [
    "#seting city as a index\n",
    "usa_2019.set_index('City', inplace=True)"
   ]
  },
  {
   "cell_type": "code",
   "execution_count": 5,
   "id": "cc65bd48",
   "metadata": {},
   "outputs": [
    {
     "name": "stdout",
     "output_type": "stream",
     "text": [
      "Index(['Aguada', 'Aguadilla', 'Maricao', 'Anasco', 'Arecibo', 'Bajadero',\n",
      "       'Barceloneta', 'Boqueron', 'Cabo Rojo', 'Camuy',\n",
      "       ...\n",
      "       'Kake', 'Petersburg', 'Sitka', 'Skagway', 'Ketchikan', 'Thorne Bay',\n",
      "       'Craig', 'Klawock', 'Metlakatla', 'Wrangell'],\n",
      "      dtype='object', name='City', length=26222)\n",
      "Index(['House Value', 'Monthly Owner Cost', 'Per Capita Income', 'Lng',\n",
      "       'Household Income', 'College Rate', 'Lat', 'Personal Transport Rate',\n",
      "       'High School Rate', 'Median Age', 'Public Transport Rate',\n",
      "       'Population'],\n",
      "      dtype='object')\n"
     ]
    }
   ],
   "source": [
    "#index andcolumns of our data sets\n",
    "index=usa_2019.index\n",
    "columns=usa_2019.columns\n",
    "print(index)\n",
    "print(columns)"
   ]
  },
  {
   "cell_type": "markdown",
   "id": "dd9856f5",
   "metadata": {},
   "source": [
    "#### Prepare a feature matrix (X) and response (y)  for scikit-learn."
   ]
  },
  {
   "cell_type": "code",
   "execution_count": 6,
   "id": "34f58c5a",
   "metadata": {},
   "outputs": [],
   "source": [
    "# create feature matrix (X)\n",
    "#selecting all columns except 'House Value'\n",
    "X=usa_2019.drop('House Value', axis=1) \n",
    "\n",
    "# create response vector (y)\n",
    "##selecting 'House Value'\n",
    "y=usa_2019['House Value'].values  "
   ]
  },
  {
   "cell_type": "markdown",
   "id": "7b0406f9",
   "metadata": {},
   "source": [
    "#### Splitting data in train and test set"
   ]
  },
  {
   "cell_type": "code",
   "execution_count": 7,
   "id": "460cc714",
   "metadata": {},
   "outputs": [],
   "source": [
    "#Training set**: Used to train the classifier.\n",
    "#Testing set**: Used to estimate the error rate of the trained classifier.\n",
    "#Also using train_index and test_index to get train and test data index \n",
    "X_train, X_test, y_train, y_test,train_index, test_index = train_test_split(\n",
    "                               X, y,index, test_size=0.2, random_state=42)"
   ]
  },
  {
   "cell_type": "code",
   "execution_count": 8,
   "id": "ca8529e8",
   "metadata": {},
   "outputs": [
    {
     "name": "stdout",
     "output_type": "stream",
     "text": [
      "Shape of X_train=(20977, 11)\n",
      "Shape of X_test=(5245, 11)\n",
      "Shape of y_train=(20977,)\n",
      "Shape of X_test=(5245,)\n"
     ]
    }
   ],
   "source": [
    "print(f'Shape of X_train={X_train.shape}')\n",
    "print(f'Shape of X_test={X_test.shape}')\n",
    "print(f'Shape of y_train={y_train.shape}')\n",
    "print(f'Shape of X_test={y_test.shape}')"
   ]
  },
  {
   "cell_type": "markdown",
   "id": "2e42d260",
   "metadata": {},
   "source": [
    "#### Scaling using standard scaler on feature matrix (X) "
   ]
  },
  {
   "cell_type": "code",
   "execution_count": 9,
   "id": "70678268",
   "metadata": {},
   "outputs": [],
   "source": [
    "#Different columns have differnt scale so standrazied it \n",
    "#features scaling using standard scaler on x only\n",
    "from sklearn.preprocessing import StandardScaler\n",
    "std_scaler=StandardScaler()\n",
    "scaled_X_train=std_scaler.fit_transform(X_train)\n",
    "scaled_X_test=std_scaler.transform(X_test)"
   ]
  },
  {
   "cell_type": "code",
   "execution_count": 10,
   "id": "6f2ad3a2",
   "metadata": {},
   "outputs": [
    {
     "name": "stdout",
     "output_type": "stream",
     "text": [
      "(20977, 11)\n",
      "(26222,)\n"
     ]
    }
   ],
   "source": [
    "#shape of the X and y\n",
    "print(scaled_X_train.shape)\n",
    "print(y.shape)"
   ]
  },
  {
   "cell_type": "markdown",
   "id": "95b174df",
   "metadata": {},
   "source": [
    "### Evaluation Metric"
   ]
  },
  {
   "cell_type": "markdown",
   "id": "7be21bfe",
   "metadata": {},
   "source": [
    "To evaluate a model, we also need an **evaluation metric:**\n",
    "\n",
    "- A numeric calculation used to **quantify** the performance of a model.\n",
    "- The appropriate metric depends on the **goals** of your problem.\n",
    "\n",
    "The most common choices for regression problems are:\n",
    "\n",
    "- **R-squared**: The percentage of variation explained by the model (a \"reward function,\" as higher is better).\n",
    "- **Mean squared error**: The average squared distance between the prediction and the correct answer (a \"loss function,\" as lower is better).\n",
    "- **Mean absolute error**: The average absolute distance between the prediction and the correct answer (a \"loss function,\" as lower is better).\n",
    "\n",
    "In this case, we'll use mean squared error, R2, and mean absolute error because it is more interpretable in a predictive context."
   ]
  },
  {
   "cell_type": "markdown",
   "id": "a9241127",
   "metadata": {},
   "source": [
    "## Linear Regression"
   ]
  },
  {
   "cell_type": "code",
   "execution_count": 11,
   "id": "e0e71b43",
   "metadata": {},
   "outputs": [
    {
     "data": {
      "text/plain": [
       "LinearRegression()"
      ]
     },
     "execution_count": 11,
     "metadata": {},
     "output_type": "execute_result"
    }
   ],
   "source": [
    "#using linear regression\n",
    "# Make a linear regression instance\n",
    "lr=LinearRegression()\n",
    "# Training the model on the data, storing the information learned from the data\n",
    "# Model is learning the relationship between X and y \n",
    "lr.fit(scaled_X_train, y_train)\n"
   ]
  },
  {
   "cell_type": "code",
   "execution_count": 12,
   "id": "84583051",
   "metadata": {},
   "outputs": [
    {
     "name": "stdout",
     "output_type": "stream",
     "text": [
      "R2 Score of training set 0.8348136946474434\n",
      "R2 Score of testing  set  0.8384201779423417\n"
     ]
    }
   ],
   "source": [
    "#Printing the R2 score of test and train set\n",
    "print(f'R2 Score of training set {lr.score(scaled_X_train, y_train)}')\n",
    "print(f'R2 Score of testing  set  {lr.score(scaled_X_test, y_test)}')"
   ]
  },
  {
   "cell_type": "markdown",
   "id": "4db70602",
   "metadata": {},
   "source": [
    "#### Create a cross-valiation with five folds.\n",
    "-  Cross valiation allows the training set into distinct subsets called folds.\n",
    "- A model is trained using k-1 of the folds as training data"
   ]
  },
  {
   "cell_type": "code",
   "execution_count": 13,
   "id": "0b4241e7",
   "metadata": {},
   "outputs": [
    {
     "data": {
      "text/plain": [
       "array([-44911.89270734, -44921.806391  , -45232.50037804, -45601.30936043,\n",
       "       -45022.84434751])"
      ]
     },
     "execution_count": 13,
     "metadata": {},
     "output_type": "execute_result"
    }
   ],
   "source": [
    "#score of training set using cross_val_score\n",
    "cross_val_score(lr, scaled_X_train, y_train, scoring='neg_mean_absolute_error', cv=5)"
   ]
  },
  {
   "cell_type": "code",
   "execution_count": 14,
   "id": "3f1658ed",
   "metadata": {},
   "outputs": [
    {
     "name": "stdout",
     "output_type": "stream",
     "text": [
      "The R2 of Linear Regression is 0.8344038087752625\n",
      "The mean squared error of Linear Regression is 76566.01500729908\n",
      "The mean absolute error of Linear Regression is 45138.07063686245\n"
     ]
    }
   ],
   "source": [
    "#score of training set using cross_val_score\n",
    "lr_r2=np.mean(cross_val_score(lr, scaled_X_train, y_train, cv=5))\n",
    "print(f'The R2 of Linear Regression is {lr_r2}')\n",
    "\n",
    "#cross validation features gives greater is better, so score function is opposite of \n",
    "#MSE so we need to use -ve to get mse\n",
    "lr_mse=np.mean(cross_val_score(lr, scaled_X_train, y_train, cv=5, scoring='neg_mean_squared_error'))\n",
    "lr_rmse=np.sqrt(-(lr_mse))\n",
    "print(f'The mean squared error of Linear Regression is {lr_rmse}')\n",
    "\n",
    "#mean absolute error\n",
    "lr_mae=np.mean(cross_val_score(lr, scaled_X_train, y_train, cv=5, scoring='neg_mean_absolute_error'))\n",
    "lr_mae=(-(lr_mae))\n",
    "print(f'The mean absolute error of Linear Regression is {lr_mae}')"
   ]
  },
  {
   "cell_type": "markdown",
   "id": "4d8dbb29",
   "metadata": {},
   "source": [
    "## Ridge Regression"
   ]
  },
  {
   "cell_type": "code",
   "execution_count": 15,
   "id": "0726b26e",
   "metadata": {},
   "outputs": [
    {
     "data": {
      "text/plain": [
       "Ridge()"
      ]
     },
     "execution_count": 15,
     "metadata": {},
     "output_type": "execute_result"
    }
   ],
   "source": [
    "#using ridge regression(ridge make some features going to near zero)\n",
    "#alpha=0 no regularization( all features are used)\n",
    "# Make a ridge regression instance\n",
    "lr_r=Ridge()\n",
    "lr_r.fit(scaled_X_train, y_train)\n"
   ]
  },
  {
   "cell_type": "code",
   "execution_count": 16,
   "id": "a8b3af40",
   "metadata": {},
   "outputs": [
    {
     "name": "stdout",
     "output_type": "stream",
     "text": [
      "R2 Score of training set 0.8348136889038721\n",
      "R2 Score of testing set  0.8384208604613155\n"
     ]
    }
   ],
   "source": [
    "#Printing the R2 score of test and train set\n",
    "print(f'R2 Score of training set {lr_r.score(scaled_X_train, y_train)}')\n",
    "print(f'R2 Score of testing set  {lr_r.score(scaled_X_test, y_test)}')"
   ]
  },
  {
   "cell_type": "markdown",
   "id": "c3d69de6",
   "metadata": {},
   "source": [
    "#### Create a cross-valiation with five folds."
   ]
  },
  {
   "cell_type": "code",
   "execution_count": 17,
   "id": "a88f0739",
   "metadata": {},
   "outputs": [
    {
     "data": {
      "text/plain": [
       "array([-44685.22035577, -45133.75753392, -45614.9985192 ])"
      ]
     },
     "execution_count": 17,
     "metadata": {},
     "output_type": "execute_result"
    }
   ],
   "source": [
    "#score of training set using cross_val_score\n",
    "cross_val_score(lr_r, scaled_X_train, y_train, scoring='neg_mean_absolute_error', cv=3)"
   ]
  },
  {
   "cell_type": "code",
   "execution_count": 18,
   "id": "db18ed0f",
   "metadata": {},
   "outputs": [
    {
     "name": "stdout",
     "output_type": "stream",
     "text": [
      "The R2 of Ridge Regression is 0.83440401131164\n",
      "The mean squared error of Ridge Regression is 76565.98637132603\n",
      "The mean absolute error of Ridge Regression is 45136.39711576419\n"
     ]
    }
   ],
   "source": [
    "#score of training set using cross_val_score\n",
    "lr_r_r2=np.mean(cross_val_score(lr_r, scaled_X_train, y_train, cv=5))\n",
    "print(f'The R2 of Ridge Regression is {lr_r_r2}')\n",
    "\n",
    "#cross validation features gives greater is better, so score function is opposite of \n",
    "#MSE so we need to use -ve to get mse\n",
    "lr_r_mse=np.mean(cross_val_score(lr_r, scaled_X_train, y_train, cv=5, scoring='neg_mean_squared_error'))\n",
    "lr_r_rmse=np.sqrt(-(lr_r_mse))\n",
    "print(f'The mean squared error of Ridge Regression is {lr_r_rmse}')\n",
    "\n",
    "#mean absolute error\n",
    "lr_r_mae=np.mean(cross_val_score(lr_r, scaled_X_train, y_train, cv=5, scoring='neg_mean_absolute_error'))\n",
    "lr_r_mae=(-(lr_r_mae))\n",
    "print(f'The mean absolute error of Ridge Regression is {lr_r_mae}')"
   ]
  },
  {
   "cell_type": "code",
   "execution_count": 19,
   "id": "1d6cdef3",
   "metadata": {},
   "outputs": [
    {
     "data": {
      "image/png": "[encoded data removed]",
      "text/plain": [
       "<Figure size 432x288 with 1 Axes>"
      ]
     },
     "metadata": {
      "needs_background": "light"
     },
     "output_type": "display_data"
    }
   ],
   "source": [
    "#choosing the best alpha\n",
    "alpha=[]\n",
    "error=[]\n",
    "for i in range(1,1000,50):\n",
    "    alpha.append(i/10)\n",
    "    lrr=Ridge(alpha=(i/10))\n",
    "    error.append(np.mean(cross_val_score(lrr, scaled_X_train, y_train, scoring='neg_mean_absolute_error',\n",
    "                                         cv=5)))\n",
    "plt.plot(alpha,error) \n",
    "plt.show()"
   ]
  },
  {
   "cell_type": "code",
   "execution_count": 20,
   "id": "68c5c0a0",
   "metadata": {},
   "outputs": [
    {
     "data": {
      "text/plain": [
       "Ridge(alpha=10)"
      ]
     },
     "execution_count": 20,
     "metadata": {},
     "output_type": "execute_result"
    }
   ],
   "source": [
    "#choosing the best alpha (look figure where alpha start to saturate)\n",
    "lrr=Ridge(alpha=10)\n",
    "lrr.fit(X_train, y_train)\n"
   ]
  },
  {
   "cell_type": "code",
   "execution_count": 21,
   "id": "582b196d",
   "metadata": {},
   "outputs": [
    {
     "name": "stdout",
     "output_type": "stream",
     "text": [
      "R2 Score of training set with alpha 40 -6.374847211708259\n",
      "R2 Score of testing set with alpha 40 -6.152493009518381\n"
     ]
    }
   ],
   "source": [
    "#Printing the R2 score of test and train set \n",
    "print(f'R2 Score of training set with alpha 40 {lrr.score(scaled_X_train, y_train)}')\n",
    "print(f'R2 Score of testing set with alpha 40 {lrr.score(scaled_X_test, y_test)}')"
   ]
  },
  {
   "cell_type": "markdown",
   "id": "c0165b67",
   "metadata": {},
   "source": [
    "#### Create a cross-valiation with five folds."
   ]
  },
  {
   "cell_type": "code",
   "execution_count": 22,
   "id": "0f1ead01",
   "metadata": {},
   "outputs": [
    {
     "data": {
      "text/plain": [
       "array([-44685.22035577, -45133.75753392, -45614.9985192 ])"
      ]
     },
     "execution_count": 22,
     "metadata": {},
     "output_type": "execute_result"
    }
   ],
   "source": [
    "#score of training set using cross_val_score\n",
    "cross_val_score(lr_r, scaled_X_train, y_train, scoring='neg_mean_absolute_error', cv=3)"
   ]
  },
  {
   "cell_type": "code",
   "execution_count": 23,
   "id": "1b1ee7a8",
   "metadata": {},
   "outputs": [
    {
     "name": "stdout",
     "output_type": "stream",
     "text": [
      "The R2 of Ridge Regression with alpha 10 is 0.8344050202155004\n",
      "The mean squared error of Ridge Regression with alpha 10 is 76565.98637132603\n",
      "The mean absolute error of Ridge Regression with alpha 10 is 45136.39711576419\n"
     ]
    }
   ],
   "source": [
    "#score of training set using cross_val_score\n",
    "lrr_r2=np.mean(cross_val_score(lrr, scaled_X_train, y_train, cv=5))\n",
    "print(f'The R2 of Ridge Regression with alpha 10 is {lrr_r2}')\n",
    "\n",
    "#cross validation features gives greater is better, so score function is opposite of \n",
    "#MSE so we need to use -ve to get mse\n",
    "lrr_mse=np.mean(cross_val_score(lr_r, scaled_X_train, y_train, cv=5, scoring='neg_mean_squared_error'))\n",
    "lrr_rmse=np.sqrt(-(lrr_mse))\n",
    "print(f'The mean squared error of Ridge Regression with alpha 10 is {lrr_rmse}')\n",
    "\n",
    "#mean absolute error\n",
    "lrr_mae=np.mean(cross_val_score(lr_r, scaled_X_train, y_train, cv=5, scoring='neg_mean_absolute_error'))\n",
    "lrr_mae=(-(lrr_mae))\n",
    "print(f'The mean absolute error of Ridge Regression with alpha 10 is {lrr_mae}')"
   ]
  },
  {
   "cell_type": "markdown",
   "id": "644188f6",
   "metadata": {},
   "source": [
    "## Laso Regression"
   ]
  },
  {
   "cell_type": "code",
   "execution_count": 24,
   "id": "ceb24d8e",
   "metadata": {},
   "outputs": [
    {
     "data": {
      "text/plain": [
       "Lasso()"
      ]
     },
     "execution_count": 24,
     "metadata": {},
     "output_type": "execute_result"
    }
   ],
   "source": [
    "#using lassoregression(lasso make some features going to exactly zero)\n",
    "#alpha=0 no regularization( all features are used)\n",
    "# Make a lasso regression instance\n",
    "lr_l=Lasso()\n",
    "lr_l.fit(scaled_X_train, y_train)\n"
   ]
  },
  {
   "cell_type": "code",
   "execution_count": 25,
   "id": "f7098f28",
   "metadata": {},
   "outputs": [
    {
     "name": "stdout",
     "output_type": "stream",
     "text": [
      "R2 Score of training set 0.8348136937849526\n",
      "R2 Score of testing set  0.8384200924398116\n"
     ]
    }
   ],
   "source": [
    "#Printing the R2 score of test and train set\n",
    "print(f'R2 Score of training set {lr_l.score(scaled_X_train, y_train)}')\n",
    "print(f'R2 Score of testing set  {lr_l.score(scaled_X_test, y_test)}')"
   ]
  },
  {
   "cell_type": "markdown",
   "id": "f9a34084",
   "metadata": {},
   "source": [
    "#### Create a cross-valiation with five folds."
   ]
  },
  {
   "cell_type": "code",
   "execution_count": 26,
   "id": "4fd1fadf",
   "metadata": {},
   "outputs": [
    {
     "data": {
      "text/plain": [
       "array([-44687.15366391, -45135.10594606, -45616.03206489])"
      ]
     },
     "execution_count": 26,
     "metadata": {},
     "output_type": "execute_result"
    }
   ],
   "source": [
    "#score of training set using cross_val_score\n",
    "cross_val_score(lr_l, scaled_X_train, y_train, scoring='neg_mean_absolute_error', cv=3)"
   ]
  },
  {
   "cell_type": "code",
   "execution_count": 27,
   "id": "6e7144ed",
   "metadata": {},
   "outputs": [
    {
     "name": "stdout",
     "output_type": "stream",
     "text": [
      "The R2 of Lasso Regression is 0.8344038234883314\n",
      "The mean squared error of Lasso Regression is 76566.01551008181\n",
      "The mean absolute error of Lasso Regression is 45137.4529164694\n"
     ]
    }
   ],
   "source": [
    "#score of training set using cross_val_score\n",
    "lr_l_r2=np.mean(cross_val_score(lr_l, scaled_X_train, y_train, cv=5))\n",
    "print(f'The R2 of Lasso Regression is {lr_l_r2}')\n",
    "\n",
    "#cross validation features gives greater is better, so score function is opposite of \n",
    "#MSE so we need to use -ve to get mse\n",
    "lr_l_mse=np.mean(cross_val_score(lr_l, scaled_X_train, y_train, cv=5, scoring='neg_mean_squared_error'))\n",
    "lr_l_rmse=np.sqrt(-(lr_l_mse))\n",
    "print(f'The mean squared error of Lasso Regression is {lr_l_rmse}')\n",
    "\n",
    "#mean absolute error\n",
    "lr_l_mae=np.mean(cross_val_score(lr_l, scaled_X_train, y_train, cv=5, scoring='neg_mean_absolute_error'))\n",
    "lr_l_mae=(-(lr_l_mae))\n",
    "print(f'The mean absolute error of Lasso Regression is {lr_l_mae}')"
   ]
  },
  {
   "cell_type": "code",
   "execution_count": 28,
   "id": "6a3a3bb3",
   "metadata": {},
   "outputs": [
    {
     "data": {
      "image/png": "[encoded data removed]",
      "text/plain": [
       "<Figure size 432x288 with 1 Axes>"
      ]
     },
     "metadata": {
      "needs_background": "light"
     },
     "output_type": "display_data"
    }
   ],
   "source": [
    "#choosing the best alpha\n",
    "alpha=[]\n",
    "error=[]\n",
    "for i in range(1,100,10):\n",
    "    alpha.append(i/10)\n",
    "    lrl=Lasso(alpha=(i/10))\n",
    "    error.append(np.mean(cross_val_score(lrl, scaled_X_train, y_train, scoring='neg_mean_absolute_error',\n",
    "                                         cv=5)))\n",
    "plt.plot(alpha,error) \n",
    "plt.show()"
   ]
  },
  {
   "cell_type": "code",
   "execution_count": 29,
   "id": "f8614a5b",
   "metadata": {},
   "outputs": [
    {
     "data": {
      "text/plain": [
       "Lasso(alpha=10)"
      ]
     },
     "execution_count": 29,
     "metadata": {},
     "output_type": "execute_result"
    }
   ],
   "source": [
    "#choosing the best alpha\n",
    "lrl=Lasso(alpha=10)\n",
    "lrl.fit(scaled_X_train, y_train)\n"
   ]
  },
  {
   "cell_type": "code",
   "execution_count": 30,
   "id": "67cf8c08",
   "metadata": {},
   "outputs": [
    {
     "name": "stdout",
     "output_type": "stream",
     "text": [
      "R2 Score of training set with alpha 10 0.8348136052503992\n",
      "R2 Score of testing set with alpha 10 0.8384193863936207\n"
     ]
    }
   ],
   "source": [
    "#Printing the R2 score of test and train set \n",
    "print(f'R2 Score of training set with alpha 10 {lrl.score(scaled_X_train, y_train)}')\n",
    "print(f'R2 Score of testing set with alpha 10 {lrl.score(scaled_X_test, y_test)}')"
   ]
  },
  {
   "cell_type": "markdown",
   "id": "b01cb632",
   "metadata": {},
   "source": [
    "#### Create a cross-valiation with five folds."
   ]
  },
  {
   "cell_type": "code",
   "execution_count": 31,
   "id": "868eab06",
   "metadata": {},
   "outputs": [
    {
     "data": {
      "text/plain": [
       "array([-44687.15366391, -45135.10594606, -45616.03206489])"
      ]
     },
     "execution_count": 31,
     "metadata": {},
     "output_type": "execute_result"
    }
   ],
   "source": [
    "#score of training set using cross_val_score\n",
    "cross_val_score(lr_l, scaled_X_train, y_train, scoring='neg_mean_absolute_error', cv=3)"
   ]
  },
  {
   "cell_type": "code",
   "execution_count": 32,
   "id": "a84998e7",
   "metadata": {},
   "outputs": [
    {
     "name": "stdout",
     "output_type": "stream",
     "text": [
      "The R2 of Lasso Regression with alpha 10 is 0.8344038042650312\n",
      "The mean squared error of Lasso Regression with alpha 10 is 76566.01551008181\n",
      "The mean absolute error of Lasso Regressionwith alpha 10 is 45137.4529164694\n"
     ]
    }
   ],
   "source": [
    "#score of training set using cross_val_score\n",
    "lrl_r2=np.mean(cross_val_score(lrl, scaled_X_train, y_train, cv=5))\n",
    "print(f'The R2 of Lasso Regression with alpha 10 is {lrl_r2}')\n",
    "\n",
    "#cross validation features gives greater is better, so score function is opposite of \n",
    "#MSE so we need to use -ve to get mse\n",
    "lrl_mse=np.mean(cross_val_score(lr_l, scaled_X_train, y_train, cv=5, scoring='neg_mean_squared_error'))\n",
    "lrl_rmse=np.sqrt(-(lrl_mse))\n",
    "print(f'The mean squared error of Lasso Regression with alpha 10 is {lrl_rmse}')\n",
    "\n",
    "#mean absolute error\n",
    "lrl_mae=np.mean(cross_val_score(lr_l, scaled_X_train, y_train, cv=5, scoring='neg_mean_absolute_error'))\n",
    "lrl_mae=(-(lrl_mae))\n",
    "print(f'The mean absolute error of Lasso Regressionwith alpha 10 is {lrl_mae}')"
   ]
  },
  {
   "cell_type": "markdown",
   "id": "cf192ae8",
   "metadata": {},
   "source": [
    "## Support Vector Machine(SVM) Regression"
   ]
  },
  {
   "cell_type": "code",
   "execution_count": 33,
   "id": "5a67a288",
   "metadata": {},
   "outputs": [
    {
     "data": {
      "text/plain": [
       "LinearSVR(epsilon=1.5)"
      ]
     },
     "execution_count": 33,
     "metadata": {},
     "output_type": "execute_result"
    }
   ],
   "source": [
    "# Make a svm regression instance\n",
    "svm=LinearSVR(epsilon=1.5)\n",
    "svm.fit(scaled_X_train, y_train)\n"
   ]
  },
  {
   "cell_type": "code",
   "execution_count": 34,
   "id": "dd2c9afe",
   "metadata": {},
   "outputs": [
    {
     "name": "stdout",
     "output_type": "stream",
     "text": [
      "R2 Score of training set -0.9919587622672232\n",
      "R2 Score of testing set  -0.9768562069368107\n"
     ]
    }
   ],
   "source": [
    "#Printing the R2 score of test and train set\n",
    "print(f'R2 Score of training set {svm.score(scaled_X_train, y_train)}')\n",
    "print(f'R2 Score of testing set  {svm.score(scaled_X_test, y_test)}')"
   ]
  },
  {
   "cell_type": "markdown",
   "id": "13b10a98",
   "metadata": {},
   "source": [
    "#### Create a cross-valiation with five folds."
   ]
  },
  {
   "cell_type": "code",
   "execution_count": 35,
   "id": "0a42fe59",
   "metadata": {},
   "outputs": [
    {
     "data": {
      "text/plain": [
       "array([-192924.08100737, -195209.9519937 , -194982.17263524])"
      ]
     },
     "execution_count": 35,
     "metadata": {},
     "output_type": "execute_result"
    }
   ],
   "source": [
    "#score of training set using cross_val_score\n",
    "cross_val_score(svm, scaled_X_train, y_train, scoring='neg_mean_absolute_error', cv=3)"
   ]
  },
  {
   "cell_type": "code",
   "execution_count": 36,
   "id": "b50117ee",
   "metadata": {},
   "outputs": [
    {
     "name": "stdout",
     "output_type": "stream",
     "text": [
      "The R2 of svm Regression is -1.0382593321083269\n",
      "The mean squared error of svm Regression is 268490.695289283\n",
      "The mean absolute error of svm Regression is 191577.22100446743\n"
     ]
    }
   ],
   "source": [
    "#score of training set using cross_val_score\n",
    "svm_r2=np.mean(cross_val_score(svm, scaled_X_train, y_train, cv=5))\n",
    "print(f'The R2 of svm Regression is {svm_r2}')\n",
    "\n",
    "#cross validation features gives greater is better, so score function is opposite of \n",
    "#MSE so we need to use -ve to get mse\n",
    "svm_mse=np.mean(cross_val_score(svm, scaled_X_train, y_train, cv=5, scoring='neg_mean_squared_error'))\n",
    "svm_rmse=np.sqrt(-(svm_mse))\n",
    "print(f'The mean squared error of svm Regression is {svm_rmse}')\n",
    "\n",
    "#mean absolute error\n",
    "svm_mae=np.mean(cross_val_score(svm, scaled_X_train, y_train, cv=5, scoring='neg_mean_absolute_error'))\n",
    "svm_mae=(-(svm_mae))\n",
    "print(f'The mean absolute error of svm Regression is {svm_mae}')"
   ]
  },
  {
   "cell_type": "markdown",
   "id": "bdf9d4b8",
   "metadata": {},
   "source": [
    "## Support Vector Machine(SVR) Kernel Regression"
   ]
  },
  {
   "cell_type": "code",
   "execution_count": 37,
   "id": "3fbc85b0",
   "metadata": {},
   "outputs": [
    {
     "data": {
      "text/plain": [
       "SVR(kernel='linear')"
      ]
     },
     "execution_count": 37,
     "metadata": {},
     "output_type": "execute_result"
    }
   ],
   "source": [
    "# Make a svm regression instance\n",
    "svr=SVR(kernel='linear')\n",
    "svr.fit(scaled_X_train, y_train)\n"
   ]
  },
  {
   "cell_type": "code",
   "execution_count": 38,
   "id": "b47681bc",
   "metadata": {},
   "outputs": [
    {
     "name": "stdout",
     "output_type": "stream",
     "text": [
      "R2 Score of training set 0.31091676224762455\n",
      "R2 Score of testing set  0.30883996248099743\n"
     ]
    }
   ],
   "source": [
    "#Printing the R2 score of test and train set\n",
    "print(f'R2 Score of training set {svr.score(scaled_X_train, y_train)}')\n",
    "print(f'R2 Score of testing set  {svr.score(scaled_X_test, y_test)}')"
   ]
  },
  {
   "cell_type": "markdown",
   "id": "88716495",
   "metadata": {},
   "source": [
    "#### Create a cross-valiation with five folds."
   ]
  },
  {
   "cell_type": "code",
   "execution_count": 39,
   "id": "3d326e3a",
   "metadata": {},
   "outputs": [
    {
     "data": {
      "text/plain": [
       "array([-83322.13820595, -85155.28015323, -85022.51261042])"
      ]
     },
     "execution_count": 39,
     "metadata": {},
     "output_type": "execute_result"
    }
   ],
   "source": [
    "#score of training set using cross_val_score\n",
    "cross_val_score(svr, scaled_X_train, y_train, scoring='neg_mean_absolute_error', cv=3)"
   ]
  },
  {
   "cell_type": "code",
   "execution_count": 40,
   "id": "1d7b06a3",
   "metadata": {},
   "outputs": [
    {
     "name": "stdout",
     "output_type": "stream",
     "text": [
      "The R2 of svr is 0.254173157341206\n",
      "The mean squared error of svr is 162457.02545143996\n",
      "The mean absolute error of svr  is 81130.0041190141\n"
     ]
    }
   ],
   "source": [
    "#score of training set using cross_val_score\n",
    "svr_r2=np.mean(cross_val_score(svr, scaled_X_train, y_train, cv=5))\n",
    "print(f'The R2 of svr is {svr_r2}')\n",
    "\n",
    "#cross validation features gives greater is better, so score function is opposite of \n",
    "#MSE so we need to use -ve to get mse\n",
    "svr_mse=np.mean(cross_val_score(svr, scaled_X_train, y_train, cv=5, scoring='neg_mean_squared_error'))\n",
    "svr_rmse=np.sqrt(-(svr_mse))\n",
    "print(f'The mean squared error of svr is {svr_rmse}')\n",
    "\n",
    "#mean absolute error\n",
    "svr_mae=np.mean(cross_val_score(svr, scaled_X_train, y_train, cv=5, scoring='neg_mean_absolute_error'))\n",
    "svr_mae=(-(svr_mae))\n",
    "print(f'The mean absolute error of svr  is {svr_mae}')"
   ]
  },
  {
   "cell_type": "markdown",
   "id": "bb9e752b",
   "metadata": {},
   "source": [
    "## Decision Tree"
   ]
  },
  {
   "cell_type": "code",
   "execution_count": 41,
   "id": "37511d67",
   "metadata": {},
   "outputs": [
    {
     "data": {
      "text/plain": [
       "DecisionTreeRegressor()"
      ]
     },
     "execution_count": 41,
     "metadata": {},
     "output_type": "execute_result"
    }
   ],
   "source": [
    "# Make a decision tree instance\n",
    "dt=DecisionTreeRegressor()\n",
    "dt.fit(scaled_X_train, y_train)"
   ]
  },
  {
   "cell_type": "code",
   "execution_count": 42,
   "id": "cdec4fe1",
   "metadata": {},
   "outputs": [
    {
     "name": "stdout",
     "output_type": "stream",
     "text": [
      "R2 Score of training set 1.0\n",
      "R2 Score of testing set  0.8674523876399645\n"
     ]
    }
   ],
   "source": [
    "#Printing the score of test and train set\n",
    "print(f'R2 Score of training set {dt.score(scaled_X_train, y_train)}')\n",
    "print(f'R2 Score of testing set  {dt.score(scaled_X_test, y_test)}')"
   ]
  },
  {
   "cell_type": "markdown",
   "id": "ea4d0e96",
   "metadata": {},
   "source": [
    "#### Create a cross-valiation with five folds."
   ]
  },
  {
   "cell_type": "code",
   "execution_count": 43,
   "id": "964f747e",
   "metadata": {},
   "outputs": [
    {
     "data": {
      "text/plain": [
       "array([-37588.44716145, -38997.5715103 , -38916.26287185])"
      ]
     },
     "execution_count": 43,
     "metadata": {},
     "output_type": "execute_result"
    }
   ],
   "source": [
    "#score of training set using cross_val_score\n",
    "cross_val_score(dt, scaled_X_train, y_train, scoring='neg_mean_absolute_error', cv=3)"
   ]
  },
  {
   "cell_type": "code",
   "execution_count": 44,
   "id": "7e3414c2",
   "metadata": {},
   "outputs": [
    {
     "name": "stdout",
     "output_type": "stream",
     "text": [
      "The R2 of Decision Tree Regressor is 0.8525619381307348\n",
      "The mean squared error of Decision Tree Regressor is 73611.67774682099\n",
      "The mean absolute error of Decision Tree Regressor is 37968.12479945143\n"
     ]
    }
   ],
   "source": [
    "#score of training set using cross_val_score\n",
    "dt_r2=np.mean(cross_val_score(dt, scaled_X_train, y_train, cv=5))\n",
    "print(f'The R2 of Decision Tree Regressor is {dt_r2}')\n",
    "\n",
    "#cross validation features gives greater is better, so score function is opposite of \n",
    "#MSE so we need to use -ve to get mse\n",
    "dt_mse=np.mean(cross_val_score(dt, scaled_X_train, y_train, cv=5, scoring='neg_mean_squared_error'))\n",
    "dt_rmse=np.sqrt(-(dt_mse))\n",
    "print(f'The mean squared error of Decision Tree Regressor is {dt_rmse}')\n",
    "\n",
    "#mean absolute error\n",
    "dt_mae=np.mean(cross_val_score(dt, scaled_X_train, y_train, cv=5, scoring='neg_mean_absolute_error'))\n",
    "dt_mae=(-(dt_mae))\n",
    "print(f'The mean absolute error of Decision Tree Regressor is {dt_mae}')"
   ]
  },
  {
   "cell_type": "markdown",
   "id": "4fcf7ab9",
   "metadata": {},
   "source": [
    "### Tuning hyperparamaters  using Grid Search CV"
   ]
  },
  {
   "cell_type": "code",
   "execution_count": 45,
   "id": "4bad9029",
   "metadata": {},
   "outputs": [
    {
     "name": "stdout",
     "output_type": "stream",
     "text": [
      "Fitting 3 folds for each of 12 candidates, totalling 36 fits\n"
     ]
    },
    {
     "data": {
      "text/plain": [
       "GridSearchCV(cv=3, estimator=DecisionTreeRegressor(), n_jobs=-1,\n",
       "             param_grid={'max_depth': [6, 8, 12],\n",
       "                         'min_samples_leaf': range(1, 5)},\n",
       "             verbose=1)"
      ]
     },
     "execution_count": 45,
     "metadata": {},
     "output_type": "execute_result"
    }
   ],
   "source": [
    "parameters = {\n",
    "              'max_depth':[6, 8,12],\n",
    "              'min_samples_leaf':range(1,5)}\n",
    "gs_dt=GridSearchCV(dt, param_grid=parameters, \n",
    "                    cv=3, verbose=1, n_jobs=-1)\n",
    "gs_dt.fit(scaled_X_train, y_train)"
   ]
  },
  {
   "cell_type": "code",
   "execution_count": 46,
   "id": "1117229f",
   "metadata": {},
   "outputs": [
    {
     "data": {
      "text/plain": [
       "{'max_depth': 8, 'min_samples_leaf': 2}"
      ]
     },
     "execution_count": 46,
     "metadata": {},
     "output_type": "execute_result"
    }
   ],
   "source": [
    "#Best parameters\n",
    "gs_dt.best_params_"
   ]
  },
  {
   "cell_type": "code",
   "execution_count": 47,
   "id": "4e2d3878",
   "metadata": {},
   "outputs": [
    {
     "data": {
      "text/plain": [
       "DecisionTreeRegressor(max_depth=8, min_samples_leaf=2)"
      ]
     },
     "execution_count": 47,
     "metadata": {},
     "output_type": "execute_result"
    }
   ],
   "source": [
    "#best estimator\n",
    "dt_b=gs_dt.best_estimator_\n",
    "dt_b"
   ]
  },
  {
   "cell_type": "code",
   "execution_count": 48,
   "id": "0f48428e",
   "metadata": {},
   "outputs": [
    {
     "name": "stdout",
     "output_type": "stream",
     "text": [
      "R2 Score of training set after hyperpar tuining 0.9435113710433504\n",
      "R2 Score of testing set after hyperpar tuining  0.8874551580160304\n"
     ]
    }
   ],
   "source": [
    "#Printing the score of test and train set\n",
    "dt_tr=dt_b.score(scaled_X_train, y_train)\n",
    "dt_te=dt_b.score(scaled_X_test, y_test)\n",
    "print(f'R2 Score of training set after hyperpar tuining {dt_tr}')\n",
    "print(f'R2 Score of testing set after hyperpar tuining  {dt_te}')"
   ]
  },
  {
   "cell_type": "code",
   "execution_count": 49,
   "id": "5cc896c0",
   "metadata": {},
   "outputs": [
    {
     "data": {
      "text/html": [
       "<div>\n",
       "<style scoped>\n",
       "    .dataframe tbody tr th:only-of-type {\n",
       "        vertical-align: middle;\n",
       "    }\n",
       "\n",
       "    .dataframe tbody tr th {\n",
       "        vertical-align: top;\n",
       "    }\n",
       "\n",
       "    .dataframe thead th {\n",
       "        text-align: right;\n",
       "    }\n",
       "</style>\n",
       "<table border=\"1\" class=\"dataframe\">\n",
       "  <thead>\n",
       "    <tr style=\"text-align: right;\">\n",
       "      <th></th>\n",
       "      <th>mean_fit_time</th>\n",
       "      <th>std_fit_time</th>\n",
       "      <th>mean_score_time</th>\n",
       "      <th>std_score_time</th>\n",
       "      <th>param_max_depth</th>\n",
       "      <th>param_min_samples_leaf</th>\n",
       "      <th>params</th>\n",
       "      <th>split0_test_score</th>\n",
       "      <th>split1_test_score</th>\n",
       "      <th>split2_test_score</th>\n",
       "      <th>mean_test_score</th>\n",
       "      <th>std_test_score</th>\n",
       "      <th>rank_test_score</th>\n",
       "    </tr>\n",
       "  </thead>\n",
       "  <tbody>\n",
       "    <tr>\n",
       "      <th>0</th>\n",
       "      <td>0.115322</td>\n",
       "      <td>0.003176</td>\n",
       "      <td>0.001417</td>\n",
       "      <td>0.000093</td>\n",
       "      <td>6</td>\n",
       "      <td>1</td>\n",
       "      <td>{'max_depth': 6, 'min_samples_leaf': 1}</td>\n",
       "      <td>0.881624</td>\n",
       "      <td>0.884618</td>\n",
       "      <td>0.869796</td>\n",
       "      <td>0.878679</td>\n",
       "      <td>0.006399</td>\n",
       "      <td>2</td>\n",
       "    </tr>\n",
       "    <tr>\n",
       "      <th>1</th>\n",
       "      <td>0.117741</td>\n",
       "      <td>0.004457</td>\n",
       "      <td>0.001416</td>\n",
       "      <td>0.000119</td>\n",
       "      <td>6</td>\n",
       "      <td>2</td>\n",
       "      <td>{'max_depth': 6, 'min_samples_leaf': 2}</td>\n",
       "      <td>0.868211</td>\n",
       "      <td>0.881894</td>\n",
       "      <td>0.852120</td>\n",
       "      <td>0.867408</td>\n",
       "      <td>0.012169</td>\n",
       "      <td>10</td>\n",
       "    </tr>\n",
       "    <tr>\n",
       "      <th>2</th>\n",
       "      <td>0.118177</td>\n",
       "      <td>0.006073</td>\n",
       "      <td>0.001409</td>\n",
       "      <td>0.000142</td>\n",
       "      <td>6</td>\n",
       "      <td>3</td>\n",
       "      <td>{'max_depth': 6, 'min_samples_leaf': 3}</td>\n",
       "      <td>0.876193</td>\n",
       "      <td>0.881154</td>\n",
       "      <td>0.862036</td>\n",
       "      <td>0.873128</td>\n",
       "      <td>0.008100</td>\n",
       "      <td>7</td>\n",
       "    </tr>\n",
       "    <tr>\n",
       "      <th>3</th>\n",
       "      <td>0.112537</td>\n",
       "      <td>0.001238</td>\n",
       "      <td>0.001329</td>\n",
       "      <td>0.000141</td>\n",
       "      <td>6</td>\n",
       "      <td>4</td>\n",
       "      <td>{'max_depth': 6, 'min_samples_leaf': 4}</td>\n",
       "      <td>0.882384</td>\n",
       "      <td>0.885480</td>\n",
       "      <td>0.861510</td>\n",
       "      <td>0.876458</td>\n",
       "      <td>0.010645</td>\n",
       "      <td>4</td>\n",
       "    </tr>\n",
       "    <tr>\n",
       "      <th>4</th>\n",
       "      <td>0.144619</td>\n",
       "      <td>0.002249</td>\n",
       "      <td>0.001468</td>\n",
       "      <td>0.000046</td>\n",
       "      <td>8</td>\n",
       "      <td>1</td>\n",
       "      <td>{'max_depth': 8, 'min_samples_leaf': 1}</td>\n",
       "      <td>0.871211</td>\n",
       "      <td>0.865849</td>\n",
       "      <td>0.868259</td>\n",
       "      <td>0.868440</td>\n",
       "      <td>0.002193</td>\n",
       "      <td>9</td>\n",
       "    </tr>\n",
       "    <tr>\n",
       "      <th>5</th>\n",
       "      <td>0.144644</td>\n",
       "      <td>0.004270</td>\n",
       "      <td>0.001433</td>\n",
       "      <td>0.000009</td>\n",
       "      <td>8</td>\n",
       "      <td>2</td>\n",
       "      <td>{'max_depth': 8, 'min_samples_leaf': 2}</td>\n",
       "      <td>0.892613</td>\n",
       "      <td>0.877041</td>\n",
       "      <td>0.873377</td>\n",
       "      <td>0.881010</td>\n",
       "      <td>0.008340</td>\n",
       "      <td>1</td>\n",
       "    </tr>\n",
       "    <tr>\n",
       "      <th>6</th>\n",
       "      <td>0.141059</td>\n",
       "      <td>0.002792</td>\n",
       "      <td>0.001448</td>\n",
       "      <td>0.000047</td>\n",
       "      <td>8</td>\n",
       "      <td>3</td>\n",
       "      <td>{'max_depth': 8, 'min_samples_leaf': 3}</td>\n",
       "      <td>0.886143</td>\n",
       "      <td>0.881942</td>\n",
       "      <td>0.866082</td>\n",
       "      <td>0.878056</td>\n",
       "      <td>0.008639</td>\n",
       "      <td>3</td>\n",
       "    </tr>\n",
       "    <tr>\n",
       "      <th>7</th>\n",
       "      <td>0.142741</td>\n",
       "      <td>0.001689</td>\n",
       "      <td>0.001421</td>\n",
       "      <td>0.000087</td>\n",
       "      <td>8</td>\n",
       "      <td>4</td>\n",
       "      <td>{'max_depth': 8, 'min_samples_leaf': 4}</td>\n",
       "      <td>0.885319</td>\n",
       "      <td>0.878333</td>\n",
       "      <td>0.863340</td>\n",
       "      <td>0.875664</td>\n",
       "      <td>0.009169</td>\n",
       "      <td>5</td>\n",
       "    </tr>\n",
       "    <tr>\n",
       "      <th>8</th>\n",
       "      <td>0.198309</td>\n",
       "      <td>0.002869</td>\n",
       "      <td>0.001907</td>\n",
       "      <td>0.000080</td>\n",
       "      <td>12</td>\n",
       "      <td>1</td>\n",
       "      <td>{'max_depth': 12, 'min_samples_leaf': 1}</td>\n",
       "      <td>0.875390</td>\n",
       "      <td>0.857132</td>\n",
       "      <td>0.855120</td>\n",
       "      <td>0.862547</td>\n",
       "      <td>0.009118</td>\n",
       "      <td>12</td>\n",
       "    </tr>\n",
       "    <tr>\n",
       "      <th>9</th>\n",
       "      <td>0.195666</td>\n",
       "      <td>0.001897</td>\n",
       "      <td>0.001840</td>\n",
       "      <td>0.000075</td>\n",
       "      <td>12</td>\n",
       "      <td>2</td>\n",
       "      <td>{'max_depth': 12, 'min_samples_leaf': 2}</td>\n",
       "      <td>0.865207</td>\n",
       "      <td>0.864307</td>\n",
       "      <td>0.869493</td>\n",
       "      <td>0.866336</td>\n",
       "      <td>0.002262</td>\n",
       "      <td>11</td>\n",
       "    </tr>\n",
       "    <tr>\n",
       "      <th>10</th>\n",
       "      <td>0.181916</td>\n",
       "      <td>0.019166</td>\n",
       "      <td>0.001593</td>\n",
       "      <td>0.000189</td>\n",
       "      <td>12</td>\n",
       "      <td>3</td>\n",
       "      <td>{'max_depth': 12, 'min_samples_leaf': 3}</td>\n",
       "      <td>0.875448</td>\n",
       "      <td>0.870305</td>\n",
       "      <td>0.864981</td>\n",
       "      <td>0.870244</td>\n",
       "      <td>0.004273</td>\n",
       "      <td>8</td>\n",
       "    </tr>\n",
       "    <tr>\n",
       "      <th>11</th>\n",
       "      <td>0.151668</td>\n",
       "      <td>0.003739</td>\n",
       "      <td>0.001509</td>\n",
       "      <td>0.000174</td>\n",
       "      <td>12</td>\n",
       "      <td>4</td>\n",
       "      <td>{'max_depth': 12, 'min_samples_leaf': 4}</td>\n",
       "      <td>0.885897</td>\n",
       "      <td>0.873514</td>\n",
       "      <td>0.864294</td>\n",
       "      <td>0.874568</td>\n",
       "      <td>0.008851</td>\n",
       "      <td>6</td>\n",
       "    </tr>\n",
       "  </tbody>\n",
       "</table>\n",
       "</div>"
      ],
      "text/plain": [
       "    mean_fit_time  std_fit_time  mean_score_time  std_score_time  \\\n",
       "0        0.115322      0.003176         0.001417        0.000093   \n",
       "1        0.117741      0.004457         0.001416        0.000119   \n",
       "2        0.118177      0.006073         0.001409        0.000142   \n",
       "3        0.112537      0.001238         0.001329        0.000141   \n",
       "4        0.144619      0.002249         0.001468        0.000046   \n",
       "5        0.144644      0.004270         0.001433        0.000009   \n",
       "6        0.141059      0.002792         0.001448        0.000047   \n",
       "7        0.142741      0.001689         0.001421        0.000087   \n",
       "8        0.198309      0.002869         0.001907        0.000080   \n",
       "9        0.195666      0.001897         0.001840        0.000075   \n",
       "10       0.181916      0.019166         0.001593        0.000189   \n",
       "11       0.151668      0.003739         0.001509        0.000174   \n",
       "\n",
       "   param_max_depth param_min_samples_leaf  \\\n",
       "0                6                      1   \n",
       "1                6                      2   \n",
       "2                6                      3   \n",
       "3                6                      4   \n",
       "4                8                      1   \n",
       "5                8                      2   \n",
       "6                8                      3   \n",
       "7                8                      4   \n",
       "8               12                      1   \n",
       "9               12                      2   \n",
       "10              12                      3   \n",
       "11              12                      4   \n",
       "\n",
       "                                      params  split0_test_score  \\\n",
       "0    {'max_depth': 6, 'min_samples_leaf': 1}           0.881624   \n",
       "1    {'max_depth': 6, 'min_samples_leaf': 2}           0.868211   \n",
       "2    {'max_depth': 6, 'min_samples_leaf': 3}           0.876193   \n",
       "3    {'max_depth': 6, 'min_samples_leaf': 4}           0.882384   \n",
       "4    {'max_depth': 8, 'min_samples_leaf': 1}           0.871211   \n",
       "5    {'max_depth': 8, 'min_samples_leaf': 2}           0.892613   \n",
       "6    {'max_depth': 8, 'min_samples_leaf': 3}           0.886143   \n",
       "7    {'max_depth': 8, 'min_samples_leaf': 4}           0.885319   \n",
       "8   {'max_depth': 12, 'min_samples_leaf': 1}           0.875390   \n",
       "9   {'max_depth': 12, 'min_samples_leaf': 2}           0.865207   \n",
       "10  {'max_depth': 12, 'min_samples_leaf': 3}           0.875448   \n",
       "11  {'max_depth': 12, 'min_samples_leaf': 4}           0.885897   \n",
       "\n",
       "    split1_test_score  split2_test_score  mean_test_score  std_test_score  \\\n",
       "0            0.884618           0.869796         0.878679        0.006399   \n",
       "1            0.881894           0.852120         0.867408        0.012169   \n",
       "2            0.881154           0.862036         0.873128        0.008100   \n",
       "3            0.885480           0.861510         0.876458        0.010645   \n",
       "4            0.865849           0.868259         0.868440        0.002193   \n",
       "5            0.877041           0.873377         0.881010        0.008340   \n",
       "6            0.881942           0.866082         0.878056        0.008639   \n",
       "7            0.878333           0.863340         0.875664        0.009169   \n",
       "8            0.857132           0.855120         0.862547        0.009118   \n",
       "9            0.864307           0.869493         0.866336        0.002262   \n",
       "10           0.870305           0.864981         0.870244        0.004273   \n",
       "11           0.873514           0.864294         0.874568        0.008851   \n",
       "\n",
       "    rank_test_score  \n",
       "0                 2  \n",
       "1                10  \n",
       "2                 7  \n",
       "3                 4  \n",
       "4                 9  \n",
       "5                 1  \n",
       "6                 3  \n",
       "7                 5  \n",
       "8                12  \n",
       "9                11  \n",
       "10                8  \n",
       "11                6  "
      ]
     },
     "execution_count": 49,
     "metadata": {},
     "output_type": "execute_result"
    }
   ],
   "source": [
    "#dataframe for results\n",
    "dt_df=pd.DataFrame(gs_dt.cv_results_)\n",
    "dt_df"
   ]
  },
  {
   "cell_type": "code",
   "execution_count": 50,
   "id": "6405113f",
   "metadata": {},
   "outputs": [
    {
     "name": "stdout",
     "output_type": "stream",
     "text": [
      "0.8786794040161959 {'max_depth': 6, 'min_samples_leaf': 1}\n",
      "0.8674082143630392 {'max_depth': 6, 'min_samples_leaf': 2}\n",
      "0.8731276619445252 {'max_depth': 6, 'min_samples_leaf': 3}\n",
      "0.8764582497479 {'max_depth': 6, 'min_samples_leaf': 4}\n",
      "0.8684397603670595 {'max_depth': 8, 'min_samples_leaf': 1}\n",
      "0.8810104778739634 {'max_depth': 8, 'min_samples_leaf': 2}\n",
      "0.8780555789457551 {'max_depth': 8, 'min_samples_leaf': 3}\n",
      "0.8756638842844363 {'max_depth': 8, 'min_samples_leaf': 4}\n",
      "0.862547380705697 {'max_depth': 12, 'min_samples_leaf': 1}\n",
      "0.8663356176882396 {'max_depth': 12, 'min_samples_leaf': 2}\n",
      "0.8702442864880885 {'max_depth': 12, 'min_samples_leaf': 3}\n",
      "0.8745682455159325 {'max_depth': 12, 'min_samples_leaf': 4}\n"
     ]
    }
   ],
   "source": [
    "#printing the evaluation scores\n",
    "cvres_dt=gs_dt.cv_results_\n",
    "for mean_score, params in zip(cvres_dt['mean_test_score'], cvres_dt['params']):\n",
    "    print((mean_score), params)"
   ]
  },
  {
   "cell_type": "markdown",
   "id": "74d42c15",
   "metadata": {},
   "source": [
    "## Random Forest"
   ]
  },
  {
   "cell_type": "code",
   "execution_count": 51,
   "id": "b1dd353c",
   "metadata": {},
   "outputs": [
    {
     "data": {
      "text/plain": [
       "RandomForestRegressor()"
      ]
     },
     "execution_count": 51,
     "metadata": {},
     "output_type": "execute_result"
    }
   ],
   "source": [
    "# Make a Random forest instance\n",
    "rf=RandomForestRegressor()\n",
    "rf.fit(scaled_X_train, y_train)"
   ]
  },
  {
   "cell_type": "code",
   "execution_count": 52,
   "id": "15d42060",
   "metadata": {},
   "outputs": [
    {
     "name": "stdout",
     "output_type": "stream",
     "text": [
      "R2 Score of training set 0.9899139194856862\n",
      "R2 Score of testing set 0.9249433144212502\n"
     ]
    }
   ],
   "source": [
    "#Printing the score of test and train set\n",
    "print(f'R2 Score of training set {rf.score(scaled_X_train, y_train)}')\n",
    "print(f'R2 Score of testing set {rf.score(scaled_X_test, y_test)}')"
   ]
  },
  {
   "cell_type": "markdown",
   "id": "933a4d61",
   "metadata": {},
   "source": [
    "#### Create a cross-valiation with five folds."
   ]
  },
  {
   "cell_type": "code",
   "execution_count": 53,
   "id": "56d25f08",
   "metadata": {},
   "outputs": [
    {
     "data": {
      "text/plain": [
       "array([-26914.89081939, -26941.0810841 , -27117.7834468 ])"
      ]
     },
     "execution_count": 53,
     "metadata": {},
     "output_type": "execute_result"
    }
   ],
   "source": [
    "#score of training set using cross_val_score\n",
    "cross_val_score(rf, scaled_X_train, y_train, scoring='neg_mean_absolute_error', cv=3)"
   ]
  },
  {
   "cell_type": "code",
   "execution_count": 54,
   "id": "942349bf",
   "metadata": {},
   "outputs": [
    {
     "name": "stdout",
     "output_type": "stream",
     "text": [
      "The R2 of Random Forest Regressor is 0.9235688778051069\n",
      "The mean squared error of Random Forest Regressor is 76566.01551008181\n",
      "The mean absolute error of Random Forest Regressor is 26827.73206101878\n"
     ]
    }
   ],
   "source": [
    "#score of training set using cross_val_score\n",
    "rf_r2=np.mean(cross_val_score(rf, scaled_X_train, y_train, cv=5))\n",
    "print(f'The R2 of Random Forest Regressor is {rf_r2}')\n",
    "\n",
    "#cross validation features gives greater is better, so score function is opposite of \n",
    "#MSE so we need to use -ve to get mse\n",
    "rf_mse=np.mean(cross_val_score(rf, scaled_X_train, y_train, cv=5, scoring='neg_mean_squared_error'))\n",
    "rf_rmse=np.sqrt(-(lrl_mse))\n",
    "print(f'The mean squared error of Random Forest Regressor is {rf_rmse}')\n",
    "\n",
    "#mean absolute error\n",
    "rf_mae=np.mean(cross_val_score(rf, scaled_X_train, y_train, cv=5, scoring='neg_mean_absolute_error'))\n",
    "rf_mae=(-(rf_mae))\n",
    "print(f'The mean absolute error of Random Forest Regressor is {rf_mae}')"
   ]
  },
  {
   "cell_type": "markdown",
   "id": "78efcae9",
   "metadata": {},
   "source": [
    "#### Tuning the hyperparameters using Grid Search CV"
   ]
  },
  {
   "cell_type": "code",
   "execution_count": 55,
   "id": "5921a51c",
   "metadata": {},
   "outputs": [
    {
     "data": {
      "text/plain": [
       "GridSearchCV(cv=5, estimator=RandomForestRegressor(),\n",
       "             param_grid=[{'max_features': [3, 6],\n",
       "                          'n_estimators': [30, 60, 100]}],\n",
       "             return_train_score=True, scoring='neg_mean_absolute_error')"
      ]
     },
     "execution_count": 55,
     "metadata": {},
     "output_type": "execute_result"
    }
   ],
   "source": [
    "parameters = [{'n_estimators':[30,60,100],\n",
    "              'max_features':[3,6]}]\n",
    "              #,{'bootstrap':[False], 'n_estimators':[3,10,100],\n",
    "              #'max_features':[4,6,8,10]}]\n",
    "gs_rf=GridSearchCV(rf, parameters, scoring='neg_mean_absolute_error',\n",
    "                   cv=5, return_train_score=True)\n",
    "gs_rf.fit(scaled_X_train, y_train)"
   ]
  },
  {
   "cell_type": "code",
   "execution_count": 56,
   "id": "09c2246a",
   "metadata": {},
   "outputs": [
    {
     "data": {
      "text/plain": [
       "{'max_features': 6, 'n_estimators': 100}"
      ]
     },
     "execution_count": 56,
     "metadata": {},
     "output_type": "execute_result"
    }
   ],
   "source": [
    "#Best parameters\n",
    "gs_rf.best_params_"
   ]
  },
  {
   "cell_type": "code",
   "execution_count": 57,
   "id": "5ff2c760",
   "metadata": {},
   "outputs": [
    {
     "data": {
      "text/plain": [
       "RandomForestRegressor(max_features=6)"
      ]
     },
     "execution_count": 57,
     "metadata": {},
     "output_type": "execute_result"
    }
   ],
   "source": [
    "#best estimator\n",
    "rf_b=gs_rf.best_estimator_\n",
    "rf_b"
   ]
  },
  {
   "cell_type": "code",
   "execution_count": 58,
   "id": "9cef9946",
   "metadata": {},
   "outputs": [
    {
     "name": "stdout",
     "output_type": "stream",
     "text": [
      "R2 Score of training set after hyperpar tuining 0.9898249093368443\n",
      "R2 Score of testing set after hyperpar tuining  0.925634675637727\n"
     ]
    }
   ],
   "source": [
    "#Printing the score of test and train set\n",
    "rf_tr=rf_b.score(scaled_X_train, y_train)\n",
    "rf_te=rf_b.score(scaled_X_test, y_test)\n",
    "print(f'R2 Score of training set after hyperpar tuining {rf_tr}')\n",
    "print(f'R2 Score of testing set after hyperpar tuining  {rf_te}')"
   ]
  },
  {
   "cell_type": "code",
   "execution_count": 59,
   "id": "e6a0d382",
   "metadata": {},
   "outputs": [
    {
     "data": {
      "text/html": [
       "<div>\n",
       "<style scoped>\n",
       "    .dataframe tbody tr th:only-of-type {\n",
       "        vertical-align: middle;\n",
       "    }\n",
       "\n",
       "    .dataframe tbody tr th {\n",
       "        vertical-align: top;\n",
       "    }\n",
       "\n",
       "    .dataframe thead th {\n",
       "        text-align: right;\n",
       "    }\n",
       "</style>\n",
       "<table border=\"1\" class=\"dataframe\">\n",
       "  <thead>\n",
       "    <tr style=\"text-align: right;\">\n",
       "      <th></th>\n",
       "      <th>mean_fit_time</th>\n",
       "      <th>std_fit_time</th>\n",
       "      <th>mean_score_time</th>\n",
       "      <th>std_score_time</th>\n",
       "      <th>param_max_features</th>\n",
       "      <th>param_n_estimators</th>\n",
       "      <th>params</th>\n",
       "      <th>split0_test_score</th>\n",
       "      <th>split1_test_score</th>\n",
       "      <th>split2_test_score</th>\n",
       "      <th>...</th>\n",
       "      <th>mean_test_score</th>\n",
       "      <th>std_test_score</th>\n",
       "      <th>rank_test_score</th>\n",
       "      <th>split0_train_score</th>\n",
       "      <th>split1_train_score</th>\n",
       "      <th>split2_train_score</th>\n",
       "      <th>split3_train_score</th>\n",
       "      <th>split4_train_score</th>\n",
       "      <th>mean_train_score</th>\n",
       "      <th>std_train_score</th>\n",
       "    </tr>\n",
       "  </thead>\n",
       "  <tbody>\n",
       "    <tr>\n",
       "      <th>0</th>\n",
       "      <td>1.015878</td>\n",
       "      <td>0.011910</td>\n",
       "      <td>0.026853</td>\n",
       "      <td>0.000117</td>\n",
       "      <td>3</td>\n",
       "      <td>30</td>\n",
       "      <td>{'max_features': 3, 'n_estimators': 30}</td>\n",
       "      <td>-27762.360311</td>\n",
       "      <td>-27715.248800</td>\n",
       "      <td>-27206.647604</td>\n",
       "      <td>...</td>\n",
       "      <td>-27732.767043</td>\n",
       "      <td>323.218832</td>\n",
       "      <td>6</td>\n",
       "      <td>-10705.530475</td>\n",
       "      <td>-10684.317746</td>\n",
       "      <td>-10788.457488</td>\n",
       "      <td>-10757.246925</td>\n",
       "      <td>-10558.292254</td>\n",
       "      <td>-10698.768978</td>\n",
       "      <td>79.311998</td>\n",
       "    </tr>\n",
       "    <tr>\n",
       "      <th>1</th>\n",
       "      <td>2.033810</td>\n",
       "      <td>0.018058</td>\n",
       "      <td>0.056591</td>\n",
       "      <td>0.001580</td>\n",
       "      <td>3</td>\n",
       "      <td>60</td>\n",
       "      <td>{'max_features': 3, 'n_estimators': 60}</td>\n",
       "      <td>-27477.698546</td>\n",
       "      <td>-27368.706971</td>\n",
       "      <td>-26784.756194</td>\n",
       "      <td>...</td>\n",
       "      <td>-27420.992370</td>\n",
       "      <td>361.559239</td>\n",
       "      <td>5</td>\n",
       "      <td>-10364.760247</td>\n",
       "      <td>-10323.372642</td>\n",
       "      <td>-10430.653535</td>\n",
       "      <td>-10429.822735</td>\n",
       "      <td>-10270.574931</td>\n",
       "      <td>-10363.836818</td>\n",
       "      <td>61.894421</td>\n",
       "    </tr>\n",
       "    <tr>\n",
       "      <th>2</th>\n",
       "      <td>3.354058</td>\n",
       "      <td>0.020995</td>\n",
       "      <td>0.091381</td>\n",
       "      <td>0.000586</td>\n",
       "      <td>3</td>\n",
       "      <td>100</td>\n",
       "      <td>{'max_features': 3, 'n_estimators': 100}</td>\n",
       "      <td>-27205.534342</td>\n",
       "      <td>-27309.959254</td>\n",
       "      <td>-26695.046296</td>\n",
       "      <td>...</td>\n",
       "      <td>-27227.893535</td>\n",
       "      <td>303.462805</td>\n",
       "      <td>4</td>\n",
       "      <td>-10147.904427</td>\n",
       "      <td>-10159.468974</td>\n",
       "      <td>-10170.703242</td>\n",
       "      <td>-10234.421363</td>\n",
       "      <td>-10100.075717</td>\n",
       "      <td>-10162.514745</td>\n",
       "      <td>43.264266</td>\n",
       "    </tr>\n",
       "    <tr>\n",
       "      <th>3</th>\n",
       "      <td>1.785465</td>\n",
       "      <td>0.009034</td>\n",
       "      <td>0.027146</td>\n",
       "      <td>0.000426</td>\n",
       "      <td>6</td>\n",
       "      <td>30</td>\n",
       "      <td>{'max_features': 6, 'n_estimators': 30}</td>\n",
       "      <td>-26716.858079</td>\n",
       "      <td>-27384.936320</td>\n",
       "      <td>-26306.750663</td>\n",
       "      <td>...</td>\n",
       "      <td>-27035.828785</td>\n",
       "      <td>461.071076</td>\n",
       "      <td>3</td>\n",
       "      <td>-10366.453169</td>\n",
       "      <td>-10362.840435</td>\n",
       "      <td>-10471.308291</td>\n",
       "      <td>-10437.736166</td>\n",
       "      <td>-10279.976550</td>\n",
       "      <td>-10383.662922</td>\n",
       "      <td>66.462383</td>\n",
       "    </tr>\n",
       "    <tr>\n",
       "      <th>4</th>\n",
       "      <td>3.589964</td>\n",
       "      <td>0.021332</td>\n",
       "      <td>0.055305</td>\n",
       "      <td>0.001627</td>\n",
       "      <td>6</td>\n",
       "      <td>60</td>\n",
       "      <td>{'max_features': 6, 'n_estimators': 60}</td>\n",
       "      <td>-26643.897291</td>\n",
       "      <td>-26873.970130</td>\n",
       "      <td>-26033.724839</td>\n",
       "      <td>...</td>\n",
       "      <td>-26730.305712</td>\n",
       "      <td>426.526224</td>\n",
       "      <td>2</td>\n",
       "      <td>-10045.265877</td>\n",
       "      <td>-9971.276826</td>\n",
       "      <td>-10128.118058</td>\n",
       "      <td>-10084.931485</td>\n",
       "      <td>-10024.852145</td>\n",
       "      <td>-10050.888878</td>\n",
       "      <td>53.236930</td>\n",
       "    </tr>\n",
       "    <tr>\n",
       "      <th>5</th>\n",
       "      <td>6.190509</td>\n",
       "      <td>0.412175</td>\n",
       "      <td>0.094518</td>\n",
       "      <td>0.003489</td>\n",
       "      <td>6</td>\n",
       "      <td>100</td>\n",
       "      <td>{'max_features': 6, 'n_estimators': 100}</td>\n",
       "      <td>-26638.976816</td>\n",
       "      <td>-26788.788847</td>\n",
       "      <td>-25955.770217</td>\n",
       "      <td>...</td>\n",
       "      <td>-26651.773066</td>\n",
       "      <td>426.577136</td>\n",
       "      <td>1</td>\n",
       "      <td>-9965.817051</td>\n",
       "      <td>-9939.742397</td>\n",
       "      <td>-10052.130218</td>\n",
       "      <td>-9923.475212</td>\n",
       "      <td>-9891.628780</td>\n",
       "      <td>-9954.558731</td>\n",
       "      <td>54.392706</td>\n",
       "    </tr>\n",
       "  </tbody>\n",
       "</table>\n",
       "<p>6 rows × 22 columns</p>\n",
       "</div>"
      ],
      "text/plain": [
       "   mean_fit_time  std_fit_time  mean_score_time  std_score_time  \\\n",
       "0       1.015878      0.011910         0.026853        0.000117   \n",
       "1       2.033810      0.018058         0.056591        0.001580   \n",
       "2       3.354058      0.020995         0.091381        0.000586   \n",
       "3       1.785465      0.009034         0.027146        0.000426   \n",
       "4       3.589964      0.021332         0.055305        0.001627   \n",
       "5       6.190509      0.412175         0.094518        0.003489   \n",
       "\n",
       "  param_max_features param_n_estimators  \\\n",
       "0                  3                 30   \n",
       "1                  3                 60   \n",
       "2                  3                100   \n",
       "3                  6                 30   \n",
       "4                  6                 60   \n",
       "5                  6                100   \n",
       "\n",
       "                                     params  split0_test_score  \\\n",
       "0   {'max_features': 3, 'n_estimators': 30}      -27762.360311   \n",
       "1   {'max_features': 3, 'n_estimators': 60}      -27477.698546   \n",
       "2  {'max_features': 3, 'n_estimators': 100}      -27205.534342   \n",
       "3   {'max_features': 6, 'n_estimators': 30}      -26716.858079   \n",
       "4   {'max_features': 6, 'n_estimators': 60}      -26643.897291   \n",
       "5  {'max_features': 6, 'n_estimators': 100}      -26638.976816   \n",
       "\n",
       "   split1_test_score  split2_test_score  ...  mean_test_score  std_test_score  \\\n",
       "0      -27715.248800      -27206.647604  ...    -27732.767043      323.218832   \n",
       "1      -27368.706971      -26784.756194  ...    -27420.992370      361.559239   \n",
       "2      -27309.959254      -26695.046296  ...    -27227.893535      303.462805   \n",
       "3      -27384.936320      -26306.750663  ...    -27035.828785      461.071076   \n",
       "4      -26873.970130      -26033.724839  ...    -26730.305712      426.526224   \n",
       "5      -26788.788847      -25955.770217  ...    -26651.773066      426.577136   \n",
       "\n",
       "   rank_test_score  split0_train_score  split1_train_score  \\\n",
       "0                6       -10705.530475       -10684.317746   \n",
       "1                5       -10364.760247       -10323.372642   \n",
       "2                4       -10147.904427       -10159.468974   \n",
       "3                3       -10366.453169       -10362.840435   \n",
       "4                2       -10045.265877        -9971.276826   \n",
       "5                1        -9965.817051        -9939.742397   \n",
       "\n",
       "   split2_train_score  split3_train_score  split4_train_score  \\\n",
       "0       -10788.457488       -10757.246925       -10558.292254   \n",
       "1       -10430.653535       -10429.822735       -10270.574931   \n",
       "2       -10170.703242       -10234.421363       -10100.075717   \n",
       "3       -10471.308291       -10437.736166       -10279.976550   \n",
       "4       -10128.118058       -10084.931485       -10024.852145   \n",
       "5       -10052.130218        -9923.475212        -9891.628780   \n",
       "\n",
       "   mean_train_score  std_train_score  \n",
       "0     -10698.768978        79.311998  \n",
       "1     -10363.836818        61.894421  \n",
       "2     -10162.514745        43.264266  \n",
       "3     -10383.662922        66.462383  \n",
       "4     -10050.888878        53.236930  \n",
       "5      -9954.558731        54.392706  \n",
       "\n",
       "[6 rows x 22 columns]"
      ]
     },
     "execution_count": 59,
     "metadata": {},
     "output_type": "execute_result"
    }
   ],
   "source": [
    "#dataframe for results\n",
    "rf_df=pd.DataFrame(gs_rf.cv_results_)\n",
    "rf_df"
   ]
  },
  {
   "cell_type": "code",
   "execution_count": 60,
   "id": "b7dc0784",
   "metadata": {},
   "outputs": [
    {
     "name": "stdout",
     "output_type": "stream",
     "text": [
      "27732.76704287111 {'max_features': 3, 'n_estimators': 30}\n",
      "27420.99237001905 {'max_features': 3, 'n_estimators': 60}\n",
      "27227.89353451269 {'max_features': 3, 'n_estimators': 100}\n",
      "27035.82878532859 {'max_features': 6, 'n_estimators': 30}\n",
      "26730.305711525398 {'max_features': 6, 'n_estimators': 60}\n",
      "26651.77306623778 {'max_features': 6, 'n_estimators': 100}\n"
     ]
    }
   ],
   "source": [
    "#printing the evaluation scores\n",
    "cvres=gs_rf.cv_results_\n",
    "for mean_score, params in zip(cvres['mean_test_score'], cvres['params']):\n",
    "    print((-mean_score), params)"
   ]
  },
  {
   "cell_type": "markdown",
   "id": "039ec360",
   "metadata": {},
   "source": [
    "### Important scores of each columns"
   ]
  },
  {
   "cell_type": "code",
   "execution_count": 61,
   "id": "06f58131",
   "metadata": {},
   "outputs": [
    {
     "data": {
      "text/plain": [
       "[(0.6229786377065225, 'Monthly Owner Cost'),\n",
       " (0.14892040127640524, 'Per Capita Income'),\n",
       " (0.07280713398058447, 'Lng'),\n",
       " (0.052997166099288, 'Household Income'),\n",
       " (0.02310160893439106, 'College Rate'),\n",
       " (0.01794651016471623, 'High School Rate'),\n",
       " (0.01756916327055801, 'Lat'),\n",
       " (0.01449916119132402, 'Personal Transport Rate'),\n",
       " (0.010719432514357887, 'Median Age'),\n",
       " (0.009291980938574617, 'Public Transport Rate'),\n",
       " (0.009168803923277933, 'Population')]"
      ]
     },
     "execution_count": 61,
     "metadata": {},
     "output_type": "execute_result"
    }
   ],
   "source": [
    "feature_importances=rf_b.feature_importances_\n",
    "col=X.columns\n",
    "sorted(zip(feature_importances, col), reverse=True)"
   ]
  },
  {
   "cell_type": "markdown",
   "id": "6c0da5dc",
   "metadata": {},
   "source": [
    "## Predicting on Test set"
   ]
  },
  {
   "cell_type": "code",
   "execution_count": 62,
   "id": "99d8d32a",
   "metadata": {},
   "outputs": [],
   "source": [
    "#Testing the model in test data\n",
    "y_pred_lr=lr.predict(scaled_X_test)     #linear \n",
    "y_pred_lrl=lrl.predict(scaled_X_test)   #lasso\n",
    "y_pred_lrr=lrr.predict(scaled_X_test)   #Ridge\n",
    "y_pred_svm=svm.predict(scaled_X_test)   #svm\n",
    "y_pred_dt=dt_b.predict(scaled_X_test)   #Dicision tree\n",
    "y_pred_rf=rf_b.predict(scaled_X_test)   #Random forest"
   ]
  },
  {
   "cell_type": "markdown",
   "id": "53b1b2c8",
   "metadata": {},
   "source": [
    "### R2_score"
   ]
  },
  {
   "cell_type": "code",
   "execution_count": 63,
   "id": "738c27ca",
   "metadata": {},
   "outputs": [
    {
     "name": "stdout",
     "output_type": "stream",
     "text": [
      "The r2_score of linear regression is 0.8384201779423417\n",
      "The r2_score of lasso regression is 0.8384193863936207\n",
      "The r2_score of Ridge regression is -6.152493009518381\n",
      "The r2_score of SVM regression is -0.9768562069368107\n",
      "The r2_score of decision tree regression is 0.8874551580160304\n",
      "The r2_score of random forest regression is 0.925634675637727\n"
     ]
    }
   ],
   "source": [
    "#regression matrices-mean absolute error(give you the prediction error)\n",
    "lin_r2_lr=r2_score(y_test, y_pred_lr)\n",
    "print(f'The r2_score of linear regression is {lin_r2_lr}')\n",
    "\n",
    "lin_r2_lrl=r2_score(y_test, y_pred_lrl)\n",
    "print(f'The r2_score of lasso regression is {lin_r2_lrl}')\n",
    "\n",
    "lin_r2_lrr=r2_score(y_test, y_pred_lrr)\n",
    "print(f'The r2_score of Ridge regression is {lin_r2_lrr}')\n",
    "\n",
    "lin_r2_svm=r2_score(y_test, y_pred_svm)\n",
    "print(f'The r2_score of SVM regression is {lin_r2_svm}')\n",
    "\n",
    "lin_r2_dt=r2_score(y_test, y_pred_dt)\n",
    "print(f'The r2_score of decision tree regression is {lin_r2_dt}')\n",
    "\n",
    "lin_r2_rf=r2_score(y_test, y_pred_rf)\n",
    "print(f'The r2_score of random forest regression is {lin_r2_rf}')\n"
   ]
  },
  {
   "cell_type": "markdown",
   "id": "ad3eb8fe",
   "metadata": {},
   "source": [
    "### Mean Absolute Error"
   ]
  },
  {
   "cell_type": "code",
   "execution_count": 64,
   "id": "c4ff53f1",
   "metadata": {},
   "outputs": [
    {
     "name": "stdout",
     "output_type": "stream",
     "text": [
      "The mean absoulte error of linear regression is 45391.51127805712\n",
      "The mean absoulte error of lasso regression is 45384.6376905644\n",
      "The mean absoulte error of Ridge regression is 478176.96694990434\n",
      "The mean absoulte error of SVM regression is 190481.49558414207\n",
      "The mean absoulte error of decision tree regression is 34313.71103453668\n",
      "The mean absoulte error of random forest regression is 27133.773323164914\n"
     ]
    }
   ],
   "source": [
    "#regression matrices-mean absolute error(give you the prediction error)\n",
    "lin_mae_lr=mean_absolute_error(y_test, y_pred_lr)\n",
    "print(f'The mean absoulte error of linear regression is {lin_mae_lr}')\n",
    "\n",
    "lin_mae_lrl=mean_absolute_error(y_test, y_pred_lrl)\n",
    "print(f'The mean absoulte error of lasso regression is {lin_mae_lrl}')\n",
    "\n",
    "lin_mae_lrr=mean_absolute_error(y_test, y_pred_lrr)\n",
    "print(f'The mean absoulte error of Ridge regression is {lin_mae_lrr}')\n",
    "\n",
    "lin_mae_svm=mean_absolute_error(y_test, y_pred_svm)\n",
    "print(f'The mean absoulte error of SVM regression is {lin_mae_svm}')\n",
    "\n",
    "lin_mae_dt=mean_absolute_error(y_test, y_pred_dt)\n",
    "print(f'The mean absoulte error of decision tree regression is {lin_mae_dt}')\n",
    "\n",
    "lin_mae_rf=mean_absolute_error(y_test, y_pred_rf)\n",
    "print(f'The mean absoulte error of random forest regression is {lin_mae_rf}')\n"
   ]
  },
  {
   "cell_type": "markdown",
   "id": "1a7de10f",
   "metadata": {},
   "source": [
    "### Root Mean Squared Error"
   ]
  },
  {
   "cell_type": "code",
   "execution_count": 65,
   "id": "c28e812e",
   "metadata": {},
   "outputs": [
    {
     "name": "stdout",
     "output_type": "stream",
     "text": [
      "The mean squared error of linear regression is 77458.94583201356\n",
      "The mean squared error of lasso regression is 77459.13556007996\n",
      "The mean squared error of ridge regression is 515355.2925244246\n",
      "The mean squared error of SVM regression is 270935.2794640674\n",
      "The mean squared error of decision tree regression is 64645.874880476185\n",
      "The mean squared error of random forest regression is 52548.855025941135\n"
     ]
    }
   ],
   "source": [
    "#regression matrices-mean squared error(give you the prediction error)\n",
    "lin_mse_lr=mean_squared_error(y_test, y_pred_lr)\n",
    "lin_rmse_lr=np.sqrt(lin_mse_lr)\n",
    "print(f'The mean squared error of linear regression is {lin_rmse_lr}')\n",
    "\n",
    "lin_mse_lrl=mean_squared_error(y_test, y_pred_lrl)\n",
    "lin_rmse_lrl=np.sqrt(lin_mse_lrl)\n",
    "print(f'The mean squared error of lasso regression is {lin_rmse_lrl}')\n",
    "\n",
    "lin_mse_lrr=mean_squared_error(y_test, y_pred_lrr)\n",
    "lin_rmse_lrr=np.sqrt(lin_mse_lrr)\n",
    "print(f'The mean squared error of ridge regression is {lin_rmse_lrr}')\n",
    "\n",
    "lin_mse_svm=mean_squared_error(y_test, y_pred_svm)\n",
    "lin_rmse_svm=np.sqrt(lin_mse_svm)\n",
    "print(f'The mean squared error of SVM regression is {lin_rmse_svm}')\n",
    "\n",
    "lin_mse_dt=mean_squared_error(y_test, y_pred_dt)\n",
    "lin_rmse_dt=np.sqrt(lin_mse_dt)\n",
    "print(f'The mean squared error of decision tree regression is {lin_rmse_dt}')\n",
    "\n",
    "lin_mse_rf=mean_squared_error(y_test, y_pred_rf)\n",
    "lin_rmse_rf=np.sqrt(lin_mse_rf)\n",
    "print(f'The mean squared error of random forest regression is {lin_rmse_rf}')"
   ]
  },
  {
   "cell_type": "markdown",
   "id": "3605326f",
   "metadata": {},
   "source": [
    "### Actual and predicted house rate --best model( RandomForest Regressor)"
   ]
  },
  {
   "cell_type": "code",
   "execution_count": 66,
   "id": "9df330ba",
   "metadata": {},
   "outputs": [
    {
     "data": {
      "text/html": [
       "<div>\n",
       "<style scoped>\n",
       "    .dataframe tbody tr th:only-of-type {\n",
       "        vertical-align: middle;\n",
       "    }\n",
       "\n",
       "    .dataframe tbody tr th {\n",
       "        vertical-align: top;\n",
       "    }\n",
       "\n",
       "    .dataframe thead th {\n",
       "        text-align: right;\n",
       "    }\n",
       "</style>\n",
       "<table border=\"1\" class=\"dataframe\">\n",
       "  <thead>\n",
       "    <tr style=\"text-align: right;\">\n",
       "      <th></th>\n",
       "      <th>Actual House Value</th>\n",
       "      <th>Random Forest Predicted House Value</th>\n",
       "      <th>Linear Reg Predicted House Value</th>\n",
       "      <th>Lasso Reg Predicted House Value</th>\n",
       "      <th>Ridge Reg Predicted House Value</th>\n",
       "      <th>Decesion Tree Predicted House Value</th>\n",
       "      <th>SVM Predicted House Value</th>\n",
       "    </tr>\n",
       "    <tr>\n",
       "      <th>City</th>\n",
       "      <th></th>\n",
       "      <th></th>\n",
       "      <th></th>\n",
       "      <th></th>\n",
       "      <th></th>\n",
       "      <th></th>\n",
       "      <th></th>\n",
       "    </tr>\n",
       "  </thead>\n",
       "  <tbody>\n",
       "    <tr>\n",
       "      <th>Bristol</th>\n",
       "      <td>179900.0</td>\n",
       "      <td>156010.0</td>\n",
       "      <td>126194.356363</td>\n",
       "      <td>126273.012635</td>\n",
       "      <td>-270817.959055</td>\n",
       "      <td>158219.545455</td>\n",
       "      <td>20961.995932</td>\n",
       "    </tr>\n",
       "    <tr>\n",
       "      <th>Milford</th>\n",
       "      <td>230500.0</td>\n",
       "      <td>232736.0</td>\n",
       "      <td>244240.716792</td>\n",
       "      <td>244259.451427</td>\n",
       "      <td>-269915.898449</td>\n",
       "      <td>252072.431078</td>\n",
       "      <td>20998.357916</td>\n",
       "    </tr>\n",
       "    <tr>\n",
       "      <th>Mukwonago</th>\n",
       "      <td>293900.0</td>\n",
       "      <td>264263.0</td>\n",
       "      <td>291680.687706</td>\n",
       "      <td>291732.637730</td>\n",
       "      <td>-270580.198353</td>\n",
       "      <td>288200.000000</td>\n",
       "      <td>20997.074571</td>\n",
       "    </tr>\n",
       "    <tr>\n",
       "      <th>Purvis</th>\n",
       "      <td>157200.0</td>\n",
       "      <td>143357.0</td>\n",
       "      <td>139587.330258</td>\n",
       "      <td>139619.944650</td>\n",
       "      <td>-264565.229587</td>\n",
       "      <td>140550.727449</td>\n",
       "      <td>20958.056641</td>\n",
       "    </tr>\n",
       "    <tr>\n",
       "      <th>Wilson</th>\n",
       "      <td>82100.0</td>\n",
       "      <td>72785.0</td>\n",
       "      <td>101869.162827</td>\n",
       "      <td>101890.779238</td>\n",
       "      <td>-265280.621329</td>\n",
       "      <td>84646.820809</td>\n",
       "      <td>20976.031113</td>\n",
       "    </tr>\n",
       "    <tr>\n",
       "      <th>...</th>\n",
       "      <td>...</td>\n",
       "      <td>...</td>\n",
       "      <td>...</td>\n",
       "      <td>...</td>\n",
       "      <td>...</td>\n",
       "      <td>...</td>\n",
       "      <td>...</td>\n",
       "    </tr>\n",
       "    <tr>\n",
       "      <th>Hoodsport</th>\n",
       "      <td>174900.0</td>\n",
       "      <td>182526.0</td>\n",
       "      <td>221043.343631</td>\n",
       "      <td>220933.860132</td>\n",
       "      <td>-261501.649115</td>\n",
       "      <td>154790.116279</td>\n",
       "      <td>20993.663810</td>\n",
       "    </tr>\n",
       "    <tr>\n",
       "      <th>Leicester</th>\n",
       "      <td>262000.0</td>\n",
       "      <td>232698.0</td>\n",
       "      <td>223904.421604</td>\n",
       "      <td>223960.290008</td>\n",
       "      <td>-271594.716081</td>\n",
       "      <td>252072.431078</td>\n",
       "      <td>20986.535411</td>\n",
       "    </tr>\n",
       "    <tr>\n",
       "      <th>Whitewater</th>\n",
       "      <td>166400.0</td>\n",
       "      <td>141618.0</td>\n",
       "      <td>176584.679936</td>\n",
       "      <td>176642.653945</td>\n",
       "      <td>-267992.586123</td>\n",
       "      <td>185289.811321</td>\n",
       "      <td>20930.881934</td>\n",
       "    </tr>\n",
       "    <tr>\n",
       "      <th>Taylor</th>\n",
       "      <td>164600.0</td>\n",
       "      <td>156789.0</td>\n",
       "      <td>173167.517293</td>\n",
       "      <td>173275.784436</td>\n",
       "      <td>-266572.852322</td>\n",
       "      <td>158219.545455</td>\n",
       "      <td>20986.085031</td>\n",
       "    </tr>\n",
       "    <tr>\n",
       "      <th>Kincaid</th>\n",
       "      <td>112500.0</td>\n",
       "      <td>101407.0</td>\n",
       "      <td>156166.128427</td>\n",
       "      <td>156141.565851</td>\n",
       "      <td>-265351.237129</td>\n",
       "      <td>108346.153846</td>\n",
       "      <td>20946.927982</td>\n",
       "    </tr>\n",
       "  </tbody>\n",
       "</table>\n",
       "<p>5245 rows × 7 columns</p>\n",
       "</div>"
      ],
      "text/plain": [
       "            Actual House Value  Random Forest Predicted House Value  \\\n",
       "City                                                                  \n",
       "Bristol               179900.0                             156010.0   \n",
       "Milford               230500.0                             232736.0   \n",
       "Mukwonago             293900.0                             264263.0   \n",
       "Purvis                157200.0                             143357.0   \n",
       "Wilson                 82100.0                              72785.0   \n",
       "...                        ...                                  ...   \n",
       "Hoodsport             174900.0                             182526.0   \n",
       "Leicester             262000.0                             232698.0   \n",
       "Whitewater            166400.0                             141618.0   \n",
       "Taylor                164600.0                             156789.0   \n",
       "Kincaid               112500.0                             101407.0   \n",
       "\n",
       "            Linear Reg Predicted House Value  Lasso Reg Predicted House Value  \\\n",
       "City                                                                            \n",
       "Bristol                        126194.356363                    126273.012635   \n",
       "Milford                        244240.716792                    244259.451427   \n",
       "Mukwonago                      291680.687706                    291732.637730   \n",
       "Purvis                         139587.330258                    139619.944650   \n",
       "Wilson                         101869.162827                    101890.779238   \n",
       "...                                      ...                              ...   \n",
       "Hoodsport                      221043.343631                    220933.860132   \n",
       "Leicester                      223904.421604                    223960.290008   \n",
       "Whitewater                     176584.679936                    176642.653945   \n",
       "Taylor                         173167.517293                    173275.784436   \n",
       "Kincaid                        156166.128427                    156141.565851   \n",
       "\n",
       "            Ridge Reg Predicted House Value  \\\n",
       "City                                          \n",
       "Bristol                      -270817.959055   \n",
       "Milford                      -269915.898449   \n",
       "Mukwonago                    -270580.198353   \n",
       "Purvis                       -264565.229587   \n",
       "Wilson                       -265280.621329   \n",
       "...                                     ...   \n",
       "Hoodsport                    -261501.649115   \n",
       "Leicester                    -271594.716081   \n",
       "Whitewater                   -267992.586123   \n",
       "Taylor                       -266572.852322   \n",
       "Kincaid                      -265351.237129   \n",
       "\n",
       "            Decesion Tree Predicted House Value  SVM Predicted House Value  \n",
       "City                                                                        \n",
       "Bristol                           158219.545455               20961.995932  \n",
       "Milford                           252072.431078               20998.357916  \n",
       "Mukwonago                         288200.000000               20997.074571  \n",
       "Purvis                            140550.727449               20958.056641  \n",
       "Wilson                             84646.820809               20976.031113  \n",
       "...                                         ...                        ...  \n",
       "Hoodsport                         154790.116279               20993.663810  \n",
       "Leicester                         252072.431078               20986.535411  \n",
       "Whitewater                        185289.811321               20930.881934  \n",
       "Taylor                            158219.545455               20986.085031  \n",
       "Kincaid                           108346.153846               20946.927982  \n",
       "\n",
       "[5245 rows x 7 columns]"
      ]
     },
     "execution_count": 66,
     "metadata": {},
     "output_type": "execute_result"
    }
   ],
   "source": [
    "#Actual and predicated value of house using our best model\n",
    "house_value=pd.DataFrame({'Actual House Value':y_test, \n",
    "                'Random Forest Predicted House Value':y_pred_rf,\n",
    "                'Linear Reg Predicted House Value':y_pred_lr,\n",
    "                'Lasso Reg Predicted House Value':y_pred_lrl,\n",
    "                'Ridge Reg Predicted House Value':y_pred_lrr,       \n",
    "                'Decesion Tree Predicted House Value':y_pred_dt,\n",
    "                 'SVM Predicted House Value':y_pred_svm},index=test_index)\n",
    "house_value"
   ]
  },
  {
   "cell_type": "markdown",
   "id": "b7238e17",
   "metadata": {},
   "source": [
    "## Evaluation metrices of differnt models"
   ]
  },
  {
   "cell_type": "code",
   "execution_count": 67,
   "id": "bc79da2b",
   "metadata": {},
   "outputs": [
    {
     "data": {
      "text/html": [
       "<div>\n",
       "<style scoped>\n",
       "    .dataframe tbody tr th:only-of-type {\n",
       "        vertical-align: middle;\n",
       "    }\n",
       "\n",
       "    .dataframe tbody tr th {\n",
       "        vertical-align: top;\n",
       "    }\n",
       "\n",
       "    .dataframe thead th {\n",
       "        text-align: right;\n",
       "    }\n",
       "</style>\n",
       "<table border=\"1\" class=\"dataframe\">\n",
       "  <thead>\n",
       "    <tr style=\"text-align: right;\">\n",
       "      <th></th>\n",
       "      <th>Linear Reg</th>\n",
       "      <th>Lasso Reg</th>\n",
       "      <th>Ridge Reg</th>\n",
       "      <th>SVM Reg</th>\n",
       "      <th>Decision Tree</th>\n",
       "      <th>Random Forest</th>\n",
       "    </tr>\n",
       "  </thead>\n",
       "  <tbody>\n",
       "    <tr>\n",
       "      <th>R2</th>\n",
       "      <td>0.838420</td>\n",
       "      <td>0.838419</td>\n",
       "      <td>-6.152493</td>\n",
       "      <td>-0.976856</td>\n",
       "      <td>0.887455</td>\n",
       "      <td>0.925635</td>\n",
       "    </tr>\n",
       "    <tr>\n",
       "      <th>Mean Absolute Error</th>\n",
       "      <td>45391.511278</td>\n",
       "      <td>45384.637691</td>\n",
       "      <td>478176.966950</td>\n",
       "      <td>190481.495584</td>\n",
       "      <td>34313.711035</td>\n",
       "      <td>27133.773323</td>\n",
       "    </tr>\n",
       "    <tr>\n",
       "      <th>Root Mean Squared Error</th>\n",
       "      <td>77458.945832</td>\n",
       "      <td>77459.135560</td>\n",
       "      <td>515355.292524</td>\n",
       "      <td>270935.279464</td>\n",
       "      <td>64645.874880</td>\n",
       "      <td>52548.855026</td>\n",
       "    </tr>\n",
       "  </tbody>\n",
       "</table>\n",
       "</div>"
      ],
      "text/plain": [
       "                           Linear Reg     Lasso Reg      Ridge Reg  \\\n",
       "R2                           0.838420      0.838419      -6.152493   \n",
       "Mean Absolute Error      45391.511278  45384.637691  478176.966950   \n",
       "Root Mean Squared Error  77458.945832  77459.135560  515355.292524   \n",
       "\n",
       "                               SVM Reg  Decision Tree  Random Forest  \n",
       "R2                           -0.976856       0.887455       0.925635  \n",
       "Mean Absolute Error      190481.495584   34313.711035   27133.773323  \n",
       "Root Mean Squared Error  270935.279464   64645.874880   52548.855026  "
      ]
     },
     "execution_count": 67,
     "metadata": {},
     "output_type": "execute_result"
    }
   ],
   "source": [
    "#making dataframe on evaluation metrices\n",
    "evaluation_df=pd.DataFrame({'Linear Reg':[lin_r2_lr,lin_mae_lr,lin_rmse_lr],\n",
    "                           'Lasso Reg':[lin_r2_lrl,lin_mae_lrl,lin_rmse_lrl],\n",
    "                            'Ridge Reg':[lin_r2_lrr,lin_mae_lrr,lin_rmse_lrr],\n",
    "                            'SVM Reg':[lin_r2_svm,lin_mae_svm,lin_rmse_svm],\n",
    "                           'Decision Tree':[lin_r2_dt,lin_mae_dt,lin_rmse_dt],\n",
    "                            'Random Forest':[lin_r2_rf,lin_mae_rf,lin_rmse_rf]}\n",
    "                           ,index=['R2','Mean Absolute Error',\n",
    "                                    'Root Mean Squared Error'])\n",
    "evaluation_df"
   ]
  },
  {
   "cell_type": "markdown",
   "id": "227f25a1",
   "metadata": {},
   "source": [
    "## Saving the best model"
   ]
  },
  {
   "cell_type": "code",
   "execution_count": 68,
   "id": "29570008",
   "metadata": {},
   "outputs": [
    {
     "data": {
      "text/plain": [
       "['model.pkl']"
      ]
     },
     "execution_count": 68,
     "metadata": {},
     "output_type": "execute_result"
    }
   ],
   "source": [
    "import joblib\n",
    "joblib.dump(rf_b, 'model.pkl')"
   ]
  },
  {
   "cell_type": "markdown",
   "id": "c81ad109",
   "metadata": {},
   "source": [
    "## 95% confidence interval for the test MAE:"
   ]
  },
  {
   "cell_type": "code",
   "execution_count": 69,
   "id": "43b511d7",
   "metadata": {},
   "outputs": [
    {
     "data": {
      "text/plain": [
       "(32830.51815702099, 35796.903912052374)"
      ]
     },
     "execution_count": 69,
     "metadata": {},
     "output_type": "execute_result"
    }
   ],
   "source": [
    "#95% confident level\n",
    "confidence = 0.95\n",
    "errors = np.abs((y_pred_dt - y_test)) \n",
    "stats.t.interval(confidence, len(errors) - 1,\n",
    "                         loc=errors.mean(),\n",
    "                         scale=stats.sem(errors))"
   ]
  },
  {
   "cell_type": "markdown",
   "id": "a501b624",
   "metadata": {},
   "source": [
    "# Predecting the house value of 2017 census data from our best model- Random Forest"
   ]
  },
  {
   "cell_type": "code",
   "execution_count": 92,
   "id": "23f5134d",
   "metadata": {},
   "outputs": [
    {
     "data": {
      "text/plain": [
       "Index(['County', 'State', 'Population', 'Median Age', 'Household Income',\n",
       "       'Per Capita Income', 'Poverty Rate', 'Unemployment Rate', 'House Value',\n",
       "       'House Construction Year', 'Monthly Owner Cost', 'Monthly Rent',\n",
       "       'Public Transport Rate', 'Personal Transport Rate', 'High School Rate',\n",
       "       'College Rate', 'Uneducated Rate', 'White Population Rate',\n",
       "       'Black Population Rate', 'Hispanic Population Rate',\n",
       "       'Asian Population Rate', 'City', 'Lat', 'Lng', 'Housing_units'],\n",
       "      dtype='object')"
      ]
     },
     "execution_count": 92,
     "metadata": {},
     "output_type": "execute_result"
    }
   ],
   "source": [
    "# 2017 usa cleaned data for machine learning\n",
    "path_2017=os.path.join('output_census', 'usa_2017_ml.csv')\n",
    "usa_17=pd.read_csv(path_2017)\n",
    "usa_17.columns"
   ]
  },
  {
   "cell_type": "code",
   "execution_count": 71,
   "id": "579d1467",
   "metadata": {},
   "outputs": [],
   "source": [
    "#choosing only important columns\n",
    "usa_2017=usa_17[[ 'City','House Value','Monthly Owner Cost','Per Capita Income','Lng',\n",
    " 'Household Income','College Rate','Lat',\n",
    "  'Personal Transport Rate','High School Rate','Median Age',\n",
    " 'Public Transport Rate','Population']]"
   ]
  },
  {
   "cell_type": "code",
   "execution_count": 72,
   "id": "f56adde9",
   "metadata": {},
   "outputs": [],
   "source": [
    "#seting city as a index\n",
    "usa_2017.set_index('City', inplace=True)"
   ]
  },
  {
   "cell_type": "markdown",
   "id": "2c9061a8",
   "metadata": {},
   "source": [
    "#### Prepare a feature matrix (X) and response (y)  for scikit-learn."
   ]
  },
  {
   "cell_type": "code",
   "execution_count": 73,
   "id": "144971d3",
   "metadata": {},
   "outputs": [],
   "source": [
    "# create feature matrix (X)\n",
    "#selecting all columns except 'House Value'\n",
    "X_2017=usa_2017.drop('House Value', axis=1) \n",
    "\n",
    "# create response vector (y)\n",
    "##selecting 'House Value'\n",
    "y_2017=usa_2017['House Value'].values  "
   ]
  },
  {
   "cell_type": "markdown",
   "id": "c382cf97",
   "metadata": {},
   "source": [
    "#### Scaling using standard scaler on feature matrix (X) "
   ]
  },
  {
   "cell_type": "code",
   "execution_count": 74,
   "id": "19f19d87",
   "metadata": {},
   "outputs": [],
   "source": [
    "#Different columns have differnt scale so standrazied it \n",
    "#features scaling using standard scaler on x only\n",
    "from sklearn.preprocessing import StandardScaler\n",
    "std_scaler=StandardScaler()\n",
    "scaled_X_2017=std_scaler.fit_transform(X_2017)"
   ]
  },
  {
   "cell_type": "code",
   "execution_count": 75,
   "id": "0c49c23e",
   "metadata": {},
   "outputs": [
    {
     "name": "stdout",
     "output_type": "stream",
     "text": [
      "(26457, 11)\n",
      "(26457,)\n"
     ]
    }
   ],
   "source": [
    "#shape of the X and y\n",
    "print(scaled_X_2017.shape)\n",
    "print(y_2017.shape)"
   ]
  },
  {
   "cell_type": "markdown",
   "id": "253f3306",
   "metadata": {},
   "source": [
    "#### Predcting the house value using our best model Random Forest Regressor"
   ]
  },
  {
   "cell_type": "code",
   "execution_count": 76,
   "id": "0018555c",
   "metadata": {},
   "outputs": [],
   "source": [
    "#predecting house value using random forest model\n",
    "y_pred=rf_b.predict(scaled_X_2017) "
   ]
  },
  {
   "cell_type": "code",
   "execution_count": 77,
   "id": "bd8f1761",
   "metadata": {},
   "outputs": [
    {
     "name": "stdout",
     "output_type": "stream",
     "text": [
      "The mean absoulte error of our best model for 2017 census data is 27599.465092414102\n",
      "The mean squared error of our best model for 2017 census data is 46529.53053923243\n"
     ]
    }
   ],
   "source": [
    "#regression matrices-mean absolute error(give you the prediction error)\n",
    "mae=mean_absolute_error(y_2017, y_pred)\n",
    "print(f'The mean absoulte error of our best model for 2017 census data is {mae}')\n",
    "\n",
    "#regression matrices-mean squared error(give you the prediction error)\n",
    "mse=mean_squared_error(y_2017, y_pred)\n",
    "rmse=np.sqrt(mse)\n",
    "print(f'The mean squared error of our best model for 2017 census data is {rmse}')"
   ]
  },
  {
   "cell_type": "code",
   "execution_count": 96,
   "id": "1d3869c9",
   "metadata": {},
   "outputs": [
    {
     "data": {
      "text/html": [
       "<div>\n",
       "<style scoped>\n",
       "    .dataframe tbody tr th:only-of-type {\n",
       "        vertical-align: middle;\n",
       "    }\n",
       "\n",
       "    .dataframe tbody tr th {\n",
       "        vertical-align: top;\n",
       "    }\n",
       "\n",
       "    .dataframe thead th {\n",
       "        text-align: right;\n",
       "    }\n",
       "</style>\n",
       "<table border=\"1\" class=\"dataframe\">\n",
       "  <thead>\n",
       "    <tr style=\"text-align: right;\">\n",
       "      <th></th>\n",
       "      <th>ActualHouseValue</th>\n",
       "      <th>RandomForestPredictedHouseValue</th>\n",
       "      <th>Lat</th>\n",
       "      <th>Lng</th>\n",
       "    </tr>\n",
       "    <tr>\n",
       "      <th>City</th>\n",
       "      <th></th>\n",
       "      <th></th>\n",
       "      <th></th>\n",
       "      <th></th>\n",
       "    </tr>\n",
       "  </thead>\n",
       "  <tbody>\n",
       "    <tr>\n",
       "      <th>Aguada</th>\n",
       "      <td>87300.0</td>\n",
       "      <td>96130.0</td>\n",
       "      <td>18.36</td>\n",
       "      <td>-67.18</td>\n",
       "    </tr>\n",
       "    <tr>\n",
       "      <th>Aguadilla</th>\n",
       "      <td>122300.0</td>\n",
       "      <td>110964.0</td>\n",
       "      <td>18.45</td>\n",
       "      <td>-67.11</td>\n",
       "    </tr>\n",
       "    <tr>\n",
       "      <th>Maricao</th>\n",
       "      <td>92700.0</td>\n",
       "      <td>83879.0</td>\n",
       "      <td>18.20</td>\n",
       "      <td>-66.90</td>\n",
       "    </tr>\n",
       "    <tr>\n",
       "      <th>Anasco</th>\n",
       "      <td>90300.0</td>\n",
       "      <td>91699.0</td>\n",
       "      <td>18.28</td>\n",
       "      <td>-67.13</td>\n",
       "    </tr>\n",
       "    <tr>\n",
       "      <th>Arecibo</th>\n",
       "      <td>97300.0</td>\n",
       "      <td>102105.0</td>\n",
       "      <td>18.40</td>\n",
       "      <td>-66.68</td>\n",
       "    </tr>\n",
       "    <tr>\n",
       "      <th>...</th>\n",
       "      <td>...</td>\n",
       "      <td>...</td>\n",
       "      <td>...</td>\n",
       "      <td>...</td>\n",
       "    </tr>\n",
       "    <tr>\n",
       "      <th>Craig</th>\n",
       "      <td>225700.0</td>\n",
       "      <td>250110.0</td>\n",
       "      <td>55.49</td>\n",
       "      <td>-133.13</td>\n",
       "    </tr>\n",
       "    <tr>\n",
       "      <th>Hydaburg</th>\n",
       "      <td>90700.0</td>\n",
       "      <td>88034.0</td>\n",
       "      <td>55.20</td>\n",
       "      <td>-132.90</td>\n",
       "    </tr>\n",
       "    <tr>\n",
       "      <th>Klawock</th>\n",
       "      <td>160900.0</td>\n",
       "      <td>187490.0</td>\n",
       "      <td>55.55</td>\n",
       "      <td>-133.08</td>\n",
       "    </tr>\n",
       "    <tr>\n",
       "      <th>Metlakatla</th>\n",
       "      <td>122600.0</td>\n",
       "      <td>194480.0</td>\n",
       "      <td>55.10</td>\n",
       "      <td>-131.40</td>\n",
       "    </tr>\n",
       "    <tr>\n",
       "      <th>Wrangell</th>\n",
       "      <td>195900.0</td>\n",
       "      <td>219620.0</td>\n",
       "      <td>56.00</td>\n",
       "      <td>-132.00</td>\n",
       "    </tr>\n",
       "  </tbody>\n",
       "</table>\n",
       "<p>26457 rows × 4 columns</p>\n",
       "</div>"
      ],
      "text/plain": [
       "            ActualHouseValue  RandomForestPredictedHouseValue    Lat     Lng\n",
       "City                                                                        \n",
       "Aguada               87300.0                          96130.0  18.36  -67.18\n",
       "Aguadilla           122300.0                         110964.0  18.45  -67.11\n",
       "Maricao              92700.0                          83879.0  18.20  -66.90\n",
       "Anasco               90300.0                          91699.0  18.28  -67.13\n",
       "Arecibo              97300.0                         102105.0  18.40  -66.68\n",
       "...                      ...                              ...    ...     ...\n",
       "Craig               225700.0                         250110.0  55.49 -133.13\n",
       "Hydaburg             90700.0                          88034.0  55.20 -132.90\n",
       "Klawock             160900.0                         187490.0  55.55 -133.08\n",
       "Metlakatla          122600.0                         194480.0  55.10 -131.40\n",
       "Wrangell            195900.0                         219620.0  56.00 -132.00\n",
       "\n",
       "[26457 rows x 4 columns]"
      ]
     },
     "execution_count": 96,
     "metadata": {},
     "output_type": "execute_result"
    }
   ],
   "source": [
    "#Actual and predicated value of house using our best model\n",
    "house_value_2017=pd.DataFrame({'ActualHouseValue':y_2017, \n",
    "                'RandomForestPredictedHouseValue':y_pred,\n",
    "                            \"Lat\":usa_2017['Lat'],\"Lng\":usa_2017['Lng']},index=usa_2017.index)\n",
    "house_value_2017"
   ]
  },
  {
   "cell_type": "code",
   "execution_count": 97,
   "id": "51947f5c",
   "metadata": {},
   "outputs": [],
   "source": [
    "house_2017=house_value_2017.reset_index()\n",
    "house_2017.to_csv('output_census/predict.csv', index=False)"
   ]
  },
  {
   "cell_type": "markdown",
   "id": "d2585f73",
   "metadata": {},
   "source": [
    "## Plotting predected and actual house value"
   ]
  },
  {
   "cell_type": "code",
   "execution_count": 80,
   "id": "f44f2928",
   "metadata": {},
   "outputs": [],
   "source": [
    "#setting background of figure \n",
    "plt.style.use('ggplot')"
   ]
  },
  {
   "cell_type": "code",
   "execution_count": 81,
   "id": "ab510e60",
   "metadata": {},
   "outputs": [],
   "source": [
    "#Set Fonts/Plot Style\n",
    "rcParams['figure.figsize'] = [15.0, 10.0]\n",
    "rcParams['figure.dpi'] = 80\n",
    "rcParams['savefig.dpi'] = 100\n",
    "rcParams['font.size'] = 20\n",
    "rcParams['legend.fontsize'] = 'large'\n",
    "rcParams['figure.titlesize'] = 'medium'\n",
    "rcParams['font.family'] = 'sans-serif'\n",
    "rcParams['font.sans-serif'] = ['Arial']\n",
    "rcParams['xtick.direction'] = 'in'\n",
    "rcParams['ytick.direction'] = 'in'\n",
    "rcParams['xtick.top'] = True\n",
    "rcParams['ytick.right'] = True\n",
    "rcParams['xtick.major.size'] = 10\n",
    "rcParams['ytick.major.size'] = 10\n",
    "rcParams['xtick.minor.size'] = 5\n",
    "rcParams['ytick.minor.size'] = 5\n",
    "rcParams['xtick.minor.visible'] = True\n",
    "rcParams['ytick.minor.visible'] = True"
   ]
  },
  {
   "cell_type": "code",
   "execution_count": 82,
   "id": "1d3aacf5",
   "metadata": {},
   "outputs": [
    {
     "data": {
      "image/png": "[encoded data removed]",
      "text/plain": [
       "<Figure size 1200x800 with 1 Axes>"
      ]
     },
     "metadata": {},
     "output_type": "display_data"
    }
   ],
   "source": [
    "#plotting histrogram\n",
    "fig,ax=plt.subplots()\n",
    "sns.histplot(data=house_value_2017,fill=True,\n",
    "             kde=True,alpha=0.8,ax=ax)\n",
    "fig.savefig('figures/modelhist.png')\n",
    "plt.show()"
   ]
  },
  {
   "cell_type": "code",
   "execution_count": 83,
   "id": "e839a79a",
   "metadata": {},
   "outputs": [
    {
     "data": {
      "image/png": "[encoded data removed]",
      "text/plain": [
       "<Figure size 1200x800 with 1 Axes>"
      ]
     },
     "metadata": {},
     "output_type": "display_data"
    }
   ],
   "source": [
    "#plotting distplot using seaborn\n",
    "warnings.filterwarnings(\"ignore\")\n",
    "fig, ax=plt.subplots()\n",
    "sns.distplot(house_value_2017['Actual House Value'],\n",
    "             bins=30,kde_kws={\"color\": \"r\", \"lw\": 3, \"label\": '2017 Actual Value'}\n",
    "             ,rug=False, kde=True,fit=stats.norm, ax=ax)\n",
    "sns.distplot(house_value_2017['Random Forest Predicted House Value'], \n",
    "             bins=30,kde_kws={\"color\": \"b\", \"lw\": 3, \"label\": '2017 Predicted Value'},\n",
    "             fit=stats.norm, ax=ax)\n",
    "ax.legend()\n",
    "ax.set_xlabel('House Value')\n",
    "fig.savefig('figures/modelUSA.png')\n",
    "plt.show()"
   ]
  },
  {
   "cell_type": "code",
   "execution_count": 84,
   "id": "6ee9fef2",
   "metadata": {},
   "outputs": [
    {
     "data": {
      "image/png": "[encoded data removed]",
      "text/plain": [
       "<Figure size 1200x4000 with 1 Axes>"
      ]
     },
     "metadata": {},
     "output_type": "display_data"
    }
   ],
   "source": [
    "#grouing it by city and plotting bar plot\n",
    "house=house_value_2017.reset_index()\n",
    "house=house.groupby('City').mean()\n",
    "\n",
    "#choosing only random 50 sample\n",
    "house_sample=house.sample(n=25)\n",
    "house_sample.plot(kind=\"barh\",width=.9,figsize=(15,50))\n",
    "plt.xlabel('House Value')\n",
    "plt.title(\"Actual and Predicted house value using our best model\")\n",
    "plt.show()"
   ]
  },
  {
   "cell_type": "code",
   "execution_count": 85,
   "id": "e64a62a9",
   "metadata": {},
   "outputs": [
    {
     "data": {
      "image/png": "[encoded data removed]",
      "text/plain": [
       "<Figure size 1200x1200 with 1 Axes>"
      ]
     },
     "metadata": {},
     "output_type": "display_data"
    }
   ],
   "source": [
    "#predecting the 2017 best city house value\n",
    "house_best=house.loc[['Roseville', 'Sunnyvale', 'Fremont', 'San Mateo', 'Lancaster'],:]\n",
    "house_best.plot(kind=\"bar\",width=.9,figsize=(15,15))\n",
    "plt.ylabel('House Value')\n",
    "plt.title(\"Actual and Predicted house value of 2017 best city using our best model\")\n",
    "plt.savefig('figures/modelbestcity.png')\n",
    "plt.show()"
   ]
  },
  {
   "cell_type": "markdown",
   "id": "ce51b519",
   "metadata": {},
   "source": [
    "## Conclusions"
   ]
  },
  {
   "cell_type": "markdown",
   "id": "a486f3c0",
   "metadata": {},
   "source": [
    "Our model suscefully predict the housing value of unseen data from 2017 Census with an prediction error of around $27,000"
   ]
  }
 ],
 "metadata": {
  "kernelspec": {
   "display_name": "Python 3 (ipykernel)",
   "language": "python",
   "name": "python3"
  },
  "language_info": {
   "codemirror_mode": {
    "name": "ipython",
    "version": 3
   },
   "file_extension": ".py",
   "mimetype": "text/x-python",
   "name": "python",
   "nbconvert_exporter": "python",
   "pygments_lexer": "ipython3",
   "version": "3.8.10"
  }
 },
 "nbformat": 4,
 "nbformat_minor": 5
}
