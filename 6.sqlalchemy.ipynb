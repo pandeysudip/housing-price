{
 "cells": [
  {
   "cell_type": "markdown",
   "metadata": {},
   "source": [
    "# Using SQLAlchemy"
   ]
  },
  {
   "cell_type": "code",
   "execution_count": 1,
   "metadata": {},
   "outputs": [],
   "source": [
    "import sqlalchemy as db\n",
    "import pandas as pd\n",
    "import os\n",
    "import csv\n",
    "import seaborn as sns\n",
    "import matplotlib.pyplot as plt"
   ]
  },
  {
   "cell_type": "markdown",
   "metadata": {},
   "source": [
    "## Connecting to database"
   ]
  },
  {
   "cell_type": "code",
   "execution_count": 2,
   "metadata": {},
   "outputs": [],
   "source": [
    "# connecting to database sql_challenge created in postgresql\n",
    "engine = db.create_engine('postgresql://localhost:5432/housing-price')\n",
    "connection = engine.connect()\n",
    "metadata = db.MetaData()"
   ]
  },
  {
   "cell_type": "code",
   "execution_count": 3,
   "metadata": {},
   "outputs": [
    {
     "name": "stderr",
     "output_type": "stream",
     "text": [
      "/var/folders/ld/_spx9cwj74z4zm921xp1zssh0000gn/T/ipykernel_52417/3558990862.py:2: SADeprecationWarning: The Engine.table_names() method is deprecated and will be removed in a future release.  Please refer to Inspector.get_table_names(). (deprecated since: 1.4)\n",
      "  engine.table_names()\n"
     ]
    },
    {
     "data": {
      "text/plain": [
       "['data_2017', 'prediction', 'data_2019']"
      ]
     },
     "execution_count": 3,
     "metadata": {},
     "output_type": "execute_result"
    }
   ],
   "source": [
    "#to find all the tables for the database (it should be empty)\n",
    "engine.table_names()"
   ]
  },
  {
   "cell_type": "markdown",
   "metadata": {},
   "source": [
    "## used to_sql to insert data "
   ]
  },
  {
   "cell_type": "code",
   "execution_count": 4,
   "metadata": {},
   "outputs": [],
   "source": [
    "# path of cleaned csv files\n",
    "path_2019=os.path.join('output_census', 'usa_2019_ml.csv')\n",
    "path_2017=os.path.join('output_census', 'usa_2017_ml.csv')\n",
    "path_predict=os.path.join('output_census', 'predict.csv')"
   ]
  },
  {
   "cell_type": "code",
   "execution_count": 5,
   "metadata": {},
   "outputs": [],
   "source": [
    "#For table train\n",
    "\n",
    "\n",
    "with open(path_2019, 'r') as train:\n",
    "    data_2019 = pd.read_csv(train)\n",
    "data_2019.to_sql('data_2019', con=engine, index=False, if_exists='replace')\n",
    "\n",
    "\n",
    "\n",
    "\n",
    "with open(path_2017, 'r') as test:\n",
    "    data_2017 = pd.read_csv(test)\n",
    "data_2017.to_sql('data_2017', con=engine, index=False, if_exists='replace')\n",
    "\n",
    "\n",
    "\n",
    "\n",
    "with open(path_predict, 'r') as pred:\n",
    "    prediction = pd.read_csv(pred)\n",
    "prediction.to_sql('prediction', con=engine, index=False, if_exists='replace')\n",
    "\n",
    "\n"
   ]
  },
  {
   "cell_type": "code",
   "execution_count": 6,
   "metadata": {},
   "outputs": [],
   "source": [
    "#getting the tables from database\n",
    "data_2019 = db.Table('data_2019', metadata, autoload=True, autoload_with=engine)\n",
    "data_2017 = db.Table('data_2017', metadata, autoload=True, autoload_with=engine)\n",
    "prediction = db.Table('prediction', metadata, autoload=True, autoload_with=engine)\n",
    "\n"
   ]
  },
  {
   "cell_type": "code",
   "execution_count": 7,
   "metadata": {},
   "outputs": [
    {
     "data": {
      "text/plain": [
       "['Population',\n",
       " 'Median Age',\n",
       " 'Household Income',\n",
       " 'Per Capita Income',\n",
       " 'Poverty Rate',\n",
       " 'Unemployment Rate',\n",
       " 'House Value',\n",
       " 'House Construction Year',\n",
       " 'Monthly Owner Cost',\n",
       " 'Monthly Rent',\n",
       " 'Public Transport Rate',\n",
       " 'Personal Transport Rate',\n",
       " 'High School Rate',\n",
       " 'College Rate',\n",
       " 'Uneducated Rate',\n",
       " 'White Population Rate',\n",
       " 'Black Population Rate',\n",
       " 'Hispanic Population Rate',\n",
       " 'Asian Population Rate',\n",
       " 'City',\n",
       " 'Lat',\n",
       " 'Lng',\n",
       " 'Housing_units']"
      ]
     },
     "execution_count": 7,
     "metadata": {},
     "output_type": "execute_result"
    }
   ],
   "source": [
    "# columns of census table\n",
    "data_2019.c.keys()"
   ]
  },
  {
   "cell_type": "code",
   "execution_count": 13,
   "metadata": {},
   "outputs": [
    {
     "data": {
      "text/plain": [
       "<sqlalchemy.engine.cursor.LegacyCursorResult at 0x7fb91acf32e0>"
      ]
     },
     "execution_count": 13,
     "metadata": {},
     "output_type": "execute_result"
    }
   ],
   "source": [
    "#adding primary key\n",
    "connection.execute('alter table data_2019 add id serial primary key')\n",
    "connection.execute('alter table data_2017 add id serial primary key')\n",
    "connection.execute('alter table prediction add id serial primary key')\n"
   ]
  },
  {
   "cell_type": "code",
   "execution_count": null,
   "metadata": {},
   "outputs": [],
   "source": []
  },
  {
   "cell_type": "markdown",
   "metadata": {},
   "source": [
    "# Using SQLAlchemy ORM"
   ]
  },
  {
   "cell_type": "markdown",
   "metadata": {},
   "source": [
    "# Reflect Tables into SQLAlchemy ORM"
   ]
  },
  {
   "cell_type": "code",
   "execution_count": 8,
   "metadata": {},
   "outputs": [],
   "source": [
    "# Python SQL toolkit and Object Relational Mapper\n",
    "from sqlalchemy.ext.automap import automap_base\n",
    "from sqlalchemy.orm import Session\n",
    "from sqlalchemy import create_engine, func, inspect, and_, or_"
   ]
  },
  {
   "cell_type": "code",
   "execution_count": 9,
   "metadata": {},
   "outputs": [],
   "source": [
    "# create engine to hawaii.sqlite\n",
    "engine = create_engine('postgresql://localhost:5432/housing-price')\n",
    "conn=engine.connect()"
   ]
  },
  {
   "cell_type": "code",
   "execution_count": 10,
   "metadata": {},
   "outputs": [
    {
     "data": {
      "text/plain": [
       "['data_2019', 'data_2017', 'prediction']"
      ]
     },
     "execution_count": 10,
     "metadata": {},
     "output_type": "execute_result"
    }
   ],
   "source": [
    "# Use the Inspector to explore the database and print the table names\n",
    "inspector=inspect(engine)\n",
    "inspector.get_table_names()"
   ]
  },
  {
   "cell_type": "code",
   "execution_count": 14,
   "metadata": {},
   "outputs": [],
   "source": [
    "# reflect an existing database into a new model\n",
    "Base = automap_base()\n",
    "Base.prepare(engine, reflect=True)"
   ]
  },
  {
   "cell_type": "code",
   "execution_count": 15,
   "metadata": {},
   "outputs": [
    {
     "data": {
      "text/plain": [
       "['prediction', 'data_2019', 'data_2017']"
      ]
     },
     "execution_count": 15,
     "metadata": {},
     "output_type": "execute_result"
    }
   ],
   "source": [
    "# View all of the classes that automap found\n",
    "Base.classes.keys()"
   ]
  },
  {
   "cell_type": "code",
   "execution_count": 16,
   "metadata": {},
   "outputs": [],
   "source": [
    "# Save references to each table\n",
    "data_2019 = Base.classes.data_2019\n",
    "data_2017 = Base.classes.data_2017\n",
    "prediction=Base.classes.prediction\n"
   ]
  },
  {
   "cell_type": "code",
   "execution_count": 17,
   "metadata": {},
   "outputs": [],
   "source": [
    "# Create our session (link) from Python to the DB\n",
    "session = Session(engine)"
   ]
  },
  {
   "cell_type": "markdown",
   "metadata": {},
   "source": [
    "# Exploring election table"
   ]
  },
  {
   "cell_type": "code",
   "execution_count": 19,
   "metadata": {},
   "outputs": [
    {
     "data": {
      "text/html": [
       "<div>\n",
       "<style scoped>\n",
       "    .dataframe tbody tr th:only-of-type {\n",
       "        vertical-align: middle;\n",
       "    }\n",
       "\n",
       "    .dataframe tbody tr th {\n",
       "        vertical-align: top;\n",
       "    }\n",
       "\n",
       "    .dataframe thead th {\n",
       "        text-align: right;\n",
       "    }\n",
       "</style>\n",
       "<table border=\"1\" class=\"dataframe\">\n",
       "  <thead>\n",
       "    <tr style=\"text-align: right;\">\n",
       "      <th></th>\n",
       "      <th>City</th>\n",
       "      <th>ActualHouseValue</th>\n",
       "      <th>RandomForestPredictedHouseValue</th>\n",
       "      <th>Lat</th>\n",
       "      <th>Lng</th>\n",
       "      <th>id</th>\n",
       "    </tr>\n",
       "  </thead>\n",
       "  <tbody>\n",
       "    <tr>\n",
       "      <th>0</th>\n",
       "      <td>Aguada</td>\n",
       "      <td>87300.0</td>\n",
       "      <td>96204.0</td>\n",
       "      <td>18.36</td>\n",
       "      <td>-67.18</td>\n",
       "      <td>1</td>\n",
       "    </tr>\n",
       "    <tr>\n",
       "      <th>1</th>\n",
       "      <td>Aguadilla</td>\n",
       "      <td>122300.0</td>\n",
       "      <td>112118.0</td>\n",
       "      <td>18.45</td>\n",
       "      <td>-67.11</td>\n",
       "      <td>2</td>\n",
       "    </tr>\n",
       "    <tr>\n",
       "      <th>2</th>\n",
       "      <td>Maricao</td>\n",
       "      <td>92700.0</td>\n",
       "      <td>86649.0</td>\n",
       "      <td>18.20</td>\n",
       "      <td>-66.90</td>\n",
       "      <td>3</td>\n",
       "    </tr>\n",
       "    <tr>\n",
       "      <th>3</th>\n",
       "      <td>Anasco</td>\n",
       "      <td>90300.0</td>\n",
       "      <td>92350.0</td>\n",
       "      <td>18.28</td>\n",
       "      <td>-67.13</td>\n",
       "      <td>4</td>\n",
       "    </tr>\n",
       "    <tr>\n",
       "      <th>4</th>\n",
       "      <td>Arecibo</td>\n",
       "      <td>97300.0</td>\n",
       "      <td>103016.0</td>\n",
       "      <td>18.40</td>\n",
       "      <td>-66.68</td>\n",
       "      <td>5</td>\n",
       "    </tr>\n",
       "  </tbody>\n",
       "</table>\n",
       "</div>"
      ],
      "text/plain": [
       "        City  ActualHouseValue  RandomForestPredictedHouseValue    Lat    Lng  \\\n",
       "0     Aguada           87300.0                          96204.0  18.36 -67.18   \n",
       "1  Aguadilla          122300.0                         112118.0  18.45 -67.11   \n",
       "2    Maricao           92700.0                          86649.0  18.20 -66.90   \n",
       "3     Anasco           90300.0                          92350.0  18.28 -67.13   \n",
       "4    Arecibo           97300.0                         103016.0  18.40 -66.68   \n",
       "\n",
       "   id  \n",
       "0   1  \n",
       "1   2  \n",
       "2   3  \n",
       "3   4  \n",
       "4   5  "
      ]
     },
     "execution_count": 19,
     "metadata": {},
     "output_type": "execute_result"
    }
   ],
   "source": [
    "#using pd.read_sql to select and display (also able to see columns name)\n",
    "df_election=pd.read_sql(\"SELECT * FROM prediction\", conn)\n",
    "\n",
    "df_election.head()"
   ]
  },
  {
   "cell_type": "code",
   "execution_count": null,
   "metadata": {},
   "outputs": [],
   "source": []
  },
  {
   "cell_type": "code",
   "execution_count": null,
   "metadata": {},
   "outputs": [],
   "source": []
  },
  {
   "cell_type": "code",
   "execution_count": null,
   "metadata": {},
   "outputs": [],
   "source": []
  },
  {
   "cell_type": "code",
   "execution_count": null,
   "metadata": {},
   "outputs": [],
   "source": []
  },
  {
   "cell_type": "code",
   "execution_count": null,
   "metadata": {},
   "outputs": [],
   "source": []
  },
  {
   "cell_type": "markdown",
   "metadata": {},
   "source": [
    "# Close session"
   ]
  },
  {
   "cell_type": "code",
   "execution_count": null,
   "metadata": {},
   "outputs": [],
   "source": [
    "# Close Session\n",
    "session.close()"
   ]
  }
 ],
 "metadata": {
  "kernelspec": {
   "display_name": "Python 3 (ipykernel)",
   "language": "python",
   "name": "python3"
  },
  "language_info": {
   "codemirror_mode": {
    "name": "ipython",
    "version": 3
   },
   "file_extension": ".py",
   "mimetype": "text/x-python",
   "name": "python",
   "nbconvert_exporter": "python",
   "pygments_lexer": "ipython3",
   "version": "3.8.10"
  },
  "metadata": {
   "interpreter": {
    "hash": "082e9a3bcad0a290d0001e938aa60b99250c6c2ef33a923c00b70f9826caf4b7"
   }
  }
 },
 "nbformat": 4,
 "nbformat_minor": 4
}
